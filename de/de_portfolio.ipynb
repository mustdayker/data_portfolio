{
 "cells": [
  {
   "cell_type": "markdown",
   "id": "9b6e7c7c",
   "metadata": {},
   "source": [
    "# Портфолио Data Engineer\n",
    " \n",
    "Проекты выполненные в рамках курса **Data Engineer** на **Яндекс.Практикум**\n",
    "\n",
    "## Модуль 1: Анализ и предобработка данных\n",
    "\n",
    "Название проекта|Задачи проекта|Цели проекта\n",
    "-|-|-\n",
    "Музыка больших городов [**ipynb**](https://github.com/mustdayker/data_portfolio/blob/main/ipynb/s_01_project_music_big_city.ipynb)/[**pdf**](https://github.com/mustdayker/data_portfolio/blob/main/pdf/s_01_project_music_big_city.pdf)|Проверить гипотезы о музыкальных предпочтениях в разных городах. | Первое знакомство с инструментарием Python для анализа данных. **`pandas`**"
   ]
  },
  {
   "cell_type": "code",
   "execution_count": null,
   "id": "8d593782",
   "metadata": {},
   "outputs": [],
   "source": []
  }
 ],
 "metadata": {
  "kernelspec": {
   "display_name": "Python 3 (ipykernel)",
   "language": "python",
   "name": "python3"
  },
  "language_info": {
   "codemirror_mode": {
    "name": "ipython",
    "version": 3
   },
   "file_extension": ".py",
   "mimetype": "text/x-python",
   "name": "python",
   "nbconvert_exporter": "python",
   "pygments_lexer": "ipython3",
   "version": "3.9.12"
  }
 },
 "nbformat": 4,
 "nbformat_minor": 5
}
