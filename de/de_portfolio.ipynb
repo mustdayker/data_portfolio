{
 "cells": [
  {
   "cell_type": "markdown",
   "id": "0c75629d",
   "metadata": {},
   "source": [
    "# Портфолио Data Engineer\n",
    " \n",
    "Проекты выполненные в рамках курса **Data Engineer** в **Яндекс.Практикум**\n",
    "\n",
    "Ссылка на PDF|Задачи проекта|Стек технологий\n",
    "-|-|-\n",
    "[**Yandex Cloud**](https://github.com/mustdayker/data_portfolio/blob/main/de/pdf/s_09_project_yandex_cloud.pdf)|Спроектировать и построить `DWH` с использованием облачных технологий. | **`PostgreSQL`, `Redis`, `Apache Kafka`, `Kubernetes`, `Yandex Container Registry`, `Docker`**"
   ]
  }
 ],
 "metadata": {
  "kernelspec": {
   "display_name": "Python 3 (ipykernel)",
   "language": "python",
   "name": "python3"
  },
  "language_info": {
   "codemirror_mode": {
    "name": "ipython",
    "version": 3
   },
   "file_extension": ".py",
   "mimetype": "text/x-python",
   "name": "python",
   "nbconvert_exporter": "python",
   "pygments_lexer": "ipython3",
   "version": "3.9.12"
  }
 },
 "nbformat": 4,
 "nbformat_minor": 5
}
