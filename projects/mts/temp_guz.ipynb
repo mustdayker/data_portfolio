{
 "cells": [
  {
   "cell_type": "markdown",
   "id": "e6c957f5",
   "metadata": {},
   "source": [
    "# Проект по реализации невостребованного оборудования"
   ]
  },
  {
   "cell_type": "markdown",
   "id": "6d9d75b3",
   "metadata": {},
   "source": [
    "---"
   ]
  },
  {
   "cell_type": "markdown",
   "id": "e321e58a",
   "metadata": {},
   "source": [
    "## Исходная проблема\n",
    "- Медленный сбор информации\n",
    "- Плохая наблюдаемость ситуации\n",
    "- Отсутствие алгоритма на период санкций"
   ]
  },
  {
   "cell_type": "markdown",
   "id": "fbc53536",
   "metadata": {},
   "source": [
    "## Решение\n",
    "- Автоматизация сбора из `OEBS` и `1С` на `Python`\n",
    "- Нормализация данных, обогащение информации, создание витрин и дашбордов на основе этих витрин. \n",
    "- Разработка регламента процесса с учетом санкционных ограничений"
   ]
  },
  {
   "cell_type": "markdown",
   "id": "f8843c3f",
   "metadata": {},
   "source": [
    "## Что получилось"
   ]
  },
  {
   "cell_type": "markdown",
   "id": "297c5d77",
   "metadata": {},
   "source": [
    "<img src=\"data/guz_diag_to_be.png\" width=\"100%\" style=\"display: block; margin: auto;\">"
   ]
  }
 ],
 "metadata": {
  "kernelspec": {
   "display_name": "Python 3 (ipykernel)",
   "language": "python",
   "name": "python3"
  },
  "language_info": {
   "codemirror_mode": {
    "name": "ipython",
    "version": 3
   },
   "file_extension": ".py",
   "mimetype": "text/x-python",
   "name": "python",
   "nbconvert_exporter": "python",
   "pygments_lexer": "ipython3",
   "version": "3.9.12"
  }
 },
 "nbformat": 4,
 "nbformat_minor": 5
}
