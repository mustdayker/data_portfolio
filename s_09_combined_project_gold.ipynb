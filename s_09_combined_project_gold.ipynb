{
 "cells": [
  {
   "cell_type": "markdown",
   "metadata": {},
   "source": [
    "<a id='head'></a>\n",
    "\n",
    "# Восстановление золота из руды"
   ]
  },
  {
   "cell_type": "markdown",
   "metadata": {},
   "source": [
    "## Оглавление\n",
    " \n",
    "- [**Введение**](#intro)\n",
    "    - [Входные данные](#input_data)\n",
    "    - [Описание проекта](#purpose)\n",
    "    - [Ход исследования](#progress)\n",
    "    \n",
    "- [**1. Обзор данных и импорт библиотек**](#part_1)\n",
    "    - [1.1 Импорт библиотек и датасета](#part_1_1)\n",
    "    - [1.2 Обзор данных](#part_1_2)\n",
    "    - [1.3 Проверка правильности расчета эффективности обогащения](#part_1_3)\n",
    "    - [1.4 Анализ признаков недоступный в тестовой выборке](#part_1_4)\n",
    "\n",
    "- [**2. Подготовка данных**](#part_2)\n",
    "    - [2.1 Предобработка](#part_2_1)\n",
    "\n",
    "- [**3. Анализ данных**](#part_3)\n",
    "    - [3.1 Концентрация металлов на различных этапах очистки](#part_3_1)\n",
    "    - [3.2 Распределения размеров гранул сырья на обучающей и тестовой выборках](#part_3_2)\n",
    "    - [3.3 Исследование суммарной концентрации всех веществ на разных стадиях](#part_3_3)\n",
    "\n",
    "- [**4. Модель**](#part_4)\n",
    "    - [4.1 Функця для вычисления итоговой sMAPE](#part_4_1)\n",
    "    - [4.2 Масштабирование признаков и разбивка на выборки](#part_4_2)\n",
    "    - [4.3 Выбор модели - Линейная регрессия](#part_4_3)\n",
    "    - [4.4 Выбор модели - Дерево решений](#part_4_4)\n",
    "    - [4.5 Выбор модели - Случайный лес](#part_4_5)\n",
    "    - [4.6 Проверка sMAPE на тестовой выборке](#part_4_6)\n",
    "    - [Выводы](#part_4_conclusions)\n",
    "\n",
    "- [Чек лист](#check_list)"
   ]
  },
  {
   "cell_type": "markdown",
   "metadata": {},
   "source": [
    "<a id='intro'></a>\n",
    "## Введение"
   ]
  },
  {
   "cell_type": "markdown",
   "metadata": {},
   "source": [
    "Подготовьте прототип модели машинного обучения для «Цифры». Компания разрабатывает решения для эффективной работы промышленных предприятий.\n",
    "\n",
    "Модель должна предсказать коэффициент восстановления золота из золотосодержащей руды. Используйте данные с параметрами добычи и очистки. \n",
    "\n",
    "Модель поможет оптимизировать производство, чтобы не запускать предприятие с убыточными характеристиками.\n",
    "\n",
    "Вам нужно:\n",
    "\n",
    "1. Подготовить данные;\n",
    "2. Провести исследовательский анализ данных;\n",
    "3. Построить и обучить модель.\n",
    "\n",
    "Чтобы выполнить проект, обращайтесь к библиотекам **`pandas`**, **`matplotlib`** и **`sklearn`** Вам поможет их документация."
   ]
  },
  {
   "cell_type": "markdown",
   "metadata": {},
   "source": [
    "<a id='input_data'></a>\n",
    "### Входные данные [▴](#head)"
   ]
  },
  {
   "cell_type": "markdown",
   "metadata": {},
   "source": [
    "**Технологический процесс**\n",
    "- **`Rougher feed`** — исходное сырье\n",
    "- **`Rougher additions`** (или **`reagent additions`**) — флотационные реагенты: `Xanthate`, `Sulphate`, `Depressant`\n",
    "    - **`Xanthate`** — ксантогенат (промотер, или активатор флотации);\n",
    "    - **`Sulfate`** — сульфат (на данном производстве сульфид натрия);\n",
    "    - **`Depressant`** — депрессант (силикат натрия).\n",
    "- **`Rougher process`** (англ. «грубый процесс») — флотация\n",
    "- **`Rougher tails`** — отвальные хвосты\n",
    "- **`Float banks`** — флотационная установка\n",
    "- **`Cleaner process`** — очистка\n",
    "- **`Rougher Au`** — черновой концентрат золота\n",
    "- **`Final Au`** — финальный концентрат золота\n",
    "\n",
    "**Параметры этапов**\n",
    "- **`air amount`** — объём воздуха\n",
    "- **`fluid levels`** — уровень жидкости\n",
    "- **`feed size`** — размер гранул сырья\n",
    "- **`feed rate`** — скорость подачи\n",
    "\n",
    "**Наименование признаков**\n",
    "- `этап.тип_параметра.название_параметра`\n",
    "- `rougher.input.feed_ag` - Пример\n",
    "\n",
    "**Возможные значения для блока `этап`:**\n",
    "- **`rougher`** — флотация\n",
    "- **`primary_cleaner`** — первичная очистка\n",
    "- **`secondary_cleaner`** — вторичная очистка\n",
    "- **`final`** — финальные характеристики\n",
    "\n",
    "**Возможные значения для блока `тип_параметра`:**\n",
    "- **`input`** — параметры сырья\n",
    "- **`output`** — параметры продукта\n",
    "- **`state`** — параметры, характеризующие текущее состояние этапа\n",
    "- **`calculation`** — расчётные характеристики\n"
   ]
  },
  {
   "cell_type": "markdown",
   "metadata": {},
   "source": [
    "<a id='purpose'></a>\n",
    "### Описание проекта [▴](#head)"
   ]
  },
  {
   "cell_type": "markdown",
   "metadata": {},
   "source": [
    "Данные находятся в трёх файлах:\n",
    "- `gold_recovery_train_new.csv` — обучающая выборка;\n",
    "- `gold_recovery_test_new.csv` — тестовая выборка;\n",
    "- `gold_recovery_full_new.csv` — исходные данные.\n",
    "\n",
    "Данные индексируются датой и временем получения информации (признак `date`). Соседние по времени параметры часто похожи.\n",
    "\n",
    "Некоторые параметры недоступны, потому что замеряются и/или рассчитываются значительно позже. Из-за этого в `тестовой` выборке отсутствуют некоторые признаки, которые могут быть в обучающей. Также в `тестовом` наборе нет целевых признаков.\n",
    "\n",
    "`Исходный датасет` содержит `обучающую` и `тестовую` выборки со всеми признаками.\n",
    "В вашем распоряжении сырые данные: их просто выгрузили из хранилища. Прежде чем приступить к построению модели, проверьте по нашей инструкции их на корректность."
   ]
  },
  {
   "cell_type": "markdown",
   "metadata": {},
   "source": [
    "<a id='progress'></a>\n",
    "### Ход исследования [▴](#head)"
   ]
  },
  {
   "cell_type": "markdown",
   "metadata": {},
   "source": [
    "1. **Подготовьте данные**\n",
    "    - Откройте файлы и изучите их.\n",
    "    - Проверьте, что эффективность обогащения рассчитана правильно. Вычислите её на обучающей выборке для признака `rougher.output.recovery`. Найдите `MAE` между вашими расчётами и значением признака. Опишите выводы.\n",
    "    - Проанализируйте признаки, недоступные в тестовой выборке. Что это за параметры? К какому типу относятся?\n",
    "    - Проведите предобработку данных.\n",
    "\n",
    "\n",
    "2. **Проанализируйте данные**\n",
    "    - Посмотрите, как меняется концентрация металлов (`Au`, `Ag`, `Pb`) на различных этапах очистки. Опишите выводы.\n",
    "    - Сравните распределения размеров гранул сырья на обучающей и тестовой выборках. Если распределения сильно отличаются друг от друга, оценка модели будет неправильной.\n",
    "    - Исследуйте суммарную концентрацию всех веществ на разных стадиях: в сырье, в черновом и финальном концентратах.\n",
    "\n",
    "\n",
    "3. **Постройте модель**\n",
    "    - Напишите функцию для вычисления итоговой `sMAPE`.\n",
    "    - Обучите разные модели и оцените их качество кросс-валидацией. Выберите лучшую модель и проверьте её на тестовой выборке. Опишите выводы.\n"
   ]
  },
  {
   "cell_type": "markdown",
   "metadata": {},
   "source": [
    "<a id='part_1'></a>\n",
    "## 1. Обзор данных и импорт библиотек"
   ]
  },
  {
   "cell_type": "markdown",
   "metadata": {},
   "source": [
    "<a id='part_1_1'></a>\n",
    "### 1.1 Импорт библиотек и датасета [▴](#head)"
   ]
  },
  {
   "cell_type": "code",
   "execution_count": 1,
   "metadata": {},
   "outputs": [],
   "source": [
    "import numpy as np\n",
    "import pandas as pd\n",
    "import matplotlib.pyplot as plt\n",
    "\n",
    "from sklearn.tree import DecisionTreeRegressor\n",
    "from sklearn.dummy import DummyRegressor\n",
    "from sklearn.metrics import make_scorer\n",
    "from sklearn.ensemble import RandomForestRegressor\n",
    "from sklearn.linear_model import LinearRegression\n",
    "from sklearn.preprocessing import StandardScaler\n",
    "from sklearn.model_selection import GridSearchCV\n",
    "from sklearn.model_selection import cross_val_score"
   ]
  },
  {
   "cell_type": "markdown",
   "metadata": {},
   "source": [
    "**Установка параметров:**"
   ]
  },
  {
   "cell_type": "code",
   "execution_count": 2,
   "metadata": {},
   "outputs": [],
   "source": [
    "plt.rcParams.update({'font.size':15}) # зададим размер шрифта по умолчанию для графиков"
   ]
  },
  {
   "cell_type": "markdown",
   "metadata": {},
   "source": [
    "**Импорт данных**\n",
    "\n",
    "Так как столбец `data` содержит уникальные значения измерений, а так же является идентичным на все 3 датасета, будем использовать его как `индекс`, это упростит нам сопоставление таблиц."
   ]
  },
  {
   "cell_type": "code",
   "execution_count": 3,
   "metadata": {},
   "outputs": [],
   "source": [
    "# для того чтобы код работал локально и на Практикуме применим конструкцию try-except\n",
    "\n",
    "try: # для Практикума\n",
    "    gr_full = pd.read_csv('/datasets/gold_recovery_full_new.csv', index_col='date')\n",
    "    gr_train = pd.read_csv('/datasets/gold_recovery_train_new.csv', index_col='date')\n",
    "    gr_test = pd.read_csv('/datasets/gold_recovery_test_new.csv', index_col='date')\n",
    "    \n",
    "except: # локально\n",
    "    gr_full = pd.read_csv('datasets/gold_recovery_full_new.csv', index_col='date')\n",
    "    gr_train = pd.read_csv('datasets/gold_recovery_train_new.csv', index_col='date')\n",
    "    gr_test = pd.read_csv('datasets/gold_recovery_test_new.csv', index_col='date')"
   ]
  },
  {
   "cell_type": "code",
   "execution_count": 4,
   "metadata": {},
   "outputs": [],
   "source": [
    "gr_full.name = 'gold_recovery_full'\n",
    "gr_train.name = 'gold_recovery_train'\n",
    "gr_test.name = 'gold_recovery_test'"
   ]
  },
  {
   "cell_type": "markdown",
   "metadata": {},
   "source": [
    "<a id='part_1_2'></a>\n",
    "### 1.2 Обзор данных [▴](#head)"
   ]
  },
  {
   "cell_type": "markdown",
   "metadata": {},
   "source": [
    "Для обзора данных используем заранее заготовленную функцию:"
   ]
  },
  {
   "cell_type": "code",
   "execution_count": 5,
   "metadata": {},
   "outputs": [],
   "source": [
    "def overview(o_df):\n",
    "    print(o_df.name)\n",
    "    \n",
    "    print('\\nОбщий вид')\n",
    "    display(o_df.head())\n",
    "    \n",
    "    print('\\n.info()\\n')\n",
    "    print(o_df.info())\n",
    "    \n",
    "    print(f'\\nКоличество полных дубликатов: {o_df.duplicated().sum()} шт.')\n",
    "    print(f'Общее количество пропусков во всем датафрейме: {o_df.isna().sum().sum()} шт.') \n",
    "    print(f'Доля пропусков: {o_df.isna().sum().sum() / (o_df.shape[0] * o_df.shape[1]):.2%}\\n\\n')"
   ]
  },
  {
   "cell_type": "code",
   "execution_count": 6,
   "metadata": {
    "scrolled": false
   },
   "outputs": [
    {
     "name": "stdout",
     "output_type": "stream",
     "text": [
      "gold_recovery_full\n",
      "\n",
      "Общий вид\n"
     ]
    },
    {
     "data": {
      "text/html": [
       "<div>\n",
       "<style scoped>\n",
       "    .dataframe tbody tr th:only-of-type {\n",
       "        vertical-align: middle;\n",
       "    }\n",
       "\n",
       "    .dataframe tbody tr th {\n",
       "        vertical-align: top;\n",
       "    }\n",
       "\n",
       "    .dataframe thead th {\n",
       "        text-align: right;\n",
       "    }\n",
       "</style>\n",
       "<table border=\"1\" class=\"dataframe\">\n",
       "  <thead>\n",
       "    <tr style=\"text-align: right;\">\n",
       "      <th></th>\n",
       "      <th>final.output.concentrate_ag</th>\n",
       "      <th>final.output.concentrate_pb</th>\n",
       "      <th>final.output.concentrate_sol</th>\n",
       "      <th>final.output.concentrate_au</th>\n",
       "      <th>final.output.recovery</th>\n",
       "      <th>final.output.tail_ag</th>\n",
       "      <th>final.output.tail_pb</th>\n",
       "      <th>final.output.tail_sol</th>\n",
       "      <th>final.output.tail_au</th>\n",
       "      <th>primary_cleaner.input.sulfate</th>\n",
       "      <th>...</th>\n",
       "      <th>secondary_cleaner.state.floatbank4_a_air</th>\n",
       "      <th>secondary_cleaner.state.floatbank4_a_level</th>\n",
       "      <th>secondary_cleaner.state.floatbank4_b_air</th>\n",
       "      <th>secondary_cleaner.state.floatbank4_b_level</th>\n",
       "      <th>secondary_cleaner.state.floatbank5_a_air</th>\n",
       "      <th>secondary_cleaner.state.floatbank5_a_level</th>\n",
       "      <th>secondary_cleaner.state.floatbank5_b_air</th>\n",
       "      <th>secondary_cleaner.state.floatbank5_b_level</th>\n",
       "      <th>secondary_cleaner.state.floatbank6_a_air</th>\n",
       "      <th>secondary_cleaner.state.floatbank6_a_level</th>\n",
       "    </tr>\n",
       "    <tr>\n",
       "      <th>date</th>\n",
       "      <th></th>\n",
       "      <th></th>\n",
       "      <th></th>\n",
       "      <th></th>\n",
       "      <th></th>\n",
       "      <th></th>\n",
       "      <th></th>\n",
       "      <th></th>\n",
       "      <th></th>\n",
       "      <th></th>\n",
       "      <th></th>\n",
       "      <th></th>\n",
       "      <th></th>\n",
       "      <th></th>\n",
       "      <th></th>\n",
       "      <th></th>\n",
       "      <th></th>\n",
       "      <th></th>\n",
       "      <th></th>\n",
       "      <th></th>\n",
       "      <th></th>\n",
       "    </tr>\n",
       "  </thead>\n",
       "  <tbody>\n",
       "    <tr>\n",
       "      <th>2016-01-15 00:00:00</th>\n",
       "      <td>6.055403</td>\n",
       "      <td>9.889648</td>\n",
       "      <td>5.507324</td>\n",
       "      <td>42.192020</td>\n",
       "      <td>70.541216</td>\n",
       "      <td>10.411962</td>\n",
       "      <td>0.895447</td>\n",
       "      <td>16.904297</td>\n",
       "      <td>2.143149</td>\n",
       "      <td>127.092003</td>\n",
       "      <td>...</td>\n",
       "      <td>14.016835</td>\n",
       "      <td>-502.488007</td>\n",
       "      <td>12.099931</td>\n",
       "      <td>-504.715942</td>\n",
       "      <td>9.925633</td>\n",
       "      <td>-498.310211</td>\n",
       "      <td>8.079666</td>\n",
       "      <td>-500.470978</td>\n",
       "      <td>14.151341</td>\n",
       "      <td>-605.841980</td>\n",
       "    </tr>\n",
       "    <tr>\n",
       "      <th>2016-01-15 01:00:00</th>\n",
       "      <td>6.029369</td>\n",
       "      <td>9.968944</td>\n",
       "      <td>5.257781</td>\n",
       "      <td>42.701629</td>\n",
       "      <td>69.266198</td>\n",
       "      <td>10.462676</td>\n",
       "      <td>0.927452</td>\n",
       "      <td>16.634514</td>\n",
       "      <td>2.224930</td>\n",
       "      <td>125.629232</td>\n",
       "      <td>...</td>\n",
       "      <td>13.992281</td>\n",
       "      <td>-505.503262</td>\n",
       "      <td>11.950531</td>\n",
       "      <td>-501.331529</td>\n",
       "      <td>10.039245</td>\n",
       "      <td>-500.169983</td>\n",
       "      <td>7.984757</td>\n",
       "      <td>-500.582168</td>\n",
       "      <td>13.998353</td>\n",
       "      <td>-599.787184</td>\n",
       "    </tr>\n",
       "    <tr>\n",
       "      <th>2016-01-15 02:00:00</th>\n",
       "      <td>6.055926</td>\n",
       "      <td>10.213995</td>\n",
       "      <td>5.383759</td>\n",
       "      <td>42.657501</td>\n",
       "      <td>68.116445</td>\n",
       "      <td>10.507046</td>\n",
       "      <td>0.953716</td>\n",
       "      <td>16.208849</td>\n",
       "      <td>2.257889</td>\n",
       "      <td>123.819808</td>\n",
       "      <td>...</td>\n",
       "      <td>14.015015</td>\n",
       "      <td>-502.520901</td>\n",
       "      <td>11.912783</td>\n",
       "      <td>-501.133383</td>\n",
       "      <td>10.070913</td>\n",
       "      <td>-500.129135</td>\n",
       "      <td>8.013877</td>\n",
       "      <td>-500.517572</td>\n",
       "      <td>14.028663</td>\n",
       "      <td>-601.427363</td>\n",
       "    </tr>\n",
       "    <tr>\n",
       "      <th>2016-01-15 03:00:00</th>\n",
       "      <td>6.047977</td>\n",
       "      <td>9.977019</td>\n",
       "      <td>4.858634</td>\n",
       "      <td>42.689819</td>\n",
       "      <td>68.347543</td>\n",
       "      <td>10.422762</td>\n",
       "      <td>0.883763</td>\n",
       "      <td>16.532835</td>\n",
       "      <td>2.146849</td>\n",
       "      <td>122.270188</td>\n",
       "      <td>...</td>\n",
       "      <td>14.036510</td>\n",
       "      <td>-500.857308</td>\n",
       "      <td>11.999550</td>\n",
       "      <td>-501.193686</td>\n",
       "      <td>9.970366</td>\n",
       "      <td>-499.201640</td>\n",
       "      <td>7.977324</td>\n",
       "      <td>-500.255908</td>\n",
       "      <td>14.005551</td>\n",
       "      <td>-599.996129</td>\n",
       "    </tr>\n",
       "    <tr>\n",
       "      <th>2016-01-15 04:00:00</th>\n",
       "      <td>6.148599</td>\n",
       "      <td>10.142511</td>\n",
       "      <td>4.939416</td>\n",
       "      <td>42.774141</td>\n",
       "      <td>66.927016</td>\n",
       "      <td>10.360302</td>\n",
       "      <td>0.792826</td>\n",
       "      <td>16.525686</td>\n",
       "      <td>2.055292</td>\n",
       "      <td>117.988169</td>\n",
       "      <td>...</td>\n",
       "      <td>14.027298</td>\n",
       "      <td>-499.838632</td>\n",
       "      <td>11.953070</td>\n",
       "      <td>-501.053894</td>\n",
       "      <td>9.925709</td>\n",
       "      <td>-501.686727</td>\n",
       "      <td>7.894242</td>\n",
       "      <td>-500.356035</td>\n",
       "      <td>13.996647</td>\n",
       "      <td>-601.496691</td>\n",
       "    </tr>\n",
       "  </tbody>\n",
       "</table>\n",
       "<p>5 rows × 86 columns</p>\n",
       "</div>"
      ],
      "text/plain": [
       "                     final.output.concentrate_ag  final.output.concentrate_pb  \\\n",
       "date                                                                            \n",
       "2016-01-15 00:00:00                     6.055403                     9.889648   \n",
       "2016-01-15 01:00:00                     6.029369                     9.968944   \n",
       "2016-01-15 02:00:00                     6.055926                    10.213995   \n",
       "2016-01-15 03:00:00                     6.047977                     9.977019   \n",
       "2016-01-15 04:00:00                     6.148599                    10.142511   \n",
       "\n",
       "                     final.output.concentrate_sol  \\\n",
       "date                                                \n",
       "2016-01-15 00:00:00                      5.507324   \n",
       "2016-01-15 01:00:00                      5.257781   \n",
       "2016-01-15 02:00:00                      5.383759   \n",
       "2016-01-15 03:00:00                      4.858634   \n",
       "2016-01-15 04:00:00                      4.939416   \n",
       "\n",
       "                     final.output.concentrate_au  final.output.recovery  \\\n",
       "date                                                                      \n",
       "2016-01-15 00:00:00                    42.192020              70.541216   \n",
       "2016-01-15 01:00:00                    42.701629              69.266198   \n",
       "2016-01-15 02:00:00                    42.657501              68.116445   \n",
       "2016-01-15 03:00:00                    42.689819              68.347543   \n",
       "2016-01-15 04:00:00                    42.774141              66.927016   \n",
       "\n",
       "                     final.output.tail_ag  final.output.tail_pb  \\\n",
       "date                                                              \n",
       "2016-01-15 00:00:00             10.411962              0.895447   \n",
       "2016-01-15 01:00:00             10.462676              0.927452   \n",
       "2016-01-15 02:00:00             10.507046              0.953716   \n",
       "2016-01-15 03:00:00             10.422762              0.883763   \n",
       "2016-01-15 04:00:00             10.360302              0.792826   \n",
       "\n",
       "                     final.output.tail_sol  final.output.tail_au  \\\n",
       "date                                                               \n",
       "2016-01-15 00:00:00              16.904297              2.143149   \n",
       "2016-01-15 01:00:00              16.634514              2.224930   \n",
       "2016-01-15 02:00:00              16.208849              2.257889   \n",
       "2016-01-15 03:00:00              16.532835              2.146849   \n",
       "2016-01-15 04:00:00              16.525686              2.055292   \n",
       "\n",
       "                     primary_cleaner.input.sulfate  ...  \\\n",
       "date                                                ...   \n",
       "2016-01-15 00:00:00                     127.092003  ...   \n",
       "2016-01-15 01:00:00                     125.629232  ...   \n",
       "2016-01-15 02:00:00                     123.819808  ...   \n",
       "2016-01-15 03:00:00                     122.270188  ...   \n",
       "2016-01-15 04:00:00                     117.988169  ...   \n",
       "\n",
       "                     secondary_cleaner.state.floatbank4_a_air  \\\n",
       "date                                                            \n",
       "2016-01-15 00:00:00                                 14.016835   \n",
       "2016-01-15 01:00:00                                 13.992281   \n",
       "2016-01-15 02:00:00                                 14.015015   \n",
       "2016-01-15 03:00:00                                 14.036510   \n",
       "2016-01-15 04:00:00                                 14.027298   \n",
       "\n",
       "                     secondary_cleaner.state.floatbank4_a_level  \\\n",
       "date                                                              \n",
       "2016-01-15 00:00:00                                 -502.488007   \n",
       "2016-01-15 01:00:00                                 -505.503262   \n",
       "2016-01-15 02:00:00                                 -502.520901   \n",
       "2016-01-15 03:00:00                                 -500.857308   \n",
       "2016-01-15 04:00:00                                 -499.838632   \n",
       "\n",
       "                     secondary_cleaner.state.floatbank4_b_air  \\\n",
       "date                                                            \n",
       "2016-01-15 00:00:00                                 12.099931   \n",
       "2016-01-15 01:00:00                                 11.950531   \n",
       "2016-01-15 02:00:00                                 11.912783   \n",
       "2016-01-15 03:00:00                                 11.999550   \n",
       "2016-01-15 04:00:00                                 11.953070   \n",
       "\n",
       "                     secondary_cleaner.state.floatbank4_b_level  \\\n",
       "date                                                              \n",
       "2016-01-15 00:00:00                                 -504.715942   \n",
       "2016-01-15 01:00:00                                 -501.331529   \n",
       "2016-01-15 02:00:00                                 -501.133383   \n",
       "2016-01-15 03:00:00                                 -501.193686   \n",
       "2016-01-15 04:00:00                                 -501.053894   \n",
       "\n",
       "                     secondary_cleaner.state.floatbank5_a_air  \\\n",
       "date                                                            \n",
       "2016-01-15 00:00:00                                  9.925633   \n",
       "2016-01-15 01:00:00                                 10.039245   \n",
       "2016-01-15 02:00:00                                 10.070913   \n",
       "2016-01-15 03:00:00                                  9.970366   \n",
       "2016-01-15 04:00:00                                  9.925709   \n",
       "\n",
       "                     secondary_cleaner.state.floatbank5_a_level  \\\n",
       "date                                                              \n",
       "2016-01-15 00:00:00                                 -498.310211   \n",
       "2016-01-15 01:00:00                                 -500.169983   \n",
       "2016-01-15 02:00:00                                 -500.129135   \n",
       "2016-01-15 03:00:00                                 -499.201640   \n",
       "2016-01-15 04:00:00                                 -501.686727   \n",
       "\n",
       "                     secondary_cleaner.state.floatbank5_b_air  \\\n",
       "date                                                            \n",
       "2016-01-15 00:00:00                                  8.079666   \n",
       "2016-01-15 01:00:00                                  7.984757   \n",
       "2016-01-15 02:00:00                                  8.013877   \n",
       "2016-01-15 03:00:00                                  7.977324   \n",
       "2016-01-15 04:00:00                                  7.894242   \n",
       "\n",
       "                     secondary_cleaner.state.floatbank5_b_level  \\\n",
       "date                                                              \n",
       "2016-01-15 00:00:00                                 -500.470978   \n",
       "2016-01-15 01:00:00                                 -500.582168   \n",
       "2016-01-15 02:00:00                                 -500.517572   \n",
       "2016-01-15 03:00:00                                 -500.255908   \n",
       "2016-01-15 04:00:00                                 -500.356035   \n",
       "\n",
       "                     secondary_cleaner.state.floatbank6_a_air  \\\n",
       "date                                                            \n",
       "2016-01-15 00:00:00                                 14.151341   \n",
       "2016-01-15 01:00:00                                 13.998353   \n",
       "2016-01-15 02:00:00                                 14.028663   \n",
       "2016-01-15 03:00:00                                 14.005551   \n",
       "2016-01-15 04:00:00                                 13.996647   \n",
       "\n",
       "                     secondary_cleaner.state.floatbank6_a_level  \n",
       "date                                                             \n",
       "2016-01-15 00:00:00                                 -605.841980  \n",
       "2016-01-15 01:00:00                                 -599.787184  \n",
       "2016-01-15 02:00:00                                 -601.427363  \n",
       "2016-01-15 03:00:00                                 -599.996129  \n",
       "2016-01-15 04:00:00                                 -601.496691  \n",
       "\n",
       "[5 rows x 86 columns]"
      ]
     },
     "metadata": {},
     "output_type": "display_data"
    },
    {
     "name": "stdout",
     "output_type": "stream",
     "text": [
      "\n",
      ".info()\n",
      "\n",
      "<class 'pandas.core.frame.DataFrame'>\n",
      "Index: 19439 entries, 2016-01-15 00:00:00 to 2018-08-18 10:59:59\n",
      "Data columns (total 86 columns):\n",
      " #   Column                                              Non-Null Count  Dtype  \n",
      "---  ------                                              --------------  -----  \n",
      " 0   final.output.concentrate_ag                         19438 non-null  float64\n",
      " 1   final.output.concentrate_pb                         19438 non-null  float64\n",
      " 2   final.output.concentrate_sol                        19228 non-null  float64\n",
      " 3   final.output.concentrate_au                         19439 non-null  float64\n",
      " 4   final.output.recovery                               19439 non-null  float64\n",
      " 5   final.output.tail_ag                                19438 non-null  float64\n",
      " 6   final.output.tail_pb                                19338 non-null  float64\n",
      " 7   final.output.tail_sol                               19433 non-null  float64\n",
      " 8   final.output.tail_au                                19439 non-null  float64\n",
      " 9   primary_cleaner.input.sulfate                       19415 non-null  float64\n",
      " 10  primary_cleaner.input.depressant                    19402 non-null  float64\n",
      " 11  primary_cleaner.input.feed_size                     19439 non-null  float64\n",
      " 12  primary_cleaner.input.xanthate                      19335 non-null  float64\n",
      " 13  primary_cleaner.output.concentrate_ag               19439 non-null  float64\n",
      " 14  primary_cleaner.output.concentrate_pb               19323 non-null  float64\n",
      " 15  primary_cleaner.output.concentrate_sol              19069 non-null  float64\n",
      " 16  primary_cleaner.output.concentrate_au               19439 non-null  float64\n",
      " 17  primary_cleaner.output.tail_ag                      19435 non-null  float64\n",
      " 18  primary_cleaner.output.tail_pb                      19418 non-null  float64\n",
      " 19  primary_cleaner.output.tail_sol                     19377 non-null  float64\n",
      " 20  primary_cleaner.output.tail_au                      19439 non-null  float64\n",
      " 21  primary_cleaner.state.floatbank8_a_air              19435 non-null  float64\n",
      " 22  primary_cleaner.state.floatbank8_a_level            19438 non-null  float64\n",
      " 23  primary_cleaner.state.floatbank8_b_air              19435 non-null  float64\n",
      " 24  primary_cleaner.state.floatbank8_b_level            19438 non-null  float64\n",
      " 25  primary_cleaner.state.floatbank8_c_air              19437 non-null  float64\n",
      " 26  primary_cleaner.state.floatbank8_c_level            19438 non-null  float64\n",
      " 27  primary_cleaner.state.floatbank8_d_air              19436 non-null  float64\n",
      " 28  primary_cleaner.state.floatbank8_d_level            19438 non-null  float64\n",
      " 29  rougher.calculation.sulfate_to_au_concentrate       19437 non-null  float64\n",
      " 30  rougher.calculation.floatbank10_sulfate_to_au_feed  19437 non-null  float64\n",
      " 31  rougher.calculation.floatbank11_sulfate_to_au_feed  19437 non-null  float64\n",
      " 32  rougher.calculation.au_pb_ratio                     19439 non-null  float64\n",
      " 33  rougher.input.feed_ag                               19439 non-null  float64\n",
      " 34  rougher.input.feed_pb                               19339 non-null  float64\n",
      " 35  rougher.input.feed_rate                             19428 non-null  float64\n",
      " 36  rougher.input.feed_size                             19294 non-null  float64\n",
      " 37  rougher.input.feed_sol                              19340 non-null  float64\n",
      " 38  rougher.input.feed_au                               19439 non-null  float64\n",
      " 39  rougher.input.floatbank10_sulfate                   19405 non-null  float64\n",
      " 40  rougher.input.floatbank10_xanthate                  19431 non-null  float64\n",
      " 41  rougher.input.floatbank11_sulfate                   19395 non-null  float64\n",
      " 42  rougher.input.floatbank11_xanthate                  18986 non-null  float64\n",
      " 43  rougher.output.concentrate_ag                       19439 non-null  float64\n",
      " 44  rougher.output.concentrate_pb                       19439 non-null  float64\n",
      " 45  rougher.output.concentrate_sol                      19416 non-null  float64\n",
      " 46  rougher.output.concentrate_au                       19439 non-null  float64\n",
      " 47  rougher.output.recovery                             19439 non-null  float64\n",
      " 48  rougher.output.tail_ag                              19438 non-null  float64\n",
      " 49  rougher.output.tail_pb                              19439 non-null  float64\n",
      " 50  rougher.output.tail_sol                             19439 non-null  float64\n",
      " 51  rougher.output.tail_au                              19439 non-null  float64\n",
      " 52  rougher.state.floatbank10_a_air                     19438 non-null  float64\n",
      " 53  rougher.state.floatbank10_a_level                   19438 non-null  float64\n",
      " 54  rougher.state.floatbank10_b_air                     19438 non-null  float64\n",
      " 55  rougher.state.floatbank10_b_level                   19438 non-null  float64\n",
      " 56  rougher.state.floatbank10_c_air                     19438 non-null  float64\n",
      " 57  rougher.state.floatbank10_c_level                   19438 non-null  float64\n",
      " 58  rougher.state.floatbank10_d_air                     19439 non-null  float64\n",
      " 59  rougher.state.floatbank10_d_level                   19439 non-null  float64\n",
      " 60  rougher.state.floatbank10_e_air                     19003 non-null  float64\n",
      " 61  rougher.state.floatbank10_e_level                   19439 non-null  float64\n",
      " 62  rougher.state.floatbank10_f_air                     19439 non-null  float64\n",
      " 63  rougher.state.floatbank10_f_level                   19439 non-null  float64\n",
      " 64  secondary_cleaner.output.tail_ag                    19437 non-null  float64\n",
      " 65  secondary_cleaner.output.tail_pb                    19427 non-null  float64\n",
      " 66  secondary_cleaner.output.tail_sol                   17691 non-null  float64\n",
      " 67  secondary_cleaner.output.tail_au                    19439 non-null  float64\n",
      " 68  secondary_cleaner.state.floatbank2_a_air            19219 non-null  float64\n",
      " 69  secondary_cleaner.state.floatbank2_a_level          19438 non-null  float64\n",
      " 70  secondary_cleaner.state.floatbank2_b_air            19416 non-null  float64\n",
      " 71  secondary_cleaner.state.floatbank2_b_level          19438 non-null  float64\n",
      " 72  secondary_cleaner.state.floatbank3_a_air            19426 non-null  float64\n",
      " 73  secondary_cleaner.state.floatbank3_a_level          19438 non-null  float64\n",
      " 74  secondary_cleaner.state.floatbank3_b_air            19438 non-null  float64\n",
      " 75  secondary_cleaner.state.floatbank3_b_level          19438 non-null  float64\n",
      " 76  secondary_cleaner.state.floatbank4_a_air            19433 non-null  float64\n",
      " 77  secondary_cleaner.state.floatbank4_a_level          19438 non-null  float64\n",
      " 78  secondary_cleaner.state.floatbank4_b_air            19438 non-null  float64\n",
      " 79  secondary_cleaner.state.floatbank4_b_level          19438 non-null  float64\n",
      " 80  secondary_cleaner.state.floatbank5_a_air            19438 non-null  float64\n",
      " 81  secondary_cleaner.state.floatbank5_a_level          19438 non-null  float64\n",
      " 82  secondary_cleaner.state.floatbank5_b_air            19438 non-null  float64\n",
      " 83  secondary_cleaner.state.floatbank5_b_level          19438 non-null  float64\n",
      " 84  secondary_cleaner.state.floatbank6_a_air            19437 non-null  float64\n",
      " 85  secondary_cleaner.state.floatbank6_a_level          19438 non-null  float64\n",
      "dtypes: float64(86)\n",
      "memory usage: 12.9+ MB\n",
      "None\n",
      "\n",
      "Количество полных дубликатов: 0 шт.\n",
      "Общее количество пропусков во всем датафрейме: 4481 шт.\n",
      "Доля пропусков: 0.27%\n",
      "\n",
      "\n",
      "gold_recovery_train\n",
      "\n",
      "Общий вид\n"
     ]
    },
    {
     "data": {
      "text/html": [
       "<div>\n",
       "<style scoped>\n",
       "    .dataframe tbody tr th:only-of-type {\n",
       "        vertical-align: middle;\n",
       "    }\n",
       "\n",
       "    .dataframe tbody tr th {\n",
       "        vertical-align: top;\n",
       "    }\n",
       "\n",
       "    .dataframe thead th {\n",
       "        text-align: right;\n",
       "    }\n",
       "</style>\n",
       "<table border=\"1\" class=\"dataframe\">\n",
       "  <thead>\n",
       "    <tr style=\"text-align: right;\">\n",
       "      <th></th>\n",
       "      <th>final.output.concentrate_ag</th>\n",
       "      <th>final.output.concentrate_pb</th>\n",
       "      <th>final.output.concentrate_sol</th>\n",
       "      <th>final.output.concentrate_au</th>\n",
       "      <th>final.output.recovery</th>\n",
       "      <th>final.output.tail_ag</th>\n",
       "      <th>final.output.tail_pb</th>\n",
       "      <th>final.output.tail_sol</th>\n",
       "      <th>final.output.tail_au</th>\n",
       "      <th>primary_cleaner.input.sulfate</th>\n",
       "      <th>...</th>\n",
       "      <th>secondary_cleaner.state.floatbank4_a_air</th>\n",
       "      <th>secondary_cleaner.state.floatbank4_a_level</th>\n",
       "      <th>secondary_cleaner.state.floatbank4_b_air</th>\n",
       "      <th>secondary_cleaner.state.floatbank4_b_level</th>\n",
       "      <th>secondary_cleaner.state.floatbank5_a_air</th>\n",
       "      <th>secondary_cleaner.state.floatbank5_a_level</th>\n",
       "      <th>secondary_cleaner.state.floatbank5_b_air</th>\n",
       "      <th>secondary_cleaner.state.floatbank5_b_level</th>\n",
       "      <th>secondary_cleaner.state.floatbank6_a_air</th>\n",
       "      <th>secondary_cleaner.state.floatbank6_a_level</th>\n",
       "    </tr>\n",
       "    <tr>\n",
       "      <th>date</th>\n",
       "      <th></th>\n",
       "      <th></th>\n",
       "      <th></th>\n",
       "      <th></th>\n",
       "      <th></th>\n",
       "      <th></th>\n",
       "      <th></th>\n",
       "      <th></th>\n",
       "      <th></th>\n",
       "      <th></th>\n",
       "      <th></th>\n",
       "      <th></th>\n",
       "      <th></th>\n",
       "      <th></th>\n",
       "      <th></th>\n",
       "      <th></th>\n",
       "      <th></th>\n",
       "      <th></th>\n",
       "      <th></th>\n",
       "      <th></th>\n",
       "      <th></th>\n",
       "    </tr>\n",
       "  </thead>\n",
       "  <tbody>\n",
       "    <tr>\n",
       "      <th>2016-01-15 00:00:00</th>\n",
       "      <td>6.055403</td>\n",
       "      <td>9.889648</td>\n",
       "      <td>5.507324</td>\n",
       "      <td>42.192020</td>\n",
       "      <td>70.541216</td>\n",
       "      <td>10.411962</td>\n",
       "      <td>0.895447</td>\n",
       "      <td>16.904297</td>\n",
       "      <td>2.143149</td>\n",
       "      <td>127.092003</td>\n",
       "      <td>...</td>\n",
       "      <td>14.016835</td>\n",
       "      <td>-502.488007</td>\n",
       "      <td>12.099931</td>\n",
       "      <td>-504.715942</td>\n",
       "      <td>9.925633</td>\n",
       "      <td>-498.310211</td>\n",
       "      <td>8.079666</td>\n",
       "      <td>-500.470978</td>\n",
       "      <td>14.151341</td>\n",
       "      <td>-605.841980</td>\n",
       "    </tr>\n",
       "    <tr>\n",
       "      <th>2016-01-15 01:00:00</th>\n",
       "      <td>6.029369</td>\n",
       "      <td>9.968944</td>\n",
       "      <td>5.257781</td>\n",
       "      <td>42.701629</td>\n",
       "      <td>69.266198</td>\n",
       "      <td>10.462676</td>\n",
       "      <td>0.927452</td>\n",
       "      <td>16.634514</td>\n",
       "      <td>2.224930</td>\n",
       "      <td>125.629232</td>\n",
       "      <td>...</td>\n",
       "      <td>13.992281</td>\n",
       "      <td>-505.503262</td>\n",
       "      <td>11.950531</td>\n",
       "      <td>-501.331529</td>\n",
       "      <td>10.039245</td>\n",
       "      <td>-500.169983</td>\n",
       "      <td>7.984757</td>\n",
       "      <td>-500.582168</td>\n",
       "      <td>13.998353</td>\n",
       "      <td>-599.787184</td>\n",
       "    </tr>\n",
       "    <tr>\n",
       "      <th>2016-01-15 02:00:00</th>\n",
       "      <td>6.055926</td>\n",
       "      <td>10.213995</td>\n",
       "      <td>5.383759</td>\n",
       "      <td>42.657501</td>\n",
       "      <td>68.116445</td>\n",
       "      <td>10.507046</td>\n",
       "      <td>0.953716</td>\n",
       "      <td>16.208849</td>\n",
       "      <td>2.257889</td>\n",
       "      <td>123.819808</td>\n",
       "      <td>...</td>\n",
       "      <td>14.015015</td>\n",
       "      <td>-502.520901</td>\n",
       "      <td>11.912783</td>\n",
       "      <td>-501.133383</td>\n",
       "      <td>10.070913</td>\n",
       "      <td>-500.129135</td>\n",
       "      <td>8.013877</td>\n",
       "      <td>-500.517572</td>\n",
       "      <td>14.028663</td>\n",
       "      <td>-601.427363</td>\n",
       "    </tr>\n",
       "    <tr>\n",
       "      <th>2016-01-15 03:00:00</th>\n",
       "      <td>6.047977</td>\n",
       "      <td>9.977019</td>\n",
       "      <td>4.858634</td>\n",
       "      <td>42.689819</td>\n",
       "      <td>68.347543</td>\n",
       "      <td>10.422762</td>\n",
       "      <td>0.883763</td>\n",
       "      <td>16.532835</td>\n",
       "      <td>2.146849</td>\n",
       "      <td>122.270188</td>\n",
       "      <td>...</td>\n",
       "      <td>14.036510</td>\n",
       "      <td>-500.857308</td>\n",
       "      <td>11.999550</td>\n",
       "      <td>-501.193686</td>\n",
       "      <td>9.970366</td>\n",
       "      <td>-499.201640</td>\n",
       "      <td>7.977324</td>\n",
       "      <td>-500.255908</td>\n",
       "      <td>14.005551</td>\n",
       "      <td>-599.996129</td>\n",
       "    </tr>\n",
       "    <tr>\n",
       "      <th>2016-01-15 04:00:00</th>\n",
       "      <td>6.148599</td>\n",
       "      <td>10.142511</td>\n",
       "      <td>4.939416</td>\n",
       "      <td>42.774141</td>\n",
       "      <td>66.927016</td>\n",
       "      <td>10.360302</td>\n",
       "      <td>0.792826</td>\n",
       "      <td>16.525686</td>\n",
       "      <td>2.055292</td>\n",
       "      <td>117.988169</td>\n",
       "      <td>...</td>\n",
       "      <td>14.027298</td>\n",
       "      <td>-499.838632</td>\n",
       "      <td>11.953070</td>\n",
       "      <td>-501.053894</td>\n",
       "      <td>9.925709</td>\n",
       "      <td>-501.686727</td>\n",
       "      <td>7.894242</td>\n",
       "      <td>-500.356035</td>\n",
       "      <td>13.996647</td>\n",
       "      <td>-601.496691</td>\n",
       "    </tr>\n",
       "  </tbody>\n",
       "</table>\n",
       "<p>5 rows × 86 columns</p>\n",
       "</div>"
      ],
      "text/plain": [
       "                     final.output.concentrate_ag  final.output.concentrate_pb  \\\n",
       "date                                                                            \n",
       "2016-01-15 00:00:00                     6.055403                     9.889648   \n",
       "2016-01-15 01:00:00                     6.029369                     9.968944   \n",
       "2016-01-15 02:00:00                     6.055926                    10.213995   \n",
       "2016-01-15 03:00:00                     6.047977                     9.977019   \n",
       "2016-01-15 04:00:00                     6.148599                    10.142511   \n",
       "\n",
       "                     final.output.concentrate_sol  \\\n",
       "date                                                \n",
       "2016-01-15 00:00:00                      5.507324   \n",
       "2016-01-15 01:00:00                      5.257781   \n",
       "2016-01-15 02:00:00                      5.383759   \n",
       "2016-01-15 03:00:00                      4.858634   \n",
       "2016-01-15 04:00:00                      4.939416   \n",
       "\n",
       "                     final.output.concentrate_au  final.output.recovery  \\\n",
       "date                                                                      \n",
       "2016-01-15 00:00:00                    42.192020              70.541216   \n",
       "2016-01-15 01:00:00                    42.701629              69.266198   \n",
       "2016-01-15 02:00:00                    42.657501              68.116445   \n",
       "2016-01-15 03:00:00                    42.689819              68.347543   \n",
       "2016-01-15 04:00:00                    42.774141              66.927016   \n",
       "\n",
       "                     final.output.tail_ag  final.output.tail_pb  \\\n",
       "date                                                              \n",
       "2016-01-15 00:00:00             10.411962              0.895447   \n",
       "2016-01-15 01:00:00             10.462676              0.927452   \n",
       "2016-01-15 02:00:00             10.507046              0.953716   \n",
       "2016-01-15 03:00:00             10.422762              0.883763   \n",
       "2016-01-15 04:00:00             10.360302              0.792826   \n",
       "\n",
       "                     final.output.tail_sol  final.output.tail_au  \\\n",
       "date                                                               \n",
       "2016-01-15 00:00:00              16.904297              2.143149   \n",
       "2016-01-15 01:00:00              16.634514              2.224930   \n",
       "2016-01-15 02:00:00              16.208849              2.257889   \n",
       "2016-01-15 03:00:00              16.532835              2.146849   \n",
       "2016-01-15 04:00:00              16.525686              2.055292   \n",
       "\n",
       "                     primary_cleaner.input.sulfate  ...  \\\n",
       "date                                                ...   \n",
       "2016-01-15 00:00:00                     127.092003  ...   \n",
       "2016-01-15 01:00:00                     125.629232  ...   \n",
       "2016-01-15 02:00:00                     123.819808  ...   \n",
       "2016-01-15 03:00:00                     122.270188  ...   \n",
       "2016-01-15 04:00:00                     117.988169  ...   \n",
       "\n",
       "                     secondary_cleaner.state.floatbank4_a_air  \\\n",
       "date                                                            \n",
       "2016-01-15 00:00:00                                 14.016835   \n",
       "2016-01-15 01:00:00                                 13.992281   \n",
       "2016-01-15 02:00:00                                 14.015015   \n",
       "2016-01-15 03:00:00                                 14.036510   \n",
       "2016-01-15 04:00:00                                 14.027298   \n",
       "\n",
       "                     secondary_cleaner.state.floatbank4_a_level  \\\n",
       "date                                                              \n",
       "2016-01-15 00:00:00                                 -502.488007   \n",
       "2016-01-15 01:00:00                                 -505.503262   \n",
       "2016-01-15 02:00:00                                 -502.520901   \n",
       "2016-01-15 03:00:00                                 -500.857308   \n",
       "2016-01-15 04:00:00                                 -499.838632   \n",
       "\n",
       "                     secondary_cleaner.state.floatbank4_b_air  \\\n",
       "date                                                            \n",
       "2016-01-15 00:00:00                                 12.099931   \n",
       "2016-01-15 01:00:00                                 11.950531   \n",
       "2016-01-15 02:00:00                                 11.912783   \n",
       "2016-01-15 03:00:00                                 11.999550   \n",
       "2016-01-15 04:00:00                                 11.953070   \n",
       "\n",
       "                     secondary_cleaner.state.floatbank4_b_level  \\\n",
       "date                                                              \n",
       "2016-01-15 00:00:00                                 -504.715942   \n",
       "2016-01-15 01:00:00                                 -501.331529   \n",
       "2016-01-15 02:00:00                                 -501.133383   \n",
       "2016-01-15 03:00:00                                 -501.193686   \n",
       "2016-01-15 04:00:00                                 -501.053894   \n",
       "\n",
       "                     secondary_cleaner.state.floatbank5_a_air  \\\n",
       "date                                                            \n",
       "2016-01-15 00:00:00                                  9.925633   \n",
       "2016-01-15 01:00:00                                 10.039245   \n",
       "2016-01-15 02:00:00                                 10.070913   \n",
       "2016-01-15 03:00:00                                  9.970366   \n",
       "2016-01-15 04:00:00                                  9.925709   \n",
       "\n",
       "                     secondary_cleaner.state.floatbank5_a_level  \\\n",
       "date                                                              \n",
       "2016-01-15 00:00:00                                 -498.310211   \n",
       "2016-01-15 01:00:00                                 -500.169983   \n",
       "2016-01-15 02:00:00                                 -500.129135   \n",
       "2016-01-15 03:00:00                                 -499.201640   \n",
       "2016-01-15 04:00:00                                 -501.686727   \n",
       "\n",
       "                     secondary_cleaner.state.floatbank5_b_air  \\\n",
       "date                                                            \n",
       "2016-01-15 00:00:00                                  8.079666   \n",
       "2016-01-15 01:00:00                                  7.984757   \n",
       "2016-01-15 02:00:00                                  8.013877   \n",
       "2016-01-15 03:00:00                                  7.977324   \n",
       "2016-01-15 04:00:00                                  7.894242   \n",
       "\n",
       "                     secondary_cleaner.state.floatbank5_b_level  \\\n",
       "date                                                              \n",
       "2016-01-15 00:00:00                                 -500.470978   \n",
       "2016-01-15 01:00:00                                 -500.582168   \n",
       "2016-01-15 02:00:00                                 -500.517572   \n",
       "2016-01-15 03:00:00                                 -500.255908   \n",
       "2016-01-15 04:00:00                                 -500.356035   \n",
       "\n",
       "                     secondary_cleaner.state.floatbank6_a_air  \\\n",
       "date                                                            \n",
       "2016-01-15 00:00:00                                 14.151341   \n",
       "2016-01-15 01:00:00                                 13.998353   \n",
       "2016-01-15 02:00:00                                 14.028663   \n",
       "2016-01-15 03:00:00                                 14.005551   \n",
       "2016-01-15 04:00:00                                 13.996647   \n",
       "\n",
       "                     secondary_cleaner.state.floatbank6_a_level  \n",
       "date                                                             \n",
       "2016-01-15 00:00:00                                 -605.841980  \n",
       "2016-01-15 01:00:00                                 -599.787184  \n",
       "2016-01-15 02:00:00                                 -601.427363  \n",
       "2016-01-15 03:00:00                                 -599.996129  \n",
       "2016-01-15 04:00:00                                 -601.496691  \n",
       "\n",
       "[5 rows x 86 columns]"
      ]
     },
     "metadata": {},
     "output_type": "display_data"
    },
    {
     "name": "stdout",
     "output_type": "stream",
     "text": [
      "\n",
      ".info()\n",
      "\n",
      "<class 'pandas.core.frame.DataFrame'>\n",
      "Index: 14149 entries, 2016-01-15 00:00:00 to 2018-08-18 10:59:59\n",
      "Data columns (total 86 columns):\n",
      " #   Column                                              Non-Null Count  Dtype  \n",
      "---  ------                                              --------------  -----  \n",
      " 0   final.output.concentrate_ag                         14148 non-null  float64\n",
      " 1   final.output.concentrate_pb                         14148 non-null  float64\n",
      " 2   final.output.concentrate_sol                        13938 non-null  float64\n",
      " 3   final.output.concentrate_au                         14149 non-null  float64\n",
      " 4   final.output.recovery                               14149 non-null  float64\n",
      " 5   final.output.tail_ag                                14149 non-null  float64\n",
      " 6   final.output.tail_pb                                14049 non-null  float64\n",
      " 7   final.output.tail_sol                               14144 non-null  float64\n",
      " 8   final.output.tail_au                                14149 non-null  float64\n",
      " 9   primary_cleaner.input.sulfate                       14129 non-null  float64\n",
      " 10  primary_cleaner.input.depressant                    14117 non-null  float64\n",
      " 11  primary_cleaner.input.feed_size                     14149 non-null  float64\n",
      " 12  primary_cleaner.input.xanthate                      14049 non-null  float64\n",
      " 13  primary_cleaner.output.concentrate_ag               14149 non-null  float64\n",
      " 14  primary_cleaner.output.concentrate_pb               14063 non-null  float64\n",
      " 15  primary_cleaner.output.concentrate_sol              13863 non-null  float64\n",
      " 16  primary_cleaner.output.concentrate_au               14149 non-null  float64\n",
      " 17  primary_cleaner.output.tail_ag                      14148 non-null  float64\n",
      " 18  primary_cleaner.output.tail_pb                      14134 non-null  float64\n",
      " 19  primary_cleaner.output.tail_sol                     14103 non-null  float64\n",
      " 20  primary_cleaner.output.tail_au                      14149 non-null  float64\n",
      " 21  primary_cleaner.state.floatbank8_a_air              14145 non-null  float64\n",
      " 22  primary_cleaner.state.floatbank8_a_level            14148 non-null  float64\n",
      " 23  primary_cleaner.state.floatbank8_b_air              14145 non-null  float64\n",
      " 24  primary_cleaner.state.floatbank8_b_level            14148 non-null  float64\n",
      " 25  primary_cleaner.state.floatbank8_c_air              14147 non-null  float64\n",
      " 26  primary_cleaner.state.floatbank8_c_level            14148 non-null  float64\n",
      " 27  primary_cleaner.state.floatbank8_d_air              14146 non-null  float64\n",
      " 28  primary_cleaner.state.floatbank8_d_level            14148 non-null  float64\n",
      " 29  rougher.calculation.sulfate_to_au_concentrate       14148 non-null  float64\n",
      " 30  rougher.calculation.floatbank10_sulfate_to_au_feed  14148 non-null  float64\n",
      " 31  rougher.calculation.floatbank11_sulfate_to_au_feed  14148 non-null  float64\n",
      " 32  rougher.calculation.au_pb_ratio                     14149 non-null  float64\n",
      " 33  rougher.input.feed_ag                               14149 non-null  float64\n",
      " 34  rougher.input.feed_pb                               14049 non-null  float64\n",
      " 35  rougher.input.feed_rate                             14141 non-null  float64\n",
      " 36  rougher.input.feed_size                             14005 non-null  float64\n",
      " 37  rougher.input.feed_sol                              14071 non-null  float64\n",
      " 38  rougher.input.feed_au                               14149 non-null  float64\n",
      " 39  rougher.input.floatbank10_sulfate                   14120 non-null  float64\n",
      " 40  rougher.input.floatbank10_xanthate                  14141 non-null  float64\n",
      " 41  rougher.input.floatbank11_sulfate                   14113 non-null  float64\n",
      " 42  rougher.input.floatbank11_xanthate                  13721 non-null  float64\n",
      " 43  rougher.output.concentrate_ag                       14149 non-null  float64\n",
      " 44  rougher.output.concentrate_pb                       14149 non-null  float64\n",
      " 45  rougher.output.concentrate_sol                      14127 non-null  float64\n",
      " 46  rougher.output.concentrate_au                       14149 non-null  float64\n",
      " 47  rougher.output.recovery                             14149 non-null  float64\n",
      " 48  rougher.output.tail_ag                              14148 non-null  float64\n",
      " 49  rougher.output.tail_pb                              14149 non-null  float64\n",
      " 50  rougher.output.tail_sol                             14149 non-null  float64\n",
      " 51  rougher.output.tail_au                              14149 non-null  float64\n",
      " 52  rougher.state.floatbank10_a_air                     14148 non-null  float64\n",
      " 53  rougher.state.floatbank10_a_level                   14148 non-null  float64\n",
      " 54  rougher.state.floatbank10_b_air                     14148 non-null  float64\n",
      " 55  rougher.state.floatbank10_b_level                   14148 non-null  float64\n",
      " 56  rougher.state.floatbank10_c_air                     14148 non-null  float64\n",
      " 57  rougher.state.floatbank10_c_level                   14148 non-null  float64\n",
      " 58  rougher.state.floatbank10_d_air                     14149 non-null  float64\n",
      " 59  rougher.state.floatbank10_d_level                   14149 non-null  float64\n",
      " 60  rougher.state.floatbank10_e_air                     13713 non-null  float64\n",
      " 61  rougher.state.floatbank10_e_level                   14149 non-null  float64\n",
      " 62  rougher.state.floatbank10_f_air                     14149 non-null  float64\n",
      " 63  rougher.state.floatbank10_f_level                   14149 non-null  float64\n",
      " 64  secondary_cleaner.output.tail_ag                    14147 non-null  float64\n",
      " 65  secondary_cleaner.output.tail_pb                    14139 non-null  float64\n",
      " 66  secondary_cleaner.output.tail_sol                   12544 non-null  float64\n",
      " 67  secondary_cleaner.output.tail_au                    14149 non-null  float64\n",
      " 68  secondary_cleaner.state.floatbank2_a_air            13932 non-null  float64\n",
      " 69  secondary_cleaner.state.floatbank2_a_level          14148 non-null  float64\n",
      " 70  secondary_cleaner.state.floatbank2_b_air            14128 non-null  float64\n",
      " 71  secondary_cleaner.state.floatbank2_b_level          14148 non-null  float64\n",
      " 72  secondary_cleaner.state.floatbank3_a_air            14145 non-null  float64\n",
      " 73  secondary_cleaner.state.floatbank3_a_level          14148 non-null  float64\n",
      " 74  secondary_cleaner.state.floatbank3_b_air            14148 non-null  float64\n",
      " 75  secondary_cleaner.state.floatbank3_b_level          14148 non-null  float64\n",
      " 76  secondary_cleaner.state.floatbank4_a_air            14143 non-null  float64\n",
      " 77  secondary_cleaner.state.floatbank4_a_level          14148 non-null  float64\n",
      " 78  secondary_cleaner.state.floatbank4_b_air            14148 non-null  float64\n",
      " 79  secondary_cleaner.state.floatbank4_b_level          14148 non-null  float64\n",
      " 80  secondary_cleaner.state.floatbank5_a_air            14148 non-null  float64\n",
      " 81  secondary_cleaner.state.floatbank5_a_level          14148 non-null  float64\n",
      " 82  secondary_cleaner.state.floatbank5_b_air            14148 non-null  float64\n",
      " 83  secondary_cleaner.state.floatbank5_b_level          14148 non-null  float64\n",
      " 84  secondary_cleaner.state.floatbank6_a_air            14147 non-null  float64\n",
      " 85  secondary_cleaner.state.floatbank6_a_level          14148 non-null  float64\n",
      "dtypes: float64(86)\n",
      "memory usage: 9.4+ MB\n",
      "None\n",
      "\n",
      "Количество полных дубликатов: 0 шт.\n",
      "Общее количество пропусков во всем датафрейме: 4100 шт.\n",
      "Доля пропусков: 0.34%\n",
      "\n",
      "\n",
      "gold_recovery_test\n",
      "\n",
      "Общий вид\n"
     ]
    },
    {
     "data": {
      "text/html": [
       "<div>\n",
       "<style scoped>\n",
       "    .dataframe tbody tr th:only-of-type {\n",
       "        vertical-align: middle;\n",
       "    }\n",
       "\n",
       "    .dataframe tbody tr th {\n",
       "        vertical-align: top;\n",
       "    }\n",
       "\n",
       "    .dataframe thead th {\n",
       "        text-align: right;\n",
       "    }\n",
       "</style>\n",
       "<table border=\"1\" class=\"dataframe\">\n",
       "  <thead>\n",
       "    <tr style=\"text-align: right;\">\n",
       "      <th></th>\n",
       "      <th>primary_cleaner.input.sulfate</th>\n",
       "      <th>primary_cleaner.input.depressant</th>\n",
       "      <th>primary_cleaner.input.feed_size</th>\n",
       "      <th>primary_cleaner.input.xanthate</th>\n",
       "      <th>primary_cleaner.state.floatbank8_a_air</th>\n",
       "      <th>primary_cleaner.state.floatbank8_a_level</th>\n",
       "      <th>primary_cleaner.state.floatbank8_b_air</th>\n",
       "      <th>primary_cleaner.state.floatbank8_b_level</th>\n",
       "      <th>primary_cleaner.state.floatbank8_c_air</th>\n",
       "      <th>primary_cleaner.state.floatbank8_c_level</th>\n",
       "      <th>...</th>\n",
       "      <th>secondary_cleaner.state.floatbank4_a_air</th>\n",
       "      <th>secondary_cleaner.state.floatbank4_a_level</th>\n",
       "      <th>secondary_cleaner.state.floatbank4_b_air</th>\n",
       "      <th>secondary_cleaner.state.floatbank4_b_level</th>\n",
       "      <th>secondary_cleaner.state.floatbank5_a_air</th>\n",
       "      <th>secondary_cleaner.state.floatbank5_a_level</th>\n",
       "      <th>secondary_cleaner.state.floatbank5_b_air</th>\n",
       "      <th>secondary_cleaner.state.floatbank5_b_level</th>\n",
       "      <th>secondary_cleaner.state.floatbank6_a_air</th>\n",
       "      <th>secondary_cleaner.state.floatbank6_a_level</th>\n",
       "    </tr>\n",
       "    <tr>\n",
       "      <th>date</th>\n",
       "      <th></th>\n",
       "      <th></th>\n",
       "      <th></th>\n",
       "      <th></th>\n",
       "      <th></th>\n",
       "      <th></th>\n",
       "      <th></th>\n",
       "      <th></th>\n",
       "      <th></th>\n",
       "      <th></th>\n",
       "      <th></th>\n",
       "      <th></th>\n",
       "      <th></th>\n",
       "      <th></th>\n",
       "      <th></th>\n",
       "      <th></th>\n",
       "      <th></th>\n",
       "      <th></th>\n",
       "      <th></th>\n",
       "      <th></th>\n",
       "      <th></th>\n",
       "    </tr>\n",
       "  </thead>\n",
       "  <tbody>\n",
       "    <tr>\n",
       "      <th>2016-09-01 00:59:59</th>\n",
       "      <td>210.800909</td>\n",
       "      <td>14.993118</td>\n",
       "      <td>8.080000</td>\n",
       "      <td>1.005021</td>\n",
       "      <td>1398.981301</td>\n",
       "      <td>-500.225577</td>\n",
       "      <td>1399.144926</td>\n",
       "      <td>-499.919735</td>\n",
       "      <td>1400.102998</td>\n",
       "      <td>-500.704369</td>\n",
       "      <td>...</td>\n",
       "      <td>12.023554</td>\n",
       "      <td>-497.795834</td>\n",
       "      <td>8.016656</td>\n",
       "      <td>-501.289139</td>\n",
       "      <td>7.946562</td>\n",
       "      <td>-432.317850</td>\n",
       "      <td>4.872511</td>\n",
       "      <td>-500.037437</td>\n",
       "      <td>26.705889</td>\n",
       "      <td>-499.709414</td>\n",
       "    </tr>\n",
       "    <tr>\n",
       "      <th>2016-09-01 01:59:59</th>\n",
       "      <td>215.392455</td>\n",
       "      <td>14.987471</td>\n",
       "      <td>8.080000</td>\n",
       "      <td>0.990469</td>\n",
       "      <td>1398.777912</td>\n",
       "      <td>-500.057435</td>\n",
       "      <td>1398.055362</td>\n",
       "      <td>-499.778182</td>\n",
       "      <td>1396.151033</td>\n",
       "      <td>-499.240168</td>\n",
       "      <td>...</td>\n",
       "      <td>12.058140</td>\n",
       "      <td>-498.695773</td>\n",
       "      <td>8.130979</td>\n",
       "      <td>-499.634209</td>\n",
       "      <td>7.958270</td>\n",
       "      <td>-525.839648</td>\n",
       "      <td>4.878850</td>\n",
       "      <td>-500.162375</td>\n",
       "      <td>25.019940</td>\n",
       "      <td>-499.819438</td>\n",
       "    </tr>\n",
       "    <tr>\n",
       "      <th>2016-09-01 02:59:59</th>\n",
       "      <td>215.259946</td>\n",
       "      <td>12.884934</td>\n",
       "      <td>7.786667</td>\n",
       "      <td>0.996043</td>\n",
       "      <td>1398.493666</td>\n",
       "      <td>-500.868360</td>\n",
       "      <td>1398.860436</td>\n",
       "      <td>-499.764529</td>\n",
       "      <td>1398.075709</td>\n",
       "      <td>-502.151509</td>\n",
       "      <td>...</td>\n",
       "      <td>11.962366</td>\n",
       "      <td>-498.767484</td>\n",
       "      <td>8.096893</td>\n",
       "      <td>-500.827423</td>\n",
       "      <td>8.071056</td>\n",
       "      <td>-500.801673</td>\n",
       "      <td>4.905125</td>\n",
       "      <td>-499.828510</td>\n",
       "      <td>24.994862</td>\n",
       "      <td>-500.622559</td>\n",
       "    </tr>\n",
       "    <tr>\n",
       "      <th>2016-09-01 03:59:59</th>\n",
       "      <td>215.336236</td>\n",
       "      <td>12.006805</td>\n",
       "      <td>7.640000</td>\n",
       "      <td>0.863514</td>\n",
       "      <td>1399.618111</td>\n",
       "      <td>-498.863574</td>\n",
       "      <td>1397.440120</td>\n",
       "      <td>-499.211024</td>\n",
       "      <td>1400.129303</td>\n",
       "      <td>-498.355873</td>\n",
       "      <td>...</td>\n",
       "      <td>12.033091</td>\n",
       "      <td>-498.350935</td>\n",
       "      <td>8.074946</td>\n",
       "      <td>-499.474407</td>\n",
       "      <td>7.897085</td>\n",
       "      <td>-500.868509</td>\n",
       "      <td>4.931400</td>\n",
       "      <td>-499.963623</td>\n",
       "      <td>24.948919</td>\n",
       "      <td>-498.709987</td>\n",
       "    </tr>\n",
       "    <tr>\n",
       "      <th>2016-09-01 04:59:59</th>\n",
       "      <td>199.099327</td>\n",
       "      <td>10.682530</td>\n",
       "      <td>7.530000</td>\n",
       "      <td>0.805575</td>\n",
       "      <td>1401.268123</td>\n",
       "      <td>-500.808305</td>\n",
       "      <td>1398.128818</td>\n",
       "      <td>-499.504543</td>\n",
       "      <td>1402.172226</td>\n",
       "      <td>-500.810606</td>\n",
       "      <td>...</td>\n",
       "      <td>12.025367</td>\n",
       "      <td>-500.786497</td>\n",
       "      <td>8.054678</td>\n",
       "      <td>-500.397500</td>\n",
       "      <td>8.107890</td>\n",
       "      <td>-509.526725</td>\n",
       "      <td>4.957674</td>\n",
       "      <td>-500.360026</td>\n",
       "      <td>25.003331</td>\n",
       "      <td>-500.856333</td>\n",
       "    </tr>\n",
       "  </tbody>\n",
       "</table>\n",
       "<p>5 rows × 52 columns</p>\n",
       "</div>"
      ],
      "text/plain": [
       "                     primary_cleaner.input.sulfate  \\\n",
       "date                                                 \n",
       "2016-09-01 00:59:59                     210.800909   \n",
       "2016-09-01 01:59:59                     215.392455   \n",
       "2016-09-01 02:59:59                     215.259946   \n",
       "2016-09-01 03:59:59                     215.336236   \n",
       "2016-09-01 04:59:59                     199.099327   \n",
       "\n",
       "                     primary_cleaner.input.depressant  \\\n",
       "date                                                    \n",
       "2016-09-01 00:59:59                         14.993118   \n",
       "2016-09-01 01:59:59                         14.987471   \n",
       "2016-09-01 02:59:59                         12.884934   \n",
       "2016-09-01 03:59:59                         12.006805   \n",
       "2016-09-01 04:59:59                         10.682530   \n",
       "\n",
       "                     primary_cleaner.input.feed_size  \\\n",
       "date                                                   \n",
       "2016-09-01 00:59:59                         8.080000   \n",
       "2016-09-01 01:59:59                         8.080000   \n",
       "2016-09-01 02:59:59                         7.786667   \n",
       "2016-09-01 03:59:59                         7.640000   \n",
       "2016-09-01 04:59:59                         7.530000   \n",
       "\n",
       "                     primary_cleaner.input.xanthate  \\\n",
       "date                                                  \n",
       "2016-09-01 00:59:59                        1.005021   \n",
       "2016-09-01 01:59:59                        0.990469   \n",
       "2016-09-01 02:59:59                        0.996043   \n",
       "2016-09-01 03:59:59                        0.863514   \n",
       "2016-09-01 04:59:59                        0.805575   \n",
       "\n",
       "                     primary_cleaner.state.floatbank8_a_air  \\\n",
       "date                                                          \n",
       "2016-09-01 00:59:59                             1398.981301   \n",
       "2016-09-01 01:59:59                             1398.777912   \n",
       "2016-09-01 02:59:59                             1398.493666   \n",
       "2016-09-01 03:59:59                             1399.618111   \n",
       "2016-09-01 04:59:59                             1401.268123   \n",
       "\n",
       "                     primary_cleaner.state.floatbank8_a_level  \\\n",
       "date                                                            \n",
       "2016-09-01 00:59:59                               -500.225577   \n",
       "2016-09-01 01:59:59                               -500.057435   \n",
       "2016-09-01 02:59:59                               -500.868360   \n",
       "2016-09-01 03:59:59                               -498.863574   \n",
       "2016-09-01 04:59:59                               -500.808305   \n",
       "\n",
       "                     primary_cleaner.state.floatbank8_b_air  \\\n",
       "date                                                          \n",
       "2016-09-01 00:59:59                             1399.144926   \n",
       "2016-09-01 01:59:59                             1398.055362   \n",
       "2016-09-01 02:59:59                             1398.860436   \n",
       "2016-09-01 03:59:59                             1397.440120   \n",
       "2016-09-01 04:59:59                             1398.128818   \n",
       "\n",
       "                     primary_cleaner.state.floatbank8_b_level  \\\n",
       "date                                                            \n",
       "2016-09-01 00:59:59                               -499.919735   \n",
       "2016-09-01 01:59:59                               -499.778182   \n",
       "2016-09-01 02:59:59                               -499.764529   \n",
       "2016-09-01 03:59:59                               -499.211024   \n",
       "2016-09-01 04:59:59                               -499.504543   \n",
       "\n",
       "                     primary_cleaner.state.floatbank8_c_air  \\\n",
       "date                                                          \n",
       "2016-09-01 00:59:59                             1400.102998   \n",
       "2016-09-01 01:59:59                             1396.151033   \n",
       "2016-09-01 02:59:59                             1398.075709   \n",
       "2016-09-01 03:59:59                             1400.129303   \n",
       "2016-09-01 04:59:59                             1402.172226   \n",
       "\n",
       "                     primary_cleaner.state.floatbank8_c_level  ...  \\\n",
       "date                                                           ...   \n",
       "2016-09-01 00:59:59                               -500.704369  ...   \n",
       "2016-09-01 01:59:59                               -499.240168  ...   \n",
       "2016-09-01 02:59:59                               -502.151509  ...   \n",
       "2016-09-01 03:59:59                               -498.355873  ...   \n",
       "2016-09-01 04:59:59                               -500.810606  ...   \n",
       "\n",
       "                     secondary_cleaner.state.floatbank4_a_air  \\\n",
       "date                                                            \n",
       "2016-09-01 00:59:59                                 12.023554   \n",
       "2016-09-01 01:59:59                                 12.058140   \n",
       "2016-09-01 02:59:59                                 11.962366   \n",
       "2016-09-01 03:59:59                                 12.033091   \n",
       "2016-09-01 04:59:59                                 12.025367   \n",
       "\n",
       "                     secondary_cleaner.state.floatbank4_a_level  \\\n",
       "date                                                              \n",
       "2016-09-01 00:59:59                                 -497.795834   \n",
       "2016-09-01 01:59:59                                 -498.695773   \n",
       "2016-09-01 02:59:59                                 -498.767484   \n",
       "2016-09-01 03:59:59                                 -498.350935   \n",
       "2016-09-01 04:59:59                                 -500.786497   \n",
       "\n",
       "                     secondary_cleaner.state.floatbank4_b_air  \\\n",
       "date                                                            \n",
       "2016-09-01 00:59:59                                  8.016656   \n",
       "2016-09-01 01:59:59                                  8.130979   \n",
       "2016-09-01 02:59:59                                  8.096893   \n",
       "2016-09-01 03:59:59                                  8.074946   \n",
       "2016-09-01 04:59:59                                  8.054678   \n",
       "\n",
       "                     secondary_cleaner.state.floatbank4_b_level  \\\n",
       "date                                                              \n",
       "2016-09-01 00:59:59                                 -501.289139   \n",
       "2016-09-01 01:59:59                                 -499.634209   \n",
       "2016-09-01 02:59:59                                 -500.827423   \n",
       "2016-09-01 03:59:59                                 -499.474407   \n",
       "2016-09-01 04:59:59                                 -500.397500   \n",
       "\n",
       "                     secondary_cleaner.state.floatbank5_a_air  \\\n",
       "date                                                            \n",
       "2016-09-01 00:59:59                                  7.946562   \n",
       "2016-09-01 01:59:59                                  7.958270   \n",
       "2016-09-01 02:59:59                                  8.071056   \n",
       "2016-09-01 03:59:59                                  7.897085   \n",
       "2016-09-01 04:59:59                                  8.107890   \n",
       "\n",
       "                     secondary_cleaner.state.floatbank5_a_level  \\\n",
       "date                                                              \n",
       "2016-09-01 00:59:59                                 -432.317850   \n",
       "2016-09-01 01:59:59                                 -525.839648   \n",
       "2016-09-01 02:59:59                                 -500.801673   \n",
       "2016-09-01 03:59:59                                 -500.868509   \n",
       "2016-09-01 04:59:59                                 -509.526725   \n",
       "\n",
       "                     secondary_cleaner.state.floatbank5_b_air  \\\n",
       "date                                                            \n",
       "2016-09-01 00:59:59                                  4.872511   \n",
       "2016-09-01 01:59:59                                  4.878850   \n",
       "2016-09-01 02:59:59                                  4.905125   \n",
       "2016-09-01 03:59:59                                  4.931400   \n",
       "2016-09-01 04:59:59                                  4.957674   \n",
       "\n",
       "                     secondary_cleaner.state.floatbank5_b_level  \\\n",
       "date                                                              \n",
       "2016-09-01 00:59:59                                 -500.037437   \n",
       "2016-09-01 01:59:59                                 -500.162375   \n",
       "2016-09-01 02:59:59                                 -499.828510   \n",
       "2016-09-01 03:59:59                                 -499.963623   \n",
       "2016-09-01 04:59:59                                 -500.360026   \n",
       "\n",
       "                     secondary_cleaner.state.floatbank6_a_air  \\\n",
       "date                                                            \n",
       "2016-09-01 00:59:59                                 26.705889   \n",
       "2016-09-01 01:59:59                                 25.019940   \n",
       "2016-09-01 02:59:59                                 24.994862   \n",
       "2016-09-01 03:59:59                                 24.948919   \n",
       "2016-09-01 04:59:59                                 25.003331   \n",
       "\n",
       "                     secondary_cleaner.state.floatbank6_a_level  \n",
       "date                                                             \n",
       "2016-09-01 00:59:59                                 -499.709414  \n",
       "2016-09-01 01:59:59                                 -499.819438  \n",
       "2016-09-01 02:59:59                                 -500.622559  \n",
       "2016-09-01 03:59:59                                 -498.709987  \n",
       "2016-09-01 04:59:59                                 -500.856333  \n",
       "\n",
       "[5 rows x 52 columns]"
      ]
     },
     "metadata": {},
     "output_type": "display_data"
    },
    {
     "name": "stdout",
     "output_type": "stream",
     "text": [
      "\n",
      ".info()\n",
      "\n",
      "<class 'pandas.core.frame.DataFrame'>\n",
      "Index: 5290 entries, 2016-09-01 00:59:59 to 2017-12-31 23:59:59\n",
      "Data columns (total 52 columns):\n",
      " #   Column                                      Non-Null Count  Dtype  \n",
      "---  ------                                      --------------  -----  \n",
      " 0   primary_cleaner.input.sulfate               5286 non-null   float64\n",
      " 1   primary_cleaner.input.depressant            5285 non-null   float64\n",
      " 2   primary_cleaner.input.feed_size             5290 non-null   float64\n",
      " 3   primary_cleaner.input.xanthate              5286 non-null   float64\n",
      " 4   primary_cleaner.state.floatbank8_a_air      5290 non-null   float64\n",
      " 5   primary_cleaner.state.floatbank8_a_level    5290 non-null   float64\n",
      " 6   primary_cleaner.state.floatbank8_b_air      5290 non-null   float64\n",
      " 7   primary_cleaner.state.floatbank8_b_level    5290 non-null   float64\n",
      " 8   primary_cleaner.state.floatbank8_c_air      5290 non-null   float64\n",
      " 9   primary_cleaner.state.floatbank8_c_level    5290 non-null   float64\n",
      " 10  primary_cleaner.state.floatbank8_d_air      5290 non-null   float64\n",
      " 11  primary_cleaner.state.floatbank8_d_level    5290 non-null   float64\n",
      " 12  rougher.input.feed_ag                       5290 non-null   float64\n",
      " 13  rougher.input.feed_pb                       5290 non-null   float64\n",
      " 14  rougher.input.feed_rate                     5287 non-null   float64\n",
      " 15  rougher.input.feed_size                     5289 non-null   float64\n",
      " 16  rougher.input.feed_sol                      5269 non-null   float64\n",
      " 17  rougher.input.feed_au                       5290 non-null   float64\n",
      " 18  rougher.input.floatbank10_sulfate           5285 non-null   float64\n",
      " 19  rougher.input.floatbank10_xanthate          5290 non-null   float64\n",
      " 20  rougher.input.floatbank11_sulfate           5282 non-null   float64\n",
      " 21  rougher.input.floatbank11_xanthate          5265 non-null   float64\n",
      " 22  rougher.state.floatbank10_a_air             5290 non-null   float64\n",
      " 23  rougher.state.floatbank10_a_level           5290 non-null   float64\n",
      " 24  rougher.state.floatbank10_b_air             5290 non-null   float64\n",
      " 25  rougher.state.floatbank10_b_level           5290 non-null   float64\n",
      " 26  rougher.state.floatbank10_c_air             5290 non-null   float64\n",
      " 27  rougher.state.floatbank10_c_level           5290 non-null   float64\n",
      " 28  rougher.state.floatbank10_d_air             5290 non-null   float64\n",
      " 29  rougher.state.floatbank10_d_level           5290 non-null   float64\n",
      " 30  rougher.state.floatbank10_e_air             5290 non-null   float64\n",
      " 31  rougher.state.floatbank10_e_level           5290 non-null   float64\n",
      " 32  rougher.state.floatbank10_f_air             5290 non-null   float64\n",
      " 33  rougher.state.floatbank10_f_level           5290 non-null   float64\n",
      " 34  secondary_cleaner.state.floatbank2_a_air    5287 non-null   float64\n",
      " 35  secondary_cleaner.state.floatbank2_a_level  5290 non-null   float64\n",
      " 36  secondary_cleaner.state.floatbank2_b_air    5288 non-null   float64\n",
      " 37  secondary_cleaner.state.floatbank2_b_level  5290 non-null   float64\n",
      " 38  secondary_cleaner.state.floatbank3_a_air    5281 non-null   float64\n",
      " 39  secondary_cleaner.state.floatbank3_a_level  5290 non-null   float64\n",
      " 40  secondary_cleaner.state.floatbank3_b_air    5290 non-null   float64\n",
      " 41  secondary_cleaner.state.floatbank3_b_level  5290 non-null   float64\n",
      " 42  secondary_cleaner.state.floatbank4_a_air    5290 non-null   float64\n",
      " 43  secondary_cleaner.state.floatbank4_a_level  5290 non-null   float64\n",
      " 44  secondary_cleaner.state.floatbank4_b_air    5290 non-null   float64\n",
      " 45  secondary_cleaner.state.floatbank4_b_level  5290 non-null   float64\n",
      " 46  secondary_cleaner.state.floatbank5_a_air    5290 non-null   float64\n",
      " 47  secondary_cleaner.state.floatbank5_a_level  5290 non-null   float64\n",
      " 48  secondary_cleaner.state.floatbank5_b_air    5290 non-null   float64\n",
      " 49  secondary_cleaner.state.floatbank5_b_level  5290 non-null   float64\n",
      " 50  secondary_cleaner.state.floatbank6_a_air    5290 non-null   float64\n",
      " 51  secondary_cleaner.state.floatbank6_a_level  5290 non-null   float64\n",
      "dtypes: float64(52)\n",
      "memory usage: 2.1+ MB\n",
      "None\n",
      "\n",
      "Количество полных дубликатов: 0 шт.\n",
      "Общее количество пропусков во всем датафрейме: 90 шт.\n",
      "Доля пропусков: 0.03%\n",
      "\n",
      "\n"
     ]
    }
   ],
   "source": [
    "overview(gr_full)\n",
    "overview(gr_train)\n",
    "overview(gr_test)"
   ]
  },
  {
   "cell_type": "markdown",
   "metadata": {},
   "source": [
    "**Выводы**\n",
    "\n",
    "На первый взгляд исходные данные в порядке\n",
    "- Полные дубликаты отсутствуют\n",
    "- Тип данных соответствует указанным значениям\n",
    "- Есть небольшое количество пропусков, с которыми мы разберемся чуть позднее на этапе предобработки."
   ]
  },
  {
   "cell_type": "markdown",
   "metadata": {},
   "source": [
    "<a id='part_1_3'></a>\n",
    "### 1.3 Проверка правильности расчета эффективности обогащения [▴](#head)"
   ]
  },
  {
   "cell_type": "markdown",
   "metadata": {},
   "source": [
    "Эффективность обогащения рассчитывается по формуле:\n",
    "\n",
    "$$Recovery = {C \\cdot (F - T) \\over F \\cdot (C - T)} \\cdot 100\\% $$\n",
    "\n",
    "где:\n",
    "- **`C`** — доля золота в концентрате после флотации/очистки;\n",
    "- **`F`** — доля золота в сырье/концентрате до флотации/очистки;\n",
    "- **`T`** — доля золота в отвальных хвостах после флотации/очистки.\n",
    "\n",
    "Для начала создадим необходимые константы и формулу:"
   ]
  },
  {
   "cell_type": "code",
   "execution_count": 7,
   "metadata": {},
   "outputs": [],
   "source": [
    "F = gr_train['rougher.input.feed_au'] # доля золота в сырье/концентрате до флотации/очистки\n",
    "C = gr_train['rougher.output.concentrate_au'] # доля золота в концентрате после флотации/очистки\n",
    "T = gr_train['rougher.output.tail_au'] # доля золота в отвальных хвостах после флотации/очистки\n",
    "\n",
    "recovery = (C * (F - T)) / (F * (C - T)) * 100"
   ]
  },
  {
   "cell_type": "markdown",
   "metadata": {},
   "source": [
    "Теперь напишем функцию расчета **`MAE`** (`Mean Absolute Error` или `Среднее Абсолютное Отклонение`)\n",
    "\n",
    "$$MAE = {1 \\over N} \\cdot \\sum_{i=1}^{N} \\mid y_{i} - \\widehat{y_{i}} \\mid$$"
   ]
  },
  {
   "cell_type": "code",
   "execution_count": 8,
   "metadata": {},
   "outputs": [
    {
     "name": "stdout",
     "output_type": "stream",
     "text": [
      "MAE = 9.73512347450521e-15\n"
     ]
    }
   ],
   "source": [
    "def mae(target, predictions):\n",
    "    error = 0\n",
    "    for i in range(target.shape[0]):\n",
    "        error += abs(target[i] - predictions[i])\n",
    "    return error / target.shape[0] \n",
    "\n",
    "print('MAE =', mae(gr_train['rougher.output.recovery'], recovery))"
   ]
  },
  {
   "cell_type": "markdown",
   "metadata": {},
   "source": [
    "**Выводы**\n",
    "\n",
    "Средняя абсолютная ошибюка по нашей формуле стремится к нулю $9.7 \\cdot 10^{-15}$ это означает, что предоставленные данные о эффективночти обогащения корректны. Можем продолжать исследование."
   ]
  },
  {
   "cell_type": "markdown",
   "metadata": {},
   "source": [
    "<a id='part_1_4'></a>\n",
    "### 1.4 Анализ признаков недоступный в тестовой выборке [▴](#head)"
   ]
  },
  {
   "cell_type": "markdown",
   "metadata": {},
   "source": [
    "Разберем признаки недоступные в тестовой выборке.\n",
    "\n",
    "Для этого создадим два множества на основе заголовков и с помощью функции `.difference` найдем разницу."
   ]
  },
  {
   "cell_type": "code",
   "execution_count": 9,
   "metadata": {},
   "outputs": [
    {
     "data": {
      "text/plain": [
       "{'final.output.concentrate_ag',\n",
       " 'final.output.concentrate_au',\n",
       " 'final.output.concentrate_pb',\n",
       " 'final.output.concentrate_sol',\n",
       " 'final.output.recovery',\n",
       " 'final.output.tail_ag',\n",
       " 'final.output.tail_au',\n",
       " 'final.output.tail_pb',\n",
       " 'final.output.tail_sol',\n",
       " 'primary_cleaner.output.concentrate_ag',\n",
       " 'primary_cleaner.output.concentrate_au',\n",
       " 'primary_cleaner.output.concentrate_pb',\n",
       " 'primary_cleaner.output.concentrate_sol',\n",
       " 'primary_cleaner.output.tail_ag',\n",
       " 'primary_cleaner.output.tail_au',\n",
       " 'primary_cleaner.output.tail_pb',\n",
       " 'primary_cleaner.output.tail_sol',\n",
       " 'rougher.calculation.au_pb_ratio',\n",
       " 'rougher.calculation.floatbank10_sulfate_to_au_feed',\n",
       " 'rougher.calculation.floatbank11_sulfate_to_au_feed',\n",
       " 'rougher.calculation.sulfate_to_au_concentrate',\n",
       " 'rougher.output.concentrate_ag',\n",
       " 'rougher.output.concentrate_au',\n",
       " 'rougher.output.concentrate_pb',\n",
       " 'rougher.output.concentrate_sol',\n",
       " 'rougher.output.recovery',\n",
       " 'rougher.output.tail_ag',\n",
       " 'rougher.output.tail_au',\n",
       " 'rougher.output.tail_pb',\n",
       " 'rougher.output.tail_sol',\n",
       " 'secondary_cleaner.output.tail_ag',\n",
       " 'secondary_cleaner.output.tail_au',\n",
       " 'secondary_cleaner.output.tail_pb',\n",
       " 'secondary_cleaner.output.tail_sol'}"
      ]
     },
     "metadata": {},
     "output_type": "display_data"
    }
   ],
   "source": [
    "gr_full_columns = set(gr_full.columns)\n",
    "gr_test_columns = set(gr_test.columns)\n",
    "\n",
    "difference_columns = gr_full_columns.difference(gr_test_columns)\n",
    "\n",
    "display(difference_columns)"
   ]
  },
  {
   "cell_type": "markdown",
   "metadata": {},
   "source": [
    "**Выводы**\n",
    "\n",
    "Как видно из получившегося множества, все эти признаки относятся к промежуточным результатам очистки, а следовательно замеряются уже непосредственно в процессе очистки. Это нам не подходит, так как модель должна предсказывать результаты еще до начала очистки.\n",
    "\n",
    "Следовательно в тренировочной выборке они тоже должны отсутствовать, так как после запуска нашей модели в работу, этих данных  на входе у нее не будет."
   ]
  },
  {
   "cell_type": "markdown",
   "metadata": {},
   "source": [
    "<a id='part_2'></a>\n",
    "## 2. Подготовка данных"
   ]
  },
  {
   "cell_type": "markdown",
   "metadata": {},
   "source": [
    "<a id='part_2_1'></a>\n",
    "### 2.1 Предобработка [▴](#head)"
   ]
  },
  {
   "cell_type": "markdown",
   "metadata": {},
   "source": [
    "Разберемся с пропущенными значениями.\n",
    "\n",
    "Для начала посмотрим на общее количество:"
   ]
  },
  {
   "cell_type": "code",
   "execution_count": 10,
   "metadata": {
    "scrolled": false
   },
   "outputs": [
    {
     "name": "stdout",
     "output_type": "stream",
     "text": [
      "Количество пропущенных значений в датафреймах gd_full, gf_train, gf_test:\n",
      "NaN значений: 4481 шт. - 0.27%\n",
      "NaN значений: 4100 шт. - 0.34%\n",
      "NaN значений: 90 шт. - 0.03%\n"
     ]
    }
   ],
   "source": [
    "print('Количество пропущенных значений в датафреймах gd_full, gf_train, gf_test:')\n",
    "for i in [gr_full, gr_train, gr_test]:\n",
    "    print(f'NaN значений: {i.isna().sum().sum()} шт. - {i.isna().sum().sum() / (i.shape[0] * i.shape[1]):.2%}')"
   ]
  },
  {
   "cell_type": "markdown",
   "metadata": {},
   "source": [
    "Пропущенных значений совсем немного. \n",
    "\n",
    "Из условий задачи мы знаем, что соседние по времени замеры зачастую схожи. Следовательно можно использовать метод заполнения **`ffill`**, который заполнит пропуски ближайшими по времени соседями."
   ]
  },
  {
   "cell_type": "code",
   "execution_count": 11,
   "metadata": {},
   "outputs": [],
   "source": [
    "gr_full = gr_full.fillna(method='ffill')\n",
    "gr_train = gr_train.fillna(method='ffill')\n",
    "gr_test = gr_test.fillna(method='ffill')"
   ]
  },
  {
   "cell_type": "code",
   "execution_count": 12,
   "metadata": {
    "scrolled": false
   },
   "outputs": [
    {
     "name": "stdout",
     "output_type": "stream",
     "text": [
      "Количество пропущенных значений в датафреймах gd_full, gf_train, gf_test:\n",
      "NaN значений: 0 шт. - 0.00%\n",
      "NaN значений: 0 шт. - 0.00%\n",
      "NaN значений: 0 шт. - 0.00%\n"
     ]
    }
   ],
   "source": [
    "print('Количество пропущенных значений в датафреймах gd_full, gf_train, gf_test:')\n",
    "for i in [gr_full, gr_train, gr_test]:\n",
    "    print(f'NaN значений: {i.isna().sum().sum()} шт. - {i.isna().sum().sum() / (i.shape[0] * i.shape[1]):.2%}')"
   ]
  },
  {
   "cell_type": "markdown",
   "metadata": {},
   "source": [
    "Пропусков больше нет, можно приступать к анализу данных."
   ]
  },
  {
   "cell_type": "markdown",
   "metadata": {},
   "source": [
    "<a id='part_3'></a>\n",
    "## 3. Анализ данных"
   ]
  },
  {
   "cell_type": "markdown",
   "metadata": {},
   "source": [
    "<a id='part_3_1'></a>\n",
    "### 3.1 Концентрация металлов на различных этапах очистки [▴](#head)"
   ]
  },
  {
   "cell_type": "markdown",
   "metadata": {},
   "source": [
    "Для начала сформируем функцию для построения графиков."
   ]
  },
  {
   "cell_type": "code",
   "execution_count": 13,
   "metadata": {},
   "outputs": [],
   "source": [
    "def concentrate_hist(metal): # функция принимает на вход текстовое обозначение металла\n",
    "\n",
    "    plt.figure(figsize=(20,7))\n",
    "    \n",
    "    # формируем список этапов очистки по которым будем строить гистограммы\n",
    "    # переменная в {} это указанный нами металл в виде параметра функции\n",
    "    hist_list = [\n",
    "        f'rougher.input.feed_{metal}',\n",
    "        f'rougher.output.concentrate_{metal}',\n",
    "        f'primary_cleaner.output.concentrate_{metal}',\n",
    "        f'final.output.concentrate_{metal}'\n",
    "    ]\n",
    "    \n",
    "    # Список этапов очистки, используется для наглядности.\n",
    "    process = [\n",
    "        'Черновой материал', \n",
    "        'Флотация', \n",
    "        'Первичная очистка',\n",
    "        'Вторичная очистка'\n",
    "    ]\n",
    "    \n",
    "    # Обходим циклом список этапов и для каждого строим гистограмму на одном figure\n",
    "    for i in range(len(hist_list)):\n",
    "        gr_full[hist_list[i]].hist(bins=100, alpha=0.6, label=f'Этап {i+1}: {process[i]}')\n",
    "    \n",
    "    plt.legend()\n",
    "    plt.title(f'Этапы очистки металла: {metal}')\n",
    "    plt.xlabel(f'Концентрация {metal}')\n",
    "    plt.ylabel('Количество значений')\n",
    "    plt.show()"
   ]
  },
  {
   "cell_type": "markdown",
   "metadata": {},
   "source": [
    "**Золото**"
   ]
  },
  {
   "cell_type": "code",
   "execution_count": 14,
   "metadata": {
    "scrolled": false
   },
   "outputs": [
    {
     "data": {
      "image/png": "[encoded data removed]",
      "text/plain": [
       "<Figure size 1440x504 with 1 Axes>"
      ]
     },
     "metadata": {
      "needs_background": "light"
     },
     "output_type": "display_data"
    }
   ],
   "source": [
    "concentrate_hist('au')"
   ]
  },
  {
   "cell_type": "markdown",
   "metadata": {},
   "source": [
    "При очистке `золота` мы видим планомерный рост концентрации `золота` от этапа к этапу. Так же после вторичной очистки снижается дисперсия, как следствие наши значения имеют меньший разброс вокруг среднего."
   ]
  },
  {
   "cell_type": "markdown",
   "metadata": {},
   "source": [
    "**Серебро**"
   ]
  },
  {
   "cell_type": "code",
   "execution_count": 15,
   "metadata": {},
   "outputs": [
    {
     "data": {
      "image/png": "[encoded data removed]",
      "text/plain": [
       "<Figure size 1440x504 with 1 Axes>"
      ]
     },
     "metadata": {
      "needs_background": "light"
     },
     "output_type": "display_data"
    }
   ],
   "source": [
    "concentrate_hist('ag')"
   ]
  },
  {
   "cell_type": "markdown",
   "metadata": {},
   "source": [
    "Концентрация `серебра` на первом этапе очистки растет, а потом начинает падать. По итогу концентрация `серебра` на выходе ниже чем в черновом материале."
   ]
  },
  {
   "cell_type": "markdown",
   "metadata": {},
   "source": [
    "**Свинец**"
   ]
  },
  {
   "cell_type": "code",
   "execution_count": 16,
   "metadata": {},
   "outputs": [
    {
     "data": {
      "image/png": "[encoded data removed]",
      "text/plain": [
       "<Figure size 1440x504 with 1 Axes>"
      ]
     },
     "metadata": {
      "needs_background": "light"
     },
     "output_type": "display_data"
    }
   ],
   "source": [
    "concentrate_hist('pb')"
   ]
  },
  {
   "cell_type": "markdown",
   "metadata": {},
   "source": [
    "Концентраяция `свинца` растет с течением этапов очистки. Концентрация после первичной и вторичной очистки примерно равна, однако на втором этапе очистки уменьшается дисперсия значений и мы получаем более стабильное среднее."
   ]
  },
  {
   "cell_type": "markdown",
   "metadata": {},
   "source": [
    "**Sol**"
   ]
  },
  {
   "cell_type": "code",
   "execution_count": 17,
   "metadata": {
    "scrolled": false
   },
   "outputs": [
    {
     "data": {
      "image/png": "[encoded data removed]",
      "text/plain": [
       "<Figure size 1440x504 with 1 Axes>"
      ]
     },
     "metadata": {
      "needs_background": "light"
     },
     "output_type": "display_data"
    }
   ],
   "source": [
    "concentrate_hist('sol')"
   ]
  },
  {
   "cell_type": "markdown",
   "metadata": {},
   "source": [
    "Концентрация `sol` падает от этапа к этапу очистки."
   ]
  },
  {
   "cell_type": "markdown",
   "metadata": {},
   "source": [
    "На всех гистограммах у нас присутсвуют странные околонулевые всплески, взглянем на них поближе."
   ]
  },
  {
   "cell_type": "code",
   "execution_count": 18,
   "metadata": {},
   "outputs": [
    {
     "data": {
      "image/png": "[encoded data removed]",
      "text/plain": [
       "<Figure size 1440x216 with 1 Axes>"
      ]
     },
     "metadata": {
      "needs_background": "light"
     },
     "output_type": "display_data"
    },
    {
     "data": {
      "image/png": "[encoded data removed]",
      "text/plain": [
       "<Figure size 1440x216 with 1 Axes>"
      ]
     },
     "metadata": {
      "needs_background": "light"
     },
     "output_type": "display_data"
    },
    {
     "data": {
      "image/png": "[encoded data removed]",
      "text/plain": [
       "<Figure size 1440x216 with 1 Axes>"
      ]
     },
     "metadata": {
      "needs_background": "light"
     },
     "output_type": "display_data"
    },
    {
     "data": {
      "image/png": "[encoded data removed]",
      "text/plain": [
       "<Figure size 1440x216 with 1 Axes>"
      ]
     },
     "metadata": {
      "needs_background": "light"
     },
     "output_type": "display_data"
    }
   ],
   "source": [
    "for metal in ['au', 'ag' ,'pb', 'sol']:\n",
    "\n",
    "    plt.figure(figsize=(20,3))\n",
    "    \n",
    "    hist_list = [\n",
    "        f'rougher.input.feed_{metal}',\n",
    "        f'rougher.output.concentrate_{metal}',\n",
    "        f'primary_cleaner.output.concentrate_{metal}',\n",
    "        f'final.output.concentrate_{metal}'\n",
    "    ]\n",
    "    \n",
    "    process = [\n",
    "        'Черновой материал', \n",
    "        'Флотация', \n",
    "        'Первичная очистка',\n",
    "        'Вторичная очистка'\n",
    "    ]\n",
    "    \n",
    "    for i in range(len(hist_list)):\n",
    "        gr_full[hist_list[i]].hist(bins=100, alpha=0.6, label=f'Этап {i+1}: {process[i]}')\n",
    "    \n",
    "    plt.legend()\n",
    "    plt.title(f'Этапы очистки металла: {metal}')\n",
    "    plt.xlabel(f'Концентрация {metal}')\n",
    "    plt.ylabel('Количество значений')\n",
    "    plt.xlim(0,1)\n",
    "    \n",
    "    plt.show()"
   ]
  },
  {
   "cell_type": "markdown",
   "metadata": {},
   "source": [
    "Наблюдаем следующую картину:\n",
    "\n",
    "На входе практически отсутвует околонулевая концентрация в `черновом материале`. С учетом того, что на каждом этапе концентрация как правило растет, то околонулевые значения это скорее всего какие то ошибки. \n",
    "\n",
    "Судя по всему мы можем удалить значения не превышающие `0.6`"
   ]
  },
  {
   "cell_type": "markdown",
   "metadata": {},
   "source": [
    "**Удаление околонулевых значений**"
   ]
  },
  {
   "cell_type": "code",
   "execution_count": 19,
   "metadata": {},
   "outputs": [
    {
     "name": "stdout",
     "output_type": "stream",
     "text": [
      "Доля строк с околонулевыми значениями = 4.522%\n"
     ]
    }
   ],
   "source": [
    "# для начала сделаем список столбцов\n",
    "# по которым мы букдем собирать индексы строк где есть околонулевые значения\n",
    "\n",
    "drop_zeros_list = [\n",
    "    'rougher.input.feed_ag',\n",
    "    'rougher.input.feed_pb',\n",
    "    'rougher.input.feed_sol',\n",
    "    'rougher.input.feed_au',\n",
    "    'rougher.output.concentrate_ag',\n",
    "    'rougher.output.concentrate_pb',\n",
    "    'rougher.output.concentrate_sol',\n",
    "    'rougher.output.concentrate_au',\n",
    "    'primary_cleaner.output.concentrate_ag',\n",
    "    'primary_cleaner.output.concentrate_pb',\n",
    "    'primary_cleaner.output.concentrate_sol',\n",
    "    'primary_cleaner.output.concentrate_au', \n",
    "    'final.output.concentrate_ag',\n",
    "    'final.output.concentrate_pb',\n",
    "    'final.output.concentrate_sol',\n",
    "    'final.output.concentrate_au']\n",
    "\n",
    "# создадим множество в которое будем добавлять значения индексов\n",
    "\n",
    "drop_set = set()\n",
    "\n",
    "# так как множество не может содержать повторяющихся значений \n",
    "# мы просто будем докидывать в него все найденные значения, лишнее отсечется само\n",
    "\n",
    "for i in drop_zeros_list:\n",
    "    drop_set = drop_set | set(gr_full[gr_full[i] < 0.6].index) # найти индексы строк с околонулевым значением \n",
    "                                                               # и объединить с существующим множеством\n",
    "\n",
    "print(f'Доля строк с околонулевыми значениями = {len(drop_set) / gr_full.shape[0]:.3%}')"
   ]
  },
  {
   "cell_type": "markdown",
   "metadata": {},
   "source": [
    "Количество не превышает `5%`. Можем удалить их."
   ]
  },
  {
   "cell_type": "code",
   "execution_count": 20,
   "metadata": {},
   "outputs": [],
   "source": [
    "gr_full = gr_full.drop(drop_set, axis=0, errors='ignore')\n",
    "gr_train = gr_train.drop(drop_set, axis=0, errors='ignore')\n",
    "gr_test = gr_test.drop(drop_set, axis=0, errors='ignore')"
   ]
  },
  {
   "cell_type": "markdown",
   "metadata": {},
   "source": [
    "<a id='part_3_2'></a>\n",
    "### 3.2 Распределения размеров гранул сырья на обучающей и тестовой выборках [▴](#head)"
   ]
  },
  {
   "cell_type": "markdown",
   "metadata": {},
   "source": [
    "Для исследования разброса гранул сырья построим диаграмму размаха."
   ]
  },
  {
   "cell_type": "code",
   "execution_count": 21,
   "metadata": {},
   "outputs": [],
   "source": [
    "def feed_size_compare(process): # на вход принимаем название процесса в формате str\n",
    "\n",
    "    plt.figure(figsize=(20,4))\n",
    "    \n",
    "    # строим диаграмму размаха для тренировочной и тестовой выборки\n",
    "    plt.boxplot([gr_train[process], gr_test[process]], vert=False, labels=['Train', 'Test'])\n",
    "    \n",
    "    plt.title(f'Распределение размера гранул в процессе: {process[:process.rfind(\".\")]}')\n",
    "    plt.xlabel('Размер гранул')\n",
    "    plt.ylabel('Выборка')\n",
    "    plt.grid()\n",
    "    plt.show()"
   ]
  },
  {
   "cell_type": "markdown",
   "metadata": {},
   "source": [
    "**Размер гранул в черновом материале** "
   ]
  },
  {
   "cell_type": "code",
   "execution_count": 22,
   "metadata": {},
   "outputs": [
    {
     "data": {
      "image/png": "[encoded data removed]",
      "text/plain": [
       "<Figure size 1440x288 with 1 Axes>"
      ]
     },
     "metadata": {
      "needs_background": "light"
     },
     "output_type": "display_data"
    }
   ],
   "source": [
    "feed_size_compare('rougher.input.feed_size')"
   ]
  },
  {
   "cell_type": "markdown",
   "metadata": {},
   "source": [
    "**Размер гранул в первичной очистке** "
   ]
  },
  {
   "cell_type": "code",
   "execution_count": 23,
   "metadata": {},
   "outputs": [
    {
     "data": {
      "image/png": "[encoded data removed]",
      "text/plain": [
       "<Figure size 1440x288 with 1 Axes>"
      ]
     },
     "metadata": {
      "needs_background": "light"
     },
     "output_type": "display_data"
    }
   ],
   "source": [
    "feed_size_compare('primary_cleaner.input.feed_size')"
   ]
  },
  {
   "cell_type": "markdown",
   "metadata": {},
   "source": [
    "По диаграмме размаха можем сделать вывод что распределение размера гранул в `тренировочной` и `тестовой` выборке примерно одинаковое. Можем не беспокоится за оценку модели этого этапа."
   ]
  },
  {
   "cell_type": "markdown",
   "metadata": {},
   "source": [
    "<a id='part_3_3'></a>\n",
    "### 3.3 Исследование суммарной концентрации всех веществ на разных стадиях [▴](#head)"
   ]
  },
  {
   "cell_type": "markdown",
   "metadata": {},
   "source": [
    "Для исследования концентрации всех веществ найдем их сумму на каждом этапе очистки.\n",
    "\n",
    "Для этого сначала сделаем 4 списка, отвечающие за объединение металлов на каждом этапе."
   ]
  },
  {
   "cell_type": "code",
   "execution_count": 24,
   "metadata": {},
   "outputs": [],
   "source": [
    "rougher_input_all = [\n",
    "    'rougher.input.feed_ag',\n",
    "    'rougher.input.feed_pb',\n",
    "    'rougher.input.feed_sol',\n",
    "    'rougher.input.feed_au']\n",
    "\n",
    "rougher_output_all = [\n",
    "    'rougher.output.concentrate_ag',\n",
    "    'rougher.output.concentrate_pb',\n",
    "    'rougher.output.concentrate_sol',\n",
    "    'rougher.output.concentrate_au']\n",
    "\n",
    "primary_cleaner_output_all = [   \n",
    "    'primary_cleaner.output.concentrate_ag',\n",
    "    'primary_cleaner.output.concentrate_pb',\n",
    "    'primary_cleaner.output.concentrate_sol',\n",
    "    'primary_cleaner.output.concentrate_au']\n",
    "    \n",
    "final_output_all = [    \n",
    "    'final.output.concentrate_ag',\n",
    "    'final.output.concentrate_pb',\n",
    "    'final.output.concentrate_sol',\n",
    "    'final.output.concentrate_au']"
   ]
  },
  {
   "cell_type": "markdown",
   "metadata": {},
   "source": [
    "Построим гистограммы на основе сумм этих металлов."
   ]
  },
  {
   "cell_type": "code",
   "execution_count": 25,
   "metadata": {},
   "outputs": [
    {
     "data": {
      "image/png": "[encoded data removed]",
      "text/plain": [
       "<Figure size 1440x504 with 1 Axes>"
      ]
     },
     "metadata": {
      "needs_background": "light"
     },
     "output_type": "display_data"
    }
   ],
   "source": [
    "plt.figure(figsize=(20,7))\n",
    "\n",
    "hist_list_all = [\n",
    "    rougher_input_all,\n",
    "    rougher_output_all,\n",
    "    primary_cleaner_output_all,\n",
    "    final_output_all\n",
    "]\n",
    "\n",
    "process = [\n",
    "    'Черновой материал', \n",
    "    'Флотация', \n",
    "    'Первичная очистка',\n",
    "    'Вторичная очистка'\n",
    "]\n",
    "\n",
    "for i in range(len(hist_list_all)):\n",
    "    gr_full[hist_list_all[i]].sum(axis=1).hist(bins=150, alpha=0.6, label=f'Этап {i+1}: {process[i]}')\n",
    "\n",
    "plt.legend()\n",
    "plt.title('Суммарная концентрация всех веществ на разных этапах очистки')\n",
    "plt.xlabel('Концентрация')\n",
    "plt.ylabel('Количество значений')\n",
    "plt.show()"
   ]
  },
  {
   "cell_type": "markdown",
   "metadata": {},
   "source": [
    "Концентрация полезных веществ увеличивается с ходом очистки. На финальном этапе уменьшается дисперсия значений, что ведет к более стабильному среднему значению получаемых на выходе полезных материалов."
   ]
  },
  {
   "cell_type": "markdown",
   "metadata": {},
   "source": [
    "<a id='part_4'></a>\n",
    "## 4. Модель"
   ]
  },
  {
   "cell_type": "markdown",
   "metadata": {},
   "source": [
    "<a id='part_4_1'></a>\n",
    "### 4.1 Функця для вычисления итоговой sMAPE [▴](#head)"
   ]
  },
  {
   "cell_type": "markdown",
   "metadata": {},
   "source": [
    "**`sMAPE`** (`Symmetric Mean Absolute Percentage Error` или `Симметричное Среднее Абсолютное Процентное Отклонение`). "
   ]
  },
  {
   "cell_type": "markdown",
   "metadata": {},
   "source": [
    "Найдем по следующей формуле:\n",
    "$$sMAPE = {1 \\over N} \\cdot \\sum_{i=1}^{N}{\\mid y_{i} - \\widehat{y_{i}} \\mid \\over \\left( \\mid y_{i} \\mid + \\mid \\widehat{y_{i}} \\mid \\right) \\div 2} \\cdot 100 \\%$$\n"
   ]
  },
  {
   "cell_type": "code",
   "execution_count": 26,
   "metadata": {},
   "outputs": [],
   "source": [
    "def smape(target, predictions):\n",
    "    error = 0\n",
    "    for i in range(target.shape[0]):\n",
    "        error += abs(target[i] - predictions[i]) / ((abs(target[i]) + abs(predictions[i])) / 2) * 100\n",
    "    return error / target.shape[0]"
   ]
  },
  {
   "cell_type": "markdown",
   "metadata": {},
   "source": [
    "Итоговое **`sMAPE`** найдем по следующей формуле:\n",
    "\n",
    "$$sMAPE_{conclusion} = \\left( 25\\% \\cdot sMAPE_{roughet} \\right) + \\left( 75\\% \\cdot sMAPE_{final} \\right)$$"
   ]
  },
  {
   "cell_type": "code",
   "execution_count": 27,
   "metadata": {},
   "outputs": [],
   "source": [
    "def conclusion_smape(targ_roug, pred_roug, targ_fin, pred_fin):\n",
    "    smape_rougher = smape(targ_roug, pred_roug)\n",
    "    smape_final = smape(targ_fin, pred_fin)\n",
    "    print(f'smape_rougher = {smape_rougher:.3f}')\n",
    "    print(f'smape_final = {smape_final:.3f}')\n",
    "    return (0.25 * smape_rougher) + (0.75 * smape_final)"
   ]
  },
  {
   "cell_type": "markdown",
   "metadata": {},
   "source": [
    "**Создадим оценщик на основе нашей функции:**"
   ]
  },
  {
   "cell_type": "code",
   "execution_count": 28,
   "metadata": {},
   "outputs": [],
   "source": [
    "smape_scorer = make_scorer(smape, greater_is_better=False) "
   ]
  },
  {
   "cell_type": "markdown",
   "metadata": {},
   "source": [
    "<a id='part_4_2'></a>\n",
    "### 4.2 Разбивка на выборки [▴](#head)"
   ]
  },
  {
   "cell_type": "markdown",
   "metadata": {},
   "source": [
    "**Разбивка на выборки**"
   ]
  },
  {
   "cell_type": "markdown",
   "metadata": {},
   "source": [
    "Для создания тренировочной выборки удалим из нее признаки, которые получаются уже в процессе очистки. Для этого у нас есть множество `difference_columns` осталось только дропнуть все столбцы, которые оно содержит."
   ]
  },
  {
   "cell_type": "code",
   "execution_count": 29,
   "metadata": {},
   "outputs": [],
   "source": [
    "features_train = gr_train.drop(difference_columns, axis=1)\n",
    "target_train_rougher_output = gr_train['rougher.output.recovery'] # целевой черновой\n",
    "target_train_final_output = gr_train['final.output.recovery'] # целевой финальный"
   ]
  },
  {
   "cell_type": "markdown",
   "metadata": {},
   "source": [
    "Так как в `тестовой` выборке отсутствуют целевые значения, а они нам нужны для оценки построенной модели, подтянем их из `полного` датасета по индексам."
   ]
  },
  {
   "cell_type": "code",
   "execution_count": 30,
   "metadata": {},
   "outputs": [],
   "source": [
    "features_test = gr_test.copy()\n",
    "target_test_rougher_output = gr_full['rougher.output.recovery'][gr_test.index] # целевой черновой\n",
    "target_test_final_output = gr_full['final.output.recovery'][gr_test.index] # целевой финальный"
   ]
  },
  {
   "cell_type": "markdown",
   "metadata": {},
   "source": [
    "<a id='part_4_3'></a>\n",
    "### 4.3 Выбор модели - Линейная регрессия [▴](#head)"
   ]
  },
  {
   "cell_type": "markdown",
   "metadata": {},
   "source": [
    "Проверим Линейную регрессию методом кросс-валидации"
   ]
  },
  {
   "cell_type": "code",
   "execution_count": 31,
   "metadata": {},
   "outputs": [
    {
     "name": "stdout",
     "output_type": "stream",
     "text": [
      "mean_score_rougher: -7.257\n",
      "mean_score_final: -10.760\n"
     ]
    }
   ],
   "source": [
    "model_linear_regression = LinearRegression(normalize=True)\n",
    "\n",
    "scores_rougher = cross_val_score(model_linear_regression, \n",
    "                                 features_train, \n",
    "                                 target_train_rougher_output, \n",
    "                                 scoring=smape_scorer, cv=5, n_jobs=-1)\n",
    "\n",
    "scores_final = cross_val_score(model_linear_regression, \n",
    "                               features_train, \n",
    "                               target_train_final_output, \n",
    "                               scoring=smape_scorer, cv=5, n_jobs=-1)\n",
    "\n",
    "mean_score_rougher = np.mean(scores_rougher)\n",
    "mean_score_final = np.mean(scores_final)\n",
    "\n",
    "print(f'mean_score_rougher: {mean_score_rougher:.3f}')\n",
    "print(f'mean_score_final: {mean_score_final:.3f}')"
   ]
  },
  {
   "cell_type": "markdown",
   "metadata": {},
   "source": [
    "<a id='part_4_4'></a>\n",
    "### 4.4 Выбор модели - Дерево решений [▴](#head)"
   ]
  },
  {
   "cell_type": "markdown",
   "metadata": {},
   "source": [
    "Для начала установим параметры поиска `Дерева решений` для `GreedSearchCV`:"
   ]
  },
  {
   "cell_type": "code",
   "execution_count": 32,
   "metadata": {},
   "outputs": [],
   "source": [
    "params_decision_tree = {\n",
    "    'max_depth': [2, 5, 10],\n",
    "    'min_samples_leaf': [1, 2, 3],\n",
    "    'min_samples_split': [2, 4, 6]\n",
    "}"
   ]
  },
  {
   "cell_type": "markdown",
   "metadata": {},
   "source": [
    "**ROUGHER _ GreedSearch**"
   ]
  },
  {
   "cell_type": "code",
   "execution_count": 33,
   "metadata": {},
   "outputs": [],
   "source": [
    "# grid_search_tree_rougher = GridSearchCV(\n",
    "#     estimator=DecisionTreeRegressor(random_state=12345),\n",
    "#     param_grid=params_decision_tree,\n",
    "#     cv=5,\n",
    "#     scoring=smape_scorer,\n",
    "#     n_jobs=-1\n",
    "# )\n",
    "\n",
    "# grid_search_tree_rougher.fit(features_train, target_train_rougher_output)\n",
    "\n",
    "# print(f'Лучший score модели: {grid_search_tree_rougher.best_score_:.3f}')\n",
    "# print(f'Параметры лучшей модели: {grid_search_tree_rougher.best_params_}')"
   ]
  },
  {
   "cell_type": "markdown",
   "metadata": {},
   "source": [
    "    Лучший score модели: -6.891\n",
    "    Параметры лучшей модели: {'max_depth': 5, 'min_samples_leaf': 3, 'min_samples_split': 2}"
   ]
  },
  {
   "cell_type": "markdown",
   "metadata": {},
   "source": [
    "Теперь подставим полученные параметры и оценим результат средним значением по кросс-валидации."
   ]
  },
  {
   "cell_type": "markdown",
   "metadata": {},
   "source": [
    "**ROUGHER _ Оценка кросс-валидацией**"
   ]
  },
  {
   "cell_type": "code",
   "execution_count": 34,
   "metadata": {},
   "outputs": [
    {
     "name": "stdout",
     "output_type": "stream",
     "text": [
      "mean_score_rougher: -6.891\n"
     ]
    }
   ],
   "source": [
    "model_decision_tree_rougher = DecisionTreeRegressor(max_depth=5,\n",
    "                                            min_samples_leaf=3,\n",
    "                                            min_samples_split=2,\n",
    "                                            random_state=12345)\n",
    "\n",
    "scores_rougher = cross_val_score(model_decision_tree_rougher, \n",
    "                                 features_train, \n",
    "                                 target_train_rougher_output, \n",
    "                                 scoring=smape_scorer, cv=5, n_jobs=-1)\n",
    "\n",
    "mean_score_rougher = np.mean(scores_rougher)\n",
    "\n",
    "print(f'mean_score_rougher: {mean_score_rougher:.3f}')"
   ]
  },
  {
   "cell_type": "markdown",
   "metadata": {},
   "source": [
    "**FINAL _ GreedSearch**"
   ]
  },
  {
   "cell_type": "code",
   "execution_count": 35,
   "metadata": {},
   "outputs": [],
   "source": [
    "# grid_search_tree_final = GridSearchCV(\n",
    "#     estimator=DecisionTreeRegressor(random_state=12345),\n",
    "#     param_grid=params_decision_tree,\n",
    "#     cv=5,\n",
    "#     scoring=smape_scorer,\n",
    "#     n_jobs=-1\n",
    "# )\n",
    "\n",
    "# grid_search_tree_final.fit(features_train, target_train_final_output)\n",
    "\n",
    "# print(f'Лучший score модели: {grid_search_tree_final.best_score_:.3f}')\n",
    "# print(f'Параметры лучшей модели: {grid_search_tree_final.best_params_}')"
   ]
  },
  {
   "cell_type": "markdown",
   "metadata": {},
   "source": [
    "    Лучший score модели: -9.151\n",
    "    Параметры лучшей модели: {'max_depth': 2, 'min_samples_leaf': 1, 'min_samples_split': 2}"
   ]
  },
  {
   "cell_type": "markdown",
   "metadata": {},
   "source": [
    "Теперь подставим полученные параметры и оценим результат средним значением по кросс-валидации."
   ]
  },
  {
   "cell_type": "markdown",
   "metadata": {},
   "source": [
    "**FINAL _ Оценка кросс-валидацией**"
   ]
  },
  {
   "cell_type": "code",
   "execution_count": 36,
   "metadata": {},
   "outputs": [
    {
     "name": "stdout",
     "output_type": "stream",
     "text": [
      "mean_score_final: -9.151\n"
     ]
    }
   ],
   "source": [
    "model_decision_tree_final = DecisionTreeRegressor(max_depth=2,\n",
    "                                            min_samples_leaf=1,\n",
    "                                            min_samples_split=2,\n",
    "                                            random_state=12345)\n",
    "\n",
    "scores_final = cross_val_score(model_decision_tree_final, \n",
    "                               features_train, \n",
    "                               target_train_final_output, \n",
    "                               scoring=smape_scorer, cv=5, n_jobs=-1)\n",
    "\n",
    "mean_score_final = np.mean(scores_final)\n",
    "\n",
    "print(f'mean_score_final: {mean_score_final:.3f}')"
   ]
  },
  {
   "cell_type": "markdown",
   "metadata": {},
   "source": [
    "<a id='part_4_5'></a>\n",
    "### 4.5 Выбор модели - Случайный лес [▴](#head)"
   ]
  },
  {
   "cell_type": "markdown",
   "metadata": {},
   "source": [
    "Для начала установим параметры поиска `Случайного леса` для `GreedSearchCV`:"
   ]
  },
  {
   "cell_type": "code",
   "execution_count": 37,
   "metadata": {},
   "outputs": [],
   "source": [
    "params_random_forest = {\n",
    "    'n_estimators': [50, 75, 100],\n",
    "    'min_samples_leaf': [5],\n",
    "    'min_samples_split': [2],\n",
    "    'max_depth': [4, 5, 6]\n",
    "}"
   ]
  },
  {
   "cell_type": "markdown",
   "metadata": {},
   "source": [
    "**ROUGHER _ GreedSearch**"
   ]
  },
  {
   "cell_type": "code",
   "execution_count": 38,
   "metadata": {},
   "outputs": [],
   "source": [
    "# grid_search_forest_rougher = GridSearchCV(\n",
    "#     estimator=RandomForestRegressor(random_state=12345),\n",
    "#     param_grid=params_random_forest,\n",
    "#     cv=5,\n",
    "#     scoring=smape_scorer,\n",
    "#     n_jobs=-1\n",
    "# )\n",
    "\n",
    "# grid_search_forest_rougher.fit(features_train, target_train_rougher_output)\n",
    "\n",
    "# print(f'Лучший score модели: {grid_search_forest_rougher.best_score_:.3f}')\n",
    "# print(f'Параметры лучшей модели: {grid_search_forest_rougher.best_params_}')"
   ]
  },
  {
   "cell_type": "markdown",
   "metadata": {},
   "source": [
    "    Лучший score модели: -6.409\n",
    "    Параметры лучшей модели: {'max_depth': 5, 'min_samples_leaf': 5, 'min_samples_split': 2, 'n_estimators': 75}"
   ]
  },
  {
   "cell_type": "markdown",
   "metadata": {},
   "source": [
    "**ROUGHER _ Оценка кросс-валидацией**"
   ]
  },
  {
   "cell_type": "code",
   "execution_count": 39,
   "metadata": {},
   "outputs": [
    {
     "name": "stdout",
     "output_type": "stream",
     "text": [
      "mean_score_rougher: -6.409\n"
     ]
    }
   ],
   "source": [
    "model_random_forest_rougher = RandomForestRegressor(n_estimators=75, \n",
    "                                            max_depth=5, \n",
    "                                            min_samples_leaf=5,\n",
    "                                            min_samples_split=2,\n",
    "                                            random_state=12345)\n",
    "\n",
    "scores_rougher = cross_val_score(model_random_forest_rougher, \n",
    "                                 features_train, \n",
    "                                 target_train_rougher_output, \n",
    "                                 scoring=smape_scorer, cv=5, n_jobs=-1)\n",
    "\n",
    "mean_score_rougher = np.mean(scores_rougher)\n",
    "\n",
    "print(f'mean_score_rougher: {mean_score_rougher:.3f}')"
   ]
  },
  {
   "cell_type": "markdown",
   "metadata": {},
   "source": [
    "**FINAL _ GreedSearch**"
   ]
  },
  {
   "cell_type": "code",
   "execution_count": 40,
   "metadata": {},
   "outputs": [],
   "source": [
    "# grid_search_forest_final = GridSearchCV(\n",
    "#     estimator=RandomForestRegressor(random_state=12345),\n",
    "#     param_grid=params_random_forest,\n",
    "#     cv=5,\n",
    "#     scoring=smape_scorer,\n",
    "#     n_jobs=-1\n",
    "# )\n",
    "\n",
    "# grid_search_forest_final.fit(features_train, target_train_final_output)\n",
    "\n",
    "# print(f'Лучший score модели: {grid_search_forest_final.best_score_:.3f}')\n",
    "# print(f'Параметры лучшей модели: {grid_search_forest_final.best_params_}')"
   ]
  },
  {
   "cell_type": "markdown",
   "metadata": {},
   "source": [
    "    Лучший score модели: -8.734\n",
    "    Параметры лучшей модели: {'max_depth': 5, 'min_samples_leaf': 5, 'min_samples_split': 2, 'n_estimators': 50}"
   ]
  },
  {
   "cell_type": "markdown",
   "metadata": {},
   "source": [
    "**FINAL _ Оценка кросс-валидацией**"
   ]
  },
  {
   "cell_type": "code",
   "execution_count": 41,
   "metadata": {},
   "outputs": [
    {
     "name": "stdout",
     "output_type": "stream",
     "text": [
      "mean_score_final: -8.734\n"
     ]
    }
   ],
   "source": [
    "model_random_forest_final = RandomForestRegressor(n_estimators=50,\n",
    "                                            max_depth=5,\n",
    "                                            min_samples_leaf=5,\n",
    "                                            min_samples_split=2,\n",
    "                                            random_state=12345)\n",
    "\n",
    "scores_final = cross_val_score(model_random_forest_final, \n",
    "                               features_train, \n",
    "                               target_train_final_output, \n",
    "                               scoring=smape_scorer, cv=5, n_jobs=-1)\n",
    "\n",
    "mean_score_final = np.mean(scores_final)\n",
    "\n",
    "print(f'mean_score_final: {mean_score_final:.3f}')"
   ]
  },
  {
   "cell_type": "markdown",
   "metadata": {},
   "source": [
    "**Выводы**\n",
    "\n",
    "После проведенной оценки моделей, получили следующие значения `Симметричного среднего абсолютного отклонения` (**`sMAPE`**) в процентах:\n",
    "\n",
    "Модель | rougher % | final %\n",
    "-|-|-\n",
    "**Линейная регрессия** | 7.257 | 10.760\n",
    "**Дерево решений** | 6.891 | 9.151\n",
    "**Случайный лес** | 6.409 | 8.734\n",
    "\n",
    "Минимальное отклонение дала модель `Случайного леса`, выберем ее для финального тестирования."
   ]
  },
  {
   "cell_type": "markdown",
   "metadata": {},
   "source": [
    "<a id='part_4_6'></a>\n",
    "### 4.6 Проверка sMAPE на тестовой выборке [▴](#head)"
   ]
  },
  {
   "cell_type": "markdown",
   "metadata": {},
   "source": [
    "**Случайный лес**"
   ]
  },
  {
   "cell_type": "code",
   "execution_count": 42,
   "metadata": {},
   "outputs": [
    {
     "name": "stdout",
     "output_type": "stream",
     "text": [
      "smape_rougher = 4.423\n",
      "smape_final = 8.157\n",
      "Итоговый sMAPE = 7.223\n"
     ]
    }
   ],
   "source": [
    "model_random_forest_rougher.fit(features_train, target_train_rougher_output)\n",
    "predicted_test_rougher = model_random_forest_rougher.predict(features_test)\n",
    "\n",
    "model_random_forest_final.fit(features_train, target_train_final_output)\n",
    "predicted_test_final = model_random_forest_final.predict(features_test)\n",
    "\n",
    "conclusion = conclusion_smape(\n",
    "    target_test_rougher_output,\n",
    "    predicted_test_rougher,\n",
    "    \n",
    "    target_test_final_output,\n",
    "    predicted_test_final\n",
    ")\n",
    "\n",
    "print(f'Итоговый sMAPE = {conclusion:.3f}')"
   ]
  },
  {
   "cell_type": "markdown",
   "metadata": {},
   "source": [
    "Итоговый **`sMAPE`** составил **`7.223%`**, проверим результат на адекватность с помощью модели **`Dummy Regressor`**"
   ]
  },
  {
   "cell_type": "code",
   "execution_count": 43,
   "metadata": {},
   "outputs": [
    {
     "name": "stdout",
     "output_type": "stream",
     "text": [
      "smape_rougher = 5.254\n",
      "smape_final = 8.446\n",
      "Итоговый sMAPE = 7.648\n"
     ]
    }
   ],
   "source": [
    "model_dummy_rougher = DummyRegressor()\n",
    "model_dummy_final = DummyRegressor()\n",
    "\n",
    "model_dummy_rougher.fit(features_train, target_train_rougher_output)\n",
    "predicted_test_rougher = model_dummy_rougher.predict(features_test)\n",
    "\n",
    "model_dummy_final.fit(features_train, target_train_final_output)\n",
    "predicted_test_final = model_dummy_final.predict(features_test)\n",
    "\n",
    "conclusion = conclusion_smape(\n",
    "    target_test_rougher_output,\n",
    "    predicted_test_rougher,\n",
    "    \n",
    "    target_test_final_output,\n",
    "    predicted_test_final\n",
    ")\n",
    "\n",
    "print(f'Итоговый sMAPE = {conclusion:.3f}')"
   ]
  },
  {
   "cell_type": "markdown",
   "metadata": {},
   "source": [
    "Как видим **`Dummy Regressor`** дал результат хуже чем у нашей модели. На основе чего можем сказать, что наша модель ведет себя адекватно."
   ]
  },
  {
   "cell_type": "markdown",
   "metadata": {},
   "source": [
    "<a id='part_4_conclusions'></a>\n",
    "### Выводы [▴](#head)"
   ]
  },
  {
   "cell_type": "markdown",
   "metadata": {},
   "source": [
    "Мы провели исследование процесса восстановления золота из руды. Входные данные оказались достаточно чистыми, чтобы практически сразу приступить у исследованию.\n",
    "\n",
    "В процессе исследования мы убедились, что параметры обогащения рассчитаны правильно\n",
    "\n",
    "Что касается очистки, на финальном этапе как правило уменьшается дисперсия концентрации материалов, то есть разброс значений становится меньше, как следствие итоговый результат стабильней чем предыдущие этапы, а так же:\n",
    "- концентрация `золота` растет стабильно на каждом этапе.\n",
    "- концентрация `серебра` наоборот, к финалу очистки оказывается даже ниже чем в черновом сырье\n",
    "- концентрация `свинца` на финале очистки оказывается выше чем в черновом материале\n",
    "\n",
    "Дополнительно мы проверили, что разброс значений размеров гранул сырья на `тестовой` и `тренировочной` выборке примерно одинаковый, что позволило нам избежать ошибок в обучении модели.\n",
    "\n",
    "По итогу выбора моделей, самая точная оказалсь модель `Случайного леса`, именно ее мы использовали для финального тестирования.\n",
    "\n",
    "Итоговый параметр `sMAPE`, которого нам удолось добиться = `7.223%`, что лучше чем у случайной `Dummy` модели, что позволяет нам использовать нашу обученную модель в производстве."
   ]
  }
 ],
 "metadata": {
  "ExecuteTimeLog": [
   {
    "duration": 761,
    "start_time": "2022-05-30T21:40:25.321Z"
   },
   {
    "duration": 5,
    "start_time": "2022-05-30T21:40:26.084Z"
   },
   {
    "duration": 3,
    "start_time": "2022-05-30T21:40:26.091Z"
   },
   {
    "duration": 37,
    "start_time": "2022-05-30T21:40:26.096Z"
   },
   {
    "duration": 21,
    "start_time": "2022-05-30T21:40:26.151Z"
   },
   {
    "duration": 98,
    "start_time": "2022-05-30T21:40:26.174Z"
   },
   {
    "duration": 12,
    "start_time": "2022-05-30T21:40:26.275Z"
   },
   {
    "duration": 8,
    "start_time": "2022-05-30T21:40:26.289Z"
   },
   {
    "duration": 11,
    "start_time": "2022-05-30T21:40:26.298Z"
   },
   {
    "duration": 8,
    "start_time": "2022-05-30T21:40:26.312Z"
   },
   {
    "duration": 6,
    "start_time": "2022-05-30T21:40:26.321Z"
   },
   {
    "duration": 28,
    "start_time": "2022-05-30T21:40:26.329Z"
   },
   {
    "duration": 14,
    "start_time": "2022-05-30T21:40:26.358Z"
   },
   {
    "duration": 8,
    "start_time": "2022-05-30T21:40:26.374Z"
   },
   {
    "duration": 12,
    "start_time": "2022-05-30T21:40:26.383Z"
   },
   {
    "duration": 6,
    "start_time": "2022-05-30T21:40:26.397Z"
   },
   {
    "duration": 4,
    "start_time": "2022-05-30T21:40:26.405Z"
   },
   {
    "duration": 7,
    "start_time": "2022-05-30T21:40:26.410Z"
   },
   {
    "duration": 36,
    "start_time": "2022-05-30T21:40:26.418Z"
   },
   {
    "duration": 14,
    "start_time": "2022-05-30T21:40:26.456Z"
   },
   {
    "duration": 14,
    "start_time": "2022-05-30T21:40:26.472Z"
   },
   {
    "duration": 8,
    "start_time": "2022-05-30T21:40:26.488Z"
   },
   {
    "duration": 9,
    "start_time": "2022-05-30T21:40:26.497Z"
   },
   {
    "duration": 12,
    "start_time": "2022-05-30T21:40:26.508Z"
   },
   {
    "duration": 43,
    "start_time": "2022-05-30T21:40:26.521Z"
   },
   {
    "duration": 6,
    "start_time": "2022-05-30T21:40:26.565Z"
   },
   {
    "duration": 12,
    "start_time": "2022-05-30T21:40:26.572Z"
   },
   {
    "duration": 328,
    "start_time": "2022-05-30T21:40:26.587Z"
   },
   {
    "duration": 494,
    "start_time": "2022-05-30T21:40:26.916Z"
   },
   {
    "duration": 10,
    "start_time": "2022-05-30T21:40:27.413Z"
   },
   {
    "duration": 546,
    "start_time": "2022-05-30T21:40:27.424Z"
   },
   {
    "duration": 331,
    "start_time": "2022-05-30T21:40:27.972Z"
   },
   {
    "duration": 122,
    "start_time": "2022-05-30T21:40:28.305Z"
   },
   {
    "duration": 13,
    "start_time": "2022-05-30T21:40:28.428Z"
   },
   {
    "duration": 212,
    "start_time": "2022-05-30T21:40:28.451Z"
   },
   {
    "duration": 3,
    "start_time": "2022-05-30T21:40:28.665Z"
   },
   {
    "duration": 735,
    "start_time": "2022-05-30T21:40:28.669Z"
   },
   {
    "duration": 175,
    "start_time": "2022-05-30T21:40:29.406Z"
   },
   {
    "duration": 50,
    "start_time": "2022-05-30T21:40:29.583Z"
   },
   {
    "duration": 74,
    "start_time": "2022-05-30T21:40:29.635Z"
   },
   {
    "duration": 21,
    "start_time": "2022-05-30T21:40:29.711Z"
   },
   {
    "duration": 10,
    "start_time": "2022-05-30T21:40:29.752Z"
   },
   {
    "duration": 32,
    "start_time": "2022-05-30T21:40:29.763Z"
   },
   {
    "duration": 2225,
    "start_time": "2022-05-30T21:40:29.797Z"
   },
   {
    "duration": 422,
    "start_time": "2022-05-30T21:40:32.023Z"
   },
   {
    "duration": 423,
    "start_time": "2022-05-30T21:40:32.452Z"
   },
   {
    "duration": 6,
    "start_time": "2022-05-30T21:40:32.876Z"
   },
   {
    "duration": 404,
    "start_time": "2022-05-30T21:40:32.884Z"
   },
   {
    "duration": 165,
    "start_time": "2022-05-30T21:40:33.289Z"
   },
   {
    "duration": 156,
    "start_time": "2022-05-30T21:40:33.456Z"
   },
   {
    "duration": 162,
    "start_time": "2022-05-30T21:40:33.614Z"
   },
   {
    "duration": 159,
    "start_time": "2022-05-30T21:40:33.778Z"
   },
   {
    "duration": 3,
    "start_time": "2022-05-30T21:40:33.939Z"
   },
   {
    "duration": 55,
    "start_time": "2022-05-30T21:40:33.951Z"
   },
   {
    "duration": 24,
    "start_time": "2022-05-30T21:40:34.007Z"
   },
   {
    "duration": 207,
    "start_time": "2022-05-30T21:40:34.032Z"
   },
   {
    "duration": 19,
    "start_time": "2022-05-30T21:40:34.240Z"
   },
   {
    "duration": 12,
    "start_time": "2022-05-30T21:40:34.261Z"
   },
   {
    "duration": 8,
    "start_time": "2022-05-30T21:40:34.274Z"
   },
   {
    "duration": 14,
    "start_time": "2022-05-30T21:40:34.284Z"
   },
   {
    "duration": 201,
    "start_time": "2022-05-30T21:40:34.299Z"
   },
   {
    "duration": 7,
    "start_time": "2022-05-30T21:40:34.501Z"
   },
   {
    "duration": 412,
    "start_time": "2022-05-30T21:40:34.510Z"
   },
   {
    "duration": 165,
    "start_time": "2022-05-30T21:40:34.924Z"
   },
   {
    "duration": 205,
    "start_time": "2022-05-30T21:40:35.090Z"
   },
   {
    "duration": 16,
    "start_time": "2022-05-30T21:40:35.298Z"
   },
   {
    "duration": 40,
    "start_time": "2022-05-30T21:40:35.315Z"
   },
   {
    "duration": 40,
    "start_time": "2022-05-31T16:59:43.091Z"
   },
   {
    "duration": 3,
    "start_time": "2022-05-31T18:33:19.102Z"
   },
   {
    "duration": 4,
    "start_time": "2022-05-31T18:33:23.245Z"
   },
   {
    "duration": 3,
    "start_time": "2022-05-31T18:33:45.515Z"
   },
   {
    "duration": 6,
    "start_time": "2022-05-31T19:06:00.876Z"
   },
   {
    "duration": 3,
    "start_time": "2022-05-31T19:06:05.011Z"
   },
   {
    "duration": 65,
    "start_time": "2022-05-31T19:07:05.945Z"
   },
   {
    "duration": 1757,
    "start_time": "2022-05-31T19:10:51.079Z"
   },
   {
    "duration": 5,
    "start_time": "2022-05-31T19:10:52.838Z"
   },
   {
    "duration": 5,
    "start_time": "2022-05-31T19:10:52.844Z"
   },
   {
    "duration": 68,
    "start_time": "2022-05-31T19:10:52.850Z"
   },
   {
    "duration": 19,
    "start_time": "2022-05-31T19:10:52.920Z"
   },
   {
    "duration": 89,
    "start_time": "2022-05-31T19:10:52.940Z"
   },
   {
    "duration": 14,
    "start_time": "2022-05-31T19:10:53.031Z"
   },
   {
    "duration": 15,
    "start_time": "2022-05-31T19:10:53.046Z"
   },
   {
    "duration": 47,
    "start_time": "2022-05-31T19:10:53.064Z"
   },
   {
    "duration": 10,
    "start_time": "2022-05-31T19:10:53.113Z"
   },
   {
    "duration": 5,
    "start_time": "2022-05-31T19:10:53.125Z"
   },
   {
    "duration": 20,
    "start_time": "2022-05-31T19:10:53.131Z"
   },
   {
    "duration": 33,
    "start_time": "2022-05-31T19:10:53.153Z"
   },
   {
    "duration": 6,
    "start_time": "2022-05-31T19:10:53.196Z"
   },
   {
    "duration": 8,
    "start_time": "2022-05-31T19:10:53.204Z"
   },
   {
    "duration": 10,
    "start_time": "2022-05-31T19:10:53.214Z"
   },
   {
    "duration": 5,
    "start_time": "2022-05-31T19:10:53.225Z"
   },
   {
    "duration": 5,
    "start_time": "2022-05-31T19:10:53.231Z"
   },
   {
    "duration": 6,
    "start_time": "2022-05-31T19:10:53.238Z"
   },
   {
    "duration": 27,
    "start_time": "2022-05-31T19:10:53.254Z"
   },
   {
    "duration": 25,
    "start_time": "2022-05-31T19:10:53.282Z"
   },
   {
    "duration": 12,
    "start_time": "2022-05-31T19:10:53.309Z"
   },
   {
    "duration": 14,
    "start_time": "2022-05-31T19:10:53.322Z"
   },
   {
    "duration": 36,
    "start_time": "2022-05-31T19:10:53.337Z"
   },
   {
    "duration": 26,
    "start_time": "2022-05-31T19:10:53.378Z"
   },
   {
    "duration": 6,
    "start_time": "2022-05-31T19:10:53.407Z"
   },
   {
    "duration": 14,
    "start_time": "2022-05-31T19:10:53.414Z"
   },
   {
    "duration": 367,
    "start_time": "2022-05-31T19:10:53.429Z"
   },
   {
    "duration": 513,
    "start_time": "2022-05-31T19:10:53.798Z"
   },
   {
    "duration": 8,
    "start_time": "2022-05-31T19:10:54.313Z"
   },
   {
    "duration": 657,
    "start_time": "2022-05-31T19:10:54.323Z"
   },
   {
    "duration": 267,
    "start_time": "2022-05-31T19:10:54.985Z"
   },
   {
    "duration": 128,
    "start_time": "2022-05-31T19:10:55.261Z"
   },
   {
    "duration": 12,
    "start_time": "2022-05-31T19:10:55.391Z"
   },
   {
    "duration": 285,
    "start_time": "2022-05-31T19:10:55.404Z"
   },
   {
    "duration": 3,
    "start_time": "2022-05-31T19:10:55.690Z"
   },
   {
    "duration": 7,
    "start_time": "2022-05-31T19:10:55.694Z"
   },
   {
    "duration": 8,
    "start_time": "2022-05-31T19:10:55.703Z"
   },
   {
    "duration": 10,
    "start_time": "2022-05-31T19:10:55.713Z"
   },
   {
    "duration": 10,
    "start_time": "2022-05-31T19:10:55.724Z"
   },
   {
    "duration": 8,
    "start_time": "2022-05-31T19:10:55.738Z"
   },
   {
    "duration": 40,
    "start_time": "2022-05-31T19:10:55.747Z"
   },
   {
    "duration": 7,
    "start_time": "2022-05-31T19:10:55.788Z"
   },
   {
    "duration": 9,
    "start_time": "2022-05-31T19:10:55.796Z"
   },
   {
    "duration": 7,
    "start_time": "2022-05-31T19:10:55.806Z"
   },
   {
    "duration": 880,
    "start_time": "2022-05-31T19:10:55.814Z"
   },
   {
    "duration": 187,
    "start_time": "2022-05-31T19:10:56.695Z"
   },
   {
    "duration": 48,
    "start_time": "2022-05-31T19:10:56.886Z"
   },
   {
    "duration": 84,
    "start_time": "2022-05-31T19:10:56.937Z"
   },
   {
    "duration": 19,
    "start_time": "2022-05-31T19:10:57.023Z"
   },
   {
    "duration": 20,
    "start_time": "2022-05-31T19:10:57.044Z"
   },
   {
    "duration": 53,
    "start_time": "2022-05-31T19:10:57.066Z"
   },
   {
    "duration": 2378,
    "start_time": "2022-05-31T19:10:57.120Z"
   },
   {
    "duration": 497,
    "start_time": "2022-05-31T19:10:59.499Z"
   },
   {
    "duration": 445,
    "start_time": "2022-05-31T19:10:59.998Z"
   },
   {
    "duration": 5,
    "start_time": "2022-05-31T19:11:00.445Z"
   },
   {
    "duration": 461,
    "start_time": "2022-05-31T19:11:00.457Z"
   },
   {
    "duration": 197,
    "start_time": "2022-05-31T19:11:00.920Z"
   },
   {
    "duration": 171,
    "start_time": "2022-05-31T19:11:01.119Z"
   },
   {
    "duration": 225,
    "start_time": "2022-05-31T19:11:01.292Z"
   },
   {
    "duration": 225,
    "start_time": "2022-05-31T19:11:01.519Z"
   },
   {
    "duration": 3,
    "start_time": "2022-05-31T19:11:01.746Z"
   },
   {
    "duration": 123,
    "start_time": "2022-05-31T19:11:01.751Z"
   },
   {
    "duration": 29,
    "start_time": "2022-05-31T19:11:01.878Z"
   },
   {
    "duration": 224,
    "start_time": "2022-05-31T19:11:01.909Z"
   },
   {
    "duration": 21,
    "start_time": "2022-05-31T19:11:02.135Z"
   },
   {
    "duration": 40,
    "start_time": "2022-05-31T19:11:02.159Z"
   },
   {
    "duration": 15,
    "start_time": "2022-05-31T19:11:02.203Z"
   },
   {
    "duration": 25,
    "start_time": "2022-05-31T19:11:02.220Z"
   },
   {
    "duration": 272,
    "start_time": "2022-05-31T19:11:02.247Z"
   },
   {
    "duration": 9,
    "start_time": "2022-05-31T19:11:02.521Z"
   },
   {
    "duration": 593,
    "start_time": "2022-05-31T19:11:02.532Z"
   },
   {
    "duration": 211,
    "start_time": "2022-05-31T19:11:03.127Z"
   },
   {
    "duration": 212,
    "start_time": "2022-05-31T19:11:03.340Z"
   },
   {
    "duration": 37,
    "start_time": "2022-05-31T19:11:03.554Z"
   },
   {
    "duration": 38,
    "start_time": "2022-05-31T19:11:03.592Z"
   },
   {
    "duration": 28,
    "start_time": "2022-05-31T19:18:36.451Z"
   },
   {
    "duration": 36,
    "start_time": "2022-05-31T19:18:51.026Z"
   },
   {
    "duration": 6,
    "start_time": "2022-05-31T19:26:21.317Z"
   },
   {
    "duration": 24,
    "start_time": "2022-05-31T19:27:39.775Z"
   },
   {
    "duration": 39,
    "start_time": "2022-05-31T19:28:34.886Z"
   },
   {
    "duration": 49,
    "start_time": "2022-05-31T19:31:48.320Z"
   },
   {
    "duration": 77,
    "start_time": "2022-05-31T19:33:46.041Z"
   },
   {
    "duration": 96,
    "start_time": "2022-05-31T19:35:01.318Z"
   },
   {
    "duration": 81,
    "start_time": "2022-05-31T19:35:23.540Z"
   },
   {
    "duration": 49,
    "start_time": "2022-05-31T19:35:27.961Z"
   },
   {
    "duration": 46,
    "start_time": "2022-05-31T19:36:32.442Z"
   },
   {
    "duration": 791,
    "start_time": "2022-05-31T19:36:55.730Z"
   },
   {
    "duration": 7,
    "start_time": "2022-05-31T19:36:56.522Z"
   },
   {
    "duration": 3,
    "start_time": "2022-05-31T19:36:56.530Z"
   },
   {
    "duration": 52,
    "start_time": "2022-05-31T19:36:56.535Z"
   },
   {
    "duration": 13,
    "start_time": "2022-05-31T19:36:56.589Z"
   },
   {
    "duration": 95,
    "start_time": "2022-05-31T19:36:56.603Z"
   },
   {
    "duration": 11,
    "start_time": "2022-05-31T19:36:56.700Z"
   },
   {
    "duration": 4,
    "start_time": "2022-05-31T19:36:56.713Z"
   },
   {
    "duration": 6,
    "start_time": "2022-05-31T19:36:56.718Z"
   },
   {
    "duration": 5,
    "start_time": "2022-05-31T19:36:56.726Z"
   },
   {
    "duration": 15,
    "start_time": "2022-05-31T19:36:56.754Z"
   },
   {
    "duration": 13,
    "start_time": "2022-05-31T19:36:56.771Z"
   },
   {
    "duration": 8,
    "start_time": "2022-05-31T19:36:56.786Z"
   },
   {
    "duration": 10,
    "start_time": "2022-05-31T19:36:56.796Z"
   },
   {
    "duration": 8,
    "start_time": "2022-05-31T19:36:56.807Z"
   },
   {
    "duration": 5,
    "start_time": "2022-05-31T19:36:56.816Z"
   },
   {
    "duration": 4,
    "start_time": "2022-05-31T19:36:56.823Z"
   },
   {
    "duration": 17,
    "start_time": "2022-05-31T19:36:56.854Z"
   },
   {
    "duration": 5,
    "start_time": "2022-05-31T19:36:56.872Z"
   },
   {
    "duration": 13,
    "start_time": "2022-05-31T19:36:56.879Z"
   },
   {
    "duration": 12,
    "start_time": "2022-05-31T19:36:56.893Z"
   },
   {
    "duration": 8,
    "start_time": "2022-05-31T19:36:56.906Z"
   },
   {
    "duration": 9,
    "start_time": "2022-05-31T19:36:56.915Z"
   },
   {
    "duration": 35,
    "start_time": "2022-05-31T19:36:56.925Z"
   },
   {
    "duration": 21,
    "start_time": "2022-05-31T19:36:56.964Z"
   },
   {
    "duration": 5,
    "start_time": "2022-05-31T19:36:56.986Z"
   },
   {
    "duration": 14,
    "start_time": "2022-05-31T19:36:56.992Z"
   },
   {
    "duration": 332,
    "start_time": "2022-05-31T19:36:57.010Z"
   },
   {
    "duration": 475,
    "start_time": "2022-05-31T19:36:57.344Z"
   },
   {
    "duration": 10,
    "start_time": "2022-05-31T19:36:57.820Z"
   },
   {
    "duration": 598,
    "start_time": "2022-05-31T19:36:57.831Z"
   },
   {
    "duration": 260,
    "start_time": "2022-05-31T19:36:58.431Z"
   },
   {
    "duration": 117,
    "start_time": "2022-05-31T19:36:58.693Z"
   },
   {
    "duration": 12,
    "start_time": "2022-05-31T19:36:58.812Z"
   },
   {
    "duration": 230,
    "start_time": "2022-05-31T19:36:58.825Z"
   },
   {
    "duration": 5,
    "start_time": "2022-05-31T19:36:59.065Z"
   },
   {
    "duration": 7,
    "start_time": "2022-05-31T19:36:59.072Z"
   },
   {
    "duration": 6,
    "start_time": "2022-05-31T19:36:59.081Z"
   },
   {
    "duration": 9,
    "start_time": "2022-05-31T19:36:59.089Z"
   },
   {
    "duration": 8,
    "start_time": "2022-05-31T19:36:59.100Z"
   },
   {
    "duration": 5,
    "start_time": "2022-05-31T19:36:59.110Z"
   },
   {
    "duration": 12,
    "start_time": "2022-05-31T19:36:59.116Z"
   },
   {
    "duration": 8,
    "start_time": "2022-05-31T19:36:59.130Z"
   },
   {
    "duration": 12,
    "start_time": "2022-05-31T19:36:59.139Z"
   },
   {
    "duration": 26,
    "start_time": "2022-05-31T19:36:59.153Z"
   },
   {
    "duration": 808,
    "start_time": "2022-05-31T19:36:59.182Z"
   },
   {
    "duration": 92,
    "start_time": "2022-05-31T19:36:59.992Z"
   },
   {
    "duration": 0,
    "start_time": "2022-05-31T19:37:00.086Z"
   },
   {
    "duration": 0,
    "start_time": "2022-05-31T19:37:00.087Z"
   },
   {
    "duration": 0,
    "start_time": "2022-05-31T19:37:00.089Z"
   },
   {
    "duration": 0,
    "start_time": "2022-05-31T19:37:00.090Z"
   },
   {
    "duration": 0,
    "start_time": "2022-05-31T19:37:00.092Z"
   },
   {
    "duration": 0,
    "start_time": "2022-05-31T19:37:00.093Z"
   },
   {
    "duration": 0,
    "start_time": "2022-05-31T19:37:00.094Z"
   },
   {
    "duration": 0,
    "start_time": "2022-05-31T19:37:00.096Z"
   },
   {
    "duration": 0,
    "start_time": "2022-05-31T19:37:00.097Z"
   },
   {
    "duration": 0,
    "start_time": "2022-05-31T19:37:00.099Z"
   },
   {
    "duration": 0,
    "start_time": "2022-05-31T19:37:00.100Z"
   },
   {
    "duration": 1,
    "start_time": "2022-05-31T19:37:00.101Z"
   },
   {
    "duration": 0,
    "start_time": "2022-05-31T19:37:00.103Z"
   },
   {
    "duration": 0,
    "start_time": "2022-05-31T19:37:00.104Z"
   },
   {
    "duration": 0,
    "start_time": "2022-05-31T19:37:00.105Z"
   },
   {
    "duration": 0,
    "start_time": "2022-05-31T19:37:00.107Z"
   },
   {
    "duration": 0,
    "start_time": "2022-05-31T19:37:00.108Z"
   },
   {
    "duration": 0,
    "start_time": "2022-05-31T19:37:00.109Z"
   },
   {
    "duration": 0,
    "start_time": "2022-05-31T19:37:00.110Z"
   },
   {
    "duration": 0,
    "start_time": "2022-05-31T19:37:00.111Z"
   },
   {
    "duration": 0,
    "start_time": "2022-05-31T19:37:00.156Z"
   },
   {
    "duration": 0,
    "start_time": "2022-05-31T19:37:00.159Z"
   },
   {
    "duration": 0,
    "start_time": "2022-05-31T19:37:00.159Z"
   },
   {
    "duration": 0,
    "start_time": "2022-05-31T19:37:00.160Z"
   },
   {
    "duration": 0,
    "start_time": "2022-05-31T19:37:00.161Z"
   },
   {
    "duration": 0,
    "start_time": "2022-05-31T19:37:00.163Z"
   },
   {
    "duration": 0,
    "start_time": "2022-05-31T19:37:00.166Z"
   },
   {
    "duration": 0,
    "start_time": "2022-05-31T19:37:00.166Z"
   },
   {
    "duration": 0,
    "start_time": "2022-05-31T19:37:00.167Z"
   },
   {
    "duration": 0,
    "start_time": "2022-05-31T19:37:00.168Z"
   },
   {
    "duration": 0,
    "start_time": "2022-05-31T19:37:00.168Z"
   },
   {
    "duration": 788,
    "start_time": "2022-05-31T19:38:26.346Z"
   },
   {
    "duration": 4,
    "start_time": "2022-05-31T19:38:27.136Z"
   },
   {
    "duration": 6,
    "start_time": "2022-05-31T19:38:27.142Z"
   },
   {
    "duration": 45,
    "start_time": "2022-05-31T19:38:27.149Z"
   },
   {
    "duration": 15,
    "start_time": "2022-05-31T19:38:27.196Z"
   },
   {
    "duration": 88,
    "start_time": "2022-05-31T19:38:27.213Z"
   },
   {
    "duration": 12,
    "start_time": "2022-05-31T19:38:27.303Z"
   },
   {
    "duration": 4,
    "start_time": "2022-05-31T19:38:27.316Z"
   },
   {
    "duration": 6,
    "start_time": "2022-05-31T19:38:27.321Z"
   },
   {
    "duration": 27,
    "start_time": "2022-05-31T19:38:27.328Z"
   },
   {
    "duration": 6,
    "start_time": "2022-05-31T19:38:27.367Z"
   },
   {
    "duration": 14,
    "start_time": "2022-05-31T19:38:27.375Z"
   },
   {
    "duration": 8,
    "start_time": "2022-05-31T19:38:27.390Z"
   },
   {
    "duration": 6,
    "start_time": "2022-05-31T19:38:27.401Z"
   },
   {
    "duration": 9,
    "start_time": "2022-05-31T19:38:27.408Z"
   },
   {
    "duration": 6,
    "start_time": "2022-05-31T19:38:27.418Z"
   },
   {
    "duration": 36,
    "start_time": "2022-05-31T19:38:27.425Z"
   },
   {
    "duration": 4,
    "start_time": "2022-05-31T19:38:27.467Z"
   },
   {
    "duration": 7,
    "start_time": "2022-05-31T19:38:27.473Z"
   },
   {
    "duration": 14,
    "start_time": "2022-05-31T19:38:27.482Z"
   },
   {
    "duration": 12,
    "start_time": "2022-05-31T19:38:27.497Z"
   },
   {
    "duration": 8,
    "start_time": "2022-05-31T19:38:27.511Z"
   },
   {
    "duration": 9,
    "start_time": "2022-05-31T19:38:27.520Z"
   },
   {
    "duration": 42,
    "start_time": "2022-05-31T19:38:27.530Z"
   },
   {
    "duration": 19,
    "start_time": "2022-05-31T19:38:27.574Z"
   },
   {
    "duration": 6,
    "start_time": "2022-05-31T19:38:27.594Z"
   },
   {
    "duration": 13,
    "start_time": "2022-05-31T19:38:27.602Z"
   },
   {
    "duration": 322,
    "start_time": "2022-05-31T19:38:27.617Z"
   },
   {
    "duration": 469,
    "start_time": "2022-05-31T19:38:27.941Z"
   },
   {
    "duration": 7,
    "start_time": "2022-05-31T19:38:28.412Z"
   },
   {
    "duration": 549,
    "start_time": "2022-05-31T19:38:28.421Z"
   },
   {
    "duration": 351,
    "start_time": "2022-05-31T19:38:28.972Z"
   },
   {
    "duration": 115,
    "start_time": "2022-05-31T19:38:29.324Z"
   },
   {
    "duration": 27,
    "start_time": "2022-05-31T19:38:29.440Z"
   },
   {
    "duration": 214,
    "start_time": "2022-05-31T19:38:29.469Z"
   },
   {
    "duration": 2,
    "start_time": "2022-05-31T19:38:29.685Z"
   },
   {
    "duration": 4,
    "start_time": "2022-05-31T19:38:29.689Z"
   },
   {
    "duration": 5,
    "start_time": "2022-05-31T19:38:29.694Z"
   },
   {
    "duration": 7,
    "start_time": "2022-05-31T19:38:29.700Z"
   },
   {
    "duration": 6,
    "start_time": "2022-05-31T19:38:29.708Z"
   },
   {
    "duration": 7,
    "start_time": "2022-05-31T19:38:29.718Z"
   },
   {
    "duration": 15,
    "start_time": "2022-05-31T19:38:29.727Z"
   },
   {
    "duration": 25,
    "start_time": "2022-05-31T19:38:29.743Z"
   },
   {
    "duration": 7,
    "start_time": "2022-05-31T19:38:29.770Z"
   },
   {
    "duration": 5,
    "start_time": "2022-05-31T19:38:29.779Z"
   },
   {
    "duration": 763,
    "start_time": "2022-05-31T19:38:29.786Z"
   },
   {
    "duration": 38,
    "start_time": "2022-05-31T19:38:30.551Z"
   },
   {
    "duration": 44,
    "start_time": "2022-05-31T19:38:30.590Z"
   },
   {
    "duration": 195,
    "start_time": "2022-05-31T19:38:30.636Z"
   },
   {
    "duration": 58,
    "start_time": "2022-05-31T19:38:30.833Z"
   },
   {
    "duration": 78,
    "start_time": "2022-05-31T19:38:30.893Z"
   },
   {
    "duration": 20,
    "start_time": "2022-05-31T19:38:30.972Z"
   },
   {
    "duration": 9,
    "start_time": "2022-05-31T19:38:30.994Z"
   },
   {
    "duration": 64,
    "start_time": "2022-05-31T19:38:31.005Z"
   },
   {
    "duration": 2231,
    "start_time": "2022-05-31T19:38:31.071Z"
   },
   {
    "duration": 446,
    "start_time": "2022-05-31T19:38:33.303Z"
   },
   {
    "duration": 443,
    "start_time": "2022-05-31T19:38:33.751Z"
   },
   {
    "duration": 6,
    "start_time": "2022-05-31T19:38:34.196Z"
   },
   {
    "duration": 421,
    "start_time": "2022-05-31T19:38:34.204Z"
   },
   {
    "duration": 168,
    "start_time": "2022-05-31T19:38:34.627Z"
   },
   {
    "duration": 147,
    "start_time": "2022-05-31T19:38:34.796Z"
   },
   {
    "duration": 156,
    "start_time": "2022-05-31T19:38:34.944Z"
   },
   {
    "duration": 157,
    "start_time": "2022-05-31T19:38:35.101Z"
   },
   {
    "duration": 3,
    "start_time": "2022-05-31T19:38:35.259Z"
   },
   {
    "duration": 63,
    "start_time": "2022-05-31T19:38:35.263Z"
   },
   {
    "duration": 28,
    "start_time": "2022-05-31T19:38:35.328Z"
   },
   {
    "duration": 177,
    "start_time": "2022-05-31T19:38:35.358Z"
   },
   {
    "duration": 31,
    "start_time": "2022-05-31T19:38:35.536Z"
   },
   {
    "duration": 14,
    "start_time": "2022-05-31T19:38:35.568Z"
   },
   {
    "duration": 9,
    "start_time": "2022-05-31T19:38:35.583Z"
   },
   {
    "duration": 17,
    "start_time": "2022-05-31T19:38:35.594Z"
   },
   {
    "duration": 193,
    "start_time": "2022-05-31T19:38:35.612Z"
   },
   {
    "duration": 7,
    "start_time": "2022-05-31T19:38:35.806Z"
   },
   {
    "duration": 421,
    "start_time": "2022-05-31T19:38:35.815Z"
   },
   {
    "duration": 164,
    "start_time": "2022-05-31T19:38:36.238Z"
   },
   {
    "duration": 165,
    "start_time": "2022-05-31T19:38:36.403Z"
   },
   {
    "duration": 14,
    "start_time": "2022-05-31T19:38:36.570Z"
   },
   {
    "duration": 21,
    "start_time": "2022-05-31T19:38:36.585Z"
   },
   {
    "duration": 48,
    "start_time": "2022-05-31T19:40:36.293Z"
   },
   {
    "duration": 90,
    "start_time": "2022-05-31T19:43:02.731Z"
   },
   {
    "duration": 63,
    "start_time": "2022-05-31T19:44:10.061Z"
   },
   {
    "duration": 2,
    "start_time": "2022-05-31T20:01:47.513Z"
   },
   {
    "duration": 9,
    "start_time": "2022-05-31T20:23:21.990Z"
   },
   {
    "duration": 8,
    "start_time": "2022-05-31T20:23:32.932Z"
   },
   {
    "duration": 4,
    "start_time": "2022-05-31T20:23:39.772Z"
   },
   {
    "duration": 5,
    "start_time": "2022-05-31T20:26:06.466Z"
   },
   {
    "duration": 139,
    "start_time": "2022-05-31T20:28:20.023Z"
   },
   {
    "duration": 23,
    "start_time": "2022-05-31T20:36:24.784Z"
   },
   {
    "duration": 12,
    "start_time": "2022-05-31T20:36:56.377Z"
   },
   {
    "duration": 2,
    "start_time": "2022-05-31T20:37:11.803Z"
   },
   {
    "duration": 147,
    "start_time": "2022-05-31T20:37:14.103Z"
   },
   {
    "duration": 3,
    "start_time": "2022-05-31T20:38:13.410Z"
   },
   {
    "duration": 146,
    "start_time": "2022-05-31T20:38:26.181Z"
   },
   {
    "duration": 13,
    "start_time": "2022-05-31T20:38:29.967Z"
   },
   {
    "duration": 63,
    "start_time": "2022-05-31T20:38:51.777Z"
   },
   {
    "duration": 3,
    "start_time": "2022-05-31T20:39:22.069Z"
   },
   {
    "duration": 148,
    "start_time": "2022-05-31T20:39:24.328Z"
   },
   {
    "duration": 3,
    "start_time": "2022-05-31T20:39:48.087Z"
   },
   {
    "duration": 143,
    "start_time": "2022-05-31T20:39:50.322Z"
   },
   {
    "duration": 3,
    "start_time": "2022-05-31T20:41:57.680Z"
   },
   {
    "duration": 150,
    "start_time": "2022-05-31T20:42:00.555Z"
   },
   {
    "duration": 13,
    "start_time": "2022-05-31T20:44:17.384Z"
   },
   {
    "duration": 809,
    "start_time": "2022-05-31T20:45:37.779Z"
   },
   {
    "duration": 5,
    "start_time": "2022-05-31T20:45:38.590Z"
   },
   {
    "duration": 5,
    "start_time": "2022-05-31T20:45:38.597Z"
   },
   {
    "duration": 35,
    "start_time": "2022-05-31T20:45:38.604Z"
   },
   {
    "duration": 39,
    "start_time": "2022-05-31T20:45:38.641Z"
   },
   {
    "duration": 91,
    "start_time": "2022-05-31T20:45:38.684Z"
   },
   {
    "duration": 14,
    "start_time": "2022-05-31T20:45:38.782Z"
   },
   {
    "duration": 5,
    "start_time": "2022-05-31T20:45:38.798Z"
   },
   {
    "duration": 8,
    "start_time": "2022-05-31T20:45:38.805Z"
   },
   {
    "duration": 10,
    "start_time": "2022-05-31T20:45:38.814Z"
   },
   {
    "duration": 5,
    "start_time": "2022-05-31T20:45:38.826Z"
   },
   {
    "duration": 24,
    "start_time": "2022-05-31T20:45:38.832Z"
   },
   {
    "duration": 14,
    "start_time": "2022-05-31T20:45:38.859Z"
   },
   {
    "duration": 19,
    "start_time": "2022-05-31T20:45:38.877Z"
   },
   {
    "duration": 14,
    "start_time": "2022-05-31T20:45:38.898Z"
   },
   {
    "duration": 6,
    "start_time": "2022-05-31T20:45:38.913Z"
   },
   {
    "duration": 5,
    "start_time": "2022-05-31T20:45:38.921Z"
   },
   {
    "duration": 6,
    "start_time": "2022-05-31T20:45:38.927Z"
   },
   {
    "duration": 8,
    "start_time": "2022-05-31T20:45:38.935Z"
   },
   {
    "duration": 21,
    "start_time": "2022-05-31T20:45:38.944Z"
   },
   {
    "duration": 28,
    "start_time": "2022-05-31T20:45:38.966Z"
   },
   {
    "duration": 8,
    "start_time": "2022-05-31T20:45:38.995Z"
   },
   {
    "duration": 10,
    "start_time": "2022-05-31T20:45:39.005Z"
   },
   {
    "duration": 12,
    "start_time": "2022-05-31T20:45:39.016Z"
   },
   {
    "duration": 47,
    "start_time": "2022-05-31T20:45:39.029Z"
   },
   {
    "duration": 7,
    "start_time": "2022-05-31T20:45:39.080Z"
   },
   {
    "duration": 19,
    "start_time": "2022-05-31T20:45:39.089Z"
   },
   {
    "duration": 385,
    "start_time": "2022-05-31T20:45:39.109Z"
   },
   {
    "duration": 518,
    "start_time": "2022-05-31T20:45:39.495Z"
   },
   {
    "duration": 9,
    "start_time": "2022-05-31T20:45:40.015Z"
   },
   {
    "duration": 601,
    "start_time": "2022-05-31T20:45:40.026Z"
   },
   {
    "duration": 357,
    "start_time": "2022-05-31T20:45:40.628Z"
   },
   {
    "duration": 126,
    "start_time": "2022-05-31T20:45:40.987Z"
   },
   {
    "duration": 13,
    "start_time": "2022-05-31T20:45:41.115Z"
   },
   {
    "duration": 265,
    "start_time": "2022-05-31T20:45:41.129Z"
   },
   {
    "duration": 2,
    "start_time": "2022-05-31T20:45:41.398Z"
   },
   {
    "duration": 8,
    "start_time": "2022-05-31T20:45:41.402Z"
   },
   {
    "duration": 12,
    "start_time": "2022-05-31T20:45:41.411Z"
   },
   {
    "duration": 10,
    "start_time": "2022-05-31T20:45:41.425Z"
   },
   {
    "duration": 9,
    "start_time": "2022-05-31T20:45:41.437Z"
   },
   {
    "duration": 22,
    "start_time": "2022-05-31T20:45:41.451Z"
   },
   {
    "duration": 15,
    "start_time": "2022-05-31T20:45:41.478Z"
   },
   {
    "duration": 9,
    "start_time": "2022-05-31T20:45:41.495Z"
   },
   {
    "duration": 18,
    "start_time": "2022-05-31T20:45:41.506Z"
   },
   {
    "duration": 8,
    "start_time": "2022-05-31T20:45:41.526Z"
   },
   {
    "duration": 838,
    "start_time": "2022-05-31T20:45:41.536Z"
   },
   {
    "duration": 32,
    "start_time": "2022-05-31T20:45:42.381Z"
   },
   {
    "duration": 46,
    "start_time": "2022-05-31T20:45:42.414Z"
   },
   {
    "duration": 14,
    "start_time": "2022-05-31T20:45:42.465Z"
   },
   {
    "duration": 162,
    "start_time": "2022-05-31T20:45:42.482Z"
   },
   {
    "duration": 22,
    "start_time": "2022-05-31T20:45:42.646Z"
   },
   {
    "duration": 76,
    "start_time": "2022-05-31T20:45:42.677Z"
   },
   {
    "duration": 23,
    "start_time": "2022-05-31T20:45:42.754Z"
   },
   {
    "duration": 21,
    "start_time": "2022-05-31T20:45:42.778Z"
   },
   {
    "duration": 52,
    "start_time": "2022-05-31T20:45:42.801Z"
   },
   {
    "duration": 2248,
    "start_time": "2022-05-31T20:45:42.856Z"
   },
   {
    "duration": 433,
    "start_time": "2022-05-31T20:45:45.106Z"
   },
   {
    "duration": 423,
    "start_time": "2022-05-31T20:45:45.540Z"
   },
   {
    "duration": 10,
    "start_time": "2022-05-31T20:45:45.965Z"
   },
   {
    "duration": 428,
    "start_time": "2022-05-31T20:45:45.980Z"
   },
   {
    "duration": 159,
    "start_time": "2022-05-31T20:45:46.409Z"
   },
   {
    "duration": 161,
    "start_time": "2022-05-31T20:45:46.570Z"
   },
   {
    "duration": 185,
    "start_time": "2022-05-31T20:45:46.732Z"
   },
   {
    "duration": 164,
    "start_time": "2022-05-31T20:45:46.919Z"
   },
   {
    "duration": 2,
    "start_time": "2022-05-31T20:45:47.085Z"
   },
   {
    "duration": 68,
    "start_time": "2022-05-31T20:45:47.089Z"
   },
   {
    "duration": 31,
    "start_time": "2022-05-31T20:45:47.159Z"
   },
   {
    "duration": 195,
    "start_time": "2022-05-31T20:45:47.191Z"
   },
   {
    "duration": 17,
    "start_time": "2022-05-31T20:45:47.388Z"
   },
   {
    "duration": 13,
    "start_time": "2022-05-31T20:45:47.407Z"
   },
   {
    "duration": 9,
    "start_time": "2022-05-31T20:45:47.422Z"
   },
   {
    "duration": 50,
    "start_time": "2022-05-31T20:45:47.433Z"
   },
   {
    "duration": 220,
    "start_time": "2022-05-31T20:45:47.486Z"
   },
   {
    "duration": 8,
    "start_time": "2022-05-31T20:45:47.708Z"
   },
   {
    "duration": 462,
    "start_time": "2022-05-31T20:45:47.718Z"
   },
   {
    "duration": 195,
    "start_time": "2022-05-31T20:45:48.186Z"
   },
   {
    "duration": 175,
    "start_time": "2022-05-31T20:45:48.386Z"
   },
   {
    "duration": 21,
    "start_time": "2022-05-31T20:45:48.562Z"
   },
   {
    "duration": 25,
    "start_time": "2022-05-31T20:45:48.584Z"
   },
   {
    "duration": 3,
    "start_time": "2022-05-31T20:49:29.453Z"
   },
   {
    "duration": 171,
    "start_time": "2022-05-31T20:49:31.413Z"
   },
   {
    "duration": 823,
    "start_time": "2022-05-31T20:50:02.823Z"
   },
   {
    "duration": 6,
    "start_time": "2022-05-31T20:50:03.648Z"
   },
   {
    "duration": 6,
    "start_time": "2022-05-31T20:50:03.655Z"
   },
   {
    "duration": 34,
    "start_time": "2022-05-31T20:50:03.663Z"
   },
   {
    "duration": 14,
    "start_time": "2022-05-31T20:50:03.699Z"
   },
   {
    "duration": 94,
    "start_time": "2022-05-31T20:50:03.715Z"
   },
   {
    "duration": 13,
    "start_time": "2022-05-31T20:50:03.811Z"
   },
   {
    "duration": 28,
    "start_time": "2022-05-31T20:50:03.826Z"
   },
   {
    "duration": 4,
    "start_time": "2022-05-31T20:50:03.856Z"
   },
   {
    "duration": 10,
    "start_time": "2022-05-31T20:50:03.861Z"
   },
   {
    "duration": 8,
    "start_time": "2022-05-31T20:50:03.872Z"
   },
   {
    "duration": 21,
    "start_time": "2022-05-31T20:50:03.881Z"
   },
   {
    "duration": 8,
    "start_time": "2022-05-31T20:50:03.903Z"
   },
   {
    "duration": 6,
    "start_time": "2022-05-31T20:50:03.914Z"
   },
   {
    "duration": 9,
    "start_time": "2022-05-31T20:50:03.921Z"
   },
   {
    "duration": 25,
    "start_time": "2022-05-31T20:50:03.932Z"
   },
   {
    "duration": 4,
    "start_time": "2022-05-31T20:50:03.958Z"
   },
   {
    "duration": 6,
    "start_time": "2022-05-31T20:50:03.963Z"
   },
   {
    "duration": 7,
    "start_time": "2022-05-31T20:50:03.971Z"
   },
   {
    "duration": 14,
    "start_time": "2022-05-31T20:50:03.979Z"
   },
   {
    "duration": 13,
    "start_time": "2022-05-31T20:50:03.994Z"
   },
   {
    "duration": 9,
    "start_time": "2022-05-31T20:50:04.008Z"
   },
   {
    "duration": 44,
    "start_time": "2022-05-31T20:50:04.018Z"
   },
   {
    "duration": 14,
    "start_time": "2022-05-31T20:50:04.064Z"
   },
   {
    "duration": 20,
    "start_time": "2022-05-31T20:50:04.079Z"
   },
   {
    "duration": 6,
    "start_time": "2022-05-31T20:50:04.100Z"
   },
   {
    "duration": 14,
    "start_time": "2022-05-31T20:50:04.107Z"
   },
   {
    "duration": 337,
    "start_time": "2022-05-31T20:50:04.122Z"
   },
   {
    "duration": 498,
    "start_time": "2022-05-31T20:50:04.461Z"
   },
   {
    "duration": 8,
    "start_time": "2022-05-31T20:50:04.961Z"
   },
   {
    "duration": 524,
    "start_time": "2022-05-31T20:50:04.971Z"
   },
   {
    "duration": 331,
    "start_time": "2022-05-31T20:50:05.496Z"
   },
   {
    "duration": 123,
    "start_time": "2022-05-31T20:50:05.828Z"
   },
   {
    "duration": 14,
    "start_time": "2022-05-31T20:50:05.953Z"
   },
   {
    "duration": 228,
    "start_time": "2022-05-31T20:50:05.968Z"
   },
   {
    "duration": 2,
    "start_time": "2022-05-31T20:50:06.198Z"
   },
   {
    "duration": 4,
    "start_time": "2022-05-31T20:50:06.202Z"
   },
   {
    "duration": 5,
    "start_time": "2022-05-31T20:50:06.208Z"
   },
   {
    "duration": 11,
    "start_time": "2022-05-31T20:50:06.214Z"
   },
   {
    "duration": 6,
    "start_time": "2022-05-31T20:50:06.227Z"
   },
   {
    "duration": 2,
    "start_time": "2022-05-31T20:50:06.237Z"
   },
   {
    "duration": 13,
    "start_time": "2022-05-31T20:50:06.241Z"
   },
   {
    "duration": 6,
    "start_time": "2022-05-31T20:50:06.256Z"
   },
   {
    "duration": 10,
    "start_time": "2022-05-31T20:50:06.264Z"
   },
   {
    "duration": 5,
    "start_time": "2022-05-31T20:50:06.275Z"
   },
   {
    "duration": 725,
    "start_time": "2022-05-31T20:50:06.281Z"
   },
   {
    "duration": 32,
    "start_time": "2022-05-31T20:50:07.008Z"
   },
   {
    "duration": 53,
    "start_time": "2022-05-31T20:50:07.041Z"
   },
   {
    "duration": 3,
    "start_time": "2022-05-31T20:50:07.095Z"
   },
   {
    "duration": 155,
    "start_time": "2022-05-31T20:50:07.100Z"
   },
   {
    "duration": 12,
    "start_time": "2022-05-31T20:50:07.257Z"
   },
   {
    "duration": 62,
    "start_time": "2022-05-31T20:50:07.271Z"
   },
   {
    "duration": 2145,
    "start_time": "2022-05-31T20:50:07.355Z"
   },
   {
    "duration": 427,
    "start_time": "2022-05-31T20:50:09.502Z"
   },
   {
    "duration": 370,
    "start_time": "2022-05-31T20:50:09.931Z"
   },
   {
    "duration": 7,
    "start_time": "2022-05-31T20:50:10.303Z"
   },
   {
    "duration": 388,
    "start_time": "2022-05-31T20:50:10.311Z"
   },
   {
    "duration": 143,
    "start_time": "2022-05-31T20:50:10.701Z"
   },
   {
    "duration": 168,
    "start_time": "2022-05-31T20:50:10.846Z"
   },
   {
    "duration": 158,
    "start_time": "2022-05-31T20:50:11.016Z"
   },
   {
    "duration": 146,
    "start_time": "2022-05-31T20:50:11.176Z"
   },
   {
    "duration": 4,
    "start_time": "2022-05-31T20:50:11.324Z"
   },
   {
    "duration": 82,
    "start_time": "2022-05-31T20:50:11.331Z"
   },
   {
    "duration": 26,
    "start_time": "2022-05-31T20:50:11.415Z"
   },
   {
    "duration": 209,
    "start_time": "2022-05-31T20:50:11.454Z"
   },
   {
    "duration": 14,
    "start_time": "2022-05-31T20:50:11.665Z"
   },
   {
    "duration": 14,
    "start_time": "2022-05-31T20:50:11.680Z"
   },
   {
    "duration": 9,
    "start_time": "2022-05-31T20:50:11.695Z"
   },
   {
    "duration": 17,
    "start_time": "2022-05-31T20:50:11.705Z"
   },
   {
    "duration": 201,
    "start_time": "2022-05-31T20:50:11.724Z"
   },
   {
    "duration": 7,
    "start_time": "2022-05-31T20:50:11.927Z"
   },
   {
    "duration": 398,
    "start_time": "2022-05-31T20:50:11.935Z"
   },
   {
    "duration": 142,
    "start_time": "2022-05-31T20:50:12.335Z"
   },
   {
    "duration": 157,
    "start_time": "2022-05-31T20:50:12.478Z"
   },
   {
    "duration": 28,
    "start_time": "2022-05-31T20:50:12.636Z"
   },
   {
    "duration": 23,
    "start_time": "2022-05-31T20:50:12.665Z"
   },
   {
    "duration": 764,
    "start_time": "2022-05-31T20:53:47.604Z"
   },
   {
    "duration": 6,
    "start_time": "2022-05-31T20:53:48.370Z"
   },
   {
    "duration": 6,
    "start_time": "2022-05-31T20:53:48.377Z"
   },
   {
    "duration": 40,
    "start_time": "2022-05-31T20:53:48.385Z"
   },
   {
    "duration": 35,
    "start_time": "2022-05-31T20:53:48.427Z"
   },
   {
    "duration": 80,
    "start_time": "2022-05-31T20:53:48.464Z"
   },
   {
    "duration": 19,
    "start_time": "2022-05-31T20:53:48.555Z"
   },
   {
    "duration": 6,
    "start_time": "2022-05-31T20:53:48.575Z"
   },
   {
    "duration": 8,
    "start_time": "2022-05-31T20:53:48.582Z"
   },
   {
    "duration": 5,
    "start_time": "2022-05-31T20:53:48.592Z"
   },
   {
    "duration": 6,
    "start_time": "2022-05-31T20:53:48.599Z"
   },
   {
    "duration": 15,
    "start_time": "2022-05-31T20:53:48.607Z"
   },
   {
    "duration": 11,
    "start_time": "2022-05-31T20:53:48.654Z"
   },
   {
    "duration": 6,
    "start_time": "2022-05-31T20:53:48.669Z"
   },
   {
    "duration": 11,
    "start_time": "2022-05-31T20:53:48.676Z"
   },
   {
    "duration": 5,
    "start_time": "2022-05-31T20:53:48.688Z"
   },
   {
    "duration": 4,
    "start_time": "2022-05-31T20:53:48.694Z"
   },
   {
    "duration": 6,
    "start_time": "2022-05-31T20:53:48.700Z"
   },
   {
    "duration": 8,
    "start_time": "2022-05-31T20:53:48.707Z"
   },
   {
    "duration": 41,
    "start_time": "2022-05-31T20:53:48.716Z"
   },
   {
    "duration": 12,
    "start_time": "2022-05-31T20:53:48.759Z"
   },
   {
    "duration": 10,
    "start_time": "2022-05-31T20:53:48.772Z"
   },
   {
    "duration": 10,
    "start_time": "2022-05-31T20:53:48.783Z"
   },
   {
    "duration": 17,
    "start_time": "2022-05-31T20:53:48.794Z"
   },
   {
    "duration": 17,
    "start_time": "2022-05-31T20:53:48.812Z"
   },
   {
    "duration": 26,
    "start_time": "2022-05-31T20:53:48.830Z"
   },
   {
    "duration": 12,
    "start_time": "2022-05-31T20:53:48.858Z"
   },
   {
    "duration": 323,
    "start_time": "2022-05-31T20:53:48.871Z"
   },
   {
    "duration": 452,
    "start_time": "2022-05-31T20:53:49.196Z"
   },
   {
    "duration": 7,
    "start_time": "2022-05-31T20:53:49.654Z"
   },
   {
    "duration": 504,
    "start_time": "2022-05-31T20:53:49.663Z"
   },
   {
    "duration": 307,
    "start_time": "2022-05-31T20:53:50.169Z"
   },
   {
    "duration": 117,
    "start_time": "2022-05-31T20:53:50.477Z"
   },
   {
    "duration": 12,
    "start_time": "2022-05-31T20:53:50.596Z"
   },
   {
    "duration": 211,
    "start_time": "2022-05-31T20:53:50.609Z"
   },
   {
    "duration": 2,
    "start_time": "2022-05-31T20:53:50.822Z"
   },
   {
    "duration": 12,
    "start_time": "2022-05-31T20:53:50.825Z"
   },
   {
    "duration": 6,
    "start_time": "2022-05-31T20:53:50.838Z"
   },
   {
    "duration": 9,
    "start_time": "2022-05-31T20:53:50.846Z"
   },
   {
    "duration": 10,
    "start_time": "2022-05-31T20:53:50.857Z"
   },
   {
    "duration": 4,
    "start_time": "2022-05-31T20:53:50.871Z"
   },
   {
    "duration": 9,
    "start_time": "2022-05-31T20:53:50.877Z"
   },
   {
    "duration": 10,
    "start_time": "2022-05-31T20:53:50.888Z"
   },
   {
    "duration": 12,
    "start_time": "2022-05-31T20:53:50.899Z"
   },
   {
    "duration": 6,
    "start_time": "2022-05-31T20:53:50.912Z"
   },
   {
    "duration": 796,
    "start_time": "2022-05-31T20:53:50.919Z"
   },
   {
    "duration": 40,
    "start_time": "2022-05-31T20:53:51.716Z"
   },
   {
    "duration": 41,
    "start_time": "2022-05-31T20:53:51.757Z"
   },
   {
    "duration": 3,
    "start_time": "2022-05-31T20:53:51.799Z"
   },
   {
    "duration": 145,
    "start_time": "2022-05-31T20:53:51.803Z"
   },
   {
    "duration": 12,
    "start_time": "2022-05-31T20:53:51.954Z"
   },
   {
    "duration": 63,
    "start_time": "2022-05-31T20:53:51.968Z"
   },
   {
    "duration": 2082,
    "start_time": "2022-05-31T20:53:52.032Z"
   },
   {
    "duration": 418,
    "start_time": "2022-05-31T20:53:54.116Z"
   },
   {
    "duration": 407,
    "start_time": "2022-05-31T20:53:54.535Z"
   },
   {
    "duration": 11,
    "start_time": "2022-05-31T20:53:54.944Z"
   },
   {
    "duration": 366,
    "start_time": "2022-05-31T20:53:54.957Z"
   },
   {
    "duration": 161,
    "start_time": "2022-05-31T20:53:55.325Z"
   },
   {
    "duration": 160,
    "start_time": "2022-05-31T20:53:55.488Z"
   },
   {
    "duration": 156,
    "start_time": "2022-05-31T20:53:55.649Z"
   },
   {
    "duration": 150,
    "start_time": "2022-05-31T20:53:55.806Z"
   },
   {
    "duration": 2,
    "start_time": "2022-05-31T20:53:55.958Z"
   },
   {
    "duration": 56,
    "start_time": "2022-05-31T20:53:55.962Z"
   },
   {
    "duration": 35,
    "start_time": "2022-05-31T20:53:56.019Z"
   },
   {
    "duration": 184,
    "start_time": "2022-05-31T20:53:56.056Z"
   },
   {
    "duration": 19,
    "start_time": "2022-05-31T20:53:56.241Z"
   },
   {
    "duration": 13,
    "start_time": "2022-05-31T20:53:56.262Z"
   },
   {
    "duration": 9,
    "start_time": "2022-05-31T20:53:56.276Z"
   },
   {
    "duration": 15,
    "start_time": "2022-05-31T20:53:56.286Z"
   },
   {
    "duration": 187,
    "start_time": "2022-05-31T20:53:56.302Z"
   },
   {
    "duration": 8,
    "start_time": "2022-05-31T20:53:56.490Z"
   },
   {
    "duration": 411,
    "start_time": "2022-05-31T20:53:56.499Z"
   },
   {
    "duration": 164,
    "start_time": "2022-05-31T20:53:56.911Z"
   },
   {
    "duration": 163,
    "start_time": "2022-05-31T20:53:57.076Z"
   },
   {
    "duration": 20,
    "start_time": "2022-05-31T20:53:57.241Z"
   },
   {
    "duration": 22,
    "start_time": "2022-05-31T20:53:57.262Z"
   },
   {
    "duration": 106,
    "start_time": "2022-05-31T20:58:11.363Z"
   },
   {
    "duration": 6,
    "start_time": "2022-05-31T20:58:11.473Z"
   },
   {
    "duration": 10,
    "start_time": "2022-05-31T20:58:11.481Z"
   },
   {
    "duration": 42,
    "start_time": "2022-05-31T20:58:11.493Z"
   },
   {
    "duration": 25,
    "start_time": "2022-05-31T20:58:11.537Z"
   },
   {
    "duration": 103,
    "start_time": "2022-05-31T20:58:11.565Z"
   },
   {
    "duration": 13,
    "start_time": "2022-05-31T20:58:11.670Z"
   },
   {
    "duration": 5,
    "start_time": "2022-05-31T20:58:11.684Z"
   },
   {
    "duration": 6,
    "start_time": "2022-05-31T20:58:11.690Z"
   },
   {
    "duration": 4,
    "start_time": "2022-05-31T20:58:11.699Z"
   },
   {
    "duration": 5,
    "start_time": "2022-05-31T20:58:11.705Z"
   },
   {
    "duration": 59,
    "start_time": "2022-05-31T20:58:11.711Z"
   },
   {
    "duration": 7,
    "start_time": "2022-05-31T20:58:11.772Z"
   },
   {
    "duration": 12,
    "start_time": "2022-05-31T20:58:11.781Z"
   },
   {
    "duration": 10,
    "start_time": "2022-05-31T20:58:11.795Z"
   },
   {
    "duration": 8,
    "start_time": "2022-05-31T20:58:11.806Z"
   },
   {
    "duration": 3,
    "start_time": "2022-05-31T20:58:11.815Z"
   },
   {
    "duration": 6,
    "start_time": "2022-05-31T20:58:11.820Z"
   },
   {
    "duration": 6,
    "start_time": "2022-05-31T20:58:11.827Z"
   },
   {
    "duration": 36,
    "start_time": "2022-05-31T20:58:11.834Z"
   },
   {
    "duration": 11,
    "start_time": "2022-05-31T20:58:11.872Z"
   },
   {
    "duration": 9,
    "start_time": "2022-05-31T20:58:11.884Z"
   },
   {
    "duration": 9,
    "start_time": "2022-05-31T20:58:11.894Z"
   },
   {
    "duration": 17,
    "start_time": "2022-05-31T20:58:11.904Z"
   },
   {
    "duration": 17,
    "start_time": "2022-05-31T20:58:11.922Z"
   },
   {
    "duration": 6,
    "start_time": "2022-05-31T20:58:11.966Z"
   },
   {
    "duration": 14,
    "start_time": "2022-05-31T20:58:11.973Z"
   },
   {
    "duration": 302,
    "start_time": "2022-05-31T20:58:11.990Z"
   },
   {
    "duration": 471,
    "start_time": "2022-05-31T20:58:12.294Z"
   },
   {
    "duration": 10,
    "start_time": "2022-05-31T20:58:12.767Z"
   },
   {
    "duration": 605,
    "start_time": "2022-05-31T20:58:12.778Z"
   },
   {
    "duration": 288,
    "start_time": "2022-05-31T20:58:13.385Z"
   },
   {
    "duration": 115,
    "start_time": "2022-05-31T20:58:13.674Z"
   },
   {
    "duration": 12,
    "start_time": "2022-05-31T20:58:13.790Z"
   },
   {
    "duration": 223,
    "start_time": "2022-05-31T20:58:13.804Z"
   },
   {
    "duration": 3,
    "start_time": "2022-05-31T20:58:14.028Z"
   },
   {
    "duration": 4,
    "start_time": "2022-05-31T20:58:14.032Z"
   },
   {
    "duration": 28,
    "start_time": "2022-05-31T20:58:14.038Z"
   },
   {
    "duration": 7,
    "start_time": "2022-05-31T20:58:14.068Z"
   },
   {
    "duration": 8,
    "start_time": "2022-05-31T20:58:14.077Z"
   },
   {
    "duration": 4,
    "start_time": "2022-05-31T20:58:14.086Z"
   },
   {
    "duration": 8,
    "start_time": "2022-05-31T20:58:14.092Z"
   },
   {
    "duration": 8,
    "start_time": "2022-05-31T20:58:14.101Z"
   },
   {
    "duration": 7,
    "start_time": "2022-05-31T20:58:14.110Z"
   },
   {
    "duration": 5,
    "start_time": "2022-05-31T20:58:14.118Z"
   },
   {
    "duration": 774,
    "start_time": "2022-05-31T20:58:14.124Z"
   },
   {
    "duration": 33,
    "start_time": "2022-05-31T20:58:14.899Z"
   },
   {
    "duration": 61,
    "start_time": "2022-05-31T20:58:14.933Z"
   },
   {
    "duration": 3,
    "start_time": "2022-05-31T20:58:14.996Z"
   },
   {
    "duration": 172,
    "start_time": "2022-05-31T20:58:15.000Z"
   },
   {
    "duration": 14,
    "start_time": "2022-05-31T20:58:15.174Z"
   },
   {
    "duration": 82,
    "start_time": "2022-05-31T20:58:15.190Z"
   },
   {
    "duration": 2221,
    "start_time": "2022-05-31T20:58:15.274Z"
   },
   {
    "duration": 404,
    "start_time": "2022-05-31T20:58:17.497Z"
   },
   {
    "duration": 438,
    "start_time": "2022-05-31T20:58:17.902Z"
   },
   {
    "duration": 14,
    "start_time": "2022-05-31T20:58:18.341Z"
   },
   {
    "duration": 378,
    "start_time": "2022-05-31T20:58:18.358Z"
   },
   {
    "duration": 162,
    "start_time": "2022-05-31T20:58:18.738Z"
   },
   {
    "duration": 160,
    "start_time": "2022-05-31T20:58:18.902Z"
   },
   {
    "duration": 199,
    "start_time": "2022-05-31T20:58:19.067Z"
   },
   {
    "duration": 165,
    "start_time": "2022-05-31T20:58:19.268Z"
   },
   {
    "duration": 3,
    "start_time": "2022-05-31T20:58:19.435Z"
   },
   {
    "duration": 38,
    "start_time": "2022-05-31T20:58:19.439Z"
   },
   {
    "duration": 21,
    "start_time": "2022-05-31T20:58:19.479Z"
   },
   {
    "duration": 191,
    "start_time": "2022-05-31T20:58:19.501Z"
   },
   {
    "duration": 15,
    "start_time": "2022-05-31T20:58:19.693Z"
   },
   {
    "duration": 13,
    "start_time": "2022-05-31T20:58:19.709Z"
   },
   {
    "duration": 9,
    "start_time": "2022-05-31T20:58:19.724Z"
   },
   {
    "duration": 44,
    "start_time": "2022-05-31T20:58:19.734Z"
   },
   {
    "duration": 165,
    "start_time": "2022-05-31T20:58:19.779Z"
   },
   {
    "duration": 20,
    "start_time": "2022-05-31T20:58:19.946Z"
   },
   {
    "duration": 406,
    "start_time": "2022-05-31T20:58:19.968Z"
   },
   {
    "duration": 157,
    "start_time": "2022-05-31T20:58:20.376Z"
   },
   {
    "duration": 173,
    "start_time": "2022-05-31T20:58:20.535Z"
   },
   {
    "duration": 15,
    "start_time": "2022-05-31T20:58:20.710Z"
   },
   {
    "duration": 44,
    "start_time": "2022-05-31T20:58:20.726Z"
   },
   {
    "duration": 2,
    "start_time": "2022-05-31T20:58:53.202Z"
   },
   {
    "duration": 140,
    "start_time": "2022-05-31T20:58:55.767Z"
   },
   {
    "duration": 3,
    "start_time": "2022-05-31T20:59:17.920Z"
   },
   {
    "duration": 3,
    "start_time": "2022-05-31T21:00:00.891Z"
   },
   {
    "duration": 162,
    "start_time": "2022-05-31T21:00:02.711Z"
   },
   {
    "duration": 14,
    "start_time": "2022-05-31T21:00:05.396Z"
   },
   {
    "duration": 94,
    "start_time": "2022-05-31T21:00:33.527Z"
   },
   {
    "duration": 5,
    "start_time": "2022-05-31T21:00:33.624Z"
   },
   {
    "duration": 20,
    "start_time": "2022-05-31T21:00:33.630Z"
   },
   {
    "duration": 32,
    "start_time": "2022-05-31T21:00:33.655Z"
   },
   {
    "duration": 32,
    "start_time": "2022-05-31T21:00:33.689Z"
   },
   {
    "duration": 89,
    "start_time": "2022-05-31T21:00:33.723Z"
   },
   {
    "duration": 12,
    "start_time": "2022-05-31T21:00:33.814Z"
   },
   {
    "duration": 4,
    "start_time": "2022-05-31T21:00:33.828Z"
   },
   {
    "duration": 8,
    "start_time": "2022-05-31T21:00:33.855Z"
   },
   {
    "duration": 6,
    "start_time": "2022-05-31T21:00:33.866Z"
   },
   {
    "duration": 9,
    "start_time": "2022-05-31T21:00:33.874Z"
   },
   {
    "duration": 11,
    "start_time": "2022-05-31T21:00:33.885Z"
   },
   {
    "duration": 8,
    "start_time": "2022-05-31T21:00:33.898Z"
   },
   {
    "duration": 13,
    "start_time": "2022-05-31T21:00:33.908Z"
   },
   {
    "duration": 33,
    "start_time": "2022-05-31T21:00:33.922Z"
   },
   {
    "duration": 6,
    "start_time": "2022-05-31T21:00:33.957Z"
   },
   {
    "duration": 6,
    "start_time": "2022-05-31T21:00:33.964Z"
   },
   {
    "duration": 9,
    "start_time": "2022-05-31T21:00:33.971Z"
   },
   {
    "duration": 7,
    "start_time": "2022-05-31T21:00:33.981Z"
   },
   {
    "duration": 15,
    "start_time": "2022-05-31T21:00:33.989Z"
   },
   {
    "duration": 49,
    "start_time": "2022-05-31T21:00:34.006Z"
   },
   {
    "duration": 10,
    "start_time": "2022-05-31T21:00:34.057Z"
   },
   {
    "duration": 11,
    "start_time": "2022-05-31T21:00:34.069Z"
   },
   {
    "duration": 13,
    "start_time": "2022-05-31T21:00:34.081Z"
   },
   {
    "duration": 19,
    "start_time": "2022-05-31T21:00:34.096Z"
   },
   {
    "duration": 40,
    "start_time": "2022-05-31T21:00:34.117Z"
   },
   {
    "duration": 15,
    "start_time": "2022-05-31T21:00:34.158Z"
   },
   {
    "duration": 306,
    "start_time": "2022-05-31T21:00:34.177Z"
   },
   {
    "duration": 466,
    "start_time": "2022-05-31T21:00:34.485Z"
   },
   {
    "duration": 9,
    "start_time": "2022-05-31T21:00:34.954Z"
   },
   {
    "duration": 677,
    "start_time": "2022-05-31T21:00:34.964Z"
   },
   {
    "duration": 269,
    "start_time": "2022-05-31T21:00:35.642Z"
   },
   {
    "duration": 123,
    "start_time": "2022-05-31T21:00:35.912Z"
   },
   {
    "duration": 22,
    "start_time": "2022-05-31T21:00:36.037Z"
   },
   {
    "duration": 229,
    "start_time": "2022-05-31T21:00:36.061Z"
   },
   {
    "duration": 3,
    "start_time": "2022-05-31T21:00:36.292Z"
   },
   {
    "duration": 10,
    "start_time": "2022-05-31T21:00:36.297Z"
   },
   {
    "duration": 11,
    "start_time": "2022-05-31T21:00:36.309Z"
   },
   {
    "duration": 7,
    "start_time": "2022-05-31T21:00:36.322Z"
   },
   {
    "duration": 14,
    "start_time": "2022-05-31T21:00:36.331Z"
   },
   {
    "duration": 16,
    "start_time": "2022-05-31T21:00:36.347Z"
   },
   {
    "duration": 12,
    "start_time": "2022-05-31T21:00:36.365Z"
   },
   {
    "duration": 7,
    "start_time": "2022-05-31T21:00:36.378Z"
   },
   {
    "duration": 8,
    "start_time": "2022-05-31T21:00:36.386Z"
   },
   {
    "duration": 11,
    "start_time": "2022-05-31T21:00:36.395Z"
   },
   {
    "duration": 778,
    "start_time": "2022-05-31T21:00:36.408Z"
   },
   {
    "duration": 34,
    "start_time": "2022-05-31T21:00:37.187Z"
   },
   {
    "duration": 56,
    "start_time": "2022-05-31T21:00:37.222Z"
   },
   {
    "duration": 4,
    "start_time": "2022-05-31T21:00:37.280Z"
   },
   {
    "duration": 296,
    "start_time": "2022-05-31T21:00:37.285Z"
   },
   {
    "duration": 15,
    "start_time": "2022-05-31T21:00:37.583Z"
   },
   {
    "duration": 103,
    "start_time": "2022-05-31T21:00:37.601Z"
   },
   {
    "duration": 2318,
    "start_time": "2022-05-31T21:00:37.706Z"
   },
   {
    "duration": 563,
    "start_time": "2022-05-31T21:00:40.026Z"
   },
   {
    "duration": 318,
    "start_time": "2022-05-31T21:00:40.591Z"
   },
   {
    "duration": 6,
    "start_time": "2022-05-31T21:00:40.911Z"
   },
   {
    "duration": 433,
    "start_time": "2022-05-31T21:00:40.918Z"
   },
   {
    "duration": 216,
    "start_time": "2022-05-31T21:00:41.354Z"
   },
   {
    "duration": 192,
    "start_time": "2022-05-31T21:00:41.572Z"
   },
   {
    "duration": 177,
    "start_time": "2022-05-31T21:00:41.765Z"
   },
   {
    "duration": 164,
    "start_time": "2022-05-31T21:00:41.944Z"
   },
   {
    "duration": 3,
    "start_time": "2022-05-31T21:00:42.110Z"
   },
   {
    "duration": 31,
    "start_time": "2022-05-31T21:00:42.115Z"
   },
   {
    "duration": 25,
    "start_time": "2022-05-31T21:00:42.154Z"
   },
   {
    "duration": 196,
    "start_time": "2022-05-31T21:00:42.181Z"
   },
   {
    "duration": 15,
    "start_time": "2022-05-31T21:00:42.378Z"
   },
   {
    "duration": 15,
    "start_time": "2022-05-31T21:00:42.395Z"
   },
   {
    "duration": 12,
    "start_time": "2022-05-31T21:00:42.411Z"
   },
   {
    "duration": 135,
    "start_time": "2022-05-31T21:00:42.425Z"
   },
   {
    "duration": 203,
    "start_time": "2022-05-31T21:00:42.561Z"
   },
   {
    "duration": 8,
    "start_time": "2022-05-31T21:00:42.766Z"
   },
   {
    "duration": 364,
    "start_time": "2022-05-31T21:00:42.776Z"
   },
   {
    "duration": 193,
    "start_time": "2022-05-31T21:00:43.141Z"
   },
   {
    "duration": 184,
    "start_time": "2022-05-31T21:00:43.335Z"
   },
   {
    "duration": 16,
    "start_time": "2022-05-31T21:00:43.521Z"
   },
   {
    "duration": 25,
    "start_time": "2022-05-31T21:00:43.555Z"
   },
   {
    "duration": 4,
    "start_time": "2022-05-31T21:15:18.000Z"
   },
   {
    "duration": 32,
    "start_time": "2022-05-31T21:35:36.999Z"
   },
   {
    "duration": 74,
    "start_time": "2022-05-31T21:37:12.509Z"
   },
   {
    "duration": 6,
    "start_time": "2022-05-31T21:37:15.976Z"
   },
   {
    "duration": 8,
    "start_time": "2022-05-31T21:37:28.292Z"
   },
   {
    "duration": 8,
    "start_time": "2022-05-31T21:37:44.580Z"
   },
   {
    "duration": 7,
    "start_time": "2022-05-31T21:37:49.102Z"
   },
   {
    "duration": 7,
    "start_time": "2022-05-31T21:37:53.370Z"
   },
   {
    "duration": 13,
    "start_time": "2022-05-31T21:38:14.088Z"
   },
   {
    "duration": 16,
    "start_time": "2022-05-31T21:38:34.869Z"
   },
   {
    "duration": 19,
    "start_time": "2022-05-31T21:39:15.359Z"
   },
   {
    "duration": 20,
    "start_time": "2022-05-31T21:39:20.654Z"
   },
   {
    "duration": 26,
    "start_time": "2022-05-31T21:40:56.505Z"
   },
   {
    "duration": 33,
    "start_time": "2022-05-31T21:41:02.207Z"
   },
   {
    "duration": 31,
    "start_time": "2022-05-31T21:41:45.400Z"
   },
   {
    "duration": 35,
    "start_time": "2022-05-31T21:41:50.305Z"
   },
   {
    "duration": 6,
    "start_time": "2022-05-31T21:43:12.759Z"
   },
   {
    "duration": 12,
    "start_time": "2022-05-31T21:43:19.630Z"
   },
   {
    "duration": 7,
    "start_time": "2022-05-31T21:43:25.148Z"
   },
   {
    "duration": 6,
    "start_time": "2022-05-31T21:43:30.335Z"
   },
   {
    "duration": 5,
    "start_time": "2022-05-31T21:43:39.630Z"
   },
   {
    "duration": 42,
    "start_time": "2022-05-31T21:44:01.314Z"
   },
   {
    "duration": 31,
    "start_time": "2022-05-31T21:44:06.338Z"
   },
   {
    "duration": 757,
    "start_time": "2022-05-31T21:47:51.851Z"
   },
   {
    "duration": 5,
    "start_time": "2022-05-31T21:47:52.610Z"
   },
   {
    "duration": 5,
    "start_time": "2022-05-31T21:47:52.616Z"
   },
   {
    "duration": 36,
    "start_time": "2022-05-31T21:47:52.622Z"
   },
   {
    "duration": 12,
    "start_time": "2022-05-31T21:47:52.660Z"
   },
   {
    "duration": 89,
    "start_time": "2022-05-31T21:47:52.673Z"
   },
   {
    "duration": 12,
    "start_time": "2022-05-31T21:47:52.763Z"
   },
   {
    "duration": 4,
    "start_time": "2022-05-31T21:47:52.777Z"
   },
   {
    "duration": 7,
    "start_time": "2022-05-31T21:47:52.783Z"
   },
   {
    "duration": 5,
    "start_time": "2022-05-31T21:47:52.792Z"
   },
   {
    "duration": 8,
    "start_time": "2022-05-31T21:47:52.798Z"
   },
   {
    "duration": 26,
    "start_time": "2022-05-31T21:47:52.808Z"
   },
   {
    "duration": 25,
    "start_time": "2022-05-31T21:47:52.835Z"
   },
   {
    "duration": 6,
    "start_time": "2022-05-31T21:47:52.863Z"
   },
   {
    "duration": 8,
    "start_time": "2022-05-31T21:47:52.870Z"
   },
   {
    "duration": 5,
    "start_time": "2022-05-31T21:47:52.880Z"
   },
   {
    "duration": 3,
    "start_time": "2022-05-31T21:47:52.887Z"
   },
   {
    "duration": 8,
    "start_time": "2022-05-31T21:47:52.892Z"
   },
   {
    "duration": 8,
    "start_time": "2022-05-31T21:47:52.902Z"
   },
   {
    "duration": 48,
    "start_time": "2022-05-31T21:47:52.911Z"
   },
   {
    "duration": 11,
    "start_time": "2022-05-31T21:47:52.960Z"
   },
   {
    "duration": 8,
    "start_time": "2022-05-31T21:47:52.973Z"
   },
   {
    "duration": 21,
    "start_time": "2022-05-31T21:47:52.982Z"
   },
   {
    "duration": 15,
    "start_time": "2022-05-31T21:47:53.004Z"
   },
   {
    "duration": 20,
    "start_time": "2022-05-31T21:47:53.021Z"
   },
   {
    "duration": 4,
    "start_time": "2022-05-31T21:47:53.055Z"
   },
   {
    "duration": 39,
    "start_time": "2022-05-31T21:47:53.060Z"
   },
   {
    "duration": 6,
    "start_time": "2022-05-31T21:47:53.101Z"
   },
   {
    "duration": 23,
    "start_time": "2022-05-31T21:47:53.108Z"
   },
   {
    "duration": 303,
    "start_time": "2022-05-31T21:47:53.133Z"
   },
   {
    "duration": 459,
    "start_time": "2022-05-31T21:47:53.437Z"
   },
   {
    "duration": 9,
    "start_time": "2022-05-31T21:47:53.897Z"
   },
   {
    "duration": 505,
    "start_time": "2022-05-31T21:47:53.908Z"
   },
   {
    "duration": 308,
    "start_time": "2022-05-31T21:47:54.414Z"
   },
   {
    "duration": 117,
    "start_time": "2022-05-31T21:47:54.723Z"
   },
   {
    "duration": 21,
    "start_time": "2022-05-31T21:47:54.841Z"
   },
   {
    "duration": 204,
    "start_time": "2022-05-31T21:47:54.863Z"
   },
   {
    "duration": 3,
    "start_time": "2022-05-31T21:47:55.069Z"
   },
   {
    "duration": 6,
    "start_time": "2022-05-31T21:47:55.074Z"
   },
   {
    "duration": 5,
    "start_time": "2022-05-31T21:47:55.082Z"
   },
   {
    "duration": 5,
    "start_time": "2022-05-31T21:47:55.091Z"
   },
   {
    "duration": 9,
    "start_time": "2022-05-31T21:47:55.098Z"
   },
   {
    "duration": 12,
    "start_time": "2022-05-31T21:47:55.109Z"
   },
   {
    "duration": 14,
    "start_time": "2022-05-31T21:47:55.122Z"
   },
   {
    "duration": 12,
    "start_time": "2022-05-31T21:47:55.138Z"
   },
   {
    "duration": 6,
    "start_time": "2022-05-31T21:47:55.152Z"
   },
   {
    "duration": 8,
    "start_time": "2022-05-31T21:47:55.159Z"
   },
   {
    "duration": 714,
    "start_time": "2022-05-31T21:47:55.169Z"
   },
   {
    "duration": 31,
    "start_time": "2022-05-31T21:47:55.885Z"
   },
   {
    "duration": 54,
    "start_time": "2022-05-31T21:47:55.918Z"
   },
   {
    "duration": 2,
    "start_time": "2022-05-31T21:47:55.974Z"
   },
   {
    "duration": 143,
    "start_time": "2022-05-31T21:47:55.978Z"
   },
   {
    "duration": 13,
    "start_time": "2022-05-31T21:47:56.123Z"
   },
   {
    "duration": 76,
    "start_time": "2022-05-31T21:47:56.137Z"
   },
   {
    "duration": 2067,
    "start_time": "2022-05-31T21:47:56.214Z"
   },
   {
    "duration": 393,
    "start_time": "2022-05-31T21:47:58.282Z"
   },
   {
    "duration": 392,
    "start_time": "2022-05-31T21:47:58.676Z"
   },
   {
    "duration": 5,
    "start_time": "2022-05-31T21:47:59.070Z"
   },
   {
    "duration": 421,
    "start_time": "2022-05-31T21:47:59.076Z"
   },
   {
    "duration": 158,
    "start_time": "2022-05-31T21:47:59.499Z"
   },
   {
    "duration": 163,
    "start_time": "2022-05-31T21:47:59.659Z"
   },
   {
    "duration": 161,
    "start_time": "2022-05-31T21:47:59.823Z"
   },
   {
    "duration": 151,
    "start_time": "2022-05-31T21:47:59.985Z"
   },
   {
    "duration": 4,
    "start_time": "2022-05-31T21:48:00.137Z"
   },
   {
    "duration": 70,
    "start_time": "2022-05-31T21:48:00.142Z"
   },
   {
    "duration": 24,
    "start_time": "2022-05-31T21:48:00.213Z"
   },
   {
    "duration": 213,
    "start_time": "2022-05-31T21:48:00.238Z"
   },
   {
    "duration": 15,
    "start_time": "2022-05-31T21:48:00.455Z"
   },
   {
    "duration": 17,
    "start_time": "2022-05-31T21:48:00.472Z"
   },
   {
    "duration": 13,
    "start_time": "2022-05-31T21:48:00.491Z"
   },
   {
    "duration": 27,
    "start_time": "2022-05-31T21:48:00.506Z"
   },
   {
    "duration": 192,
    "start_time": "2022-05-31T21:48:00.535Z"
   },
   {
    "duration": 8,
    "start_time": "2022-05-31T21:48:00.729Z"
   },
   {
    "duration": 427,
    "start_time": "2022-05-31T21:48:00.738Z"
   },
   {
    "duration": 180,
    "start_time": "2022-05-31T21:48:01.167Z"
   },
   {
    "duration": 227,
    "start_time": "2022-05-31T21:48:01.349Z"
   },
   {
    "duration": 21,
    "start_time": "2022-05-31T21:48:01.578Z"
   },
   {
    "duration": 56,
    "start_time": "2022-05-31T21:48:01.600Z"
   },
   {
    "duration": 72,
    "start_time": "2022-06-01T16:36:23.160Z"
   },
   {
    "duration": 875,
    "start_time": "2022-06-01T16:36:31.542Z"
   },
   {
    "duration": 5,
    "start_time": "2022-06-01T16:36:32.419Z"
   },
   {
    "duration": 11,
    "start_time": "2022-06-01T16:36:32.426Z"
   },
   {
    "duration": 38,
    "start_time": "2022-06-01T16:36:32.440Z"
   },
   {
    "duration": 15,
    "start_time": "2022-06-01T16:36:32.479Z"
   },
   {
    "duration": 102,
    "start_time": "2022-06-01T16:36:32.495Z"
   },
   {
    "duration": 12,
    "start_time": "2022-06-01T16:36:32.598Z"
   },
   {
    "duration": 14,
    "start_time": "2022-06-01T16:36:32.612Z"
   },
   {
    "duration": 15,
    "start_time": "2022-06-01T16:36:32.628Z"
   },
   {
    "duration": 6,
    "start_time": "2022-06-01T16:36:32.646Z"
   },
   {
    "duration": 9,
    "start_time": "2022-06-01T16:36:32.654Z"
   },
   {
    "duration": 15,
    "start_time": "2022-06-01T16:36:32.665Z"
   },
   {
    "duration": 9,
    "start_time": "2022-06-01T16:36:32.682Z"
   },
   {
    "duration": 30,
    "start_time": "2022-06-01T16:36:32.693Z"
   },
   {
    "duration": 7,
    "start_time": "2022-06-01T16:36:32.725Z"
   },
   {
    "duration": 7,
    "start_time": "2022-06-01T16:36:32.733Z"
   },
   {
    "duration": 4,
    "start_time": "2022-06-01T16:36:32.742Z"
   },
   {
    "duration": 13,
    "start_time": "2022-06-01T16:36:32.748Z"
   },
   {
    "duration": 10,
    "start_time": "2022-06-01T16:36:32.763Z"
   },
   {
    "duration": 13,
    "start_time": "2022-06-01T16:36:32.774Z"
   },
   {
    "duration": 50,
    "start_time": "2022-06-01T16:36:32.789Z"
   },
   {
    "duration": 14,
    "start_time": "2022-06-01T16:36:32.842Z"
   },
   {
    "duration": 21,
    "start_time": "2022-06-01T16:36:32.858Z"
   },
   {
    "duration": 20,
    "start_time": "2022-06-01T16:36:32.881Z"
   },
   {
    "duration": 50,
    "start_time": "2022-06-01T16:36:32.903Z"
   },
   {
    "duration": 7,
    "start_time": "2022-06-01T16:36:32.955Z"
   },
   {
    "duration": 60,
    "start_time": "2022-06-01T16:36:32.966Z"
   },
   {
    "duration": 8,
    "start_time": "2022-06-01T16:36:33.034Z"
   },
   {
    "duration": 32,
    "start_time": "2022-06-01T16:36:33.044Z"
   },
   {
    "duration": 325,
    "start_time": "2022-06-01T16:36:33.079Z"
   },
   {
    "duration": 534,
    "start_time": "2022-06-01T16:36:33.405Z"
   },
   {
    "duration": 14,
    "start_time": "2022-06-01T16:36:33.955Z"
   },
   {
    "duration": 685,
    "start_time": "2022-06-01T16:36:33.971Z"
   },
   {
    "duration": 9,
    "start_time": "2022-06-01T16:36:34.658Z"
   },
   {
    "duration": 311,
    "start_time": "2022-06-01T16:36:34.669Z"
   },
   {
    "duration": 128,
    "start_time": "2022-06-01T16:36:34.982Z"
   },
   {
    "duration": 21,
    "start_time": "2022-06-01T16:36:35.111Z"
   },
   {
    "duration": 258,
    "start_time": "2022-06-01T16:36:35.134Z"
   },
   {
    "duration": 3,
    "start_time": "2022-06-01T16:36:35.394Z"
   },
   {
    "duration": 11,
    "start_time": "2022-06-01T16:36:35.398Z"
   },
   {
    "duration": 20,
    "start_time": "2022-06-01T16:36:35.410Z"
   },
   {
    "duration": 28,
    "start_time": "2022-06-01T16:36:35.432Z"
   },
   {
    "duration": 18,
    "start_time": "2022-06-01T16:36:35.462Z"
   },
   {
    "duration": 18,
    "start_time": "2022-06-01T16:36:35.481Z"
   },
   {
    "duration": 20,
    "start_time": "2022-06-01T16:36:35.500Z"
   },
   {
    "duration": 30,
    "start_time": "2022-06-01T16:36:35.521Z"
   },
   {
    "duration": 11,
    "start_time": "2022-06-01T16:36:35.553Z"
   },
   {
    "duration": 6,
    "start_time": "2022-06-01T16:36:35.566Z"
   },
   {
    "duration": 1386,
    "start_time": "2022-06-01T16:36:35.574Z"
   },
   {
    "duration": 90,
    "start_time": "2022-06-01T16:36:36.962Z"
   },
   {
    "duration": 96,
    "start_time": "2022-06-01T16:36:37.053Z"
   },
   {
    "duration": 3,
    "start_time": "2022-06-01T16:36:37.151Z"
   },
   {
    "duration": 192,
    "start_time": "2022-06-01T16:36:37.155Z"
   },
   {
    "duration": 14,
    "start_time": "2022-06-01T16:36:37.349Z"
   },
   {
    "duration": 95,
    "start_time": "2022-06-01T16:36:37.365Z"
   },
   {
    "duration": 2399,
    "start_time": "2022-06-01T16:36:37.463Z"
   },
   {
    "duration": 452,
    "start_time": "2022-06-01T16:36:39.864Z"
   },
   {
    "duration": 464,
    "start_time": "2022-06-01T16:36:40.322Z"
   },
   {
    "duration": 5,
    "start_time": "2022-06-01T16:36:40.787Z"
   },
   {
    "duration": 403,
    "start_time": "2022-06-01T16:36:40.794Z"
   },
   {
    "duration": 181,
    "start_time": "2022-06-01T16:36:41.198Z"
   },
   {
    "duration": 210,
    "start_time": "2022-06-01T16:36:41.380Z"
   },
   {
    "duration": 203,
    "start_time": "2022-06-01T16:36:41.592Z"
   },
   {
    "duration": 172,
    "start_time": "2022-06-01T16:36:41.797Z"
   },
   {
    "duration": 4,
    "start_time": "2022-06-01T16:36:41.971Z"
   },
   {
    "duration": 78,
    "start_time": "2022-06-01T16:36:41.976Z"
   },
   {
    "duration": 25,
    "start_time": "2022-06-01T16:36:42.056Z"
   },
   {
    "duration": 216,
    "start_time": "2022-06-01T16:36:42.083Z"
   },
   {
    "duration": 23,
    "start_time": "2022-06-01T16:36:42.301Z"
   },
   {
    "duration": 18,
    "start_time": "2022-06-01T16:36:42.326Z"
   },
   {
    "duration": 11,
    "start_time": "2022-06-01T16:36:42.346Z"
   },
   {
    "duration": 18,
    "start_time": "2022-06-01T16:36:42.359Z"
   },
   {
    "duration": 210,
    "start_time": "2022-06-01T16:36:42.379Z"
   },
   {
    "duration": 11,
    "start_time": "2022-06-01T16:36:42.591Z"
   },
   {
    "duration": 547,
    "start_time": "2022-06-01T16:36:42.603Z"
   },
   {
    "duration": 170,
    "start_time": "2022-06-01T16:36:43.152Z"
   },
   {
    "duration": 193,
    "start_time": "2022-06-01T16:36:43.324Z"
   },
   {
    "duration": 23,
    "start_time": "2022-06-01T16:36:43.522Z"
   },
   {
    "duration": 28,
    "start_time": "2022-06-01T16:36:43.547Z"
   }
  ],
  "kernelspec": {
   "display_name": "Python 3 (ipykernel)",
   "language": "python",
   "name": "python3"
  },
  "language_info": {
   "codemirror_mode": {
    "name": "ipython",
    "version": 3
   },
   "file_extension": ".py",
   "mimetype": "text/x-python",
   "name": "python",
   "nbconvert_exporter": "python",
   "pygments_lexer": "ipython3",
   "version": "3.9.7"
  },
  "toc": {
   "base_numbering": 1,
   "nav_menu": {},
   "number_sections": false,
   "sideBar": true,
   "skip_h1_title": true,
   "title_cell": "Содержание",
   "title_sidebar": "Contents",
   "toc_cell": false,
   "toc_position": {},
   "toc_section_display": true,
   "toc_window_display": false
  }
 },
 "nbformat": 4,
 "nbformat_minor": 4
}
