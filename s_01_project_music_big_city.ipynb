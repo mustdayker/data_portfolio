{
 "cells": [
  {
   "cell_type": "markdown",
   "metadata": {},
   "source": [
    "<a id='head'></a>\n",
    "<h1><p style=\"text-align: center;\">Музыка больших городов</p></h1>"
   ]
  },
  {
   "cell_type": "markdown",
   "metadata": {},
   "source": [
    "## Оглавление\n",
    " \n",
    "- [**Введение**](#intro)\n",
    "    - [Цели исследования](#purpose)\n",
    "    - [Ход исследования](#progress)\n",
    "    \n",
    "- [**1. Обзор данных**](#review)\n",
    "    - [Выводы](#review_conclusions)\n",
    "\n",
    "- [**2. Предобработка данных**](#preprocessing)\n",
    "    - [2.1 Стиль заголовков](#preprocessing_01)\n",
    "    - [2.2 Пропуски значений](#preprocessing_02)\n",
    "    - [2.3 Дубликаты](#preprocessing_03)\n",
    "    - [Выводы](#preprocessing_conclusions)\n",
    "\n",
    "- [**3. Проверка гипотез**](#hypotheses)\n",
    "    - [3.1 Сравнение поведения пользователей двух столиц](#hypotheses_01)\n",
    "    - [3.2 Музыка в начале и в конце недели](#hypotheses_02)\n",
    "    - [3.3 Жанровые предпочтения в Москве и Петербурге](#hypotheses_03)\n",
    "\n",
    "- [**4. Итоги исследования**](#final_conclusion)"
   ]
  },
  {
   "cell_type": "markdown",
   "metadata": {
    "id": "E0vqbgi9ay0H"
   },
   "source": [
    "<a id='intro'></a>\n",
    "## Введение"
   ]
  },
  {
   "cell_type": "markdown",
   "metadata": {
    "id": "VUC88oWjTJw2"
   },
   "source": [
    "Сравнение Москвы и Петербурга окружено мифами. Например:\n",
    " * Москва — мегаполис, подчинённый жёсткому ритму рабочей недели;\n",
    " * Петербург — культурная столица, со своими вкусами.\n",
    "\n",
    "На данных Яндекс.Музыки вы сравните поведение пользователей двух столиц."
   ]
  },
  {
   "cell_type": "markdown",
   "metadata": {},
   "source": [
    "<a id='purpose'></a>\n",
    "### Цели исследования [▴](#head)"
   ]
  },
  {
   "cell_type": "markdown",
   "metadata": {},
   "source": [
    "Проверить три гипотезы:\n",
    "1. Активность пользователей зависит от дня недели. Причём в Москве и Петербурге это проявляется по-разному.\n",
    "2. В понедельник утром в Москве преобладают одни жанры, а в Петербурге — другие. Так же и вечером пятницы преобладают разные жанры — в зависимости от города. \n",
    "3. Москва и Петербург предпочитают разные жанры музыки. В Москве чаще слушают поп-музыку, в Петербурге — русский рэп."
   ]
  },
  {
   "cell_type": "markdown",
   "metadata": {},
   "source": [
    "<a id='progress'></a>\n",
    "### Ход исследования [▴](#head)"
   ]
  },
  {
   "cell_type": "markdown",
   "metadata": {},
   "source": [
    "Данные о поведении пользователей вы получите из файла `yandex_music_project.csv`. О качестве данных ничего не известно. Поэтому перед проверкой гипотез понадобится обзор данных. \n",
    "\n",
    "Вы проверите данные на ошибки и оцените их влияние на исследование. Затем, на этапе предобработки вы поищете возможность исправить самые критичные ошибки данных.\n",
    " \n",
    "Таким образом, исследование пройдёт в три этапа:\n",
    " 1. Обзор данных.\n",
    " 2. Предобработка данных.\n",
    " 3. Проверка гипотез.\n"
   ]
  },
  {
   "cell_type": "markdown",
   "metadata": {
    "id": "Ml1hmfXC_Zcs"
   },
   "source": [
    "<a id='review'></a>\n",
    "## 1. Обзор данных [▴](#head)"
   ]
  },
  {
   "cell_type": "markdown",
   "metadata": {
    "id": "57eAOGIz_Zcs"
   },
   "source": [
    "Составьте первое представление о данных Яндекс.Музыки.\n",
    "\n",
    "Основной инструмент аналитика — `pandas`. Импортируйте эту библиотеку."
   ]
  },
  {
   "cell_type": "code",
   "execution_count": 1,
   "metadata": {
    "id": "AXN7PHPN_Zcs"
   },
   "outputs": [],
   "source": [
    "# импорт библиотеки pandas\n",
    "import pandas as pd"
   ]
  },
  {
   "cell_type": "markdown",
   "metadata": {
    "id": "SG23P8tt_Zcs"
   },
   "source": [
    "Прочитайте файл `yandex_music_project.csv` из папки `/datasets` и сохраните его в переменной `df`:"
   ]
  },
  {
   "cell_type": "code",
   "execution_count": 2,
   "metadata": {
    "id": "fFVu7vqh_Zct"
   },
   "outputs": [],
   "source": [
    "# чтение файла с данными и сохранение в df\n",
    "df = pd.read_csv('datasets/yandex_music_project.csv')"
   ]
  },
  {
   "cell_type": "markdown",
   "metadata": {
    "id": "rDoOMd3uTqnZ"
   },
   "source": [
    "Выведите на экран первые десять строк таблицы:"
   ]
  },
  {
   "cell_type": "code",
   "execution_count": 3,
   "metadata": {
    "id": "oWTVX3gW_Zct"
   },
   "outputs": [
    {
     "data": {
      "text/html": [
       "<div>\n",
       "<style scoped>\n",
       "    .dataframe tbody tr th:only-of-type {\n",
       "        vertical-align: middle;\n",
       "    }\n",
       "\n",
       "    .dataframe tbody tr th {\n",
       "        vertical-align: top;\n",
       "    }\n",
       "\n",
       "    .dataframe thead th {\n",
       "        text-align: right;\n",
       "    }\n",
       "</style>\n",
       "<table border=\"1\" class=\"dataframe\">\n",
       "  <thead>\n",
       "    <tr style=\"text-align: right;\">\n",
       "      <th></th>\n",
       "      <th>userID</th>\n",
       "      <th>Track</th>\n",
       "      <th>artist</th>\n",
       "      <th>genre</th>\n",
       "      <th>City</th>\n",
       "      <th>time</th>\n",
       "      <th>Day</th>\n",
       "    </tr>\n",
       "  </thead>\n",
       "  <tbody>\n",
       "    <tr>\n",
       "      <th>0</th>\n",
       "      <td>FFB692EC</td>\n",
       "      <td>Kamigata To Boots</td>\n",
       "      <td>The Mass Missile</td>\n",
       "      <td>rock</td>\n",
       "      <td>Saint-Petersburg</td>\n",
       "      <td>20:28:33</td>\n",
       "      <td>Wednesday</td>\n",
       "    </tr>\n",
       "    <tr>\n",
       "      <th>1</th>\n",
       "      <td>55204538</td>\n",
       "      <td>Delayed Because of Accident</td>\n",
       "      <td>Andreas Rönnberg</td>\n",
       "      <td>rock</td>\n",
       "      <td>Moscow</td>\n",
       "      <td>14:07:09</td>\n",
       "      <td>Friday</td>\n",
       "    </tr>\n",
       "    <tr>\n",
       "      <th>2</th>\n",
       "      <td>20EC38</td>\n",
       "      <td>Funiculì funiculà</td>\n",
       "      <td>Mario Lanza</td>\n",
       "      <td>pop</td>\n",
       "      <td>Saint-Petersburg</td>\n",
       "      <td>20:58:07</td>\n",
       "      <td>Wednesday</td>\n",
       "    </tr>\n",
       "    <tr>\n",
       "      <th>3</th>\n",
       "      <td>A3DD03C9</td>\n",
       "      <td>Dragons in the Sunset</td>\n",
       "      <td>Fire + Ice</td>\n",
       "      <td>folk</td>\n",
       "      <td>Saint-Petersburg</td>\n",
       "      <td>08:37:09</td>\n",
       "      <td>Monday</td>\n",
       "    </tr>\n",
       "    <tr>\n",
       "      <th>4</th>\n",
       "      <td>E2DC1FAE</td>\n",
       "      <td>Soul People</td>\n",
       "      <td>Space Echo</td>\n",
       "      <td>dance</td>\n",
       "      <td>Moscow</td>\n",
       "      <td>08:34:34</td>\n",
       "      <td>Monday</td>\n",
       "    </tr>\n",
       "    <tr>\n",
       "      <th>5</th>\n",
       "      <td>842029A1</td>\n",
       "      <td>Преданная</td>\n",
       "      <td>IMPERVTOR</td>\n",
       "      <td>rusrap</td>\n",
       "      <td>Saint-Petersburg</td>\n",
       "      <td>13:09:41</td>\n",
       "      <td>Friday</td>\n",
       "    </tr>\n",
       "    <tr>\n",
       "      <th>6</th>\n",
       "      <td>4CB90AA5</td>\n",
       "      <td>True</td>\n",
       "      <td>Roman Messer</td>\n",
       "      <td>dance</td>\n",
       "      <td>Moscow</td>\n",
       "      <td>13:00:07</td>\n",
       "      <td>Wednesday</td>\n",
       "    </tr>\n",
       "    <tr>\n",
       "      <th>7</th>\n",
       "      <td>F03E1C1F</td>\n",
       "      <td>Feeling This Way</td>\n",
       "      <td>Polina Griffith</td>\n",
       "      <td>dance</td>\n",
       "      <td>Moscow</td>\n",
       "      <td>20:47:49</td>\n",
       "      <td>Wednesday</td>\n",
       "    </tr>\n",
       "    <tr>\n",
       "      <th>8</th>\n",
       "      <td>8FA1D3BE</td>\n",
       "      <td>И вновь продолжается бой</td>\n",
       "      <td>NaN</td>\n",
       "      <td>ruspop</td>\n",
       "      <td>Moscow</td>\n",
       "      <td>09:17:40</td>\n",
       "      <td>Friday</td>\n",
       "    </tr>\n",
       "    <tr>\n",
       "      <th>9</th>\n",
       "      <td>E772D5C0</td>\n",
       "      <td>Pessimist</td>\n",
       "      <td>NaN</td>\n",
       "      <td>dance</td>\n",
       "      <td>Saint-Petersburg</td>\n",
       "      <td>21:20:49</td>\n",
       "      <td>Wednesday</td>\n",
       "    </tr>\n",
       "  </tbody>\n",
       "</table>\n",
       "</div>"
      ],
      "text/plain": [
       "     userID                        Track            artist   genre  \\\n",
       "0  FFB692EC            Kamigata To Boots  The Mass Missile    rock   \n",
       "1  55204538  Delayed Because of Accident  Andreas Rönnberg    rock   \n",
       "2    20EC38            Funiculì funiculà       Mario Lanza     pop   \n",
       "3  A3DD03C9        Dragons in the Sunset        Fire + Ice    folk   \n",
       "4  E2DC1FAE                  Soul People        Space Echo   dance   \n",
       "5  842029A1                    Преданная         IMPERVTOR  rusrap   \n",
       "6  4CB90AA5                         True      Roman Messer   dance   \n",
       "7  F03E1C1F             Feeling This Way   Polina Griffith   dance   \n",
       "8  8FA1D3BE     И вновь продолжается бой               NaN  ruspop   \n",
       "9  E772D5C0                    Pessimist               NaN   dance   \n",
       "\n",
       "             City        time        Day  \n",
       "0  Saint-Petersburg  20:28:33  Wednesday  \n",
       "1            Moscow  14:07:09     Friday  \n",
       "2  Saint-Petersburg  20:58:07  Wednesday  \n",
       "3  Saint-Petersburg  08:37:09     Monday  \n",
       "4            Moscow  08:34:34     Monday  \n",
       "5  Saint-Petersburg  13:09:41     Friday  \n",
       "6            Moscow  13:00:07  Wednesday  \n",
       "7            Moscow  20:47:49  Wednesday  \n",
       "8            Moscow  09:17:40     Friday  \n",
       "9  Saint-Petersburg  21:20:49  Wednesday  "
      ]
     },
     "metadata": {},
     "output_type": "display_data"
    }
   ],
   "source": [
    "# получение первых 10 строк таблицы df\n",
    "display(df.head(10))"
   ]
  },
  {
   "cell_type": "markdown",
   "metadata": {
    "id": "EO73Kwic_Zct"
   },
   "source": [
    "Одной командой получить общую информацию о таблице:"
   ]
  },
  {
   "cell_type": "code",
   "execution_count": 4,
   "metadata": {
    "id": "DSf2kIb-_Zct"
   },
   "outputs": [
    {
     "name": "stdout",
     "output_type": "stream",
     "text": [
      "<class 'pandas.core.frame.DataFrame'>\n",
      "RangeIndex: 65079 entries, 0 to 65078\n",
      "Data columns (total 7 columns):\n",
      " #   Column    Non-Null Count  Dtype \n",
      "---  ------    --------------  ----- \n",
      " 0     userID  65079 non-null  object\n",
      " 1   Track     63848 non-null  object\n",
      " 2   artist    57876 non-null  object\n",
      " 3   genre     63881 non-null  object\n",
      " 4     City    65079 non-null  object\n",
      " 5   time      65079 non-null  object\n",
      " 6   Day       65079 non-null  object\n",
      "dtypes: object(7)\n",
      "memory usage: 3.5+ MB\n",
      "None\n"
     ]
    }
   ],
   "source": [
    "# получение общей информации о данных в таблице df\n",
    "print(df.info())"
   ]
  },
  {
   "cell_type": "markdown",
   "metadata": {
    "id": "TaQ2Iwbr_Zct"
   },
   "source": [
    "Итак, в таблице семь столбцов. Тип данных во всех столбцах — `object`.\n",
    "\n",
    "Согласно документации к данным:\n",
    "* `userID` — идентификатор пользователя;\n",
    "* `Track` — название трека;  \n",
    "* `artist` — имя исполнителя;\n",
    "* `genre` — название жанра;\n",
    "* `City` — город пользователя;\n",
    "* `time` — время начала прослушивания;\n",
    "* `Day` — день недели.\n",
    "\n",
    "В названиях колонок видны три нарушения стиля:\n",
    "1. Строчные буквы сочетаются с прописными.\n",
    "2. Встречаются пробелы как в начале, так и в конце названия.\n",
    "3. В названиях колонок не использован хороший стиль написания, в частности в колонке userID.\n",
    "\n",
    "\n",
    "\n",
    "Количество значений в столбцах различается. Значит, в данных есть пропущенные значения.\n"
   ]
  },
  {
   "cell_type": "markdown",
   "metadata": {
    "id": "MCB6-dXG_Zct"
   },
   "source": [
    "<a id='review_conclusions'></a>\n",
    "### Выводы [▴](#head)"
   ]
  },
  {
   "cell_type": "markdown",
   "metadata": {},
   "source": [
    "В каждой строке таблицы — данные о прослушанном треке. Часть колонок описывает саму композицию: название, исполнителя и жанр. Остальные данные рассказывают о пользователе: из какого он города, когда он слушал музыку. \n",
    "\n",
    "Предварительно можно утверждать, что, данных достаточно для проверки гипотез. Но встречаются пропуски в данных, а в названиях колонок — расхождения с хорошим стилем.\n",
    "\n",
    "Чтобы двигаться дальше, нужно устранить проблемы в данных."
   ]
  },
  {
   "cell_type": "markdown",
   "metadata": {
    "id": "SjYF6Ub9_Zct"
   },
   "source": [
    "<a id='preprocessing'></a>\n",
    "## 2. Предобработка данных [▴](#head)"
   ]
  },
  {
   "cell_type": "markdown",
   "metadata": {},
   "source": [
    "Исправьте стиль в заголовках столбцов, исключите пропуски. Затем проверьте данные на дубликаты."
   ]
  },
  {
   "cell_type": "markdown",
   "metadata": {},
   "source": [
    "<a id='preprocessing_01'></a>\n",
    "### 2.1 Стиль заголовков [▴](#head)"
   ]
  },
  {
   "cell_type": "markdown",
   "metadata": {
    "id": "dIaKXr29_Zct"
   },
   "source": [
    "\n",
    "Выведите на экран названия столбцов:"
   ]
  },
  {
   "cell_type": "code",
   "execution_count": 5,
   "metadata": {
    "id": "oKOTdF_Q_Zct"
   },
   "outputs": [
    {
     "name": "stdout",
     "output_type": "stream",
     "text": [
      "Index(['  userID', 'Track', 'artist', 'genre', '  City  ', 'time', 'Day'], dtype='object')\n"
     ]
    }
   ],
   "source": [
    "# перечень названий столбцов таблицы df\n",
    "print(df.columns)"
   ]
  },
  {
   "cell_type": "markdown",
   "metadata": {
    "id": "zj5534cv_Zct"
   },
   "source": [
    "Приведите названия в соответствие с хорошим стилем:\n",
    "* несколько слов в названии запишите в «змеином_регистре»,\n",
    "* все символы сделайте строчными,\n",
    "* устраните пробелы.\n",
    "\n",
    "Для этого переименуйте колонки так:\n",
    "* `'  userID'` → `'user_id'`;\n",
    "* `'Track'` → `'track'`;\n",
    "* `'  City  '` → `'city'`;\n",
    "* `'Day'` → `'day'`."
   ]
  },
  {
   "cell_type": "code",
   "execution_count": 6,
   "metadata": {
    "id": "ISlFqs5y_Zct"
   },
   "outputs": [],
   "source": [
    "# если бы пробелы были внутри заголовка, можно было бы воспользоваться метдом str.replace(' ', '')\n",
    "df.columns = df.columns.str.strip().str.lower().str.replace('userid', 'user_id')"
   ]
  },
  {
   "cell_type": "markdown",
   "metadata": {
    "id": "1dqbh00J_Zct"
   },
   "source": [
    "Проверьте результат. Для этого ещё раз выведите на экран названия столбцов:"
   ]
  },
  {
   "cell_type": "code",
   "execution_count": 7,
   "metadata": {
    "id": "d4NOAmTW_Zct",
    "scrolled": true
   },
   "outputs": [
    {
     "name": "stdout",
     "output_type": "stream",
     "text": [
      "Index(['user_id', 'track', 'artist', 'genre', 'city', 'time', 'day'], dtype='object')\n"
     ]
    }
   ],
   "source": [
    "# проверка результатов - перечень названий столбцов\n",
    "print(df.columns)"
   ]
  },
  {
   "cell_type": "markdown",
   "metadata": {},
   "source": [
    "<a id='preprocessing_02'></a>\n",
    "### 2.2 Пропуски значений [▴](#head)"
   ]
  },
  {
   "cell_type": "markdown",
   "metadata": {
    "id": "5ISfbcfY_Zct"
   },
   "source": [
    "Сначала посчитайте, сколько в таблице пропущенных значений. Для этого достаточно двух методов `pandas`:"
   ]
  },
  {
   "cell_type": "code",
   "execution_count": 8,
   "metadata": {
    "id": "RskX29qr_Zct"
   },
   "outputs": [
    {
     "name": "stdout",
     "output_type": "stream",
     "text": [
      "Количество пропущенных значений в таблице:\n",
      "user_id       0\n",
      "track      1231\n",
      "artist     7203\n",
      "genre      1198\n",
      "city          0\n",
      "time          0\n",
      "day           0\n",
      "dtype: int64\n"
     ]
    }
   ],
   "source": [
    "# подсчёт пропусков\n",
    "print(\n",
    "    \"Количество пропущенных значений в таблице:\\n\", \n",
    "    df.isna().sum(), sep=''\n",
    "    )"
   ]
  },
  {
   "cell_type": "markdown",
   "metadata": {
    "id": "qubhgnlO_Zct"
   },
   "source": [
    "Не все пропущенные значения влияют на исследование. Так в `track` и `artist` пропуски не важны для вашей работы. Достаточно заменить их явными обозначениями.\n",
    "\n",
    "Но пропуски в `genre` могут помешать сравнению музыкальных вкусов в Москве и Санкт-Петербурге. На практике было бы правильно установить причину пропусков и восстановить данные. Такой возможности нет в учебном проекте. Придётся:\n",
    "* заполнить и эти пропуски явными обозначениями,\n",
    "* оценить, насколько они повредят расчётам. "
   ]
  },
  {
   "cell_type": "markdown",
   "metadata": {
    "id": "fSv2laPA_Zct"
   },
   "source": [
    "Замените пропущенные значения в столбцах `track`, `artist` и `genre` на строку `'unknown'`. Для этого создайте список `columns_to_replace`, переберите его элементы циклом `for` и для каждого столбца выполните замену пропущенных значений:"
   ]
  },
  {
   "cell_type": "code",
   "execution_count": 9,
   "metadata": {
    "id": "KplB5qWs_Zct"
   },
   "outputs": [],
   "source": [
    "# перебор названий столбцов в цикле и замена пропущенных значений на 'unknown'\n",
    "columns_to_replace = ['track', 'artist', 'genre']\n",
    "for col_name in columns_to_replace:\n",
    "    df[col_name].fillna('unknown', inplace=True)"
   ]
  },
  {
   "cell_type": "markdown",
   "metadata": {
    "id": "Ilsm-MZo_Zct"
   },
   "source": [
    "Убедитесь, что в таблице не осталось пропусков. Для этого ещё раз посчитайте пропущенные значения."
   ]
  },
  {
   "cell_type": "code",
   "execution_count": 10,
   "metadata": {
    "id": "Tq4nYRX4_Zct"
   },
   "outputs": [
    {
     "name": "stdout",
     "output_type": "stream",
     "text": [
      "Количество пропущенных значений в таблице:\n",
      "user_id    0\n",
      "track      0\n",
      "artist     0\n",
      "genre      0\n",
      "city       0\n",
      "time       0\n",
      "day        0\n",
      "dtype: int64\n"
     ]
    }
   ],
   "source": [
    "# подсчёт пропусков\n",
    "print(\n",
    "    \"Количество пропущенных значений в таблице:\\n\", \n",
    "    df.isna().sum(), sep=''\n",
    "    )"
   ]
  },
  {
   "cell_type": "markdown",
   "metadata": {},
   "source": [
    "<a id='preprocessing_03'></a>\n",
    "### 2.3 Дубликаты [▴](#head)"
   ]
  },
  {
   "cell_type": "markdown",
   "metadata": {
    "id": "BWKRtBJ3_Zct"
   },
   "source": [
    "Посчитайте явные дубликаты в таблице одной командой:"
   ]
  },
  {
   "cell_type": "code",
   "execution_count": 11,
   "metadata": {
    "id": "36eES_S0_Zct"
   },
   "outputs": [
    {
     "name": "stdout",
     "output_type": "stream",
     "text": [
      "Количество явных дубликатов в таблице: 3826\n"
     ]
    }
   ],
   "source": [
    "# подсчёт явных дубликатов\n",
    "print(\"Количество явных дубликатов в таблице:\", df.duplicated().sum())"
   ]
  },
  {
   "cell_type": "markdown",
   "metadata": {
    "id": "Ot25h6XR_Zct"
   },
   "source": [
    "Вызовите специальный метод `pandas`, чтобы удалить явные дубликаты:"
   ]
  },
  {
   "cell_type": "code",
   "execution_count": 12,
   "metadata": {
    "id": "exFHq6tt_Zct"
   },
   "outputs": [],
   "source": [
    "# удаление явных дубликатов (с удалением старых индексов и формированием новых)\n",
    "df = df.drop_duplicates().reset_index(drop=True)"
   ]
  },
  {
   "cell_type": "markdown",
   "metadata": {
    "id": "Im2YwBEG_Zct"
   },
   "source": [
    "Ещё раз посчитайте явные дубликаты в таблице — убедитесь, что полностью от них избавились:"
   ]
  },
  {
   "cell_type": "code",
   "execution_count": 13,
   "metadata": {
    "id": "-8PuNWQ0_Zct"
   },
   "outputs": [
    {
     "name": "stdout",
     "output_type": "stream",
     "text": [
      "Количество явных дубликатов в таблице: 0\n"
     ]
    }
   ],
   "source": [
    "# проверка на отсутствие дубликатов\n",
    "print(\"Количество явных дубликатов в таблице:\", df.duplicated().sum())"
   ]
  },
  {
   "cell_type": "markdown",
   "metadata": {
    "id": "QlFBsxAr_Zct"
   },
   "source": [
    "Теперь избавьтесь от неявных дубликатов в колонке `genre`. Например, название одного и того же жанра может быть записано немного по-разному. Такие ошибки тоже повлияют на результат исследования."
   ]
  },
  {
   "cell_type": "markdown",
   "metadata": {
    "id": "eSjWwsOh_Zct"
   },
   "source": [
    "Выведите на экран список уникальных названий жанров, отсортированный в алфавитном порядке. Для этого:\n",
    "* извлеките нужный столбец датафрейма, \n",
    "* примените к нему метод сортировки,\n",
    "* для отсортированного столбца вызовите метод, который вернёт уникальные значения из столбца."
   ]
  },
  {
   "cell_type": "code",
   "execution_count": 14,
   "metadata": {
    "id": "JIUcqzZN_Zct"
   },
   "outputs": [
    {
     "data": {
      "text/plain": [
       "array(['acid', 'acoustic', 'action', 'adult', 'africa', 'afrikaans',\n",
       "       'alternative', 'alternativepunk', 'ambient', 'americana',\n",
       "       'animated', 'anime', 'arabesk', 'arabic', 'arena',\n",
       "       'argentinetango', 'art', 'audiobook', 'author', 'avantgarde',\n",
       "       'axé', 'baile', 'balkan', 'beats', 'bigroom', 'black', 'bluegrass',\n",
       "       'blues', 'bollywood', 'bossa', 'brazilian', 'breakbeat', 'breaks',\n",
       "       'broadway', 'cantautori', 'cantopop', 'canzone', 'caribbean',\n",
       "       'caucasian', 'celtic', 'chamber', 'chanson', 'children', 'chill',\n",
       "       'chinese', 'choral', 'christian', 'christmas', 'classical',\n",
       "       'classicmetal', 'club', 'colombian', 'comedy', 'conjazz',\n",
       "       'contemporary', 'country', 'cuban', 'dance', 'dancehall',\n",
       "       'dancepop', 'dark', 'death', 'deep', 'deutschrock', 'deutschspr',\n",
       "       'dirty', 'disco', 'dnb', 'documentary', 'downbeat', 'downtempo',\n",
       "       'drum', 'dub', 'dubstep', 'eastern', 'easy', 'electronic',\n",
       "       'electropop', 'emo', 'entehno', 'epicmetal', 'estrada', 'ethnic',\n",
       "       'eurofolk', 'european', 'experimental', 'extrememetal', 'fado',\n",
       "       'fairytail', 'film', 'fitness', 'flamenco', 'folk', 'folklore',\n",
       "       'folkmetal', 'folkrock', 'folktronica', 'forró', 'frankreich',\n",
       "       'französisch', 'french', 'funk', 'future', 'gangsta', 'garage',\n",
       "       'german', 'ghazal', 'gitarre', 'glitch', 'gospel', 'gothic',\n",
       "       'grime', 'grunge', 'gypsy', 'handsup', \"hard'n'heavy\", 'hardcore',\n",
       "       'hardstyle', 'hardtechno', 'hip', 'hip-hop', 'hiphop',\n",
       "       'historisch', 'holiday', 'hop', 'horror', 'house', 'hymn', 'idm',\n",
       "       'independent', 'indian', 'indie', 'indipop', 'industrial',\n",
       "       'inspirational', 'instrumental', 'international', 'irish', 'jam',\n",
       "       'japanese', 'jazz', 'jewish', 'jpop', 'jungle', 'k-pop',\n",
       "       'karadeniz', 'karaoke', 'kayokyoku', 'korean', 'laiko', 'latin',\n",
       "       'latino', 'leftfield', 'local', 'lounge', 'loungeelectronic',\n",
       "       'lovers', 'malaysian', 'mandopop', 'marschmusik', 'meditative',\n",
       "       'mediterranean', 'melodic', 'metal', 'metalcore', 'mexican',\n",
       "       'middle', 'minimal', 'miscellaneous', 'modern', 'mood', 'mpb',\n",
       "       'muslim', 'native', 'neoklassik', 'neue', 'new', 'newage',\n",
       "       'newwave', 'nu', 'nujazz', 'numetal', 'oceania', 'old', 'opera',\n",
       "       'orchestral', 'other', 'piano', 'podcasts', 'pop', 'popdance',\n",
       "       'popelectronic', 'popeurodance', 'poprussian', 'post',\n",
       "       'posthardcore', 'postrock', 'power', 'progmetal', 'progressive',\n",
       "       'psychedelic', 'punjabi', 'punk', 'quebecois', 'ragga', 'ram',\n",
       "       'rancheras', 'rap', 'rave', 'reggae', 'reggaeton', 'regional',\n",
       "       'relax', 'religious', 'retro', 'rhythm', 'rnb', 'rnr', 'rock',\n",
       "       'rockabilly', 'rockalternative', 'rockindie', 'rockother',\n",
       "       'romance', 'roots', 'ruspop', 'rusrap', 'rusrock', 'russian',\n",
       "       'salsa', 'samba', 'scenic', 'schlager', 'self', 'sertanejo',\n",
       "       'shanson', 'shoegazing', 'showtunes', 'singer', 'ska', 'skarock',\n",
       "       'slow', 'smooth', 'soft', 'soul', 'soulful', 'sound', 'soundtrack',\n",
       "       'southern', 'specialty', 'speech', 'spiritual', 'sport',\n",
       "       'stonerrock', 'surf', 'swing', 'synthpop', 'synthrock',\n",
       "       'sängerportrait', 'tango', 'tanzorchester', 'taraftar', 'tatar',\n",
       "       'tech', 'techno', 'teen', 'thrash', 'top', 'traditional',\n",
       "       'tradjazz', 'trance', 'tribal', 'trip', 'triphop', 'tropical',\n",
       "       'türk', 'türkçe', 'ukrrock', 'unknown', 'urban', 'uzbek',\n",
       "       'variété', 'vi', 'videogame', 'vocal', 'western', 'world',\n",
       "       'worldbeat', 'ïîï', 'электроника'], dtype=object)"
      ]
     },
     "execution_count": 14,
     "metadata": {},
     "output_type": "execute_result"
    }
   ],
   "source": [
    "# Просмотр уникальных названий жанров\n",
    "df['genre'].sort_values().unique()"
   ]
  },
  {
   "cell_type": "code",
   "execution_count": 15,
   "metadata": {},
   "outputs": [
    {
     "data": {
      "text/html": [
       "<div>\n",
       "<style scoped>\n",
       "    .dataframe tbody tr th:only-of-type {\n",
       "        vertical-align: middle;\n",
       "    }\n",
       "\n",
       "    .dataframe tbody tr th {\n",
       "        vertical-align: top;\n",
       "    }\n",
       "\n",
       "    .dataframe thead th {\n",
       "        text-align: right;\n",
       "    }\n",
       "</style>\n",
       "<table border=\"1\" class=\"dataframe\">\n",
       "  <thead>\n",
       "    <tr style=\"text-align: right;\">\n",
       "      <th></th>\n",
       "      <th>user_id</th>\n",
       "      <th>track</th>\n",
       "      <th>artist</th>\n",
       "      <th>genre</th>\n",
       "      <th>city</th>\n",
       "      <th>time</th>\n",
       "      <th>day</th>\n",
       "    </tr>\n",
       "  </thead>\n",
       "  <tbody>\n",
       "    <tr>\n",
       "      <th>8448</th>\n",
       "      <td>A439123F</td>\n",
       "      <td>Flip It</td>\n",
       "      <td>unknown</td>\n",
       "      <td>ïîï</td>\n",
       "      <td>Moscow</td>\n",
       "      <td>09:08:51</td>\n",
       "      <td>Friday</td>\n",
       "    </tr>\n",
       "  </tbody>\n",
       "</table>\n",
       "</div>"
      ],
      "text/plain": [
       "       user_id    track   artist genre    city      time     day\n",
       "8448  A439123F  Flip It  unknown   ïîï  Moscow  09:08:51  Friday"
      ]
     },
     "metadata": {},
     "output_type": "display_data"
    }
   ],
   "source": [
    "# В жанрах встречается странное значение ïîï. \n",
    "# При проверке оказалось, что встречается оно в таблице всего 1 раз.\n",
    "# Считаю что данный выброс не повердит нашей статистике и удалять его в данном задании нет смысла.\n",
    "display(df[df['genre'] == 'ïîï'])"
   ]
  },
  {
   "cell_type": "markdown",
   "metadata": {
    "id": "qej-Qmuo_Zct"
   },
   "source": [
    "Просмотрите список и найдите неявные дубликаты названия `hiphop`. Это могут быть названия с ошибками или альтернативные названия того же жанра.\n",
    "\n",
    "Вы увидите следующие неявные дубликаты:\n",
    "* *hip*,\n",
    "* *hop*,\n",
    "* *hip-hop*.\n",
    "\n",
    "Чтобы очистить от них таблицу, напишите функцию `replace_wrong_genres()` с двумя параметрами: \n",
    "* `wrong_genres` — список дубликатов,\n",
    "* `correct_genre` — строка с правильным значением.\n",
    "\n",
    "Функция должна исправить колонку `genre` в таблице `df`: заменить каждое значение из списка `wrong_genres` на значение из `correct_genre`."
   ]
  },
  {
   "cell_type": "code",
   "execution_count": 16,
   "metadata": {
    "id": "ErNDkmns_Zct"
   },
   "outputs": [],
   "source": [
    "# !! старая функция !!\n",
    "# Функция для замены неявных дубликатов. \n",
    "def replace_wrong_genres(wrong_genres, correct_genre):\n",
    "    for wrong_genre in wrong_genres:\n",
    "        df['genre'] = df['genre'].replace(wrong_genre, correct_genre)"
   ]
  },
  {
   "cell_type": "markdown",
   "metadata": {},
   "source": [
    "**Еще можно было сделать таким способом:**\\\n",
    "Выше требовалось написать функцию для замены дубликатов.\\\n",
    "Она удаляла по одному набору неявных дубликатов за один раз\\\n",
    "Так как я нашел еще пару дубликатов в жанрах:\n",
    "- электроника\n",
    "- electronic\n",
    "\n",
    "Я решил написать более универсальную функцию, которой на вход можно подать любое количество наборов неявных дубликатов на замену"
   ]
  },
  {
   "cell_type": "code",
   "execution_count": 17,
   "metadata": {},
   "outputs": [],
   "source": [
    "# !! Новая функция !!\n",
    "# Улучшеная функция для борьбы с неявными дубликатами\n",
    "\n",
    "# Принимает на вход словарь, в котором записаны дубликаты в следующем формате:\n",
    "# {\"верное_значение_1\": [\"дубликат_1а\", \"дубликат_1б\"], \"верное_значение_2\": [\"дубликат_2а\", \"дубликат_2б\"]}\n",
    "# Далее функция обходит все элементы словаря распаковывая их на \"верное значение\" и дубликаты, которые надо подменить\n",
    "\n",
    "def replace_wrong_genres_upgrade(genres_duplicates): # принимаем на вход словарь с данными о дубликатах\n",
    "    for item in genres_duplicates.items(): # обходим каждый элемент словаря, распаковывая их в кортеж\n",
    "        for val in item[1]: # в кортеже создаем цикл на обход списка (по сути это значение ключа словаря со списком дубликатов)\n",
    "            df['genre'] = df['genre'].replace(val, item[0]) # заменяем каждый дубликат на верное значение (ключ словаря)"
   ]
  },
  {
   "cell_type": "markdown",
   "metadata": {
    "id": "aDoBJxbA_Zct"
   },
   "source": [
    "Вызовите `replace_wrong_genres()` и передайте ей такие аргументы, чтобы она устранила неявные дубликаты: вместо `hip`, `hop` и `hip-hop` в таблице должно быть значение `hiphop`:"
   ]
  },
  {
   "cell_type": "code",
   "execution_count": 18,
   "metadata": {
    "id": "YN5i2hpmSo09"
   },
   "outputs": [],
   "source": [
    "# Устранение неявных дубликатов\n",
    "\n",
    "# Создаю словарь с неявными дубликатами\n",
    "duplicates_dict = {'hiphop': ['hip-hop', 'hip', 'hop'], 'electronic': ['электроника']} # наборов может быть сколько угодно\n",
    "\n",
    "# Вызываю обновленную фукнцию\n",
    "replace_wrong_genres_upgrade(duplicates_dict)"
   ]
  },
  {
   "cell_type": "markdown",
   "metadata": {
    "id": "zQKF16_RG15m"
   },
   "source": [
    "Проверьте, что заменили неправильные названия:\n",
    "\n",
    "*   hip\n",
    "*   hop\n",
    "*   hip-hop\n",
    "\n",
    "Выведите отсортированный список уникальных значений столбца `genre`:"
   ]
  },
  {
   "cell_type": "code",
   "execution_count": 19,
   "metadata": {
    "id": "wvixALnFG15m"
   },
   "outputs": [
    {
     "data": {
      "text/plain": [
       "array(['acid', 'acoustic', 'action', 'adult', 'africa', 'afrikaans',\n",
       "       'alternative', 'alternativepunk', 'ambient', 'americana',\n",
       "       'animated', 'anime', 'arabesk', 'arabic', 'arena',\n",
       "       'argentinetango', 'art', 'audiobook', 'author', 'avantgarde',\n",
       "       'axé', 'baile', 'balkan', 'beats', 'bigroom', 'black', 'bluegrass',\n",
       "       'blues', 'bollywood', 'bossa', 'brazilian', 'breakbeat', 'breaks',\n",
       "       'broadway', 'cantautori', 'cantopop', 'canzone', 'caribbean',\n",
       "       'caucasian', 'celtic', 'chamber', 'chanson', 'children', 'chill',\n",
       "       'chinese', 'choral', 'christian', 'christmas', 'classical',\n",
       "       'classicmetal', 'club', 'colombian', 'comedy', 'conjazz',\n",
       "       'contemporary', 'country', 'cuban', 'dance', 'dancehall',\n",
       "       'dancepop', 'dark', 'death', 'deep', 'deutschrock', 'deutschspr',\n",
       "       'dirty', 'disco', 'dnb', 'documentary', 'downbeat', 'downtempo',\n",
       "       'drum', 'dub', 'dubstep', 'eastern', 'easy', 'electronic',\n",
       "       'electropop', 'emo', 'entehno', 'epicmetal', 'estrada', 'ethnic',\n",
       "       'eurofolk', 'european', 'experimental', 'extrememetal', 'fado',\n",
       "       'fairytail', 'film', 'fitness', 'flamenco', 'folk', 'folklore',\n",
       "       'folkmetal', 'folkrock', 'folktronica', 'forró', 'frankreich',\n",
       "       'französisch', 'french', 'funk', 'future', 'gangsta', 'garage',\n",
       "       'german', 'ghazal', 'gitarre', 'glitch', 'gospel', 'gothic',\n",
       "       'grime', 'grunge', 'gypsy', 'handsup', \"hard'n'heavy\", 'hardcore',\n",
       "       'hardstyle', 'hardtechno', 'hiphop', 'historisch', 'holiday',\n",
       "       'horror', 'house', 'hymn', 'idm', 'independent', 'indian', 'indie',\n",
       "       'indipop', 'industrial', 'inspirational', 'instrumental',\n",
       "       'international', 'irish', 'jam', 'japanese', 'jazz', 'jewish',\n",
       "       'jpop', 'jungle', 'k-pop', 'karadeniz', 'karaoke', 'kayokyoku',\n",
       "       'korean', 'laiko', 'latin', 'latino', 'leftfield', 'local',\n",
       "       'lounge', 'loungeelectronic', 'lovers', 'malaysian', 'mandopop',\n",
       "       'marschmusik', 'meditative', 'mediterranean', 'melodic', 'metal',\n",
       "       'metalcore', 'mexican', 'middle', 'minimal', 'miscellaneous',\n",
       "       'modern', 'mood', 'mpb', 'muslim', 'native', 'neoklassik', 'neue',\n",
       "       'new', 'newage', 'newwave', 'nu', 'nujazz', 'numetal', 'oceania',\n",
       "       'old', 'opera', 'orchestral', 'other', 'piano', 'podcasts', 'pop',\n",
       "       'popdance', 'popelectronic', 'popeurodance', 'poprussian', 'post',\n",
       "       'posthardcore', 'postrock', 'power', 'progmetal', 'progressive',\n",
       "       'psychedelic', 'punjabi', 'punk', 'quebecois', 'ragga', 'ram',\n",
       "       'rancheras', 'rap', 'rave', 'reggae', 'reggaeton', 'regional',\n",
       "       'relax', 'religious', 'retro', 'rhythm', 'rnb', 'rnr', 'rock',\n",
       "       'rockabilly', 'rockalternative', 'rockindie', 'rockother',\n",
       "       'romance', 'roots', 'ruspop', 'rusrap', 'rusrock', 'russian',\n",
       "       'salsa', 'samba', 'scenic', 'schlager', 'self', 'sertanejo',\n",
       "       'shanson', 'shoegazing', 'showtunes', 'singer', 'ska', 'skarock',\n",
       "       'slow', 'smooth', 'soft', 'soul', 'soulful', 'sound', 'soundtrack',\n",
       "       'southern', 'specialty', 'speech', 'spiritual', 'sport',\n",
       "       'stonerrock', 'surf', 'swing', 'synthpop', 'synthrock',\n",
       "       'sängerportrait', 'tango', 'tanzorchester', 'taraftar', 'tatar',\n",
       "       'tech', 'techno', 'teen', 'thrash', 'top', 'traditional',\n",
       "       'tradjazz', 'trance', 'tribal', 'trip', 'triphop', 'tropical',\n",
       "       'türk', 'türkçe', 'ukrrock', 'unknown', 'urban', 'uzbek',\n",
       "       'variété', 'vi', 'videogame', 'vocal', 'western', 'world',\n",
       "       'worldbeat', 'ïîï'], dtype=object)"
      ]
     },
     "execution_count": 19,
     "metadata": {},
     "output_type": "execute_result"
    }
   ],
   "source": [
    "# Проверка на неявные дубликаты\n",
    "df['genre'].sort_values().unique()"
   ]
  },
  {
   "cell_type": "markdown",
   "metadata": {},
   "source": [
    "<a id='preprocessing_conclusions'></a>\n",
    "### Выводы [▴](#head)"
   ]
  },
  {
   "cell_type": "markdown",
   "metadata": {
    "id": "jz6a9-7HQUDd"
   },
   "source": [
    "\n",
    "Предобработка обнаружила три проблемы в данных:\n",
    "\n",
    "- нарушения в стиле заголовков,\n",
    "- пропущенные значения,\n",
    "- дубликаты — явные и неявные.\n",
    "\n",
    "Мы исправили заголовки, чтобы упростить работу с таблицей. Без дубликатов исследование станет более точным.\n",
    "\n",
    "Пропущенные значения мы заменили на `'unknown'`. Ещё предстоит увидеть, не повредят ли исследованию пропуски в колонке `genre`.\n",
    "\n",
    "Теперь можно перейти к проверке гипотез. "
   ]
  },
  {
   "cell_type": "markdown",
   "metadata": {},
   "source": [
    "<a id='hypotheses'></a>\n",
    "## 3. Проверка гипотез [▴](#head)"
   ]
  },
  {
   "cell_type": "markdown",
   "metadata": {},
   "source": [
    "##### <a id='hypotheses_01'></a>\n",
    "### 3.1 Сравнение поведения пользователей двух столиц [▴](#head)"
   ]
  },
  {
   "cell_type": "markdown",
   "metadata": {
    "id": "nwt_MuaL_Zcu"
   },
   "source": [
    "Первая гипотеза утверждает, что пользователи по-разному слушают музыку в Москве и Санкт-Петербурге. Проверьте это предположение по данным о трёх днях недели — понедельнике, среде и пятнице. Для этого:\n",
    "\n",
    "* Разделите пользователей Москвы и Санкт-Петербурга\n",
    "* Сравните, сколько треков послушала каждая группа пользователей в понедельник, среду и пятницу.\n"
   ]
  },
  {
   "cell_type": "markdown",
   "metadata": {
    "id": "8Dw_YMmT_Zcu"
   },
   "source": [
    "Для тренировки сначала выполните каждый из расчётов по отдельности. \n",
    "\n",
    "Оцените активность пользователей в каждом городе. Сгруппируйте данные по городу и посчитайте прослушивания в каждой группе.\n",
    "\n"
   ]
  },
  {
   "cell_type": "code",
   "execution_count": 20,
   "metadata": {
    "id": "0_Qs96oh_Zcu"
   },
   "outputs": [
    {
     "name": "stdout",
     "output_type": "stream",
     "text": [
      "Количество прослушиваний в зависимости от города:\n",
      "city\n",
      "Moscow              42741\n",
      "Saint-Petersburg    18512\n",
      "Name: user_id, dtype: int64\n"
     ]
    }
   ],
   "source": [
    "# Подсчёт прослушиваний в каждом городе\n",
    "print(\n",
    "    'Количество прослушиваний в зависимости от города:\\n' ,\n",
    "    df.groupby('city')['user_id'].count(), sep=''\n",
    "    )"
   ]
  },
  {
   "cell_type": "markdown",
   "metadata": {
    "id": "dzli3w8o_Zcu"
   },
   "source": [
    "В Москве прослушиваний больше, чем в Петербурге. Из этого не следует, что московские пользователи чаще слушают музыку. Просто самих пользователей в Москве больше.\n",
    "\n",
    "Теперь сгруппируйте данные по дню недели и подсчитайте прослушивания в понедельник, среду и пятницу. Учтите, что в данных есть информация о прослушиваниях только за эти дни.\n"
   ]
  },
  {
   "cell_type": "code",
   "execution_count": 21,
   "metadata": {
    "id": "uZMKjiJz_Zcu"
   },
   "outputs": [
    {
     "name": "stdout",
     "output_type": "stream",
     "text": [
      "Количество прослушиваний в зависимости от дня недели:\n",
      "day\n",
      "Friday       21840\n",
      "Monday       21354\n",
      "Wednesday    18059\n",
      "Name: user_id, dtype: int64\n"
     ]
    }
   ],
   "source": [
    "# Подсчёт прослушиваний в каждый из трёх дней\n",
    "print(\n",
    "    'Количество прослушиваний в зависимости от дня недели:\\n', \n",
    "    df.groupby('day')['user_id'].count(), sep=''\n",
    "    )"
   ]
  },
  {
   "cell_type": "markdown",
   "metadata": {
    "id": "cC2tNrlL_Zcu"
   },
   "source": [
    "В среднем пользователи из двух городов менее активны по средам. Но картина может измениться, если рассмотреть каждый город в отдельности."
   ]
  },
  {
   "cell_type": "markdown",
   "metadata": {
    "id": "POzs8bGa_Zcu"
   },
   "source": [
    "Вы видели, как работает группировка по городу и по дням недели. Теперь напишите функцию, которая объединит два эти расчёта.\n",
    "\n",
    "Создайте функцию `number_tracks()`, которая посчитает прослушивания для заданного дня и города. Ей понадобятся два параметра:\n",
    "* день недели,\n",
    "* название города.\n",
    "\n",
    "В функции сохраните в переменную строки исходной таблицы, у которых значение:\n",
    "  * в колонке `day` равно параметру `day`,\n",
    "  * в колонке `city` равно параметру `city`.\n",
    "\n",
    "Для этого примените последовательную фильтрацию с логической индексацией.\n",
    "\n",
    "Затем посчитайте значения в столбце `user_id` получившейся таблицы. Результат сохраните в новую переменную. Верните эту переменную из функции."
   ]
  },
  {
   "cell_type": "code",
   "execution_count": 22,
   "metadata": {
    "id": "Nz3GdQB1_Zcu"
   },
   "outputs": [],
   "source": [
    "# <создание функции number_tracks()>\n",
    "# Объявляется функция с двумя параметрами: day, city.\n",
    "# В переменной track_list сохраняются те строки таблицы df, для которых \n",
    "# значение в столбце 'day' равно параметру day и одновременно значение\n",
    "# в столбце 'city' равно параметру city (используйте последовательную фильтрацию\n",
    "# с помощью логической индексации).\n",
    "# В переменной track_list_count сохраняется число значений столбца 'user_id',\n",
    "# рассчитанное методом count() для таблицы track_list.\n",
    "# Функция возвращает число - значение track_list_count.\n",
    "# Функция для подсчёта прослушиваний для конкретного города и дня.\n",
    "# С помощью последовательной фильтрации с логической индексацией она \n",
    "# сначала получит из исходной таблицы строки с нужным днём,\n",
    "# затем из результата отфильтрует строки с нужным городом,\n",
    "# методом count() посчитает количество значений в колонке user_id. \n",
    "# Это количество функция вернёт в качестве результата\n",
    "\n",
    "def number_tracks(day, city):\n",
    "    track_list = df[df['day'] == day]\n",
    "    track_list = track_list[track_list['city'] == city]\n",
    "    track_list_count = track_list['user_id'].count()\n",
    "    return track_list_count"
   ]
  },
  {
   "cell_type": "markdown",
   "metadata": {
    "id": "ytf7xFrFJQ2r"
   },
   "source": [
    "Вызовите `number_tracks()` шесть раз, меняя значение параметров — так, чтобы получить данные для каждого города в каждый из трёх дней."
   ]
  },
  {
   "cell_type": "code",
   "execution_count": 23,
   "metadata": {
    "id": "rJcRATNQ_Zcu"
   },
   "outputs": [
    {
     "data": {
      "text/plain": [
       "15740"
      ]
     },
     "execution_count": 23,
     "metadata": {},
     "output_type": "execute_result"
    }
   ],
   "source": [
    "# количество прослушиваний в Москве по понедельникам\n",
    "number_tracks('Monday', 'Moscow')"
   ]
  },
  {
   "cell_type": "code",
   "execution_count": 24,
   "metadata": {
    "id": "hq_ncZ5T_Zcu"
   },
   "outputs": [
    {
     "data": {
      "text/plain": [
       "5614"
      ]
     },
     "execution_count": 24,
     "metadata": {},
     "output_type": "execute_result"
    }
   ],
   "source": [
    "# количество прослушиваний в Санкт-Петербурге по понедельникам\n",
    "number_tracks('Monday', 'Saint-Petersburg')"
   ]
  },
  {
   "cell_type": "code",
   "execution_count": 25,
   "metadata": {
    "id": "_NTy2VPU_Zcu"
   },
   "outputs": [
    {
     "data": {
      "text/plain": [
       "11056"
      ]
     },
     "execution_count": 25,
     "metadata": {},
     "output_type": "execute_result"
    }
   ],
   "source": [
    "# количество прослушиваний в Москве по средам\n",
    "number_tracks('Wednesday', 'Moscow')"
   ]
  },
  {
   "cell_type": "code",
   "execution_count": 26,
   "metadata": {
    "id": "j2y3TAwo_Zcu"
   },
   "outputs": [
    {
     "data": {
      "text/plain": [
       "7003"
      ]
     },
     "execution_count": 26,
     "metadata": {},
     "output_type": "execute_result"
    }
   ],
   "source": [
    "# количество прослушиваний в Санкт-Петербурге по средам\n",
    "number_tracks('Wednesday', 'Saint-Petersburg')"
   ]
  },
  {
   "cell_type": "code",
   "execution_count": 27,
   "metadata": {
    "id": "vYDw5u_K_Zcu"
   },
   "outputs": [
    {
     "data": {
      "text/plain": [
       "15945"
      ]
     },
     "execution_count": 27,
     "metadata": {},
     "output_type": "execute_result"
    }
   ],
   "source": [
    "# количество прослушиваний в Москве по пятницам\n",
    "number_tracks('Friday', 'Moscow')"
   ]
  },
  {
   "cell_type": "code",
   "execution_count": 28,
   "metadata": {
    "id": "8_yzFtW3_Zcu"
   },
   "outputs": [
    {
     "data": {
      "text/plain": [
       "5895"
      ]
     },
     "execution_count": 28,
     "metadata": {},
     "output_type": "execute_result"
    }
   ],
   "source": [
    "# количество прослушиваний в Санкт-Петербурге по пятницам\n",
    "number_tracks('Friday', 'Saint-Petersburg')"
   ]
  },
  {
   "cell_type": "markdown",
   "metadata": {},
   "source": [
    "**Еще можно было сделать таким способом:**\\\n",
    "Для того чтобы не запрашивать функцию 6 раз, создадим автоматизацию, где можно будет получать информацию о любом количестве городов и дней напрямую из ДатаФрейма. А так-же сразу формировать данные для создания нового датафрейма."
   ]
  },
  {
   "cell_type": "code",
   "execution_count": 29,
   "metadata": {},
   "outputs": [
    {
     "name": "stdout",
     "output_type": "stream",
     "text": [
      "[['Saint-Petersburg', 'Wednesday'], ['Saint-Petersburg', 'Friday'], ['Saint-Petersburg', 'Monday'], ['Moscow', 'Wednesday'], ['Moscow', 'Friday'], ['Moscow', 'Monday']] \n",
      "\n",
      "Тело ДатаФрейма:\n",
      "[['Saint-Petersburg', 7003, 5895, 5614], ['Moscow', 11056, 15945, 15740]]\n",
      "\n",
      "Заголовки столбцов:\n",
      "['city', 'wednesday', 'friday', 'monday']\n"
     ]
    }
   ],
   "source": [
    "city_list = list(df['city'].unique()) # Получаем список уникальных городов\n",
    "day_list = list(df['day'].unique()) # Получаем список уникальных дней\n",
    "combination_list = [] # Пустой список для их комбинаций\n",
    "\n",
    "for city in city_list: # С помощью вложенного цикла поочередно обходим все значения двух списков\n",
    "    for day in day_list:\n",
    "        combination_list.append([city, day]) # И записываем их комбинации в список combination_list\n",
    "print(combination_list, '\\n') # Выводим посмотреть что там\n",
    "\n",
    "data_list = [] # Готовим переменную для тела датафрейма\n",
    "column_list = ['city'] + list(map(str.lower, day_list)) # Создаем список с заголовками, название дней берем из списка \n",
    "                                                        # и приводим все к строчным символам\n",
    "\n",
    "for city in city_list: # для каждого города в city_list\n",
    "    nested_list = [city] # Создаем вложенный список, в котором первый элемент это название города\n",
    "    for day in day_list: # Вложенный цикл. Для каждого дня внутри города city\n",
    "        i = df[df['city'] == city] # Применяем последовательную фильтрацию для города\n",
    "        i = i[i['day'] == day] # Применяем последовательную фильтрацию для дня\n",
    "        nested_list.append(i['user_id'].count()) # Добавляем полученное значений к нашему списку nested_list\n",
    "    data_list.append(nested_list) # После наполнения nested_list добавляем его к нашему списку data_list\n",
    "\n",
    "print('Тело ДатаФрейма:\\n', data_list, '\\n', sep='')\n",
    "print('Заголовки столбцов:\\n', column_list, sep='')"
   ]
  },
  {
   "cell_type": "markdown",
   "metadata": {},
   "source": [
    "**Получем DataFrame из результата работы автоматизации**\\\n",
    "Минус конкретного случая в том, что дни недели у меня не отсортированы в нужном порядке.\n",
    "Для того чтобы этого избежать, можно создать в ДатаФрейме вспомогательную колонку с номерами дней и сопоставить их с названиями. Потом отсортировать вывод по этим значениям."
   ]
  },
  {
   "cell_type": "code",
   "execution_count": 30,
   "metadata": {},
   "outputs": [
    {
     "data": {
      "text/html": [
       "<div>\n",
       "<style scoped>\n",
       "    .dataframe tbody tr th:only-of-type {\n",
       "        vertical-align: middle;\n",
       "    }\n",
       "\n",
       "    .dataframe tbody tr th {\n",
       "        vertical-align: top;\n",
       "    }\n",
       "\n",
       "    .dataframe thead th {\n",
       "        text-align: right;\n",
       "    }\n",
       "</style>\n",
       "<table border=\"1\" class=\"dataframe\">\n",
       "  <thead>\n",
       "    <tr style=\"text-align: right;\">\n",
       "      <th></th>\n",
       "      <th>city</th>\n",
       "      <th>wednesday</th>\n",
       "      <th>friday</th>\n",
       "      <th>monday</th>\n",
       "    </tr>\n",
       "  </thead>\n",
       "  <tbody>\n",
       "    <tr>\n",
       "      <th>1</th>\n",
       "      <td>Moscow</td>\n",
       "      <td>11056</td>\n",
       "      <td>15945</td>\n",
       "      <td>15740</td>\n",
       "    </tr>\n",
       "    <tr>\n",
       "      <th>0</th>\n",
       "      <td>Saint-Petersburg</td>\n",
       "      <td>7003</td>\n",
       "      <td>5895</td>\n",
       "      <td>5614</td>\n",
       "    </tr>\n",
       "  </tbody>\n",
       "</table>\n",
       "</div>"
      ],
      "text/plain": [
       "               city  wednesday  friday  monday\n",
       "1            Moscow      11056   15945   15740\n",
       "0  Saint-Petersburg       7003    5895    5614"
      ]
     },
     "execution_count": 30,
     "metadata": {},
     "output_type": "execute_result"
    }
   ],
   "source": [
    "pd.DataFrame(data=data_list, columns=column_list).sort_values(by='city')"
   ]
  },
  {
   "cell_type": "markdown",
   "metadata": {
    "id": "7QXffbO-_Zcu"
   },
   "source": [
    "Создайте c помощью конструктора `pd.DataFrame` таблицу, где\n",
    "* названия колонок — `['city', 'monday', 'wednesday', 'friday']`;\n",
    "* данные — результаты, которые вы получили с помощью `number_tracks`."
   ]
  },
  {
   "cell_type": "code",
   "execution_count": 31,
   "metadata": {
    "id": "APAcLpOr_Zcu"
   },
   "outputs": [
    {
     "data": {
      "text/html": [
       "<div>\n",
       "<style scoped>\n",
       "    .dataframe tbody tr th:only-of-type {\n",
       "        vertical-align: middle;\n",
       "    }\n",
       "\n",
       "    .dataframe tbody tr th {\n",
       "        vertical-align: top;\n",
       "    }\n",
       "\n",
       "    .dataframe thead th {\n",
       "        text-align: right;\n",
       "    }\n",
       "</style>\n",
       "<table border=\"1\" class=\"dataframe\">\n",
       "  <thead>\n",
       "    <tr style=\"text-align: right;\">\n",
       "      <th></th>\n",
       "      <th>city</th>\n",
       "      <th>monday</th>\n",
       "      <th>wednesday</th>\n",
       "      <th>friday</th>\n",
       "    </tr>\n",
       "  </thead>\n",
       "  <tbody>\n",
       "    <tr>\n",
       "      <th>0</th>\n",
       "      <td>Moscow</td>\n",
       "      <td>15740</td>\n",
       "      <td>11056</td>\n",
       "      <td>15945</td>\n",
       "    </tr>\n",
       "    <tr>\n",
       "      <th>1</th>\n",
       "      <td>Saint-Petersburg</td>\n",
       "      <td>5614</td>\n",
       "      <td>7003</td>\n",
       "      <td>5895</td>\n",
       "    </tr>\n",
       "  </tbody>\n",
       "</table>\n",
       "</div>"
      ],
      "text/plain": [
       "               city  monday  wednesday  friday\n",
       "0            Moscow   15740      11056   15945\n",
       "1  Saint-Petersburg    5614       7003    5895"
      ]
     },
     "execution_count": 31,
     "metadata": {},
     "output_type": "execute_result"
    }
   ],
   "source": [
    "# Таблица с результатами по ТЗ\n",
    "pd.DataFrame(\n",
    "    data=[\n",
    "        ['Moscow', 15740, 11056, 15945], \n",
    "        ['Saint-Petersburg', 5614, 7003, 5895]\n",
    "    ], \n",
    "    columns=['city', 'monday', 'wednesday', 'friday'])"
   ]
  },
  {
   "cell_type": "markdown",
   "metadata": {
    "id": "-EgPIHYu_Zcu"
   },
   "source": [
    "**Выводы**\n",
    "\n",
    "Данные показывают разницу поведения пользователей:\n",
    "\n",
    "- В Москве пик прослушиваний приходится на понедельник и пятницу, а в среду заметен спад.\n",
    "- В Петербурге, наоборот, больше слушают музыку по средам. Активность в понедельник и пятницу здесь почти в равной мере уступает среде.\n",
    "\n",
    "Значит, данные говорят в пользу первой гипотезы."
   ]
  },
  {
   "cell_type": "markdown",
   "metadata": {},
   "source": [
    "##### <a id='hypotheses_02'></a>\n",
    "### 3.2 Музыка в начале и в конце недели [▴](#head)"
   ]
  },
  {
   "cell_type": "markdown",
   "metadata": {
    "id": "eXrQqXFH_Zcu"
   },
   "source": [
    "Согласно второй гипотезе, утром в понедельник в Москве преобладают одни жанры, а в Петербурге — другие. Так же и вечером пятницы преобладают разные жанры — в зависимости от города."
   ]
  },
  {
   "cell_type": "markdown",
   "metadata": {
    "id": "S8UcW6Hw_Zcu"
   },
   "source": [
    "Сохраните таблицы с данными в две переменные:\n",
    "* по Москве — в `moscow_general`;\n",
    "* по Санкт-Петербургу — в `spb_general`."
   ]
  },
  {
   "cell_type": "code",
   "execution_count": 32,
   "metadata": {
    "id": "qeaFfM_P_Zcu"
   },
   "outputs": [],
   "source": [
    "# получение таблицы moscow_general из тех строк таблицы df, \n",
    "# для которых значение в столбце 'city' равно 'Moscow'\n",
    "moscow_general = df[df['city'] == 'Moscow']"
   ]
  },
  {
   "cell_type": "code",
   "execution_count": 33,
   "metadata": {
    "id": "ORaVRKto_Zcu"
   },
   "outputs": [],
   "source": [
    "# получение таблицы spb_general из тех строк таблицы df,\n",
    "# для которых значение в столбце 'city' равно 'Saint-Petersburg'\n",
    "spb_general = df[df['city'] == 'Saint-Petersburg']"
   ]
  },
  {
   "cell_type": "markdown",
   "metadata": {
    "id": "MEJV-CX2_Zcu"
   },
   "source": [
    "Создайте функцию `genre_weekday()` с четырьмя параметрами:\n",
    "* таблица (датафрейм) с данными,\n",
    "* день недели,\n",
    "* начальная временная метка в формате 'hh:mm', \n",
    "* последняя временная метка в формате 'hh:mm'.\n",
    "\n",
    "Функция должна вернуть информацию о топ-10 жанров тех треков, которые прослушивали в указанный день, в промежутке между двумя отметками времени."
   ]
  },
  {
   "cell_type": "code",
   "execution_count": 34,
   "metadata": {
    "id": "laJT9BYl_Zcu"
   },
   "outputs": [],
   "source": [
    "# Объявление функции genre_weekday() с параметрами table, day, time1, time2,\n",
    "# которая возвращает информацию о самых популярных жанрах в указанный день в\n",
    "# заданное время:\n",
    "# 1) в переменную genre_df сохраняются те строки переданного датафрейма table, для\n",
    "#    которых одновременно:\n",
    "#    - значение в столбце day равно значению аргумента day\n",
    "#    - значение в столбце time больше значения аргумента time1\n",
    "#    - значение в столбце time меньше значения аргумента time2\n",
    "#    Используйте последовательную фильтрацию с помощью логической индексации.\n",
    "# 2) сгруппировать датафрейм genre_df по столбцу genre, взять один из его\n",
    "#    столбцов и посчитать методом count() количество записей для каждого из\n",
    "#    присутствующих жанров, получившийся Series записать в переменную\n",
    "#    genre_df_count\n",
    "# 3) отсортировать genre_df_count по убыванию встречаемости и сохранить\n",
    "#    в переменную genre_df_sorted\n",
    "# 4) вернуть Series из 10 первых значений genre_df_sorted, это будут топ-10\n",
    "#    популярных жанров (в указанный день, в заданное время)\n",
    "\n",
    "def genre_weekday(table, day, time1, time2):\n",
    "    genre_df = table[table['day'] == day]\n",
    "    genre_df = genre_df[genre_df['time'] > time1]\n",
    "    genre_df = genre_df[genre_df['time'] < time2]\n",
    "    genre_df_count = genre_df.groupby('genre')['track'].count()\n",
    "    genre_df_sorted = genre_df_count.sort_values(ascending=False)\n",
    "    return genre_df_sorted[:10]"
   ]
  },
  {
   "cell_type": "markdown",
   "metadata": {
    "id": "la2s2_PF_Zcu"
   },
   "source": [
    "Cравните результаты функции `genre_weekday()` для Москвы и Санкт-Петербурга в понедельник утром (с 7:00 до 11:00) и в пятницу вечером (с 17:00 до 23:00):"
   ]
  },
  {
   "cell_type": "code",
   "execution_count": 35,
   "metadata": {
    "id": "yz7itPUQ_Zcu"
   },
   "outputs": [
    {
     "name": "stdout",
     "output_type": "stream",
     "text": [
      "Статистика прослушивания жанров\n",
      "Город: Москва\n",
      "Время: утро понедельника\n",
      "\n",
      "genre\n",
      "pop            781\n",
      "dance          549\n",
      "electronic     480\n",
      "rock           474\n",
      "hiphop         286\n",
      "ruspop         186\n",
      "world          181\n",
      "rusrap         175\n",
      "alternative    164\n",
      "unknown        161\n",
      "Name: track, dtype: int64\n"
     ]
    }
   ],
   "source": [
    "# вызов функции для утра понедельника в Москве (вместо df — таблица moscow_general)\n",
    "# объекты, хранящие время, являются строками и сравниваются как строки\n",
    "# пример вызова: genre_weekday(moscow_general, 'Monday', '07:00', '11:00')\n",
    "\n",
    "print(\n",
    "    'Статистика прослушивания жанров\\n',\n",
    "    'Город: Москва\\n', \n",
    "    'Время: утро понедельника\\n\\n', \n",
    "    genre_weekday(moscow_general, 'Monday', '07:00', '11:00'), sep=''\n",
    "    )"
   ]
  },
  {
   "cell_type": "code",
   "execution_count": 36,
   "metadata": {
    "id": "kwUcHPdy_Zcu"
   },
   "outputs": [
    {
     "name": "stdout",
     "output_type": "stream",
     "text": [
      "Статистика прослушивания жанров\n",
      "Город: Санкт-Петербург\n",
      "Время: утро понедельника\n",
      "\n",
      "genre\n",
      "pop            218\n",
      "dance          182\n",
      "rock           162\n",
      "electronic     147\n",
      "hiphop          80\n",
      "ruspop          64\n",
      "alternative     58\n",
      "rusrap          55\n",
      "jazz            44\n",
      "classical       40\n",
      "Name: track, dtype: int64\n"
     ]
    }
   ],
   "source": [
    "# вызов функции для утра понедельника в Петербурге (вместо df — таблица spb_general)\n",
    "\n",
    "print(\n",
    "    'Статистика прослушивания жанров\\n',\n",
    "    'Город: Санкт-Петербург\\n', \n",
    "    'Время: утро понедельника\\n\\n', \n",
    "    genre_weekday(spb_general, 'Monday', '07:00', '11:00'), sep=''\n",
    "    )"
   ]
  },
  {
   "cell_type": "code",
   "execution_count": 37,
   "metadata": {
    "id": "EzXVRE1o_Zcu"
   },
   "outputs": [
    {
     "name": "stdout",
     "output_type": "stream",
     "text": [
      "Статистика прослушивания жанров\n",
      "Город: Москва\n",
      "Время: вечер пятницы\n",
      "\n",
      "genre\n",
      "pop            713\n",
      "rock           517\n",
      "dance          495\n",
      "electronic     482\n",
      "hiphop         273\n",
      "world          208\n",
      "ruspop         170\n",
      "alternative    163\n",
      "classical      163\n",
      "rusrap         142\n",
      "Name: track, dtype: int64\n"
     ]
    }
   ],
   "source": [
    "# вызов функции для вечера пятницы в Москве\n",
    "print(\n",
    "    'Статистика прослушивания жанров\\n',\n",
    "    'Город: Москва\\n', \n",
    "    'Время: вечер пятницы\\n\\n', \n",
    "    genre_weekday(moscow_general, 'Friday', '17:00', '23:00'), sep=''\n",
    "    )"
   ]
  },
  {
   "cell_type": "code",
   "execution_count": 38,
   "metadata": {
    "id": "JZaEKu5v_Zcu"
   },
   "outputs": [
    {
     "name": "stdout",
     "output_type": "stream",
     "text": [
      "Статистика прослушивания жанров\n",
      "Город: Санкт-Петербург\n",
      "Время: вечер пятницы\n",
      "\n",
      "genre\n",
      "pop            256\n",
      "electronic     216\n",
      "rock           216\n",
      "dance          210\n",
      "hiphop          97\n",
      "alternative     63\n",
      "jazz            61\n",
      "classical       60\n",
      "rusrap          59\n",
      "world           54\n",
      "Name: track, dtype: int64\n"
     ]
    }
   ],
   "source": [
    "# вызов функции для вечера пятницы в Петербурге\n",
    "print(\n",
    "    'Статистика прослушивания жанров\\n',\n",
    "    'Город: Санкт-Петербург\\n', \n",
    "    'Время: вечер пятницы\\n\\n', \n",
    "    genre_weekday(spb_general, 'Friday', '17:00', '23:00'), sep=''\n",
    "    )"
   ]
  },
  {
   "cell_type": "markdown",
   "metadata": {
    "id": "wrCe4MNX_Zcu"
   },
   "source": [
    "**Выводы**\n",
    "\n",
    "Если сравнить топ-10 жанров в понедельник утром, можно сделать такие выводы:\n",
    "\n",
    "1. В Москве и Петербурге слушают похожую музыку. Единственное отличие — в московский рейтинг вошёл жанр “world”, а в петербургский — джаз и классика.\n",
    "\n",
    "2. В Москве пропущенных значений оказалось так много, что значение `'unknown'` заняло десятое место среди самых популярных жанров. Значит, пропущенные значения занимают существенную долю в данных и угрожают достоверности исследования.\n",
    "\n",
    "Вечер пятницы не меняет эту картину. Некоторые жанры поднимаются немного выше, другие спускаются, но в целом топ-10 остаётся тем же самым.\n",
    "\n",
    "Таким образом, вторая гипотеза подтвердилась лишь частично:\n",
    "* Пользователи слушают похожую музыку в начале недели и в конце.\n",
    "* Разница между Москвой и Петербургом не слишком выражена. В Москве чаще слушают русскую популярную музыку, в Петербурге — джаз.\n",
    "\n",
    "Однако пропуски в данных ставят под сомнение этот результат. В Москве их так много, что рейтинг топ-10 мог бы выглядеть иначе, если бы не утерянные  данные о жанрах."
   ]
  },
  {
   "cell_type": "markdown",
   "metadata": {},
   "source": [
    "##### <a id='hypotheses_03'></a>\n",
    "### 3.3 Жанровые предпочтения в Москве и Петербурге [▴](#head)"
   ]
  },
  {
   "cell_type": "markdown",
   "metadata": {
    "id": "JolODAqr_Zcu"
   },
   "source": [
    "\n",
    "Гипотеза: Петербург — столица рэпа, музыку этого жанра там слушают чаще, чем в Москве.  А Москва — город контрастов, в котором, тем не менее, преобладает поп-музыка."
   ]
  },
  {
   "cell_type": "markdown",
   "metadata": {
    "id": "DlegSvaT_Zcu"
   },
   "source": [
    "Сгруппируйте таблицу `moscow_general` по жанру и посчитайте прослушивания треков каждого жанра методом `count()`. Затем отсортируйте результат в порядке убывания и сохраните его в таблице `moscow_genres`."
   ]
  },
  {
   "cell_type": "code",
   "execution_count": 39,
   "metadata": {
    "id": "r19lIPke_Zcu"
   },
   "outputs": [],
   "source": [
    "# одной строкой: группировка таблицы moscow_general по столбцу 'genre', \n",
    "# подсчёт числа значений 'genre' в этой группировке методом count(), \n",
    "# сортировка получившегося Series в порядке убывания и сохранение в moscow_genres\n",
    "\n",
    "moscow_genres = moscow_general.groupby('genre')['track'].count().sort_values(ascending=False)"
   ]
  },
  {
   "cell_type": "markdown",
   "metadata": {
    "id": "6kMuomxTiIr8"
   },
   "source": [
    "Выведите на экран первые десять строк `moscow_genres`:"
   ]
  },
  {
   "cell_type": "code",
   "execution_count": 40,
   "metadata": {
    "id": "WhCSooF8_Zcv"
   },
   "outputs": [
    {
     "name": "stdout",
     "output_type": "stream",
     "text": [
      "Топ-10 самых популярных жанров в Москве:\n",
      "genre\n",
      "pop            5892\n",
      "dance          4435\n",
      "rock           3965\n",
      "electronic     3786\n",
      "hiphop         2096\n",
      "classical      1616\n",
      "world          1432\n",
      "alternative    1379\n",
      "ruspop         1372\n",
      "rusrap         1161\n",
      "Name: track, dtype: int64\n"
     ]
    }
   ],
   "source": [
    "# просмотр первых 10 строк moscow_genres\n",
    "print(\n",
    "    'Топ-10 самых популярных жанров в Москве:\\n',\n",
    "    moscow_genres[:10], sep=''\n",
    "    )"
   ]
  },
  {
   "cell_type": "markdown",
   "metadata": {
    "id": "cnPG2vnN_Zcv"
   },
   "source": [
    "Теперь повторите то же и для Петербурга.\n",
    "\n",
    "Сгруппируйте таблицу `spb_general` по жанру. Посчитайте прослушивания треков каждого жанра. Результат отсортируйте в порядке убывания и сохраните в таблице `spb_genres`:\n"
   ]
  },
  {
   "cell_type": "code",
   "execution_count": 41,
   "metadata": {
    "id": "gluLIpE7_Zcv"
   },
   "outputs": [],
   "source": [
    "# одной строкой: группировка таблицы spb_general по столбцу 'genre', \n",
    "# подсчёт числа значений 'genre' в этой группировке методом count(), \n",
    "# сортировка получившегося Series в порядке убывания и сохранение в spb_genres\n",
    "\n",
    "spb_genres = spb_general.groupby('genre')['track'].count().sort_values(ascending=False)"
   ]
  },
  {
   "cell_type": "markdown",
   "metadata": {
    "id": "5Doha_ODgyQ8"
   },
   "source": [
    "Выведите на экран первые десять строк `spb_genres`:"
   ]
  },
  {
   "cell_type": "code",
   "execution_count": 42,
   "metadata": {
    "id": "uaGJHjVU_Zcv"
   },
   "outputs": [
    {
     "name": "stdout",
     "output_type": "stream",
     "text": [
      "Топ-10 самых популярных жанров в Санкт-Петербурге:\n",
      "genre\n",
      "pop            2431\n",
      "dance          1932\n",
      "rock           1879\n",
      "electronic     1737\n",
      "hiphop          960\n",
      "alternative     649\n",
      "classical       646\n",
      "rusrap          564\n",
      "ruspop          538\n",
      "world           515\n",
      "Name: track, dtype: int64\n"
     ]
    }
   ],
   "source": [
    "# просмотр первых 10 строк spb_genres\n",
    "print(\n",
    "    'Топ-10 самых популярных жанров в Санкт-Петербурге:\\n',\n",
    "    spb_genres[:10], sep=''\n",
    "    )"
   ]
  },
  {
   "cell_type": "markdown",
   "metadata": {
    "id": "RY51YJYu_Zcv"
   },
   "source": [
    "**Выводы**"
   ]
  },
  {
   "cell_type": "markdown",
   "metadata": {
    "id": "nVhnJEm__Zcv"
   },
   "source": [
    "Гипотеза частично подтвердилась:\n",
    "* Поп-музыка — самый популярный жанр в Москве, как и предполагала гипотеза. Более того, в топ-10 жанров встречается близкий жанр — русская популярная музыка.\n",
    "* Вопреки ожиданиям, рэп одинаково популярен в Москве и Петербурге. \n"
   ]
  },
  {
   "cell_type": "markdown",
   "metadata": {},
   "source": [
    "<a id='final_conclusion'></a>\n",
    "## 4. Итоги исследования [▴](#head)"
   ]
  },
  {
   "cell_type": "markdown",
   "metadata": {
    "id": "tjUwbHb3_Zcv"
   },
   "source": [
    "Мы проверили три гипотезы и установили:\n",
    "\n",
    "1. День недели по-разному влияет на активность пользователей в Москве и Петербурге. \n",
    "\n",
    "Первая гипотеза полностью подтвердилась.\n",
    "\n",
    "2. Музыкальные предпочтения не сильно меняются в течение недели — будь то Москва или Петербург. Небольшие различия заметны в начале недели, по понедельникам:\n",
    "* в Москве слушают музыку жанра “world”,\n",
    "* в Петербурге — джаз и классику.\n",
    "\n",
    "Таким образом, вторая гипотеза подтвердилась лишь отчасти. Этот результат мог оказаться иным, если бы не пропуски в данных.\n",
    "\n",
    "3. Во вкусах пользователей Москвы и Петербурга больше общего чем различий. Вопреки ожиданиям, предпочтения жанров в Петербурге напоминают московские.\n",
    "\n",
    "Третья гипотеза не подтвердилась. Если различия в предпочтениях и существуют, на основной массе пользователей они незаметны.\n"
   ]
  }
 ],
 "metadata": {
  "ExecuteTimeLog": [
   {
    "duration": 358,
    "start_time": "2022-04-25T17:58:34.704Z"
   },
   {
    "duration": 3,
    "start_time": "2022-04-25T17:58:38.177Z"
   },
   {
    "duration": 128,
    "start_time": "2022-04-25T17:59:30.473Z"
   },
   {
    "duration": 167,
    "start_time": "2022-04-25T17:59:36.295Z"
   },
   {
    "duration": 18,
    "start_time": "2022-04-25T18:02:56.732Z"
   },
   {
    "duration": 49,
    "start_time": "2022-04-25T18:03:59.550Z"
   },
   {
    "duration": 52,
    "start_time": "2022-04-25T18:04:47.553Z"
   },
   {
    "duration": 28,
    "start_time": "2022-04-25T18:04:58.866Z"
   },
   {
    "duration": 31,
    "start_time": "2022-04-25T18:06:47.527Z"
   },
   {
    "duration": 47,
    "start_time": "2022-04-25T18:08:25.509Z"
   },
   {
    "duration": 29,
    "start_time": "2022-04-25T18:08:47.682Z"
   },
   {
    "duration": 3,
    "start_time": "2022-04-25T18:50:50.582Z"
   },
   {
    "duration": 8,
    "start_time": "2022-04-25T18:59:37.577Z"
   },
   {
    "duration": 108,
    "start_time": "2022-04-25T19:04:17.185Z"
   },
   {
    "duration": 9,
    "start_time": "2022-04-25T19:04:36.741Z"
   },
   {
    "duration": 8,
    "start_time": "2022-04-25T19:06:30.950Z"
   },
   {
    "duration": 7,
    "start_time": "2022-04-25T19:06:34.799Z"
   },
   {
    "duration": 7,
    "start_time": "2022-04-25T19:07:55.438Z"
   },
   {
    "duration": 7,
    "start_time": "2022-04-25T19:08:06.685Z"
   },
   {
    "duration": 18,
    "start_time": "2022-04-25T19:09:15.575Z"
   },
   {
    "duration": 6,
    "start_time": "2022-04-25T19:09:45.847Z"
   },
   {
    "duration": 15,
    "start_time": "2022-04-25T19:09:57.599Z"
   },
   {
    "duration": 35,
    "start_time": "2022-04-25T19:10:24.950Z"
   },
   {
    "duration": 29,
    "start_time": "2022-04-25T19:10:52.954Z"
   },
   {
    "duration": 7,
    "start_time": "2022-04-25T19:13:28.999Z"
   },
   {
    "duration": 13,
    "start_time": "2022-04-25T19:13:40.726Z"
   },
   {
    "duration": 12,
    "start_time": "2022-04-25T19:13:49.677Z"
   },
   {
    "duration": 10,
    "start_time": "2022-04-25T19:14:00.779Z"
   },
   {
    "duration": 10,
    "start_time": "2022-04-25T19:14:13.721Z"
   },
   {
    "duration": 111,
    "start_time": "2022-04-25T19:16:25.416Z"
   },
   {
    "duration": 9,
    "start_time": "2022-04-25T19:16:35.094Z"
   },
   {
    "duration": 7,
    "start_time": "2022-04-25T19:20:18.126Z"
   },
   {
    "duration": 7,
    "start_time": "2022-04-25T19:22:00.787Z"
   },
   {
    "duration": 5,
    "start_time": "2022-04-25T19:22:57.466Z"
   },
   {
    "duration": 22,
    "start_time": "2022-04-25T19:25:03.718Z"
   },
   {
    "duration": 15,
    "start_time": "2022-04-25T19:25:31.695Z"
   },
   {
    "duration": 105,
    "start_time": "2022-04-25T19:26:22.776Z"
   },
   {
    "duration": 11,
    "start_time": "2022-04-25T19:29:06.537Z"
   },
   {
    "duration": 6,
    "start_time": "2022-04-25T19:29:29.694Z"
   },
   {
    "duration": 5,
    "start_time": "2022-04-25T19:29:30.796Z"
   },
   {
    "duration": 5,
    "start_time": "2022-04-25T19:29:31.438Z"
   },
   {
    "duration": 6,
    "start_time": "2022-04-25T19:29:31.848Z"
   },
   {
    "duration": 5,
    "start_time": "2022-04-25T19:29:32.314Z"
   },
   {
    "duration": 6,
    "start_time": "2022-04-25T19:29:32.820Z"
   },
   {
    "duration": 6,
    "start_time": "2022-04-25T19:29:33.439Z"
   },
   {
    "duration": 7,
    "start_time": "2022-04-25T19:29:34.156Z"
   },
   {
    "duration": 6,
    "start_time": "2022-04-25T19:29:34.787Z"
   },
   {
    "duration": 5,
    "start_time": "2022-04-25T19:29:35.499Z"
   },
   {
    "duration": 5,
    "start_time": "2022-04-25T19:29:36.176Z"
   },
   {
    "duration": 5,
    "start_time": "2022-04-25T19:29:36.759Z"
   },
   {
    "duration": 5,
    "start_time": "2022-04-25T19:29:37.253Z"
   },
   {
    "duration": 5,
    "start_time": "2022-04-25T19:29:37.876Z"
   },
   {
    "duration": 6,
    "start_time": "2022-04-25T19:29:38.345Z"
   },
   {
    "duration": 7,
    "start_time": "2022-04-25T19:29:53.234Z"
   },
   {
    "duration": 154,
    "start_time": "2022-04-25T19:30:04.213Z"
   },
   {
    "duration": 7,
    "start_time": "2022-04-25T19:30:09.654Z"
   },
   {
    "duration": 5,
    "start_time": "2022-04-25T19:36:52.432Z"
   },
   {
    "duration": 155,
    "start_time": "2022-04-25T19:37:07.952Z"
   },
   {
    "duration": 6,
    "start_time": "2022-04-25T19:37:18.133Z"
   },
   {
    "duration": 11,
    "start_time": "2022-04-25T19:38:55.251Z"
   },
   {
    "duration": 5,
    "start_time": "2022-04-25T19:39:05.018Z"
   },
   {
    "duration": 151,
    "start_time": "2022-04-25T19:39:12.883Z"
   },
   {
    "duration": 5,
    "start_time": "2022-04-25T19:39:16.516Z"
   },
   {
    "duration": 3,
    "start_time": "2022-04-25T19:39:50.881Z"
   },
   {
    "duration": 28,
    "start_time": "2022-04-25T19:43:17.652Z"
   },
   {
    "duration": 28,
    "start_time": "2022-04-25T19:44:44.299Z"
   },
   {
    "duration": 27,
    "start_time": "2022-04-25T19:45:08.378Z"
   },
   {
    "duration": 27,
    "start_time": "2022-04-25T19:45:14.850Z"
   },
   {
    "duration": 28,
    "start_time": "2022-04-25T19:45:37.413Z"
   },
   {
    "duration": 25,
    "start_time": "2022-04-25T19:45:54.693Z"
   },
   {
    "duration": 32,
    "start_time": "2022-04-25T19:46:02.292Z"
   },
   {
    "duration": 25,
    "start_time": "2022-04-25T19:46:11.797Z"
   },
   {
    "duration": 25,
    "start_time": "2022-04-25T19:46:40.815Z"
   },
   {
    "duration": 24,
    "start_time": "2022-04-25T19:47:13.341Z"
   },
   {
    "duration": 24,
    "start_time": "2022-04-25T19:47:15.849Z"
   },
   {
    "duration": 25,
    "start_time": "2022-04-25T19:47:23.095Z"
   },
   {
    "duration": 26,
    "start_time": "2022-04-25T19:47:29.596Z"
   },
   {
    "duration": 26,
    "start_time": "2022-04-25T19:47:38.939Z"
   },
   {
    "duration": 107,
    "start_time": "2022-04-25T19:51:26.144Z"
   },
   {
    "duration": 17,
    "start_time": "2022-04-25T19:51:43.100Z"
   },
   {
    "duration": 13,
    "start_time": "2022-04-25T19:52:06.474Z"
   },
   {
    "duration": 3,
    "start_time": "2022-04-25T19:54:37.530Z"
   },
   {
    "duration": 26,
    "start_time": "2022-04-25T19:55:02.793Z"
   },
   {
    "duration": 25,
    "start_time": "2022-04-25T19:55:21.868Z"
   },
   {
    "duration": 36,
    "start_time": "2022-04-25T19:56:55.950Z"
   },
   {
    "duration": 36,
    "start_time": "2022-04-25T19:56:57.458Z"
   },
   {
    "duration": 37,
    "start_time": "2022-04-25T19:56:58.021Z"
   },
   {
    "duration": 37,
    "start_time": "2022-04-25T19:56:58.439Z"
   },
   {
    "duration": 35,
    "start_time": "2022-04-25T19:56:58.783Z"
   },
   {
    "duration": 43,
    "start_time": "2022-04-25T19:57:57.519Z"
   },
   {
    "duration": 97,
    "start_time": "2022-04-25T19:58:25.694Z"
   },
   {
    "duration": 99,
    "start_time": "2022-04-25T19:58:30.695Z"
   },
   {
    "duration": 189,
    "start_time": "2022-04-25T19:59:03.466Z"
   },
   {
    "duration": 167,
    "start_time": "2022-04-25T19:59:16.165Z"
   },
   {
    "duration": 164,
    "start_time": "2022-04-25T19:59:36.171Z"
   },
   {
    "duration": 115,
    "start_time": "2022-04-25T20:00:02.195Z"
   },
   {
    "duration": 111,
    "start_time": "2022-04-25T20:00:18.597Z"
   },
   {
    "duration": 109,
    "start_time": "2022-04-25T20:00:27.560Z"
   },
   {
    "duration": 112,
    "start_time": "2022-04-25T20:00:43.893Z"
   },
   {
    "duration": 164,
    "start_time": "2022-04-25T20:00:50.275Z"
   },
   {
    "duration": 152,
    "start_time": "2022-04-25T20:01:23.503Z"
   },
   {
    "duration": 25,
    "start_time": "2022-04-25T20:01:42.984Z"
   },
   {
    "duration": 15,
    "start_time": "2022-04-25T20:02:08.601Z"
   },
   {
    "duration": 61,
    "start_time": "2022-04-25T20:03:45.291Z"
   },
   {
    "duration": 127,
    "start_time": "2022-04-25T20:05:05.502Z"
   },
   {
    "duration": 58,
    "start_time": "2022-04-25T20:05:11.374Z"
   },
   {
    "duration": 56,
    "start_time": "2022-04-25T20:05:29.672Z"
   },
   {
    "duration": 83,
    "start_time": "2022-04-25T20:07:33.018Z"
   },
   {
    "duration": 58,
    "start_time": "2022-04-25T20:08:32.466Z"
   },
   {
    "duration": 89,
    "start_time": "2022-04-25T20:08:52.040Z"
   },
   {
    "duration": 90,
    "start_time": "2022-04-25T20:09:25.149Z"
   },
   {
    "duration": 81,
    "start_time": "2022-04-25T20:10:41.686Z"
   },
   {
    "duration": 93,
    "start_time": "2022-04-25T20:12:21.565Z"
   },
   {
    "duration": 3,
    "start_time": "2022-04-25T20:12:47.063Z"
   },
   {
    "duration": 148,
    "start_time": "2022-04-25T20:12:47.070Z"
   },
   {
    "duration": 10,
    "start_time": "2022-04-25T20:12:47.220Z"
   },
   {
    "duration": 44,
    "start_time": "2022-04-25T20:12:47.231Z"
   },
   {
    "duration": 3,
    "start_time": "2022-04-25T20:12:47.278Z"
   },
   {
    "duration": 7,
    "start_time": "2022-04-25T20:12:47.282Z"
   },
   {
    "duration": 4,
    "start_time": "2022-04-25T20:12:47.291Z"
   },
   {
    "duration": 34,
    "start_time": "2022-04-25T20:12:47.296Z"
   },
   {
    "duration": 33,
    "start_time": "2022-04-25T20:12:47.331Z"
   },
   {
    "duration": 26,
    "start_time": "2022-04-25T20:12:47.366Z"
   },
   {
    "duration": 74,
    "start_time": "2022-04-25T20:12:47.394Z"
   },
   {
    "duration": 115,
    "start_time": "2022-04-25T20:12:47.470Z"
   },
   {
    "duration": 67,
    "start_time": "2022-04-25T20:12:47.587Z"
   },
   {
    "duration": 3,
    "start_time": "2022-04-25T20:12:47.656Z"
   },
   {
    "duration": 6,
    "start_time": "2022-04-25T20:12:47.661Z"
   },
   {
    "duration": 6,
    "start_time": "2022-04-25T20:12:47.669Z"
   },
   {
    "duration": 4,
    "start_time": "2022-04-25T20:12:47.677Z"
   },
   {
    "duration": 5,
    "start_time": "2022-04-25T20:12:47.682Z"
   },
   {
    "duration": 6,
    "start_time": "2022-04-25T20:12:47.688Z"
   },
   {
    "duration": 9,
    "start_time": "2022-04-25T20:12:47.696Z"
   },
   {
    "duration": 6,
    "start_time": "2022-04-25T20:12:47.707Z"
   },
   {
    "duration": 6,
    "start_time": "2022-04-25T20:12:47.715Z"
   },
   {
    "duration": 4,
    "start_time": "2022-04-25T20:12:47.723Z"
   },
   {
    "duration": 5,
    "start_time": "2022-04-25T20:12:47.729Z"
   },
   {
    "duration": 20,
    "start_time": "2022-04-25T20:12:47.735Z"
   },
   {
    "duration": 6,
    "start_time": "2022-04-25T20:12:47.757Z"
   },
   {
    "duration": 5,
    "start_time": "2022-04-25T20:12:47.765Z"
   },
   {
    "duration": 5,
    "start_time": "2022-04-25T20:12:47.771Z"
   },
   {
    "duration": 5,
    "start_time": "2022-04-25T20:12:47.779Z"
   },
   {
    "duration": 5,
    "start_time": "2022-04-25T20:12:47.786Z"
   },
   {
    "duration": 7,
    "start_time": "2022-04-25T20:12:47.792Z"
   },
   {
    "duration": 6,
    "start_time": "2022-04-25T20:12:47.800Z"
   },
   {
    "duration": 16,
    "start_time": "2022-04-25T20:12:47.807Z"
   },
   {
    "duration": 10,
    "start_time": "2022-04-25T20:12:47.825Z"
   },
   {
    "duration": 4,
    "start_time": "2022-04-25T20:12:47.837Z"
   },
   {
    "duration": 4,
    "start_time": "2022-04-25T20:12:47.842Z"
   },
   {
    "duration": 6,
    "start_time": "2022-04-25T20:12:47.848Z"
   },
   {
    "duration": 5,
    "start_time": "2022-04-25T20:12:47.856Z"
   },
   {
    "duration": 91,
    "start_time": "2022-04-25T20:13:26.417Z"
   },
   {
    "duration": 90,
    "start_time": "2022-04-25T20:13:39.025Z"
   },
   {
    "duration": 92,
    "start_time": "2022-04-25T20:13:51.085Z"
   },
   {
    "duration": 88,
    "start_time": "2022-04-25T20:15:13.949Z"
   },
   {
    "duration": 92,
    "start_time": "2022-04-25T20:15:50.939Z"
   },
   {
    "duration": 89,
    "start_time": "2022-04-25T20:16:14.109Z"
   },
   {
    "duration": 82,
    "start_time": "2022-04-25T20:16:57.859Z"
   },
   {
    "duration": 58,
    "start_time": "2022-04-25T20:17:03.323Z"
   },
   {
    "duration": 66,
    "start_time": "2022-04-25T20:17:09.212Z"
   },
   {
    "duration": 58,
    "start_time": "2022-04-25T20:17:14.141Z"
   },
   {
    "duration": 5,
    "start_time": "2022-04-25T20:18:16.356Z"
   },
   {
    "duration": 37,
    "start_time": "2022-04-25T20:23:32.465Z"
   },
   {
    "duration": 39,
    "start_time": "2022-04-25T20:24:14.871Z"
   },
   {
    "duration": 74,
    "start_time": "2022-04-25T20:26:04.986Z"
   },
   {
    "duration": 48,
    "start_time": "2022-04-25T20:26:35.911Z"
   },
   {
    "duration": 46,
    "start_time": "2022-04-25T20:26:56.850Z"
   },
   {
    "duration": 49,
    "start_time": "2022-04-25T20:28:43.072Z"
   },
   {
    "duration": 49,
    "start_time": "2022-04-25T20:29:03.569Z"
   },
   {
    "duration": 46,
    "start_time": "2022-04-25T20:29:10.762Z"
   },
   {
    "duration": 46,
    "start_time": "2022-04-25T20:29:16.164Z"
   },
   {
    "duration": 46,
    "start_time": "2022-04-25T20:29:26.426Z"
   },
   {
    "duration": 48,
    "start_time": "2022-04-25T20:29:54.549Z"
   },
   {
    "duration": 7,
    "start_time": "2022-04-25T20:29:59.030Z"
   },
   {
    "duration": 49,
    "start_time": "2022-04-25T20:30:06.823Z"
   },
   {
    "duration": 46,
    "start_time": "2022-04-25T20:31:11.792Z"
   },
   {
    "duration": 47,
    "start_time": "2022-04-25T20:31:35.298Z"
   },
   {
    "duration": 47,
    "start_time": "2022-04-25T20:31:57.575Z"
   },
   {
    "duration": 139,
    "start_time": "2022-04-25T20:35:14.848Z"
   },
   {
    "duration": 7,
    "start_time": "2022-04-25T20:35:26.083Z"
   },
   {
    "duration": 7,
    "start_time": "2022-04-25T20:36:43.360Z"
   },
   {
    "duration": 425,
    "start_time": "2022-04-25T20:37:24.144Z"
   },
   {
    "duration": 139,
    "start_time": "2022-04-25T20:37:45.525Z"
   },
   {
    "duration": 148,
    "start_time": "2022-04-25T20:40:21.955Z"
   },
   {
    "duration": 146,
    "start_time": "2022-04-25T20:40:29.917Z"
   },
   {
    "duration": 190,
    "start_time": "2022-04-25T20:40:43.907Z"
   },
   {
    "duration": 38,
    "start_time": "2022-04-25T20:40:59.128Z"
   },
   {
    "duration": 11,
    "start_time": "2022-04-25T20:49:55.498Z"
   },
   {
    "duration": 9,
    "start_time": "2022-04-25T20:50:50.069Z"
   },
   {
    "duration": 12,
    "start_time": "2022-04-25T20:50:57.372Z"
   },
   {
    "duration": 10,
    "start_time": "2022-04-25T20:51:15.079Z"
   },
   {
    "duration": 12,
    "start_time": "2022-04-25T20:51:28.517Z"
   },
   {
    "duration": 18,
    "start_time": "2022-04-25T20:51:40.148Z"
   },
   {
    "duration": 12,
    "start_time": "2022-04-25T20:51:49.131Z"
   },
   {
    "duration": 14,
    "start_time": "2022-04-25T20:52:19.763Z"
   },
   {
    "duration": 13,
    "start_time": "2022-04-25T20:52:33.186Z"
   },
   {
    "duration": 39,
    "start_time": "2022-04-25T20:56:22.064Z"
   },
   {
    "duration": 13,
    "start_time": "2022-04-25T21:02:02.826Z"
   },
   {
    "duration": 4,
    "start_time": "2022-04-25T21:15:01.554Z"
   },
   {
    "duration": 3,
    "start_time": "2022-04-25T21:51:00.563Z"
   },
   {
    "duration": 4,
    "start_time": "2022-04-25T21:59:56.065Z"
   },
   {
    "duration": 4,
    "start_time": "2022-04-25T22:02:27.075Z"
   },
   {
    "duration": 12,
    "start_time": "2022-04-25T22:03:39.545Z"
   },
   {
    "duration": 39,
    "start_time": "2022-04-25T22:04:07.755Z"
   },
   {
    "duration": 2,
    "start_time": "2022-04-25T22:10:00.484Z"
   },
   {
    "duration": 202,
    "start_time": "2022-04-25T22:10:00.488Z"
   },
   {
    "duration": 11,
    "start_time": "2022-04-25T22:10:00.692Z"
   },
   {
    "duration": 52,
    "start_time": "2022-04-25T22:10:00.704Z"
   },
   {
    "duration": 8,
    "start_time": "2022-04-25T22:10:00.759Z"
   },
   {
    "duration": 20,
    "start_time": "2022-04-25T22:10:00.769Z"
   },
   {
    "duration": 10,
    "start_time": "2022-04-25T22:10:00.791Z"
   },
   {
    "duration": 34,
    "start_time": "2022-04-25T22:10:00.803Z"
   },
   {
    "duration": 19,
    "start_time": "2022-04-25T22:10:00.839Z"
   },
   {
    "duration": 37,
    "start_time": "2022-04-25T22:10:00.860Z"
   },
   {
    "duration": 116,
    "start_time": "2022-04-25T22:10:00.900Z"
   },
   {
    "duration": 83,
    "start_time": "2022-04-25T22:10:01.018Z"
   },
   {
    "duration": 72,
    "start_time": "2022-04-25T22:10:01.103Z"
   },
   {
    "duration": 39,
    "start_time": "2022-04-25T22:10:01.177Z"
   },
   {
    "duration": 13,
    "start_time": "2022-04-25T22:10:01.217Z"
   },
   {
    "duration": 31,
    "start_time": "2022-04-25T22:10:01.232Z"
   },
   {
    "duration": 63,
    "start_time": "2022-04-25T22:10:01.265Z"
   },
   {
    "duration": 71,
    "start_time": "2022-04-25T22:10:01.330Z"
   },
   {
    "duration": 63,
    "start_time": "2022-04-25T22:10:01.403Z"
   },
   {
    "duration": 4,
    "start_time": "2022-04-25T22:10:01.468Z"
   },
   {
    "duration": 43,
    "start_time": "2022-04-25T22:10:01.474Z"
   },
   {
    "duration": 94,
    "start_time": "2022-04-25T22:10:01.519Z"
   },
   {
    "duration": 124,
    "start_time": "2022-04-25T22:10:01.615Z"
   },
   {
    "duration": 43,
    "start_time": "2022-04-25T22:10:01.741Z"
   },
   {
    "duration": 24,
    "start_time": "2022-04-25T22:10:01.786Z"
   },
   {
    "duration": 55,
    "start_time": "2022-04-25T22:10:01.812Z"
   },
   {
    "duration": 36,
    "start_time": "2022-04-25T22:10:01.869Z"
   },
   {
    "duration": 73,
    "start_time": "2022-04-25T22:10:01.907Z"
   },
   {
    "duration": 59,
    "start_time": "2022-04-25T22:10:01.984Z"
   },
   {
    "duration": 52,
    "start_time": "2022-04-25T22:10:02.045Z"
   },
   {
    "duration": 32,
    "start_time": "2022-04-25T22:10:02.099Z"
   },
   {
    "duration": 50,
    "start_time": "2022-04-25T22:10:02.133Z"
   },
   {
    "duration": 21,
    "start_time": "2022-04-25T22:10:02.185Z"
   },
   {
    "duration": 34,
    "start_time": "2022-04-25T22:10:02.208Z"
   },
   {
    "duration": 96,
    "start_time": "2022-04-25T22:10:02.244Z"
   },
   {
    "duration": 29,
    "start_time": "2022-04-25T22:10:02.342Z"
   },
   {
    "duration": 35,
    "start_time": "2022-04-25T22:10:02.373Z"
   },
   {
    "duration": 21,
    "start_time": "2022-04-25T22:10:02.410Z"
   },
   {
    "duration": 15,
    "start_time": "2022-04-25T22:10:02.433Z"
   },
   {
    "duration": 15,
    "start_time": "2022-04-25T22:10:02.450Z"
   },
   {
    "duration": 4,
    "start_time": "2022-04-25T22:13:15.956Z"
   },
   {
    "duration": 508,
    "start_time": "2022-04-27T17:53:48.389Z"
   },
   {
    "duration": 207,
    "start_time": "2022-04-27T17:53:48.899Z"
   },
   {
    "duration": 27,
    "start_time": "2022-04-27T17:53:49.108Z"
   },
   {
    "duration": 66,
    "start_time": "2022-04-27T17:53:49.138Z"
   },
   {
    "duration": 5,
    "start_time": "2022-04-27T17:53:49.208Z"
   },
   {
    "duration": 9,
    "start_time": "2022-04-27T17:53:49.215Z"
   },
   {
    "duration": 6,
    "start_time": "2022-04-27T17:53:49.226Z"
   },
   {
    "duration": 68,
    "start_time": "2022-04-27T17:53:49.235Z"
   },
   {
    "duration": 23,
    "start_time": "2022-04-27T17:53:49.305Z"
   },
   {
    "duration": 36,
    "start_time": "2022-04-27T17:53:49.330Z"
   },
   {
    "duration": 125,
    "start_time": "2022-04-27T17:53:49.368Z"
   },
   {
    "duration": 126,
    "start_time": "2022-04-27T17:53:49.495Z"
   },
   {
    "duration": 101,
    "start_time": "2022-04-27T17:53:49.623Z"
   },
   {
    "duration": 68,
    "start_time": "2022-04-27T17:53:49.733Z"
   },
   {
    "duration": 19,
    "start_time": "2022-04-27T17:53:49.804Z"
   },
   {
    "duration": 5,
    "start_time": "2022-04-27T17:53:49.825Z"
   },
   {
    "duration": 7,
    "start_time": "2022-04-27T17:53:49.832Z"
   },
   {
    "duration": 52,
    "start_time": "2022-04-27T17:53:49.841Z"
   },
   {
    "duration": 54,
    "start_time": "2022-04-27T17:53:49.895Z"
   },
   {
    "duration": 4,
    "start_time": "2022-04-27T17:53:49.952Z"
   },
   {
    "duration": 5,
    "start_time": "2022-04-27T17:53:49.959Z"
   },
   {
    "duration": 28,
    "start_time": "2022-04-27T17:53:49.967Z"
   },
   {
    "duration": 10,
    "start_time": "2022-04-27T17:53:49.997Z"
   },
   {
    "duration": 7,
    "start_time": "2022-04-27T17:53:50.008Z"
   },
   {
    "duration": 10,
    "start_time": "2022-04-27T17:53:50.017Z"
   },
   {
    "duration": 10,
    "start_time": "2022-04-27T17:53:50.029Z"
   },
   {
    "duration": 7,
    "start_time": "2022-04-27T17:53:50.041Z"
   },
   {
    "duration": 19,
    "start_time": "2022-04-27T17:53:50.050Z"
   },
   {
    "duration": 22,
    "start_time": "2022-04-27T17:53:50.071Z"
   },
   {
    "duration": 7,
    "start_time": "2022-04-27T17:53:50.095Z"
   },
   {
    "duration": 10,
    "start_time": "2022-04-27T17:53:50.104Z"
   },
   {
    "duration": 8,
    "start_time": "2022-04-27T17:53:50.117Z"
   },
   {
    "duration": 8,
    "start_time": "2022-04-27T17:53:50.127Z"
   },
   {
    "duration": 6,
    "start_time": "2022-04-27T17:53:50.137Z"
   },
   {
    "duration": 17,
    "start_time": "2022-04-27T17:53:50.145Z"
   },
   {
    "duration": 9,
    "start_time": "2022-04-27T17:53:50.165Z"
   },
   {
    "duration": 5,
    "start_time": "2022-04-27T17:53:50.176Z"
   },
   {
    "duration": 4,
    "start_time": "2022-04-27T17:53:50.193Z"
   },
   {
    "duration": 5,
    "start_time": "2022-04-27T17:53:50.199Z"
   },
   {
    "duration": 6,
    "start_time": "2022-04-27T17:53:50.206Z"
   },
   {
    "duration": 78,
    "start_time": "2022-04-27T17:57:14.115Z"
   },
   {
    "duration": 18,
    "start_time": "2022-04-27T18:00:48.484Z"
   },
   {
    "duration": 19,
    "start_time": "2022-04-27T18:00:59.379Z"
   },
   {
    "duration": 19,
    "start_time": "2022-04-27T18:01:07.382Z"
   },
   {
    "duration": 19,
    "start_time": "2022-04-27T18:02:00.451Z"
   },
   {
    "duration": 25,
    "start_time": "2022-04-27T18:02:08.260Z"
   },
   {
    "duration": 74,
    "start_time": "2022-04-27T18:03:23.398Z"
   },
   {
    "duration": 19,
    "start_time": "2022-04-27T18:03:45.437Z"
   },
   {
    "duration": 189,
    "start_time": "2022-04-27T18:04:14.928Z"
   },
   {
    "duration": 18,
    "start_time": "2022-04-27T18:04:31.001Z"
   },
   {
    "duration": 17,
    "start_time": "2022-04-27T18:04:55.761Z"
   },
   {
    "duration": 18,
    "start_time": "2022-04-27T18:05:00.305Z"
   },
   {
    "duration": 17,
    "start_time": "2022-04-27T18:05:37.208Z"
   },
   {
    "duration": 16,
    "start_time": "2022-04-27T18:12:58.185Z"
   },
   {
    "duration": 16,
    "start_time": "2022-04-27T18:13:00.019Z"
   },
   {
    "duration": 91,
    "start_time": "2022-04-27T18:15:41.685Z"
   },
   {
    "duration": 29,
    "start_time": "2022-04-27T18:15:53.104Z"
   },
   {
    "duration": 173,
    "start_time": "2022-04-27T18:16:20.229Z"
   },
   {
    "duration": 19,
    "start_time": "2022-04-27T18:16:24.676Z"
   },
   {
    "duration": 38,
    "start_time": "2022-04-27T18:18:32.578Z"
   },
   {
    "duration": 21,
    "start_time": "2022-04-27T18:18:50.723Z"
   },
   {
    "duration": 39,
    "start_time": "2022-04-27T18:18:56.207Z"
   },
   {
    "duration": 182,
    "start_time": "2022-04-27T18:19:24.242Z"
   },
   {
    "duration": 55,
    "start_time": "2022-04-27T18:19:28.634Z"
   },
   {
    "duration": 21,
    "start_time": "2022-04-27T18:20:23.306Z"
   },
   {
    "duration": 38,
    "start_time": "2022-04-27T18:20:28.372Z"
   },
   {
    "duration": 34,
    "start_time": "2022-04-27T18:21:26.005Z"
   },
   {
    "duration": 45,
    "start_time": "2022-04-27T18:22:17.845Z"
   },
   {
    "duration": 46,
    "start_time": "2022-04-27T18:23:56.089Z"
   },
   {
    "duration": 21,
    "start_time": "2022-04-27T18:26:51.103Z"
   },
   {
    "duration": 22,
    "start_time": "2022-04-27T18:27:07.063Z"
   },
   {
    "duration": 35,
    "start_time": "2022-04-27T18:27:23.606Z"
   },
   {
    "duration": 32,
    "start_time": "2022-04-27T18:27:49.947Z"
   },
   {
    "duration": 33,
    "start_time": "2022-04-27T18:34:17.033Z"
   },
   {
    "duration": 44,
    "start_time": "2022-04-27T18:34:38.053Z"
   },
   {
    "duration": 36,
    "start_time": "2022-04-27T18:34:41.993Z"
   },
   {
    "duration": 6,
    "start_time": "2022-04-27T18:41:57.987Z"
   },
   {
    "duration": 7,
    "start_time": "2022-04-27T18:42:21.683Z"
   },
   {
    "duration": 17,
    "start_time": "2022-04-27T18:42:28.640Z"
   },
   {
    "duration": 180,
    "start_time": "2022-04-27T18:42:54.135Z"
   },
   {
    "duration": 7,
    "start_time": "2022-04-27T18:42:58.008Z"
   },
   {
    "duration": 10,
    "start_time": "2022-04-27T18:43:06.197Z"
   },
   {
    "duration": 10,
    "start_time": "2022-04-27T18:43:18.869Z"
   },
   {
    "duration": 15,
    "start_time": "2022-04-27T18:44:06.916Z"
   },
   {
    "duration": 11,
    "start_time": "2022-04-27T19:07:01.289Z"
   },
   {
    "duration": 5,
    "start_time": "2022-04-27T19:07:04.399Z"
   },
   {
    "duration": 23,
    "start_time": "2022-04-27T19:07:06.534Z"
   },
   {
    "duration": 20,
    "start_time": "2022-04-27T19:09:14.755Z"
   },
   {
    "duration": 21,
    "start_time": "2022-04-27T19:09:17.022Z"
   },
   {
    "duration": 20,
    "start_time": "2022-04-27T19:09:18.695Z"
   },
   {
    "duration": 24,
    "start_time": "2022-04-27T19:09:20.344Z"
   },
   {
    "duration": 22,
    "start_time": "2022-04-27T19:09:22.432Z"
   },
   {
    "duration": 19,
    "start_time": "2022-04-27T19:10:41.574Z"
   },
   {
    "duration": 31,
    "start_time": "2022-04-27T19:15:51.992Z"
   },
   {
    "duration": 25,
    "start_time": "2022-04-27T19:16:30.213Z"
   },
   {
    "duration": 23,
    "start_time": "2022-04-27T19:17:25.314Z"
   },
   {
    "duration": 17,
    "start_time": "2022-04-27T19:18:11.541Z"
   },
   {
    "duration": 126,
    "start_time": "2022-04-27T19:22:31.402Z"
   },
   {
    "duration": 133,
    "start_time": "2022-04-27T19:22:41.218Z"
   },
   {
    "duration": 136,
    "start_time": "2022-04-27T19:25:45.539Z"
   },
   {
    "duration": 189,
    "start_time": "2022-04-27T19:26:05.818Z"
   },
   {
    "duration": 177,
    "start_time": "2022-04-27T19:27:38.948Z"
   },
   {
    "duration": 174,
    "start_time": "2022-04-27T19:27:49.010Z"
   },
   {
    "duration": 105,
    "start_time": "2022-04-27T19:31:33.402Z"
   },
   {
    "duration": 10,
    "start_time": "2022-04-27T19:32:08.886Z"
   },
   {
    "duration": 21,
    "start_time": "2022-04-27T19:33:10.268Z"
   },
   {
    "duration": 18,
    "start_time": "2022-04-27T19:33:26.452Z"
   },
   {
    "duration": 13,
    "start_time": "2022-04-27T19:35:19.582Z"
   },
   {
    "duration": 110,
    "start_time": "2022-04-27T19:37:17.361Z"
   },
   {
    "duration": 115,
    "start_time": "2022-04-27T19:37:25.530Z"
   },
   {
    "duration": 11,
    "start_time": "2022-04-27T19:40:11.417Z"
   },
   {
    "duration": 18,
    "start_time": "2022-04-27T19:41:23.635Z"
   },
   {
    "duration": 12,
    "start_time": "2022-04-27T19:42:00.348Z"
   },
   {
    "duration": 14,
    "start_time": "2022-04-27T19:42:17.954Z"
   },
   {
    "duration": 118,
    "start_time": "2022-04-27T19:49:01.565Z"
   },
   {
    "duration": 108,
    "start_time": "2022-04-27T19:49:48.430Z"
   },
   {
    "duration": 112,
    "start_time": "2022-04-27T19:51:23.657Z"
   },
   {
    "duration": 208,
    "start_time": "2022-04-27T19:53:25.367Z"
   },
   {
    "duration": 268,
    "start_time": "2022-04-27T19:53:33.525Z"
   },
   {
    "duration": 136,
    "start_time": "2022-04-27T19:53:46.644Z"
   },
   {
    "duration": 208,
    "start_time": "2022-04-27T19:54:12.620Z"
   },
   {
    "duration": 207,
    "start_time": "2022-04-27T19:56:37.223Z"
   },
   {
    "duration": 199,
    "start_time": "2022-04-27T19:57:34.622Z"
   },
   {
    "duration": 189,
    "start_time": "2022-04-27T20:00:14.613Z"
   },
   {
    "duration": 242,
    "start_time": "2022-04-27T20:01:15.794Z"
   },
   {
    "duration": 226,
    "start_time": "2022-04-27T20:02:12.060Z"
   },
   {
    "duration": 222,
    "start_time": "2022-04-27T20:04:04.163Z"
   },
   {
    "duration": 231,
    "start_time": "2022-04-27T20:05:29.376Z"
   },
   {
    "duration": 3,
    "start_time": "2022-04-27T20:13:17.635Z"
   },
   {
    "duration": 224,
    "start_time": "2022-04-27T20:13:17.641Z"
   },
   {
    "duration": 26,
    "start_time": "2022-04-27T20:13:17.867Z"
   },
   {
    "duration": 40,
    "start_time": "2022-04-27T20:13:17.896Z"
   },
   {
    "duration": 5,
    "start_time": "2022-04-27T20:13:17.940Z"
   },
   {
    "duration": 45,
    "start_time": "2022-04-27T20:13:17.948Z"
   },
   {
    "duration": 16,
    "start_time": "2022-04-27T20:13:17.995Z"
   },
   {
    "duration": 45,
    "start_time": "2022-04-27T20:13:18.013Z"
   },
   {
    "duration": 36,
    "start_time": "2022-04-27T20:13:18.061Z"
   },
   {
    "duration": 33,
    "start_time": "2022-04-27T20:13:18.099Z"
   },
   {
    "duration": 265,
    "start_time": "2022-04-27T20:13:18.135Z"
   },
   {
    "duration": 177,
    "start_time": "2022-04-27T20:13:18.403Z"
   },
   {
    "duration": 147,
    "start_time": "2022-04-27T20:13:18.586Z"
   },
   {
    "duration": 69,
    "start_time": "2022-04-27T20:13:18.736Z"
   },
   {
    "duration": 29,
    "start_time": "2022-04-27T20:13:18.808Z"
   },
   {
    "duration": 4,
    "start_time": "2022-04-27T20:13:18.840Z"
   },
   {
    "duration": 7,
    "start_time": "2022-04-27T20:13:18.847Z"
   },
   {
    "duration": 53,
    "start_time": "2022-04-27T20:13:18.857Z"
   },
   {
    "duration": 52,
    "start_time": "2022-04-27T20:13:18.913Z"
   },
   {
    "duration": 34,
    "start_time": "2022-04-27T20:13:18.967Z"
   },
   {
    "duration": 17,
    "start_time": "2022-04-27T20:13:19.003Z"
   },
   {
    "duration": 5,
    "start_time": "2022-04-27T20:13:19.022Z"
   },
   {
    "duration": 67,
    "start_time": "2022-04-27T20:13:19.030Z"
   },
   {
    "duration": 21,
    "start_time": "2022-04-27T20:13:19.099Z"
   },
   {
    "duration": 21,
    "start_time": "2022-04-27T20:13:19.123Z"
   },
   {
    "duration": 61,
    "start_time": "2022-04-27T20:13:19.146Z"
   },
   {
    "duration": 33,
    "start_time": "2022-04-27T20:13:19.209Z"
   },
   {
    "duration": 59,
    "start_time": "2022-04-27T20:13:19.244Z"
   },
   {
    "duration": 329,
    "start_time": "2022-04-27T20:13:19.306Z"
   },
   {
    "duration": 16,
    "start_time": "2022-04-27T20:13:19.638Z"
   },
   {
    "duration": 4,
    "start_time": "2022-04-27T20:13:19.657Z"
   },
   {
    "duration": 29,
    "start_time": "2022-04-27T20:13:19.664Z"
   },
   {
    "duration": 7,
    "start_time": "2022-04-27T20:13:19.696Z"
   },
   {
    "duration": 9,
    "start_time": "2022-04-27T20:13:19.706Z"
   },
   {
    "duration": 6,
    "start_time": "2022-04-27T20:13:19.718Z"
   },
   {
    "duration": 10,
    "start_time": "2022-04-27T20:13:19.726Z"
   },
   {
    "duration": 3,
    "start_time": "2022-04-27T20:13:19.742Z"
   },
   {
    "duration": 6,
    "start_time": "2022-04-27T20:13:19.748Z"
   },
   {
    "duration": 37,
    "start_time": "2022-04-27T20:13:19.757Z"
   },
   {
    "duration": 11,
    "start_time": "2022-04-27T20:13:19.797Z"
   },
   {
    "duration": 9,
    "start_time": "2022-04-27T20:13:19.811Z"
   },
   {
    "duration": 3,
    "start_time": "2022-04-27T20:13:43.573Z"
   },
   {
    "duration": 247,
    "start_time": "2022-04-27T20:13:43.578Z"
   },
   {
    "duration": 16,
    "start_time": "2022-04-27T20:13:43.827Z"
   },
   {
    "duration": 66,
    "start_time": "2022-04-27T20:13:43.846Z"
   },
   {
    "duration": 5,
    "start_time": "2022-04-27T20:13:43.914Z"
   },
   {
    "duration": 11,
    "start_time": "2022-04-27T20:13:43.921Z"
   },
   {
    "duration": 52,
    "start_time": "2022-04-27T20:13:43.934Z"
   },
   {
    "duration": 35,
    "start_time": "2022-04-27T20:13:43.988Z"
   },
   {
    "duration": 21,
    "start_time": "2022-04-27T20:13:44.025Z"
   },
   {
    "duration": 56,
    "start_time": "2022-04-27T20:13:44.050Z"
   },
   {
    "duration": 111,
    "start_time": "2022-04-27T20:13:44.108Z"
   },
   {
    "duration": 120,
    "start_time": "2022-04-27T20:13:44.221Z"
   },
   {
    "duration": 103,
    "start_time": "2022-04-27T20:13:44.343Z"
   },
   {
    "duration": 64,
    "start_time": "2022-04-27T20:13:44.448Z"
   },
   {
    "duration": 20,
    "start_time": "2022-04-27T20:13:44.515Z"
   },
   {
    "duration": 4,
    "start_time": "2022-04-27T20:13:44.538Z"
   },
   {
    "duration": 10,
    "start_time": "2022-04-27T20:13:44.545Z"
   },
   {
    "duration": 50,
    "start_time": "2022-04-27T20:13:44.558Z"
   },
   {
    "duration": 56,
    "start_time": "2022-04-27T20:13:44.611Z"
   },
   {
    "duration": 16,
    "start_time": "2022-04-27T20:13:44.694Z"
   },
   {
    "duration": 17,
    "start_time": "2022-04-27T20:13:44.713Z"
   },
   {
    "duration": 5,
    "start_time": "2022-04-27T20:13:44.732Z"
   },
   {
    "duration": 59,
    "start_time": "2022-04-27T20:13:44.740Z"
   },
   {
    "duration": 20,
    "start_time": "2022-04-27T20:13:44.802Z"
   },
   {
    "duration": 23,
    "start_time": "2022-04-27T20:13:44.824Z"
   },
   {
    "duration": 57,
    "start_time": "2022-04-27T20:13:44.850Z"
   },
   {
    "duration": 34,
    "start_time": "2022-04-27T20:13:44.910Z"
   },
   {
    "duration": 58,
    "start_time": "2022-04-27T20:13:44.951Z"
   },
   {
    "duration": 336,
    "start_time": "2022-04-27T20:13:45.013Z"
   },
   {
    "duration": 17,
    "start_time": "2022-04-27T20:13:45.352Z"
   },
   {
    "duration": 21,
    "start_time": "2022-04-27T20:13:45.372Z"
   },
   {
    "duration": 6,
    "start_time": "2022-04-27T20:13:45.395Z"
   },
   {
    "duration": 8,
    "start_time": "2022-04-27T20:13:45.403Z"
   },
   {
    "duration": 10,
    "start_time": "2022-04-27T20:13:45.413Z"
   },
   {
    "duration": 6,
    "start_time": "2022-04-27T20:13:45.425Z"
   },
   {
    "duration": 9,
    "start_time": "2022-04-27T20:13:45.433Z"
   },
   {
    "duration": 5,
    "start_time": "2022-04-27T20:13:45.444Z"
   },
   {
    "duration": 6,
    "start_time": "2022-04-27T20:13:45.452Z"
   },
   {
    "duration": 33,
    "start_time": "2022-04-27T20:13:45.461Z"
   },
   {
    "duration": 7,
    "start_time": "2022-04-27T20:13:45.496Z"
   },
   {
    "duration": 5,
    "start_time": "2022-04-27T20:13:45.506Z"
   },
   {
    "duration": 223,
    "start_time": "2022-04-27T20:16:59.740Z"
   },
   {
    "duration": 224,
    "start_time": "2022-04-27T20:18:43.480Z"
   },
   {
    "duration": 229,
    "start_time": "2022-04-27T20:20:19.953Z"
   },
   {
    "duration": 123,
    "start_time": "2022-04-27T20:21:05.839Z"
   },
   {
    "duration": 9,
    "start_time": "2022-04-27T20:22:17.965Z"
   },
   {
    "duration": 12,
    "start_time": "2022-04-27T20:22:24.065Z"
   },
   {
    "duration": 12,
    "start_time": "2022-04-27T20:23:34.283Z"
   },
   {
    "duration": 16,
    "start_time": "2022-04-27T20:23:58.431Z"
   },
   {
    "duration": 17,
    "start_time": "2022-04-27T20:24:19.950Z"
   },
   {
    "duration": 25,
    "start_time": "2022-04-27T20:25:17.595Z"
   },
   {
    "duration": 26,
    "start_time": "2022-04-27T20:27:02.622Z"
   },
   {
    "duration": 24,
    "start_time": "2022-04-27T20:27:21.216Z"
   },
   {
    "duration": 24,
    "start_time": "2022-04-27T20:27:32.871Z"
   },
   {
    "duration": 34,
    "start_time": "2022-04-27T20:27:46.956Z"
   },
   {
    "duration": 23,
    "start_time": "2022-04-27T20:28:01.377Z"
   },
   {
    "duration": 120,
    "start_time": "2022-04-27T20:29:27.365Z"
   },
   {
    "duration": 26,
    "start_time": "2022-04-27T20:29:43.508Z"
   },
   {
    "duration": 112,
    "start_time": "2022-04-27T20:29:50.678Z"
   },
   {
    "duration": 13,
    "start_time": "2022-04-27T20:29:54.500Z"
   },
   {
    "duration": 18,
    "start_time": "2022-04-27T20:31:07.426Z"
   },
   {
    "duration": 192,
    "start_time": "2022-04-27T20:35:23.895Z"
   },
   {
    "duration": 177,
    "start_time": "2022-04-27T20:41:14.540Z"
   },
   {
    "duration": 260,
    "start_time": "2022-04-27T20:52:33.062Z"
   },
   {
    "duration": 5,
    "start_time": "2022-04-27T20:52:49.359Z"
   },
   {
    "duration": 32,
    "start_time": "2022-04-27T21:00:13.664Z"
   },
   {
    "duration": 10,
    "start_time": "2022-04-27T21:00:23.713Z"
   },
   {
    "duration": 3,
    "start_time": "2022-04-27T21:00:55.165Z"
   },
   {
    "duration": 249,
    "start_time": "2022-04-27T21:00:55.172Z"
   },
   {
    "duration": 17,
    "start_time": "2022-04-27T21:00:55.424Z"
   },
   {
    "duration": 68,
    "start_time": "2022-04-27T21:00:55.444Z"
   },
   {
    "duration": 5,
    "start_time": "2022-04-27T21:00:55.516Z"
   },
   {
    "duration": 45,
    "start_time": "2022-04-27T21:00:55.525Z"
   },
   {
    "duration": 10,
    "start_time": "2022-04-27T21:00:55.593Z"
   },
   {
    "duration": 8,
    "start_time": "2022-04-27T21:00:55.607Z"
   },
   {
    "duration": 43,
    "start_time": "2022-04-27T21:00:55.617Z"
   },
   {
    "duration": 47,
    "start_time": "2022-04-27T21:00:55.662Z"
   },
   {
    "duration": 35,
    "start_time": "2022-04-27T21:00:55.712Z"
   },
   {
    "duration": 177,
    "start_time": "2022-04-27T21:00:55.750Z"
   },
   {
    "duration": 184,
    "start_time": "2022-04-27T21:00:55.934Z"
   },
   {
    "duration": 146,
    "start_time": "2022-04-27T21:00:56.121Z"
   },
   {
    "duration": 95,
    "start_time": "2022-04-27T21:00:56.270Z"
   },
   {
    "duration": 40,
    "start_time": "2022-04-27T21:00:56.368Z"
   },
   {
    "duration": 7,
    "start_time": "2022-04-27T21:00:56.410Z"
   },
   {
    "duration": 10,
    "start_time": "2022-04-27T21:00:56.420Z"
   },
   {
    "duration": 60,
    "start_time": "2022-04-27T21:00:56.433Z"
   },
   {
    "duration": 105,
    "start_time": "2022-04-27T21:00:56.497Z"
   },
   {
    "duration": 23,
    "start_time": "2022-04-27T21:00:56.605Z"
   },
   {
    "duration": 24,
    "start_time": "2022-04-27T21:00:56.632Z"
   },
   {
    "duration": 34,
    "start_time": "2022-04-27T21:00:56.659Z"
   },
   {
    "duration": 27,
    "start_time": "2022-04-27T21:00:56.696Z"
   },
   {
    "duration": 31,
    "start_time": "2022-04-27T21:00:56.726Z"
   },
   {
    "duration": 29,
    "start_time": "2022-04-27T21:00:56.795Z"
   },
   {
    "duration": 30,
    "start_time": "2022-04-27T21:00:56.826Z"
   },
   {
    "duration": 54,
    "start_time": "2022-04-27T21:00:56.859Z"
   },
   {
    "duration": 24,
    "start_time": "2022-04-27T21:00:56.916Z"
   },
   {
    "duration": 157,
    "start_time": "2022-04-27T21:00:56.943Z"
   },
   {
    "duration": 13,
    "start_time": "2022-04-27T21:00:57.103Z"
   },
   {
    "duration": 21,
    "start_time": "2022-04-27T21:00:57.118Z"
   },
   {
    "duration": 10,
    "start_time": "2022-04-27T21:00:57.142Z"
   },
   {
    "duration": 38,
    "start_time": "2022-04-27T21:00:57.155Z"
   },
   {
    "duration": 7,
    "start_time": "2022-04-27T21:00:57.196Z"
   },
   {
    "duration": 12,
    "start_time": "2022-04-27T21:00:57.207Z"
   },
   {
    "duration": 5,
    "start_time": "2022-04-27T21:00:57.227Z"
   },
   {
    "duration": 19,
    "start_time": "2022-04-27T21:00:57.235Z"
   },
   {
    "duration": 6,
    "start_time": "2022-04-27T21:00:57.257Z"
   },
   {
    "duration": 27,
    "start_time": "2022-04-27T21:00:57.266Z"
   },
   {
    "duration": 7,
    "start_time": "2022-04-27T21:00:57.297Z"
   },
   {
    "duration": 11,
    "start_time": "2022-04-27T21:00:57.306Z"
   },
   {
    "duration": 5,
    "start_time": "2022-04-27T21:00:57.320Z"
   },
   {
    "duration": 4,
    "start_time": "2022-04-27T21:01:46.892Z"
   },
   {
    "duration": 434,
    "start_time": "2022-04-27T21:01:46.900Z"
   },
   {
    "duration": 16,
    "start_time": "2022-04-27T21:01:47.337Z"
   },
   {
    "duration": 88,
    "start_time": "2022-04-27T21:01:47.356Z"
   },
   {
    "duration": 5,
    "start_time": "2022-04-27T21:01:47.447Z"
   },
   {
    "duration": 10,
    "start_time": "2022-04-27T21:01:47.455Z"
   },
   {
    "duration": 11,
    "start_time": "2022-04-27T21:01:47.494Z"
   },
   {
    "duration": 13,
    "start_time": "2022-04-27T21:01:47.509Z"
   },
   {
    "duration": 78,
    "start_time": "2022-04-27T21:01:47.525Z"
   },
   {
    "duration": 21,
    "start_time": "2022-04-27T21:01:47.608Z"
   },
   {
    "duration": 79,
    "start_time": "2022-04-27T21:01:47.632Z"
   },
   {
    "duration": 150,
    "start_time": "2022-04-27T21:01:47.714Z"
   },
   {
    "duration": 170,
    "start_time": "2022-04-27T21:01:47.867Z"
   },
   {
    "duration": 200,
    "start_time": "2022-04-27T21:01:48.040Z"
   },
   {
    "duration": 102,
    "start_time": "2022-04-27T21:01:48.243Z"
   },
   {
    "duration": 20,
    "start_time": "2022-04-27T21:01:48.347Z"
   },
   {
    "duration": 26,
    "start_time": "2022-04-27T21:01:48.370Z"
   },
   {
    "duration": 8,
    "start_time": "2022-04-27T21:01:48.399Z"
   },
   {
    "duration": 28,
    "start_time": "2022-04-27T21:01:48.410Z"
   },
   {
    "duration": 119,
    "start_time": "2022-04-27T21:01:48.440Z"
   },
   {
    "duration": 38,
    "start_time": "2022-04-27T21:01:48.562Z"
   },
   {
    "duration": 25,
    "start_time": "2022-04-27T21:01:48.602Z"
   },
   {
    "duration": 7,
    "start_time": "2022-04-27T21:01:48.630Z"
   },
   {
    "duration": 64,
    "start_time": "2022-04-27T21:01:48.640Z"
   },
   {
    "duration": 23,
    "start_time": "2022-04-27T21:01:48.707Z"
   },
   {
    "duration": 26,
    "start_time": "2022-04-27T21:01:48.733Z"
   },
   {
    "duration": 58,
    "start_time": "2022-04-27T21:01:48.762Z"
   },
   {
    "duration": 36,
    "start_time": "2022-04-27T21:01:48.827Z"
   },
   {
    "duration": 31,
    "start_time": "2022-04-27T21:01:48.892Z"
   },
   {
    "duration": 204,
    "start_time": "2022-04-27T21:01:48.926Z"
   },
   {
    "duration": 12,
    "start_time": "2022-04-27T21:01:49.133Z"
   },
   {
    "duration": 44,
    "start_time": "2022-04-27T21:01:49.148Z"
   },
   {
    "duration": 4,
    "start_time": "2022-04-27T21:01:49.195Z"
   },
   {
    "duration": 4,
    "start_time": "2022-04-27T21:01:49.202Z"
   },
   {
    "duration": 6,
    "start_time": "2022-04-27T21:01:49.210Z"
   },
   {
    "duration": 10,
    "start_time": "2022-04-27T21:01:49.219Z"
   },
   {
    "duration": 7,
    "start_time": "2022-04-27T21:01:49.232Z"
   },
   {
    "duration": 10,
    "start_time": "2022-04-27T21:01:49.241Z"
   },
   {
    "duration": 3,
    "start_time": "2022-04-27T21:01:49.293Z"
   },
   {
    "duration": 5,
    "start_time": "2022-04-27T21:01:49.299Z"
   },
   {
    "duration": 6,
    "start_time": "2022-04-27T21:01:49.307Z"
   },
   {
    "duration": 6,
    "start_time": "2022-04-27T21:01:49.316Z"
   },
   {
    "duration": 6,
    "start_time": "2022-04-27T21:01:49.325Z"
   },
   {
    "duration": 3,
    "start_time": "2022-04-27T21:11:18.643Z"
   },
   {
    "duration": 310,
    "start_time": "2022-04-27T21:11:18.650Z"
   },
   {
    "duration": 33,
    "start_time": "2022-04-27T21:11:18.963Z"
   },
   {
    "duration": 74,
    "start_time": "2022-04-27T21:11:18.999Z"
   },
   {
    "duration": 18,
    "start_time": "2022-04-27T21:11:19.076Z"
   },
   {
    "duration": 7,
    "start_time": "2022-04-27T21:11:19.096Z"
   },
   {
    "duration": 11,
    "start_time": "2022-04-27T21:11:19.106Z"
   },
   {
    "duration": 10,
    "start_time": "2022-04-27T21:11:19.120Z"
   },
   {
    "duration": 88,
    "start_time": "2022-04-27T21:11:19.133Z"
   },
   {
    "duration": 26,
    "start_time": "2022-04-27T21:11:19.224Z"
   },
   {
    "duration": 52,
    "start_time": "2022-04-27T21:11:19.253Z"
   },
   {
    "duration": 156,
    "start_time": "2022-04-27T21:11:19.307Z"
   },
   {
    "duration": 176,
    "start_time": "2022-04-27T21:11:19.466Z"
   },
   {
    "duration": 107,
    "start_time": "2022-04-27T21:11:19.649Z"
   },
   {
    "duration": 62,
    "start_time": "2022-04-27T21:11:19.758Z"
   },
   {
    "duration": 186,
    "start_time": "2022-04-27T21:11:19.822Z"
   },
   {
    "duration": 38,
    "start_time": "2022-04-27T21:11:20.011Z"
   },
   {
    "duration": 8,
    "start_time": "2022-04-27T21:11:20.052Z"
   },
   {
    "duration": 27,
    "start_time": "2022-04-27T21:11:20.063Z"
   },
   {
    "duration": 53,
    "start_time": "2022-04-27T21:11:20.092Z"
   },
   {
    "duration": 23,
    "start_time": "2022-04-27T21:11:20.147Z"
   },
   {
    "duration": 18,
    "start_time": "2022-04-27T21:11:20.194Z"
   },
   {
    "duration": 6,
    "start_time": "2022-04-27T21:11:20.214Z"
   },
   {
    "duration": 82,
    "start_time": "2022-04-27T21:11:20.223Z"
   },
   {
    "duration": 31,
    "start_time": "2022-04-27T21:11:20.308Z"
   },
   {
    "duration": 50,
    "start_time": "2022-04-27T21:11:20.342Z"
   },
   {
    "duration": 29,
    "start_time": "2022-04-27T21:11:20.395Z"
   },
   {
    "duration": 32,
    "start_time": "2022-04-27T21:11:20.427Z"
   },
   {
    "duration": 49,
    "start_time": "2022-04-27T21:11:20.462Z"
   },
   {
    "duration": 167,
    "start_time": "2022-04-27T21:11:20.513Z"
   },
   {
    "duration": 18,
    "start_time": "2022-04-27T21:11:20.683Z"
   },
   {
    "duration": 18,
    "start_time": "2022-04-27T21:11:20.704Z"
   },
   {
    "duration": 8,
    "start_time": "2022-04-27T21:11:20.725Z"
   },
   {
    "duration": 6,
    "start_time": "2022-04-27T21:11:20.735Z"
   },
   {
    "duration": 9,
    "start_time": "2022-04-27T21:11:20.745Z"
   },
   {
    "duration": 38,
    "start_time": "2022-04-27T21:11:20.756Z"
   },
   {
    "duration": 6,
    "start_time": "2022-04-27T21:11:20.797Z"
   },
   {
    "duration": 8,
    "start_time": "2022-04-27T21:11:20.806Z"
   },
   {
    "duration": 6,
    "start_time": "2022-04-27T21:11:20.816Z"
   },
   {
    "duration": 6,
    "start_time": "2022-04-27T21:11:20.824Z"
   },
   {
    "duration": 6,
    "start_time": "2022-04-27T21:11:20.836Z"
   },
   {
    "duration": 48,
    "start_time": "2022-04-27T21:11:20.845Z"
   },
   {
    "duration": 10,
    "start_time": "2022-04-27T21:11:20.896Z"
   },
   {
    "duration": 17,
    "start_time": "2022-04-27T21:15:52.846Z"
   },
   {
    "duration": 19,
    "start_time": "2022-04-27T21:18:01.429Z"
   },
   {
    "duration": 26,
    "start_time": "2022-04-27T21:18:03.497Z"
   },
   {
    "duration": 123,
    "start_time": "2022-04-27T21:20:49.222Z"
   },
   {
    "duration": 119,
    "start_time": "2022-04-27T21:20:57.549Z"
   },
   {
    "duration": 178,
    "start_time": "2022-04-27T21:21:27.777Z"
   },
   {
    "duration": 181,
    "start_time": "2022-04-27T21:21:34.007Z"
   },
   {
    "duration": 172,
    "start_time": "2022-04-27T21:21:58.343Z"
   },
   {
    "duration": 44,
    "start_time": "2022-04-28T18:50:54.962Z"
   },
   {
    "duration": 414,
    "start_time": "2022-04-28T18:51:05.091Z"
   },
   {
    "duration": 138,
    "start_time": "2022-04-28T18:51:05.507Z"
   },
   {
    "duration": 16,
    "start_time": "2022-04-28T18:51:05.647Z"
   },
   {
    "duration": 37,
    "start_time": "2022-04-28T18:51:05.665Z"
   },
   {
    "duration": 3,
    "start_time": "2022-04-28T18:51:05.703Z"
   },
   {
    "duration": 4,
    "start_time": "2022-04-28T18:51:05.708Z"
   },
   {
    "duration": 8,
    "start_time": "2022-04-28T18:51:05.714Z"
   },
   {
    "duration": 7,
    "start_time": "2022-04-28T18:51:05.723Z"
   },
   {
    "duration": 26,
    "start_time": "2022-04-28T18:51:05.731Z"
   },
   {
    "duration": 18,
    "start_time": "2022-04-28T18:51:05.760Z"
   },
   {
    "duration": 40,
    "start_time": "2022-04-28T18:51:05.779Z"
   },
   {
    "duration": 65,
    "start_time": "2022-04-28T18:51:05.820Z"
   },
   {
    "duration": 74,
    "start_time": "2022-04-28T18:51:05.886Z"
   },
   {
    "duration": 61,
    "start_time": "2022-04-28T18:51:05.962Z"
   },
   {
    "duration": 36,
    "start_time": "2022-04-28T18:51:06.025Z"
   },
   {
    "duration": 14,
    "start_time": "2022-04-28T18:51:06.063Z"
   },
   {
    "duration": 10,
    "start_time": "2022-04-28T18:51:06.079Z"
   },
   {
    "duration": 9,
    "start_time": "2022-04-28T18:51:06.091Z"
   },
   {
    "duration": 19,
    "start_time": "2022-04-28T18:51:06.102Z"
   },
   {
    "duration": 23,
    "start_time": "2022-04-28T18:51:06.122Z"
   },
   {
    "duration": 39,
    "start_time": "2022-04-28T18:51:06.147Z"
   },
   {
    "duration": 11,
    "start_time": "2022-04-28T18:51:06.187Z"
   },
   {
    "duration": 19,
    "start_time": "2022-04-28T18:51:06.199Z"
   },
   {
    "duration": 6,
    "start_time": "2022-04-28T18:51:06.219Z"
   },
   {
    "duration": 28,
    "start_time": "2022-04-28T18:51:06.226Z"
   },
   {
    "duration": 12,
    "start_time": "2022-04-28T18:51:06.256Z"
   },
   {
    "duration": 20,
    "start_time": "2022-04-28T18:51:06.269Z"
   },
   {
    "duration": 11,
    "start_time": "2022-04-28T18:51:06.293Z"
   },
   {
    "duration": 14,
    "start_time": "2022-04-28T18:51:06.306Z"
   },
   {
    "duration": 12,
    "start_time": "2022-04-28T18:51:06.322Z"
   },
   {
    "duration": 85,
    "start_time": "2022-04-28T18:51:06.335Z"
   },
   {
    "duration": 8,
    "start_time": "2022-04-28T18:51:06.422Z"
   },
   {
    "duration": 17,
    "start_time": "2022-04-28T18:51:06.431Z"
   },
   {
    "duration": 31,
    "start_time": "2022-04-28T18:51:06.450Z"
   },
   {
    "duration": 3,
    "start_time": "2022-04-28T18:51:06.482Z"
   },
   {
    "duration": 11,
    "start_time": "2022-04-28T18:51:06.486Z"
   },
   {
    "duration": 16,
    "start_time": "2022-04-28T18:51:06.498Z"
   },
   {
    "duration": 7,
    "start_time": "2022-04-28T18:51:06.515Z"
   },
   {
    "duration": 15,
    "start_time": "2022-04-28T18:51:06.524Z"
   },
   {
    "duration": 6,
    "start_time": "2022-04-28T18:51:06.541Z"
   },
   {
    "duration": 13,
    "start_time": "2022-04-28T18:51:06.549Z"
   },
   {
    "duration": 5,
    "start_time": "2022-04-28T18:51:06.563Z"
   },
   {
    "duration": 7,
    "start_time": "2022-04-28T18:51:06.569Z"
   },
   {
    "duration": 6,
    "start_time": "2022-04-28T18:51:06.577Z"
   },
   {
    "duration": 12,
    "start_time": "2022-04-28T18:51:16.811Z"
   },
   {
    "duration": 48,
    "start_time": "2022-04-28T18:51:41.617Z"
   },
   {
    "duration": 19,
    "start_time": "2022-04-28T18:51:49.086Z"
   },
   {
    "duration": 9,
    "start_time": "2022-04-28T18:51:54.872Z"
   },
   {
    "duration": 198,
    "start_time": "2022-04-28T18:57:18.149Z"
   },
   {
    "duration": 6,
    "start_time": "2022-04-28T18:57:28.910Z"
   },
   {
    "duration": 17,
    "start_time": "2022-04-28T18:57:47.863Z"
   },
   {
    "duration": 20,
    "start_time": "2022-04-28T18:58:03.136Z"
   },
   {
    "duration": 23,
    "start_time": "2022-04-28T18:58:54.792Z"
   },
   {
    "duration": 15,
    "start_time": "2022-04-28T19:06:30.550Z"
   },
   {
    "duration": 32,
    "start_time": "2022-04-28T19:06:36.685Z"
   },
   {
    "duration": 23,
    "start_time": "2022-04-28T19:07:45.671Z"
   },
   {
    "duration": 2969,
    "start_time": "2022-04-28T19:07:53.006Z"
   },
   {
    "duration": 23,
    "start_time": "2022-04-28T19:08:05.016Z"
   },
   {
    "duration": 23,
    "start_time": "2022-04-28T19:08:38.692Z"
   },
   {
    "duration": 179,
    "start_time": "2022-04-28T19:08:51.086Z"
   },
   {
    "duration": 23,
    "start_time": "2022-04-28T19:08:55.588Z"
   },
   {
    "duration": 2729,
    "start_time": "2022-04-28T19:09:04.668Z"
   },
   {
    "duration": 23,
    "start_time": "2022-04-28T19:09:11.951Z"
   },
   {
    "duration": 24,
    "start_time": "2022-04-28T19:12:50.024Z"
   },
   {
    "duration": 23,
    "start_time": "2022-04-28T19:13:22.244Z"
   },
   {
    "duration": 23,
    "start_time": "2022-04-28T19:13:37.277Z"
   },
   {
    "duration": 26,
    "start_time": "2022-04-28T19:14:03.292Z"
   },
   {
    "duration": 26,
    "start_time": "2022-04-28T19:14:12.548Z"
   },
   {
    "duration": 26,
    "start_time": "2022-04-28T19:14:34.798Z"
   },
   {
    "duration": 26,
    "start_time": "2022-04-28T19:17:40.440Z"
   },
   {
    "duration": 34,
    "start_time": "2022-04-28T19:18:21.247Z"
   },
   {
    "duration": 28,
    "start_time": "2022-04-28T19:18:34.933Z"
   },
   {
    "duration": 23,
    "start_time": "2022-04-28T19:19:34.258Z"
   },
   {
    "duration": 21,
    "start_time": "2022-04-28T19:19:54.153Z"
   },
   {
    "duration": 24,
    "start_time": "2022-04-28T19:20:24.461Z"
   },
   {
    "duration": 21,
    "start_time": "2022-04-28T19:20:33.252Z"
   },
   {
    "duration": 24,
    "start_time": "2022-04-28T19:20:45.216Z"
   },
   {
    "duration": 28,
    "start_time": "2022-04-28T19:21:59.732Z"
   },
   {
    "duration": 30,
    "start_time": "2022-04-28T19:22:28.692Z"
   },
   {
    "duration": 28,
    "start_time": "2022-04-28T19:22:51.229Z"
   },
   {
    "duration": 27,
    "start_time": "2022-04-28T19:23:49.778Z"
   },
   {
    "duration": 27,
    "start_time": "2022-04-28T19:24:32.087Z"
   },
   {
    "duration": 30,
    "start_time": "2022-04-28T19:24:50.753Z"
   },
   {
    "duration": 29,
    "start_time": "2022-04-28T19:24:55.126Z"
   },
   {
    "duration": 28,
    "start_time": "2022-04-28T19:25:02.402Z"
   },
   {
    "duration": 28,
    "start_time": "2022-04-28T19:25:16.209Z"
   },
   {
    "duration": 35,
    "start_time": "2022-04-28T19:25:23.627Z"
   },
   {
    "duration": 28,
    "start_time": "2022-04-28T19:25:34.960Z"
   },
   {
    "duration": 182,
    "start_time": "2022-04-28T19:27:11.122Z"
   },
   {
    "duration": 607,
    "start_time": "2022-04-28T19:27:22.705Z"
   },
   {
    "duration": 19,
    "start_time": "2022-04-28T19:27:33.013Z"
   },
   {
    "duration": 29,
    "start_time": "2022-04-28T19:27:54.058Z"
   },
   {
    "duration": 5,
    "start_time": "2022-04-28T19:28:00.794Z"
   },
   {
    "duration": 17,
    "start_time": "2022-04-28T19:30:26.945Z"
   },
   {
    "duration": 13,
    "start_time": "2022-04-28T19:30:51.225Z"
   },
   {
    "duration": 180,
    "start_time": "2022-04-28T19:31:35.154Z"
   },
   {
    "duration": 11,
    "start_time": "2022-04-28T19:31:42.825Z"
   },
   {
    "duration": 11,
    "start_time": "2022-04-28T19:31:52.777Z"
   },
   {
    "duration": 11,
    "start_time": "2022-04-28T19:32:26.410Z"
   },
   {
    "duration": 12,
    "start_time": "2022-04-28T19:33:18.763Z"
   },
   {
    "duration": 186,
    "start_time": "2022-04-28T19:33:30.364Z"
   },
   {
    "duration": 12,
    "start_time": "2022-04-28T19:33:34.657Z"
   },
   {
    "duration": 12,
    "start_time": "2022-04-28T19:33:59.415Z"
   },
   {
    "duration": 12,
    "start_time": "2022-04-28T19:34:54.981Z"
   },
   {
    "duration": 13,
    "start_time": "2022-04-28T19:35:14.572Z"
   },
   {
    "duration": 13,
    "start_time": "2022-04-28T19:35:36.065Z"
   },
   {
    "duration": 19,
    "start_time": "2022-04-28T19:36:06.411Z"
   },
   {
    "duration": 15,
    "start_time": "2022-04-28T19:36:53.983Z"
   },
   {
    "duration": 11,
    "start_time": "2022-04-28T19:37:23.482Z"
   },
   {
    "duration": 12,
    "start_time": "2022-04-28T19:49:14.585Z"
   },
   {
    "duration": 42,
    "start_time": "2022-04-28T19:49:23.677Z"
   },
   {
    "duration": 13,
    "start_time": "2022-04-28T19:49:56.894Z"
   },
   {
    "duration": 14,
    "start_time": "2022-04-28T19:50:26.051Z"
   },
   {
    "duration": 16,
    "start_time": "2022-04-28T19:50:47.134Z"
   },
   {
    "duration": 8,
    "start_time": "2022-04-28T19:52:42.435Z"
   },
   {
    "duration": 4,
    "start_time": "2022-04-28T19:52:50.040Z"
   },
   {
    "duration": 6,
    "start_time": "2022-04-28T19:53:47.640Z"
   },
   {
    "duration": 10,
    "start_time": "2022-04-28T19:54:00.931Z"
   },
   {
    "duration": 4,
    "start_time": "2022-04-28T19:54:02.716Z"
   },
   {
    "duration": 4,
    "start_time": "2022-04-28T19:55:25.468Z"
   },
   {
    "duration": 5,
    "start_time": "2022-04-28T19:56:09.204Z"
   },
   {
    "duration": 2,
    "start_time": "2022-04-28T19:56:23.970Z"
   },
   {
    "duration": 168,
    "start_time": "2022-04-28T19:56:23.974Z"
   },
   {
    "duration": 9,
    "start_time": "2022-04-28T19:56:24.144Z"
   },
   {
    "duration": 33,
    "start_time": "2022-04-28T19:56:24.154Z"
   },
   {
    "duration": 2,
    "start_time": "2022-04-28T19:56:24.200Z"
   },
   {
    "duration": 8,
    "start_time": "2022-04-28T19:56:24.204Z"
   },
   {
    "duration": 7,
    "start_time": "2022-04-28T19:56:24.213Z"
   },
   {
    "duration": 4,
    "start_time": "2022-04-28T19:56:24.221Z"
   },
   {
    "duration": 24,
    "start_time": "2022-04-28T19:56:24.227Z"
   },
   {
    "duration": 15,
    "start_time": "2022-04-28T19:56:24.253Z"
   },
   {
    "duration": 47,
    "start_time": "2022-04-28T19:56:24.271Z"
   },
   {
    "duration": 57,
    "start_time": "2022-04-28T19:56:24.320Z"
   },
   {
    "duration": 79,
    "start_time": "2022-04-28T19:56:24.378Z"
   },
   {
    "duration": 64,
    "start_time": "2022-04-28T19:56:24.458Z"
   },
   {
    "duration": 39,
    "start_time": "2022-04-28T19:56:24.524Z"
   },
   {
    "duration": 12,
    "start_time": "2022-04-28T19:56:24.565Z"
   },
   {
    "duration": 21,
    "start_time": "2022-04-28T19:56:24.579Z"
   },
   {
    "duration": 7,
    "start_time": "2022-04-28T19:56:24.601Z"
   },
   {
    "duration": 8,
    "start_time": "2022-04-28T19:56:24.609Z"
   },
   {
    "duration": 14,
    "start_time": "2022-04-28T19:56:24.618Z"
   },
   {
    "duration": 36,
    "start_time": "2022-04-28T19:56:24.634Z"
   },
   {
    "duration": 9,
    "start_time": "2022-04-28T19:56:24.672Z"
   },
   {
    "duration": 26,
    "start_time": "2022-04-28T19:56:24.682Z"
   },
   {
    "duration": 3,
    "start_time": "2022-04-28T19:56:24.710Z"
   },
   {
    "duration": 21,
    "start_time": "2022-04-28T19:56:24.714Z"
   },
   {
    "duration": 13,
    "start_time": "2022-04-28T19:56:24.736Z"
   },
   {
    "duration": 12,
    "start_time": "2022-04-28T19:56:24.750Z"
   },
   {
    "duration": 36,
    "start_time": "2022-04-28T19:56:24.764Z"
   },
   {
    "duration": 16,
    "start_time": "2022-04-28T19:56:24.803Z"
   },
   {
    "duration": 12,
    "start_time": "2022-04-28T19:56:24.821Z"
   },
   {
    "duration": 87,
    "start_time": "2022-04-28T19:56:24.835Z"
   },
   {
    "duration": 8,
    "start_time": "2022-04-28T19:56:24.923Z"
   },
   {
    "duration": 10,
    "start_time": "2022-04-28T19:56:24.933Z"
   },
   {
    "duration": 11,
    "start_time": "2022-04-28T19:56:24.945Z"
   },
   {
    "duration": 12,
    "start_time": "2022-04-28T19:56:24.958Z"
   },
   {
    "duration": 5,
    "start_time": "2022-04-28T19:56:24.971Z"
   },
   {
    "duration": 41,
    "start_time": "2022-04-28T19:56:24.977Z"
   },
   {
    "duration": 12,
    "start_time": "2022-04-28T19:56:25.020Z"
   },
   {
    "duration": 16,
    "start_time": "2022-04-28T19:56:25.034Z"
   },
   {
    "duration": 12,
    "start_time": "2022-04-28T19:56:25.051Z"
   },
   {
    "duration": 43,
    "start_time": "2022-04-28T19:56:25.064Z"
   },
   {
    "duration": 5,
    "start_time": "2022-04-28T19:56:25.108Z"
   },
   {
    "duration": 10,
    "start_time": "2022-04-28T19:56:25.114Z"
   },
   {
    "duration": 3,
    "start_time": "2022-04-28T19:56:25.126Z"
   },
   {
    "duration": 52,
    "start_time": "2022-04-29T20:54:03.339Z"
   },
   {
    "duration": 7,
    "start_time": "2022-04-29T20:54:36.091Z"
   },
   {
    "duration": 401,
    "start_time": "2022-04-29T20:54:40.528Z"
   },
   {
    "duration": 167,
    "start_time": "2022-04-29T20:54:40.931Z"
   },
   {
    "duration": 18,
    "start_time": "2022-04-29T20:54:41.100Z"
   },
   {
    "duration": 29,
    "start_time": "2022-04-29T20:54:41.120Z"
   },
   {
    "duration": 3,
    "start_time": "2022-04-29T20:54:41.151Z"
   },
   {
    "duration": 5,
    "start_time": "2022-04-29T20:54:41.155Z"
   },
   {
    "duration": 6,
    "start_time": "2022-04-29T20:54:41.161Z"
   },
   {
    "duration": 5,
    "start_time": "2022-04-29T20:54:41.168Z"
   },
   {
    "duration": 54,
    "start_time": "2022-04-29T20:54:41.175Z"
   },
   {
    "duration": 16,
    "start_time": "2022-04-29T20:54:41.232Z"
   },
   {
    "duration": 27,
    "start_time": "2022-04-29T20:54:41.249Z"
   },
   {
    "duration": 87,
    "start_time": "2022-04-29T20:54:41.277Z"
   },
   {
    "duration": 94,
    "start_time": "2022-04-29T20:54:41.366Z"
   },
   {
    "duration": 67,
    "start_time": "2022-04-29T20:54:41.462Z"
   },
   {
    "duration": 41,
    "start_time": "2022-04-29T20:54:41.531Z"
   },
   {
    "duration": 33,
    "start_time": "2022-04-29T20:54:41.574Z"
   },
   {
    "duration": 4,
    "start_time": "2022-04-29T20:54:41.609Z"
   },
   {
    "duration": 6,
    "start_time": "2022-04-29T20:54:41.615Z"
   },
   {
    "duration": 4,
    "start_time": "2022-04-29T20:54:41.623Z"
   },
   {
    "duration": 14,
    "start_time": "2022-04-29T20:54:41.629Z"
   },
   {
    "duration": 67,
    "start_time": "2022-04-29T20:54:41.644Z"
   },
   {
    "duration": 13,
    "start_time": "2022-04-29T20:54:41.713Z"
   },
   {
    "duration": 13,
    "start_time": "2022-04-29T20:54:41.728Z"
   },
   {
    "duration": 3,
    "start_time": "2022-04-29T20:54:41.743Z"
   },
   {
    "duration": 30,
    "start_time": "2022-04-29T20:54:41.748Z"
   },
   {
    "duration": 42,
    "start_time": "2022-04-29T20:54:41.780Z"
   },
   {
    "duration": 17,
    "start_time": "2022-04-29T20:54:41.823Z"
   },
   {
    "duration": 15,
    "start_time": "2022-04-29T20:54:41.843Z"
   },
   {
    "duration": 18,
    "start_time": "2022-04-29T20:54:41.860Z"
   },
   {
    "duration": 38,
    "start_time": "2022-04-29T20:54:41.884Z"
   },
   {
    "duration": 103,
    "start_time": "2022-04-29T20:54:41.923Z"
   },
   {
    "duration": 8,
    "start_time": "2022-04-29T20:54:42.028Z"
   },
   {
    "duration": 9,
    "start_time": "2022-04-29T20:54:42.038Z"
   },
   {
    "duration": 14,
    "start_time": "2022-04-29T20:54:42.049Z"
   },
   {
    "duration": 9,
    "start_time": "2022-04-29T20:54:42.065Z"
   },
   {
    "duration": 4,
    "start_time": "2022-04-29T20:54:42.076Z"
   },
   {
    "duration": 38,
    "start_time": "2022-04-29T20:54:42.082Z"
   },
   {
    "duration": 12,
    "start_time": "2022-04-29T20:54:42.122Z"
   },
   {
    "duration": 17,
    "start_time": "2022-04-29T20:54:42.135Z"
   },
   {
    "duration": 11,
    "start_time": "2022-04-29T20:54:42.154Z"
   },
   {
    "duration": 43,
    "start_time": "2022-04-29T20:54:42.167Z"
   },
   {
    "duration": 6,
    "start_time": "2022-04-29T20:54:42.211Z"
   },
   {
    "duration": 11,
    "start_time": "2022-04-29T20:54:42.218Z"
   },
   {
    "duration": 5,
    "start_time": "2022-04-29T20:54:42.230Z"
   },
   {
    "duration": 4,
    "start_time": "2022-04-29T20:58:28.921Z"
   },
   {
    "duration": 64,
    "start_time": "2022-04-29T21:01:01.619Z"
   },
   {
    "duration": 66,
    "start_time": "2022-04-29T21:01:19.982Z"
   },
   {
    "duration": 2,
    "start_time": "2022-04-29T21:01:33.112Z"
   },
   {
    "duration": 169,
    "start_time": "2022-04-29T21:01:33.119Z"
   },
   {
    "duration": 13,
    "start_time": "2022-04-29T21:01:33.307Z"
   },
   {
    "duration": 32,
    "start_time": "2022-04-29T21:01:33.322Z"
   },
   {
    "duration": 4,
    "start_time": "2022-04-29T21:01:33.356Z"
   },
   {
    "duration": 6,
    "start_time": "2022-04-29T21:01:33.361Z"
   },
   {
    "duration": 6,
    "start_time": "2022-04-29T21:01:33.369Z"
   },
   {
    "duration": 4,
    "start_time": "2022-04-29T21:01:33.407Z"
   },
   {
    "duration": 26,
    "start_time": "2022-04-29T21:01:33.412Z"
   },
   {
    "duration": 16,
    "start_time": "2022-04-29T21:01:33.439Z"
   },
   {
    "duration": 50,
    "start_time": "2022-04-29T21:01:33.457Z"
   },
   {
    "duration": 62,
    "start_time": "2022-04-29T21:01:33.509Z"
   },
   {
    "duration": 86,
    "start_time": "2022-04-29T21:01:33.572Z"
   },
   {
    "duration": 62,
    "start_time": "2022-04-29T21:01:33.659Z"
   },
   {
    "duration": 43,
    "start_time": "2022-04-29T21:01:33.723Z"
   },
   {
    "duration": 13,
    "start_time": "2022-04-29T21:01:33.768Z"
   },
   {
    "duration": 3,
    "start_time": "2022-04-29T21:01:33.808Z"
   },
   {
    "duration": 6,
    "start_time": "2022-04-29T21:01:33.813Z"
   },
   {
    "duration": 6,
    "start_time": "2022-04-29T21:01:33.821Z"
   },
   {
    "duration": 14,
    "start_time": "2022-04-29T21:01:33.828Z"
   },
   {
    "duration": 65,
    "start_time": "2022-04-29T21:01:33.843Z"
   },
   {
    "duration": 13,
    "start_time": "2022-04-29T21:01:33.911Z"
   },
   {
    "duration": 13,
    "start_time": "2022-04-29T21:01:33.926Z"
   },
   {
    "duration": 4,
    "start_time": "2022-04-29T21:01:33.941Z"
   },
   {
    "duration": 20,
    "start_time": "2022-04-29T21:01:33.948Z"
   },
   {
    "duration": 50,
    "start_time": "2022-04-29T21:01:33.970Z"
   },
   {
    "duration": 16,
    "start_time": "2022-04-29T21:01:34.022Z"
   },
   {
    "duration": 14,
    "start_time": "2022-04-29T21:01:34.040Z"
   },
   {
    "duration": 16,
    "start_time": "2022-04-29T21:01:34.059Z"
   },
   {
    "duration": 17,
    "start_time": "2022-04-29T21:01:34.108Z"
   },
   {
    "duration": 96,
    "start_time": "2022-04-29T21:01:34.127Z"
   },
   {
    "duration": 9,
    "start_time": "2022-04-29T21:01:34.224Z"
   },
   {
    "duration": 8,
    "start_time": "2022-04-29T21:01:34.235Z"
   },
   {
    "duration": 15,
    "start_time": "2022-04-29T21:01:34.245Z"
   },
   {
    "duration": 12,
    "start_time": "2022-04-29T21:01:34.262Z"
   },
   {
    "duration": 32,
    "start_time": "2022-04-29T21:01:34.276Z"
   },
   {
    "duration": 18,
    "start_time": "2022-04-29T21:01:34.310Z"
   },
   {
    "duration": 11,
    "start_time": "2022-04-29T21:01:34.330Z"
   },
   {
    "duration": 15,
    "start_time": "2022-04-29T21:01:34.343Z"
   },
   {
    "duration": 11,
    "start_time": "2022-04-29T21:01:34.360Z"
   },
   {
    "duration": 43,
    "start_time": "2022-04-29T21:01:34.372Z"
   },
   {
    "duration": 4,
    "start_time": "2022-04-29T21:01:34.417Z"
   },
   {
    "duration": 8,
    "start_time": "2022-04-29T21:01:34.422Z"
   },
   {
    "duration": 4,
    "start_time": "2022-04-29T21:01:34.432Z"
   },
   {
    "duration": 3,
    "start_time": "2022-04-29T21:01:55.484Z"
   },
   {
    "duration": 2,
    "start_time": "2022-04-29T21:13:32.096Z"
   },
   {
    "duration": 168,
    "start_time": "2022-04-29T21:13:32.100Z"
   },
   {
    "duration": 10,
    "start_time": "2022-04-29T21:13:32.269Z"
   },
   {
    "duration": 44,
    "start_time": "2022-04-29T21:13:32.281Z"
   },
   {
    "duration": 3,
    "start_time": "2022-04-29T21:13:32.327Z"
   },
   {
    "duration": 6,
    "start_time": "2022-04-29T21:13:32.332Z"
   },
   {
    "duration": 5,
    "start_time": "2022-04-29T21:13:32.339Z"
   },
   {
    "duration": 5,
    "start_time": "2022-04-29T21:13:32.345Z"
   },
   {
    "duration": 26,
    "start_time": "2022-04-29T21:13:32.352Z"
   },
   {
    "duration": 36,
    "start_time": "2022-04-29T21:13:32.380Z"
   },
   {
    "duration": 25,
    "start_time": "2022-04-29T21:13:32.419Z"
   },
   {
    "duration": 77,
    "start_time": "2022-04-29T21:13:32.446Z"
   },
   {
    "duration": 69,
    "start_time": "2022-04-29T21:13:32.525Z"
   },
   {
    "duration": 63,
    "start_time": "2022-04-29T21:13:32.596Z"
   },
   {
    "duration": 54,
    "start_time": "2022-04-29T21:13:32.661Z"
   },
   {
    "duration": 13,
    "start_time": "2022-04-29T21:13:32.717Z"
   },
   {
    "duration": 5,
    "start_time": "2022-04-29T21:13:32.732Z"
   },
   {
    "duration": 5,
    "start_time": "2022-04-29T21:13:32.738Z"
   },
   {
    "duration": 7,
    "start_time": "2022-04-29T21:13:32.744Z"
   },
   {
    "duration": 14,
    "start_time": "2022-04-29T21:13:32.753Z"
   },
   {
    "duration": 70,
    "start_time": "2022-04-29T21:13:32.768Z"
   },
   {
    "duration": 13,
    "start_time": "2022-04-29T21:13:32.840Z"
   },
   {
    "duration": 21,
    "start_time": "2022-04-29T21:13:32.855Z"
   },
   {
    "duration": 6,
    "start_time": "2022-04-29T21:13:32.878Z"
   },
   {
    "duration": 32,
    "start_time": "2022-04-29T21:13:32.886Z"
   },
   {
    "duration": 16,
    "start_time": "2022-04-29T21:13:32.920Z"
   },
   {
    "duration": 15,
    "start_time": "2022-04-29T21:13:32.937Z"
   },
   {
    "duration": 14,
    "start_time": "2022-04-29T21:13:32.954Z"
   },
   {
    "duration": 47,
    "start_time": "2022-04-29T21:13:32.971Z"
   },
   {
    "duration": 14,
    "start_time": "2022-04-29T21:13:33.020Z"
   },
   {
    "duration": 105,
    "start_time": "2022-04-29T21:13:33.036Z"
   },
   {
    "duration": 9,
    "start_time": "2022-04-29T21:13:33.143Z"
   },
   {
    "duration": 9,
    "start_time": "2022-04-29T21:13:33.153Z"
   },
   {
    "duration": 16,
    "start_time": "2022-04-29T21:13:33.163Z"
   },
   {
    "duration": 34,
    "start_time": "2022-04-29T21:13:33.181Z"
   },
   {
    "duration": 4,
    "start_time": "2022-04-29T21:13:33.217Z"
   },
   {
    "duration": 33,
    "start_time": "2022-04-29T21:13:33.223Z"
   },
   {
    "duration": 16,
    "start_time": "2022-04-29T21:13:33.258Z"
   },
   {
    "duration": 40,
    "start_time": "2022-04-29T21:13:33.276Z"
   },
   {
    "duration": 12,
    "start_time": "2022-04-29T21:13:33.317Z"
   },
   {
    "duration": 10,
    "start_time": "2022-04-29T21:13:33.331Z"
   },
   {
    "duration": 3,
    "start_time": "2022-04-29T21:13:33.343Z"
   },
   {
    "duration": 9,
    "start_time": "2022-04-29T21:13:33.348Z"
   },
   {
    "duration": 4,
    "start_time": "2022-04-29T21:13:33.359Z"
   },
   {
    "duration": 2,
    "start_time": "2022-04-29T21:17:08.131Z"
   },
   {
    "duration": 172,
    "start_time": "2022-04-29T21:17:08.138Z"
   },
   {
    "duration": 11,
    "start_time": "2022-04-29T21:17:08.312Z"
   },
   {
    "duration": 33,
    "start_time": "2022-04-29T21:17:08.325Z"
   },
   {
    "duration": 3,
    "start_time": "2022-04-29T21:17:08.360Z"
   },
   {
    "duration": 12,
    "start_time": "2022-04-29T21:17:08.365Z"
   },
   {
    "duration": 30,
    "start_time": "2022-04-29T21:17:08.378Z"
   },
   {
    "duration": 8,
    "start_time": "2022-04-29T21:17:08.410Z"
   },
   {
    "duration": 27,
    "start_time": "2022-04-29T21:17:08.420Z"
   },
   {
    "duration": 16,
    "start_time": "2022-04-29T21:17:08.449Z"
   },
   {
    "duration": 51,
    "start_time": "2022-04-29T21:17:08.468Z"
   },
   {
    "duration": 66,
    "start_time": "2022-04-29T21:17:08.521Z"
   },
   {
    "duration": 84,
    "start_time": "2022-04-29T21:17:08.589Z"
   },
   {
    "duration": 73,
    "start_time": "2022-04-29T21:17:08.675Z"
   },
   {
    "duration": 42,
    "start_time": "2022-04-29T21:17:08.750Z"
   },
   {
    "duration": 14,
    "start_time": "2022-04-29T21:17:08.807Z"
   },
   {
    "duration": 6,
    "start_time": "2022-04-29T21:17:08.822Z"
   },
   {
    "duration": 7,
    "start_time": "2022-04-29T21:17:08.830Z"
   },
   {
    "duration": 7,
    "start_time": "2022-04-29T21:17:08.839Z"
   },
   {
    "duration": 15,
    "start_time": "2022-04-29T21:17:08.847Z"
   },
   {
    "duration": 67,
    "start_time": "2022-04-29T21:17:08.863Z"
   },
   {
    "duration": 13,
    "start_time": "2022-04-29T21:17:08.932Z"
   },
   {
    "duration": 12,
    "start_time": "2022-04-29T21:17:08.946Z"
   },
   {
    "duration": 4,
    "start_time": "2022-04-29T21:17:08.960Z"
   },
   {
    "duration": 44,
    "start_time": "2022-04-29T21:17:08.966Z"
   },
   {
    "duration": 16,
    "start_time": "2022-04-29T21:17:09.012Z"
   },
   {
    "duration": 15,
    "start_time": "2022-04-29T21:17:09.030Z"
   },
   {
    "duration": 14,
    "start_time": "2022-04-29T21:17:09.047Z"
   },
   {
    "duration": 48,
    "start_time": "2022-04-29T21:17:09.064Z"
   },
   {
    "duration": 17,
    "start_time": "2022-04-29T21:17:09.114Z"
   },
   {
    "duration": 108,
    "start_time": "2022-04-29T21:17:09.132Z"
   },
   {
    "duration": 9,
    "start_time": "2022-04-29T21:17:09.241Z"
   },
   {
    "duration": 9,
    "start_time": "2022-04-29T21:17:09.252Z"
   },
   {
    "duration": 17,
    "start_time": "2022-04-29T21:17:09.263Z"
   },
   {
    "duration": 34,
    "start_time": "2022-04-29T21:17:09.282Z"
   },
   {
    "duration": 4,
    "start_time": "2022-04-29T21:17:09.318Z"
   },
   {
    "duration": 23,
    "start_time": "2022-04-29T21:17:09.324Z"
   },
   {
    "duration": 12,
    "start_time": "2022-04-29T21:17:09.349Z"
   },
   {
    "duration": 45,
    "start_time": "2022-04-29T21:17:09.362Z"
   },
   {
    "duration": 13,
    "start_time": "2022-04-29T21:17:09.409Z"
   },
   {
    "duration": 10,
    "start_time": "2022-04-29T21:17:09.424Z"
   },
   {
    "duration": 4,
    "start_time": "2022-04-29T21:17:09.436Z"
   },
   {
    "duration": 10,
    "start_time": "2022-04-29T21:17:09.442Z"
   },
   {
    "duration": 5,
    "start_time": "2022-04-29T21:17:09.453Z"
   },
   {
    "duration": 9,
    "start_time": "2022-04-29T21:20:05.431Z"
   },
   {
    "duration": 10,
    "start_time": "2022-04-29T21:20:06.567Z"
   },
   {
    "duration": 10,
    "start_time": "2022-04-29T21:20:29.334Z"
   },
   {
    "duration": 9,
    "start_time": "2022-04-29T21:21:25.145Z"
   },
   {
    "duration": 11,
    "start_time": "2022-04-29T21:22:14.821Z"
   },
   {
    "duration": 9,
    "start_time": "2022-04-29T21:22:25.745Z"
   },
   {
    "duration": 3,
    "start_time": "2022-04-29T21:24:38.300Z"
   },
   {
    "duration": 171,
    "start_time": "2022-04-29T21:24:38.305Z"
   },
   {
    "duration": 29,
    "start_time": "2022-04-29T21:24:38.478Z"
   },
   {
    "duration": 32,
    "start_time": "2022-04-29T21:24:38.509Z"
   },
   {
    "duration": 4,
    "start_time": "2022-04-29T21:24:38.544Z"
   },
   {
    "duration": 7,
    "start_time": "2022-04-29T21:24:38.550Z"
   },
   {
    "duration": 7,
    "start_time": "2022-04-29T21:24:38.558Z"
   },
   {
    "duration": 5,
    "start_time": "2022-04-29T21:24:38.567Z"
   },
   {
    "duration": 55,
    "start_time": "2022-04-29T21:24:38.573Z"
   },
   {
    "duration": 16,
    "start_time": "2022-04-29T21:24:38.630Z"
   },
   {
    "duration": 31,
    "start_time": "2022-04-29T21:24:38.649Z"
   },
   {
    "duration": 84,
    "start_time": "2022-04-29T21:24:38.682Z"
   },
   {
    "duration": 92,
    "start_time": "2022-04-29T21:24:38.767Z"
   },
   {
    "duration": 68,
    "start_time": "2022-04-29T21:24:38.861Z"
   },
   {
    "duration": 43,
    "start_time": "2022-04-29T21:24:38.931Z"
   },
   {
    "duration": 13,
    "start_time": "2022-04-29T21:24:38.976Z"
   },
   {
    "duration": 18,
    "start_time": "2022-04-29T21:24:38.990Z"
   },
   {
    "duration": 6,
    "start_time": "2022-04-29T21:24:39.010Z"
   },
   {
    "duration": 6,
    "start_time": "2022-04-29T21:24:39.017Z"
   },
   {
    "duration": 13,
    "start_time": "2022-04-29T21:24:39.025Z"
   },
   {
    "duration": 75,
    "start_time": "2022-04-29T21:24:39.039Z"
   },
   {
    "duration": 13,
    "start_time": "2022-04-29T21:24:39.115Z"
   },
   {
    "duration": 12,
    "start_time": "2022-04-29T21:24:39.130Z"
   },
   {
    "duration": 4,
    "start_time": "2022-04-29T21:24:39.143Z"
   },
   {
    "duration": 20,
    "start_time": "2022-04-29T21:24:39.148Z"
   },
   {
    "duration": 44,
    "start_time": "2022-04-29T21:24:39.170Z"
   },
   {
    "duration": 16,
    "start_time": "2022-04-29T21:24:39.216Z"
   },
   {
    "duration": 14,
    "start_time": "2022-04-29T21:24:39.234Z"
   },
   {
    "duration": 18,
    "start_time": "2022-04-29T21:24:39.252Z"
   },
   {
    "duration": 41,
    "start_time": "2022-04-29T21:24:39.272Z"
   },
   {
    "duration": 102,
    "start_time": "2022-04-29T21:24:39.315Z"
   },
   {
    "duration": 9,
    "start_time": "2022-04-29T21:24:39.419Z"
   },
   {
    "duration": 9,
    "start_time": "2022-04-29T21:24:39.430Z"
   },
   {
    "duration": 16,
    "start_time": "2022-04-29T21:24:39.441Z"
   },
   {
    "duration": 13,
    "start_time": "2022-04-29T21:24:39.459Z"
   },
   {
    "duration": 33,
    "start_time": "2022-04-29T21:24:39.474Z"
   },
   {
    "duration": 26,
    "start_time": "2022-04-29T21:24:39.509Z"
   },
   {
    "duration": 12,
    "start_time": "2022-04-29T21:24:39.537Z"
   },
   {
    "duration": 18,
    "start_time": "2022-04-29T21:24:39.551Z"
   },
   {
    "duration": 38,
    "start_time": "2022-04-29T21:24:39.571Z"
   },
   {
    "duration": 10,
    "start_time": "2022-04-29T21:24:39.611Z"
   },
   {
    "duration": 4,
    "start_time": "2022-04-29T21:24:39.623Z"
   },
   {
    "duration": 9,
    "start_time": "2022-04-29T21:24:39.628Z"
   },
   {
    "duration": 4,
    "start_time": "2022-04-29T21:24:39.638Z"
   },
   {
    "duration": 409,
    "start_time": "2022-05-03T07:11:05.542Z"
   },
   {
    "duration": 189,
    "start_time": "2022-05-03T07:11:05.954Z"
   },
   {
    "duration": 21,
    "start_time": "2022-05-03T07:11:06.145Z"
   },
   {
    "duration": 34,
    "start_time": "2022-05-03T07:11:06.168Z"
   },
   {
    "duration": 4,
    "start_time": "2022-05-03T07:11:06.223Z"
   },
   {
    "duration": 4,
    "start_time": "2022-05-03T07:11:06.228Z"
   },
   {
    "duration": 6,
    "start_time": "2022-05-03T07:11:06.234Z"
   },
   {
    "duration": 5,
    "start_time": "2022-05-03T07:11:06.243Z"
   },
   {
    "duration": 31,
    "start_time": "2022-05-03T07:11:06.250Z"
   },
   {
    "duration": 54,
    "start_time": "2022-05-03T07:11:06.285Z"
   },
   {
    "duration": 38,
    "start_time": "2022-05-03T07:11:06.341Z"
   },
   {
    "duration": 94,
    "start_time": "2022-05-03T07:11:06.383Z"
   },
   {
    "duration": 97,
    "start_time": "2022-05-03T07:11:06.479Z"
   },
   {
    "duration": 79,
    "start_time": "2022-05-03T07:11:06.578Z"
   },
   {
    "duration": 45,
    "start_time": "2022-05-03T07:11:06.659Z"
   },
   {
    "duration": 27,
    "start_time": "2022-05-03T07:11:06.706Z"
   },
   {
    "duration": 3,
    "start_time": "2022-05-03T07:11:06.735Z"
   },
   {
    "duration": 5,
    "start_time": "2022-05-03T07:11:06.740Z"
   },
   {
    "duration": 7,
    "start_time": "2022-05-03T07:11:06.746Z"
   },
   {
    "duration": 19,
    "start_time": "2022-05-03T07:11:06.755Z"
   },
   {
    "duration": 84,
    "start_time": "2022-05-03T07:11:06.776Z"
   },
   {
    "duration": 13,
    "start_time": "2022-05-03T07:11:06.862Z"
   },
   {
    "duration": 13,
    "start_time": "2022-05-03T07:11:06.876Z"
   },
   {
    "duration": 4,
    "start_time": "2022-05-03T07:11:06.891Z"
   },
   {
    "duration": 28,
    "start_time": "2022-05-03T07:11:06.923Z"
   },
   {
    "duration": 17,
    "start_time": "2022-05-03T07:11:06.953Z"
   },
   {
    "duration": 17,
    "start_time": "2022-05-03T07:11:06.972Z"
   },
   {
    "duration": 44,
    "start_time": "2022-05-03T07:11:06.993Z"
   },
   {
    "duration": 26,
    "start_time": "2022-05-03T07:11:07.040Z"
   },
   {
    "duration": 22,
    "start_time": "2022-05-03T07:11:07.068Z"
   },
   {
    "duration": 114,
    "start_time": "2022-05-03T07:11:07.092Z"
   },
   {
    "duration": 23,
    "start_time": "2022-05-03T07:11:07.207Z"
   },
   {
    "duration": 10,
    "start_time": "2022-05-03T07:11:07.232Z"
   },
   {
    "duration": 13,
    "start_time": "2022-05-03T07:11:07.244Z"
   },
   {
    "duration": 10,
    "start_time": "2022-05-03T07:11:07.259Z"
   },
   {
    "duration": 5,
    "start_time": "2022-05-03T07:11:07.271Z"
   },
   {
    "duration": 60,
    "start_time": "2022-05-03T07:11:07.278Z"
   },
   {
    "duration": 14,
    "start_time": "2022-05-03T07:11:07.340Z"
   },
   {
    "duration": 17,
    "start_time": "2022-05-03T07:11:07.356Z"
   },
   {
    "duration": 13,
    "start_time": "2022-05-03T07:11:07.375Z"
   },
   {
    "duration": 41,
    "start_time": "2022-05-03T07:11:07.390Z"
   },
   {
    "duration": 5,
    "start_time": "2022-05-03T07:11:07.433Z"
   },
   {
    "duration": 11,
    "start_time": "2022-05-03T07:11:07.440Z"
   },
   {
    "duration": 5,
    "start_time": "2022-05-03T07:11:07.453Z"
   }
  ],
  "colab": {
   "collapsed_sections": [
    "E0vqbgi9ay0H",
    "VUC88oWjTJw2"
   ],
   "name": "yandex_music_project.ipynb",
   "provenance": []
  },
  "kernelspec": {
   "display_name": "Python 3 (ipykernel)",
   "language": "python",
   "name": "python3"
  },
  "language_info": {
   "codemirror_mode": {
    "name": "ipython",
    "version": 3
   },
   "file_extension": ".py",
   "mimetype": "text/x-python",
   "name": "python",
   "nbconvert_exporter": "python",
   "pygments_lexer": "ipython3",
   "version": "3.9.7"
  },
  "toc": {
   "base_numbering": 1,
   "nav_menu": {},
   "number_sections": true,
   "sideBar": true,
   "skip_h1_title": true,
   "title_cell": "Оглавление",
   "title_sidebar": "Contents",
   "toc_cell": true,
   "toc_position": {
    "height": "calc(100% - 180px)",
    "left": "10px",
    "top": "150px",
    "width": "347.391px"
   },
   "toc_section_display": true,
   "toc_window_display": false
  }
 },
 "nbformat": 4,
 "nbformat_minor": 1
}
