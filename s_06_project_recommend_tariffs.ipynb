{
 "cells": [
  {
   "cell_type": "markdown",
   "metadata": {},
   "source": [
    "<a id='head'></a>\n",
    "\n",
    "# Рекомендация тарифов"
   ]
  },
  {
   "cell_type": "markdown",
   "metadata": {},
   "source": [
    "## Оглавление\n",
    " \n",
    "- [**Введение**](#intro)\n",
    "    - [Входные данные](#input_data)\n",
    "    - [Цели исследования](#purpose)\n",
    "    \n",
    "- [**1. Обзор данных**](#review)\n",
    "    - [1.1 Импорт библиотек и датасета](#review_01)\n",
    "    - [1.2 Обзор данных](#review_02)\n",
    "\n",
    "- [**2. Создание выборок**](#split)\n",
    "\n",
    "- [**3. Исследование качества разных моделей**](#model)\n",
    "    - [3.1 Решающее дерево](#model_01)\n",
    "    - [3.2 Случайный лес](#model_02)\n",
    "    - [3.3 Логистическая регрессия](#model_02)\n",
    "    - [Выводы](#model_conclusions)\n",
    "    \n",
    "- [**4. Проверка модели на тестовой выборке**](#test)\n",
    "\n",
    "- [**5. Проверка модели на вменяемость**](#adequacy)\n",
    "\n",
    "- [**6. Общий вывод**](#final_conclusion)\n",
    "\n",
    "- [Чек лист](#check_list)"
   ]
  },
  {
   "cell_type": "markdown",
   "metadata": {},
   "source": [
    "<a id='intro'></a>\n",
    "## Введение"
   ]
  },
  {
   "cell_type": "markdown",
   "metadata": {},
   "source": [
    "Оператор мобильной связи «Мегалайн» выяснил: многие клиенты пользуются архивными тарифами. Они хотят построить систему, способную проанализировать поведение клиентов и предложить пользователям новый тариф: **«Смарт»** или **«Ультра»**."
   ]
  },
  {
   "cell_type": "markdown",
   "metadata": {},
   "source": [
    "В вашем распоряжении данные о поведении клиентов, которые уже перешли на эти тарифы (из проекта курса «Статистический анализ данных»). Нужно построить модель для задачи классификации, которая выберет подходящий тариф. Предобработка данных не понадобится — вы её уже сделали.\n",
    "\n",
    "Каждый объект в наборе данных — это информация о поведении одного пользователя за месяц. Известно:\n",
    "\n",
    "- `сalls` — количество звонков,\n",
    "- `minutes` — суммарная длительность звонков в минутах,\n",
    "- `messages` — количество sms-сообщений,\n",
    "- `mb_used` — израсходованный интернет-трафик в Мб,\n",
    "- `is_ultra` — каким тарифом пользовался в течение месяца («Ультра» — 1, «Смарт» — 0)."
   ]
  },
  {
   "cell_type": "markdown",
   "metadata": {},
   "source": [
    "<a id='purpose'></a>\n",
    "### Цели исследования [▴](#head)"
   ]
  },
  {
   "cell_type": "markdown",
   "metadata": {},
   "source": [
    "- Необходимо построить модель с максимально большим значением `accuracy`.\n",
    "- Требуется довести долю правильных ответов по крайней мере до `0.75`.\n",
    "- Проверить `accuracy` на тестовой выборке."
   ]
  },
  {
   "cell_type": "markdown",
   "metadata": {},
   "source": [
    "<a id='review'></a>\n",
    "## 1. Обзор данных"
   ]
  },
  {
   "cell_type": "markdown",
   "metadata": {},
   "source": [
    "<a id='review_01'></a>\n",
    "### 1.1 Импорт библиотек и датасета [▴](#head)"
   ]
  },
  {
   "cell_type": "code",
   "execution_count": 1,
   "metadata": {},
   "outputs": [],
   "source": [
    "import pandas as pd\n",
    "import matplotlib.pyplot as plt\n",
    "\n",
    "from sklearn.tree import DecisionTreeClassifier\n",
    "from sklearn.dummy import DummyClassifier\n",
    "from sklearn.metrics import accuracy_score\n",
    "from sklearn.ensemble import RandomForestClassifier\n",
    "from sklearn.linear_model import LogisticRegression\n",
    "from sklearn.model_selection import train_test_split"
   ]
  },
  {
   "cell_type": "code",
   "execution_count": 2,
   "metadata": {},
   "outputs": [],
   "source": [
    "# для того чтобы код работал локально и на Практикуме применим конструкцию try-except\n",
    "try:\n",
    "    df = pd.read_csv('/datasets/users_behavior.csv')\n",
    "except:\n",
    "    df = pd.read_csv('datasets/users_behavior.csv')"
   ]
  },
  {
   "cell_type": "markdown",
   "metadata": {},
   "source": [
    "<a id='review_02'></a>\n",
    "### 1.2 Обзор данных [▴](#head)"
   ]
  },
  {
   "cell_type": "code",
   "execution_count": 3,
   "metadata": {
    "scrolled": false
   },
   "outputs": [
    {
     "data": {
      "text/html": [
       "<div>\n",
       "<style scoped>\n",
       "    .dataframe tbody tr th:only-of-type {\n",
       "        vertical-align: middle;\n",
       "    }\n",
       "\n",
       "    .dataframe tbody tr th {\n",
       "        vertical-align: top;\n",
       "    }\n",
       "\n",
       "    .dataframe thead th {\n",
       "        text-align: right;\n",
       "    }\n",
       "</style>\n",
       "<table border=\"1\" class=\"dataframe\">\n",
       "  <thead>\n",
       "    <tr style=\"text-align: right;\">\n",
       "      <th></th>\n",
       "      <th>calls</th>\n",
       "      <th>minutes</th>\n",
       "      <th>messages</th>\n",
       "      <th>mb_used</th>\n",
       "      <th>is_ultra</th>\n",
       "    </tr>\n",
       "  </thead>\n",
       "  <tbody>\n",
       "    <tr>\n",
       "      <th>0</th>\n",
       "      <td>40.0</td>\n",
       "      <td>311.90</td>\n",
       "      <td>83.0</td>\n",
       "      <td>19915.42</td>\n",
       "      <td>0</td>\n",
       "    </tr>\n",
       "    <tr>\n",
       "      <th>1</th>\n",
       "      <td>85.0</td>\n",
       "      <td>516.75</td>\n",
       "      <td>56.0</td>\n",
       "      <td>22696.96</td>\n",
       "      <td>0</td>\n",
       "    </tr>\n",
       "    <tr>\n",
       "      <th>2</th>\n",
       "      <td>77.0</td>\n",
       "      <td>467.66</td>\n",
       "      <td>86.0</td>\n",
       "      <td>21060.45</td>\n",
       "      <td>0</td>\n",
       "    </tr>\n",
       "    <tr>\n",
       "      <th>3</th>\n",
       "      <td>106.0</td>\n",
       "      <td>745.53</td>\n",
       "      <td>81.0</td>\n",
       "      <td>8437.39</td>\n",
       "      <td>1</td>\n",
       "    </tr>\n",
       "    <tr>\n",
       "      <th>4</th>\n",
       "      <td>66.0</td>\n",
       "      <td>418.74</td>\n",
       "      <td>1.0</td>\n",
       "      <td>14502.75</td>\n",
       "      <td>0</td>\n",
       "    </tr>\n",
       "    <tr>\n",
       "      <th>...</th>\n",
       "      <td>...</td>\n",
       "      <td>...</td>\n",
       "      <td>...</td>\n",
       "      <td>...</td>\n",
       "      <td>...</td>\n",
       "    </tr>\n",
       "    <tr>\n",
       "      <th>3209</th>\n",
       "      <td>122.0</td>\n",
       "      <td>910.98</td>\n",
       "      <td>20.0</td>\n",
       "      <td>35124.90</td>\n",
       "      <td>1</td>\n",
       "    </tr>\n",
       "    <tr>\n",
       "      <th>3210</th>\n",
       "      <td>25.0</td>\n",
       "      <td>190.36</td>\n",
       "      <td>0.0</td>\n",
       "      <td>3275.61</td>\n",
       "      <td>0</td>\n",
       "    </tr>\n",
       "    <tr>\n",
       "      <th>3211</th>\n",
       "      <td>97.0</td>\n",
       "      <td>634.44</td>\n",
       "      <td>70.0</td>\n",
       "      <td>13974.06</td>\n",
       "      <td>0</td>\n",
       "    </tr>\n",
       "    <tr>\n",
       "      <th>3212</th>\n",
       "      <td>64.0</td>\n",
       "      <td>462.32</td>\n",
       "      <td>90.0</td>\n",
       "      <td>31239.78</td>\n",
       "      <td>0</td>\n",
       "    </tr>\n",
       "    <tr>\n",
       "      <th>3213</th>\n",
       "      <td>80.0</td>\n",
       "      <td>566.09</td>\n",
       "      <td>6.0</td>\n",
       "      <td>29480.52</td>\n",
       "      <td>1</td>\n",
       "    </tr>\n",
       "  </tbody>\n",
       "</table>\n",
       "<p>3214 rows × 5 columns</p>\n",
       "</div>"
      ],
      "text/plain": [
       "      calls  minutes  messages   mb_used  is_ultra\n",
       "0      40.0   311.90      83.0  19915.42         0\n",
       "1      85.0   516.75      56.0  22696.96         0\n",
       "2      77.0   467.66      86.0  21060.45         0\n",
       "3     106.0   745.53      81.0   8437.39         1\n",
       "4      66.0   418.74       1.0  14502.75         0\n",
       "...     ...      ...       ...       ...       ...\n",
       "3209  122.0   910.98      20.0  35124.90         1\n",
       "3210   25.0   190.36       0.0   3275.61         0\n",
       "3211   97.0   634.44      70.0  13974.06         0\n",
       "3212   64.0   462.32      90.0  31239.78         0\n",
       "3213   80.0   566.09       6.0  29480.52         1\n",
       "\n",
       "[3214 rows x 5 columns]"
      ]
     },
     "execution_count": 3,
     "metadata": {},
     "output_type": "execute_result"
    }
   ],
   "source": [
    "df"
   ]
  },
  {
   "cell_type": "code",
   "execution_count": 4,
   "metadata": {},
   "outputs": [
    {
     "name": "stdout",
     "output_type": "stream",
     "text": [
      "<class 'pandas.core.frame.DataFrame'>\n",
      "RangeIndex: 3214 entries, 0 to 3213\n",
      "Data columns (total 5 columns):\n",
      " #   Column    Non-Null Count  Dtype  \n",
      "---  ------    --------------  -----  \n",
      " 0   calls     3214 non-null   float64\n",
      " 1   minutes   3214 non-null   float64\n",
      " 2   messages  3214 non-null   float64\n",
      " 3   mb_used   3214 non-null   float64\n",
      " 4   is_ultra  3214 non-null   int64  \n",
      "dtypes: float64(4), int64(1)\n",
      "memory usage: 125.7 KB\n"
     ]
    }
   ],
   "source": [
    "df.info()"
   ]
  },
  {
   "cell_type": "markdown",
   "metadata": {},
   "source": [
    "\n"
   ]
  },
  {
   "cell_type": "markdown",
   "metadata": {},
   "source": [
    "Данные в полном порядке, пропусков нет, тип данных сооветсвует предоставленной информации.\n",
    "\n",
    "Можем приступать к исследованию."
   ]
  },
  {
   "cell_type": "markdown",
   "metadata": {},
   "source": [
    "<a id='split'></a>\n",
    "## 2. Создание выборок"
   ]
  },
  {
   "cell_type": "markdown",
   "metadata": {},
   "source": [
    "Разделим нашу выборку на 3 части в следующих пропорциях:\n",
    "- Тренировочную - `60%`\n",
    "- Валидационную - `20%`\n",
    "- Тестовую - `20%`"
   ]
  },
  {
   "cell_type": "markdown",
   "metadata": {},
   "source": [
    "Делим основной датафрейм:\n",
    "- на обычные `features` \n",
    "- и целевые `target` параметры"
   ]
  },
  {
   "cell_type": "code",
   "execution_count": 5,
   "metadata": {},
   "outputs": [],
   "source": [
    "features = df.drop(['is_ultra'], axis=1)\n",
    "target = df.is_ultra"
   ]
  },
  {
   "cell_type": "markdown",
   "metadata": {},
   "source": [
    "Теперь разделим наши выборки на тренировочные `train` и валидационные `valid` с соотношением `60/40`. "
   ]
  },
  {
   "cell_type": "code",
   "execution_count": 6,
   "metadata": {},
   "outputs": [],
   "source": [
    "features_train, features_valid, target_train, target_valid = train_test_split(\n",
    "    features, target, \n",
    "    random_state=12345,\n",
    "    test_size=0.4,\n",
    "    stratify=target)"
   ]
  },
  {
   "cell_type": "markdown",
   "metadata": {},
   "source": [
    "Для того чтобы получить тестовые `test` выборки, разделим наши валидационные `valid` выборки в соотношении `50/50` "
   ]
  },
  {
   "cell_type": "code",
   "execution_count": 7,
   "metadata": {},
   "outputs": [],
   "source": [
    "features_valid, features_test, target_valid, target_test = train_test_split(\n",
    "    features_valid, target_valid, \n",
    "    random_state=12345,\n",
    "    test_size=0.5,\n",
    "    stratify=target_valid)"
   ]
  },
  {
   "cell_type": "markdown",
   "metadata": {},
   "source": [
    "Проверяем полученные выборки:"
   ]
  },
  {
   "cell_type": "code",
   "execution_count": 8,
   "metadata": {
    "scrolled": true
   },
   "outputs": [
    {
     "name": "stdout",
     "output_type": "stream",
     "text": [
      "Тренирвочные:\n",
      "Доля: 0.5998755444928439 | Features: (1928, 4)\n",
      "Доля: 0.5998755444928439 | Target: (1928,) \n",
      "\n",
      "Валидационные:\n",
      "Доля: 0.2000622277535781 | Features: (643, 4)\n",
      "Доля: 0.2000622277535781 | Target: (643,) \n",
      "\n",
      "Тестовые:\n",
      "Доля: 0.2000622277535781 | Features: (643, 4)\n",
      "Доля: 0.2000622277535781 | Target: (643,)\n"
     ]
    }
   ],
   "source": [
    "print('Тренирвочные:')\n",
    "print('Доля:', len(features_train) / len(df), '| Features:', features_train.shape)\n",
    "print('Доля:', len(target_train) / len(df), '| Target:', target_train.shape, '\\n')\n",
    "\n",
    "print('Валидационные:')\n",
    "print('Доля:', len(features_valid) / len(df), '| Features:', features_valid.shape)\n",
    "print('Доля:', len(target_valid) / len(df), '| Target:', target_valid.shape, '\\n')\n",
    "    \n",
    "print('Тестовые:')\n",
    "print('Доля:', len(features_test) / len(df), '| Features:', features_test.shape)\n",
    "print('Доля:', len(target_test) / len(df), '| Target:', target_test.shape)"
   ]
  },
  {
   "cell_type": "markdown",
   "metadata": {},
   "source": [
    "Мы получили необходимые выборки, можно приступать к исследованиям."
   ]
  },
  {
   "cell_type": "markdown",
   "metadata": {},
   "source": [
    "<a id='model'></a>\n",
    "## 3. Исследование качества разных моделей"
   ]
  },
  {
   "cell_type": "markdown",
   "metadata": {},
   "source": [
    "<a id='model_01'></a>\n",
    "### 3.1 Решающее дерево [▴](#head)"
   ]
  },
  {
   "cell_type": "markdown",
   "metadata": {},
   "source": [
    "Для перебора гиперпараметров и выбора модели с лучшим результатом будем использовать цикл."
   ]
  },
  {
   "cell_type": "code",
   "execution_count": 9,
   "metadata": {
    "scrolled": false
   },
   "outputs": [
    {
     "name": "stdout",
     "output_type": "stream",
     "text": [
      "Accuracy лучшей модели: 0.7993779160186625 | max_depth =: 8\n",
      "Wall time: 66.9 ms\n"
     ]
    }
   ],
   "source": [
    "%%time\n",
    "\n",
    "best_model = None\n",
    "best_depth = 0\n",
    "best_result = 0\n",
    "\n",
    "for depth in range(1, 11):\n",
    "    model = DecisionTreeClassifier(random_state=111, max_depth=depth)\n",
    "    model.fit(features_train, target_train)\n",
    "    result = model.score(features_valid, target_valid)\n",
    "    \n",
    "    if result > best_result:\n",
    "        best_depth = depth\n",
    "        best_model = model\n",
    "        best_result = result\n",
    "\n",
    "print(\"Accuracy лучшей модели:\", best_result, '| max_depth =:', best_depth)"
   ]
  },
  {
   "cell_type": "markdown",
   "metadata": {},
   "source": [
    "<a id='model_02'></a>\n",
    "### 3.2 Случайный лес [▴](#head)"
   ]
  },
  {
   "cell_type": "code",
   "execution_count": 10,
   "metadata": {
    "scrolled": false
   },
   "outputs": [
    {
     "name": "stdout",
     "output_type": "stream",
     "text": [
      "Accuracy лучшей модели: 0.8180404354587869 | n_estimators = 30 | max_depth = 6\n",
      "Wall time: 3.08 s\n"
     ]
    }
   ],
   "source": [
    "%%time\n",
    "\n",
    "best_model = None\n",
    "best_depth = 0\n",
    "best_result = 0\n",
    "best_est = 0\n",
    "\n",
    "for est in range(10, 51, 10):\n",
    "    \n",
    "    for depth in range(1, 10):\n",
    "        model = RandomForestClassifier(random_state=111, n_estimators=est, max_depth=depth)\n",
    "        model.fit(features_train, target_train)\n",
    "        result = model.score(features_valid, target_valid)\n",
    "\n",
    "        if result > best_result:\n",
    "            best_est = est\n",
    "            best_depth = depth\n",
    "            best_model = model\n",
    "            best_result = result\n",
    "\n",
    "print(\"Accuracy лучшей модели:\", best_result, '| n_estimators =', best_est, '| max_depth =', best_depth)"
   ]
  },
  {
   "cell_type": "markdown",
   "metadata": {},
   "source": [
    "<a id='model_03'></a>\n",
    "### 3.3 Логистическая регрессия [▴](#head)"
   ]
  },
  {
   "cell_type": "code",
   "execution_count": 11,
   "metadata": {
    "scrolled": false
   },
   "outputs": [
    {
     "name": "stdout",
     "output_type": "stream",
     "text": [
      "Accuracy: 0.7387247278382582\n",
      "Wall time: 48.9 ms\n"
     ]
    }
   ],
   "source": [
    "%%time\n",
    "\n",
    "model = LogisticRegression(random_state=111, solver='lbfgs', max_iter=1000)\n",
    "model.fit(features_train, target_train)\n",
    "result = model.score(features_valid, target_valid)\n",
    "\n",
    "print(\"Accuracy:\", result)"
   ]
  },
  {
   "cell_type": "markdown",
   "metadata": {},
   "source": [
    "<a id='model_conclusions'></a>\n",
    "### Выводы [▴](#head)"
   ]
  },
  {
   "cell_type": "markdown",
   "metadata": {},
   "source": [
    "По результату сравнения самой точной моделью оказался `Случайный лес` с результатом `81.8%` на валидационной выборке.\n",
    "\n",
    "Однако есть нюанс. Точность не сильно превышает ту, что выдала модель `Решающее дерево` с её `79.9%`, а вот время выполнения у `Решающего дерева` оказалось `в 50 раз быстрее` чем у `Случайного леса`. \n",
    "\n",
    "Для нашего случая это не столь критично, так как выборка небольшая. Однако стоит учитывать такую разницу в скорости при работе с большими массивами.\n",
    "\n",
    "\n",
    "Модель|Accuracy|Время обучения\n",
    "-|-|-\n",
    "Логистическая регрессия|0.73872|53.8 ms\n",
    "Дерево решений|0.79937|60.8 ms\n",
    "Случайный лес|0.81804|3.08 s\n",
    "\n",
    "P.S.\n",
    "- Время выполнения может отличаться на разных машинах."
   ]
  },
  {
   "cell_type": "code",
   "execution_count": 12,
   "metadata": {},
   "outputs": [
    {
     "data": {
      "image/png": "[encoded data removed]",
      "text/plain": [
       "<Figure size 2250x450 with 1 Axes>"
      ]
     },
     "metadata": {
      "needs_background": "light"
     },
     "output_type": "display_data"
    }
   ],
   "source": [
    "plt.figure(figsize=(15,3), dpi=150)\n",
    "plt.barh(['Логистическая регрессия (73.8%)', \n",
    "         'Дерево решений (79.9%)', \n",
    "         'Случайный лес (81.8%)'], \n",
    "        [53, 60, 3008])\n",
    "\n",
    "plt.title('Время обучения моделей и их точность')\n",
    "plt.xlabel('Время обучения в мс.')\n",
    "plt.ylabel('Модель и точность')\n",
    "plt.show()"
   ]
  },
  {
   "cell_type": "markdown",
   "metadata": {},
   "source": [
    "<a id='test'></a>\n",
    "## 4. Проверка модели на тестовой выборке"
   ]
  },
  {
   "cell_type": "markdown",
   "metadata": {},
   "source": [
    "Для решения нашей задачи делаем выбор в пользу модели `Случайный лес`\n",
    "\n",
    "Проверим ее на тестовой выборке. В качестве гиперпараметров укажем значения, которые мы получили на лучшей модели.\n",
    "- `random_state=111`\n",
    "- `n_estimators=30`\n",
    "- `max_depth=6`"
   ]
  },
  {
   "cell_type": "code",
   "execution_count": 13,
   "metadata": {},
   "outputs": [
    {
     "name": "stdout",
     "output_type": "stream",
     "text": [
      "0.8180404354587869 | Валидационная выборка\n",
      "0.8180404354587869 | Тестовая выборка\n"
     ]
    }
   ],
   "source": [
    "model = RandomForestClassifier(random_state=111, \n",
    "                               n_estimators=30, \n",
    "                               max_depth=6)\n",
    "\n",
    "model.fit(features_train, target_train)\n",
    "predictions_test = model.predict(features_test)\n",
    "\n",
    "print(model.score(features_valid, target_valid), '| Валидационная выборка')\n",
    "print(accuracy_score(target_test, predictions_test), '| Тестовая выборка')"
   ]
  },
  {
   "cell_type": "markdown",
   "metadata": {},
   "source": [
    "На тестовой выборке качество модели полностью совпало с валидационной.\n",
    "\n",
    "Качество в `81.8%` нас полсностью устраивает."
   ]
  },
  {
   "cell_type": "markdown",
   "metadata": {},
   "source": [
    "<a id='adequacy'></a>\n",
    "## 5. Проверка модели на вменяемость"
   ]
  },
  {
   "cell_type": "markdown",
   "metadata": {},
   "source": [
    "Для проверки нашей модели на адекватность, проделаем аналогичные рассчеты с помощью классификатора `DummyClassifier` из блиблиотеки `sklearn`.\n",
    "\n",
    "Для того чтобы попробовать разные стратегии применим цикл."
   ]
  },
  {
   "cell_type": "code",
   "execution_count": 14,
   "metadata": {},
   "outputs": [
    {
     "name": "stdout",
     "output_type": "stream",
     "text": [
      "Accuracy: 0.6936236391912908 | most_frequent\n",
      "Accuracy: 0.6936236391912908 | prior\n",
      "Accuracy: 0.578538102643857 | stratified\n",
      "Accuracy: 0.4665629860031104 | uniform\n"
     ]
    }
   ],
   "source": [
    "for i in ['most_frequent', 'prior', 'stratified', 'uniform']: # перебираем стратегии обучения\n",
    "    model = DummyClassifier(strategy=i, random_state=111)\n",
    "    model.fit(features_train, target_train)\n",
    "    result = model.score(features_valid, target_valid)\n",
    "    print(\"Accuracy:\", result, '|', i)"
   ]
  },
  {
   "cell_type": "markdown",
   "metadata": {},
   "source": [
    "Как мы видим по результату теста, все обученные с помощью `DummyClassifier` модели дают результат хуже, чем любая из примененных нами.\n",
    "\n",
    "Можем сделать вывод, что наши модели работают адекватно."
   ]
  },
  {
   "cell_type": "markdown",
   "metadata": {},
   "source": [
    "<a id='final_conclusion'></a>\n",
    "## 6. Общий вывод"
   ]
  },
  {
   "cell_type": "markdown",
   "metadata": {},
   "source": [
    "Для построения системы предсказания тарифов **«Смарт»** и **«Ультра»** для клиентов, необходимо использовать модель обучения `Случайный лес` `RandomForestClassifier` со следующими гиперпараметрами:\n",
    "- `random_state=111`\n",
    "- `n_estimators=30`\n",
    "- `max_depth=6`\n",
    "\n",
    "Данная модель показала максимальные параметры точности в ходе эксперимента. \n",
    "\n",
    "Вероятность удачного предсказания в таком случае будет держаться на уровне `81%`"
   ]
  }
 ],
 "metadata": {
  "ExecuteTimeLog": [
   {
    "duration": 761,
    "start_time": "2022-05-30T21:40:25.321Z"
   },
   {
    "duration": 5,
    "start_time": "2022-05-30T21:40:26.084Z"
   },
   {
    "duration": 3,
    "start_time": "2022-05-30T21:40:26.091Z"
   },
   {
    "duration": 37,
    "start_time": "2022-05-30T21:40:26.096Z"
   },
   {
    "duration": 21,
    "start_time": "2022-05-30T21:40:26.151Z"
   },
   {
    "duration": 98,
    "start_time": "2022-05-30T21:40:26.174Z"
   },
   {
    "duration": 12,
    "start_time": "2022-05-30T21:40:26.275Z"
   },
   {
    "duration": 8,
    "start_time": "2022-05-30T21:40:26.289Z"
   },
   {
    "duration": 11,
    "start_time": "2022-05-30T21:40:26.298Z"
   },
   {
    "duration": 8,
    "start_time": "2022-05-30T21:40:26.312Z"
   },
   {
    "duration": 6,
    "start_time": "2022-05-30T21:40:26.321Z"
   },
   {
    "duration": 28,
    "start_time": "2022-05-30T21:40:26.329Z"
   },
   {
    "duration": 14,
    "start_time": "2022-05-30T21:40:26.358Z"
   },
   {
    "duration": 8,
    "start_time": "2022-05-30T21:40:26.374Z"
   },
   {
    "duration": 12,
    "start_time": "2022-05-30T21:40:26.383Z"
   },
   {
    "duration": 6,
    "start_time": "2022-05-30T21:40:26.397Z"
   },
   {
    "duration": 4,
    "start_time": "2022-05-30T21:40:26.405Z"
   },
   {
    "duration": 7,
    "start_time": "2022-05-30T21:40:26.410Z"
   },
   {
    "duration": 36,
    "start_time": "2022-05-30T21:40:26.418Z"
   },
   {
    "duration": 14,
    "start_time": "2022-05-30T21:40:26.456Z"
   },
   {
    "duration": 14,
    "start_time": "2022-05-30T21:40:26.472Z"
   },
   {
    "duration": 8,
    "start_time": "2022-05-30T21:40:26.488Z"
   },
   {
    "duration": 9,
    "start_time": "2022-05-30T21:40:26.497Z"
   },
   {
    "duration": 12,
    "start_time": "2022-05-30T21:40:26.508Z"
   },
   {
    "duration": 43,
    "start_time": "2022-05-30T21:40:26.521Z"
   },
   {
    "duration": 6,
    "start_time": "2022-05-30T21:40:26.565Z"
   },
   {
    "duration": 12,
    "start_time": "2022-05-30T21:40:26.572Z"
   },
   {
    "duration": 328,
    "start_time": "2022-05-30T21:40:26.587Z"
   },
   {
    "duration": 494,
    "start_time": "2022-05-30T21:40:26.916Z"
   },
   {
    "duration": 10,
    "start_time": "2022-05-30T21:40:27.413Z"
   },
   {
    "duration": 546,
    "start_time": "2022-05-30T21:40:27.424Z"
   },
   {
    "duration": 331,
    "start_time": "2022-05-30T21:40:27.972Z"
   },
   {
    "duration": 122,
    "start_time": "2022-05-30T21:40:28.305Z"
   },
   {
    "duration": 13,
    "start_time": "2022-05-30T21:40:28.428Z"
   },
   {
    "duration": 212,
    "start_time": "2022-05-30T21:40:28.451Z"
   },
   {
    "duration": 3,
    "start_time": "2022-05-30T21:40:28.665Z"
   },
   {
    "duration": 735,
    "start_time": "2022-05-30T21:40:28.669Z"
   },
   {
    "duration": 175,
    "start_time": "2022-05-30T21:40:29.406Z"
   },
   {
    "duration": 50,
    "start_time": "2022-05-30T21:40:29.583Z"
   },
   {
    "duration": 74,
    "start_time": "2022-05-30T21:40:29.635Z"
   },
   {
    "duration": 21,
    "start_time": "2022-05-30T21:40:29.711Z"
   },
   {
    "duration": 10,
    "start_time": "2022-05-30T21:40:29.752Z"
   },
   {
    "duration": 32,
    "start_time": "2022-05-30T21:40:29.763Z"
   },
   {
    "duration": 2225,
    "start_time": "2022-05-30T21:40:29.797Z"
   },
   {
    "duration": 422,
    "start_time": "2022-05-30T21:40:32.023Z"
   },
   {
    "duration": 423,
    "start_time": "2022-05-30T21:40:32.452Z"
   },
   {
    "duration": 6,
    "start_time": "2022-05-30T21:40:32.876Z"
   },
   {
    "duration": 404,
    "start_time": "2022-05-30T21:40:32.884Z"
   },
   {
    "duration": 165,
    "start_time": "2022-05-30T21:40:33.289Z"
   },
   {
    "duration": 156,
    "start_time": "2022-05-30T21:40:33.456Z"
   },
   {
    "duration": 162,
    "start_time": "2022-05-30T21:40:33.614Z"
   },
   {
    "duration": 159,
    "start_time": "2022-05-30T21:40:33.778Z"
   },
   {
    "duration": 3,
    "start_time": "2022-05-30T21:40:33.939Z"
   },
   {
    "duration": 55,
    "start_time": "2022-05-30T21:40:33.951Z"
   },
   {
    "duration": 24,
    "start_time": "2022-05-30T21:40:34.007Z"
   },
   {
    "duration": 207,
    "start_time": "2022-05-30T21:40:34.032Z"
   },
   {
    "duration": 19,
    "start_time": "2022-05-30T21:40:34.240Z"
   },
   {
    "duration": 12,
    "start_time": "2022-05-30T21:40:34.261Z"
   },
   {
    "duration": 8,
    "start_time": "2022-05-30T21:40:34.274Z"
   },
   {
    "duration": 14,
    "start_time": "2022-05-30T21:40:34.284Z"
   },
   {
    "duration": 201,
    "start_time": "2022-05-30T21:40:34.299Z"
   },
   {
    "duration": 7,
    "start_time": "2022-05-30T21:40:34.501Z"
   },
   {
    "duration": 412,
    "start_time": "2022-05-30T21:40:34.510Z"
   },
   {
    "duration": 165,
    "start_time": "2022-05-30T21:40:34.924Z"
   },
   {
    "duration": 205,
    "start_time": "2022-05-30T21:40:35.090Z"
   },
   {
    "duration": 16,
    "start_time": "2022-05-30T21:40:35.298Z"
   },
   {
    "duration": 40,
    "start_time": "2022-05-30T21:40:35.315Z"
   },
   {
    "duration": 40,
    "start_time": "2022-05-31T16:59:43.091Z"
   },
   {
    "duration": 3,
    "start_time": "2022-05-31T18:33:19.102Z"
   },
   {
    "duration": 4,
    "start_time": "2022-05-31T18:33:23.245Z"
   },
   {
    "duration": 3,
    "start_time": "2022-05-31T18:33:45.515Z"
   },
   {
    "duration": 6,
    "start_time": "2022-05-31T19:06:00.876Z"
   },
   {
    "duration": 3,
    "start_time": "2022-05-31T19:06:05.011Z"
   },
   {
    "duration": 65,
    "start_time": "2022-05-31T19:07:05.945Z"
   },
   {
    "duration": 1757,
    "start_time": "2022-05-31T19:10:51.079Z"
   },
   {
    "duration": 5,
    "start_time": "2022-05-31T19:10:52.838Z"
   },
   {
    "duration": 5,
    "start_time": "2022-05-31T19:10:52.844Z"
   },
   {
    "duration": 68,
    "start_time": "2022-05-31T19:10:52.850Z"
   },
   {
    "duration": 19,
    "start_time": "2022-05-31T19:10:52.920Z"
   },
   {
    "duration": 89,
    "start_time": "2022-05-31T19:10:52.940Z"
   },
   {
    "duration": 14,
    "start_time": "2022-05-31T19:10:53.031Z"
   },
   {
    "duration": 15,
    "start_time": "2022-05-31T19:10:53.046Z"
   },
   {
    "duration": 47,
    "start_time": "2022-05-31T19:10:53.064Z"
   },
   {
    "duration": 10,
    "start_time": "2022-05-31T19:10:53.113Z"
   },
   {
    "duration": 5,
    "start_time": "2022-05-31T19:10:53.125Z"
   },
   {
    "duration": 20,
    "start_time": "2022-05-31T19:10:53.131Z"
   },
   {
    "duration": 33,
    "start_time": "2022-05-31T19:10:53.153Z"
   },
   {
    "duration": 6,
    "start_time": "2022-05-31T19:10:53.196Z"
   },
   {
    "duration": 8,
    "start_time": "2022-05-31T19:10:53.204Z"
   },
   {
    "duration": 10,
    "start_time": "2022-05-31T19:10:53.214Z"
   },
   {
    "duration": 5,
    "start_time": "2022-05-31T19:10:53.225Z"
   },
   {
    "duration": 5,
    "start_time": "2022-05-31T19:10:53.231Z"
   },
   {
    "duration": 6,
    "start_time": "2022-05-31T19:10:53.238Z"
   },
   {
    "duration": 27,
    "start_time": "2022-05-31T19:10:53.254Z"
   },
   {
    "duration": 25,
    "start_time": "2022-05-31T19:10:53.282Z"
   },
   {
    "duration": 12,
    "start_time": "2022-05-31T19:10:53.309Z"
   },
   {
    "duration": 14,
    "start_time": "2022-05-31T19:10:53.322Z"
   },
   {
    "duration": 36,
    "start_time": "2022-05-31T19:10:53.337Z"
   },
   {
    "duration": 26,
    "start_time": "2022-05-31T19:10:53.378Z"
   },
   {
    "duration": 6,
    "start_time": "2022-05-31T19:10:53.407Z"
   },
   {
    "duration": 14,
    "start_time": "2022-05-31T19:10:53.414Z"
   },
   {
    "duration": 367,
    "start_time": "2022-05-31T19:10:53.429Z"
   },
   {
    "duration": 513,
    "start_time": "2022-05-31T19:10:53.798Z"
   },
   {
    "duration": 8,
    "start_time": "2022-05-31T19:10:54.313Z"
   },
   {
    "duration": 657,
    "start_time": "2022-05-31T19:10:54.323Z"
   },
   {
    "duration": 267,
    "start_time": "2022-05-31T19:10:54.985Z"
   },
   {
    "duration": 128,
    "start_time": "2022-05-31T19:10:55.261Z"
   },
   {
    "duration": 12,
    "start_time": "2022-05-31T19:10:55.391Z"
   },
   {
    "duration": 285,
    "start_time": "2022-05-31T19:10:55.404Z"
   },
   {
    "duration": 3,
    "start_time": "2022-05-31T19:10:55.690Z"
   },
   {
    "duration": 7,
    "start_time": "2022-05-31T19:10:55.694Z"
   },
   {
    "duration": 8,
    "start_time": "2022-05-31T19:10:55.703Z"
   },
   {
    "duration": 10,
    "start_time": "2022-05-31T19:10:55.713Z"
   },
   {
    "duration": 10,
    "start_time": "2022-05-31T19:10:55.724Z"
   },
   {
    "duration": 8,
    "start_time": "2022-05-31T19:10:55.738Z"
   },
   {
    "duration": 40,
    "start_time": "2022-05-31T19:10:55.747Z"
   },
   {
    "duration": 7,
    "start_time": "2022-05-31T19:10:55.788Z"
   },
   {
    "duration": 9,
    "start_time": "2022-05-31T19:10:55.796Z"
   },
   {
    "duration": 7,
    "start_time": "2022-05-31T19:10:55.806Z"
   },
   {
    "duration": 880,
    "start_time": "2022-05-31T19:10:55.814Z"
   },
   {
    "duration": 187,
    "start_time": "2022-05-31T19:10:56.695Z"
   },
   {
    "duration": 48,
    "start_time": "2022-05-31T19:10:56.886Z"
   },
   {
    "duration": 84,
    "start_time": "2022-05-31T19:10:56.937Z"
   },
   {
    "duration": 19,
    "start_time": "2022-05-31T19:10:57.023Z"
   },
   {
    "duration": 20,
    "start_time": "2022-05-31T19:10:57.044Z"
   },
   {
    "duration": 53,
    "start_time": "2022-05-31T19:10:57.066Z"
   },
   {
    "duration": 2378,
    "start_time": "2022-05-31T19:10:57.120Z"
   },
   {
    "duration": 497,
    "start_time": "2022-05-31T19:10:59.499Z"
   },
   {
    "duration": 445,
    "start_time": "2022-05-31T19:10:59.998Z"
   },
   {
    "duration": 5,
    "start_time": "2022-05-31T19:11:00.445Z"
   },
   {
    "duration": 461,
    "start_time": "2022-05-31T19:11:00.457Z"
   },
   {
    "duration": 197,
    "start_time": "2022-05-31T19:11:00.920Z"
   },
   {
    "duration": 171,
    "start_time": "2022-05-31T19:11:01.119Z"
   },
   {
    "duration": 225,
    "start_time": "2022-05-31T19:11:01.292Z"
   },
   {
    "duration": 225,
    "start_time": "2022-05-31T19:11:01.519Z"
   },
   {
    "duration": 3,
    "start_time": "2022-05-31T19:11:01.746Z"
   },
   {
    "duration": 123,
    "start_time": "2022-05-31T19:11:01.751Z"
   },
   {
    "duration": 29,
    "start_time": "2022-05-31T19:11:01.878Z"
   },
   {
    "duration": 224,
    "start_time": "2022-05-31T19:11:01.909Z"
   },
   {
    "duration": 21,
    "start_time": "2022-05-31T19:11:02.135Z"
   },
   {
    "duration": 40,
    "start_time": "2022-05-31T19:11:02.159Z"
   },
   {
    "duration": 15,
    "start_time": "2022-05-31T19:11:02.203Z"
   },
   {
    "duration": 25,
    "start_time": "2022-05-31T19:11:02.220Z"
   },
   {
    "duration": 272,
    "start_time": "2022-05-31T19:11:02.247Z"
   },
   {
    "duration": 9,
    "start_time": "2022-05-31T19:11:02.521Z"
   },
   {
    "duration": 593,
    "start_time": "2022-05-31T19:11:02.532Z"
   },
   {
    "duration": 211,
    "start_time": "2022-05-31T19:11:03.127Z"
   },
   {
    "duration": 212,
    "start_time": "2022-05-31T19:11:03.340Z"
   },
   {
    "duration": 37,
    "start_time": "2022-05-31T19:11:03.554Z"
   },
   {
    "duration": 38,
    "start_time": "2022-05-31T19:11:03.592Z"
   },
   {
    "duration": 28,
    "start_time": "2022-05-31T19:18:36.451Z"
   },
   {
    "duration": 36,
    "start_time": "2022-05-31T19:18:51.026Z"
   },
   {
    "duration": 6,
    "start_time": "2022-05-31T19:26:21.317Z"
   },
   {
    "duration": 24,
    "start_time": "2022-05-31T19:27:39.775Z"
   },
   {
    "duration": 39,
    "start_time": "2022-05-31T19:28:34.886Z"
   },
   {
    "duration": 49,
    "start_time": "2022-05-31T19:31:48.320Z"
   },
   {
    "duration": 77,
    "start_time": "2022-05-31T19:33:46.041Z"
   },
   {
    "duration": 96,
    "start_time": "2022-05-31T19:35:01.318Z"
   },
   {
    "duration": 81,
    "start_time": "2022-05-31T19:35:23.540Z"
   },
   {
    "duration": 49,
    "start_time": "2022-05-31T19:35:27.961Z"
   },
   {
    "duration": 46,
    "start_time": "2022-05-31T19:36:32.442Z"
   },
   {
    "duration": 791,
    "start_time": "2022-05-31T19:36:55.730Z"
   },
   {
    "duration": 7,
    "start_time": "2022-05-31T19:36:56.522Z"
   },
   {
    "duration": 3,
    "start_time": "2022-05-31T19:36:56.530Z"
   },
   {
    "duration": 52,
    "start_time": "2022-05-31T19:36:56.535Z"
   },
   {
    "duration": 13,
    "start_time": "2022-05-31T19:36:56.589Z"
   },
   {
    "duration": 95,
    "start_time": "2022-05-31T19:36:56.603Z"
   },
   {
    "duration": 11,
    "start_time": "2022-05-31T19:36:56.700Z"
   },
   {
    "duration": 4,
    "start_time": "2022-05-31T19:36:56.713Z"
   },
   {
    "duration": 6,
    "start_time": "2022-05-31T19:36:56.718Z"
   },
   {
    "duration": 5,
    "start_time": "2022-05-31T19:36:56.726Z"
   },
   {
    "duration": 15,
    "start_time": "2022-05-31T19:36:56.754Z"
   },
   {
    "duration": 13,
    "start_time": "2022-05-31T19:36:56.771Z"
   },
   {
    "duration": 8,
    "start_time": "2022-05-31T19:36:56.786Z"
   },
   {
    "duration": 10,
    "start_time": "2022-05-31T19:36:56.796Z"
   },
   {
    "duration": 8,
    "start_time": "2022-05-31T19:36:56.807Z"
   },
   {
    "duration": 5,
    "start_time": "2022-05-31T19:36:56.816Z"
   },
   {
    "duration": 4,
    "start_time": "2022-05-31T19:36:56.823Z"
   },
   {
    "duration": 17,
    "start_time": "2022-05-31T19:36:56.854Z"
   },
   {
    "duration": 5,
    "start_time": "2022-05-31T19:36:56.872Z"
   },
   {
    "duration": 13,
    "start_time": "2022-05-31T19:36:56.879Z"
   },
   {
    "duration": 12,
    "start_time": "2022-05-31T19:36:56.893Z"
   },
   {
    "duration": 8,
    "start_time": "2022-05-31T19:36:56.906Z"
   },
   {
    "duration": 9,
    "start_time": "2022-05-31T19:36:56.915Z"
   },
   {
    "duration": 35,
    "start_time": "2022-05-31T19:36:56.925Z"
   },
   {
    "duration": 21,
    "start_time": "2022-05-31T19:36:56.964Z"
   },
   {
    "duration": 5,
    "start_time": "2022-05-31T19:36:56.986Z"
   },
   {
    "duration": 14,
    "start_time": "2022-05-31T19:36:56.992Z"
   },
   {
    "duration": 332,
    "start_time": "2022-05-31T19:36:57.010Z"
   },
   {
    "duration": 475,
    "start_time": "2022-05-31T19:36:57.344Z"
   },
   {
    "duration": 10,
    "start_time": "2022-05-31T19:36:57.820Z"
   },
   {
    "duration": 598,
    "start_time": "2022-05-31T19:36:57.831Z"
   },
   {
    "duration": 260,
    "start_time": "2022-05-31T19:36:58.431Z"
   },
   {
    "duration": 117,
    "start_time": "2022-05-31T19:36:58.693Z"
   },
   {
    "duration": 12,
    "start_time": "2022-05-31T19:36:58.812Z"
   },
   {
    "duration": 230,
    "start_time": "2022-05-31T19:36:58.825Z"
   },
   {
    "duration": 5,
    "start_time": "2022-05-31T19:36:59.065Z"
   },
   {
    "duration": 7,
    "start_time": "2022-05-31T19:36:59.072Z"
   },
   {
    "duration": 6,
    "start_time": "2022-05-31T19:36:59.081Z"
   },
   {
    "duration": 9,
    "start_time": "2022-05-31T19:36:59.089Z"
   },
   {
    "duration": 8,
    "start_time": "2022-05-31T19:36:59.100Z"
   },
   {
    "duration": 5,
    "start_time": "2022-05-31T19:36:59.110Z"
   },
   {
    "duration": 12,
    "start_time": "2022-05-31T19:36:59.116Z"
   },
   {
    "duration": 8,
    "start_time": "2022-05-31T19:36:59.130Z"
   },
   {
    "duration": 12,
    "start_time": "2022-05-31T19:36:59.139Z"
   },
   {
    "duration": 26,
    "start_time": "2022-05-31T19:36:59.153Z"
   },
   {
    "duration": 808,
    "start_time": "2022-05-31T19:36:59.182Z"
   },
   {
    "duration": 92,
    "start_time": "2022-05-31T19:36:59.992Z"
   },
   {
    "duration": 0,
    "start_time": "2022-05-31T19:37:00.086Z"
   },
   {
    "duration": 0,
    "start_time": "2022-05-31T19:37:00.087Z"
   },
   {
    "duration": 0,
    "start_time": "2022-05-31T19:37:00.089Z"
   },
   {
    "duration": 0,
    "start_time": "2022-05-31T19:37:00.090Z"
   },
   {
    "duration": 0,
    "start_time": "2022-05-31T19:37:00.092Z"
   },
   {
    "duration": 0,
    "start_time": "2022-05-31T19:37:00.093Z"
   },
   {
    "duration": 0,
    "start_time": "2022-05-31T19:37:00.094Z"
   },
   {
    "duration": 0,
    "start_time": "2022-05-31T19:37:00.096Z"
   },
   {
    "duration": 0,
    "start_time": "2022-05-31T19:37:00.097Z"
   },
   {
    "duration": 0,
    "start_time": "2022-05-31T19:37:00.099Z"
   },
   {
    "duration": 0,
    "start_time": "2022-05-31T19:37:00.100Z"
   },
   {
    "duration": 1,
    "start_time": "2022-05-31T19:37:00.101Z"
   },
   {
    "duration": 0,
    "start_time": "2022-05-31T19:37:00.103Z"
   },
   {
    "duration": 0,
    "start_time": "2022-05-31T19:37:00.104Z"
   },
   {
    "duration": 0,
    "start_time": "2022-05-31T19:37:00.105Z"
   },
   {
    "duration": 0,
    "start_time": "2022-05-31T19:37:00.107Z"
   },
   {
    "duration": 0,
    "start_time": "2022-05-31T19:37:00.108Z"
   },
   {
    "duration": 0,
    "start_time": "2022-05-31T19:37:00.109Z"
   },
   {
    "duration": 0,
    "start_time": "2022-05-31T19:37:00.110Z"
   },
   {
    "duration": 0,
    "start_time": "2022-05-31T19:37:00.111Z"
   },
   {
    "duration": 0,
    "start_time": "2022-05-31T19:37:00.156Z"
   },
   {
    "duration": 0,
    "start_time": "2022-05-31T19:37:00.159Z"
   },
   {
    "duration": 0,
    "start_time": "2022-05-31T19:37:00.159Z"
   },
   {
    "duration": 0,
    "start_time": "2022-05-31T19:37:00.160Z"
   },
   {
    "duration": 0,
    "start_time": "2022-05-31T19:37:00.161Z"
   },
   {
    "duration": 0,
    "start_time": "2022-05-31T19:37:00.163Z"
   },
   {
    "duration": 0,
    "start_time": "2022-05-31T19:37:00.166Z"
   },
   {
    "duration": 0,
    "start_time": "2022-05-31T19:37:00.166Z"
   },
   {
    "duration": 0,
    "start_time": "2022-05-31T19:37:00.167Z"
   },
   {
    "duration": 0,
    "start_time": "2022-05-31T19:37:00.168Z"
   },
   {
    "duration": 0,
    "start_time": "2022-05-31T19:37:00.168Z"
   },
   {
    "duration": 788,
    "start_time": "2022-05-31T19:38:26.346Z"
   },
   {
    "duration": 4,
    "start_time": "2022-05-31T19:38:27.136Z"
   },
   {
    "duration": 6,
    "start_time": "2022-05-31T19:38:27.142Z"
   },
   {
    "duration": 45,
    "start_time": "2022-05-31T19:38:27.149Z"
   },
   {
    "duration": 15,
    "start_time": "2022-05-31T19:38:27.196Z"
   },
   {
    "duration": 88,
    "start_time": "2022-05-31T19:38:27.213Z"
   },
   {
    "duration": 12,
    "start_time": "2022-05-31T19:38:27.303Z"
   },
   {
    "duration": 4,
    "start_time": "2022-05-31T19:38:27.316Z"
   },
   {
    "duration": 6,
    "start_time": "2022-05-31T19:38:27.321Z"
   },
   {
    "duration": 27,
    "start_time": "2022-05-31T19:38:27.328Z"
   },
   {
    "duration": 6,
    "start_time": "2022-05-31T19:38:27.367Z"
   },
   {
    "duration": 14,
    "start_time": "2022-05-31T19:38:27.375Z"
   },
   {
    "duration": 8,
    "start_time": "2022-05-31T19:38:27.390Z"
   },
   {
    "duration": 6,
    "start_time": "2022-05-31T19:38:27.401Z"
   },
   {
    "duration": 9,
    "start_time": "2022-05-31T19:38:27.408Z"
   },
   {
    "duration": 6,
    "start_time": "2022-05-31T19:38:27.418Z"
   },
   {
    "duration": 36,
    "start_time": "2022-05-31T19:38:27.425Z"
   },
   {
    "duration": 4,
    "start_time": "2022-05-31T19:38:27.467Z"
   },
   {
    "duration": 7,
    "start_time": "2022-05-31T19:38:27.473Z"
   },
   {
    "duration": 14,
    "start_time": "2022-05-31T19:38:27.482Z"
   },
   {
    "duration": 12,
    "start_time": "2022-05-31T19:38:27.497Z"
   },
   {
    "duration": 8,
    "start_time": "2022-05-31T19:38:27.511Z"
   },
   {
    "duration": 9,
    "start_time": "2022-05-31T19:38:27.520Z"
   },
   {
    "duration": 42,
    "start_time": "2022-05-31T19:38:27.530Z"
   },
   {
    "duration": 19,
    "start_time": "2022-05-31T19:38:27.574Z"
   },
   {
    "duration": 6,
    "start_time": "2022-05-31T19:38:27.594Z"
   },
   {
    "duration": 13,
    "start_time": "2022-05-31T19:38:27.602Z"
   },
   {
    "duration": 322,
    "start_time": "2022-05-31T19:38:27.617Z"
   },
   {
    "duration": 469,
    "start_time": "2022-05-31T19:38:27.941Z"
   },
   {
    "duration": 7,
    "start_time": "2022-05-31T19:38:28.412Z"
   },
   {
    "duration": 549,
    "start_time": "2022-05-31T19:38:28.421Z"
   },
   {
    "duration": 351,
    "start_time": "2022-05-31T19:38:28.972Z"
   },
   {
    "duration": 115,
    "start_time": "2022-05-31T19:38:29.324Z"
   },
   {
    "duration": 27,
    "start_time": "2022-05-31T19:38:29.440Z"
   },
   {
    "duration": 214,
    "start_time": "2022-05-31T19:38:29.469Z"
   },
   {
    "duration": 2,
    "start_time": "2022-05-31T19:38:29.685Z"
   },
   {
    "duration": 4,
    "start_time": "2022-05-31T19:38:29.689Z"
   },
   {
    "duration": 5,
    "start_time": "2022-05-31T19:38:29.694Z"
   },
   {
    "duration": 7,
    "start_time": "2022-05-31T19:38:29.700Z"
   },
   {
    "duration": 6,
    "start_time": "2022-05-31T19:38:29.708Z"
   },
   {
    "duration": 7,
    "start_time": "2022-05-31T19:38:29.718Z"
   },
   {
    "duration": 15,
    "start_time": "2022-05-31T19:38:29.727Z"
   },
   {
    "duration": 25,
    "start_time": "2022-05-31T19:38:29.743Z"
   },
   {
    "duration": 7,
    "start_time": "2022-05-31T19:38:29.770Z"
   },
   {
    "duration": 5,
    "start_time": "2022-05-31T19:38:29.779Z"
   },
   {
    "duration": 763,
    "start_time": "2022-05-31T19:38:29.786Z"
   },
   {
    "duration": 38,
    "start_time": "2022-05-31T19:38:30.551Z"
   },
   {
    "duration": 44,
    "start_time": "2022-05-31T19:38:30.590Z"
   },
   {
    "duration": 195,
    "start_time": "2022-05-31T19:38:30.636Z"
   },
   {
    "duration": 58,
    "start_time": "2022-05-31T19:38:30.833Z"
   },
   {
    "duration": 78,
    "start_time": "2022-05-31T19:38:30.893Z"
   },
   {
    "duration": 20,
    "start_time": "2022-05-31T19:38:30.972Z"
   },
   {
    "duration": 9,
    "start_time": "2022-05-31T19:38:30.994Z"
   },
   {
    "duration": 64,
    "start_time": "2022-05-31T19:38:31.005Z"
   },
   {
    "duration": 2231,
    "start_time": "2022-05-31T19:38:31.071Z"
   },
   {
    "duration": 446,
    "start_time": "2022-05-31T19:38:33.303Z"
   },
   {
    "duration": 443,
    "start_time": "2022-05-31T19:38:33.751Z"
   },
   {
    "duration": 6,
    "start_time": "2022-05-31T19:38:34.196Z"
   },
   {
    "duration": 421,
    "start_time": "2022-05-31T19:38:34.204Z"
   },
   {
    "duration": 168,
    "start_time": "2022-05-31T19:38:34.627Z"
   },
   {
    "duration": 147,
    "start_time": "2022-05-31T19:38:34.796Z"
   },
   {
    "duration": 156,
    "start_time": "2022-05-31T19:38:34.944Z"
   },
   {
    "duration": 157,
    "start_time": "2022-05-31T19:38:35.101Z"
   },
   {
    "duration": 3,
    "start_time": "2022-05-31T19:38:35.259Z"
   },
   {
    "duration": 63,
    "start_time": "2022-05-31T19:38:35.263Z"
   },
   {
    "duration": 28,
    "start_time": "2022-05-31T19:38:35.328Z"
   },
   {
    "duration": 177,
    "start_time": "2022-05-31T19:38:35.358Z"
   },
   {
    "duration": 31,
    "start_time": "2022-05-31T19:38:35.536Z"
   },
   {
    "duration": 14,
    "start_time": "2022-05-31T19:38:35.568Z"
   },
   {
    "duration": 9,
    "start_time": "2022-05-31T19:38:35.583Z"
   },
   {
    "duration": 17,
    "start_time": "2022-05-31T19:38:35.594Z"
   },
   {
    "duration": 193,
    "start_time": "2022-05-31T19:38:35.612Z"
   },
   {
    "duration": 7,
    "start_time": "2022-05-31T19:38:35.806Z"
   },
   {
    "duration": 421,
    "start_time": "2022-05-31T19:38:35.815Z"
   },
   {
    "duration": 164,
    "start_time": "2022-05-31T19:38:36.238Z"
   },
   {
    "duration": 165,
    "start_time": "2022-05-31T19:38:36.403Z"
   },
   {
    "duration": 14,
    "start_time": "2022-05-31T19:38:36.570Z"
   },
   {
    "duration": 21,
    "start_time": "2022-05-31T19:38:36.585Z"
   },
   {
    "duration": 48,
    "start_time": "2022-05-31T19:40:36.293Z"
   },
   {
    "duration": 90,
    "start_time": "2022-05-31T19:43:02.731Z"
   },
   {
    "duration": 63,
    "start_time": "2022-05-31T19:44:10.061Z"
   },
   {
    "duration": 2,
    "start_time": "2022-05-31T20:01:47.513Z"
   },
   {
    "duration": 9,
    "start_time": "2022-05-31T20:23:21.990Z"
   },
   {
    "duration": 8,
    "start_time": "2022-05-31T20:23:32.932Z"
   },
   {
    "duration": 4,
    "start_time": "2022-05-31T20:23:39.772Z"
   },
   {
    "duration": 5,
    "start_time": "2022-05-31T20:26:06.466Z"
   },
   {
    "duration": 139,
    "start_time": "2022-05-31T20:28:20.023Z"
   },
   {
    "duration": 23,
    "start_time": "2022-05-31T20:36:24.784Z"
   },
   {
    "duration": 12,
    "start_time": "2022-05-31T20:36:56.377Z"
   },
   {
    "duration": 2,
    "start_time": "2022-05-31T20:37:11.803Z"
   },
   {
    "duration": 147,
    "start_time": "2022-05-31T20:37:14.103Z"
   },
   {
    "duration": 3,
    "start_time": "2022-05-31T20:38:13.410Z"
   },
   {
    "duration": 146,
    "start_time": "2022-05-31T20:38:26.181Z"
   },
   {
    "duration": 13,
    "start_time": "2022-05-31T20:38:29.967Z"
   },
   {
    "duration": 63,
    "start_time": "2022-05-31T20:38:51.777Z"
   },
   {
    "duration": 3,
    "start_time": "2022-05-31T20:39:22.069Z"
   },
   {
    "duration": 148,
    "start_time": "2022-05-31T20:39:24.328Z"
   },
   {
    "duration": 3,
    "start_time": "2022-05-31T20:39:48.087Z"
   },
   {
    "duration": 143,
    "start_time": "2022-05-31T20:39:50.322Z"
   },
   {
    "duration": 3,
    "start_time": "2022-05-31T20:41:57.680Z"
   },
   {
    "duration": 150,
    "start_time": "2022-05-31T20:42:00.555Z"
   },
   {
    "duration": 13,
    "start_time": "2022-05-31T20:44:17.384Z"
   },
   {
    "duration": 809,
    "start_time": "2022-05-31T20:45:37.779Z"
   },
   {
    "duration": 5,
    "start_time": "2022-05-31T20:45:38.590Z"
   },
   {
    "duration": 5,
    "start_time": "2022-05-31T20:45:38.597Z"
   },
   {
    "duration": 35,
    "start_time": "2022-05-31T20:45:38.604Z"
   },
   {
    "duration": 39,
    "start_time": "2022-05-31T20:45:38.641Z"
   },
   {
    "duration": 91,
    "start_time": "2022-05-31T20:45:38.684Z"
   },
   {
    "duration": 14,
    "start_time": "2022-05-31T20:45:38.782Z"
   },
   {
    "duration": 5,
    "start_time": "2022-05-31T20:45:38.798Z"
   },
   {
    "duration": 8,
    "start_time": "2022-05-31T20:45:38.805Z"
   },
   {
    "duration": 10,
    "start_time": "2022-05-31T20:45:38.814Z"
   },
   {
    "duration": 5,
    "start_time": "2022-05-31T20:45:38.826Z"
   },
   {
    "duration": 24,
    "start_time": "2022-05-31T20:45:38.832Z"
   },
   {
    "duration": 14,
    "start_time": "2022-05-31T20:45:38.859Z"
   },
   {
    "duration": 19,
    "start_time": "2022-05-31T20:45:38.877Z"
   },
   {
    "duration": 14,
    "start_time": "2022-05-31T20:45:38.898Z"
   },
   {
    "duration": 6,
    "start_time": "2022-05-31T20:45:38.913Z"
   },
   {
    "duration": 5,
    "start_time": "2022-05-31T20:45:38.921Z"
   },
   {
    "duration": 6,
    "start_time": "2022-05-31T20:45:38.927Z"
   },
   {
    "duration": 8,
    "start_time": "2022-05-31T20:45:38.935Z"
   },
   {
    "duration": 21,
    "start_time": "2022-05-31T20:45:38.944Z"
   },
   {
    "duration": 28,
    "start_time": "2022-05-31T20:45:38.966Z"
   },
   {
    "duration": 8,
    "start_time": "2022-05-31T20:45:38.995Z"
   },
   {
    "duration": 10,
    "start_time": "2022-05-31T20:45:39.005Z"
   },
   {
    "duration": 12,
    "start_time": "2022-05-31T20:45:39.016Z"
   },
   {
    "duration": 47,
    "start_time": "2022-05-31T20:45:39.029Z"
   },
   {
    "duration": 7,
    "start_time": "2022-05-31T20:45:39.080Z"
   },
   {
    "duration": 19,
    "start_time": "2022-05-31T20:45:39.089Z"
   },
   {
    "duration": 385,
    "start_time": "2022-05-31T20:45:39.109Z"
   },
   {
    "duration": 518,
    "start_time": "2022-05-31T20:45:39.495Z"
   },
   {
    "duration": 9,
    "start_time": "2022-05-31T20:45:40.015Z"
   },
   {
    "duration": 601,
    "start_time": "2022-05-31T20:45:40.026Z"
   },
   {
    "duration": 357,
    "start_time": "2022-05-31T20:45:40.628Z"
   },
   {
    "duration": 126,
    "start_time": "2022-05-31T20:45:40.987Z"
   },
   {
    "duration": 13,
    "start_time": "2022-05-31T20:45:41.115Z"
   },
   {
    "duration": 265,
    "start_time": "2022-05-31T20:45:41.129Z"
   },
   {
    "duration": 2,
    "start_time": "2022-05-31T20:45:41.398Z"
   },
   {
    "duration": 8,
    "start_time": "2022-05-31T20:45:41.402Z"
   },
   {
    "duration": 12,
    "start_time": "2022-05-31T20:45:41.411Z"
   },
   {
    "duration": 10,
    "start_time": "2022-05-31T20:45:41.425Z"
   },
   {
    "duration": 9,
    "start_time": "2022-05-31T20:45:41.437Z"
   },
   {
    "duration": 22,
    "start_time": "2022-05-31T20:45:41.451Z"
   },
   {
    "duration": 15,
    "start_time": "2022-05-31T20:45:41.478Z"
   },
   {
    "duration": 9,
    "start_time": "2022-05-31T20:45:41.495Z"
   },
   {
    "duration": 18,
    "start_time": "2022-05-31T20:45:41.506Z"
   },
   {
    "duration": 8,
    "start_time": "2022-05-31T20:45:41.526Z"
   },
   {
    "duration": 838,
    "start_time": "2022-05-31T20:45:41.536Z"
   },
   {
    "duration": 32,
    "start_time": "2022-05-31T20:45:42.381Z"
   },
   {
    "duration": 46,
    "start_time": "2022-05-31T20:45:42.414Z"
   },
   {
    "duration": 14,
    "start_time": "2022-05-31T20:45:42.465Z"
   },
   {
    "duration": 162,
    "start_time": "2022-05-31T20:45:42.482Z"
   },
   {
    "duration": 22,
    "start_time": "2022-05-31T20:45:42.646Z"
   },
   {
    "duration": 76,
    "start_time": "2022-05-31T20:45:42.677Z"
   },
   {
    "duration": 23,
    "start_time": "2022-05-31T20:45:42.754Z"
   },
   {
    "duration": 21,
    "start_time": "2022-05-31T20:45:42.778Z"
   },
   {
    "duration": 52,
    "start_time": "2022-05-31T20:45:42.801Z"
   },
   {
    "duration": 2248,
    "start_time": "2022-05-31T20:45:42.856Z"
   },
   {
    "duration": 433,
    "start_time": "2022-05-31T20:45:45.106Z"
   },
   {
    "duration": 423,
    "start_time": "2022-05-31T20:45:45.540Z"
   },
   {
    "duration": 10,
    "start_time": "2022-05-31T20:45:45.965Z"
   },
   {
    "duration": 428,
    "start_time": "2022-05-31T20:45:45.980Z"
   },
   {
    "duration": 159,
    "start_time": "2022-05-31T20:45:46.409Z"
   },
   {
    "duration": 161,
    "start_time": "2022-05-31T20:45:46.570Z"
   },
   {
    "duration": 185,
    "start_time": "2022-05-31T20:45:46.732Z"
   },
   {
    "duration": 164,
    "start_time": "2022-05-31T20:45:46.919Z"
   },
   {
    "duration": 2,
    "start_time": "2022-05-31T20:45:47.085Z"
   },
   {
    "duration": 68,
    "start_time": "2022-05-31T20:45:47.089Z"
   },
   {
    "duration": 31,
    "start_time": "2022-05-31T20:45:47.159Z"
   },
   {
    "duration": 195,
    "start_time": "2022-05-31T20:45:47.191Z"
   },
   {
    "duration": 17,
    "start_time": "2022-05-31T20:45:47.388Z"
   },
   {
    "duration": 13,
    "start_time": "2022-05-31T20:45:47.407Z"
   },
   {
    "duration": 9,
    "start_time": "2022-05-31T20:45:47.422Z"
   },
   {
    "duration": 50,
    "start_time": "2022-05-31T20:45:47.433Z"
   },
   {
    "duration": 220,
    "start_time": "2022-05-31T20:45:47.486Z"
   },
   {
    "duration": 8,
    "start_time": "2022-05-31T20:45:47.708Z"
   },
   {
    "duration": 462,
    "start_time": "2022-05-31T20:45:47.718Z"
   },
   {
    "duration": 195,
    "start_time": "2022-05-31T20:45:48.186Z"
   },
   {
    "duration": 175,
    "start_time": "2022-05-31T20:45:48.386Z"
   },
   {
    "duration": 21,
    "start_time": "2022-05-31T20:45:48.562Z"
   },
   {
    "duration": 25,
    "start_time": "2022-05-31T20:45:48.584Z"
   },
   {
    "duration": 3,
    "start_time": "2022-05-31T20:49:29.453Z"
   },
   {
    "duration": 171,
    "start_time": "2022-05-31T20:49:31.413Z"
   },
   {
    "duration": 823,
    "start_time": "2022-05-31T20:50:02.823Z"
   },
   {
    "duration": 6,
    "start_time": "2022-05-31T20:50:03.648Z"
   },
   {
    "duration": 6,
    "start_time": "2022-05-31T20:50:03.655Z"
   },
   {
    "duration": 34,
    "start_time": "2022-05-31T20:50:03.663Z"
   },
   {
    "duration": 14,
    "start_time": "2022-05-31T20:50:03.699Z"
   },
   {
    "duration": 94,
    "start_time": "2022-05-31T20:50:03.715Z"
   },
   {
    "duration": 13,
    "start_time": "2022-05-31T20:50:03.811Z"
   },
   {
    "duration": 28,
    "start_time": "2022-05-31T20:50:03.826Z"
   },
   {
    "duration": 4,
    "start_time": "2022-05-31T20:50:03.856Z"
   },
   {
    "duration": 10,
    "start_time": "2022-05-31T20:50:03.861Z"
   },
   {
    "duration": 8,
    "start_time": "2022-05-31T20:50:03.872Z"
   },
   {
    "duration": 21,
    "start_time": "2022-05-31T20:50:03.881Z"
   },
   {
    "duration": 8,
    "start_time": "2022-05-31T20:50:03.903Z"
   },
   {
    "duration": 6,
    "start_time": "2022-05-31T20:50:03.914Z"
   },
   {
    "duration": 9,
    "start_time": "2022-05-31T20:50:03.921Z"
   },
   {
    "duration": 25,
    "start_time": "2022-05-31T20:50:03.932Z"
   },
   {
    "duration": 4,
    "start_time": "2022-05-31T20:50:03.958Z"
   },
   {
    "duration": 6,
    "start_time": "2022-05-31T20:50:03.963Z"
   },
   {
    "duration": 7,
    "start_time": "2022-05-31T20:50:03.971Z"
   },
   {
    "duration": 14,
    "start_time": "2022-05-31T20:50:03.979Z"
   },
   {
    "duration": 13,
    "start_time": "2022-05-31T20:50:03.994Z"
   },
   {
    "duration": 9,
    "start_time": "2022-05-31T20:50:04.008Z"
   },
   {
    "duration": 44,
    "start_time": "2022-05-31T20:50:04.018Z"
   },
   {
    "duration": 14,
    "start_time": "2022-05-31T20:50:04.064Z"
   },
   {
    "duration": 20,
    "start_time": "2022-05-31T20:50:04.079Z"
   },
   {
    "duration": 6,
    "start_time": "2022-05-31T20:50:04.100Z"
   },
   {
    "duration": 14,
    "start_time": "2022-05-31T20:50:04.107Z"
   },
   {
    "duration": 337,
    "start_time": "2022-05-31T20:50:04.122Z"
   },
   {
    "duration": 498,
    "start_time": "2022-05-31T20:50:04.461Z"
   },
   {
    "duration": 8,
    "start_time": "2022-05-31T20:50:04.961Z"
   },
   {
    "duration": 524,
    "start_time": "2022-05-31T20:50:04.971Z"
   },
   {
    "duration": 331,
    "start_time": "2022-05-31T20:50:05.496Z"
   },
   {
    "duration": 123,
    "start_time": "2022-05-31T20:50:05.828Z"
   },
   {
    "duration": 14,
    "start_time": "2022-05-31T20:50:05.953Z"
   },
   {
    "duration": 228,
    "start_time": "2022-05-31T20:50:05.968Z"
   },
   {
    "duration": 2,
    "start_time": "2022-05-31T20:50:06.198Z"
   },
   {
    "duration": 4,
    "start_time": "2022-05-31T20:50:06.202Z"
   },
   {
    "duration": 5,
    "start_time": "2022-05-31T20:50:06.208Z"
   },
   {
    "duration": 11,
    "start_time": "2022-05-31T20:50:06.214Z"
   },
   {
    "duration": 6,
    "start_time": "2022-05-31T20:50:06.227Z"
   },
   {
    "duration": 2,
    "start_time": "2022-05-31T20:50:06.237Z"
   },
   {
    "duration": 13,
    "start_time": "2022-05-31T20:50:06.241Z"
   },
   {
    "duration": 6,
    "start_time": "2022-05-31T20:50:06.256Z"
   },
   {
    "duration": 10,
    "start_time": "2022-05-31T20:50:06.264Z"
   },
   {
    "duration": 5,
    "start_time": "2022-05-31T20:50:06.275Z"
   },
   {
    "duration": 725,
    "start_time": "2022-05-31T20:50:06.281Z"
   },
   {
    "duration": 32,
    "start_time": "2022-05-31T20:50:07.008Z"
   },
   {
    "duration": 53,
    "start_time": "2022-05-31T20:50:07.041Z"
   },
   {
    "duration": 3,
    "start_time": "2022-05-31T20:50:07.095Z"
   },
   {
    "duration": 155,
    "start_time": "2022-05-31T20:50:07.100Z"
   },
   {
    "duration": 12,
    "start_time": "2022-05-31T20:50:07.257Z"
   },
   {
    "duration": 62,
    "start_time": "2022-05-31T20:50:07.271Z"
   },
   {
    "duration": 2145,
    "start_time": "2022-05-31T20:50:07.355Z"
   },
   {
    "duration": 427,
    "start_time": "2022-05-31T20:50:09.502Z"
   },
   {
    "duration": 370,
    "start_time": "2022-05-31T20:50:09.931Z"
   },
   {
    "duration": 7,
    "start_time": "2022-05-31T20:50:10.303Z"
   },
   {
    "duration": 388,
    "start_time": "2022-05-31T20:50:10.311Z"
   },
   {
    "duration": 143,
    "start_time": "2022-05-31T20:50:10.701Z"
   },
   {
    "duration": 168,
    "start_time": "2022-05-31T20:50:10.846Z"
   },
   {
    "duration": 158,
    "start_time": "2022-05-31T20:50:11.016Z"
   },
   {
    "duration": 146,
    "start_time": "2022-05-31T20:50:11.176Z"
   },
   {
    "duration": 4,
    "start_time": "2022-05-31T20:50:11.324Z"
   },
   {
    "duration": 82,
    "start_time": "2022-05-31T20:50:11.331Z"
   },
   {
    "duration": 26,
    "start_time": "2022-05-31T20:50:11.415Z"
   },
   {
    "duration": 209,
    "start_time": "2022-05-31T20:50:11.454Z"
   },
   {
    "duration": 14,
    "start_time": "2022-05-31T20:50:11.665Z"
   },
   {
    "duration": 14,
    "start_time": "2022-05-31T20:50:11.680Z"
   },
   {
    "duration": 9,
    "start_time": "2022-05-31T20:50:11.695Z"
   },
   {
    "duration": 17,
    "start_time": "2022-05-31T20:50:11.705Z"
   },
   {
    "duration": 201,
    "start_time": "2022-05-31T20:50:11.724Z"
   },
   {
    "duration": 7,
    "start_time": "2022-05-31T20:50:11.927Z"
   },
   {
    "duration": 398,
    "start_time": "2022-05-31T20:50:11.935Z"
   },
   {
    "duration": 142,
    "start_time": "2022-05-31T20:50:12.335Z"
   },
   {
    "duration": 157,
    "start_time": "2022-05-31T20:50:12.478Z"
   },
   {
    "duration": 28,
    "start_time": "2022-05-31T20:50:12.636Z"
   },
   {
    "duration": 23,
    "start_time": "2022-05-31T20:50:12.665Z"
   },
   {
    "duration": 764,
    "start_time": "2022-05-31T20:53:47.604Z"
   },
   {
    "duration": 6,
    "start_time": "2022-05-31T20:53:48.370Z"
   },
   {
    "duration": 6,
    "start_time": "2022-05-31T20:53:48.377Z"
   },
   {
    "duration": 40,
    "start_time": "2022-05-31T20:53:48.385Z"
   },
   {
    "duration": 35,
    "start_time": "2022-05-31T20:53:48.427Z"
   },
   {
    "duration": 80,
    "start_time": "2022-05-31T20:53:48.464Z"
   },
   {
    "duration": 19,
    "start_time": "2022-05-31T20:53:48.555Z"
   },
   {
    "duration": 6,
    "start_time": "2022-05-31T20:53:48.575Z"
   },
   {
    "duration": 8,
    "start_time": "2022-05-31T20:53:48.582Z"
   },
   {
    "duration": 5,
    "start_time": "2022-05-31T20:53:48.592Z"
   },
   {
    "duration": 6,
    "start_time": "2022-05-31T20:53:48.599Z"
   },
   {
    "duration": 15,
    "start_time": "2022-05-31T20:53:48.607Z"
   },
   {
    "duration": 11,
    "start_time": "2022-05-31T20:53:48.654Z"
   },
   {
    "duration": 6,
    "start_time": "2022-05-31T20:53:48.669Z"
   },
   {
    "duration": 11,
    "start_time": "2022-05-31T20:53:48.676Z"
   },
   {
    "duration": 5,
    "start_time": "2022-05-31T20:53:48.688Z"
   },
   {
    "duration": 4,
    "start_time": "2022-05-31T20:53:48.694Z"
   },
   {
    "duration": 6,
    "start_time": "2022-05-31T20:53:48.700Z"
   },
   {
    "duration": 8,
    "start_time": "2022-05-31T20:53:48.707Z"
   },
   {
    "duration": 41,
    "start_time": "2022-05-31T20:53:48.716Z"
   },
   {
    "duration": 12,
    "start_time": "2022-05-31T20:53:48.759Z"
   },
   {
    "duration": 10,
    "start_time": "2022-05-31T20:53:48.772Z"
   },
   {
    "duration": 10,
    "start_time": "2022-05-31T20:53:48.783Z"
   },
   {
    "duration": 17,
    "start_time": "2022-05-31T20:53:48.794Z"
   },
   {
    "duration": 17,
    "start_time": "2022-05-31T20:53:48.812Z"
   },
   {
    "duration": 26,
    "start_time": "2022-05-31T20:53:48.830Z"
   },
   {
    "duration": 12,
    "start_time": "2022-05-31T20:53:48.858Z"
   },
   {
    "duration": 323,
    "start_time": "2022-05-31T20:53:48.871Z"
   },
   {
    "duration": 452,
    "start_time": "2022-05-31T20:53:49.196Z"
   },
   {
    "duration": 7,
    "start_time": "2022-05-31T20:53:49.654Z"
   },
   {
    "duration": 504,
    "start_time": "2022-05-31T20:53:49.663Z"
   },
   {
    "duration": 307,
    "start_time": "2022-05-31T20:53:50.169Z"
   },
   {
    "duration": 117,
    "start_time": "2022-05-31T20:53:50.477Z"
   },
   {
    "duration": 12,
    "start_time": "2022-05-31T20:53:50.596Z"
   },
   {
    "duration": 211,
    "start_time": "2022-05-31T20:53:50.609Z"
   },
   {
    "duration": 2,
    "start_time": "2022-05-31T20:53:50.822Z"
   },
   {
    "duration": 12,
    "start_time": "2022-05-31T20:53:50.825Z"
   },
   {
    "duration": 6,
    "start_time": "2022-05-31T20:53:50.838Z"
   },
   {
    "duration": 9,
    "start_time": "2022-05-31T20:53:50.846Z"
   },
   {
    "duration": 10,
    "start_time": "2022-05-31T20:53:50.857Z"
   },
   {
    "duration": 4,
    "start_time": "2022-05-31T20:53:50.871Z"
   },
   {
    "duration": 9,
    "start_time": "2022-05-31T20:53:50.877Z"
   },
   {
    "duration": 10,
    "start_time": "2022-05-31T20:53:50.888Z"
   },
   {
    "duration": 12,
    "start_time": "2022-05-31T20:53:50.899Z"
   },
   {
    "duration": 6,
    "start_time": "2022-05-31T20:53:50.912Z"
   },
   {
    "duration": 796,
    "start_time": "2022-05-31T20:53:50.919Z"
   },
   {
    "duration": 40,
    "start_time": "2022-05-31T20:53:51.716Z"
   },
   {
    "duration": 41,
    "start_time": "2022-05-31T20:53:51.757Z"
   },
   {
    "duration": 3,
    "start_time": "2022-05-31T20:53:51.799Z"
   },
   {
    "duration": 145,
    "start_time": "2022-05-31T20:53:51.803Z"
   },
   {
    "duration": 12,
    "start_time": "2022-05-31T20:53:51.954Z"
   },
   {
    "duration": 63,
    "start_time": "2022-05-31T20:53:51.968Z"
   },
   {
    "duration": 2082,
    "start_time": "2022-05-31T20:53:52.032Z"
   },
   {
    "duration": 418,
    "start_time": "2022-05-31T20:53:54.116Z"
   },
   {
    "duration": 407,
    "start_time": "2022-05-31T20:53:54.535Z"
   },
   {
    "duration": 11,
    "start_time": "2022-05-31T20:53:54.944Z"
   },
   {
    "duration": 366,
    "start_time": "2022-05-31T20:53:54.957Z"
   },
   {
    "duration": 161,
    "start_time": "2022-05-31T20:53:55.325Z"
   },
   {
    "duration": 160,
    "start_time": "2022-05-31T20:53:55.488Z"
   },
   {
    "duration": 156,
    "start_time": "2022-05-31T20:53:55.649Z"
   },
   {
    "duration": 150,
    "start_time": "2022-05-31T20:53:55.806Z"
   },
   {
    "duration": 2,
    "start_time": "2022-05-31T20:53:55.958Z"
   },
   {
    "duration": 56,
    "start_time": "2022-05-31T20:53:55.962Z"
   },
   {
    "duration": 35,
    "start_time": "2022-05-31T20:53:56.019Z"
   },
   {
    "duration": 184,
    "start_time": "2022-05-31T20:53:56.056Z"
   },
   {
    "duration": 19,
    "start_time": "2022-05-31T20:53:56.241Z"
   },
   {
    "duration": 13,
    "start_time": "2022-05-31T20:53:56.262Z"
   },
   {
    "duration": 9,
    "start_time": "2022-05-31T20:53:56.276Z"
   },
   {
    "duration": 15,
    "start_time": "2022-05-31T20:53:56.286Z"
   },
   {
    "duration": 187,
    "start_time": "2022-05-31T20:53:56.302Z"
   },
   {
    "duration": 8,
    "start_time": "2022-05-31T20:53:56.490Z"
   },
   {
    "duration": 411,
    "start_time": "2022-05-31T20:53:56.499Z"
   },
   {
    "duration": 164,
    "start_time": "2022-05-31T20:53:56.911Z"
   },
   {
    "duration": 163,
    "start_time": "2022-05-31T20:53:57.076Z"
   },
   {
    "duration": 20,
    "start_time": "2022-05-31T20:53:57.241Z"
   },
   {
    "duration": 22,
    "start_time": "2022-05-31T20:53:57.262Z"
   },
   {
    "duration": 106,
    "start_time": "2022-05-31T20:58:11.363Z"
   },
   {
    "duration": 6,
    "start_time": "2022-05-31T20:58:11.473Z"
   },
   {
    "duration": 10,
    "start_time": "2022-05-31T20:58:11.481Z"
   },
   {
    "duration": 42,
    "start_time": "2022-05-31T20:58:11.493Z"
   },
   {
    "duration": 25,
    "start_time": "2022-05-31T20:58:11.537Z"
   },
   {
    "duration": 103,
    "start_time": "2022-05-31T20:58:11.565Z"
   },
   {
    "duration": 13,
    "start_time": "2022-05-31T20:58:11.670Z"
   },
   {
    "duration": 5,
    "start_time": "2022-05-31T20:58:11.684Z"
   },
   {
    "duration": 6,
    "start_time": "2022-05-31T20:58:11.690Z"
   },
   {
    "duration": 4,
    "start_time": "2022-05-31T20:58:11.699Z"
   },
   {
    "duration": 5,
    "start_time": "2022-05-31T20:58:11.705Z"
   },
   {
    "duration": 59,
    "start_time": "2022-05-31T20:58:11.711Z"
   },
   {
    "duration": 7,
    "start_time": "2022-05-31T20:58:11.772Z"
   },
   {
    "duration": 12,
    "start_time": "2022-05-31T20:58:11.781Z"
   },
   {
    "duration": 10,
    "start_time": "2022-05-31T20:58:11.795Z"
   },
   {
    "duration": 8,
    "start_time": "2022-05-31T20:58:11.806Z"
   },
   {
    "duration": 3,
    "start_time": "2022-05-31T20:58:11.815Z"
   },
   {
    "duration": 6,
    "start_time": "2022-05-31T20:58:11.820Z"
   },
   {
    "duration": 6,
    "start_time": "2022-05-31T20:58:11.827Z"
   },
   {
    "duration": 36,
    "start_time": "2022-05-31T20:58:11.834Z"
   },
   {
    "duration": 11,
    "start_time": "2022-05-31T20:58:11.872Z"
   },
   {
    "duration": 9,
    "start_time": "2022-05-31T20:58:11.884Z"
   },
   {
    "duration": 9,
    "start_time": "2022-05-31T20:58:11.894Z"
   },
   {
    "duration": 17,
    "start_time": "2022-05-31T20:58:11.904Z"
   },
   {
    "duration": 17,
    "start_time": "2022-05-31T20:58:11.922Z"
   },
   {
    "duration": 6,
    "start_time": "2022-05-31T20:58:11.966Z"
   },
   {
    "duration": 14,
    "start_time": "2022-05-31T20:58:11.973Z"
   },
   {
    "duration": 302,
    "start_time": "2022-05-31T20:58:11.990Z"
   },
   {
    "duration": 471,
    "start_time": "2022-05-31T20:58:12.294Z"
   },
   {
    "duration": 10,
    "start_time": "2022-05-31T20:58:12.767Z"
   },
   {
    "duration": 605,
    "start_time": "2022-05-31T20:58:12.778Z"
   },
   {
    "duration": 288,
    "start_time": "2022-05-31T20:58:13.385Z"
   },
   {
    "duration": 115,
    "start_time": "2022-05-31T20:58:13.674Z"
   },
   {
    "duration": 12,
    "start_time": "2022-05-31T20:58:13.790Z"
   },
   {
    "duration": 223,
    "start_time": "2022-05-31T20:58:13.804Z"
   },
   {
    "duration": 3,
    "start_time": "2022-05-31T20:58:14.028Z"
   },
   {
    "duration": 4,
    "start_time": "2022-05-31T20:58:14.032Z"
   },
   {
    "duration": 28,
    "start_time": "2022-05-31T20:58:14.038Z"
   },
   {
    "duration": 7,
    "start_time": "2022-05-31T20:58:14.068Z"
   },
   {
    "duration": 8,
    "start_time": "2022-05-31T20:58:14.077Z"
   },
   {
    "duration": 4,
    "start_time": "2022-05-31T20:58:14.086Z"
   },
   {
    "duration": 8,
    "start_time": "2022-05-31T20:58:14.092Z"
   },
   {
    "duration": 8,
    "start_time": "2022-05-31T20:58:14.101Z"
   },
   {
    "duration": 7,
    "start_time": "2022-05-31T20:58:14.110Z"
   },
   {
    "duration": 5,
    "start_time": "2022-05-31T20:58:14.118Z"
   },
   {
    "duration": 774,
    "start_time": "2022-05-31T20:58:14.124Z"
   },
   {
    "duration": 33,
    "start_time": "2022-05-31T20:58:14.899Z"
   },
   {
    "duration": 61,
    "start_time": "2022-05-31T20:58:14.933Z"
   },
   {
    "duration": 3,
    "start_time": "2022-05-31T20:58:14.996Z"
   },
   {
    "duration": 172,
    "start_time": "2022-05-31T20:58:15.000Z"
   },
   {
    "duration": 14,
    "start_time": "2022-05-31T20:58:15.174Z"
   },
   {
    "duration": 82,
    "start_time": "2022-05-31T20:58:15.190Z"
   },
   {
    "duration": 2221,
    "start_time": "2022-05-31T20:58:15.274Z"
   },
   {
    "duration": 404,
    "start_time": "2022-05-31T20:58:17.497Z"
   },
   {
    "duration": 438,
    "start_time": "2022-05-31T20:58:17.902Z"
   },
   {
    "duration": 14,
    "start_time": "2022-05-31T20:58:18.341Z"
   },
   {
    "duration": 378,
    "start_time": "2022-05-31T20:58:18.358Z"
   },
   {
    "duration": 162,
    "start_time": "2022-05-31T20:58:18.738Z"
   },
   {
    "duration": 160,
    "start_time": "2022-05-31T20:58:18.902Z"
   },
   {
    "duration": 199,
    "start_time": "2022-05-31T20:58:19.067Z"
   },
   {
    "duration": 165,
    "start_time": "2022-05-31T20:58:19.268Z"
   },
   {
    "duration": 3,
    "start_time": "2022-05-31T20:58:19.435Z"
   },
   {
    "duration": 38,
    "start_time": "2022-05-31T20:58:19.439Z"
   },
   {
    "duration": 21,
    "start_time": "2022-05-31T20:58:19.479Z"
   },
   {
    "duration": 191,
    "start_time": "2022-05-31T20:58:19.501Z"
   },
   {
    "duration": 15,
    "start_time": "2022-05-31T20:58:19.693Z"
   },
   {
    "duration": 13,
    "start_time": "2022-05-31T20:58:19.709Z"
   },
   {
    "duration": 9,
    "start_time": "2022-05-31T20:58:19.724Z"
   },
   {
    "duration": 44,
    "start_time": "2022-05-31T20:58:19.734Z"
   },
   {
    "duration": 165,
    "start_time": "2022-05-31T20:58:19.779Z"
   },
   {
    "duration": 20,
    "start_time": "2022-05-31T20:58:19.946Z"
   },
   {
    "duration": 406,
    "start_time": "2022-05-31T20:58:19.968Z"
   },
   {
    "duration": 157,
    "start_time": "2022-05-31T20:58:20.376Z"
   },
   {
    "duration": 173,
    "start_time": "2022-05-31T20:58:20.535Z"
   },
   {
    "duration": 15,
    "start_time": "2022-05-31T20:58:20.710Z"
   },
   {
    "duration": 44,
    "start_time": "2022-05-31T20:58:20.726Z"
   },
   {
    "duration": 2,
    "start_time": "2022-05-31T20:58:53.202Z"
   },
   {
    "duration": 140,
    "start_time": "2022-05-31T20:58:55.767Z"
   },
   {
    "duration": 3,
    "start_time": "2022-05-31T20:59:17.920Z"
   },
   {
    "duration": 3,
    "start_time": "2022-05-31T21:00:00.891Z"
   },
   {
    "duration": 162,
    "start_time": "2022-05-31T21:00:02.711Z"
   },
   {
    "duration": 14,
    "start_time": "2022-05-31T21:00:05.396Z"
   },
   {
    "duration": 94,
    "start_time": "2022-05-31T21:00:33.527Z"
   },
   {
    "duration": 5,
    "start_time": "2022-05-31T21:00:33.624Z"
   },
   {
    "duration": 20,
    "start_time": "2022-05-31T21:00:33.630Z"
   },
   {
    "duration": 32,
    "start_time": "2022-05-31T21:00:33.655Z"
   },
   {
    "duration": 32,
    "start_time": "2022-05-31T21:00:33.689Z"
   },
   {
    "duration": 89,
    "start_time": "2022-05-31T21:00:33.723Z"
   },
   {
    "duration": 12,
    "start_time": "2022-05-31T21:00:33.814Z"
   },
   {
    "duration": 4,
    "start_time": "2022-05-31T21:00:33.828Z"
   },
   {
    "duration": 8,
    "start_time": "2022-05-31T21:00:33.855Z"
   },
   {
    "duration": 6,
    "start_time": "2022-05-31T21:00:33.866Z"
   },
   {
    "duration": 9,
    "start_time": "2022-05-31T21:00:33.874Z"
   },
   {
    "duration": 11,
    "start_time": "2022-05-31T21:00:33.885Z"
   },
   {
    "duration": 8,
    "start_time": "2022-05-31T21:00:33.898Z"
   },
   {
    "duration": 13,
    "start_time": "2022-05-31T21:00:33.908Z"
   },
   {
    "duration": 33,
    "start_time": "2022-05-31T21:00:33.922Z"
   },
   {
    "duration": 6,
    "start_time": "2022-05-31T21:00:33.957Z"
   },
   {
    "duration": 6,
    "start_time": "2022-05-31T21:00:33.964Z"
   },
   {
    "duration": 9,
    "start_time": "2022-05-31T21:00:33.971Z"
   },
   {
    "duration": 7,
    "start_time": "2022-05-31T21:00:33.981Z"
   },
   {
    "duration": 15,
    "start_time": "2022-05-31T21:00:33.989Z"
   },
   {
    "duration": 49,
    "start_time": "2022-05-31T21:00:34.006Z"
   },
   {
    "duration": 10,
    "start_time": "2022-05-31T21:00:34.057Z"
   },
   {
    "duration": 11,
    "start_time": "2022-05-31T21:00:34.069Z"
   },
   {
    "duration": 13,
    "start_time": "2022-05-31T21:00:34.081Z"
   },
   {
    "duration": 19,
    "start_time": "2022-05-31T21:00:34.096Z"
   },
   {
    "duration": 40,
    "start_time": "2022-05-31T21:00:34.117Z"
   },
   {
    "duration": 15,
    "start_time": "2022-05-31T21:00:34.158Z"
   },
   {
    "duration": 306,
    "start_time": "2022-05-31T21:00:34.177Z"
   },
   {
    "duration": 466,
    "start_time": "2022-05-31T21:00:34.485Z"
   },
   {
    "duration": 9,
    "start_time": "2022-05-31T21:00:34.954Z"
   },
   {
    "duration": 677,
    "start_time": "2022-05-31T21:00:34.964Z"
   },
   {
    "duration": 269,
    "start_time": "2022-05-31T21:00:35.642Z"
   },
   {
    "duration": 123,
    "start_time": "2022-05-31T21:00:35.912Z"
   },
   {
    "duration": 22,
    "start_time": "2022-05-31T21:00:36.037Z"
   },
   {
    "duration": 229,
    "start_time": "2022-05-31T21:00:36.061Z"
   },
   {
    "duration": 3,
    "start_time": "2022-05-31T21:00:36.292Z"
   },
   {
    "duration": 10,
    "start_time": "2022-05-31T21:00:36.297Z"
   },
   {
    "duration": 11,
    "start_time": "2022-05-31T21:00:36.309Z"
   },
   {
    "duration": 7,
    "start_time": "2022-05-31T21:00:36.322Z"
   },
   {
    "duration": 14,
    "start_time": "2022-05-31T21:00:36.331Z"
   },
   {
    "duration": 16,
    "start_time": "2022-05-31T21:00:36.347Z"
   },
   {
    "duration": 12,
    "start_time": "2022-05-31T21:00:36.365Z"
   },
   {
    "duration": 7,
    "start_time": "2022-05-31T21:00:36.378Z"
   },
   {
    "duration": 8,
    "start_time": "2022-05-31T21:00:36.386Z"
   },
   {
    "duration": 11,
    "start_time": "2022-05-31T21:00:36.395Z"
   },
   {
    "duration": 778,
    "start_time": "2022-05-31T21:00:36.408Z"
   },
   {
    "duration": 34,
    "start_time": "2022-05-31T21:00:37.187Z"
   },
   {
    "duration": 56,
    "start_time": "2022-05-31T21:00:37.222Z"
   },
   {
    "duration": 4,
    "start_time": "2022-05-31T21:00:37.280Z"
   },
   {
    "duration": 296,
    "start_time": "2022-05-31T21:00:37.285Z"
   },
   {
    "duration": 15,
    "start_time": "2022-05-31T21:00:37.583Z"
   },
   {
    "duration": 103,
    "start_time": "2022-05-31T21:00:37.601Z"
   },
   {
    "duration": 2318,
    "start_time": "2022-05-31T21:00:37.706Z"
   },
   {
    "duration": 563,
    "start_time": "2022-05-31T21:00:40.026Z"
   },
   {
    "duration": 318,
    "start_time": "2022-05-31T21:00:40.591Z"
   },
   {
    "duration": 6,
    "start_time": "2022-05-31T21:00:40.911Z"
   },
   {
    "duration": 433,
    "start_time": "2022-05-31T21:00:40.918Z"
   },
   {
    "duration": 216,
    "start_time": "2022-05-31T21:00:41.354Z"
   },
   {
    "duration": 192,
    "start_time": "2022-05-31T21:00:41.572Z"
   },
   {
    "duration": 177,
    "start_time": "2022-05-31T21:00:41.765Z"
   },
   {
    "duration": 164,
    "start_time": "2022-05-31T21:00:41.944Z"
   },
   {
    "duration": 3,
    "start_time": "2022-05-31T21:00:42.110Z"
   },
   {
    "duration": 31,
    "start_time": "2022-05-31T21:00:42.115Z"
   },
   {
    "duration": 25,
    "start_time": "2022-05-31T21:00:42.154Z"
   },
   {
    "duration": 196,
    "start_time": "2022-05-31T21:00:42.181Z"
   },
   {
    "duration": 15,
    "start_time": "2022-05-31T21:00:42.378Z"
   },
   {
    "duration": 15,
    "start_time": "2022-05-31T21:00:42.395Z"
   },
   {
    "duration": 12,
    "start_time": "2022-05-31T21:00:42.411Z"
   },
   {
    "duration": 135,
    "start_time": "2022-05-31T21:00:42.425Z"
   },
   {
    "duration": 203,
    "start_time": "2022-05-31T21:00:42.561Z"
   },
   {
    "duration": 8,
    "start_time": "2022-05-31T21:00:42.766Z"
   },
   {
    "duration": 364,
    "start_time": "2022-05-31T21:00:42.776Z"
   },
   {
    "duration": 193,
    "start_time": "2022-05-31T21:00:43.141Z"
   },
   {
    "duration": 184,
    "start_time": "2022-05-31T21:00:43.335Z"
   },
   {
    "duration": 16,
    "start_time": "2022-05-31T21:00:43.521Z"
   },
   {
    "duration": 25,
    "start_time": "2022-05-31T21:00:43.555Z"
   },
   {
    "duration": 4,
    "start_time": "2022-05-31T21:15:18.000Z"
   },
   {
    "duration": 32,
    "start_time": "2022-05-31T21:35:36.999Z"
   },
   {
    "duration": 74,
    "start_time": "2022-05-31T21:37:12.509Z"
   },
   {
    "duration": 6,
    "start_time": "2022-05-31T21:37:15.976Z"
   },
   {
    "duration": 8,
    "start_time": "2022-05-31T21:37:28.292Z"
   },
   {
    "duration": 8,
    "start_time": "2022-05-31T21:37:44.580Z"
   },
   {
    "duration": 7,
    "start_time": "2022-05-31T21:37:49.102Z"
   },
   {
    "duration": 7,
    "start_time": "2022-05-31T21:37:53.370Z"
   },
   {
    "duration": 13,
    "start_time": "2022-05-31T21:38:14.088Z"
   },
   {
    "duration": 16,
    "start_time": "2022-05-31T21:38:34.869Z"
   },
   {
    "duration": 19,
    "start_time": "2022-05-31T21:39:15.359Z"
   },
   {
    "duration": 20,
    "start_time": "2022-05-31T21:39:20.654Z"
   },
   {
    "duration": 26,
    "start_time": "2022-05-31T21:40:56.505Z"
   },
   {
    "duration": 33,
    "start_time": "2022-05-31T21:41:02.207Z"
   },
   {
    "duration": 31,
    "start_time": "2022-05-31T21:41:45.400Z"
   },
   {
    "duration": 35,
    "start_time": "2022-05-31T21:41:50.305Z"
   },
   {
    "duration": 6,
    "start_time": "2022-05-31T21:43:12.759Z"
   },
   {
    "duration": 12,
    "start_time": "2022-05-31T21:43:19.630Z"
   },
   {
    "duration": 7,
    "start_time": "2022-05-31T21:43:25.148Z"
   },
   {
    "duration": 6,
    "start_time": "2022-05-31T21:43:30.335Z"
   },
   {
    "duration": 5,
    "start_time": "2022-05-31T21:43:39.630Z"
   },
   {
    "duration": 42,
    "start_time": "2022-05-31T21:44:01.314Z"
   },
   {
    "duration": 31,
    "start_time": "2022-05-31T21:44:06.338Z"
   },
   {
    "duration": 757,
    "start_time": "2022-05-31T21:47:51.851Z"
   },
   {
    "duration": 5,
    "start_time": "2022-05-31T21:47:52.610Z"
   },
   {
    "duration": 5,
    "start_time": "2022-05-31T21:47:52.616Z"
   },
   {
    "duration": 36,
    "start_time": "2022-05-31T21:47:52.622Z"
   },
   {
    "duration": 12,
    "start_time": "2022-05-31T21:47:52.660Z"
   },
   {
    "duration": 89,
    "start_time": "2022-05-31T21:47:52.673Z"
   },
   {
    "duration": 12,
    "start_time": "2022-05-31T21:47:52.763Z"
   },
   {
    "duration": 4,
    "start_time": "2022-05-31T21:47:52.777Z"
   },
   {
    "duration": 7,
    "start_time": "2022-05-31T21:47:52.783Z"
   },
   {
    "duration": 5,
    "start_time": "2022-05-31T21:47:52.792Z"
   },
   {
    "duration": 8,
    "start_time": "2022-05-31T21:47:52.798Z"
   },
   {
    "duration": 26,
    "start_time": "2022-05-31T21:47:52.808Z"
   },
   {
    "duration": 25,
    "start_time": "2022-05-31T21:47:52.835Z"
   },
   {
    "duration": 6,
    "start_time": "2022-05-31T21:47:52.863Z"
   },
   {
    "duration": 8,
    "start_time": "2022-05-31T21:47:52.870Z"
   },
   {
    "duration": 5,
    "start_time": "2022-05-31T21:47:52.880Z"
   },
   {
    "duration": 3,
    "start_time": "2022-05-31T21:47:52.887Z"
   },
   {
    "duration": 8,
    "start_time": "2022-05-31T21:47:52.892Z"
   },
   {
    "duration": 8,
    "start_time": "2022-05-31T21:47:52.902Z"
   },
   {
    "duration": 48,
    "start_time": "2022-05-31T21:47:52.911Z"
   },
   {
    "duration": 11,
    "start_time": "2022-05-31T21:47:52.960Z"
   },
   {
    "duration": 8,
    "start_time": "2022-05-31T21:47:52.973Z"
   },
   {
    "duration": 21,
    "start_time": "2022-05-31T21:47:52.982Z"
   },
   {
    "duration": 15,
    "start_time": "2022-05-31T21:47:53.004Z"
   },
   {
    "duration": 20,
    "start_time": "2022-05-31T21:47:53.021Z"
   },
   {
    "duration": 4,
    "start_time": "2022-05-31T21:47:53.055Z"
   },
   {
    "duration": 39,
    "start_time": "2022-05-31T21:47:53.060Z"
   },
   {
    "duration": 6,
    "start_time": "2022-05-31T21:47:53.101Z"
   },
   {
    "duration": 23,
    "start_time": "2022-05-31T21:47:53.108Z"
   },
   {
    "duration": 303,
    "start_time": "2022-05-31T21:47:53.133Z"
   },
   {
    "duration": 459,
    "start_time": "2022-05-31T21:47:53.437Z"
   },
   {
    "duration": 9,
    "start_time": "2022-05-31T21:47:53.897Z"
   },
   {
    "duration": 505,
    "start_time": "2022-05-31T21:47:53.908Z"
   },
   {
    "duration": 308,
    "start_time": "2022-05-31T21:47:54.414Z"
   },
   {
    "duration": 117,
    "start_time": "2022-05-31T21:47:54.723Z"
   },
   {
    "duration": 21,
    "start_time": "2022-05-31T21:47:54.841Z"
   },
   {
    "duration": 204,
    "start_time": "2022-05-31T21:47:54.863Z"
   },
   {
    "duration": 3,
    "start_time": "2022-05-31T21:47:55.069Z"
   },
   {
    "duration": 6,
    "start_time": "2022-05-31T21:47:55.074Z"
   },
   {
    "duration": 5,
    "start_time": "2022-05-31T21:47:55.082Z"
   },
   {
    "duration": 5,
    "start_time": "2022-05-31T21:47:55.091Z"
   },
   {
    "duration": 9,
    "start_time": "2022-05-31T21:47:55.098Z"
   },
   {
    "duration": 12,
    "start_time": "2022-05-31T21:47:55.109Z"
   },
   {
    "duration": 14,
    "start_time": "2022-05-31T21:47:55.122Z"
   },
   {
    "duration": 12,
    "start_time": "2022-05-31T21:47:55.138Z"
   },
   {
    "duration": 6,
    "start_time": "2022-05-31T21:47:55.152Z"
   },
   {
    "duration": 8,
    "start_time": "2022-05-31T21:47:55.159Z"
   },
   {
    "duration": 714,
    "start_time": "2022-05-31T21:47:55.169Z"
   },
   {
    "duration": 31,
    "start_time": "2022-05-31T21:47:55.885Z"
   },
   {
    "duration": 54,
    "start_time": "2022-05-31T21:47:55.918Z"
   },
   {
    "duration": 2,
    "start_time": "2022-05-31T21:47:55.974Z"
   },
   {
    "duration": 143,
    "start_time": "2022-05-31T21:47:55.978Z"
   },
   {
    "duration": 13,
    "start_time": "2022-05-31T21:47:56.123Z"
   },
   {
    "duration": 76,
    "start_time": "2022-05-31T21:47:56.137Z"
   },
   {
    "duration": 2067,
    "start_time": "2022-05-31T21:47:56.214Z"
   },
   {
    "duration": 393,
    "start_time": "2022-05-31T21:47:58.282Z"
   },
   {
    "duration": 392,
    "start_time": "2022-05-31T21:47:58.676Z"
   },
   {
    "duration": 5,
    "start_time": "2022-05-31T21:47:59.070Z"
   },
   {
    "duration": 421,
    "start_time": "2022-05-31T21:47:59.076Z"
   },
   {
    "duration": 158,
    "start_time": "2022-05-31T21:47:59.499Z"
   },
   {
    "duration": 163,
    "start_time": "2022-05-31T21:47:59.659Z"
   },
   {
    "duration": 161,
    "start_time": "2022-05-31T21:47:59.823Z"
   },
   {
    "duration": 151,
    "start_time": "2022-05-31T21:47:59.985Z"
   },
   {
    "duration": 4,
    "start_time": "2022-05-31T21:48:00.137Z"
   },
   {
    "duration": 70,
    "start_time": "2022-05-31T21:48:00.142Z"
   },
   {
    "duration": 24,
    "start_time": "2022-05-31T21:48:00.213Z"
   },
   {
    "duration": 213,
    "start_time": "2022-05-31T21:48:00.238Z"
   },
   {
    "duration": 15,
    "start_time": "2022-05-31T21:48:00.455Z"
   },
   {
    "duration": 17,
    "start_time": "2022-05-31T21:48:00.472Z"
   },
   {
    "duration": 13,
    "start_time": "2022-05-31T21:48:00.491Z"
   },
   {
    "duration": 27,
    "start_time": "2022-05-31T21:48:00.506Z"
   },
   {
    "duration": 192,
    "start_time": "2022-05-31T21:48:00.535Z"
   },
   {
    "duration": 8,
    "start_time": "2022-05-31T21:48:00.729Z"
   },
   {
    "duration": 427,
    "start_time": "2022-05-31T21:48:00.738Z"
   },
   {
    "duration": 180,
    "start_time": "2022-05-31T21:48:01.167Z"
   },
   {
    "duration": 227,
    "start_time": "2022-05-31T21:48:01.349Z"
   },
   {
    "duration": 21,
    "start_time": "2022-05-31T21:48:01.578Z"
   },
   {
    "duration": 56,
    "start_time": "2022-05-31T21:48:01.600Z"
   },
   {
    "duration": 72,
    "start_time": "2022-06-01T16:36:23.160Z"
   },
   {
    "duration": 875,
    "start_time": "2022-06-01T16:36:31.542Z"
   },
   {
    "duration": 5,
    "start_time": "2022-06-01T16:36:32.419Z"
   },
   {
    "duration": 11,
    "start_time": "2022-06-01T16:36:32.426Z"
   },
   {
    "duration": 38,
    "start_time": "2022-06-01T16:36:32.440Z"
   },
   {
    "duration": 15,
    "start_time": "2022-06-01T16:36:32.479Z"
   },
   {
    "duration": 102,
    "start_time": "2022-06-01T16:36:32.495Z"
   },
   {
    "duration": 12,
    "start_time": "2022-06-01T16:36:32.598Z"
   },
   {
    "duration": 14,
    "start_time": "2022-06-01T16:36:32.612Z"
   },
   {
    "duration": 15,
    "start_time": "2022-06-01T16:36:32.628Z"
   },
   {
    "duration": 6,
    "start_time": "2022-06-01T16:36:32.646Z"
   },
   {
    "duration": 9,
    "start_time": "2022-06-01T16:36:32.654Z"
   },
   {
    "duration": 15,
    "start_time": "2022-06-01T16:36:32.665Z"
   },
   {
    "duration": 9,
    "start_time": "2022-06-01T16:36:32.682Z"
   },
   {
    "duration": 30,
    "start_time": "2022-06-01T16:36:32.693Z"
   },
   {
    "duration": 7,
    "start_time": "2022-06-01T16:36:32.725Z"
   },
   {
    "duration": 7,
    "start_time": "2022-06-01T16:36:32.733Z"
   },
   {
    "duration": 4,
    "start_time": "2022-06-01T16:36:32.742Z"
   },
   {
    "duration": 13,
    "start_time": "2022-06-01T16:36:32.748Z"
   },
   {
    "duration": 10,
    "start_time": "2022-06-01T16:36:32.763Z"
   },
   {
    "duration": 13,
    "start_time": "2022-06-01T16:36:32.774Z"
   },
   {
    "duration": 50,
    "start_time": "2022-06-01T16:36:32.789Z"
   },
   {
    "duration": 14,
    "start_time": "2022-06-01T16:36:32.842Z"
   },
   {
    "duration": 21,
    "start_time": "2022-06-01T16:36:32.858Z"
   },
   {
    "duration": 20,
    "start_time": "2022-06-01T16:36:32.881Z"
   },
   {
    "duration": 50,
    "start_time": "2022-06-01T16:36:32.903Z"
   },
   {
    "duration": 7,
    "start_time": "2022-06-01T16:36:32.955Z"
   },
   {
    "duration": 60,
    "start_time": "2022-06-01T16:36:32.966Z"
   },
   {
    "duration": 8,
    "start_time": "2022-06-01T16:36:33.034Z"
   },
   {
    "duration": 32,
    "start_time": "2022-06-01T16:36:33.044Z"
   },
   {
    "duration": 325,
    "start_time": "2022-06-01T16:36:33.079Z"
   },
   {
    "duration": 534,
    "start_time": "2022-06-01T16:36:33.405Z"
   },
   {
    "duration": 14,
    "start_time": "2022-06-01T16:36:33.955Z"
   },
   {
    "duration": 685,
    "start_time": "2022-06-01T16:36:33.971Z"
   },
   {
    "duration": 9,
    "start_time": "2022-06-01T16:36:34.658Z"
   },
   {
    "duration": 311,
    "start_time": "2022-06-01T16:36:34.669Z"
   },
   {
    "duration": 128,
    "start_time": "2022-06-01T16:36:34.982Z"
   },
   {
    "duration": 21,
    "start_time": "2022-06-01T16:36:35.111Z"
   },
   {
    "duration": 258,
    "start_time": "2022-06-01T16:36:35.134Z"
   },
   {
    "duration": 3,
    "start_time": "2022-06-01T16:36:35.394Z"
   },
   {
    "duration": 11,
    "start_time": "2022-06-01T16:36:35.398Z"
   },
   {
    "duration": 20,
    "start_time": "2022-06-01T16:36:35.410Z"
   },
   {
    "duration": 28,
    "start_time": "2022-06-01T16:36:35.432Z"
   },
   {
    "duration": 18,
    "start_time": "2022-06-01T16:36:35.462Z"
   },
   {
    "duration": 18,
    "start_time": "2022-06-01T16:36:35.481Z"
   },
   {
    "duration": 20,
    "start_time": "2022-06-01T16:36:35.500Z"
   },
   {
    "duration": 30,
    "start_time": "2022-06-01T16:36:35.521Z"
   },
   {
    "duration": 11,
    "start_time": "2022-06-01T16:36:35.553Z"
   },
   {
    "duration": 6,
    "start_time": "2022-06-01T16:36:35.566Z"
   },
   {
    "duration": 1386,
    "start_time": "2022-06-01T16:36:35.574Z"
   },
   {
    "duration": 90,
    "start_time": "2022-06-01T16:36:36.962Z"
   },
   {
    "duration": 96,
    "start_time": "2022-06-01T16:36:37.053Z"
   },
   {
    "duration": 3,
    "start_time": "2022-06-01T16:36:37.151Z"
   },
   {
    "duration": 192,
    "start_time": "2022-06-01T16:36:37.155Z"
   },
   {
    "duration": 14,
    "start_time": "2022-06-01T16:36:37.349Z"
   },
   {
    "duration": 95,
    "start_time": "2022-06-01T16:36:37.365Z"
   },
   {
    "duration": 2399,
    "start_time": "2022-06-01T16:36:37.463Z"
   },
   {
    "duration": 452,
    "start_time": "2022-06-01T16:36:39.864Z"
   },
   {
    "duration": 464,
    "start_time": "2022-06-01T16:36:40.322Z"
   },
   {
    "duration": 5,
    "start_time": "2022-06-01T16:36:40.787Z"
   },
   {
    "duration": 403,
    "start_time": "2022-06-01T16:36:40.794Z"
   },
   {
    "duration": 181,
    "start_time": "2022-06-01T16:36:41.198Z"
   },
   {
    "duration": 210,
    "start_time": "2022-06-01T16:36:41.380Z"
   },
   {
    "duration": 203,
    "start_time": "2022-06-01T16:36:41.592Z"
   },
   {
    "duration": 172,
    "start_time": "2022-06-01T16:36:41.797Z"
   },
   {
    "duration": 4,
    "start_time": "2022-06-01T16:36:41.971Z"
   },
   {
    "duration": 78,
    "start_time": "2022-06-01T16:36:41.976Z"
   },
   {
    "duration": 25,
    "start_time": "2022-06-01T16:36:42.056Z"
   },
   {
    "duration": 216,
    "start_time": "2022-06-01T16:36:42.083Z"
   },
   {
    "duration": 23,
    "start_time": "2022-06-01T16:36:42.301Z"
   },
   {
    "duration": 18,
    "start_time": "2022-06-01T16:36:42.326Z"
   },
   {
    "duration": 11,
    "start_time": "2022-06-01T16:36:42.346Z"
   },
   {
    "duration": 18,
    "start_time": "2022-06-01T16:36:42.359Z"
   },
   {
    "duration": 210,
    "start_time": "2022-06-01T16:36:42.379Z"
   },
   {
    "duration": 11,
    "start_time": "2022-06-01T16:36:42.591Z"
   },
   {
    "duration": 547,
    "start_time": "2022-06-01T16:36:42.603Z"
   },
   {
    "duration": 170,
    "start_time": "2022-06-01T16:36:43.152Z"
   },
   {
    "duration": 193,
    "start_time": "2022-06-01T16:36:43.324Z"
   },
   {
    "duration": 23,
    "start_time": "2022-06-01T16:36:43.522Z"
   },
   {
    "duration": 28,
    "start_time": "2022-06-01T16:36:43.547Z"
   },
   {
    "duration": 2038,
    "start_time": "2022-07-04T10:42:41.279Z"
   },
   {
    "duration": 164,
    "start_time": "2022-07-04T10:42:43.319Z"
   },
   {
    "duration": 19,
    "start_time": "2022-07-04T10:42:43.485Z"
   },
   {
    "duration": 11,
    "start_time": "2022-07-04T10:42:43.506Z"
   },
   {
    "duration": 39,
    "start_time": "2022-07-04T10:42:43.520Z"
   },
   {
    "duration": 8,
    "start_time": "2022-07-04T10:42:43.561Z"
   },
   {
    "duration": 9,
    "start_time": "2022-07-04T10:42:43.571Z"
   },
   {
    "duration": 19,
    "start_time": "2022-07-04T10:42:43.582Z"
   },
   {
    "duration": 75,
    "start_time": "2022-07-04T10:42:43.602Z"
   },
   {
    "duration": 3635,
    "start_time": "2022-07-04T10:42:43.679Z"
   },
   {
    "duration": 63,
    "start_time": "2022-07-04T10:42:47.316Z"
   },
   {
    "duration": 247,
    "start_time": "2022-07-04T10:42:47.381Z"
   },
   {
    "duration": 96,
    "start_time": "2022-07-04T10:42:47.637Z"
   },
   {
    "duration": 12,
    "start_time": "2022-07-04T10:42:47.736Z"
   },
   {
    "duration": 11,
    "start_time": "2022-07-04T10:43:09.323Z"
   },
   {
    "duration": 27,
    "start_time": "2022-07-04T10:43:11.525Z"
   },
   {
    "duration": 11,
    "start_time": "2022-07-04T10:43:11.979Z"
   },
   {
    "duration": 3,
    "start_time": "2022-07-04T10:43:14.587Z"
   },
   {
    "duration": 6,
    "start_time": "2022-07-04T10:43:17.155Z"
   },
   {
    "duration": 40,
    "start_time": "2022-07-04T10:43:24.587Z"
   },
   {
    "duration": 275,
    "start_time": "2022-07-04T10:43:25.882Z"
   },
   {
    "duration": 104,
    "start_time": "2022-07-04T10:43:27.189Z"
   },
   {
    "duration": 10,
    "start_time": "2022-07-04T10:43:29.793Z"
   },
   {
    "duration": 35,
    "start_time": "2022-07-04T18:24:19.048Z"
   },
   {
    "duration": 1648,
    "start_time": "2022-07-04T18:37:51.051Z"
   },
   {
    "duration": 44,
    "start_time": "2022-07-04T18:37:52.701Z"
   },
   {
    "duration": 19,
    "start_time": "2022-07-04T18:37:52.747Z"
   },
   {
    "duration": 13,
    "start_time": "2022-07-04T18:37:52.768Z"
   },
   {
    "duration": 5,
    "start_time": "2022-07-04T18:37:52.783Z"
   },
   {
    "duration": 16,
    "start_time": "2022-07-04T18:37:52.791Z"
   },
   {
    "duration": 17,
    "start_time": "2022-07-04T18:37:52.810Z"
   },
   {
    "duration": 9,
    "start_time": "2022-07-04T18:37:52.829Z"
   },
   {
    "duration": 88,
    "start_time": "2022-07-04T18:37:52.840Z"
   },
   {
    "duration": 3348,
    "start_time": "2022-07-04T18:37:52.930Z"
   },
   {
    "duration": 52,
    "start_time": "2022-07-04T18:37:56.280Z"
   },
   {
    "duration": 275,
    "start_time": "2022-07-04T18:37:56.334Z"
   },
   {
    "duration": 102,
    "start_time": "2022-07-04T18:37:56.611Z"
   },
   {
    "duration": 16,
    "start_time": "2022-07-04T18:37:56.716Z"
   }
  ],
  "kernelspec": {
   "display_name": "Python 3 (ipykernel)",
   "language": "python",
   "name": "python3"
  },
  "language_info": {
   "codemirror_mode": {
    "name": "ipython",
    "version": 3
   },
   "file_extension": ".py",
   "mimetype": "text/x-python",
   "name": "python",
   "nbconvert_exporter": "python",
   "pygments_lexer": "ipython3",
   "version": "3.9.7"
  },
  "toc": {
   "base_numbering": 1,
   "nav_menu": {},
   "number_sections": false,
   "sideBar": true,
   "skip_h1_title": true,
   "title_cell": "Содержание",
   "title_sidebar": "Contents",
   "toc_cell": false,
   "toc_position": {},
   "toc_section_display": true,
   "toc_window_display": false
  }
 },
 "nbformat": 4,
 "nbformat_minor": 4
}
