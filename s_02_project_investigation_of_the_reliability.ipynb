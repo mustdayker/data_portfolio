{
 "cells": [
  {
   "cell_type": "markdown",
   "id": "f6d6f1da",
   "metadata": {},
   "source": [
    "<h1><p style=\"text-align: center;\">Исследование надежности заемщиков</p></h1>"
   ]
  },
  {
   "cell_type": "markdown",
   "id": "039a60b4",
   "metadata": {},
   "source": [
    "## Оглавление\n",
    " \n",
    "- [**Введение**](#intro)\n",
    "    - [Цель исследования](#purpose)\n",
    "    - [Ход исследования](#progress)\n",
    "- [**1. Обзор данных**](#review)\n",
    "    - [Выводы](#review_conclusions)\n",
    "- [**2. Предобработка данных**](#preprocessing)\n",
    "    - [2.1 Заполнение пропусков](#fill_a_pass)\n",
    "    - [2.2 Проверка данных на аномалии и исправления](#anomalies)\n",
    "        - [Итоги работы с пропусками и аномальными значениями](#anomalies_conclusion)\n",
    "    - [2.3 Изменение типов данных](#change_type)\n",
    "    - [2.4 Удаление дубликатов](#duplicate_delete)\n",
    "        - [Итоги работы с дубликатами](#duplicates_conclusion)\n",
    "    - [2.5 Формирование дополнительных датафреймов словарей, декомпозиция исходного датафрейма](#add_df)\n",
    "        - [Итоги работы с ДатаФреймами](#add_df_conclusion)\n",
    "    - [2.6 Категоризация дохода](#category_income)\n",
    "    - [2.7 Категоризация целей кредита](#category_purpose)\n",
    "- [**3. Ответы на вопросы**](#questions)\n",
    "    - [3.1 Есть ли зависимость между количеством детей и возвратом кредита в срок?](#question_01)\n",
    "    - [3.2 Есть ли зависимость между семейным положением и возвратом кредита в срок?](#question_02)\n",
    "    - [3.3 Есть ли зависимость между уровнем дохода и возвратом кредита в срок?](#question_03)\n",
    "    - [3.4 Как разные цели кредита влияют на его возврат в срок?](#question_04)\n",
    "    - [3.5 Есть ли зависимость между образованием и возвратом кредита в срок?](#question_05)\n",
    "- [**4. Итоги исследования**](#final_conclusion)\n",
    "    - [4.1 Общая информация](#final_conclusion_01)\n",
    "    - [4.2 Предобработка данных](#final_conclusion_02)\n",
    "    - [4.3 Подготовка данных к исследованию](#final_conclusion_03)\n",
    "    - [4.4 Результаты исследования](#final_conclusion_04)"
   ]
  },
  {
   "cell_type": "markdown",
   "id": "bcd614d6",
   "metadata": {},
   "source": [
    "<a id='intro'></a>\n",
    "## Введение"
   ]
  },
  {
   "cell_type": "markdown",
   "id": "0fc17c3b",
   "metadata": {},
   "source": [
    "Наш заказчик - кредитный отдел банка. \n",
    "Требуется выяснить, как влияет семейное положение и наличие детей на факт погашения кредита в срок. \n",
    "Результаты наших исследований будут учтены при построении модели кредитного скоринга."
   ]
  },
  {
   "cell_type": "markdown",
   "id": "f2d24017",
   "metadata": {},
   "source": [
    "<a id='purpose'></a>\n",
    "### Цель исследования\n",
    "Ответить на следующие вопросы:\n",
    "- [Есть ли зависимость между количеством детей и возвратом кредита в срок?](#question_01)\n",
    "- [Есть ли зависимость между семейным положением и возвратом кредита в срок?](#question_02)\n",
    "- [Есть ли зависимость между уровнем дохода и возвратом кредита в срок?](#question_03)\n",
    "- [Как разные цели кредита влияют на его возврат в срок?](#question_04)\n",
    "- [Есть ли зависимость между образованием и возвратом кредита в срок?](#question_05)"
   ]
  },
  {
   "cell_type": "markdown",
   "id": "eeff1e4b",
   "metadata": {},
   "source": [
    "<a id='progress'></a>\n",
    "### Ход исследования\n",
    "- Входные данные предоставил нам банк, это статистика о платежеспособности клиентов. \n",
    "- Информации, какого они качества, у нас нет. Требуется самостоятельно проверить данные на пропуски, аномальные значения и дубликаты. И при необходимости исправить/дополнить данные\n",
    "- Исследование пройдет в несколько этапов:\n",
    "    - [Обзор данных](#review)\n",
    "    - [Предобработка данных](#preprocessing)\n",
    "    - [Ответы на вопросы](#questions)\n",
    "    - [Итоги](#final_conclusion)"
   ]
  },
  {
   "cell_type": "markdown",
   "id": "5bdf902a",
   "metadata": {},
   "source": [
    "<a id='review'></a>\n",
    "<h2><p style=\"text-align: center;\">1. Обзор данных</p></h2>"
   ]
  },
  {
   "cell_type": "code",
   "execution_count": 1,
   "id": "ee3ab6ed",
   "metadata": {},
   "outputs": [],
   "source": [
    "import pandas as pd\n",
    "\n",
    "# для того чтобы код работал локально и на Практикуме применим конструкцию try-except\n",
    "try:\n",
    "    df = pd.read_csv('/datasets/data.csv')\n",
    "except:\n",
    "    df = pd.read_csv('datasets/data.csv')"
   ]
  },
  {
   "cell_type": "code",
   "execution_count": 2,
   "id": "c3e88e2b",
   "metadata": {
    "scrolled": true
   },
   "outputs": [
    {
     "data": {
      "text/html": [
       "<div>\n",
       "<style scoped>\n",
       "    .dataframe tbody tr th:only-of-type {\n",
       "        vertical-align: middle;\n",
       "    }\n",
       "\n",
       "    .dataframe tbody tr th {\n",
       "        vertical-align: top;\n",
       "    }\n",
       "\n",
       "    .dataframe thead th {\n",
       "        text-align: right;\n",
       "    }\n",
       "</style>\n",
       "<table border=\"1\" class=\"dataframe\">\n",
       "  <thead>\n",
       "    <tr style=\"text-align: right;\">\n",
       "      <th></th>\n",
       "      <th>children</th>\n",
       "      <th>days_employed</th>\n",
       "      <th>dob_years</th>\n",
       "      <th>education</th>\n",
       "      <th>education_id</th>\n",
       "      <th>family_status</th>\n",
       "      <th>family_status_id</th>\n",
       "      <th>gender</th>\n",
       "      <th>income_type</th>\n",
       "      <th>debt</th>\n",
       "      <th>total_income</th>\n",
       "      <th>purpose</th>\n",
       "    </tr>\n",
       "  </thead>\n",
       "  <tbody>\n",
       "    <tr>\n",
       "      <th>0</th>\n",
       "      <td>1</td>\n",
       "      <td>-8437.673028</td>\n",
       "      <td>42</td>\n",
       "      <td>высшее</td>\n",
       "      <td>0</td>\n",
       "      <td>женат / замужем</td>\n",
       "      <td>0</td>\n",
       "      <td>F</td>\n",
       "      <td>сотрудник</td>\n",
       "      <td>0</td>\n",
       "      <td>253875.639453</td>\n",
       "      <td>покупка жилья</td>\n",
       "    </tr>\n",
       "    <tr>\n",
       "      <th>1</th>\n",
       "      <td>1</td>\n",
       "      <td>-4024.803754</td>\n",
       "      <td>36</td>\n",
       "      <td>среднее</td>\n",
       "      <td>1</td>\n",
       "      <td>женат / замужем</td>\n",
       "      <td>0</td>\n",
       "      <td>F</td>\n",
       "      <td>сотрудник</td>\n",
       "      <td>0</td>\n",
       "      <td>112080.014102</td>\n",
       "      <td>приобретение автомобиля</td>\n",
       "    </tr>\n",
       "    <tr>\n",
       "      <th>2</th>\n",
       "      <td>0</td>\n",
       "      <td>-5623.422610</td>\n",
       "      <td>33</td>\n",
       "      <td>Среднее</td>\n",
       "      <td>1</td>\n",
       "      <td>женат / замужем</td>\n",
       "      <td>0</td>\n",
       "      <td>M</td>\n",
       "      <td>сотрудник</td>\n",
       "      <td>0</td>\n",
       "      <td>145885.952297</td>\n",
       "      <td>покупка жилья</td>\n",
       "    </tr>\n",
       "    <tr>\n",
       "      <th>3</th>\n",
       "      <td>3</td>\n",
       "      <td>-4124.747207</td>\n",
       "      <td>32</td>\n",
       "      <td>среднее</td>\n",
       "      <td>1</td>\n",
       "      <td>женат / замужем</td>\n",
       "      <td>0</td>\n",
       "      <td>M</td>\n",
       "      <td>сотрудник</td>\n",
       "      <td>0</td>\n",
       "      <td>267628.550329</td>\n",
       "      <td>дополнительное образование</td>\n",
       "    </tr>\n",
       "    <tr>\n",
       "      <th>4</th>\n",
       "      <td>0</td>\n",
       "      <td>340266.072047</td>\n",
       "      <td>53</td>\n",
       "      <td>среднее</td>\n",
       "      <td>1</td>\n",
       "      <td>гражданский брак</td>\n",
       "      <td>1</td>\n",
       "      <td>F</td>\n",
       "      <td>пенсионер</td>\n",
       "      <td>0</td>\n",
       "      <td>158616.077870</td>\n",
       "      <td>сыграть свадьбу</td>\n",
       "    </tr>\n",
       "  </tbody>\n",
       "</table>\n",
       "</div>"
      ],
      "text/plain": [
       "   children  days_employed  dob_years education  education_id  \\\n",
       "0         1   -8437.673028         42    высшее             0   \n",
       "1         1   -4024.803754         36   среднее             1   \n",
       "2         0   -5623.422610         33   Среднее             1   \n",
       "3         3   -4124.747207         32   среднее             1   \n",
       "4         0  340266.072047         53   среднее             1   \n",
       "\n",
       "      family_status  family_status_id gender income_type  debt   total_income  \\\n",
       "0   женат / замужем                 0      F   сотрудник     0  253875.639453   \n",
       "1   женат / замужем                 0      F   сотрудник     0  112080.014102   \n",
       "2   женат / замужем                 0      M   сотрудник     0  145885.952297   \n",
       "3   женат / замужем                 0      M   сотрудник     0  267628.550329   \n",
       "4  гражданский брак                 1      F   пенсионер     0  158616.077870   \n",
       "\n",
       "                      purpose  \n",
       "0               покупка жилья  \n",
       "1     приобретение автомобиля  \n",
       "2               покупка жилья  \n",
       "3  дополнительное образование  \n",
       "4             сыграть свадьбу  "
      ]
     },
     "metadata": {},
     "output_type": "display_data"
    }
   ],
   "source": [
    "# ознакомимся с таблицей визуально\n",
    "\n",
    "display(df.head())"
   ]
  },
  {
   "cell_type": "markdown",
   "id": "8e640be7",
   "metadata": {},
   "source": [
    "С ходу видно несколько проблем, возьмем их на заметку:\n",
    "- **`days_employed`** — содержит отрицательные значения\n",
    "- **`education`** — содержит одни и те же записи с разным регистром символов, это неявные дубликаты\n",
    "\n",
    "Визуально с заголовками все в порядке, они написаны в нижнем регистре и используют **хороший_стиль**. На всякий случай проверим нет ли лишних пробелов. "
   ]
  },
  {
   "cell_type": "code",
   "execution_count": 3,
   "id": "0e9f5d52",
   "metadata": {},
   "outputs": [
    {
     "name": "stdout",
     "output_type": "stream",
     "text": [
      "В заголовках пробелов нет\n"
     ]
    }
   ],
   "source": [
    "# цикл обойдет каждый заголовок и проверит его на наличие пробела\n",
    "# если пробел есть, проблемный заголовок отобразится в выводе\n",
    "\n",
    "space_counter = 0\n",
    "for heading in list(df.columns):\n",
    "    if ' ' in heading: # если пробел есть в заголовке\n",
    "        space_counter = 1\n",
    "        print(f'В заголовке {heading} есть пробелы!') # выводим сообщение на экран вместе с этим заголовком\n",
    "\n",
    "if space_counter == 0:\n",
    "    print('В заголовках пробелов нет')"
   ]
  },
  {
   "cell_type": "markdown",
   "id": "6ba0be9d",
   "metadata": {},
   "source": [
    "Все в порядке, действий с заголовками не требуется."
   ]
  },
  {
   "cell_type": "code",
   "execution_count": 4,
   "id": "5ecde93c",
   "metadata": {},
   "outputs": [
    {
     "name": "stdout",
     "output_type": "stream",
     "text": [
      "<class 'pandas.core.frame.DataFrame'>\n",
      "RangeIndex: 21525 entries, 0 to 21524\n",
      "Data columns (total 12 columns):\n",
      " #   Column            Non-Null Count  Dtype  \n",
      "---  ------            --------------  -----  \n",
      " 0   children          21525 non-null  int64  \n",
      " 1   days_employed     19351 non-null  float64\n",
      " 2   dob_years         21525 non-null  int64  \n",
      " 3   education         21525 non-null  object \n",
      " 4   education_id      21525 non-null  int64  \n",
      " 5   family_status     21525 non-null  object \n",
      " 6   family_status_id  21525 non-null  int64  \n",
      " 7   gender            21525 non-null  object \n",
      " 8   income_type       21525 non-null  object \n",
      " 9   debt              21525 non-null  int64  \n",
      " 10  total_income      19351 non-null  float64\n",
      " 11  purpose           21525 non-null  object \n",
      "dtypes: float64(2), int64(5), object(5)\n",
      "memory usage: 2.0+ MB\n"
     ]
    }
   ],
   "source": [
    "# изучим сводку о данных таблицы\n",
    "\n",
    "df.info()"
   ]
  },
  {
   "cell_type": "markdown",
   "id": "683c4e2a",
   "metadata": {},
   "source": [
    "После осмотра можем сказать следующее:\n",
    "- **`days_employed`** и **`total_income`** содержат пропуски, с этим будем разбираться\n",
    "- Строковая информация соответсвует своему типу\n",
    "- Числовая информация соответсвует своему типу\n",
    "- Значения в столбцах **`days_employed`** и **`total_income`** вполне можно округлить до целых чисел, так как точность до десятых значений в трудовом стаже и зарплате для нас в текущей ситуации избыточная и будет только мешать. "
   ]
  },
  {
   "cell_type": "markdown",
   "id": "e8fab7dc",
   "metadata": {},
   "source": [
    "Согласно документации в таблице записана следующая информация:\n",
    "- **`children`** — количество детей в семье\n",
    "- **`days_employed`** — общий трудовой стаж в днях\n",
    "- **`dob_years`** — возраст клиента в годах\n",
    "- **`education`** — уровень образования клиента\n",
    "- **`education_id`** — идентификатор уровня образования\n",
    "- **`family_status`** — семейное положение\n",
    "- **`family_status_id`** — идентификатор семейного положения\n",
    "- **`gender`** — пол клиента\n",
    "- **`income_type`** — тип занятости\n",
    "- **`debt`** — имел ли задолженность по возврату кредитов\n",
    "- **`total_income`** — ежемесячный доход\n",
    "- **`purpose`** — цель получения кредита"
   ]
  },
  {
   "cell_type": "markdown",
   "id": "fa17720c",
   "metadata": {},
   "source": [
    "<a id='review_conclusions'></a>\n",
    "### Выводы"
   ]
  },
  {
   "cell_type": "markdown",
   "id": "05cc1868",
   "metadata": {},
   "source": [
    "- Количество данных для решения нашей задачи на первый взгляд достаточно. \n",
    "- В таблице есть пропущенные значения и аномалии, которые необходимо исправить. \n",
    "- Неплохо будет округлить часть числовых данных для удобства.\n",
    "- Столбцы **`education`** и **`family_status`** имеют собственный **`id`**, возможно имеет смысл выделить эти данные в отдельные таблицы-справочники."
   ]
  },
  {
   "cell_type": "markdown",
   "id": "c1f9456b",
   "metadata": {},
   "source": [
    "<a id='preprocessing'></a>\n",
    "<h2><p style=\"text-align: center;\">2. Предобработка данных</p></h2>"
   ]
  },
  {
   "cell_type": "markdown",
   "id": "3f590a41",
   "metadata": {},
   "source": [
    "<a id='fill_a_pass'></a>\n",
    "### 2.1 Заполнение пропусков"
   ]
  },
  {
   "cell_type": "code",
   "execution_count": 5,
   "id": "50e8079e",
   "metadata": {
    "scrolled": true
   },
   "outputs": [
    {
     "data": {
      "text/html": [
       "<div>\n",
       "<style scoped>\n",
       "    .dataframe tbody tr th:only-of-type {\n",
       "        vertical-align: middle;\n",
       "    }\n",
       "\n",
       "    .dataframe tbody tr th {\n",
       "        vertical-align: top;\n",
       "    }\n",
       "\n",
       "    .dataframe thead th {\n",
       "        text-align: right;\n",
       "    }\n",
       "</style>\n",
       "<table border=\"1\" class=\"dataframe\">\n",
       "  <thead>\n",
       "    <tr style=\"text-align: right;\">\n",
       "      <th></th>\n",
       "      <th>children</th>\n",
       "      <th>days_employed</th>\n",
       "      <th>dob_years</th>\n",
       "      <th>education</th>\n",
       "      <th>education_id</th>\n",
       "      <th>family_status</th>\n",
       "      <th>family_status_id</th>\n",
       "      <th>gender</th>\n",
       "      <th>income_type</th>\n",
       "      <th>debt</th>\n",
       "      <th>total_income</th>\n",
       "      <th>purpose</th>\n",
       "    </tr>\n",
       "  </thead>\n",
       "  <tbody>\n",
       "    <tr>\n",
       "      <th>12</th>\n",
       "      <td>0</td>\n",
       "      <td>NaN</td>\n",
       "      <td>65</td>\n",
       "      <td>среднее</td>\n",
       "      <td>1</td>\n",
       "      <td>гражданский брак</td>\n",
       "      <td>1</td>\n",
       "      <td>M</td>\n",
       "      <td>пенсионер</td>\n",
       "      <td>0</td>\n",
       "      <td>NaN</td>\n",
       "      <td>сыграть свадьбу</td>\n",
       "    </tr>\n",
       "    <tr>\n",
       "      <th>26</th>\n",
       "      <td>0</td>\n",
       "      <td>NaN</td>\n",
       "      <td>41</td>\n",
       "      <td>среднее</td>\n",
       "      <td>1</td>\n",
       "      <td>женат / замужем</td>\n",
       "      <td>0</td>\n",
       "      <td>M</td>\n",
       "      <td>госслужащий</td>\n",
       "      <td>0</td>\n",
       "      <td>NaN</td>\n",
       "      <td>образование</td>\n",
       "    </tr>\n",
       "    <tr>\n",
       "      <th>29</th>\n",
       "      <td>0</td>\n",
       "      <td>NaN</td>\n",
       "      <td>63</td>\n",
       "      <td>среднее</td>\n",
       "      <td>1</td>\n",
       "      <td>Не женат / не замужем</td>\n",
       "      <td>4</td>\n",
       "      <td>F</td>\n",
       "      <td>пенсионер</td>\n",
       "      <td>0</td>\n",
       "      <td>NaN</td>\n",
       "      <td>строительство жилой недвижимости</td>\n",
       "    </tr>\n",
       "    <tr>\n",
       "      <th>41</th>\n",
       "      <td>0</td>\n",
       "      <td>NaN</td>\n",
       "      <td>50</td>\n",
       "      <td>среднее</td>\n",
       "      <td>1</td>\n",
       "      <td>женат / замужем</td>\n",
       "      <td>0</td>\n",
       "      <td>F</td>\n",
       "      <td>госслужащий</td>\n",
       "      <td>0</td>\n",
       "      <td>NaN</td>\n",
       "      <td>сделка с подержанным автомобилем</td>\n",
       "    </tr>\n",
       "    <tr>\n",
       "      <th>55</th>\n",
       "      <td>0</td>\n",
       "      <td>NaN</td>\n",
       "      <td>54</td>\n",
       "      <td>среднее</td>\n",
       "      <td>1</td>\n",
       "      <td>гражданский брак</td>\n",
       "      <td>1</td>\n",
       "      <td>F</td>\n",
       "      <td>пенсионер</td>\n",
       "      <td>1</td>\n",
       "      <td>NaN</td>\n",
       "      <td>сыграть свадьбу</td>\n",
       "    </tr>\n",
       "  </tbody>\n",
       "</table>\n",
       "</div>"
      ],
      "text/plain": [
       "    children  days_employed  dob_years education  education_id  \\\n",
       "12         0            NaN         65   среднее             1   \n",
       "26         0            NaN         41   среднее             1   \n",
       "29         0            NaN         63   среднее             1   \n",
       "41         0            NaN         50   среднее             1   \n",
       "55         0            NaN         54   среднее             1   \n",
       "\n",
       "            family_status  family_status_id gender  income_type  debt  \\\n",
       "12       гражданский брак                 1      M    пенсионер     0   \n",
       "26        женат / замужем                 0      M  госслужащий     0   \n",
       "29  Не женат / не замужем                 4      F    пенсионер     0   \n",
       "41        женат / замужем                 0      F  госслужащий     0   \n",
       "55       гражданский брак                 1      F    пенсионер     1   \n",
       "\n",
       "    total_income                           purpose  \n",
       "12           NaN                   сыграть свадьбу  \n",
       "26           NaN                       образование  \n",
       "29           NaN  строительство жилой недвижимости  \n",
       "41           NaN  сделка с подержанным автомобилем  \n",
       "55           NaN                   сыграть свадьбу  "
      ]
     },
     "metadata": {},
     "output_type": "display_data"
    }
   ],
   "source": [
    "# ознакомимся с пропусками визуально\n",
    "\n",
    "display(df[df['days_employed'].isna()].head())"
   ]
  },
  {
   "cell_type": "markdown",
   "id": "fea8f4d0",
   "metadata": {},
   "source": [
    "По всей видимости пропуски имеют **`NaN`** тип, что неплохо, так как это не будет нам крашить выполнение кода при математических операциях.\n",
    "\n",
    "Еще в столбце **`family_status`** обнаружалась заглавная буква в написании. Неявный дубликат это или нет, пока непонятно. Возьмем этот момент на заметку и проверим позже."
   ]
  },
  {
   "cell_type": "code",
   "execution_count": 6,
   "id": "a48d6d0a",
   "metadata": {
    "scrolled": false
   },
   "outputs": [
    {
     "data": {
      "text/plain": [
       "children               0\n",
       "days_employed       2174\n",
       "dob_years              0\n",
       "education              0\n",
       "education_id           0\n",
       "family_status          0\n",
       "family_status_id       0\n",
       "gender                 0\n",
       "income_type            0\n",
       "debt                   0\n",
       "total_income        2174\n",
       "purpose                0\n",
       "dtype: int64"
      ]
     },
     "execution_count": 6,
     "metadata": {},
     "output_type": "execute_result"
    }
   ],
   "source": [
    "# подсчитаем общее количество пропусков\n",
    "\n",
    "df.isna().sum()"
   ]
  },
  {
   "cell_type": "markdown",
   "id": "d5455dbe",
   "metadata": {},
   "source": [
    "В столбце **`days_employed`** и **`total_icome`** обнаружено по **2174** пропущенных значений. По количеству они совпадают. Чтобы убедится, что пропуски находятся в одних и тех же строках проверим это."
   ]
  },
  {
   "cell_type": "code",
   "execution_count": 7,
   "id": "ea1a6951",
   "metadata": {},
   "outputs": [
    {
     "name": "stdout",
     "output_type": "stream",
     "text": [
      "Количество NaN в столбце \"total_income\" по индексам NaN столбца \"days_employed\" = 2174\n"
     ]
    }
   ],
   "source": [
    "# получаем индексы NaN значений в столбце 'days_employed'\n",
    "# c помощью логической индексации подсчитываем количество NaN в столбце 'total_income'\n",
    "\n",
    "print(\n",
    "    'Количество NaN в столбце \"total_income\" по индексам NaN столбца \"days_employed\" =', \n",
    "    df[df['days_employed'].isna()]['total_income'].isna().sum()\n",
    ")"
   ]
  },
  {
   "cell_type": "markdown",
   "id": "dd0fca32",
   "metadata": {},
   "source": [
    "Количество значений **`NaN`** в столбце **`total_income`** по тем же индексам равно **2174**. Что подтверждает тот факт, что пропущенные значения столбцов **`days_employed`** и **`total_icome`** находятся в одинаковых строках"
   ]
  },
  {
   "cell_type": "markdown",
   "id": "f19b96da",
   "metadata": {},
   "source": [
    "Пропущенные значения находятся только в столбцах отображающих трудовой стаж и заработную плату. Так как пропуски в одних и тех же строках, можем предположить, что данные не указанны по одной из возможных причин:\n",
    "- клиенты намеренно не указали данные о своей трудовой деятельности\n",
    "- данные о трудовой деятельности потерялись при переносе из других таблиц (например не подтянулся корректный id клиента)\n",
    "- возможно это особенные клиенты и данные о их работе и доходах не указаны по какому-то соглашению"
   ]
  },
  {
   "cell_type": "markdown",
   "id": "965d5295",
   "metadata": {},
   "source": [
    "Найдем долю пропущенных значений. Так как количество пропущенных значений в двух столбцах одинаково, для рассчета можем использовать любой из них"
   ]
  },
  {
   "cell_type": "code",
   "execution_count": 8,
   "id": "0e7b4d5d",
   "metadata": {},
   "outputs": [
    {
     "name": "stdout",
     "output_type": "stream",
     "text": [
      "Общее количество строк в таблице: 21525\n",
      "Количество строк с пропущенными значениями: 2174\n",
      "Доля пропущенных значений от общего числа: 10%\n"
     ]
    }
   ],
   "source": [
    "all_values = df.shape[0] # найдем количество всех строк таблицы\n",
    "nan_values = df['days_employed'].isna().sum() # найдем количество строк с NaN значениями\n",
    "part_nan_values = nan_values / all_values # рассчитаем долю пропусков от общего количества\n",
    "\n",
    "print(f'Общее количество строк в таблице: {all_values}')\n",
    "print(f'Количество строк с пропущенными значениями: {nan_values}')\n",
    "print(f'Доля пропущенных значений от общего числа: {part_nan_values:.0%}')"
   ]
  },
  {
   "cell_type": "markdown",
   "id": "e97a31e7",
   "metadata": {},
   "source": [
    "Как видим доля **`NaN`** в стобцах **`days_employed`** и **`total_icome`** составляет целых **10%** от общего количества, что довольно весомо. Посмотрим как сильно это отразится на результатах исследования."
   ]
  },
  {
   "cell_type": "markdown",
   "id": "ca38152a",
   "metadata": {},
   "source": [
    "Для начала обработаем **`NaN`** значения в столбце **`total_income`**.\n",
    "\n",
    "В этом столбце отображается доход клиента. Так как заработная плата может иметь сильное расхождение в значениях, например: **10** клиентов могут получать по **30.000 руб.**, а один клиент **1.000.000 руб.** то более реальную картину будет показывать **медианное** значение. "
   ]
  },
  {
   "cell_type": "code",
   "execution_count": 9,
   "id": "80ff4f08",
   "metadata": {},
   "outputs": [
    {
     "name": "stdout",
     "output_type": "stream",
     "text": [
      "Новые значения столбца \"total_income\" вместо NaN:\n",
      "\n",
      "12    145017.937533\n",
      "26    145017.937533\n",
      "29    145017.937533\n",
      "41    145017.937533\n",
      "55    145017.937533\n",
      "Name: total_income, dtype: float64\n"
     ]
    }
   ],
   "source": [
    "# Заполним медианным значением пропуски в 'total_income'\n",
    "\n",
    "df.loc[df['total_income'].isna(), 'total_income'] = df['total_income'].median()\n",
    "\n",
    "print('Новые значения столбца \"total_income\" вместо NaN:\\n')\n",
    "print(df[df['days_employed'].isna()]['total_income'].head())"
   ]
  },
  {
   "cell_type": "code",
   "execution_count": 10,
   "id": "dd284487",
   "metadata": {
    "scrolled": true
   },
   "outputs": [
    {
     "data": {
      "text/plain": [
       "children               0\n",
       "days_employed       2174\n",
       "dob_years              0\n",
       "education              0\n",
       "education_id           0\n",
       "family_status          0\n",
       "family_status_id       0\n",
       "gender                 0\n",
       "income_type            0\n",
       "debt                   0\n",
       "total_income           0\n",
       "purpose                0\n",
       "dtype: int64"
      ]
     },
     "execution_count": 10,
     "metadata": {},
     "output_type": "execute_result"
    }
   ],
   "source": [
    "# Проверим что все пропуски столбца \"total_income\" заполнены\n",
    "\n",
    "df.isna().sum()"
   ]
  },
  {
   "cell_type": "markdown",
   "id": "d271f131",
   "metadata": {},
   "source": [
    "<a id='anomalies'></a>\n",
    "### 2.2 Проверка данных на аномалии и исправления"
   ]
  },
  {
   "cell_type": "markdown",
   "id": "73effb19",
   "metadata": {},
   "source": [
    "Мы уже выяснили, что в столбце **`days_employed`** присутствуют значения **`NaN`**. Но прежде чем заменим их, исследуем этот столбец на аномальные значения."
   ]
  },
  {
   "cell_type": "code",
   "execution_count": 11,
   "id": "81497f2a",
   "metadata": {
    "scrolled": false
   },
   "outputs": [
    {
     "name": "stdout",
     "output_type": "stream",
     "text": [
      "Минимальное значение в столбце \"days_employed\" = -18388.949900568383\n",
      "Максимальное значение в столбце \"days_employed\" = 401755.40047533\n",
      "\n",
      "Общий срез значений:\n",
      "0         -8437.673028\n",
      "1         -4024.803754\n",
      "2         -5623.422610\n",
      "3         -4124.747207\n",
      "4        340266.072047\n",
      "             ...      \n",
      "21520     -4529.316663\n",
      "21521    343937.404131\n",
      "21522     -2113.346888\n",
      "21523     -3112.481705\n",
      "21524     -1984.507589\n",
      "Name: days_employed, Length: 21525, dtype: float64\n"
     ]
    }
   ],
   "source": [
    "# для начала посмотрим на пограничные значения и общий срез\n",
    "\n",
    "print('Минимальное значение в столбце \"days_employed\" =', df['days_employed'].min())\n",
    "print('Максимальное значение в столбце \"days_employed\" =', df['days_employed'].max())\n",
    "print('\\nОбщий срез значений:')\n",
    "print(df['days_employed'])"
   ]
  },
  {
   "cell_type": "markdown",
   "id": "e5f70443",
   "metadata": {},
   "source": [
    "В столбце присутствуют как **отрицательные** значения, так и **аномально большие**."
   ]
  },
  {
   "cell_type": "markdown",
   "id": "041d1d19",
   "metadata": {},
   "source": [
    "Для начала разберемся с **отрицательными** значениями.\n",
    "\n",
    "Причина по которой появились отрицательные значения может заключаться в неверной конвертации текстовых данных. Например: данные о стаже хранились в текстовом виде с тире `-` перед значением. При конвертации в числовое значение это превратилось в отрицательное число."
   ]
  },
  {
   "cell_type": "code",
   "execution_count": 12,
   "id": "c8f43f8c",
   "metadata": {},
   "outputs": [],
   "source": [
    "# избавимся от отрицательных значений с помощью функции abs(), которая вернет нам модуль числа.\n",
    "# для того чтобы наш код не крашнулся, если что-то пойдет не так, применим конструкцию try-except\n",
    "\n",
    "try:\n",
    "    df['days_employed'] = abs(df['days_employed'])\n",
    "except:\n",
    "    print('Код не отработал, в данных обнаружена ошибка!')"
   ]
  },
  {
   "cell_type": "code",
   "execution_count": 13,
   "id": "264da4d6",
   "metadata": {},
   "outputs": [
    {
     "name": "stdout",
     "output_type": "stream",
     "text": [
      "0          8437.673028\n",
      "1          4024.803754\n",
      "2          5623.422610\n",
      "3          4124.747207\n",
      "4        340266.072047\n",
      "             ...      \n",
      "21520      4529.316663\n",
      "21521    343937.404131\n",
      "21522      2113.346888\n",
      "21523      3112.481705\n",
      "21524      1984.507589\n",
      "Name: days_employed, Length: 21525, dtype: float64\n"
     ]
    }
   ],
   "source": [
    "# Проверим результат выполнения запроса\n",
    "\n",
    "print(df['days_employed'])"
   ]
  },
  {
   "cell_type": "markdown",
   "id": "ae7f8a60",
   "metadata": {},
   "source": [
    "Теперь займемся **аномально большими** значениями. \n",
    "\n",
    "Попробуем выделить кластер проблемных значений. Для этого сделаем следующее:\n",
    "- Предположим, что стаж может начинаться с 14 лет и не должен превышать разницу с текущим возрастом\n",
    "- Итого расчет будет по формуле: $\\left( возраст - 14 \\right) \\cdot 365$\n",
    "- Отсеим все значения таблицы где стаж превышает это значение\n",
    "\n",
    "Так как в расчете будет участвовать столбец с возрастом, проверим нет ли там аномальных значений"
   ]
  },
  {
   "cell_type": "code",
   "execution_count": 14,
   "id": "6b262ac2",
   "metadata": {},
   "outputs": [
    {
     "name": "stdout",
     "output_type": "stream",
     "text": [
      "0\n",
      "75\n"
     ]
    }
   ],
   "source": [
    "# Проверим крайние значения возраста:\n",
    "\n",
    "print(df['dob_years'].min())\n",
    "print(df['dob_years'].max())"
   ]
  },
  {
   "cell_type": "markdown",
   "id": "d9d90710",
   "metadata": {},
   "source": [
    "**Как видим есть нулевой возраст**. По сути это тоже пропущенные значения, вернемся к решению этого вопроса позже.\n",
    "\n",
    "А пока исключим нули из расчета и на всякий случай проверим нет ли еще странных значений, отличных от нуля."
   ]
  },
  {
   "cell_type": "code",
   "execution_count": 15,
   "id": "3548a0d2",
   "metadata": {},
   "outputs": [
    {
     "name": "stdout",
     "output_type": "stream",
     "text": [
      "19\n"
     ]
    }
   ],
   "source": [
    "# узнаем минимальное не нулевое значение\n",
    "\n",
    "print(df[df['dob_years'] != 0]['dob_years'].min())"
   ]
  },
  {
   "cell_type": "markdown",
   "id": "85a344b4",
   "metadata": {},
   "source": [
    "Минимальный возраст в нашей анкете равен 19 годам, что вполне ложится в реальную картину.\\\n",
    "Выделим кластер проблемных значений и попробуем проанализировать его"
   ]
  },
  {
   "cell_type": "code",
   "execution_count": 16,
   "id": "84a20f8f",
   "metadata": {},
   "outputs": [
    {
     "data": {
      "text/html": [
       "<div>\n",
       "<style scoped>\n",
       "    .dataframe tbody tr th:only-of-type {\n",
       "        vertical-align: middle;\n",
       "    }\n",
       "\n",
       "    .dataframe tbody tr th {\n",
       "        vertical-align: top;\n",
       "    }\n",
       "\n",
       "    .dataframe thead th {\n",
       "        text-align: right;\n",
       "    }\n",
       "</style>\n",
       "<table border=\"1\" class=\"dataframe\">\n",
       "  <thead>\n",
       "    <tr style=\"text-align: right;\">\n",
       "      <th></th>\n",
       "      <th>children</th>\n",
       "      <th>days_employed</th>\n",
       "      <th>dob_years</th>\n",
       "      <th>education</th>\n",
       "      <th>education_id</th>\n",
       "      <th>family_status</th>\n",
       "      <th>family_status_id</th>\n",
       "      <th>gender</th>\n",
       "      <th>income_type</th>\n",
       "      <th>debt</th>\n",
       "      <th>total_income</th>\n",
       "      <th>purpose</th>\n",
       "    </tr>\n",
       "  </thead>\n",
       "  <tbody>\n",
       "    <tr>\n",
       "      <th>4</th>\n",
       "      <td>0</td>\n",
       "      <td>340266.072047</td>\n",
       "      <td>53</td>\n",
       "      <td>среднее</td>\n",
       "      <td>1</td>\n",
       "      <td>гражданский брак</td>\n",
       "      <td>1</td>\n",
       "      <td>F</td>\n",
       "      <td>пенсионер</td>\n",
       "      <td>0</td>\n",
       "      <td>158616.077870</td>\n",
       "      <td>сыграть свадьбу</td>\n",
       "    </tr>\n",
       "    <tr>\n",
       "      <th>18</th>\n",
       "      <td>0</td>\n",
       "      <td>400281.136913</td>\n",
       "      <td>53</td>\n",
       "      <td>среднее</td>\n",
       "      <td>1</td>\n",
       "      <td>вдовец / вдова</td>\n",
       "      <td>2</td>\n",
       "      <td>F</td>\n",
       "      <td>пенсионер</td>\n",
       "      <td>0</td>\n",
       "      <td>56823.777243</td>\n",
       "      <td>на покупку подержанного автомобиля</td>\n",
       "    </tr>\n",
       "    <tr>\n",
       "      <th>24</th>\n",
       "      <td>1</td>\n",
       "      <td>338551.952911</td>\n",
       "      <td>57</td>\n",
       "      <td>среднее</td>\n",
       "      <td>1</td>\n",
       "      <td>Не женат / не замужем</td>\n",
       "      <td>4</td>\n",
       "      <td>F</td>\n",
       "      <td>пенсионер</td>\n",
       "      <td>0</td>\n",
       "      <td>290547.235997</td>\n",
       "      <td>операции с коммерческой недвижимостью</td>\n",
       "    </tr>\n",
       "    <tr>\n",
       "      <th>25</th>\n",
       "      <td>0</td>\n",
       "      <td>363548.489348</td>\n",
       "      <td>67</td>\n",
       "      <td>среднее</td>\n",
       "      <td>1</td>\n",
       "      <td>женат / замужем</td>\n",
       "      <td>0</td>\n",
       "      <td>M</td>\n",
       "      <td>пенсионер</td>\n",
       "      <td>0</td>\n",
       "      <td>55112.757732</td>\n",
       "      <td>покупка недвижимости</td>\n",
       "    </tr>\n",
       "    <tr>\n",
       "      <th>30</th>\n",
       "      <td>1</td>\n",
       "      <td>335581.668515</td>\n",
       "      <td>62</td>\n",
       "      <td>среднее</td>\n",
       "      <td>1</td>\n",
       "      <td>женат / замужем</td>\n",
       "      <td>0</td>\n",
       "      <td>F</td>\n",
       "      <td>пенсионер</td>\n",
       "      <td>0</td>\n",
       "      <td>171456.067993</td>\n",
       "      <td>операции с коммерческой недвижимостью</td>\n",
       "    </tr>\n",
       "  </tbody>\n",
       "</table>\n",
       "</div>"
      ],
      "text/plain": [
       "    children  days_employed  dob_years education  education_id  \\\n",
       "4          0  340266.072047         53   среднее             1   \n",
       "18         0  400281.136913         53   среднее             1   \n",
       "24         1  338551.952911         57   среднее             1   \n",
       "25         0  363548.489348         67   среднее             1   \n",
       "30         1  335581.668515         62   среднее             1   \n",
       "\n",
       "            family_status  family_status_id gender income_type  debt  \\\n",
       "4        гражданский брак                 1      F   пенсионер     0   \n",
       "18         вдовец / вдова                 2      F   пенсионер     0   \n",
       "24  Не женат / не замужем                 4      F   пенсионер     0   \n",
       "25        женат / замужем                 0      M   пенсионер     0   \n",
       "30        женат / замужем                 0      F   пенсионер     0   \n",
       "\n",
       "     total_income                                purpose  \n",
       "4   158616.077870                        сыграть свадьбу  \n",
       "18   56823.777243     на покупку подержанного автомобиля  \n",
       "24  290547.235997  операции с коммерческой недвижимостью  \n",
       "25   55112.757732                   покупка недвижимости  \n",
       "30  171456.067993  операции с коммерческой недвижимостью  "
      ]
     },
     "metadata": {},
     "output_type": "display_data"
    }
   ],
   "source": [
    "# фильтр представляет из себя сдедующую логику:\n",
    "# берем из таблицы только те значения, где возраст != 0 и стаж больше чем выражение: (возраст - 14) * 365\n",
    "\n",
    "# чтобы сделать код более лаконичным, фильтрующую запись запишем в переменную\n",
    "\n",
    "abnormal_filter = df[\n",
    "    (df['dob_years'] != 0) & \n",
    "    ((df['days_employed']) > ((df['dob_years'] - 14) * 365))]\n",
    "\n",
    "display(abnormal_filter.head()) # ознакомимся с нашей выборкой"
   ]
  },
  {
   "cell_type": "markdown",
   "id": "409c8cc6",
   "metadata": {},
   "source": [
    "В выборке почему то встречаются одни пенсионеры, посмотрим подробнее какие записи содержатся в этом столбце."
   ]
  },
  {
   "cell_type": "code",
   "execution_count": 17,
   "id": "1f72b744",
   "metadata": {},
   "outputs": [
    {
     "name": "stdout",
     "output_type": "stream",
     "text": [
      "пенсионер      3426\n",
      "сотрудник        10\n",
      "компаньон         5\n",
      "безработный       2\n",
      "госслужащий       1\n",
      "Name: income_type, dtype: int64\n"
     ]
    }
   ],
   "source": [
    "print(abnormal_filter['income_type'].value_counts())"
   ]
  },
  {
   "cell_type": "markdown",
   "id": "76db2b5d",
   "metadata": {},
   "source": [
    "Действительно, в выборке подавляющая часть пенсионеров, но встречаются и другие статусы, посмотрим подробнее на них. Так как значений не так много, выведем их все."
   ]
  },
  {
   "cell_type": "code",
   "execution_count": 18,
   "id": "40fa3b9b",
   "metadata": {},
   "outputs": [
    {
     "data": {
      "text/html": [
       "<div>\n",
       "<style scoped>\n",
       "    .dataframe tbody tr th:only-of-type {\n",
       "        vertical-align: middle;\n",
       "    }\n",
       "\n",
       "    .dataframe tbody tr th {\n",
       "        vertical-align: top;\n",
       "    }\n",
       "\n",
       "    .dataframe thead th {\n",
       "        text-align: right;\n",
       "    }\n",
       "</style>\n",
       "<table border=\"1\" class=\"dataframe\">\n",
       "  <thead>\n",
       "    <tr style=\"text-align: right;\">\n",
       "      <th></th>\n",
       "      <th>children</th>\n",
       "      <th>days_employed</th>\n",
       "      <th>dob_years</th>\n",
       "      <th>education</th>\n",
       "      <th>education_id</th>\n",
       "      <th>family_status</th>\n",
       "      <th>family_status_id</th>\n",
       "      <th>gender</th>\n",
       "      <th>income_type</th>\n",
       "      <th>debt</th>\n",
       "      <th>total_income</th>\n",
       "      <th>purpose</th>\n",
       "    </tr>\n",
       "  </thead>\n",
       "  <tbody>\n",
       "    <tr>\n",
       "      <th>14798</th>\n",
       "      <td>0</td>\n",
       "      <td>395302.838654</td>\n",
       "      <td>45</td>\n",
       "      <td>Высшее</td>\n",
       "      <td>0</td>\n",
       "      <td>гражданский брак</td>\n",
       "      <td>1</td>\n",
       "      <td>F</td>\n",
       "      <td>безработный</td>\n",
       "      <td>0</td>\n",
       "      <td>202722.511368</td>\n",
       "      <td>ремонт жилью</td>\n",
       "    </tr>\n",
       "    <tr>\n",
       "      <th>3133</th>\n",
       "      <td>1</td>\n",
       "      <td>337524.466835</td>\n",
       "      <td>31</td>\n",
       "      <td>среднее</td>\n",
       "      <td>1</td>\n",
       "      <td>женат / замужем</td>\n",
       "      <td>0</td>\n",
       "      <td>M</td>\n",
       "      <td>безработный</td>\n",
       "      <td>1</td>\n",
       "      <td>59956.991984</td>\n",
       "      <td>покупка жилья для сдачи</td>\n",
       "    </tr>\n",
       "    <tr>\n",
       "      <th>16335</th>\n",
       "      <td>1</td>\n",
       "      <td>18388.949901</td>\n",
       "      <td>61</td>\n",
       "      <td>среднее</td>\n",
       "      <td>1</td>\n",
       "      <td>женат / замужем</td>\n",
       "      <td>0</td>\n",
       "      <td>F</td>\n",
       "      <td>сотрудник</td>\n",
       "      <td>0</td>\n",
       "      <td>186178.934089</td>\n",
       "      <td>операции с недвижимостью</td>\n",
       "    </tr>\n",
       "    <tr>\n",
       "      <th>4299</th>\n",
       "      <td>0</td>\n",
       "      <td>17615.563266</td>\n",
       "      <td>61</td>\n",
       "      <td>среднее</td>\n",
       "      <td>1</td>\n",
       "      <td>женат / замужем</td>\n",
       "      <td>0</td>\n",
       "      <td>F</td>\n",
       "      <td>компаньон</td>\n",
       "      <td>0</td>\n",
       "      <td>122560.741753</td>\n",
       "      <td>покупка жилья</td>\n",
       "    </tr>\n",
       "    <tr>\n",
       "      <th>5581</th>\n",
       "      <td>0</td>\n",
       "      <td>15079.216069</td>\n",
       "      <td>55</td>\n",
       "      <td>среднее</td>\n",
       "      <td>1</td>\n",
       "      <td>женат / замужем</td>\n",
       "      <td>0</td>\n",
       "      <td>F</td>\n",
       "      <td>госслужащий</td>\n",
       "      <td>0</td>\n",
       "      <td>178761.373413</td>\n",
       "      <td>операции с жильем</td>\n",
       "    </tr>\n",
       "    <tr>\n",
       "      <th>8735</th>\n",
       "      <td>0</td>\n",
       "      <td>14240.932400</td>\n",
       "      <td>53</td>\n",
       "      <td>Среднее</td>\n",
       "      <td>1</td>\n",
       "      <td>женат / замужем</td>\n",
       "      <td>0</td>\n",
       "      <td>M</td>\n",
       "      <td>компаньон</td>\n",
       "      <td>0</td>\n",
       "      <td>174484.333490</td>\n",
       "      <td>покупка жилья для семьи</td>\n",
       "    </tr>\n",
       "    <tr>\n",
       "      <th>2492</th>\n",
       "      <td>0</td>\n",
       "      <td>13724.223884</td>\n",
       "      <td>50</td>\n",
       "      <td>высшее</td>\n",
       "      <td>0</td>\n",
       "      <td>женат / замужем</td>\n",
       "      <td>0</td>\n",
       "      <td>F</td>\n",
       "      <td>сотрудник</td>\n",
       "      <td>0</td>\n",
       "      <td>88152.289893</td>\n",
       "      <td>строительство жилой недвижимости</td>\n",
       "    </tr>\n",
       "    <tr>\n",
       "      <th>5708</th>\n",
       "      <td>0</td>\n",
       "      <td>13210.485012</td>\n",
       "      <td>47</td>\n",
       "      <td>среднее</td>\n",
       "      <td>1</td>\n",
       "      <td>женат / замужем</td>\n",
       "      <td>0</td>\n",
       "      <td>F</td>\n",
       "      <td>сотрудник</td>\n",
       "      <td>0</td>\n",
       "      <td>144845.875361</td>\n",
       "      <td>покупка недвижимости</td>\n",
       "    </tr>\n",
       "    <tr>\n",
       "      <th>20061</th>\n",
       "      <td>0</td>\n",
       "      <td>12761.377792</td>\n",
       "      <td>48</td>\n",
       "      <td>среднее</td>\n",
       "      <td>1</td>\n",
       "      <td>женат / замужем</td>\n",
       "      <td>0</td>\n",
       "      <td>F</td>\n",
       "      <td>сотрудник</td>\n",
       "      <td>0</td>\n",
       "      <td>200025.884593</td>\n",
       "      <td>строительство собственной недвижимости</td>\n",
       "    </tr>\n",
       "    <tr>\n",
       "      <th>397</th>\n",
       "      <td>0</td>\n",
       "      <td>12506.318296</td>\n",
       "      <td>46</td>\n",
       "      <td>среднее</td>\n",
       "      <td>1</td>\n",
       "      <td>женат / замужем</td>\n",
       "      <td>0</td>\n",
       "      <td>F</td>\n",
       "      <td>сотрудник</td>\n",
       "      <td>0</td>\n",
       "      <td>292843.287967</td>\n",
       "      <td>недвижимость</td>\n",
       "    </tr>\n",
       "    <tr>\n",
       "      <th>3957</th>\n",
       "      <td>0</td>\n",
       "      <td>12111.680981</td>\n",
       "      <td>47</td>\n",
       "      <td>среднее</td>\n",
       "      <td>1</td>\n",
       "      <td>женат / замужем</td>\n",
       "      <td>0</td>\n",
       "      <td>F</td>\n",
       "      <td>компаньон</td>\n",
       "      <td>0</td>\n",
       "      <td>108406.132467</td>\n",
       "      <td>покупка коммерческой недвижимости</td>\n",
       "    </tr>\n",
       "    <tr>\n",
       "      <th>15118</th>\n",
       "      <td>0</td>\n",
       "      <td>11037.198423</td>\n",
       "      <td>44</td>\n",
       "      <td>Среднее</td>\n",
       "      <td>1</td>\n",
       "      <td>женат / замужем</td>\n",
       "      <td>0</td>\n",
       "      <td>F</td>\n",
       "      <td>сотрудник</td>\n",
       "      <td>0</td>\n",
       "      <td>234658.333403</td>\n",
       "      <td>покупка недвижимости</td>\n",
       "    </tr>\n",
       "    <tr>\n",
       "      <th>5959</th>\n",
       "      <td>0</td>\n",
       "      <td>10939.299825</td>\n",
       "      <td>42</td>\n",
       "      <td>среднее</td>\n",
       "      <td>1</td>\n",
       "      <td>женат / замужем</td>\n",
       "      <td>0</td>\n",
       "      <td>F</td>\n",
       "      <td>сотрудник</td>\n",
       "      <td>0</td>\n",
       "      <td>74840.802028</td>\n",
       "      <td>автомобиль</td>\n",
       "    </tr>\n",
       "    <tr>\n",
       "      <th>13531</th>\n",
       "      <td>0</td>\n",
       "      <td>9762.839918</td>\n",
       "      <td>39</td>\n",
       "      <td>среднее</td>\n",
       "      <td>1</td>\n",
       "      <td>женат / замужем</td>\n",
       "      <td>0</td>\n",
       "      <td>F</td>\n",
       "      <td>сотрудник</td>\n",
       "      <td>0</td>\n",
       "      <td>129855.627483</td>\n",
       "      <td>операции с коммерческой недвижимостью</td>\n",
       "    </tr>\n",
       "    <tr>\n",
       "      <th>12860</th>\n",
       "      <td>0</td>\n",
       "      <td>8946.243338</td>\n",
       "      <td>38</td>\n",
       "      <td>среднее</td>\n",
       "      <td>1</td>\n",
       "      <td>женат / замужем</td>\n",
       "      <td>0</td>\n",
       "      <td>F</td>\n",
       "      <td>компаньон</td>\n",
       "      <td>0</td>\n",
       "      <td>104411.362835</td>\n",
       "      <td>получение высшего образования</td>\n",
       "    </tr>\n",
       "    <tr>\n",
       "      <th>19902</th>\n",
       "      <td>0</td>\n",
       "      <td>8436.151295</td>\n",
       "      <td>36</td>\n",
       "      <td>среднее</td>\n",
       "      <td>1</td>\n",
       "      <td>гражданский брак</td>\n",
       "      <td>1</td>\n",
       "      <td>F</td>\n",
       "      <td>сотрудник</td>\n",
       "      <td>0</td>\n",
       "      <td>91250.788331</td>\n",
       "      <td>свадьба</td>\n",
       "    </tr>\n",
       "    <tr>\n",
       "      <th>14348</th>\n",
       "      <td>0</td>\n",
       "      <td>8076.147758</td>\n",
       "      <td>36</td>\n",
       "      <td>среднее</td>\n",
       "      <td>1</td>\n",
       "      <td>женат / замужем</td>\n",
       "      <td>0</td>\n",
       "      <td>F</td>\n",
       "      <td>компаньон</td>\n",
       "      <td>0</td>\n",
       "      <td>111873.671293</td>\n",
       "      <td>операции со своей недвижимостью</td>\n",
       "    </tr>\n",
       "    <tr>\n",
       "      <th>3417</th>\n",
       "      <td>1</td>\n",
       "      <td>5673.867214</td>\n",
       "      <td>29</td>\n",
       "      <td>среднее</td>\n",
       "      <td>1</td>\n",
       "      <td>женат / замужем</td>\n",
       "      <td>0</td>\n",
       "      <td>M</td>\n",
       "      <td>сотрудник</td>\n",
       "      <td>0</td>\n",
       "      <td>288028.222706</td>\n",
       "      <td>получение дополнительного образования</td>\n",
       "    </tr>\n",
       "  </tbody>\n",
       "</table>\n",
       "</div>"
      ],
      "text/plain": [
       "       children  days_employed  dob_years education  education_id  \\\n",
       "14798         0  395302.838654         45    Высшее             0   \n",
       "3133          1  337524.466835         31   среднее             1   \n",
       "16335         1   18388.949901         61   среднее             1   \n",
       "4299          0   17615.563266         61   среднее             1   \n",
       "5581          0   15079.216069         55   среднее             1   \n",
       "8735          0   14240.932400         53   Среднее             1   \n",
       "2492          0   13724.223884         50    высшее             0   \n",
       "5708          0   13210.485012         47   среднее             1   \n",
       "20061         0   12761.377792         48   среднее             1   \n",
       "397           0   12506.318296         46   среднее             1   \n",
       "3957          0   12111.680981         47   среднее             1   \n",
       "15118         0   11037.198423         44   Среднее             1   \n",
       "5959          0   10939.299825         42   среднее             1   \n",
       "13531         0    9762.839918         39   среднее             1   \n",
       "12860         0    8946.243338         38   среднее             1   \n",
       "19902         0    8436.151295         36   среднее             1   \n",
       "14348         0    8076.147758         36   среднее             1   \n",
       "3417          1    5673.867214         29   среднее             1   \n",
       "\n",
       "          family_status  family_status_id gender  income_type  debt  \\\n",
       "14798  гражданский брак                 1      F  безработный     0   \n",
       "3133    женат / замужем                 0      M  безработный     1   \n",
       "16335   женат / замужем                 0      F    сотрудник     0   \n",
       "4299    женат / замужем                 0      F    компаньон     0   \n",
       "5581    женат / замужем                 0      F  госслужащий     0   \n",
       "8735    женат / замужем                 0      M    компаньон     0   \n",
       "2492    женат / замужем                 0      F    сотрудник     0   \n",
       "5708    женат / замужем                 0      F    сотрудник     0   \n",
       "20061   женат / замужем                 0      F    сотрудник     0   \n",
       "397     женат / замужем                 0      F    сотрудник     0   \n",
       "3957    женат / замужем                 0      F    компаньон     0   \n",
       "15118   женат / замужем                 0      F    сотрудник     0   \n",
       "5959    женат / замужем                 0      F    сотрудник     0   \n",
       "13531   женат / замужем                 0      F    сотрудник     0   \n",
       "12860   женат / замужем                 0      F    компаньон     0   \n",
       "19902  гражданский брак                 1      F    сотрудник     0   \n",
       "14348   женат / замужем                 0      F    компаньон     0   \n",
       "3417    женат / замужем                 0      M    сотрудник     0   \n",
       "\n",
       "        total_income                                 purpose  \n",
       "14798  202722.511368                            ремонт жилью  \n",
       "3133    59956.991984                 покупка жилья для сдачи  \n",
       "16335  186178.934089                операции с недвижимостью  \n",
       "4299   122560.741753                           покупка жилья  \n",
       "5581   178761.373413                       операции с жильем  \n",
       "8735   174484.333490                 покупка жилья для семьи  \n",
       "2492    88152.289893        строительство жилой недвижимости  \n",
       "5708   144845.875361                    покупка недвижимости  \n",
       "20061  200025.884593  строительство собственной недвижимости  \n",
       "397    292843.287967                            недвижимость  \n",
       "3957   108406.132467       покупка коммерческой недвижимости  \n",
       "15118  234658.333403                    покупка недвижимости  \n",
       "5959    74840.802028                              автомобиль  \n",
       "13531  129855.627483   операции с коммерческой недвижимостью  \n",
       "12860  104411.362835           получение высшего образования  \n",
       "19902   91250.788331                                 свадьба  \n",
       "14348  111873.671293         операции со своей недвижимостью  \n",
       "3417   288028.222706   получение дополнительного образования  "
      ]
     },
     "metadata": {},
     "output_type": "display_data"
    }
   ],
   "source": [
    "display(\n",
    "    abnormal_filter[abnormal_filter['income_type'] != 'пенсионер'] # выведем всех Не пенсионеров\n",
    "    .sort_values('days_employed', ascending=False)) # отсортируем по убыванию"
   ]
  },
  {
   "cell_type": "markdown",
   "id": "b817f7e0",
   "metadata": {},
   "source": [
    "Аномальные значения есть только у двух безработных. Остальные товарищи каким-то образом смогли официально устроится на работу раньше чем в 14 лет. Что-ж, оставим это на их совести, а сами займемся нашими странными пенсионерами."
   ]
  },
  {
   "cell_type": "markdown",
   "id": "6aa66b07",
   "metadata": {},
   "source": [
    "Выясним, все ли пенсионеры имеют аномальный стаж"
   ]
  },
  {
   "cell_type": "code",
   "execution_count": 19,
   "id": "0d55515a",
   "metadata": {},
   "outputs": [
    {
     "name": "stdout",
     "output_type": "stream",
     "text": [
      "328728.72060451825\n",
      "401755.40047533\n"
     ]
    }
   ],
   "source": [
    "print(df[df['income_type'] == 'пенсионер']['days_employed'].min()) # минимальный стаж пенсионера\n",
    "print(df[df['income_type'] == 'пенсионер']['days_employed'].max()) # максимальный стаж пенсионера"
   ]
  },
  {
   "cell_type": "markdown",
   "id": "b1f9e6e6",
   "metadata": {},
   "source": [
    "Бинго! Нарушители спокойствия: двое безработных и пенсионеры. У всех них стаж выше 300 тыс. дней. По тысяче лет люди не только не работают, но и не живут."
   ]
  },
  {
   "cell_type": "markdown",
   "id": "ea2fa3a1",
   "metadata": {},
   "source": [
    "**Гипотеза**\\\n",
    "Возможно трудовой стаж данных клиентов попал в банковскую систему из учетной системы пенсионного фонда, где он хранится не в днях, а например в часах. Давайте проверим это. Разделим стаж на 24"
   ]
  },
  {
   "cell_type": "code",
   "execution_count": 20,
   "id": "06f1a718",
   "metadata": {},
   "outputs": [
    {
     "data": {
      "text/html": [
       "<div>\n",
       "<style scoped>\n",
       "    .dataframe tbody tr th:only-of-type {\n",
       "        vertical-align: middle;\n",
       "    }\n",
       "\n",
       "    .dataframe tbody tr th {\n",
       "        vertical-align: top;\n",
       "    }\n",
       "\n",
       "    .dataframe thead th {\n",
       "        text-align: right;\n",
       "    }\n",
       "</style>\n",
       "<table border=\"1\" class=\"dataframe\">\n",
       "  <thead>\n",
       "    <tr style=\"text-align: right;\">\n",
       "      <th></th>\n",
       "      <th>dob_years</th>\n",
       "      <th>days_employed</th>\n",
       "      <th>correct_days</th>\n",
       "      <th>max_possible_days</th>\n",
       "    </tr>\n",
       "  </thead>\n",
       "  <tbody>\n",
       "    <tr>\n",
       "      <th>4</th>\n",
       "      <td>53</td>\n",
       "      <td>340266.072047</td>\n",
       "      <td>14177.753002</td>\n",
       "      <td>19345</td>\n",
       "    </tr>\n",
       "    <tr>\n",
       "      <th>18</th>\n",
       "      <td>53</td>\n",
       "      <td>400281.136913</td>\n",
       "      <td>16678.380705</td>\n",
       "      <td>19345</td>\n",
       "    </tr>\n",
       "    <tr>\n",
       "      <th>24</th>\n",
       "      <td>57</td>\n",
       "      <td>338551.952911</td>\n",
       "      <td>14106.331371</td>\n",
       "      <td>20805</td>\n",
       "    </tr>\n",
       "    <tr>\n",
       "      <th>25</th>\n",
       "      <td>67</td>\n",
       "      <td>363548.489348</td>\n",
       "      <td>15147.853723</td>\n",
       "      <td>24455</td>\n",
       "    </tr>\n",
       "    <tr>\n",
       "      <th>30</th>\n",
       "      <td>62</td>\n",
       "      <td>335581.668515</td>\n",
       "      <td>13982.569521</td>\n",
       "      <td>22630</td>\n",
       "    </tr>\n",
       "    <tr>\n",
       "      <th>...</th>\n",
       "      <td>...</td>\n",
       "      <td>...</td>\n",
       "      <td>...</td>\n",
       "      <td>...</td>\n",
       "    </tr>\n",
       "    <tr>\n",
       "      <th>21505</th>\n",
       "      <td>53</td>\n",
       "      <td>338904.866406</td>\n",
       "      <td>14121.036100</td>\n",
       "      <td>19345</td>\n",
       "    </tr>\n",
       "    <tr>\n",
       "      <th>21508</th>\n",
       "      <td>62</td>\n",
       "      <td>386497.714078</td>\n",
       "      <td>16104.071420</td>\n",
       "      <td>22630</td>\n",
       "    </tr>\n",
       "    <tr>\n",
       "      <th>21509</th>\n",
       "      <td>59</td>\n",
       "      <td>362161.054124</td>\n",
       "      <td>15090.043922</td>\n",
       "      <td>21535</td>\n",
       "    </tr>\n",
       "    <tr>\n",
       "      <th>21518</th>\n",
       "      <td>59</td>\n",
       "      <td>373995.710838</td>\n",
       "      <td>15583.154618</td>\n",
       "      <td>21535</td>\n",
       "    </tr>\n",
       "    <tr>\n",
       "      <th>21521</th>\n",
       "      <td>67</td>\n",
       "      <td>343937.404131</td>\n",
       "      <td>14330.725172</td>\n",
       "      <td>24455</td>\n",
       "    </tr>\n",
       "  </tbody>\n",
       "</table>\n",
       "<p>3445 rows × 4 columns</p>\n",
       "</div>"
      ],
      "text/plain": [
       "       dob_years  days_employed  correct_days  max_possible_days\n",
       "4             53  340266.072047  14177.753002              19345\n",
       "18            53  400281.136913  16678.380705              19345\n",
       "24            57  338551.952911  14106.331371              20805\n",
       "25            67  363548.489348  15147.853723              24455\n",
       "30            62  335581.668515  13982.569521              22630\n",
       "...          ...            ...           ...                ...\n",
       "21505         53  338904.866406  14121.036100              19345\n",
       "21508         62  386497.714078  16104.071420              22630\n",
       "21509         59  362161.054124  15090.043922              21535\n",
       "21518         59  373995.710838  15583.154618              21535\n",
       "21521         67  343937.404131  14330.725172              24455\n",
       "\n",
       "[3445 rows x 4 columns]"
      ]
     },
     "metadata": {},
     "output_type": "display_data"
    }
   ],
   "source": [
    "# сделаем новый датафрейм где оставим только клиентов с аномальными значениями\n",
    "abnormal_df = df[df['days_employed'] > 300000].copy() \n",
    "\n",
    "# создадим столбец 'correct_days' с новыми значениями, для проверки гипотезы\n",
    "abnormal_df['correct_days'] = abnormal_df['days_employed'] / 24 \n",
    "\n",
    "# создадим столбец с возрастом клиента в днях, для дополнительной проверки данных\n",
    "abnormal_df['max_possible_days'] = abnormal_df['dob_years'] * 365 \n",
    "\n",
    "display(abnormal_df[['dob_years', 'days_employed', 'correct_days', 'max_possible_days']])"
   ]
  },
  {
   "cell_type": "markdown",
   "id": "ba1afa9b",
   "metadata": {},
   "source": [
    "Результат похож на правду, новые данные выглядят вполне реальными. Для того, чтобы убедится, проверим не превышает ли трудовой стаж возраст самого клиента. Для этого воспользуемся нашим новым столбцом **`max_possible_days`**"
   ]
  },
  {
   "cell_type": "code",
   "execution_count": 21,
   "id": "4c0a34f9",
   "metadata": {},
   "outputs": [
    {
     "data": {
      "text/html": [
       "<div>\n",
       "<style scoped>\n",
       "    .dataframe tbody tr th:only-of-type {\n",
       "        vertical-align: middle;\n",
       "    }\n",
       "\n",
       "    .dataframe tbody tr th {\n",
       "        vertical-align: top;\n",
       "    }\n",
       "\n",
       "    .dataframe thead th {\n",
       "        text-align: right;\n",
       "    }\n",
       "</style>\n",
       "<table border=\"1\" class=\"dataframe\">\n",
       "  <thead>\n",
       "    <tr style=\"text-align: right;\">\n",
       "      <th></th>\n",
       "      <th>dob_years</th>\n",
       "      <th>days_employed</th>\n",
       "      <th>correct_days</th>\n",
       "      <th>max_possible_days</th>\n",
       "    </tr>\n",
       "  </thead>\n",
       "  <tbody>\n",
       "    <tr>\n",
       "      <th>157</th>\n",
       "      <td>38</td>\n",
       "      <td>348414.028009</td>\n",
       "      <td>14517.251167</td>\n",
       "      <td>13870</td>\n",
       "    </tr>\n",
       "    <tr>\n",
       "      <th>751</th>\n",
       "      <td>41</td>\n",
       "      <td>390755.464054</td>\n",
       "      <td>16281.477669</td>\n",
       "      <td>14965</td>\n",
       "    </tr>\n",
       "    <tr>\n",
       "      <th>776</th>\n",
       "      <td>38</td>\n",
       "      <td>365336.560325</td>\n",
       "      <td>15222.356680</td>\n",
       "      <td>13870</td>\n",
       "    </tr>\n",
       "    <tr>\n",
       "      <th>1242</th>\n",
       "      <td>22</td>\n",
       "      <td>334764.259831</td>\n",
       "      <td>13948.510826</td>\n",
       "      <td>8030</td>\n",
       "    </tr>\n",
       "    <tr>\n",
       "      <th>1383</th>\n",
       "      <td>37</td>\n",
       "      <td>353802.811675</td>\n",
       "      <td>14741.783820</td>\n",
       "      <td>13505</td>\n",
       "    </tr>\n",
       "  </tbody>\n",
       "</table>\n",
       "</div>"
      ],
      "text/plain": [
       "      dob_years  days_employed  correct_days  max_possible_days\n",
       "157          38  348414.028009  14517.251167              13870\n",
       "751          41  390755.464054  16281.477669              14965\n",
       "776          38  365336.560325  15222.356680              13870\n",
       "1242         22  334764.259831  13948.510826               8030\n",
       "1383         37  353802.811675  14741.783820              13505"
      ]
     },
     "metadata": {},
     "output_type": "display_data"
    }
   ],
   "source": [
    "# создадим переменную-фильтр, для более лаконичной записи кода\n",
    "# Фильтр: (возраст !=0) And (возраст < трудовой стаж)\n",
    "\n",
    "max_possible_filter = abnormal_df[\n",
    "    (abnormal_df['dob_years'] !=0) & \n",
    "    (abnormal_df['max_possible_days'] < abnormal_df['correct_days'])]\n",
    "\n",
    "display(max_possible_filter[['dob_years', 'days_employed', 'correct_days', 'max_possible_days']].head())"
   ]
  },
  {
   "cell_type": "markdown",
   "id": "a1c5ed32",
   "metadata": {},
   "source": [
    "Видно, что все-таки есть нереальные показатели. А счастье было так близко. Но не будем унывать, оценим масштаб проблемы."
   ]
  },
  {
   "cell_type": "code",
   "execution_count": 22,
   "id": "047270f6",
   "metadata": {},
   "outputs": [
    {
     "name": "stdout",
     "output_type": "stream",
     "text": [
      "Количество невозможных значений: 54\n",
      "Количество всех скорректированных значений: 3445\n",
      "Доля невозможных значений в корректировке: 1.6%\n"
     ]
    }
   ],
   "source": [
    "print(f'Количество невозможных значений: {max_possible_filter.shape[0]}')\n",
    "print(f'Количество всех скорректированных значений: {abnormal_df.shape[0]}')\n",
    "print(f'Доля невозможных значений в корректировке: {max_possible_filter.shape[0] / abnormal_df.shape[0]:.1%}')"
   ]
  },
  {
   "cell_type": "markdown",
   "id": "d0d2141e",
   "metadata": {},
   "source": [
    "Как видим, доля невозможных значений составляет всего **1.6%**. Все остальные значения выглядят вполне правдоподобно. Считаю что **гипотеза подтвердилась** и аномально большие значения в трудовом стаже вполне можно разделить на 24. Невозможными значениями пренебрежем."
   ]
  },
  {
   "cell_type": "markdown",
   "id": "0ed267ff",
   "metadata": {},
   "source": [
    "Заменим аномальные значения в стаже, в нашем основном ДатаФрейме"
   ]
  },
  {
   "cell_type": "code",
   "execution_count": 23,
   "id": "0cfe1789",
   "metadata": {},
   "outputs": [],
   "source": [
    "# все что превышает 300.000 в 'days_employed' делим на 24\n",
    "\n",
    "df.loc[df['days_employed'] > 300000, 'days_employed'] /= 24"
   ]
  },
  {
   "cell_type": "code",
   "execution_count": 24,
   "id": "bd76eecf",
   "metadata": {},
   "outputs": [
    {
     "name": "stdout",
     "output_type": "stream",
     "text": [
      "Максимальное значение в столбце \"days_employed\": 18388.949900568383 \n",
      "\n",
      "0         8437.673028\n",
      "1         4024.803754\n",
      "2         5623.422610\n",
      "3         4124.747207\n",
      "4        14177.753002\n",
      "             ...     \n",
      "21520     4529.316663\n",
      "21521    14330.725172\n",
      "21522     2113.346888\n",
      "21523     3112.481705\n",
      "21524     1984.507589\n",
      "Name: days_employed, Length: 21525, dtype: float64\n"
     ]
    }
   ],
   "source": [
    "# Проверим данные\n",
    "\n",
    "print('Максимальное значение в столбце \"days_employed\":', df['days_employed'].max(), '\\n')\n",
    "print(df['days_employed'])"
   ]
  },
  {
   "cell_type": "markdown",
   "id": "29bb8579",
   "metadata": {},
   "source": [
    "Аномальные значения побеждены. Займемся **NaN**,ами"
   ]
  },
  {
   "cell_type": "markdown",
   "id": "eefefbf9",
   "metadata": {
    "scrolled": true
   },
   "source": [
    "Так как показатели стажа могут очень сильно различаться по значениям, пропуски лучше заменить на **медианное** по столбцу."
   ]
  },
  {
   "cell_type": "code",
   "execution_count": 25,
   "id": "603e6670",
   "metadata": {},
   "outputs": [],
   "source": [
    "df.loc[df['days_employed'].isna(), 'days_employed'] = df['days_employed'].median()"
   ]
  },
  {
   "cell_type": "code",
   "execution_count": 26,
   "id": "7024ff0a",
   "metadata": {},
   "outputs": [
    {
     "data": {
      "text/plain": [
       "children            0\n",
       "days_employed       0\n",
       "dob_years           0\n",
       "education           0\n",
       "education_id        0\n",
       "family_status       0\n",
       "family_status_id    0\n",
       "gender              0\n",
       "income_type         0\n",
       "debt                0\n",
       "total_income        0\n",
       "purpose             0\n",
       "dtype: int64"
      ]
     },
     "execution_count": 26,
     "metadata": {},
     "output_type": "execute_result"
    }
   ],
   "source": [
    "# проверим что пропущенных значений больше нет\n",
    "\n",
    "df.isna().sum()"
   ]
  },
  {
   "cell_type": "markdown",
   "id": "e5a8c85a",
   "metadata": {},
   "source": [
    "Ура! **NaN** значений в таблице больше нет!\n",
    "\n",
    "Но остался **нулевой возраст**. Надо что-то с этим делать. Такое значение могло образоваться по причине того, что клиент не указал возраст и система автоматически проставила **`0`**.\n",
    "\n",
    "Посмотрим на срез данных клиентов с нулевым возрастом:"
   ]
  },
  {
   "cell_type": "code",
   "execution_count": 27,
   "id": "7a905abf",
   "metadata": {
    "scrolled": false
   },
   "outputs": [
    {
     "data": {
      "text/html": [
       "<div>\n",
       "<style scoped>\n",
       "    .dataframe tbody tr th:only-of-type {\n",
       "        vertical-align: middle;\n",
       "    }\n",
       "\n",
       "    .dataframe tbody tr th {\n",
       "        vertical-align: top;\n",
       "    }\n",
       "\n",
       "    .dataframe thead th {\n",
       "        text-align: right;\n",
       "    }\n",
       "</style>\n",
       "<table border=\"1\" class=\"dataframe\">\n",
       "  <thead>\n",
       "    <tr style=\"text-align: right;\">\n",
       "      <th></th>\n",
       "      <th>children</th>\n",
       "      <th>days_employed</th>\n",
       "      <th>dob_years</th>\n",
       "      <th>education</th>\n",
       "      <th>education_id</th>\n",
       "      <th>family_status</th>\n",
       "      <th>family_status_id</th>\n",
       "      <th>gender</th>\n",
       "      <th>income_type</th>\n",
       "      <th>debt</th>\n",
       "      <th>total_income</th>\n",
       "      <th>purpose</th>\n",
       "    </tr>\n",
       "  </thead>\n",
       "  <tbody>\n",
       "    <tr>\n",
       "      <th>99</th>\n",
       "      <td>0</td>\n",
       "      <td>14439.234121</td>\n",
       "      <td>0</td>\n",
       "      <td>Среднее</td>\n",
       "      <td>1</td>\n",
       "      <td>женат / замужем</td>\n",
       "      <td>0</td>\n",
       "      <td>F</td>\n",
       "      <td>пенсионер</td>\n",
       "      <td>0</td>\n",
       "      <td>71291.522491</td>\n",
       "      <td>автомобиль</td>\n",
       "    </tr>\n",
       "    <tr>\n",
       "      <th>149</th>\n",
       "      <td>0</td>\n",
       "      <td>2664.273168</td>\n",
       "      <td>0</td>\n",
       "      <td>среднее</td>\n",
       "      <td>1</td>\n",
       "      <td>в разводе</td>\n",
       "      <td>3</td>\n",
       "      <td>F</td>\n",
       "      <td>сотрудник</td>\n",
       "      <td>0</td>\n",
       "      <td>70176.435951</td>\n",
       "      <td>операции с жильем</td>\n",
       "    </tr>\n",
       "    <tr>\n",
       "      <th>270</th>\n",
       "      <td>3</td>\n",
       "      <td>1872.663186</td>\n",
       "      <td>0</td>\n",
       "      <td>среднее</td>\n",
       "      <td>1</td>\n",
       "      <td>женат / замужем</td>\n",
       "      <td>0</td>\n",
       "      <td>F</td>\n",
       "      <td>сотрудник</td>\n",
       "      <td>0</td>\n",
       "      <td>102166.458894</td>\n",
       "      <td>ремонт жилью</td>\n",
       "    </tr>\n",
       "    <tr>\n",
       "      <th>578</th>\n",
       "      <td>0</td>\n",
       "      <td>16577.356876</td>\n",
       "      <td>0</td>\n",
       "      <td>среднее</td>\n",
       "      <td>1</td>\n",
       "      <td>женат / замужем</td>\n",
       "      <td>0</td>\n",
       "      <td>F</td>\n",
       "      <td>пенсионер</td>\n",
       "      <td>0</td>\n",
       "      <td>97620.687042</td>\n",
       "      <td>строительство собственной недвижимости</td>\n",
       "    </tr>\n",
       "    <tr>\n",
       "      <th>1040</th>\n",
       "      <td>0</td>\n",
       "      <td>1158.029561</td>\n",
       "      <td>0</td>\n",
       "      <td>высшее</td>\n",
       "      <td>0</td>\n",
       "      <td>в разводе</td>\n",
       "      <td>3</td>\n",
       "      <td>F</td>\n",
       "      <td>компаньон</td>\n",
       "      <td>0</td>\n",
       "      <td>303994.134987</td>\n",
       "      <td>свой автомобиль</td>\n",
       "    </tr>\n",
       "    <tr>\n",
       "      <th>...</th>\n",
       "      <td>...</td>\n",
       "      <td>...</td>\n",
       "      <td>...</td>\n",
       "      <td>...</td>\n",
       "      <td>...</td>\n",
       "      <td>...</td>\n",
       "      <td>...</td>\n",
       "      <td>...</td>\n",
       "      <td>...</td>\n",
       "      <td>...</td>\n",
       "      <td>...</td>\n",
       "      <td>...</td>\n",
       "    </tr>\n",
       "    <tr>\n",
       "      <th>19829</th>\n",
       "      <td>0</td>\n",
       "      <td>2194.220567</td>\n",
       "      <td>0</td>\n",
       "      <td>среднее</td>\n",
       "      <td>1</td>\n",
       "      <td>женат / замужем</td>\n",
       "      <td>0</td>\n",
       "      <td>F</td>\n",
       "      <td>сотрудник</td>\n",
       "      <td>0</td>\n",
       "      <td>145017.937533</td>\n",
       "      <td>жилье</td>\n",
       "    </tr>\n",
       "    <tr>\n",
       "      <th>20462</th>\n",
       "      <td>0</td>\n",
       "      <td>14113.952856</td>\n",
       "      <td>0</td>\n",
       "      <td>среднее</td>\n",
       "      <td>1</td>\n",
       "      <td>женат / замужем</td>\n",
       "      <td>0</td>\n",
       "      <td>F</td>\n",
       "      <td>пенсионер</td>\n",
       "      <td>0</td>\n",
       "      <td>259193.920299</td>\n",
       "      <td>покупка своего жилья</td>\n",
       "    </tr>\n",
       "    <tr>\n",
       "      <th>20577</th>\n",
       "      <td>0</td>\n",
       "      <td>13822.552977</td>\n",
       "      <td>0</td>\n",
       "      <td>среднее</td>\n",
       "      <td>1</td>\n",
       "      <td>Не женат / не замужем</td>\n",
       "      <td>4</td>\n",
       "      <td>F</td>\n",
       "      <td>пенсионер</td>\n",
       "      <td>0</td>\n",
       "      <td>129788.762899</td>\n",
       "      <td>недвижимость</td>\n",
       "    </tr>\n",
       "    <tr>\n",
       "      <th>21179</th>\n",
       "      <td>2</td>\n",
       "      <td>108.967042</td>\n",
       "      <td>0</td>\n",
       "      <td>высшее</td>\n",
       "      <td>0</td>\n",
       "      <td>женат / замужем</td>\n",
       "      <td>0</td>\n",
       "      <td>M</td>\n",
       "      <td>компаньон</td>\n",
       "      <td>0</td>\n",
       "      <td>240702.007382</td>\n",
       "      <td>строительство жилой недвижимости</td>\n",
       "    </tr>\n",
       "    <tr>\n",
       "      <th>21313</th>\n",
       "      <td>0</td>\n",
       "      <td>1268.487728</td>\n",
       "      <td>0</td>\n",
       "      <td>среднее</td>\n",
       "      <td>1</td>\n",
       "      <td>Не женат / не замужем</td>\n",
       "      <td>4</td>\n",
       "      <td>M</td>\n",
       "      <td>сотрудник</td>\n",
       "      <td>0</td>\n",
       "      <td>152419.184851</td>\n",
       "      <td>операции с жильем</td>\n",
       "    </tr>\n",
       "  </tbody>\n",
       "</table>\n",
       "<p>101 rows × 12 columns</p>\n",
       "</div>"
      ],
      "text/plain": [
       "       children  days_employed  dob_years education  education_id  \\\n",
       "99            0   14439.234121          0   Среднее             1   \n",
       "149           0    2664.273168          0   среднее             1   \n",
       "270           3    1872.663186          0   среднее             1   \n",
       "578           0   16577.356876          0   среднее             1   \n",
       "1040          0    1158.029561          0    высшее             0   \n",
       "...         ...            ...        ...       ...           ...   \n",
       "19829         0    2194.220567          0   среднее             1   \n",
       "20462         0   14113.952856          0   среднее             1   \n",
       "20577         0   13822.552977          0   среднее             1   \n",
       "21179         2     108.967042          0    высшее             0   \n",
       "21313         0    1268.487728          0   среднее             1   \n",
       "\n",
       "               family_status  family_status_id gender income_type  debt  \\\n",
       "99           женат / замужем                 0      F   пенсионер     0   \n",
       "149                в разводе                 3      F   сотрудник     0   \n",
       "270          женат / замужем                 0      F   сотрудник     0   \n",
       "578          женат / замужем                 0      F   пенсионер     0   \n",
       "1040               в разводе                 3      F   компаньон     0   \n",
       "...                      ...               ...    ...         ...   ...   \n",
       "19829        женат / замужем                 0      F   сотрудник     0   \n",
       "20462        женат / замужем                 0      F   пенсионер     0   \n",
       "20577  Не женат / не замужем                 4      F   пенсионер     0   \n",
       "21179        женат / замужем                 0      M   компаньон     0   \n",
       "21313  Не женат / не замужем                 4      M   сотрудник     0   \n",
       "\n",
       "        total_income                                 purpose  \n",
       "99      71291.522491                              автомобиль  \n",
       "149     70176.435951                       операции с жильем  \n",
       "270    102166.458894                            ремонт жилью  \n",
       "578     97620.687042  строительство собственной недвижимости  \n",
       "1040   303994.134987                         свой автомобиль  \n",
       "...              ...                                     ...  \n",
       "19829  145017.937533                                   жилье  \n",
       "20462  259193.920299                    покупка своего жилья  \n",
       "20577  129788.762899                            недвижимость  \n",
       "21179  240702.007382        строительство жилой недвижимости  \n",
       "21313  152419.184851                       операции с жильем  \n",
       "\n",
       "[101 rows x 12 columns]"
      ]
     },
     "metadata": {},
     "output_type": "display_data"
    }
   ],
   "source": [
    "display(df[df['dob_years'] == 0])"
   ]
  },
  {
   "cell_type": "markdown",
   "id": "194c8e80",
   "metadata": {},
   "source": [
    "Учитывая, что у нас есть данные о стаже. Можем заполнить пропуски по следующей формуле:\n",
    "$$ {Стаж \\over 365 } + 19 $$\n",
    "Таким образом мы получим более корректный возраст, чем просто среднее значение по столбцу"
   ]
  },
  {
   "cell_type": "code",
   "execution_count": 28,
   "id": "5c50d3b9",
   "metadata": {},
   "outputs": [],
   "source": [
    "# для того чтобы заменить возраст по формуле напишем небольшую функцию\n",
    "# функция будет обходить ДатаФрейм построчно\n",
    "\n",
    "def dob_years_repair(row):\n",
    "    if row['dob_years'] == 0: # если возраст равен нулю\n",
    "        return int(row['days_employed'] / 365 + 19 ) # заменяем его на расчет формулы стаж/365 +19\n",
    "    else:\n",
    "        return row['dob_years'] # иначе оставляем старое значение"
   ]
  },
  {
   "cell_type": "code",
   "execution_count": 29,
   "id": "36ca7ed0",
   "metadata": {},
   "outputs": [],
   "source": [
    "# вызовем функцию dob_years_repair. Для того чтобы код не крашнулся используем конструкцию try-except\n",
    "\n",
    "try:\n",
    "    df['dob_years'] = df.apply(dob_years_repair, axis=1)\n",
    "except:\n",
    "    print('Код не сработал, требуется проверить на ошибки!')"
   ]
  },
  {
   "cell_type": "code",
   "execution_count": 30,
   "id": "5ed3bb90",
   "metadata": {},
   "outputs": [
    {
     "data": {
      "text/html": [
       "<div>\n",
       "<style scoped>\n",
       "    .dataframe tbody tr th:only-of-type {\n",
       "        vertical-align: middle;\n",
       "    }\n",
       "\n",
       "    .dataframe tbody tr th {\n",
       "        vertical-align: top;\n",
       "    }\n",
       "\n",
       "    .dataframe thead th {\n",
       "        text-align: right;\n",
       "    }\n",
       "</style>\n",
       "<table border=\"1\" class=\"dataframe\">\n",
       "  <thead>\n",
       "    <tr style=\"text-align: right;\">\n",
       "      <th></th>\n",
       "      <th>children</th>\n",
       "      <th>days_employed</th>\n",
       "      <th>dob_years</th>\n",
       "      <th>education</th>\n",
       "      <th>education_id</th>\n",
       "      <th>family_status</th>\n",
       "      <th>family_status_id</th>\n",
       "      <th>gender</th>\n",
       "      <th>income_type</th>\n",
       "      <th>debt</th>\n",
       "      <th>total_income</th>\n",
       "      <th>purpose</th>\n",
       "    </tr>\n",
       "  </thead>\n",
       "  <tbody>\n",
       "  </tbody>\n",
       "</table>\n",
       "</div>"
      ],
      "text/plain": [
       "Empty DataFrame\n",
       "Columns: [children, days_employed, dob_years, education, education_id, family_status, family_status_id, gender, income_type, debt, total_income, purpose]\n",
       "Index: []"
      ]
     },
     "metadata": {},
     "output_type": "display_data"
    },
    {
     "data": {
      "text/html": [
       "<div>\n",
       "<style scoped>\n",
       "    .dataframe tbody tr th:only-of-type {\n",
       "        vertical-align: middle;\n",
       "    }\n",
       "\n",
       "    .dataframe tbody tr th {\n",
       "        vertical-align: top;\n",
       "    }\n",
       "\n",
       "    .dataframe thead th {\n",
       "        text-align: right;\n",
       "    }\n",
       "</style>\n",
       "<table border=\"1\" class=\"dataframe\">\n",
       "  <thead>\n",
       "    <tr style=\"text-align: right;\">\n",
       "      <th></th>\n",
       "      <th>children</th>\n",
       "      <th>days_employed</th>\n",
       "      <th>dob_years</th>\n",
       "      <th>education</th>\n",
       "      <th>education_id</th>\n",
       "      <th>family_status</th>\n",
       "      <th>family_status_id</th>\n",
       "      <th>gender</th>\n",
       "      <th>income_type</th>\n",
       "      <th>debt</th>\n",
       "      <th>total_income</th>\n",
       "      <th>purpose</th>\n",
       "    </tr>\n",
       "  </thead>\n",
       "  <tbody>\n",
       "    <tr>\n",
       "      <th>99</th>\n",
       "      <td>0</td>\n",
       "      <td>14439.234121</td>\n",
       "      <td>58</td>\n",
       "      <td>Среднее</td>\n",
       "      <td>1</td>\n",
       "      <td>женат / замужем</td>\n",
       "      <td>0</td>\n",
       "      <td>F</td>\n",
       "      <td>пенсионер</td>\n",
       "      <td>0</td>\n",
       "      <td>71291.522491</td>\n",
       "      <td>автомобиль</td>\n",
       "    </tr>\n",
       "    <tr>\n",
       "      <th>149</th>\n",
       "      <td>0</td>\n",
       "      <td>2664.273168</td>\n",
       "      <td>26</td>\n",
       "      <td>среднее</td>\n",
       "      <td>1</td>\n",
       "      <td>в разводе</td>\n",
       "      <td>3</td>\n",
       "      <td>F</td>\n",
       "      <td>сотрудник</td>\n",
       "      <td>0</td>\n",
       "      <td>70176.435951</td>\n",
       "      <td>операции с жильем</td>\n",
       "    </tr>\n",
       "    <tr>\n",
       "      <th>270</th>\n",
       "      <td>3</td>\n",
       "      <td>1872.663186</td>\n",
       "      <td>24</td>\n",
       "      <td>среднее</td>\n",
       "      <td>1</td>\n",
       "      <td>женат / замужем</td>\n",
       "      <td>0</td>\n",
       "      <td>F</td>\n",
       "      <td>сотрудник</td>\n",
       "      <td>0</td>\n",
       "      <td>102166.458894</td>\n",
       "      <td>ремонт жилью</td>\n",
       "    </tr>\n",
       "    <tr>\n",
       "      <th>578</th>\n",
       "      <td>0</td>\n",
       "      <td>16577.356876</td>\n",
       "      <td>64</td>\n",
       "      <td>среднее</td>\n",
       "      <td>1</td>\n",
       "      <td>женат / замужем</td>\n",
       "      <td>0</td>\n",
       "      <td>F</td>\n",
       "      <td>пенсионер</td>\n",
       "      <td>0</td>\n",
       "      <td>97620.687042</td>\n",
       "      <td>строительство собственной недвижимости</td>\n",
       "    </tr>\n",
       "    <tr>\n",
       "      <th>1040</th>\n",
       "      <td>0</td>\n",
       "      <td>1158.029561</td>\n",
       "      <td>22</td>\n",
       "      <td>высшее</td>\n",
       "      <td>0</td>\n",
       "      <td>в разводе</td>\n",
       "      <td>3</td>\n",
       "      <td>F</td>\n",
       "      <td>компаньон</td>\n",
       "      <td>0</td>\n",
       "      <td>303994.134987</td>\n",
       "      <td>свой автомобиль</td>\n",
       "    </tr>\n",
       "  </tbody>\n",
       "</table>\n",
       "</div>"
      ],
      "text/plain": [
       "      children  days_employed  dob_years education  education_id  \\\n",
       "99           0   14439.234121         58   Среднее             1   \n",
       "149          0    2664.273168         26   среднее             1   \n",
       "270          3    1872.663186         24   среднее             1   \n",
       "578          0   16577.356876         64   среднее             1   \n",
       "1040         0    1158.029561         22    высшее             0   \n",
       "\n",
       "        family_status  family_status_id gender income_type  debt  \\\n",
       "99    женат / замужем                 0      F   пенсионер     0   \n",
       "149         в разводе                 3      F   сотрудник     0   \n",
       "270   женат / замужем                 0      F   сотрудник     0   \n",
       "578   женат / замужем                 0      F   пенсионер     0   \n",
       "1040        в разводе                 3      F   компаньон     0   \n",
       "\n",
       "       total_income                                 purpose  \n",
       "99     71291.522491                              автомобиль  \n",
       "149    70176.435951                       операции с жильем  \n",
       "270   102166.458894                            ремонт жилью  \n",
       "578    97620.687042  строительство собственной недвижимости  \n",
       "1040  303994.134987                         свой автомобиль  "
      ]
     },
     "metadata": {},
     "output_type": "display_data"
    }
   ],
   "source": [
    "# Проверим, что нулевых значений больше нет\n",
    "display(df[df['dob_years'] == 0])\n",
    "\n",
    "# А так же выборочно проверим, как отработал код по строкам, где был нулевой возраст\n",
    "display(df.loc[[99, 149, 270, 578, 1040]])"
   ]
  },
  {
   "cell_type": "markdown",
   "id": "29ca0224",
   "metadata": {},
   "source": [
    "Получившиеся значения выглядят весьма правдоподобно."
   ]
  },
  {
   "cell_type": "markdown",
   "id": "7e51ad52",
   "metadata": {},
   "source": [
    "**Пройдемся по другим количественным показателям для поиска аномальных значений**"
   ]
  },
  {
   "cell_type": "code",
   "execution_count": 31,
   "id": "24d0a5af",
   "metadata": {},
   "outputs": [
    {
     "data": {
      "text/plain": [
       " 0     14149\n",
       " 1      4818\n",
       " 2      2055\n",
       " 3       330\n",
       " 20       76\n",
       "-1        47\n",
       " 4        41\n",
       " 5         9\n",
       "Name: children, dtype: int64"
      ]
     },
     "execution_count": 31,
     "metadata": {},
     "output_type": "execute_result"
    }
   ],
   "source": [
    "# посмотрим какие значения есть в столбце \"количество детей\"\n",
    "\n",
    "df['children'].value_counts()"
   ]
  },
  {
   "cell_type": "markdown",
   "id": "78e4f87a",
   "metadata": {},
   "source": [
    "Значения **`-1`** и **`20`** явно нездоровые. Подумаем как такое могло произойти и на что лучше их заменить.\n",
    "- Значение **`-1`** могло появиться из-за ошибки в наборе, человек мол вбить **`-`** тире и **`1`**. Тут лучше всего просто заменить отрицательное значение на положительное\n",
    "- Значение **`20`** могло появиться из-за случайного нажатия нуля на дополнительной клавиатуре. Как раз кнопка ноль расположена рядом с двойкой. Такая ошибка имеет место быть. Считаю что данную ошибку лучше всего заменить на **`2`**"
   ]
  },
  {
   "cell_type": "code",
   "execution_count": 32,
   "id": "14bd474a",
   "metadata": {
    "scrolled": true
   },
   "outputs": [
    {
     "name": "stdout",
     "output_type": "stream",
     "text": [
      "Количество аномальных значений в столбце \"children\": 123\n",
      "Количество всех значений: 21525\n",
      "Доля аномальных значений в поле \"children\": 0.6%\n"
     ]
    }
   ],
   "source": [
    "abnomal_children = df[(df['children'] == -1) | (df['children'] == 20)]['children'].count()\n",
    "\n",
    "print(f'Количество аномальных значений в столбце \"children\": {abnomal_children}')\n",
    "print(f'Количество всех значений: {df.shape[0]}')\n",
    "print(f'Доля аномальных значений в поле \"children\": {abnomal_children / df.shape[0]:.1%}')"
   ]
  },
  {
   "cell_type": "markdown",
   "id": "652f0739",
   "metadata": {},
   "source": [
    "Количество аномальных значений не превышает 1% можем избавиться от них."
   ]
  },
  {
   "cell_type": "code",
   "execution_count": 33,
   "id": "d4cb2f1a",
   "metadata": {},
   "outputs": [],
   "source": [
    "# заменим все значения на модуль числа, чтобы избавится от отрицательных значений\n",
    "# для защиты выполнения применим конструкцию try-except\n",
    "\n",
    "try:\n",
    "    df['children'] = abs(df['children'])\n",
    "except:\n",
    "    print('Код не отработал, в данных обнаружена ошибка!')\n",
    "\n",
    "# все значения 20 заменим на 2\n",
    "df.loc[df['children'] == 20, 'children'] = 2"
   ]
  },
  {
   "cell_type": "code",
   "execution_count": 34,
   "id": "3b16351c",
   "metadata": {},
   "outputs": [
    {
     "data": {
      "text/plain": [
       "0    14149\n",
       "1     4865\n",
       "2     2131\n",
       "3      330\n",
       "4       41\n",
       "5        9\n",
       "Name: children, dtype: int64"
      ]
     },
     "execution_count": 34,
     "metadata": {},
     "output_type": "execute_result"
    }
   ],
   "source": [
    "# проверим результат наших запросов\n",
    "\n",
    "df['children'].value_counts()"
   ]
  },
  {
   "cell_type": "markdown",
   "id": "b25ce6d6",
   "metadata": {},
   "source": [
    "Пропуски и аномальные значения побеждены"
   ]
  },
  {
   "cell_type": "markdown",
   "id": "60ffd77c",
   "metadata": {},
   "source": [
    "<a id='anomalies_conclusion'></a>\n",
    "#### Итоги работы с пропусками и аномальными значениями"
   ]
  },
  {
   "cell_type": "markdown",
   "id": "d955161b",
   "metadata": {},
   "source": [
    "- **`total_income`** - заменено **2174** **`NaN`** значений на **медианное** по столбцу\n",
    "- **`days_employed`** - замена отрицательных значений на модуль числа\n",
    "- **`days_employed`** - аномально большие значения (>300000) из часов переведены в дни путем деления на 24\n",
    "- **`days_employed`** - заменено **2174** **`NaN`** значений на **медианное** по столбцу\n",
    "- **`dob_years`** - заменили нулевой возраст по формуле: **стаж / 365 + 19**\n",
    "- **`children`** - значения **-1** заменены на **1**, значения **20** заменены на **2**"
   ]
  },
  {
   "cell_type": "markdown",
   "id": "b6b1ad29",
   "metadata": {},
   "source": [
    "<a id='change_type'></a>\n",
    "### 2.3. Изменение типов данных"
   ]
  },
  {
   "cell_type": "markdown",
   "id": "0c192dc5",
   "metadata": {},
   "source": [
    "В столбцах **`days_employed`** и **`total_income`** используется **вещественный** тип данных. Для нашей задачи такая точность данных избыточна. По этому с чистой совестью можем сконвертировать эти значения в целые числа. Это облегчит нам визуальный анализ данных."
   ]
  },
  {
   "cell_type": "code",
   "execution_count": 35,
   "id": "95464062",
   "metadata": {},
   "outputs": [],
   "source": [
    "# применим функцию astype() чтобы сконвертировать наши значения\n",
    "\n",
    "df['days_employed'] = df['days_employed'].astype('int32')\n",
    "df['total_income'] = df['total_income'].astype('int32')"
   ]
  },
  {
   "cell_type": "code",
   "execution_count": 36,
   "id": "a9ababcb",
   "metadata": {},
   "outputs": [
    {
     "data": {
      "text/html": [
       "<div>\n",
       "<style scoped>\n",
       "    .dataframe tbody tr th:only-of-type {\n",
       "        vertical-align: middle;\n",
       "    }\n",
       "\n",
       "    .dataframe tbody tr th {\n",
       "        vertical-align: top;\n",
       "    }\n",
       "\n",
       "    .dataframe thead th {\n",
       "        text-align: right;\n",
       "    }\n",
       "</style>\n",
       "<table border=\"1\" class=\"dataframe\">\n",
       "  <thead>\n",
       "    <tr style=\"text-align: right;\">\n",
       "      <th></th>\n",
       "      <th>children</th>\n",
       "      <th>days_employed</th>\n",
       "      <th>dob_years</th>\n",
       "      <th>education</th>\n",
       "      <th>education_id</th>\n",
       "      <th>family_status</th>\n",
       "      <th>family_status_id</th>\n",
       "      <th>gender</th>\n",
       "      <th>income_type</th>\n",
       "      <th>debt</th>\n",
       "      <th>total_income</th>\n",
       "      <th>purpose</th>\n",
       "    </tr>\n",
       "  </thead>\n",
       "  <tbody>\n",
       "    <tr>\n",
       "      <th>0</th>\n",
       "      <td>1</td>\n",
       "      <td>8437</td>\n",
       "      <td>42</td>\n",
       "      <td>высшее</td>\n",
       "      <td>0</td>\n",
       "      <td>женат / замужем</td>\n",
       "      <td>0</td>\n",
       "      <td>F</td>\n",
       "      <td>сотрудник</td>\n",
       "      <td>0</td>\n",
       "      <td>253875</td>\n",
       "      <td>покупка жилья</td>\n",
       "    </tr>\n",
       "    <tr>\n",
       "      <th>1</th>\n",
       "      <td>1</td>\n",
       "      <td>4024</td>\n",
       "      <td>36</td>\n",
       "      <td>среднее</td>\n",
       "      <td>1</td>\n",
       "      <td>женат / замужем</td>\n",
       "      <td>0</td>\n",
       "      <td>F</td>\n",
       "      <td>сотрудник</td>\n",
       "      <td>0</td>\n",
       "      <td>112080</td>\n",
       "      <td>приобретение автомобиля</td>\n",
       "    </tr>\n",
       "  </tbody>\n",
       "</table>\n",
       "</div>"
      ],
      "text/plain": [
       "   children  days_employed  dob_years education  education_id  \\\n",
       "0         1           8437         42    высшее             0   \n",
       "1         1           4024         36   среднее             1   \n",
       "\n",
       "     family_status  family_status_id gender income_type  debt  total_income  \\\n",
       "0  женат / замужем                 0      F   сотрудник     0        253875   \n",
       "1  женат / замужем                 0      F   сотрудник     0        112080   \n",
       "\n",
       "                   purpose  \n",
       "0            покупка жилья  \n",
       "1  приобретение автомобиля  "
      ]
     },
     "metadata": {},
     "output_type": "display_data"
    }
   ],
   "source": [
    "display(df.head(2))"
   ]
  },
  {
   "cell_type": "code",
   "execution_count": 37,
   "id": "dc950624",
   "metadata": {},
   "outputs": [
    {
     "name": "stdout",
     "output_type": "stream",
     "text": [
      "<class 'pandas.core.frame.DataFrame'>\n",
      "RangeIndex: 21525 entries, 0 to 21524\n",
      "Data columns (total 12 columns):\n",
      " #   Column            Non-Null Count  Dtype \n",
      "---  ------            --------------  ----- \n",
      " 0   children          21525 non-null  int64 \n",
      " 1   days_employed     21525 non-null  int32 \n",
      " 2   dob_years         21525 non-null  int64 \n",
      " 3   education         21525 non-null  object\n",
      " 4   education_id      21525 non-null  int64 \n",
      " 5   family_status     21525 non-null  object\n",
      " 6   family_status_id  21525 non-null  int64 \n",
      " 7   gender            21525 non-null  object\n",
      " 8   income_type       21525 non-null  object\n",
      " 9   debt              21525 non-null  int64 \n",
      " 10  total_income      21525 non-null  int32 \n",
      " 11  purpose           21525 non-null  object\n",
      "dtypes: int32(2), int64(5), object(5)\n",
      "memory usage: 1.8+ MB\n"
     ]
    }
   ],
   "source": [
    "df.info()"
   ]
  },
  {
   "cell_type": "markdown",
   "id": "76dfd12a",
   "metadata": {},
   "source": [
    "**`int32`** в данной ситуации нас вполне устроит. Вряд-ли у кого то найдется стаж или зарплата выже 2 млрд./мес."
   ]
  },
  {
   "cell_type": "markdown",
   "id": "083dd2a6",
   "metadata": {},
   "source": [
    "<a id='duplicate_delete'></a>\n",
    "### 2.4 Удаление дубликатов"
   ]
  },
  {
   "cell_type": "markdown",
   "id": "d4e61410",
   "metadata": {},
   "source": [
    "**Проведем разведку неявных дубликатов по столбцам с категориальными значениями.**"
   ]
  },
  {
   "cell_type": "markdown",
   "id": "da273a5f",
   "metadata": {},
   "source": [
    "Первым исследуем столбец \"образование\" "
   ]
  },
  {
   "cell_type": "code",
   "execution_count": 38,
   "id": "94114e21",
   "metadata": {},
   "outputs": [
    {
     "data": {
      "text/plain": [
       "среднее                13750\n",
       "высшее                  4718\n",
       "СРЕДНЕЕ                  772\n",
       "Среднее                  711\n",
       "неоконченное высшее      668\n",
       "ВЫСШЕЕ                   274\n",
       "Высшее                   268\n",
       "начальное                250\n",
       "Неоконченное высшее       47\n",
       "НЕОКОНЧЕННОЕ ВЫСШЕЕ       29\n",
       "НАЧАЛЬНОЕ                 17\n",
       "Начальное                 15\n",
       "ученая степень             4\n",
       "Ученая степень             1\n",
       "УЧЕНАЯ СТЕПЕНЬ             1\n",
       "Name: education, dtype: int64"
      ]
     },
     "execution_count": 38,
     "metadata": {},
     "output_type": "execute_result"
    }
   ],
   "source": [
    "df['education'].value_counts()"
   ]
  },
  {
   "cell_type": "markdown",
   "id": "dc4cc212",
   "metadata": {},
   "source": [
    "В столбце много схожих значений, но из заглавных и строчных символов целый винегрет. Возникновение подобных данных вполне естественный процесс, все люди разные и привыкли вбивать информацию по разному. Кто то с Большой буквы, а кто-то ВСЕ БОЛЬШИМИ. Как хорошо что для таких случаев у нас есть метод **`str.lower()`**"
   ]
  },
  {
   "cell_type": "code",
   "execution_count": 39,
   "id": "29cd3db1",
   "metadata": {},
   "outputs": [],
   "source": [
    "# приведм все в нижний регистр\n",
    "\n",
    "df['education'] = df['education'].str.lower()"
   ]
  },
  {
   "cell_type": "code",
   "execution_count": 40,
   "id": "95707c3b",
   "metadata": {},
   "outputs": [
    {
     "data": {
      "text/plain": [
       "среднее                15233\n",
       "высшее                  5260\n",
       "неоконченное высшее      744\n",
       "начальное                282\n",
       "ученая степень             6\n",
       "Name: education, dtype: int64"
      ]
     },
     "execution_count": 40,
     "metadata": {},
     "output_type": "execute_result"
    }
   ],
   "source": [
    "# опять посмотрим на данные\n",
    "\n",
    "df['education'].value_counts()"
   ]
  },
  {
   "cell_type": "markdown",
   "id": "7d80144d",
   "metadata": {},
   "source": [
    "Теперь все в порядке. \n",
    "\n",
    "Изучим столбец **`education_id`**"
   ]
  },
  {
   "cell_type": "code",
   "execution_count": 41,
   "id": "46881784",
   "metadata": {},
   "outputs": [
    {
     "data": {
      "text/plain": [
       "1    15233\n",
       "0     5260\n",
       "2      744\n",
       "3      282\n",
       "4        6\n",
       "Name: education_id, dtype: int64"
      ]
     },
     "execution_count": 41,
     "metadata": {},
     "output_type": "execute_result"
    }
   ],
   "source": [
    "df['education_id'].value_counts()"
   ]
  },
  {
   "cell_type": "markdown",
   "id": "b2f55624",
   "metadata": {},
   "source": [
    "Количество уникальных значений полностью совпадает со столбцом **`education`**. Значит можно будет использовать связку этих данных, чтобы выделить отдельную таблицу-спарвочник. Вернемся к этому позже."
   ]
  },
  {
   "cell_type": "markdown",
   "id": "790c649f",
   "metadata": {},
   "source": [
    "Следующий на очереди **`family_status`**"
   ]
  },
  {
   "cell_type": "code",
   "execution_count": 42,
   "id": "e977e036",
   "metadata": {},
   "outputs": [
    {
     "data": {
      "text/plain": [
       "женат / замужем          12380\n",
       "гражданский брак          4177\n",
       "Не женат / не замужем     2813\n",
       "в разводе                 1195\n",
       "вдовец / вдова             960\n",
       "Name: family_status, dtype: int64"
      ]
     },
     "execution_count": 42,
     "metadata": {},
     "output_type": "execute_result"
    }
   ],
   "source": [
    "df['family_status'].value_counts()"
   ]
  },
  {
   "cell_type": "markdown",
   "id": "fafd80da",
   "metadata": {},
   "source": [
    "В одном из значений обнаружилась заглавная буква. Не смотря на то, что это не создало нам неявный дубликат, от греха подальше привем все это в нижний регистр."
   ]
  },
  {
   "cell_type": "code",
   "execution_count": 43,
   "id": "c52ea0b1",
   "metadata": {},
   "outputs": [],
   "source": [
    "df['family_status'] = df['family_status'].str.lower()"
   ]
  },
  {
   "cell_type": "code",
   "execution_count": 44,
   "id": "c5b17e05",
   "metadata": {},
   "outputs": [
    {
     "data": {
      "text/plain": [
       "женат / замужем          12380\n",
       "гражданский брак          4177\n",
       "не женат / не замужем     2813\n",
       "в разводе                 1195\n",
       "вдовец / вдова             960\n",
       "Name: family_status, dtype: int64"
      ]
     },
     "execution_count": 44,
     "metadata": {},
     "output_type": "execute_result"
    }
   ],
   "source": [
    "df['family_status'].value_counts()"
   ]
  },
  {
   "cell_type": "markdown",
   "id": "889510ac",
   "metadata": {},
   "source": [
    "Так-то лучше. Неявных дубликатов нет.\n",
    "\n",
    "Теперь очередь **`family_status_id`**"
   ]
  },
  {
   "cell_type": "code",
   "execution_count": 45,
   "id": "eb87f154",
   "metadata": {},
   "outputs": [
    {
     "data": {
      "text/plain": [
       "0    12380\n",
       "1     4177\n",
       "4     2813\n",
       "3     1195\n",
       "2      960\n",
       "Name: family_status_id, dtype: int64"
      ]
     },
     "execution_count": 45,
     "metadata": {},
     "output_type": "execute_result"
    }
   ],
   "source": [
    "df['family_status_id'].value_counts()"
   ]
  },
  {
   "cell_type": "markdown",
   "id": "fe6e3751",
   "metadata": {},
   "source": [
    "Опять видим что **`id`** по количеству уникальных значений совпадают с одноименным столбцом. Сделаем из этой связки вторую таблицу-справочник."
   ]
  },
  {
   "cell_type": "markdown",
   "id": "81deb90e",
   "metadata": {},
   "source": [
    "Теперь проверим тип занятости **`income_type`**"
   ]
  },
  {
   "cell_type": "code",
   "execution_count": 46,
   "id": "70752d3a",
   "metadata": {},
   "outputs": [
    {
     "data": {
      "text/plain": [
       "сотрудник          11119\n",
       "компаньон           5085\n",
       "пенсионер           3856\n",
       "госслужащий         1459\n",
       "безработный            2\n",
       "предприниматель        2\n",
       "студент                1\n",
       "в декрете              1\n",
       "Name: income_type, dtype: int64"
      ]
     },
     "execution_count": 46,
     "metadata": {},
     "output_type": "execute_result"
    }
   ],
   "source": [
    "df['income_type'].value_counts()"
   ]
  },
  {
   "cell_type": "markdown",
   "id": "84e3f7c2",
   "metadata": {},
   "source": [
    "Тут все в полном порядке.\n",
    "\n",
    "Далее цель кредита **`purpose`**"
   ]
  },
  {
   "cell_type": "code",
   "execution_count": 47,
   "id": "f7a42558",
   "metadata": {
    "scrolled": false
   },
   "outputs": [
    {
     "data": {
      "text/plain": [
       "свадьба                                   797\n",
       "на проведение свадьбы                     777\n",
       "сыграть свадьбу                           774\n",
       "операции с недвижимостью                  676\n",
       "покупка коммерческой недвижимости         664\n",
       "покупка жилья для сдачи                   653\n",
       "операции с жильем                         653\n",
       "операции с коммерческой недвижимостью     651\n",
       "покупка жилья                             647\n",
       "жилье                                     647\n",
       "покупка жилья для семьи                   641\n",
       "строительство собственной недвижимости    635\n",
       "недвижимость                              634\n",
       "операции со своей недвижимостью           630\n",
       "строительство жилой недвижимости          626\n",
       "покупка недвижимости                      624\n",
       "строительство недвижимости                620\n",
       "покупка своего жилья                      620\n",
       "ремонт жилью                              612\n",
       "покупка жилой недвижимости                607\n",
       "на покупку своего автомобиля              505\n",
       "заняться высшим образованием              496\n",
       "автомобиль                                495\n",
       "сделка с подержанным автомобилем          489\n",
       "свой автомобиль                           480\n",
       "на покупку подержанного автомобиля        479\n",
       "автомобили                                478\n",
       "на покупку автомобиля                     472\n",
       "дополнительное образование                462\n",
       "приобретение автомобиля                   462\n",
       "сделка с автомобилем                      455\n",
       "высшее образование                        453\n",
       "образование                               447\n",
       "получение дополнительного образования     447\n",
       "получение образования                     443\n",
       "профильное образование                    436\n",
       "получение высшего образования             426\n",
       "заняться образованием                     412\n",
       "Name: purpose, dtype: int64"
      ]
     },
     "execution_count": 47,
     "metadata": {},
     "output_type": "execute_result"
    }
   ],
   "source": [
    "df['purpose'].value_counts()"
   ]
  },
  {
   "cell_type": "markdown",
   "id": "54174213",
   "metadata": {},
   "source": [
    "Очень много схожих значений, но неявных дубликатов тут нет. Чуть позже вернемся к этому столбцу для категоризации.\n",
    "\n",
    "Далее пол **`gender`**"
   ]
  },
  {
   "cell_type": "code",
   "execution_count": 48,
   "id": "8efd1d8d",
   "metadata": {
    "scrolled": true
   },
   "outputs": [
    {
     "data": {
      "text/plain": [
       "F      14236\n",
       "M       7288\n",
       "XNA        1\n",
       "Name: gender, dtype: int64"
      ]
     },
     "execution_count": 48,
     "metadata": {},
     "output_type": "execute_result"
    }
   ],
   "source": [
    "df['gender'].value_counts()"
   ]
  },
  {
   "cell_type": "markdown",
   "id": "3b553291",
   "metadata": {},
   "source": [
    "Обнаружилось какое-то странное значение **`XNA`**. Посмотрим на него по подробнее."
   ]
  },
  {
   "cell_type": "code",
   "execution_count": 49,
   "id": "eb969b9d",
   "metadata": {},
   "outputs": [
    {
     "data": {
      "text/html": [
       "<div>\n",
       "<style scoped>\n",
       "    .dataframe tbody tr th:only-of-type {\n",
       "        vertical-align: middle;\n",
       "    }\n",
       "\n",
       "    .dataframe tbody tr th {\n",
       "        vertical-align: top;\n",
       "    }\n",
       "\n",
       "    .dataframe thead th {\n",
       "        text-align: right;\n",
       "    }\n",
       "</style>\n",
       "<table border=\"1\" class=\"dataframe\">\n",
       "  <thead>\n",
       "    <tr style=\"text-align: right;\">\n",
       "      <th></th>\n",
       "      <th>children</th>\n",
       "      <th>days_employed</th>\n",
       "      <th>dob_years</th>\n",
       "      <th>education</th>\n",
       "      <th>education_id</th>\n",
       "      <th>family_status</th>\n",
       "      <th>family_status_id</th>\n",
       "      <th>gender</th>\n",
       "      <th>income_type</th>\n",
       "      <th>debt</th>\n",
       "      <th>total_income</th>\n",
       "      <th>purpose</th>\n",
       "    </tr>\n",
       "  </thead>\n",
       "  <tbody>\n",
       "    <tr>\n",
       "      <th>10701</th>\n",
       "      <td>0</td>\n",
       "      <td>2358</td>\n",
       "      <td>24</td>\n",
       "      <td>неоконченное высшее</td>\n",
       "      <td>2</td>\n",
       "      <td>гражданский брак</td>\n",
       "      <td>1</td>\n",
       "      <td>XNA</td>\n",
       "      <td>компаньон</td>\n",
       "      <td>0</td>\n",
       "      <td>203905</td>\n",
       "      <td>покупка недвижимости</td>\n",
       "    </tr>\n",
       "  </tbody>\n",
       "</table>\n",
       "</div>"
      ],
      "text/plain": [
       "       children  days_employed  dob_years            education  education_id  \\\n",
       "10701         0           2358         24  неоконченное высшее             2   \n",
       "\n",
       "          family_status  family_status_id gender income_type  debt  \\\n",
       "10701  гражданский брак                 1    XNA   компаньон     0   \n",
       "\n",
       "       total_income               purpose  \n",
       "10701        203905  покупка недвижимости  "
      ]
     },
     "execution_count": 49,
     "metadata": {},
     "output_type": "execute_result"
    }
   ],
   "source": [
    "df[df['gender'] == 'XNA']"
   ]
  },
  {
   "cell_type": "markdown",
   "id": "bf238a0e",
   "metadata": {},
   "source": [
    "Сложно сказать что это за ошибка и откуда она взялась. Но так как значение всего одно, давайте вручную исправим его. Проанализируем данные:\n",
    "- 24 года\n",
    "- неоконченное высшее\n",
    "- гражданский брак\n",
    "- поиск недвижимости\n",
    "\n",
    "Скорей всего это мужчина. Исправим это. Не смотря на то, что значение всего одно и можно исправить ячейку адресно, все равно используем логическую индексацию, так как если по какой то причине это значение уедет на другой индекс, мы поменяем не то что нужно."
   ]
  },
  {
   "cell_type": "code",
   "execution_count": 50,
   "id": "d09cd065",
   "metadata": {},
   "outputs": [],
   "source": [
    "# прогоняем весть столбце на замену XNA -> M. По итогу меняется только одно значение.\n",
    "\n",
    "df.loc[df['gender'] == 'XNA', 'gender'] = 'M'"
   ]
  },
  {
   "cell_type": "code",
   "execution_count": 51,
   "id": "10f3727b",
   "metadata": {},
   "outputs": [
    {
     "data": {
      "text/plain": [
       "F    14236\n",
       "M     7289\n",
       "Name: gender, dtype: int64"
      ]
     },
     "execution_count": 51,
     "metadata": {},
     "output_type": "execute_result"
    }
   ],
   "source": [
    "# проверим\n",
    "\n",
    "df['gender'].value_counts()"
   ]
  },
  {
   "cell_type": "markdown",
   "id": "5b20d9a7",
   "metadata": {},
   "source": [
    "Все отлично, теперь только мужчины и женщины!\n",
    "\n",
    "Изучим наличие задолжностей **`debt`** "
   ]
  },
  {
   "cell_type": "code",
   "execution_count": 52,
   "id": "e0bf90e4",
   "metadata": {},
   "outputs": [
    {
     "data": {
      "text/plain": [
       "0    19784\n",
       "1     1741\n",
       "Name: debt, dtype: int64"
      ]
     },
     "execution_count": 52,
     "metadata": {},
     "output_type": "execute_result"
    }
   ],
   "source": [
    "df['debt'].value_counts()"
   ]
  },
  {
   "cell_type": "markdown",
   "id": "32dba9b8",
   "metadata": {},
   "source": [
    "Тут все в порядке."
   ]
  },
  {
   "cell_type": "markdown",
   "id": "f6f25ff3",
   "metadata": {},
   "source": [
    "Проверим наш ДатаФрейм на явные дубликаты."
   ]
  },
  {
   "cell_type": "code",
   "execution_count": 53,
   "id": "182fd321",
   "metadata": {},
   "outputs": [
    {
     "data": {
      "text/plain": [
       "71"
      ]
     },
     "execution_count": 53,
     "metadata": {},
     "output_type": "execute_result"
    }
   ],
   "source": [
    "df.duplicated().sum()"
   ]
  },
  {
   "cell_type": "markdown",
   "id": "fc9e42a2",
   "metadata": {},
   "source": [
    "Полных дубликатов строк 71 шутка. Они молгили появиться из-за того, что предоставленную нам таблицу заполняли из разных источников. Просто удалим их с перезаписью индексов."
   ]
  },
  {
   "cell_type": "code",
   "execution_count": 54,
   "id": "5f88f369",
   "metadata": {
    "scrolled": false
   },
   "outputs": [
    {
     "data": {
      "text/plain": [
       "0"
      ]
     },
     "execution_count": 54,
     "metadata": {},
     "output_type": "execute_result"
    }
   ],
   "source": [
    "df = df.drop_duplicates().reset_index(drop=True)\n",
    "df.duplicated().sum()"
   ]
  },
  {
   "cell_type": "markdown",
   "id": "3190ce74",
   "metadata": {},
   "source": [
    "Явные дубликаты удалены."
   ]
  },
  {
   "cell_type": "markdown",
   "id": "2be4ea54",
   "metadata": {},
   "source": [
    "<a id='duplicates_conclusion'></a>\n",
    "#### Итоги работы с дубликатами"
   ]
  },
  {
   "cell_type": "markdown",
   "id": "3d28ea81",
   "metadata": {},
   "source": [
    "- удалено **71** строки явных дубликатов\n",
    "- **`education`** - все значения приведены в нижний регистр\n",
    "- **`family_status`** - все значения приведены в нижний регистр\n",
    "- **`gender`** - замена странного значения **`XNA`** на **`M`**"
   ]
  },
  {
   "cell_type": "markdown",
   "id": "d2fb8533",
   "metadata": {},
   "source": [
    "<a id='add_df'></a>\n",
    "### 2.5 Формирование дополнительных датафреймов словарей, декомпозиция исходного датафрейма"
   ]
  },
  {
   "cell_type": "markdown",
   "id": "d6c71c02",
   "metadata": {},
   "source": [
    "Как мы уже обнаружили ранее в таблице присутсвуют избыточные данные по категориям, которые мы можем поместить в отдельные таблицы-словари, для того, чтобы уменьшить размер нашей основной таблицы, а заодно упростить выбор категории.\n",
    "\n",
    "**Для начала создадим таблицу с образованием.**"
   ]
  },
  {
   "cell_type": "code",
   "execution_count": 55,
   "id": "903a40f9",
   "metadata": {},
   "outputs": [
    {
     "data": {
      "text/html": [
       "<div>\n",
       "<style scoped>\n",
       "    .dataframe tbody tr th:only-of-type {\n",
       "        vertical-align: middle;\n",
       "    }\n",
       "\n",
       "    .dataframe tbody tr th {\n",
       "        vertical-align: top;\n",
       "    }\n",
       "\n",
       "    .dataframe thead th {\n",
       "        text-align: right;\n",
       "    }\n",
       "</style>\n",
       "<table border=\"1\" class=\"dataframe\">\n",
       "  <thead>\n",
       "    <tr style=\"text-align: right;\">\n",
       "      <th></th>\n",
       "      <th>education_id</th>\n",
       "      <th>education</th>\n",
       "    </tr>\n",
       "  </thead>\n",
       "  <tbody>\n",
       "    <tr>\n",
       "      <th>0</th>\n",
       "      <td>0</td>\n",
       "      <td>высшее</td>\n",
       "    </tr>\n",
       "    <tr>\n",
       "      <th>1</th>\n",
       "      <td>1</td>\n",
       "      <td>среднее</td>\n",
       "    </tr>\n",
       "    <tr>\n",
       "      <th>2</th>\n",
       "      <td>2</td>\n",
       "      <td>неоконченное высшее</td>\n",
       "    </tr>\n",
       "    <tr>\n",
       "      <th>3</th>\n",
       "      <td>3</td>\n",
       "      <td>начальное</td>\n",
       "    </tr>\n",
       "    <tr>\n",
       "      <th>4</th>\n",
       "      <td>4</td>\n",
       "      <td>ученая степень</td>\n",
       "    </tr>\n",
       "  </tbody>\n",
       "</table>\n",
       "</div>"
      ],
      "text/plain": [
       "   education_id            education\n",
       "0             0               высшее\n",
       "1             1              среднее\n",
       "2             2  неоконченное высшее\n",
       "3             3            начальное\n",
       "4             4       ученая степень"
      ]
     },
     "metadata": {},
     "output_type": "display_data"
    }
   ],
   "source": [
    "education_dict = df[['education_id', 'education']].copy() # копируем 2 нужных столбца в новый ДатаФрейм\n",
    "education_dict = education_dict.drop_duplicates().reset_index(drop=True) # оставляем только уникальные записи\n",
    "display(education_dict)"
   ]
  },
  {
   "cell_type": "markdown",
   "id": "cbc2e785",
   "metadata": {},
   "source": [
    "**Теперь очередь семейного статуса.**"
   ]
  },
  {
   "cell_type": "code",
   "execution_count": 56,
   "id": "e1637caf",
   "metadata": {},
   "outputs": [
    {
     "data": {
      "text/html": [
       "<div>\n",
       "<style scoped>\n",
       "    .dataframe tbody tr th:only-of-type {\n",
       "        vertical-align: middle;\n",
       "    }\n",
       "\n",
       "    .dataframe tbody tr th {\n",
       "        vertical-align: top;\n",
       "    }\n",
       "\n",
       "    .dataframe thead th {\n",
       "        text-align: right;\n",
       "    }\n",
       "</style>\n",
       "<table border=\"1\" class=\"dataframe\">\n",
       "  <thead>\n",
       "    <tr style=\"text-align: right;\">\n",
       "      <th></th>\n",
       "      <th>family_status_id</th>\n",
       "      <th>family_status</th>\n",
       "    </tr>\n",
       "  </thead>\n",
       "  <tbody>\n",
       "    <tr>\n",
       "      <th>0</th>\n",
       "      <td>0</td>\n",
       "      <td>женат / замужем</td>\n",
       "    </tr>\n",
       "    <tr>\n",
       "      <th>1</th>\n",
       "      <td>1</td>\n",
       "      <td>гражданский брак</td>\n",
       "    </tr>\n",
       "    <tr>\n",
       "      <th>2</th>\n",
       "      <td>2</td>\n",
       "      <td>вдовец / вдова</td>\n",
       "    </tr>\n",
       "    <tr>\n",
       "      <th>3</th>\n",
       "      <td>3</td>\n",
       "      <td>в разводе</td>\n",
       "    </tr>\n",
       "    <tr>\n",
       "      <th>4</th>\n",
       "      <td>4</td>\n",
       "      <td>не женат / не замужем</td>\n",
       "    </tr>\n",
       "  </tbody>\n",
       "</table>\n",
       "</div>"
      ],
      "text/plain": [
       "   family_status_id          family_status\n",
       "0                 0        женат / замужем\n",
       "1                 1       гражданский брак\n",
       "2                 2         вдовец / вдова\n",
       "3                 3              в разводе\n",
       "4                 4  не женат / не замужем"
      ]
     },
     "metadata": {},
     "output_type": "display_data"
    }
   ],
   "source": [
    "family_status_dict = df[['family_status_id', 'family_status']].copy() # копируем 2 нужных столбца в новый ДатаФрейм\n",
    "family_status_dict = family_status_dict.drop_duplicates().reset_index(drop=True) # оставляем только уникальные записи\n",
    "display(family_status_dict)"
   ]
  },
  {
   "cell_type": "markdown",
   "id": "ca8c611b",
   "metadata": {},
   "source": [
    "Таблицы-словари **`education_dict`** и **`family_status_dict`** готовы.\n",
    "\n",
    "Теперь удалим из нашего основного ДатаФрейма лишние столбцы."
   ]
  },
  {
   "cell_type": "code",
   "execution_count": 57,
   "id": "f3d89318",
   "metadata": {},
   "outputs": [],
   "source": [
    "df.drop(['family_status', 'education'], axis=1, inplace=True)"
   ]
  },
  {
   "cell_type": "code",
   "execution_count": 58,
   "id": "920943f9",
   "metadata": {},
   "outputs": [
    {
     "data": {
      "text/html": [
       "<div>\n",
       "<style scoped>\n",
       "    .dataframe tbody tr th:only-of-type {\n",
       "        vertical-align: middle;\n",
       "    }\n",
       "\n",
       "    .dataframe tbody tr th {\n",
       "        vertical-align: top;\n",
       "    }\n",
       "\n",
       "    .dataframe thead th {\n",
       "        text-align: right;\n",
       "    }\n",
       "</style>\n",
       "<table border=\"1\" class=\"dataframe\">\n",
       "  <thead>\n",
       "    <tr style=\"text-align: right;\">\n",
       "      <th></th>\n",
       "      <th>children</th>\n",
       "      <th>days_employed</th>\n",
       "      <th>dob_years</th>\n",
       "      <th>education_id</th>\n",
       "      <th>family_status_id</th>\n",
       "      <th>gender</th>\n",
       "      <th>income_type</th>\n",
       "      <th>debt</th>\n",
       "      <th>total_income</th>\n",
       "      <th>purpose</th>\n",
       "    </tr>\n",
       "  </thead>\n",
       "  <tbody>\n",
       "    <tr>\n",
       "      <th>0</th>\n",
       "      <td>1</td>\n",
       "      <td>8437</td>\n",
       "      <td>42</td>\n",
       "      <td>0</td>\n",
       "      <td>0</td>\n",
       "      <td>F</td>\n",
       "      <td>сотрудник</td>\n",
       "      <td>0</td>\n",
       "      <td>253875</td>\n",
       "      <td>покупка жилья</td>\n",
       "    </tr>\n",
       "    <tr>\n",
       "      <th>1</th>\n",
       "      <td>1</td>\n",
       "      <td>4024</td>\n",
       "      <td>36</td>\n",
       "      <td>1</td>\n",
       "      <td>0</td>\n",
       "      <td>F</td>\n",
       "      <td>сотрудник</td>\n",
       "      <td>0</td>\n",
       "      <td>112080</td>\n",
       "      <td>приобретение автомобиля</td>\n",
       "    </tr>\n",
       "    <tr>\n",
       "      <th>2</th>\n",
       "      <td>0</td>\n",
       "      <td>5623</td>\n",
       "      <td>33</td>\n",
       "      <td>1</td>\n",
       "      <td>0</td>\n",
       "      <td>M</td>\n",
       "      <td>сотрудник</td>\n",
       "      <td>0</td>\n",
       "      <td>145885</td>\n",
       "      <td>покупка жилья</td>\n",
       "    </tr>\n",
       "    <tr>\n",
       "      <th>3</th>\n",
       "      <td>3</td>\n",
       "      <td>4124</td>\n",
       "      <td>32</td>\n",
       "      <td>1</td>\n",
       "      <td>0</td>\n",
       "      <td>M</td>\n",
       "      <td>сотрудник</td>\n",
       "      <td>0</td>\n",
       "      <td>267628</td>\n",
       "      <td>дополнительное образование</td>\n",
       "    </tr>\n",
       "    <tr>\n",
       "      <th>4</th>\n",
       "      <td>0</td>\n",
       "      <td>14177</td>\n",
       "      <td>53</td>\n",
       "      <td>1</td>\n",
       "      <td>1</td>\n",
       "      <td>F</td>\n",
       "      <td>пенсионер</td>\n",
       "      <td>0</td>\n",
       "      <td>158616</td>\n",
       "      <td>сыграть свадьбу</td>\n",
       "    </tr>\n",
       "  </tbody>\n",
       "</table>\n",
       "</div>"
      ],
      "text/plain": [
       "   children  days_employed  dob_years  education_id  family_status_id gender  \\\n",
       "0         1           8437         42             0                 0      F   \n",
       "1         1           4024         36             1                 0      F   \n",
       "2         0           5623         33             1                 0      M   \n",
       "3         3           4124         32             1                 0      M   \n",
       "4         0          14177         53             1                 1      F   \n",
       "\n",
       "  income_type  debt  total_income                     purpose  \n",
       "0   сотрудник     0        253875               покупка жилья  \n",
       "1   сотрудник     0        112080     приобретение автомобиля  \n",
       "2   сотрудник     0        145885               покупка жилья  \n",
       "3   сотрудник     0        267628  дополнительное образование  \n",
       "4   пенсионер     0        158616             сыграть свадьбу  "
      ]
     },
     "metadata": {},
     "output_type": "display_data"
    }
   ],
   "source": [
    "display(df.head())"
   ]
  },
  {
   "cell_type": "markdown",
   "id": "cbd8214c",
   "metadata": {},
   "source": [
    "Красота да и только."
   ]
  },
  {
   "cell_type": "markdown",
   "id": "44390f31",
   "metadata": {},
   "source": [
    "<a id='add_df_conclusion'></a>\n",
    "#### Итоги работы с ДатаФреймами"
   ]
  },
  {
   "cell_type": "markdown",
   "id": "9470d508",
   "metadata": {},
   "source": [
    "- Создан ДатаФрейм-словарь **`education_dict`** - содержит тип образования и id для него\n",
    "- Создан ДатаФрейм-словарь **`family_status_dict`** - содержит семейное положение id для него\n",
    "- Из основного ДатаФрейма **`df`** удалены столбцы **`education`** и **`family_status`**"
   ]
  },
  {
   "cell_type": "markdown",
   "id": "f30b7d68",
   "metadata": {},
   "source": [
    "<a id='category_income'></a>\n",
    "### 2.6 Категоризация дохода"
   ]
  },
  {
   "cell_type": "code",
   "execution_count": 59,
   "id": "8c3c7488",
   "metadata": {},
   "outputs": [
    {
     "name": "stdout",
     "output_type": "stream",
     "text": [
      "Количество уникальных значений в столбце \"total_income\": 18606\n"
     ]
    }
   ],
   "source": [
    "print('Количество уникальных значений в столбце \"total_income\":', \n",
    "      len(list(df['total_income'].unique())))"
   ]
  },
  {
   "cell_type": "markdown",
   "id": "f7933735",
   "metadata": {},
   "source": [
    "В таблице есть информация о доходе, но там 18606 уникальных значний. Работать с такой пёстрой выборкой достаточно проблемно. Для того чтобы упростить нам задачу, категоризируем типы дохода и присвоим им статусы ABCDE, в следующем виде:\n",
    "- **`E`** 0 – 30.000\n",
    "- **`D`** 30.001 – 50.000\n",
    "- **`C`** 50.001 – 200.000\n",
    "- **`B`** 200.001 – 1.000.000\n",
    "- **`A`** 1.000.001 и выше"
   ]
  },
  {
   "cell_type": "code",
   "execution_count": 60,
   "id": "f944d685",
   "metadata": {},
   "outputs": [],
   "source": [
    "# напишем функцию, которая будет проверять ячейку и возвращать значение по следующему алгоритму\n",
    "\n",
    "def categorise_total_income(cell):\n",
    "    if  0 <= cell <=30000:\n",
    "        return 'E'\n",
    "    elif 30001 <= cell <= 50000:\n",
    "        return 'D'\n",
    "    elif 50001 <= cell <= 200000:\n",
    "        return 'C'\n",
    "    elif 200001 <= cell <= 1000000:\n",
    "        return 'B'\n",
    "    elif 1000001 <= cell:\n",
    "        return 'A'"
   ]
  },
  {
   "cell_type": "code",
   "execution_count": 61,
   "id": "c4cf5c21",
   "metadata": {},
   "outputs": [],
   "source": [
    "# применим нашу функцию с столбцу \"total_income\".\n",
    "# результат работы функции поместим в новый столбец \"total_income_category\"\n",
    "\n",
    "df['total_income_category'] = df['total_income'].apply(categorise_total_income)"
   ]
  },
  {
   "cell_type": "code",
   "execution_count": 62,
   "id": "e8e8a164",
   "metadata": {},
   "outputs": [
    {
     "data": {
      "text/html": [
       "<div>\n",
       "<style scoped>\n",
       "    .dataframe tbody tr th:only-of-type {\n",
       "        vertical-align: middle;\n",
       "    }\n",
       "\n",
       "    .dataframe tbody tr th {\n",
       "        vertical-align: top;\n",
       "    }\n",
       "\n",
       "    .dataframe thead th {\n",
       "        text-align: right;\n",
       "    }\n",
       "</style>\n",
       "<table border=\"1\" class=\"dataframe\">\n",
       "  <thead>\n",
       "    <tr style=\"text-align: right;\">\n",
       "      <th></th>\n",
       "      <th>total_income</th>\n",
       "      <th>total_income_category</th>\n",
       "    </tr>\n",
       "  </thead>\n",
       "  <tbody>\n",
       "    <tr>\n",
       "      <th>0</th>\n",
       "      <td>253875</td>\n",
       "      <td>B</td>\n",
       "    </tr>\n",
       "    <tr>\n",
       "      <th>1</th>\n",
       "      <td>112080</td>\n",
       "      <td>C</td>\n",
       "    </tr>\n",
       "    <tr>\n",
       "      <th>2</th>\n",
       "      <td>145885</td>\n",
       "      <td>C</td>\n",
       "    </tr>\n",
       "    <tr>\n",
       "      <th>3</th>\n",
       "      <td>267628</td>\n",
       "      <td>B</td>\n",
       "    </tr>\n",
       "    <tr>\n",
       "      <th>4</th>\n",
       "      <td>158616</td>\n",
       "      <td>C</td>\n",
       "    </tr>\n",
       "    <tr>\n",
       "      <th>...</th>\n",
       "      <td>...</td>\n",
       "      <td>...</td>\n",
       "    </tr>\n",
       "    <tr>\n",
       "      <th>21449</th>\n",
       "      <td>224791</td>\n",
       "      <td>B</td>\n",
       "    </tr>\n",
       "    <tr>\n",
       "      <th>21450</th>\n",
       "      <td>155999</td>\n",
       "      <td>C</td>\n",
       "    </tr>\n",
       "    <tr>\n",
       "      <th>21451</th>\n",
       "      <td>89672</td>\n",
       "      <td>C</td>\n",
       "    </tr>\n",
       "    <tr>\n",
       "      <th>21452</th>\n",
       "      <td>244093</td>\n",
       "      <td>B</td>\n",
       "    </tr>\n",
       "    <tr>\n",
       "      <th>21453</th>\n",
       "      <td>82047</td>\n",
       "      <td>C</td>\n",
       "    </tr>\n",
       "  </tbody>\n",
       "</table>\n",
       "<p>21454 rows × 2 columns</p>\n",
       "</div>"
      ],
      "text/plain": [
       "       total_income total_income_category\n",
       "0            253875                     B\n",
       "1            112080                     C\n",
       "2            145885                     C\n",
       "3            267628                     B\n",
       "4            158616                     C\n",
       "...             ...                   ...\n",
       "21449        224791                     B\n",
       "21450        155999                     C\n",
       "21451         89672                     C\n",
       "21452        244093                     B\n",
       "21453         82047                     C\n",
       "\n",
       "[21454 rows x 2 columns]"
      ]
     },
     "execution_count": 62,
     "metadata": {},
     "output_type": "execute_result"
    }
   ],
   "source": [
    "# посмотрим что вышло\n",
    "\n",
    "df[['total_income', 'total_income_category']]"
   ]
  },
  {
   "cell_type": "code",
   "execution_count": 63,
   "id": "bf23a0e3",
   "metadata": {},
   "outputs": [
    {
     "data": {
      "text/plain": [
       "C    16016\n",
       "B     5041\n",
       "D      350\n",
       "A       25\n",
       "E       22\n",
       "Name: total_income_category, dtype: int64"
      ]
     },
     "execution_count": 63,
     "metadata": {},
     "output_type": "execute_result"
    }
   ],
   "source": [
    "df['total_income_category'].value_counts()"
   ]
  },
  {
   "cell_type": "markdown",
   "id": "14c01d83",
   "metadata": {},
   "source": [
    "Все получилось. Теперь у нас есть столбец всего с пятью уникальными значениями вместо 18 тысяч. Ориентироваться по нему будет намного проще."
   ]
  },
  {
   "cell_type": "markdown",
   "id": "9319f8e2",
   "metadata": {},
   "source": [
    "<a id='category_purpose'></a>\n",
    "### 2.7 Категоризация целей кредита"
   ]
  },
  {
   "cell_type": "markdown",
   "id": "fe754a43",
   "metadata": {},
   "source": [
    "В графе **`purpose`** записано много вариантов и комбинаций слов, которые в итоге сводятся всего к четырем категориям:\n",
    "- операции с автомобилем\n",
    "- операции с недвижимостью\n",
    "- проведение свадьбы\n",
    "- получение образования\n",
    "\n",
    "Напишем функцию, которая анализирует информацию и сортирует все эти записи по четерем категориям"
   ]
  },
  {
   "cell_type": "code",
   "execution_count": 64,
   "id": "788940ef",
   "metadata": {},
   "outputs": [
    {
     "data": {
      "text/plain": [
       "свадьба                                   791\n",
       "на проведение свадьбы                     768\n",
       "сыграть свадьбу                           765\n",
       "операции с недвижимостью                  675\n",
       "покупка коммерческой недвижимости         661\n",
       "операции с жильем                         652\n",
       "покупка жилья для сдачи                   651\n",
       "операции с коммерческой недвижимостью     650\n",
       "покупка жилья                             646\n",
       "жилье                                     646\n",
       "покупка жилья для семьи                   638\n",
       "строительство собственной недвижимости    635\n",
       "недвижимость                              633\n",
       "операции со своей недвижимостью           627\n",
       "строительство жилой недвижимости          624\n",
       "покупка недвижимости                      621\n",
       "покупка своего жилья                      620\n",
       "строительство недвижимости                619\n",
       "ремонт жилью                              607\n",
       "покупка жилой недвижимости                606\n",
       "на покупку своего автомобиля              505\n",
       "заняться высшим образованием              496\n",
       "автомобиль                                494\n",
       "сделка с подержанным автомобилем          486\n",
       "свой автомобиль                           478\n",
       "на покупку подержанного автомобиля        478\n",
       "автомобили                                478\n",
       "на покупку автомобиля                     471\n",
       "приобретение автомобиля                   461\n",
       "дополнительное образование                460\n",
       "сделка с автомобилем                      455\n",
       "высшее образование                        452\n",
       "образование                               447\n",
       "получение дополнительного образования     446\n",
       "получение образования                     442\n",
       "профильное образование                    436\n",
       "получение высшего образования             426\n",
       "заняться образованием                     408\n",
       "Name: purpose, dtype: int64"
      ]
     },
     "execution_count": 64,
     "metadata": {},
     "output_type": "execute_result"
    }
   ],
   "source": [
    "# посмотрим на формат записи\n",
    "\n",
    "df['purpose'].value_counts()"
   ]
  },
  {
   "cell_type": "markdown",
   "id": "cd55355c",
   "metadata": {},
   "source": [
    "Видно, что по сути в цели кредита каждый раз встречаются одинаковые корни **`авто` `образ` `свадь` `жиль` `недв`**. И самое хорошее для нас, что они не конфликтуют друг с другом. Приступим к написанию функции."
   ]
  },
  {
   "cell_type": "code",
   "execution_count": 65,
   "id": "abd93465",
   "metadata": {},
   "outputs": [],
   "source": [
    "# создадим 4 списка, для каждой из категорий и впишем туда необходимые корни слов\n",
    "\n",
    "auto_list = ['авто'] # автомобильный\n",
    "education_list = ['образ'] # образование\n",
    "realty_list = ['жиль', 'недв'] # недвижимость\n",
    "wedding_list = ['свадь'] # свадьба\n",
    "\n",
    "# сначала создадим функцию-помощника, которая будет перебирать список корней \n",
    "# и проверять вхождение этого корня в строковое значение\n",
    "\n",
    "def str_in_val_list(str_val, words): # принимаем на вход строковое значение для проверки и список корней\n",
    "    for word in words: # для каждого корня в списке корней\n",
    "        if word in str_val: # если корень входит в строковое значение\n",
    "            return True # возвращаем True\n",
    "    return False # иначе False\n",
    "\n",
    "\n",
    "# теперь создаем основную рабочую функцию\n",
    "\n",
    "def categorise_purpose(cell): # принимием на вход значение ячейки (это наше строковое значение)\n",
    "    if str_in_val_list(cell, auto_list): # вызываем функцию-помощника, которой передаем значение ячейки и список на проверку\n",
    "        return 'операции с автомобилем' # если функция-помощник возвращает нам True, то основная возвращает нужную категорию\n",
    "    elif str_in_val_list(cell, realty_list):\n",
    "        return 'операции с недвижимостью'\n",
    "    elif str_in_val_list(cell, wedding_list):\n",
    "        return 'проведение свадьбы'\n",
    "    elif str_in_val_list(cell, education_list):\n",
    "        return 'получение образования'\n",
    "    else:\n",
    "        return 'без категории' # если все вызовы функций-помощников вернули нам False, то получаем на выходе \"без категорий\"\n",
    "\n",
    "\n",
    "# применим нашу функцию с столбцу \"purpose\".\n",
    "# результат работы функции поместим в новый столбец \"purpose_category\"\n",
    "\n",
    "df['purpose_category'] = df['purpose'].apply(categorise_purpose)"
   ]
  },
  {
   "cell_type": "code",
   "execution_count": 66,
   "id": "882c3445",
   "metadata": {},
   "outputs": [
    {
     "name": "stdout",
     "output_type": "stream",
     "text": [
      "операции с недвижимостью    10811\n",
      "операции с автомобилем       4306\n",
      "получение образования        4013\n",
      "проведение свадьбы           2324\n",
      "Name: purpose_category, dtype: int64\n"
     ]
    }
   ],
   "source": [
    "# проверим результат работы\n",
    "\n",
    "print(df['purpose_category'].value_counts())"
   ]
  },
  {
   "cell_type": "markdown",
   "id": "e40d46f1",
   "metadata": {},
   "source": [
    "Раз значения **`без категории`** нет, значит функция нашла все варианты значений и раскидала их по категориям. Это как раз то, что нам и было нужно."
   ]
  },
  {
   "cell_type": "code",
   "execution_count": 67,
   "id": "05c7e8e8",
   "metadata": {},
   "outputs": [
    {
     "data": {
      "text/html": [
       "<div>\n",
       "<style scoped>\n",
       "    .dataframe tbody tr th:only-of-type {\n",
       "        vertical-align: middle;\n",
       "    }\n",
       "\n",
       "    .dataframe tbody tr th {\n",
       "        vertical-align: top;\n",
       "    }\n",
       "\n",
       "    .dataframe thead th {\n",
       "        text-align: right;\n",
       "    }\n",
       "</style>\n",
       "<table border=\"1\" class=\"dataframe\">\n",
       "  <thead>\n",
       "    <tr style=\"text-align: right;\">\n",
       "      <th></th>\n",
       "      <th>purpose</th>\n",
       "      <th>purpose_category</th>\n",
       "    </tr>\n",
       "  </thead>\n",
       "  <tbody>\n",
       "    <tr>\n",
       "      <th>0</th>\n",
       "      <td>покупка жилья</td>\n",
       "      <td>операции с недвижимостью</td>\n",
       "    </tr>\n",
       "    <tr>\n",
       "      <th>1</th>\n",
       "      <td>приобретение автомобиля</td>\n",
       "      <td>операции с автомобилем</td>\n",
       "    </tr>\n",
       "    <tr>\n",
       "      <th>2</th>\n",
       "      <td>покупка жилья</td>\n",
       "      <td>операции с недвижимостью</td>\n",
       "    </tr>\n",
       "    <tr>\n",
       "      <th>3</th>\n",
       "      <td>дополнительное образование</td>\n",
       "      <td>получение образования</td>\n",
       "    </tr>\n",
       "    <tr>\n",
       "      <th>4</th>\n",
       "      <td>сыграть свадьбу</td>\n",
       "      <td>проведение свадьбы</td>\n",
       "    </tr>\n",
       "    <tr>\n",
       "      <th>...</th>\n",
       "      <td>...</td>\n",
       "      <td>...</td>\n",
       "    </tr>\n",
       "    <tr>\n",
       "      <th>21449</th>\n",
       "      <td>операции с жильем</td>\n",
       "      <td>операции с недвижимостью</td>\n",
       "    </tr>\n",
       "    <tr>\n",
       "      <th>21450</th>\n",
       "      <td>сделка с автомобилем</td>\n",
       "      <td>операции с автомобилем</td>\n",
       "    </tr>\n",
       "    <tr>\n",
       "      <th>21451</th>\n",
       "      <td>недвижимость</td>\n",
       "      <td>операции с недвижимостью</td>\n",
       "    </tr>\n",
       "    <tr>\n",
       "      <th>21452</th>\n",
       "      <td>на покупку своего автомобиля</td>\n",
       "      <td>операции с автомобилем</td>\n",
       "    </tr>\n",
       "    <tr>\n",
       "      <th>21453</th>\n",
       "      <td>на покупку автомобиля</td>\n",
       "      <td>операции с автомобилем</td>\n",
       "    </tr>\n",
       "  </tbody>\n",
       "</table>\n",
       "<p>21454 rows × 2 columns</p>\n",
       "</div>"
      ],
      "text/plain": [
       "                            purpose          purpose_category\n",
       "0                     покупка жилья  операции с недвижимостью\n",
       "1           приобретение автомобиля    операции с автомобилем\n",
       "2                     покупка жилья  операции с недвижимостью\n",
       "3        дополнительное образование     получение образования\n",
       "4                   сыграть свадьбу        проведение свадьбы\n",
       "...                             ...                       ...\n",
       "21449             операции с жильем  операции с недвижимостью\n",
       "21450          сделка с автомобилем    операции с автомобилем\n",
       "21451                  недвижимость  операции с недвижимостью\n",
       "21452  на покупку своего автомобиля    операции с автомобилем\n",
       "21453         на покупку автомобиля    операции с автомобилем\n",
       "\n",
       "[21454 rows x 2 columns]"
      ]
     },
     "execution_count": 67,
     "metadata": {},
     "output_type": "execute_result"
    }
   ],
   "source": [
    "# посмотрим новый столбец\n",
    "\n",
    "df[['purpose', 'purpose_category']]"
   ]
  },
  {
   "cell_type": "markdown",
   "id": "2a1fa67a",
   "metadata": {},
   "source": [
    "Красота страшная сила. Теперь вместо кучи разнородных значений у нас всего 4 категории, которые передают основную суть цели кредита. Можно приступать к аналитической части проекта."
   ]
  },
  {
   "cell_type": "markdown",
   "id": "7a658c4c",
   "metadata": {},
   "source": [
    "<a id='questions'></a>\n",
    "<h2><p style=\"text-align: center;\">3. Ответы на вопросы</p></h2>"
   ]
  },
  {
   "cell_type": "markdown",
   "id": "4686023a",
   "metadata": {},
   "source": [
    "<a id='question_01'></a>\n",
    "### 3.1 Есть ли зависимость между количеством детей и возвратом кредита в срок?"
   ]
  },
  {
   "cell_type": "markdown",
   "id": "d7ca31a1",
   "metadata": {},
   "source": [
    "Требуется ответить на вопрос, как влияет наличие и количество детей на факт возврата кредита в срок.\n",
    "\n",
    "Создадим сводную таблицу."
   ]
  },
  {
   "cell_type": "code",
   "execution_count": 68,
   "id": "c88ebbba",
   "metadata": {
    "scrolled": true
   },
   "outputs": [
    {
     "data": {
      "text/html": [
       "<div>\n",
       "<style scoped>\n",
       "    .dataframe tbody tr th:only-of-type {\n",
       "        vertical-align: middle;\n",
       "    }\n",
       "\n",
       "    .dataframe tbody tr th {\n",
       "        vertical-align: top;\n",
       "    }\n",
       "\n",
       "    .dataframe thead tr th {\n",
       "        text-align: left;\n",
       "    }\n",
       "\n",
       "    .dataframe thead tr:last-of-type th {\n",
       "        text-align: right;\n",
       "    }\n",
       "</style>\n",
       "<table border=\"1\" class=\"dataframe\">\n",
       "  <thead>\n",
       "    <tr>\n",
       "      <th></th>\n",
       "      <th>count</th>\n",
       "      <th>sum</th>\n",
       "      <th>mean</th>\n",
       "    </tr>\n",
       "    <tr>\n",
       "      <th></th>\n",
       "      <th>debt</th>\n",
       "      <th>debt</th>\n",
       "      <th>debt</th>\n",
       "    </tr>\n",
       "    <tr>\n",
       "      <th>children</th>\n",
       "      <th></th>\n",
       "      <th></th>\n",
       "      <th></th>\n",
       "    </tr>\n",
       "  </thead>\n",
       "  <tbody>\n",
       "    <tr>\n",
       "      <th>0</th>\n",
       "      <td>14091</td>\n",
       "      <td>1063</td>\n",
       "      <td>0.075438</td>\n",
       "    </tr>\n",
       "    <tr>\n",
       "      <th>1</th>\n",
       "      <td>4855</td>\n",
       "      <td>445</td>\n",
       "      <td>0.091658</td>\n",
       "    </tr>\n",
       "    <tr>\n",
       "      <th>2</th>\n",
       "      <td>2128</td>\n",
       "      <td>202</td>\n",
       "      <td>0.094925</td>\n",
       "    </tr>\n",
       "    <tr>\n",
       "      <th>3</th>\n",
       "      <td>330</td>\n",
       "      <td>27</td>\n",
       "      <td>0.081818</td>\n",
       "    </tr>\n",
       "    <tr>\n",
       "      <th>4</th>\n",
       "      <td>41</td>\n",
       "      <td>4</td>\n",
       "      <td>0.097561</td>\n",
       "    </tr>\n",
       "    <tr>\n",
       "      <th>5</th>\n",
       "      <td>9</td>\n",
       "      <td>0</td>\n",
       "      <td>0.000000</td>\n",
       "    </tr>\n",
       "  </tbody>\n",
       "</table>\n",
       "</div>"
      ],
      "text/plain": [
       "          count   sum      mean\n",
       "           debt  debt      debt\n",
       "children                       \n",
       "0         14091  1063  0.075438\n",
       "1          4855   445  0.091658\n",
       "2          2128   202  0.094925\n",
       "3           330    27  0.081818\n",
       "4            41     4  0.097561\n",
       "5             9     0  0.000000"
      ]
     },
     "metadata": {},
     "output_type": "display_data"
    }
   ],
   "source": [
    "df_pivot_child = df.pivot_table(\n",
    "    index=['children'], # индексы - информация о количестве детей у клиентов\n",
    "    values=['debt'], # значения: 1 - имел задолженность, 0 - не имел задолженность\n",
    "    aggfunc=['count', 'sum', 'mean'], # к значениям применим функции: количество, сумма, среднее значение\n",
    "    fill_value=0)\n",
    "\n",
    "display(df_pivot_child)"
   ]
  },
  {
   "cell_type": "markdown",
   "id": "f62d75c6",
   "metadata": {},
   "source": [
    "### Вывод\n",
    "Выборку клиентов с 5 детьми будем считать нерепрезентативной, так как в нашем наборе данных их слишком маленькое количество для составления статистических выводов.\n",
    "\n",
    "По остальным клиентам четко видна закономерность, что клиенты без детей имеют наименьшее количество задолжностей. Причем чем детей больше, тем сильней ухудшается статистика.\n",
    "\n",
    "Данную закономерность можно объяснить тем, что ребенок в семье это достаточно большая финансовая и временная нагрузка. И чем детей в семье больше, тем выше риск возникновения различных финансовых трудностей.\n",
    "\n",
    "Особняком стоят клиенты с 3 детьми. Сложно сказать по какой причине тут статистика немного улучшилась. Возможно это аномалия чисто нашей выборки."
   ]
  },
  {
   "cell_type": "markdown",
   "id": "00e566d7",
   "metadata": {},
   "source": [
    "<a id='question_02'></a>\n",
    "### 3.2 Есть ли зависимость между семейным положением и возвратом кредита в срок?"
   ]
  },
  {
   "cell_type": "markdown",
   "id": "9834ddce",
   "metadata": {},
   "source": [
    "Требуется ответить на вопрос, как влияет семейное положение на факт возврата кредита в срок.\n",
    "\n",
    "Создадим сводную таблицу."
   ]
  },
  {
   "cell_type": "code",
   "execution_count": 69,
   "id": "3cf2f556",
   "metadata": {},
   "outputs": [
    {
     "data": {
      "text/html": [
       "<div>\n",
       "<style scoped>\n",
       "    .dataframe tbody tr th:only-of-type {\n",
       "        vertical-align: middle;\n",
       "    }\n",
       "\n",
       "    .dataframe tbody tr th {\n",
       "        vertical-align: top;\n",
       "    }\n",
       "\n",
       "    .dataframe thead tr th {\n",
       "        text-align: left;\n",
       "    }\n",
       "\n",
       "    .dataframe thead tr:last-of-type th {\n",
       "        text-align: right;\n",
       "    }\n",
       "</style>\n",
       "<table border=\"1\" class=\"dataframe\">\n",
       "  <thead>\n",
       "    <tr>\n",
       "      <th></th>\n",
       "      <th>count</th>\n",
       "      <th>sum</th>\n",
       "      <th>mean</th>\n",
       "    </tr>\n",
       "    <tr>\n",
       "      <th></th>\n",
       "      <th>debt</th>\n",
       "      <th>debt</th>\n",
       "      <th>debt</th>\n",
       "    </tr>\n",
       "    <tr>\n",
       "      <th>family_status_id</th>\n",
       "      <th></th>\n",
       "      <th></th>\n",
       "      <th></th>\n",
       "    </tr>\n",
       "  </thead>\n",
       "  <tbody>\n",
       "    <tr>\n",
       "      <th>0</th>\n",
       "      <td>12339</td>\n",
       "      <td>931</td>\n",
       "      <td>0.075452</td>\n",
       "    </tr>\n",
       "    <tr>\n",
       "      <th>1</th>\n",
       "      <td>4151</td>\n",
       "      <td>388</td>\n",
       "      <td>0.093471</td>\n",
       "    </tr>\n",
       "    <tr>\n",
       "      <th>2</th>\n",
       "      <td>959</td>\n",
       "      <td>63</td>\n",
       "      <td>0.065693</td>\n",
       "    </tr>\n",
       "    <tr>\n",
       "      <th>3</th>\n",
       "      <td>1195</td>\n",
       "      <td>85</td>\n",
       "      <td>0.071130</td>\n",
       "    </tr>\n",
       "    <tr>\n",
       "      <th>4</th>\n",
       "      <td>2810</td>\n",
       "      <td>274</td>\n",
       "      <td>0.097509</td>\n",
       "    </tr>\n",
       "  </tbody>\n",
       "</table>\n",
       "</div>"
      ],
      "text/plain": [
       "                  count  sum      mean\n",
       "                   debt debt      debt\n",
       "family_status_id                      \n",
       "0                 12339  931  0.075452\n",
       "1                  4151  388  0.093471\n",
       "2                   959   63  0.065693\n",
       "3                  1195   85  0.071130\n",
       "4                  2810  274  0.097509"
      ]
     },
     "metadata": {},
     "output_type": "display_data"
    }
   ],
   "source": [
    "df_pivot_family_status = df.pivot_table(\n",
    "    index=['family_status_id'], # индексы - информация о семейном положение в виде id\n",
    "    values=['debt'], # значения: 1 - имел задолженность, 0 - не имел задолженность\n",
    "    aggfunc=['count', 'sum', 'mean'], # к значениям применим функции: количество, сумма, среднее значение\n",
    "    fill_value=0)\n",
    "\n",
    "display(df_pivot_family_status)"
   ]
  },
  {
   "cell_type": "markdown",
   "id": "b18da10c",
   "metadata": {},
   "source": [
    "Избаваимся от мультииндекса, чтобы не возникло проблем при сшивании таблиц. Так как мультииндек представляет из себя просто список кортежей, сошьем их с помощью метода **`.join`** и функции **`map()`**"
   ]
  },
  {
   "cell_type": "code",
   "execution_count": 70,
   "id": "e897caf2",
   "metadata": {},
   "outputs": [
    {
     "data": {
      "text/html": [
       "<div>\n",
       "<style scoped>\n",
       "    .dataframe tbody tr th:only-of-type {\n",
       "        vertical-align: middle;\n",
       "    }\n",
       "\n",
       "    .dataframe tbody tr th {\n",
       "        vertical-align: top;\n",
       "    }\n",
       "\n",
       "    .dataframe thead th {\n",
       "        text-align: right;\n",
       "    }\n",
       "</style>\n",
       "<table border=\"1\" class=\"dataframe\">\n",
       "  <thead>\n",
       "    <tr style=\"text-align: right;\">\n",
       "      <th></th>\n",
       "      <th>family_status_id</th>\n",
       "      <th>count_debt</th>\n",
       "      <th>sum_debt</th>\n",
       "      <th>mean_debt</th>\n",
       "    </tr>\n",
       "  </thead>\n",
       "  <tbody>\n",
       "    <tr>\n",
       "      <th>0</th>\n",
       "      <td>0</td>\n",
       "      <td>12339</td>\n",
       "      <td>931</td>\n",
       "      <td>0.075452</td>\n",
       "    </tr>\n",
       "    <tr>\n",
       "      <th>1</th>\n",
       "      <td>1</td>\n",
       "      <td>4151</td>\n",
       "      <td>388</td>\n",
       "      <td>0.093471</td>\n",
       "    </tr>\n",
       "    <tr>\n",
       "      <th>2</th>\n",
       "      <td>2</td>\n",
       "      <td>959</td>\n",
       "      <td>63</td>\n",
       "      <td>0.065693</td>\n",
       "    </tr>\n",
       "    <tr>\n",
       "      <th>3</th>\n",
       "      <td>3</td>\n",
       "      <td>1195</td>\n",
       "      <td>85</td>\n",
       "      <td>0.071130</td>\n",
       "    </tr>\n",
       "    <tr>\n",
       "      <th>4</th>\n",
       "      <td>4</td>\n",
       "      <td>2810</td>\n",
       "      <td>274</td>\n",
       "      <td>0.097509</td>\n",
       "    </tr>\n",
       "  </tbody>\n",
       "</table>\n",
       "</div>"
      ],
      "text/plain": [
       "   family_status_id  count_debt  sum_debt  mean_debt\n",
       "0                 0       12339       931   0.075452\n",
       "1                 1        4151       388   0.093471\n",
       "2                 2         959        63   0.065693\n",
       "3                 3        1195        85   0.071130\n",
       "4                 4        2810       274   0.097509"
      ]
     },
     "metadata": {},
     "output_type": "display_data"
    }
   ],
   "source": [
    "# в качестве разделителя укажем \"_\" чтобы заголовки получились красивыми\n",
    "df_pivot_family_status.columns = df_pivot_family_status.columns.map('_'.join)\n",
    "\n",
    "# сбросим индекс, чтобы получить family_status_id в виде столбца\n",
    "df_pivot_family_status = df_pivot_family_status.reset_index()\n",
    "\n",
    "display(df_pivot_family_status)"
   ]
  },
  {
   "cell_type": "markdown",
   "id": "d4655303",
   "metadata": {},
   "source": [
    "Так-то лучше, даже смотреть на таблицу в таком виде удобней."
   ]
  },
  {
   "cell_type": "code",
   "execution_count": 71,
   "id": "26b102e6",
   "metadata": {},
   "outputs": [
    {
     "data": {
      "text/html": [
       "<div>\n",
       "<style scoped>\n",
       "    .dataframe tbody tr th:only-of-type {\n",
       "        vertical-align: middle;\n",
       "    }\n",
       "\n",
       "    .dataframe tbody tr th {\n",
       "        vertical-align: top;\n",
       "    }\n",
       "\n",
       "    .dataframe thead th {\n",
       "        text-align: right;\n",
       "    }\n",
       "</style>\n",
       "<table border=\"1\" class=\"dataframe\">\n",
       "  <thead>\n",
       "    <tr style=\"text-align: right;\">\n",
       "      <th></th>\n",
       "      <th>family_status_id</th>\n",
       "      <th>family_status</th>\n",
       "      <th>count_debt</th>\n",
       "      <th>sum_debt</th>\n",
       "      <th>mean_debt</th>\n",
       "    </tr>\n",
       "  </thead>\n",
       "  <tbody>\n",
       "    <tr>\n",
       "      <th>4</th>\n",
       "      <td>4</td>\n",
       "      <td>не женат / не замужем</td>\n",
       "      <td>2810</td>\n",
       "      <td>274</td>\n",
       "      <td>0.097509</td>\n",
       "    </tr>\n",
       "    <tr>\n",
       "      <th>1</th>\n",
       "      <td>1</td>\n",
       "      <td>гражданский брак</td>\n",
       "      <td>4151</td>\n",
       "      <td>388</td>\n",
       "      <td>0.093471</td>\n",
       "    </tr>\n",
       "    <tr>\n",
       "      <th>0</th>\n",
       "      <td>0</td>\n",
       "      <td>женат / замужем</td>\n",
       "      <td>12339</td>\n",
       "      <td>931</td>\n",
       "      <td>0.075452</td>\n",
       "    </tr>\n",
       "    <tr>\n",
       "      <th>3</th>\n",
       "      <td>3</td>\n",
       "      <td>в разводе</td>\n",
       "      <td>1195</td>\n",
       "      <td>85</td>\n",
       "      <td>0.071130</td>\n",
       "    </tr>\n",
       "    <tr>\n",
       "      <th>2</th>\n",
       "      <td>2</td>\n",
       "      <td>вдовец / вдова</td>\n",
       "      <td>959</td>\n",
       "      <td>63</td>\n",
       "      <td>0.065693</td>\n",
       "    </tr>\n",
       "  </tbody>\n",
       "</table>\n",
       "</div>"
      ],
      "text/plain": [
       "   family_status_id          family_status  count_debt  sum_debt  mean_debt\n",
       "4                 4  не женат / не замужем        2810       274   0.097509\n",
       "1                 1       гражданский брак        4151       388   0.093471\n",
       "0                 0        женат / замужем       12339       931   0.075452\n",
       "3                 3              в разводе        1195        85   0.071130\n",
       "2                 2         вдовец / вдова         959        63   0.065693"
      ]
     },
     "metadata": {},
     "output_type": "display_data"
    }
   ],
   "source": [
    "# сошьем получившуюся таблицу с нашей таблицей-словерем \"family_status_dict\"\n",
    "df_pivot_family_status_merged = df_pivot_family_status.merge(family_status_dict, on='family_status_id', how='left')\n",
    "\n",
    "# выведем на экран в удобном виде\n",
    "display(\n",
    "    df_pivot_family_status_merged[['family_status_id', 'family_status', 'count_debt', 'sum_debt', 'mean_debt']]\n",
    "    .sort_values('mean_debt', ascending=False))"
   ]
  },
  {
   "cell_type": "markdown",
   "id": "de31b7d5",
   "metadata": {},
   "source": [
    "### Вывод\n",
    "Самую плохую статистику показывают клиенты находящиеся в свободных отношениях и живущих в гражданском браке. \n",
    "\n",
    "Ситуация резко меняется, если клиент находится в официальных отношениях. Видимо на это влияет совместный бюджет, а так же возросшая сознательность.\n",
    "\n",
    "Далее клиенты находящиеся в разводе. Видимо в отличии от клиентов, которые находятся в свободных отношениях, у людей после официальных отношений остается повышенная сознательность. Как следствие они ответственнее относятся к финансовым обязательствам.\n",
    "\n",
    "Лучше всего статистика у овдвовевших клиентов. Сложно сказать почему так получается. Возможно каким-то образом влияет унаследоованное имущество супруга/супруги."
   ]
  },
  {
   "cell_type": "markdown",
   "id": "ca46e14a",
   "metadata": {},
   "source": [
    "<a id='question_03'></a>\n",
    "### 3.3 Есть ли зависимость между уровнем дохода и возвратом кредита в срок?"
   ]
  },
  {
   "cell_type": "markdown",
   "id": "2ff88d39",
   "metadata": {},
   "source": [
    "Создадим сводную таблицу"
   ]
  },
  {
   "cell_type": "code",
   "execution_count": 72,
   "id": "f66a1699",
   "metadata": {
    "scrolled": true
   },
   "outputs": [
    {
     "data": {
      "text/html": [
       "<div>\n",
       "<style scoped>\n",
       "    .dataframe tbody tr th:only-of-type {\n",
       "        vertical-align: middle;\n",
       "    }\n",
       "\n",
       "    .dataframe tbody tr th {\n",
       "        vertical-align: top;\n",
       "    }\n",
       "\n",
       "    .dataframe thead tr th {\n",
       "        text-align: left;\n",
       "    }\n",
       "\n",
       "    .dataframe thead tr:last-of-type th {\n",
       "        text-align: right;\n",
       "    }\n",
       "</style>\n",
       "<table border=\"1\" class=\"dataframe\">\n",
       "  <thead>\n",
       "    <tr>\n",
       "      <th></th>\n",
       "      <th>count</th>\n",
       "      <th>sum</th>\n",
       "      <th>mean</th>\n",
       "    </tr>\n",
       "    <tr>\n",
       "      <th></th>\n",
       "      <th>debt</th>\n",
       "      <th>debt</th>\n",
       "      <th>debt</th>\n",
       "    </tr>\n",
       "    <tr>\n",
       "      <th>total_income_category</th>\n",
       "      <th></th>\n",
       "      <th></th>\n",
       "      <th></th>\n",
       "    </tr>\n",
       "  </thead>\n",
       "  <tbody>\n",
       "    <tr>\n",
       "      <th>A</th>\n",
       "      <td>25</td>\n",
       "      <td>2</td>\n",
       "      <td>0.080000</td>\n",
       "    </tr>\n",
       "    <tr>\n",
       "      <th>B</th>\n",
       "      <td>5041</td>\n",
       "      <td>356</td>\n",
       "      <td>0.070621</td>\n",
       "    </tr>\n",
       "    <tr>\n",
       "      <th>C</th>\n",
       "      <td>16016</td>\n",
       "      <td>1360</td>\n",
       "      <td>0.084915</td>\n",
       "    </tr>\n",
       "    <tr>\n",
       "      <th>D</th>\n",
       "      <td>350</td>\n",
       "      <td>21</td>\n",
       "      <td>0.060000</td>\n",
       "    </tr>\n",
       "    <tr>\n",
       "      <th>E</th>\n",
       "      <td>22</td>\n",
       "      <td>2</td>\n",
       "      <td>0.090909</td>\n",
       "    </tr>\n",
       "  </tbody>\n",
       "</table>\n",
       "</div>"
      ],
      "text/plain": [
       "                       count   sum      mean\n",
       "                        debt  debt      debt\n",
       "total_income_category                       \n",
       "A                         25     2  0.080000\n",
       "B                       5041   356  0.070621\n",
       "C                      16016  1360  0.084915\n",
       "D                        350    21  0.060000\n",
       "E                         22     2  0.090909"
      ]
     },
     "metadata": {},
     "output_type": "display_data"
    }
   ],
   "source": [
    "df_pivot_income = df.pivot_table(\n",
    "    index=['total_income_category'], # индексы - категория доходов\n",
    "    values=['debt'], # значения: 1 - имел задолженность, 0 - не имел задолженность\n",
    "    aggfunc=['count', 'sum', 'mean'], # к значениям применим функции: количество, сумма, среднее значение\n",
    "    fill_value=0)\n",
    "\n",
    "display(df_pivot_income)"
   ]
  },
  {
   "cell_type": "markdown",
   "id": "c1c25492",
   "metadata": {},
   "source": [
    "Памятка, о распределении категорий:\n",
    "- **`A`** 1.000.001 и выше\n",
    "- **`B`** 200.001 – 1.000.000\n",
    "- **`C`** 50.001 – 200.000\n",
    "- **`D`** 30.001 – 50.000\n",
    "- **`E`** 0 – 30.000"
   ]
  },
  {
   "cell_type": "markdown",
   "id": "144c55cd",
   "metadata": {},
   "source": [
    "### Вывод\n",
    "Выборку с категорией доходов до 30.000 (E) и выше 1.000.000 (A) можно считать нерепрезентативной из-за недостаточного количества примеров.\n",
    "\n",
    "Что же касается остальных категорий, лучше всего себя показывают клиенты с небольшим доходом 30-50 тыс. \n",
    "\n",
    "Дальше идут более обеспеченные клиенты с доходом 50-200 тыс. где статистика резко ухудшается. Видимо с более высоким доходом быстро растут и аппетиты людей. Что плохо сказывается на возвращаемости долгов.\n",
    "\n",
    "В катеории 200 тыс. - 1 млн. статистика опять выравнивается и выглядит намного лучше чем у клиентов с доходом 50-200 тыс. \n",
    "\n",
    "Но по итогу самые беспроблемными заемщиками явлются клиенты с невыским доходом 30-50 тыс."
   ]
  },
  {
   "cell_type": "markdown",
   "id": "4047f550",
   "metadata": {},
   "source": [
    "<a id='question_04'></a>\n",
    "### 3.4 Как разные цели кредита влияют на его возврат в срок?"
   ]
  },
  {
   "cell_type": "code",
   "execution_count": 73,
   "id": "2510f255",
   "metadata": {},
   "outputs": [
    {
     "data": {
      "text/html": [
       "<div>\n",
       "<style scoped>\n",
       "    .dataframe tbody tr th:only-of-type {\n",
       "        vertical-align: middle;\n",
       "    }\n",
       "\n",
       "    .dataframe tbody tr th {\n",
       "        vertical-align: top;\n",
       "    }\n",
       "\n",
       "    .dataframe thead tr th {\n",
       "        text-align: left;\n",
       "    }\n",
       "\n",
       "    .dataframe thead tr:last-of-type th {\n",
       "        text-align: right;\n",
       "    }\n",
       "</style>\n",
       "<table border=\"1\" class=\"dataframe\">\n",
       "  <thead>\n",
       "    <tr>\n",
       "      <th></th>\n",
       "      <th>count</th>\n",
       "      <th>sum</th>\n",
       "      <th>mean</th>\n",
       "    </tr>\n",
       "    <tr>\n",
       "      <th></th>\n",
       "      <th>debt</th>\n",
       "      <th>debt</th>\n",
       "      <th>debt</th>\n",
       "    </tr>\n",
       "    <tr>\n",
       "      <th>purpose_category</th>\n",
       "      <th></th>\n",
       "      <th></th>\n",
       "      <th></th>\n",
       "    </tr>\n",
       "  </thead>\n",
       "  <tbody>\n",
       "    <tr>\n",
       "      <th>операции с недвижимостью</th>\n",
       "      <td>10811</td>\n",
       "      <td>782</td>\n",
       "      <td>0.072334</td>\n",
       "    </tr>\n",
       "    <tr>\n",
       "      <th>проведение свадьбы</th>\n",
       "      <td>2324</td>\n",
       "      <td>186</td>\n",
       "      <td>0.080034</td>\n",
       "    </tr>\n",
       "    <tr>\n",
       "      <th>получение образования</th>\n",
       "      <td>4013</td>\n",
       "      <td>370</td>\n",
       "      <td>0.092200</td>\n",
       "    </tr>\n",
       "    <tr>\n",
       "      <th>операции с автомобилем</th>\n",
       "      <td>4306</td>\n",
       "      <td>403</td>\n",
       "      <td>0.093590</td>\n",
       "    </tr>\n",
       "  </tbody>\n",
       "</table>\n",
       "</div>"
      ],
      "text/plain": [
       "                          count  sum      mean\n",
       "                           debt debt      debt\n",
       "purpose_category                              \n",
       "операции с недвижимостью  10811  782  0.072334\n",
       "проведение свадьбы         2324  186  0.080034\n",
       "получение образования      4013  370  0.092200\n",
       "операции с автомобилем     4306  403  0.093590"
      ]
     },
     "metadata": {},
     "output_type": "display_data"
    }
   ],
   "source": [
    "df_pivot_purpose = df.pivot_table(\n",
    "    index=['purpose_category'], # индексы - информация о цели кредита\n",
    "    values=['debt'], # значения: 1 - имел задолженность, 0 - не имел задолженность\n",
    "    aggfunc=['count', 'sum', 'mean'], # к значениям применим функции: количество, сумма, среднее значение\n",
    "    fill_value=0)\n",
    "\n",
    "display(df_pivot_purpose.sort_values(('mean', 'debt')))"
   ]
  },
  {
   "cell_type": "markdown",
   "id": "9e18698e",
   "metadata": {},
   "source": [
    "### Вывод\n",
    "Самая высокая возвращаемость долгов у клиентов с недвижимостью. Что вполне объяснимо, за долги банк пустит с молотка купленную квартиру и встанет вопрос где теперь жить.\n",
    "\n",
    "Примерно такая же хорошая возвращаемость у клиентов, которые берут кредит на свадьбу. Видимо доход двух супругов положительно сказывается на возвращаемости долгов.\n",
    "\n",
    "Резко статистика падает у клиентов бравших кредит на образование. Видимо связано это с тем, что учеба могла не оправдать ожиданий. Человека отчислили, либо он не получил желаемую работу, после чего сильно падает мотивация возвращать долг.\n",
    "\n",
    "Самая плохая статистика у клиентов с автокредитом. Автомобиль вещь весьма финансово накладная. Видимо данные клиенты плохо прогнозируют во что может вылится покупка в перспективе, так как купить автомобиль мало, на обслуживание уходит солидная сумма денег. "
   ]
  },
  {
   "cell_type": "markdown",
   "id": "ba9d4557",
   "metadata": {},
   "source": [
    "<a id='question_05'></a>\n",
    "### 3.5 Есть ли зависимость между образованием и возвратом кредита в срок?"
   ]
  },
  {
   "cell_type": "code",
   "execution_count": 74,
   "id": "05cef741",
   "metadata": {},
   "outputs": [
    {
     "data": {
      "text/html": [
       "<div>\n",
       "<style scoped>\n",
       "    .dataframe tbody tr th:only-of-type {\n",
       "        vertical-align: middle;\n",
       "    }\n",
       "\n",
       "    .dataframe tbody tr th {\n",
       "        vertical-align: top;\n",
       "    }\n",
       "\n",
       "    .dataframe thead tr th {\n",
       "        text-align: left;\n",
       "    }\n",
       "\n",
       "    .dataframe thead tr:last-of-type th {\n",
       "        text-align: right;\n",
       "    }\n",
       "</style>\n",
       "<table border=\"1\" class=\"dataframe\">\n",
       "  <thead>\n",
       "    <tr>\n",
       "      <th></th>\n",
       "      <th>count</th>\n",
       "      <th>sum</th>\n",
       "      <th>mean</th>\n",
       "    </tr>\n",
       "    <tr>\n",
       "      <th></th>\n",
       "      <th>debt</th>\n",
       "      <th>debt</th>\n",
       "      <th>debt</th>\n",
       "    </tr>\n",
       "    <tr>\n",
       "      <th>education_id</th>\n",
       "      <th></th>\n",
       "      <th></th>\n",
       "      <th></th>\n",
       "    </tr>\n",
       "  </thead>\n",
       "  <tbody>\n",
       "    <tr>\n",
       "      <th>0</th>\n",
       "      <td>5250</td>\n",
       "      <td>278</td>\n",
       "      <td>0.052952</td>\n",
       "    </tr>\n",
       "    <tr>\n",
       "      <th>1</th>\n",
       "      <td>15172</td>\n",
       "      <td>1364</td>\n",
       "      <td>0.089902</td>\n",
       "    </tr>\n",
       "    <tr>\n",
       "      <th>2</th>\n",
       "      <td>744</td>\n",
       "      <td>68</td>\n",
       "      <td>0.091398</td>\n",
       "    </tr>\n",
       "    <tr>\n",
       "      <th>3</th>\n",
       "      <td>282</td>\n",
       "      <td>31</td>\n",
       "      <td>0.109929</td>\n",
       "    </tr>\n",
       "    <tr>\n",
       "      <th>4</th>\n",
       "      <td>6</td>\n",
       "      <td>0</td>\n",
       "      <td>0.000000</td>\n",
       "    </tr>\n",
       "  </tbody>\n",
       "</table>\n",
       "</div>"
      ],
      "text/plain": [
       "              count   sum      mean\n",
       "               debt  debt      debt\n",
       "education_id                       \n",
       "0              5250   278  0.052952\n",
       "1             15172  1364  0.089902\n",
       "2               744    68  0.091398\n",
       "3               282    31  0.109929\n",
       "4                 6     0  0.000000"
      ]
     },
     "metadata": {},
     "output_type": "display_data"
    }
   ],
   "source": [
    "df_pivot_education = df.pivot_table(\n",
    "    index=['education_id'], # индексы - информация об образовании в виде id\n",
    "    values=['debt'], # значения: 1 - имел задолженность, 0 - не имел задолженность\n",
    "    aggfunc=['count', 'sum', 'mean'], # к значениям применим функции: количество, сумма, среднее значение\n",
    "    fill_value=0)\n",
    "\n",
    "display(df_pivot_education)"
   ]
  },
  {
   "cell_type": "markdown",
   "id": "2df5d0f0",
   "metadata": {},
   "source": [
    "Избаваимся от мультииндекса, чтобы не возникло проблем при сшивании таблиц. Так как мультииндек представляет из себя просто список кортежей, сошьем их с помощью метода **`.join`** и функции **`map()`**"
   ]
  },
  {
   "cell_type": "code",
   "execution_count": 75,
   "id": "438055be",
   "metadata": {},
   "outputs": [
    {
     "data": {
      "text/html": [
       "<div>\n",
       "<style scoped>\n",
       "    .dataframe tbody tr th:only-of-type {\n",
       "        vertical-align: middle;\n",
       "    }\n",
       "\n",
       "    .dataframe tbody tr th {\n",
       "        vertical-align: top;\n",
       "    }\n",
       "\n",
       "    .dataframe thead th {\n",
       "        text-align: right;\n",
       "    }\n",
       "</style>\n",
       "<table border=\"1\" class=\"dataframe\">\n",
       "  <thead>\n",
       "    <tr style=\"text-align: right;\">\n",
       "      <th></th>\n",
       "      <th>education_id</th>\n",
       "      <th>count_debt</th>\n",
       "      <th>sum_debt</th>\n",
       "      <th>mean_debt</th>\n",
       "    </tr>\n",
       "  </thead>\n",
       "  <tbody>\n",
       "    <tr>\n",
       "      <th>0</th>\n",
       "      <td>0</td>\n",
       "      <td>5250</td>\n",
       "      <td>278</td>\n",
       "      <td>0.052952</td>\n",
       "    </tr>\n",
       "    <tr>\n",
       "      <th>1</th>\n",
       "      <td>1</td>\n",
       "      <td>15172</td>\n",
       "      <td>1364</td>\n",
       "      <td>0.089902</td>\n",
       "    </tr>\n",
       "    <tr>\n",
       "      <th>2</th>\n",
       "      <td>2</td>\n",
       "      <td>744</td>\n",
       "      <td>68</td>\n",
       "      <td>0.091398</td>\n",
       "    </tr>\n",
       "    <tr>\n",
       "      <th>3</th>\n",
       "      <td>3</td>\n",
       "      <td>282</td>\n",
       "      <td>31</td>\n",
       "      <td>0.109929</td>\n",
       "    </tr>\n",
       "    <tr>\n",
       "      <th>4</th>\n",
       "      <td>4</td>\n",
       "      <td>6</td>\n",
       "      <td>0</td>\n",
       "      <td>0.000000</td>\n",
       "    </tr>\n",
       "  </tbody>\n",
       "</table>\n",
       "</div>"
      ],
      "text/plain": [
       "   education_id  count_debt  sum_debt  mean_debt\n",
       "0             0        5250       278   0.052952\n",
       "1             1       15172      1364   0.089902\n",
       "2             2         744        68   0.091398\n",
       "3             3         282        31   0.109929\n",
       "4             4           6         0   0.000000"
      ]
     },
     "metadata": {},
     "output_type": "display_data"
    }
   ],
   "source": [
    "# в качестве разделителя укажем \"_\" чтобы заголовки получились красивыми\n",
    "df_pivot_education.columns = df_pivot_education.columns.map('_'.join)\n",
    "\n",
    "# сбросим индекс, чтобы получить education_id в виде столбца\n",
    "df_pivot_education = df_pivot_education.reset_index()\n",
    "\n",
    "display(df_pivot_education)"
   ]
  },
  {
   "cell_type": "code",
   "execution_count": 76,
   "id": "bdc67771",
   "metadata": {},
   "outputs": [
    {
     "data": {
      "text/html": [
       "<div>\n",
       "<style scoped>\n",
       "    .dataframe tbody tr th:only-of-type {\n",
       "        vertical-align: middle;\n",
       "    }\n",
       "\n",
       "    .dataframe tbody tr th {\n",
       "        vertical-align: top;\n",
       "    }\n",
       "\n",
       "    .dataframe thead th {\n",
       "        text-align: right;\n",
       "    }\n",
       "</style>\n",
       "<table border=\"1\" class=\"dataframe\">\n",
       "  <thead>\n",
       "    <tr style=\"text-align: right;\">\n",
       "      <th></th>\n",
       "      <th>education_id</th>\n",
       "      <th>education</th>\n",
       "      <th>count_debt</th>\n",
       "      <th>sum_debt</th>\n",
       "      <th>mean_debt</th>\n",
       "    </tr>\n",
       "  </thead>\n",
       "  <tbody>\n",
       "    <tr>\n",
       "      <th>4</th>\n",
       "      <td>4</td>\n",
       "      <td>ученая степень</td>\n",
       "      <td>6</td>\n",
       "      <td>0</td>\n",
       "      <td>0.000000</td>\n",
       "    </tr>\n",
       "    <tr>\n",
       "      <th>0</th>\n",
       "      <td>0</td>\n",
       "      <td>высшее</td>\n",
       "      <td>5250</td>\n",
       "      <td>278</td>\n",
       "      <td>0.052952</td>\n",
       "    </tr>\n",
       "    <tr>\n",
       "      <th>1</th>\n",
       "      <td>1</td>\n",
       "      <td>среднее</td>\n",
       "      <td>15172</td>\n",
       "      <td>1364</td>\n",
       "      <td>0.089902</td>\n",
       "    </tr>\n",
       "    <tr>\n",
       "      <th>2</th>\n",
       "      <td>2</td>\n",
       "      <td>неоконченное высшее</td>\n",
       "      <td>744</td>\n",
       "      <td>68</td>\n",
       "      <td>0.091398</td>\n",
       "    </tr>\n",
       "    <tr>\n",
       "      <th>3</th>\n",
       "      <td>3</td>\n",
       "      <td>начальное</td>\n",
       "      <td>282</td>\n",
       "      <td>31</td>\n",
       "      <td>0.109929</td>\n",
       "    </tr>\n",
       "  </tbody>\n",
       "</table>\n",
       "</div>"
      ],
      "text/plain": [
       "   education_id            education  count_debt  sum_debt  mean_debt\n",
       "4             4       ученая степень           6         0   0.000000\n",
       "0             0               высшее        5250       278   0.052952\n",
       "1             1              среднее       15172      1364   0.089902\n",
       "2             2  неоконченное высшее         744        68   0.091398\n",
       "3             3            начальное         282        31   0.109929"
      ]
     },
     "metadata": {},
     "output_type": "display_data"
    }
   ],
   "source": [
    "# сошьем получившуюся таблицу с нашей таблицей-словерем \"education_dict\"\n",
    "df_pivot_education_merged = df_pivot_education.merge(education_dict, on='education_id', how='left')\n",
    "\n",
    "# выведем на экран в удобном виде\n",
    "display(\n",
    "    df_pivot_education_merged[['education_id', 'education', 'count_debt', 'sum_debt', 'mean_debt']]\n",
    "    .sort_values('mean_debt'))"
   ]
  },
  {
   "cell_type": "markdown",
   "id": "f45028a8",
   "metadata": {},
   "source": [
    "### Вывод\n",
    "Видим четкую закономерность **Уровень образования → Возвращаемость кредита**.\n",
    "\n",
    "Хоть и выборка клиентов с **ученой степернью** очень мала для нормального участия в сравнении, думаю, что по итогу статистика таких клиентов будет либо равна либо лучше чем у клиентов с **высшим** образованием."
   ]
  },
  {
   "cell_type": "markdown",
   "id": "a2210b17",
   "metadata": {},
   "source": [
    "<a id='final_conclusion'></a>\n",
    "<h2><p style=\"text-align: center;\">4. Итоги исследования</p></h2>"
   ]
  },
  {
   "cell_type": "markdown",
   "id": "969dbd2e",
   "metadata": {},
   "source": [
    "<a id='final_conclusion_01'></a>\n",
    "### 4.1 Общая информация\n",
    "При осмотре предоставленного датасета выяснилось, что он содержит следубщие проблемы:\n",
    "- Пропущенные значения\n",
    "- Аномальные значения\n",
    "- Дубли данных\n",
    "\n",
    "В таком виде проводить исследование было неприемлемо, потребовалось выполнить предобработку данных."
   ]
  },
  {
   "cell_type": "markdown",
   "id": "6b8aed4e",
   "metadata": {},
   "source": [
    "<a id='final_conclusion_02'></a>\n",
    "\n",
    "\n",
    "### 4.2 Предобработка\n",
    "Во время предобработки были решены следующие проблемы:\n",
    "\n",
    "**Пропуски и аномальные значения:**\n",
    "- **`total_income`** - заменено **2174** **`NaN`** значений на **медианное** по столбцу\n",
    "- **`days_employed`** - замена отрицательных значений на модуль числа\n",
    "- **`days_employed`** - аномально большие значения (>300000) из часов переведены в дни путем деления на 24\n",
    "- **`days_employed`** - заменено **2174** **`NaN`** значений на **медианное** по столбцу\n",
    "- **`dob_years`** - заменили нулевой возраст по формуле: **стаж / 365 + 19**\n",
    "- **`children`** - значения **-1** заменены на **1**, значения **20** заменены на **2**\n",
    "\n",
    "**Дубликаты:**\n",
    "- удалено **71** строки явных дубликатов\n",
    "- **`education`** - все значения приведены в нижний регистр\n",
    "- **`family_status`** - все значения приведены в нижний регистр\n",
    "- **`gender`** - замена странного значения **`XNA`** на **`M`**"
   ]
  },
  {
   "cell_type": "markdown",
   "id": "27a0be5d",
   "metadata": {},
   "source": [
    "<a id='final_conclusion_03'></a>\n",
    "\n",
    "### 4.3 Подготовка данных к исследованию\n",
    "Для удобства исследования была проведена декомпозиция исходного ДатаФрейма, а так-же созданы два дополнительных ДатаФрейма-словаря:\n",
    "- Создан ДатаФрейм-словарь **`education_dict`** - содержит тип образования и id для него\n",
    "- Создан ДатаФрейм-словарь **`family_status_dict`** - содержит семейное положение id для него\n",
    "- Из основного ДатаФрейма **`df`** удалены столбцы **`education`** и **`family_status`**"
   ]
  },
  {
   "cell_type": "markdown",
   "id": "a5e9bbc5",
   "metadata": {},
   "source": [
    "<a id='final_conclusion_04'></a>\n",
    "\n",
    "### 4.4 Результаты исследования:\n",
    "\n",
    "- [1. Есть ли зависимость между количеством детей и возвратом кредита в срок?](#question_01)\n",
    "    - Количество детей напрямую влияет на возвращаемость кредитов. Лучше всего возворащают кредиты клиенты без детей. Чем больше детей, тем хуже статистика возвращаемости кредитов.\n",
    "    - Процент задолжавших:\n",
    "    - Без детей - 7.5%\n",
    "    - 1 ребенок - 9.1%\n",
    "    - 2 ребенка - 9.4%\n",
    "    - 3 ребенка - 8.1%\n",
    "    - 4 ребенка - 9.7%\n",
    "- [2. Есть ли зависимость между семейным положением и возвратом кредита в срок?](#question_02)\n",
    "    - Семейное положение вляет на возвращаемость кредитов\n",
    "    - Хуже всего статистика у людей в свободных отношениях. Процент задолжавших - 9.7%\n",
    "    - Далее идут клиенты живущие в  гражданском браке. Процент задолжавших - 9.3%\n",
    "    - Средняя возвращаемость у людей находящихся в браке. Процент задолжавших - 7.5%\n",
    "    - Хорошая возвращаемость у клиентов в разводе. Процент задолжавших - 7.1%\n",
    "    - Лучшая возвращаемость у вдов/вдовцов. Процент задолжавших - 6.5%\n",
    "- [3. Есть ли зависимость между уровнем дохода и возвратом кредита в срок?](#question_03)\n",
    "    - Есть неявная зависимость\n",
    "    - Лучше всего кредиты возвращают клиенты с небольшим доходом 30-50 тыс. Процент задолжавших - 6%\n",
    "    - Средние показатели у хорошо обеспеченных клиентов, доход 200 тыс. - 1 млн. Процент задолжавших - 7%\n",
    "    - Самая плохая статистика у средне обеспеченных клиентов, доход 50-200 тыс. Процент задолжавших - 8.4%\n",
    "- [4. Как разные цели кредита влияют на его возврат в срок?](#question_04)\n",
    "    - Лучшую возвращаемость показывают клиенты берущие кредит на недвижимость. Процент задолжавших - 7.2%\n",
    "    - Примерно на том же уровне возвращаемость у клиентов ерущих кредит на свадьбу, Процент задолжавших - 7.9%\n",
    "    - Резко хуже статистика у клиентов берущих кредиты на образование. Процент задолжавших - 9.2%\n",
    "    - Так же в  плачевном состоянии возвращаемость авто-кредитов. Процент задолжавших - 9.3%\n",
    "- [5. Есть ли зависимость между образованием и возвратом кредита в срок?](#question_05)\n",
    "    - Есть прямая зависимость от образования. Чем хуже образование, тем выше процент задолжавших клиентов.\n",
    "    - Высшее - 5.2%\n",
    "    - Среднее - 8.9%\n",
    "    - Неоконченное высшее - 9.1%\n",
    "    - Начальное - 10.9%"
   ]
  }
 ],
 "metadata": {
  "ExecuteTimeLog": [
   {
    "duration": 50,
    "start_time": "2022-05-11T16:03:24.329Z"
   },
   {
    "duration": 8,
    "start_time": "2022-05-11T16:03:32.715Z"
   },
   {
    "duration": 390,
    "start_time": "2022-05-11T16:03:46.932Z"
   },
   {
    "duration": 59,
    "start_time": "2022-05-11T16:03:48.057Z"
   },
   {
    "duration": 76,
    "start_time": "2022-05-11T16:03:58.587Z"
   },
   {
    "duration": 54,
    "start_time": "2022-05-11T16:04:05.985Z"
   },
   {
    "duration": 428,
    "start_time": "2022-05-11T16:04:15.902Z"
   },
   {
    "duration": 62,
    "start_time": "2022-05-11T16:04:16.332Z"
   },
   {
    "duration": 38,
    "start_time": "2022-05-11T16:04:16.396Z"
   },
   {
    "duration": 55,
    "start_time": "2022-05-11T16:07:45.222Z"
   },
   {
    "duration": 12,
    "start_time": "2022-05-11T16:09:40.279Z"
   },
   {
    "duration": 16,
    "start_time": "2022-05-11T16:09:42.807Z"
   },
   {
    "duration": 5,
    "start_time": "2022-05-11T16:10:06.775Z"
   },
   {
    "duration": 19,
    "start_time": "2022-05-11T16:10:49.772Z"
   },
   {
    "duration": 11,
    "start_time": "2022-05-11T16:11:08.778Z"
   },
   {
    "duration": 5,
    "start_time": "2022-05-11T16:17:53.181Z"
   },
   {
    "duration": 68,
    "start_time": "2022-05-11T16:18:31.193Z"
   },
   {
    "duration": 101,
    "start_time": "2022-05-11T16:18:44.001Z"
   },
   {
    "duration": 4,
    "start_time": "2022-05-11T16:18:47.616Z"
   },
   {
    "duration": 4,
    "start_time": "2022-05-11T16:18:53.709Z"
   },
   {
    "duration": 7,
    "start_time": "2022-05-11T16:18:58.185Z"
   },
   {
    "duration": 7,
    "start_time": "2022-05-11T16:19:10.220Z"
   },
   {
    "duration": 8,
    "start_time": "2022-05-11T16:19:15.458Z"
   },
   {
    "duration": 4,
    "start_time": "2022-05-11T16:19:33.989Z"
   },
   {
    "duration": 14,
    "start_time": "2022-05-11T16:19:39.401Z"
   },
   {
    "duration": 5,
    "start_time": "2022-05-11T16:20:05.254Z"
   },
   {
    "duration": 317,
    "start_time": "2022-05-11T16:20:36.457Z"
   },
   {
    "duration": 5,
    "start_time": "2022-05-11T16:20:53.679Z"
   },
   {
    "duration": 12,
    "start_time": "2022-05-11T16:22:46.600Z"
   },
   {
    "duration": 24,
    "start_time": "2022-05-11T16:23:03.034Z"
   },
   {
    "duration": 694,
    "start_time": "2022-05-11T16:23:53.041Z"
   },
   {
    "duration": 21,
    "start_time": "2022-05-11T16:24:00.247Z"
   },
   {
    "duration": 22,
    "start_time": "2022-05-11T16:24:12.126Z"
   },
   {
    "duration": 7,
    "start_time": "2022-05-11T16:24:22.846Z"
   },
   {
    "duration": 10,
    "start_time": "2022-05-11T16:26:55.305Z"
   },
   {
    "duration": 11,
    "start_time": "2022-05-11T16:27:23.725Z"
   },
   {
    "duration": 11,
    "start_time": "2022-05-11T16:27:32.512Z"
   },
   {
    "duration": 10,
    "start_time": "2022-05-11T16:27:47.397Z"
   },
   {
    "duration": 5,
    "start_time": "2022-05-11T16:27:54.655Z"
   },
   {
    "duration": 6,
    "start_time": "2022-05-11T16:28:03.098Z"
   },
   {
    "duration": 5,
    "start_time": "2022-05-11T16:28:07.163Z"
   },
   {
    "duration": 85,
    "start_time": "2022-05-11T16:28:25.330Z"
   },
   {
    "duration": 5,
    "start_time": "2022-05-11T16:28:34.651Z"
   },
   {
    "duration": 6,
    "start_time": "2022-05-11T16:28:40.071Z"
   },
   {
    "duration": 5,
    "start_time": "2022-05-11T16:43:16.139Z"
   },
   {
    "duration": 4,
    "start_time": "2022-05-11T16:43:24.396Z"
   },
   {
    "duration": 5,
    "start_time": "2022-05-11T16:43:39.190Z"
   },
   {
    "duration": 4,
    "start_time": "2022-05-11T16:44:20.046Z"
   },
   {
    "duration": 14,
    "start_time": "2022-05-11T16:46:49.196Z"
   },
   {
    "duration": 5,
    "start_time": "2022-05-11T16:48:59.601Z"
   },
   {
    "duration": 30,
    "start_time": "2022-05-11T16:49:45.010Z"
   },
   {
    "duration": 3,
    "start_time": "2022-05-11T16:50:17.646Z"
   },
   {
    "duration": 5,
    "start_time": "2022-05-11T16:53:32.861Z"
   },
   {
    "duration": 18,
    "start_time": "2022-05-11T16:53:52.714Z"
   },
   {
    "duration": 25,
    "start_time": "2022-05-11T16:54:39.947Z"
   },
   {
    "duration": 25,
    "start_time": "2022-05-11T16:56:04.894Z"
   },
   {
    "duration": 11,
    "start_time": "2022-05-11T16:56:23.205Z"
   },
   {
    "duration": 3,
    "start_time": "2022-05-11T16:56:36.179Z"
   },
   {
    "duration": 62,
    "start_time": "2022-05-11T16:56:36.183Z"
   },
   {
    "duration": 14,
    "start_time": "2022-05-11T16:56:36.247Z"
   },
   {
    "duration": 18,
    "start_time": "2022-05-11T16:56:36.262Z"
   },
   {
    "duration": 9,
    "start_time": "2022-05-11T16:56:36.282Z"
   },
   {
    "duration": 18,
    "start_time": "2022-05-11T16:56:36.292Z"
   },
   {
    "duration": 21,
    "start_time": "2022-05-11T16:56:36.312Z"
   },
   {
    "duration": 9,
    "start_time": "2022-05-11T16:56:36.335Z"
   },
   {
    "duration": 13,
    "start_time": "2022-05-11T16:57:10.941Z"
   },
   {
    "duration": 8,
    "start_time": "2022-05-11T17:00:06.476Z"
   },
   {
    "duration": 6,
    "start_time": "2022-05-11T17:00:09.660Z"
   },
   {
    "duration": 5,
    "start_time": "2022-05-11T17:00:35.926Z"
   },
   {
    "duration": 16,
    "start_time": "2022-05-11T17:00:57.965Z"
   },
   {
    "duration": 5,
    "start_time": "2022-05-11T17:01:15.615Z"
   },
   {
    "duration": 6,
    "start_time": "2022-05-11T17:01:24.784Z"
   },
   {
    "duration": 22,
    "start_time": "2022-05-11T17:02:00.005Z"
   },
   {
    "duration": 3,
    "start_time": "2022-05-11T17:02:20.408Z"
   },
   {
    "duration": 57,
    "start_time": "2022-05-11T17:02:20.413Z"
   },
   {
    "duration": 13,
    "start_time": "2022-05-11T17:02:20.472Z"
   },
   {
    "duration": 30,
    "start_time": "2022-05-11T17:02:20.486Z"
   },
   {
    "duration": 11,
    "start_time": "2022-05-11T17:02:20.518Z"
   },
   {
    "duration": 21,
    "start_time": "2022-05-11T17:02:20.530Z"
   },
   {
    "duration": 4,
    "start_time": "2022-05-11T17:02:20.553Z"
   },
   {
    "duration": 54,
    "start_time": "2022-05-11T17:02:20.559Z"
   },
   {
    "duration": 10,
    "start_time": "2022-05-11T17:02:20.615Z"
   },
   {
    "duration": 2,
    "start_time": "2022-05-11T17:02:31.134Z"
   },
   {
    "duration": 59,
    "start_time": "2022-05-11T17:02:31.737Z"
   },
   {
    "duration": 21,
    "start_time": "2022-05-11T17:02:33.682Z"
   },
   {
    "duration": 12,
    "start_time": "2022-05-11T17:02:47.846Z"
   },
   {
    "duration": 16,
    "start_time": "2022-05-11T17:02:49.092Z"
   },
   {
    "duration": 11,
    "start_time": "2022-05-11T17:02:50.252Z"
   },
   {
    "duration": 7,
    "start_time": "2022-05-11T17:03:22.071Z"
   },
   {
    "duration": 8,
    "start_time": "2022-05-11T17:03:37.238Z"
   },
   {
    "duration": 6,
    "start_time": "2022-05-11T17:03:46.288Z"
   },
   {
    "duration": 8,
    "start_time": "2022-05-11T17:17:09.564Z"
   },
   {
    "duration": 87,
    "start_time": "2022-05-11T17:17:40.610Z"
   },
   {
    "duration": 7,
    "start_time": "2022-05-11T17:17:45.498Z"
   },
   {
    "duration": 7,
    "start_time": "2022-05-11T17:18:38.346Z"
   },
   {
    "duration": 22,
    "start_time": "2022-05-11T17:18:52.549Z"
   },
   {
    "duration": 7,
    "start_time": "2022-05-11T17:19:22.908Z"
   },
   {
    "duration": 10,
    "start_time": "2022-05-11T17:20:11.127Z"
   },
   {
    "duration": 10,
    "start_time": "2022-05-11T17:20:19.444Z"
   },
   {
    "duration": 3,
    "start_time": "2022-05-11T17:20:25.995Z"
   },
   {
    "duration": 62,
    "start_time": "2022-05-11T17:20:26.000Z"
   },
   {
    "duration": 12,
    "start_time": "2022-05-11T17:20:26.064Z"
   },
   {
    "duration": 17,
    "start_time": "2022-05-11T17:20:26.077Z"
   },
   {
    "duration": 11,
    "start_time": "2022-05-11T17:20:26.107Z"
   },
   {
    "duration": 6,
    "start_time": "2022-05-11T17:20:26.121Z"
   },
   {
    "duration": 9,
    "start_time": "2022-05-11T17:20:26.129Z"
   },
   {
    "duration": 27,
    "start_time": "2022-05-11T17:20:26.139Z"
   },
   {
    "duration": 41,
    "start_time": "2022-05-11T17:20:26.168Z"
   },
   {
    "duration": 11,
    "start_time": "2022-05-11T17:20:39.038Z"
   },
   {
    "duration": 3,
    "start_time": "2022-05-11T17:20:47.132Z"
   },
   {
    "duration": 58,
    "start_time": "2022-05-11T17:20:47.137Z"
   },
   {
    "duration": 14,
    "start_time": "2022-05-11T17:20:47.197Z"
   },
   {
    "duration": 24,
    "start_time": "2022-05-11T17:20:47.214Z"
   },
   {
    "duration": 12,
    "start_time": "2022-05-11T17:20:47.242Z"
   },
   {
    "duration": 8,
    "start_time": "2022-05-11T17:20:47.256Z"
   },
   {
    "duration": 42,
    "start_time": "2022-05-11T17:20:47.266Z"
   },
   {
    "duration": 25,
    "start_time": "2022-05-11T17:20:47.310Z"
   },
   {
    "duration": 12,
    "start_time": "2022-05-11T17:20:47.337Z"
   },
   {
    "duration": 10,
    "start_time": "2022-05-11T17:22:25.079Z"
   },
   {
    "duration": 25,
    "start_time": "2022-05-11T17:22:36.666Z"
   },
   {
    "duration": 11,
    "start_time": "2022-05-11T17:23:05.157Z"
   },
   {
    "duration": 3,
    "start_time": "2022-05-11T17:23:12.766Z"
   },
   {
    "duration": 59,
    "start_time": "2022-05-11T17:23:12.771Z"
   },
   {
    "duration": 13,
    "start_time": "2022-05-11T17:23:12.831Z"
   },
   {
    "duration": 22,
    "start_time": "2022-05-11T17:23:12.846Z"
   },
   {
    "duration": 12,
    "start_time": "2022-05-11T17:23:12.870Z"
   },
   {
    "duration": 27,
    "start_time": "2022-05-11T17:23:12.884Z"
   },
   {
    "duration": 5,
    "start_time": "2022-05-11T17:23:12.912Z"
   },
   {
    "duration": 43,
    "start_time": "2022-05-11T17:23:12.918Z"
   },
   {
    "duration": 11,
    "start_time": "2022-05-11T17:23:12.963Z"
   },
   {
    "duration": 12,
    "start_time": "2022-05-11T17:23:25.716Z"
   },
   {
    "duration": 4,
    "start_time": "2022-05-11T17:23:29.772Z"
   },
   {
    "duration": 56,
    "start_time": "2022-05-11T17:23:29.778Z"
   },
   {
    "duration": 12,
    "start_time": "2022-05-11T17:23:29.836Z"
   },
   {
    "duration": 24,
    "start_time": "2022-05-11T17:23:29.850Z"
   },
   {
    "duration": 32,
    "start_time": "2022-05-11T17:23:29.877Z"
   },
   {
    "duration": 6,
    "start_time": "2022-05-11T17:23:29.911Z"
   },
   {
    "duration": 6,
    "start_time": "2022-05-11T17:23:29.919Z"
   },
   {
    "duration": 18,
    "start_time": "2022-05-11T17:23:29.926Z"
   },
   {
    "duration": 10,
    "start_time": "2022-05-11T17:23:29.946Z"
   },
   {
    "duration": 8,
    "start_time": "2022-05-11T17:23:56.620Z"
   },
   {
    "duration": 3,
    "start_time": "2022-05-11T17:24:05.829Z"
   },
   {
    "duration": 58,
    "start_time": "2022-05-11T17:24:05.834Z"
   },
   {
    "duration": 12,
    "start_time": "2022-05-11T17:24:05.894Z"
   },
   {
    "duration": 23,
    "start_time": "2022-05-11T17:24:05.908Z"
   },
   {
    "duration": 15,
    "start_time": "2022-05-11T17:24:05.933Z"
   },
   {
    "duration": 7,
    "start_time": "2022-05-11T17:24:05.950Z"
   },
   {
    "duration": 4,
    "start_time": "2022-05-11T17:24:05.959Z"
   },
   {
    "duration": 11,
    "start_time": "2022-05-11T17:24:05.965Z"
   },
   {
    "duration": 37,
    "start_time": "2022-05-11T17:24:05.978Z"
   },
   {
    "duration": 9,
    "start_time": "2022-05-11T17:24:27.243Z"
   },
   {
    "duration": 3,
    "start_time": "2022-05-11T17:24:30.875Z"
   },
   {
    "duration": 69,
    "start_time": "2022-05-11T17:24:30.880Z"
   },
   {
    "duration": 12,
    "start_time": "2022-05-11T17:24:30.951Z"
   },
   {
    "duration": 37,
    "start_time": "2022-05-11T17:24:30.964Z"
   },
   {
    "duration": 10,
    "start_time": "2022-05-11T17:24:31.003Z"
   },
   {
    "duration": 6,
    "start_time": "2022-05-11T17:24:31.015Z"
   },
   {
    "duration": 12,
    "start_time": "2022-05-11T17:24:31.022Z"
   },
   {
    "duration": 22,
    "start_time": "2022-05-11T17:24:31.036Z"
   },
   {
    "duration": 17,
    "start_time": "2022-05-11T17:24:31.060Z"
   },
   {
    "duration": 12,
    "start_time": "2022-05-11T17:25:41.151Z"
   },
   {
    "duration": 14,
    "start_time": "2022-05-11T17:26:43.781Z"
   },
   {
    "duration": 14,
    "start_time": "2022-05-11T17:26:47.813Z"
   },
   {
    "duration": 434,
    "start_time": "2022-05-11T17:27:40.092Z"
   },
   {
    "duration": 61,
    "start_time": "2022-05-11T17:27:40.528Z"
   },
   {
    "duration": 20,
    "start_time": "2022-05-11T17:27:40.590Z"
   },
   {
    "duration": 15,
    "start_time": "2022-05-11T17:27:40.612Z"
   },
   {
    "duration": 11,
    "start_time": "2022-05-11T17:27:40.629Z"
   },
   {
    "duration": 88,
    "start_time": "2022-05-11T17:27:40.642Z"
   },
   {
    "duration": 0,
    "start_time": "2022-05-11T17:27:40.731Z"
   },
   {
    "duration": 1,
    "start_time": "2022-05-11T17:27:40.732Z"
   },
   {
    "duration": 0,
    "start_time": "2022-05-11T17:27:40.733Z"
   },
   {
    "duration": 8,
    "start_time": "2022-05-11T17:27:54.013Z"
   },
   {
    "duration": 4,
    "start_time": "2022-05-11T17:27:59.156Z"
   },
   {
    "duration": 68,
    "start_time": "2022-05-11T17:27:59.162Z"
   },
   {
    "duration": 12,
    "start_time": "2022-05-11T17:27:59.232Z"
   },
   {
    "duration": 16,
    "start_time": "2022-05-11T17:27:59.248Z"
   },
   {
    "duration": 11,
    "start_time": "2022-05-11T17:27:59.266Z"
   },
   {
    "duration": 29,
    "start_time": "2022-05-11T17:27:59.279Z"
   },
   {
    "duration": 5,
    "start_time": "2022-05-11T17:27:59.310Z"
   },
   {
    "duration": 12,
    "start_time": "2022-05-11T17:27:59.317Z"
   },
   {
    "duration": 11,
    "start_time": "2022-05-11T17:27:59.330Z"
   },
   {
    "duration": 57,
    "start_time": "2022-05-11T17:30:10.704Z"
   },
   {
    "duration": 13,
    "start_time": "2022-05-11T17:30:10.763Z"
   },
   {
    "duration": 34,
    "start_time": "2022-05-11T17:30:10.778Z"
   },
   {
    "duration": 13,
    "start_time": "2022-05-11T17:30:10.815Z"
   },
   {
    "duration": 9,
    "start_time": "2022-05-11T17:30:10.830Z"
   },
   {
    "duration": 7,
    "start_time": "2022-05-11T17:30:10.840Z"
   },
   {
    "duration": 13,
    "start_time": "2022-05-11T17:30:10.850Z"
   },
   {
    "duration": 53,
    "start_time": "2022-05-11T17:30:10.865Z"
   },
   {
    "duration": 55,
    "start_time": "2022-05-11T17:30:37.216Z"
   },
   {
    "duration": 6,
    "start_time": "2022-05-11T17:33:42.660Z"
   },
   {
    "duration": 6,
    "start_time": "2022-05-11T17:33:51.141Z"
   },
   {
    "duration": 6,
    "start_time": "2022-05-11T17:34:03.036Z"
   },
   {
    "duration": 5,
    "start_time": "2022-05-11T17:35:57.167Z"
   },
   {
    "duration": 6,
    "start_time": "2022-05-11T17:37:41.836Z"
   },
   {
    "duration": 54,
    "start_time": "2022-05-11T17:37:45.988Z"
   },
   {
    "duration": 12,
    "start_time": "2022-05-11T17:37:46.044Z"
   },
   {
    "duration": 17,
    "start_time": "2022-05-11T17:37:46.058Z"
   },
   {
    "duration": 10,
    "start_time": "2022-05-11T17:37:46.077Z"
   },
   {
    "duration": 20,
    "start_time": "2022-05-11T17:37:46.088Z"
   },
   {
    "duration": 5,
    "start_time": "2022-05-11T17:37:46.110Z"
   },
   {
    "duration": 12,
    "start_time": "2022-05-11T17:37:46.116Z"
   },
   {
    "duration": 10,
    "start_time": "2022-05-11T17:37:46.129Z"
   },
   {
    "duration": 12,
    "start_time": "2022-05-11T17:37:58.528Z"
   },
   {
    "duration": 11,
    "start_time": "2022-05-11T17:38:02.811Z"
   },
   {
    "duration": 5,
    "start_time": "2022-05-11T17:38:06.875Z"
   },
   {
    "duration": 476,
    "start_time": "2022-05-11T17:38:28.205Z"
   },
   {
    "duration": 7,
    "start_time": "2022-05-11T17:38:32.882Z"
   },
   {
    "duration": 83,
    "start_time": "2022-05-11T17:41:55.974Z"
   },
   {
    "duration": 32,
    "start_time": "2022-05-11T17:42:03.491Z"
   },
   {
    "duration": 27,
    "start_time": "2022-05-11T17:42:10.747Z"
   },
   {
    "duration": 25,
    "start_time": "2022-05-11T17:43:01.686Z"
   },
   {
    "duration": 40,
    "start_time": "2022-05-11T17:43:50.072Z"
   },
   {
    "duration": 4,
    "start_time": "2022-05-11T17:44:23.127Z"
   },
   {
    "duration": 485,
    "start_time": "2022-05-11T17:44:36.072Z"
   },
   {
    "duration": 20,
    "start_time": "2022-05-11T17:44:36.559Z"
   },
   {
    "duration": 26,
    "start_time": "2022-05-11T17:44:36.581Z"
   },
   {
    "duration": 11,
    "start_time": "2022-05-11T17:44:36.609Z"
   },
   {
    "duration": 7,
    "start_time": "2022-05-11T17:44:36.622Z"
   },
   {
    "duration": 5,
    "start_time": "2022-05-11T17:44:36.630Z"
   },
   {
    "duration": 12,
    "start_time": "2022-05-11T17:44:36.637Z"
   },
   {
    "duration": 11,
    "start_time": "2022-05-11T17:44:36.651Z"
   },
   {
    "duration": 8,
    "start_time": "2022-05-11T17:46:27.920Z"
   },
   {
    "duration": 478,
    "start_time": "2022-05-11T17:46:35.639Z"
   },
   {
    "duration": 19,
    "start_time": "2022-05-11T17:46:36.119Z"
   },
   {
    "duration": 17,
    "start_time": "2022-05-11T17:46:36.139Z"
   },
   {
    "duration": 11,
    "start_time": "2022-05-11T17:46:36.158Z"
   },
   {
    "duration": 6,
    "start_time": "2022-05-11T17:46:36.171Z"
   },
   {
    "duration": 30,
    "start_time": "2022-05-11T17:46:36.178Z"
   },
   {
    "duration": 11,
    "start_time": "2022-05-11T17:46:36.210Z"
   },
   {
    "duration": 10,
    "start_time": "2022-05-11T17:46:36.223Z"
   },
   {
    "duration": 10,
    "start_time": "2022-05-11T17:49:04.747Z"
   },
   {
    "duration": 8,
    "start_time": "2022-05-11T17:49:32.125Z"
   },
   {
    "duration": 8,
    "start_time": "2022-05-11T17:50:00.287Z"
   },
   {
    "duration": 9,
    "start_time": "2022-05-11T17:50:10.863Z"
   },
   {
    "duration": 9,
    "start_time": "2022-05-11T17:50:18.600Z"
   },
   {
    "duration": 10,
    "start_time": "2022-05-11T17:50:57.483Z"
   },
   {
    "duration": 65,
    "start_time": "2022-05-11T18:24:44.827Z"
   },
   {
    "duration": 11,
    "start_time": "2022-05-11T18:24:50.823Z"
   },
   {
    "duration": 10,
    "start_time": "2022-05-11T18:24:58.022Z"
   },
   {
    "duration": 3,
    "start_time": "2022-05-11T18:27:42.184Z"
   },
   {
    "duration": 4,
    "start_time": "2022-05-11T18:28:44.509Z"
   },
   {
    "duration": 17,
    "start_time": "2022-05-11T18:33:09.606Z"
   },
   {
    "duration": 15,
    "start_time": "2022-05-11T18:34:10.771Z"
   },
   {
    "duration": 14,
    "start_time": "2022-05-11T18:34:48.320Z"
   },
   {
    "duration": 14,
    "start_time": "2022-05-11T18:34:56.940Z"
   },
   {
    "duration": 490,
    "start_time": "2022-05-11T18:35:07.173Z"
   },
   {
    "duration": 19,
    "start_time": "2022-05-11T18:35:07.666Z"
   },
   {
    "duration": 25,
    "start_time": "2022-05-11T18:35:07.686Z"
   },
   {
    "duration": 11,
    "start_time": "2022-05-11T18:35:07.712Z"
   },
   {
    "duration": 6,
    "start_time": "2022-05-11T18:35:07.725Z"
   },
   {
    "duration": 94,
    "start_time": "2022-05-11T18:35:07.733Z"
   },
   {
    "duration": 0,
    "start_time": "2022-05-11T18:35:07.829Z"
   },
   {
    "duration": 0,
    "start_time": "2022-05-11T18:35:07.830Z"
   },
   {
    "duration": 0,
    "start_time": "2022-05-11T18:35:07.831Z"
   },
   {
    "duration": 13,
    "start_time": "2022-05-11T18:35:20.694Z"
   },
   {
    "duration": 3,
    "start_time": "2022-05-11T18:35:33.206Z"
   },
   {
    "duration": 4,
    "start_time": "2022-05-11T18:36:06.505Z"
   },
   {
    "duration": 14,
    "start_time": "2022-05-11T18:36:52.850Z"
   },
   {
    "duration": 6,
    "start_time": "2022-05-11T18:37:12.479Z"
   },
   {
    "duration": 10,
    "start_time": "2022-05-11T18:37:21.820Z"
   },
   {
    "duration": 10,
    "start_time": "2022-05-11T18:38:25.890Z"
   },
   {
    "duration": 9,
    "start_time": "2022-05-11T18:39:29.688Z"
   },
   {
    "duration": 9,
    "start_time": "2022-05-11T18:39:50.998Z"
   },
   {
    "duration": 8,
    "start_time": "2022-05-11T18:40:00.890Z"
   },
   {
    "duration": 10,
    "start_time": "2022-05-11T18:40:51.350Z"
   },
   {
    "duration": 9,
    "start_time": "2022-05-11T18:46:25.554Z"
   },
   {
    "duration": 9,
    "start_time": "2022-05-11T18:46:51.462Z"
   },
   {
    "duration": 460,
    "start_time": "2022-05-11T18:47:49.721Z"
   },
   {
    "duration": 19,
    "start_time": "2022-05-11T18:47:50.184Z"
   },
   {
    "duration": 16,
    "start_time": "2022-05-11T18:47:50.206Z"
   },
   {
    "duration": 10,
    "start_time": "2022-05-11T18:47:50.224Z"
   },
   {
    "duration": 5,
    "start_time": "2022-05-11T18:47:50.236Z"
   },
   {
    "duration": 15,
    "start_time": "2022-05-11T18:47:50.243Z"
   },
   {
    "duration": 6,
    "start_time": "2022-05-11T18:47:50.259Z"
   },
   {
    "duration": 7,
    "start_time": "2022-05-11T18:47:50.267Z"
   },
   {
    "duration": 11,
    "start_time": "2022-05-11T18:47:50.306Z"
   },
   {
    "duration": 57,
    "start_time": "2022-05-11T18:53:18.603Z"
   },
   {
    "duration": 7,
    "start_time": "2022-05-11T19:02:18.732Z"
   },
   {
    "duration": 470,
    "start_time": "2022-05-11T19:16:52.315Z"
   },
   {
    "duration": 19,
    "start_time": "2022-05-11T19:16:52.787Z"
   },
   {
    "duration": 15,
    "start_time": "2022-05-11T19:16:52.808Z"
   },
   {
    "duration": 9,
    "start_time": "2022-05-11T19:16:52.825Z"
   },
   {
    "duration": 6,
    "start_time": "2022-05-11T19:16:52.837Z"
   },
   {
    "duration": 93,
    "start_time": "2022-05-11T19:16:52.844Z"
   },
   {
    "duration": 0,
    "start_time": "2022-05-11T19:16:52.938Z"
   },
   {
    "duration": 0,
    "start_time": "2022-05-11T19:16:52.940Z"
   },
   {
    "duration": 0,
    "start_time": "2022-05-11T19:16:52.941Z"
   },
   {
    "duration": 9,
    "start_time": "2022-05-11T19:17:19.172Z"
   },
   {
    "duration": 11,
    "start_time": "2022-05-11T19:21:01.895Z"
   },
   {
    "duration": 10,
    "start_time": "2022-05-11T19:21:42.037Z"
   },
   {
    "duration": 12,
    "start_time": "2022-05-11T19:24:03.480Z"
   },
   {
    "duration": 11,
    "start_time": "2022-05-11T19:24:09.273Z"
   },
   {
    "duration": 5,
    "start_time": "2022-05-11T19:24:26.038Z"
   },
   {
    "duration": 11,
    "start_time": "2022-05-11T19:25:28.703Z"
   },
   {
    "duration": 9,
    "start_time": "2022-05-11T19:25:57.961Z"
   },
   {
    "duration": 14,
    "start_time": "2022-05-11T19:26:27.929Z"
   },
   {
    "duration": 9,
    "start_time": "2022-05-11T19:26:38.810Z"
   },
   {
    "duration": 6,
    "start_time": "2022-05-11T19:26:51.160Z"
   },
   {
    "duration": 10,
    "start_time": "2022-05-11T19:27:48.177Z"
   },
   {
    "duration": 8,
    "start_time": "2022-05-11T19:28:29.868Z"
   },
   {
    "duration": 11,
    "start_time": "2022-05-11T19:28:49.254Z"
   },
   {
    "duration": 11,
    "start_time": "2022-05-11T19:30:31.676Z"
   },
   {
    "duration": 448,
    "start_time": "2022-05-11T19:30:39.548Z"
   },
   {
    "duration": 22,
    "start_time": "2022-05-11T19:30:39.998Z"
   },
   {
    "duration": 15,
    "start_time": "2022-05-11T19:30:40.022Z"
   },
   {
    "duration": 10,
    "start_time": "2022-05-11T19:30:40.039Z"
   },
   {
    "duration": 5,
    "start_time": "2022-05-11T19:30:40.052Z"
   },
   {
    "duration": 5,
    "start_time": "2022-05-11T19:30:40.059Z"
   },
   {
    "duration": 48,
    "start_time": "2022-05-11T19:30:40.065Z"
   },
   {
    "duration": 10,
    "start_time": "2022-05-11T19:30:40.115Z"
   },
   {
    "duration": 6,
    "start_time": "2022-05-11T19:46:21.871Z"
   },
   {
    "duration": 8,
    "start_time": "2022-05-11T19:46:31.973Z"
   },
   {
    "duration": 12,
    "start_time": "2022-05-11T19:46:46.342Z"
   },
   {
    "duration": 4,
    "start_time": "2022-05-11T19:51:12.503Z"
   },
   {
    "duration": 12,
    "start_time": "2022-05-11T19:51:25.144Z"
   },
   {
    "duration": 7,
    "start_time": "2022-05-11T19:52:21.991Z"
   },
   {
    "duration": 5,
    "start_time": "2022-05-11T19:52:28.617Z"
   },
   {
    "duration": 5,
    "start_time": "2022-05-11T19:52:32.266Z"
   },
   {
    "duration": 1363,
    "start_time": "2022-05-11T19:53:54.761Z"
   },
   {
    "duration": 18,
    "start_time": "2022-05-11T19:54:05.273Z"
   },
   {
    "duration": 35,
    "start_time": "2022-05-11T19:54:12.292Z"
   },
   {
    "duration": 24,
    "start_time": "2022-05-11T19:54:44.056Z"
   },
   {
    "duration": 9,
    "start_time": "2022-05-11T19:55:11.518Z"
   },
   {
    "duration": 8,
    "start_time": "2022-05-11T19:55:18.732Z"
   },
   {
    "duration": 7,
    "start_time": "2022-05-11T19:55:23.061Z"
   },
   {
    "duration": 8,
    "start_time": "2022-05-11T19:55:49.825Z"
   },
   {
    "duration": 12,
    "start_time": "2022-05-11T19:58:14.817Z"
   },
   {
    "duration": 9,
    "start_time": "2022-05-11T19:58:20.263Z"
   },
   {
    "duration": 8,
    "start_time": "2022-05-11T19:58:25.791Z"
   },
   {
    "duration": 8,
    "start_time": "2022-05-11T19:58:30.454Z"
   },
   {
    "duration": 8,
    "start_time": "2022-05-11T19:58:37.727Z"
   },
   {
    "duration": 15,
    "start_time": "2022-05-11T19:59:12.471Z"
   },
   {
    "duration": 21,
    "start_time": "2022-05-11T20:01:17.662Z"
   },
   {
    "duration": 25,
    "start_time": "2022-05-11T20:01:25.139Z"
   },
   {
    "duration": 35,
    "start_time": "2022-05-11T20:03:07.654Z"
   },
   {
    "duration": 16,
    "start_time": "2022-05-11T20:05:13.957Z"
   },
   {
    "duration": 7,
    "start_time": "2022-05-11T20:07:05.419Z"
   },
   {
    "duration": 9,
    "start_time": "2022-05-11T20:09:08.352Z"
   },
   {
    "duration": 7,
    "start_time": "2022-05-11T20:09:23.902Z"
   },
   {
    "duration": 8,
    "start_time": "2022-05-11T20:09:47.986Z"
   },
   {
    "duration": 18,
    "start_time": "2022-05-11T20:09:58.185Z"
   },
   {
    "duration": 4,
    "start_time": "2022-05-11T20:11:08.126Z"
   },
   {
    "duration": 5,
    "start_time": "2022-05-11T20:11:18.490Z"
   },
   {
    "duration": 8,
    "start_time": "2022-05-11T20:12:46.387Z"
   },
   {
    "duration": 12,
    "start_time": "2022-05-11T20:20:35.639Z"
   },
   {
    "duration": 14,
    "start_time": "2022-05-11T20:23:17.792Z"
   },
   {
    "duration": 4,
    "start_time": "2022-05-11T20:23:28.866Z"
   },
   {
    "duration": 25,
    "start_time": "2022-05-11T20:23:44.694Z"
   },
   {
    "duration": 449,
    "start_time": "2022-05-11T20:24:22.235Z"
   },
   {
    "duration": 23,
    "start_time": "2022-05-11T20:24:22.685Z"
   },
   {
    "duration": 15,
    "start_time": "2022-05-11T20:24:22.710Z"
   },
   {
    "duration": 13,
    "start_time": "2022-05-11T20:24:22.727Z"
   },
   {
    "duration": 10,
    "start_time": "2022-05-11T20:24:22.742Z"
   },
   {
    "duration": 6,
    "start_time": "2022-05-11T20:24:22.753Z"
   },
   {
    "duration": 5,
    "start_time": "2022-05-11T20:24:22.760Z"
   },
   {
    "duration": 45,
    "start_time": "2022-05-11T20:24:22.766Z"
   },
   {
    "duration": 9,
    "start_time": "2022-05-11T20:24:22.813Z"
   },
   {
    "duration": 6,
    "start_time": "2022-05-11T20:24:22.824Z"
   },
   {
    "duration": 4,
    "start_time": "2022-05-11T20:24:22.831Z"
   },
   {
    "duration": 5,
    "start_time": "2022-05-11T20:24:22.836Z"
   },
   {
    "duration": 25,
    "start_time": "2022-05-11T20:24:22.843Z"
   },
   {
    "duration": 7,
    "start_time": "2022-05-11T20:24:22.907Z"
   },
   {
    "duration": 16,
    "start_time": "2022-05-11T20:24:22.916Z"
   },
   {
    "duration": 1344,
    "start_time": "2022-05-11T20:24:56.591Z"
   },
   {
    "duration": 5,
    "start_time": "2022-05-11T20:25:04.827Z"
   },
   {
    "duration": 5,
    "start_time": "2022-05-11T20:25:09.828Z"
   },
   {
    "duration": 4,
    "start_time": "2022-05-11T20:25:13.690Z"
   },
   {
    "duration": 6,
    "start_time": "2022-05-11T20:25:29.229Z"
   },
   {
    "duration": 10,
    "start_time": "2022-05-11T20:26:27.406Z"
   },
   {
    "duration": 8,
    "start_time": "2022-05-11T20:26:31.131Z"
   },
   {
    "duration": 6,
    "start_time": "2022-05-11T20:26:37.602Z"
   },
   {
    "duration": 7,
    "start_time": "2022-05-11T20:26:56.186Z"
   },
   {
    "duration": 7,
    "start_time": "2022-05-11T20:27:04.927Z"
   },
   {
    "duration": 24,
    "start_time": "2022-05-11T20:27:47.940Z"
   },
   {
    "duration": 24,
    "start_time": "2022-05-11T20:28:14.791Z"
   },
   {
    "duration": 22,
    "start_time": "2022-05-11T20:28:24.531Z"
   },
   {
    "duration": 24,
    "start_time": "2022-05-11T20:29:21.438Z"
   },
   {
    "duration": 12,
    "start_time": "2022-05-11T20:31:57.547Z"
   },
   {
    "duration": 24,
    "start_time": "2022-05-11T20:32:08.080Z"
   },
   {
    "duration": 24,
    "start_time": "2022-05-11T20:33:02.264Z"
   },
   {
    "duration": 21,
    "start_time": "2022-05-11T20:33:28.402Z"
   },
   {
    "duration": 22,
    "start_time": "2022-05-11T20:33:38.878Z"
   },
   {
    "duration": 21,
    "start_time": "2022-05-11T20:33:59.103Z"
   },
   {
    "duration": 1269,
    "start_time": "2022-05-11T20:34:30.481Z"
   },
   {
    "duration": 7,
    "start_time": "2022-05-11T20:34:36.190Z"
   },
   {
    "duration": 8,
    "start_time": "2022-05-11T20:35:20.371Z"
   },
   {
    "duration": 23,
    "start_time": "2022-05-11T20:37:16.798Z"
   },
   {
    "duration": 23,
    "start_time": "2022-05-11T20:37:47.416Z"
   },
   {
    "duration": 33,
    "start_time": "2022-05-11T20:39:50.640Z"
   },
   {
    "duration": 23,
    "start_time": "2022-05-11T20:40:43.332Z"
   },
   {
    "duration": 23,
    "start_time": "2022-05-11T20:41:25.859Z"
   },
   {
    "duration": 25,
    "start_time": "2022-05-11T20:41:38.424Z"
   },
   {
    "duration": 3,
    "start_time": "2022-05-11T20:46:42.856Z"
   },
   {
    "duration": 83,
    "start_time": "2022-05-11T20:47:14.072Z"
   },
   {
    "duration": 4,
    "start_time": "2022-05-11T20:47:23.548Z"
   },
   {
    "duration": 27,
    "start_time": "2022-05-11T20:50:48.417Z"
   },
   {
    "duration": 17,
    "start_time": "2022-05-11T20:50:57.670Z"
   },
   {
    "duration": 24,
    "start_time": "2022-05-11T20:51:24.975Z"
   },
   {
    "duration": 9,
    "start_time": "2022-05-11T20:52:11.299Z"
   },
   {
    "duration": 13,
    "start_time": "2022-05-11T20:52:23.113Z"
   },
   {
    "duration": 30,
    "start_time": "2022-05-11T20:52:35.096Z"
   },
   {
    "duration": 24,
    "start_time": "2022-05-11T20:53:33.394Z"
   },
   {
    "duration": 24,
    "start_time": "2022-05-11T20:54:35.818Z"
   },
   {
    "duration": 22,
    "start_time": "2022-05-11T20:54:50.759Z"
   },
   {
    "duration": 28,
    "start_time": "2022-05-11T20:55:18.414Z"
   },
   {
    "duration": 31,
    "start_time": "2022-05-11T20:56:29.492Z"
   },
   {
    "duration": 9,
    "start_time": "2022-05-11T20:56:53.473Z"
   },
   {
    "duration": 28,
    "start_time": "2022-05-11T20:57:09.797Z"
   },
   {
    "duration": 22,
    "start_time": "2022-05-11T20:59:20.370Z"
   },
   {
    "duration": 23,
    "start_time": "2022-05-11T20:59:37.143Z"
   },
   {
    "duration": 421,
    "start_time": "2022-05-12T18:48:51.103Z"
   },
   {
    "duration": 18,
    "start_time": "2022-05-12T18:48:51.526Z"
   },
   {
    "duration": 15,
    "start_time": "2022-05-12T18:48:51.545Z"
   },
   {
    "duration": 11,
    "start_time": "2022-05-12T18:48:51.571Z"
   },
   {
    "duration": 11,
    "start_time": "2022-05-12T18:48:51.583Z"
   },
   {
    "duration": 5,
    "start_time": "2022-05-12T18:48:51.596Z"
   },
   {
    "duration": 6,
    "start_time": "2022-05-12T18:48:51.602Z"
   },
   {
    "duration": 7,
    "start_time": "2022-05-12T18:48:51.609Z"
   },
   {
    "duration": 9,
    "start_time": "2022-05-12T18:48:51.617Z"
   },
   {
    "duration": 6,
    "start_time": "2022-05-12T18:48:51.628Z"
   },
   {
    "duration": 37,
    "start_time": "2022-05-12T18:48:51.635Z"
   },
   {
    "duration": 13,
    "start_time": "2022-05-12T18:48:51.674Z"
   },
   {
    "duration": 8,
    "start_time": "2022-05-12T18:48:51.688Z"
   },
   {
    "duration": 20,
    "start_time": "2022-05-12T18:48:51.697Z"
   },
   {
    "duration": 17,
    "start_time": "2022-05-12T18:48:51.719Z"
   },
   {
    "duration": 6,
    "start_time": "2022-05-12T18:48:51.738Z"
   },
   {
    "duration": 34,
    "start_time": "2022-05-12T18:48:51.745Z"
   },
   {
    "duration": 12,
    "start_time": "2022-05-12T18:52:53.822Z"
   },
   {
    "duration": 16,
    "start_time": "2022-05-12T18:52:58.794Z"
   },
   {
    "duration": 11,
    "start_time": "2022-05-12T18:52:59.516Z"
   },
   {
    "duration": 11,
    "start_time": "2022-05-12T18:53:00.127Z"
   },
   {
    "duration": 12,
    "start_time": "2022-05-12T18:53:01.007Z"
   },
   {
    "duration": 11,
    "start_time": "2022-05-12T18:53:01.723Z"
   },
   {
    "duration": 12,
    "start_time": "2022-05-12T18:53:02.326Z"
   },
   {
    "duration": 13,
    "start_time": "2022-05-12T18:53:06.806Z"
   },
   {
    "duration": 12,
    "start_time": "2022-05-12T18:57:35.054Z"
   },
   {
    "duration": 8,
    "start_time": "2022-05-12T19:09:44.012Z"
   },
   {
    "duration": 7,
    "start_time": "2022-05-12T19:09:48.164Z"
   },
   {
    "duration": 13,
    "start_time": "2022-05-12T19:09:50.088Z"
   },
   {
    "duration": 10,
    "start_time": "2022-05-12T19:09:50.796Z"
   },
   {
    "duration": 7,
    "start_time": "2022-05-12T19:09:51.443Z"
   },
   {
    "duration": 7,
    "start_time": "2022-05-12T19:09:52.025Z"
   },
   {
    "duration": 7,
    "start_time": "2022-05-12T19:09:52.555Z"
   },
   {
    "duration": 7,
    "start_time": "2022-05-12T19:09:53.551Z"
   },
   {
    "duration": 8,
    "start_time": "2022-05-12T19:09:54.276Z"
   },
   {
    "duration": 8,
    "start_time": "2022-05-12T19:09:56.938Z"
   },
   {
    "duration": 7,
    "start_time": "2022-05-12T19:10:02.134Z"
   },
   {
    "duration": 7,
    "start_time": "2022-05-12T19:10:39.445Z"
   },
   {
    "duration": 4,
    "start_time": "2022-05-12T19:12:16.061Z"
   },
   {
    "duration": 4,
    "start_time": "2022-05-12T19:14:19.730Z"
   },
   {
    "duration": 4,
    "start_time": "2022-05-12T19:15:17.169Z"
   },
   {
    "duration": 67,
    "start_time": "2022-05-12T19:16:15.661Z"
   },
   {
    "duration": 14,
    "start_time": "2022-05-12T19:16:23.057Z"
   },
   {
    "duration": 7,
    "start_time": "2022-05-12T19:16:41.727Z"
   },
   {
    "duration": 7,
    "start_time": "2022-05-12T19:16:49.169Z"
   },
   {
    "duration": 4,
    "start_time": "2022-05-12T19:18:20.785Z"
   },
   {
    "duration": 6,
    "start_time": "2022-05-12T19:19:34.372Z"
   },
   {
    "duration": 3,
    "start_time": "2022-05-12T19:19:59.871Z"
   },
   {
    "duration": 19,
    "start_time": "2022-05-12T19:25:46.054Z"
   },
   {
    "duration": 21,
    "start_time": "2022-05-12T19:25:58.065Z"
   },
   {
    "duration": 33,
    "start_time": "2022-05-12T19:26:19.946Z"
   },
   {
    "duration": 18,
    "start_time": "2022-05-12T19:26:52.379Z"
   },
   {
    "duration": 28,
    "start_time": "2022-05-12T19:27:32.199Z"
   },
   {
    "duration": 22,
    "start_time": "2022-05-12T19:28:18.686Z"
   },
   {
    "duration": 25,
    "start_time": "2022-05-12T19:29:33.905Z"
   },
   {
    "duration": 23,
    "start_time": "2022-05-12T19:31:42.812Z"
   },
   {
    "duration": 7,
    "start_time": "2022-05-12T19:33:43.048Z"
   },
   {
    "duration": 7,
    "start_time": "2022-05-12T19:33:52.556Z"
   },
   {
    "duration": 23,
    "start_time": "2022-05-12T19:35:50.766Z"
   },
   {
    "duration": 19,
    "start_time": "2022-05-12T19:38:20.364Z"
   },
   {
    "duration": 13,
    "start_time": "2022-05-12T19:38:34.674Z"
   },
   {
    "duration": 4,
    "start_time": "2022-05-12T19:38:53.347Z"
   },
   {
    "duration": 17,
    "start_time": "2022-05-12T19:41:13.861Z"
   },
   {
    "duration": 14,
    "start_time": "2022-05-12T19:42:08.227Z"
   },
   {
    "duration": 7,
    "start_time": "2022-05-12T19:42:47.871Z"
   },
   {
    "duration": 15,
    "start_time": "2022-05-12T19:43:14.597Z"
   },
   {
    "duration": 29,
    "start_time": "2022-05-12T19:51:11.589Z"
   },
   {
    "duration": 1392,
    "start_time": "2022-05-12T19:52:03.267Z"
   },
   {
    "duration": 8,
    "start_time": "2022-05-12T19:52:16.811Z"
   },
   {
    "duration": 8,
    "start_time": "2022-05-12T19:52:21.839Z"
   },
   {
    "duration": 8,
    "start_time": "2022-05-12T19:52:32.672Z"
   },
   {
    "duration": 9,
    "start_time": "2022-05-12T19:52:39.599Z"
   },
   {
    "duration": 14,
    "start_time": "2022-05-12T20:03:57.836Z"
   },
   {
    "duration": 6,
    "start_time": "2022-05-12T20:04:00.173Z"
   },
   {
    "duration": 15,
    "start_time": "2022-05-12T20:04:05.927Z"
   },
   {
    "duration": 17,
    "start_time": "2022-05-12T20:05:37.785Z"
   },
   {
    "duration": 11,
    "start_time": "2022-05-12T20:07:14.381Z"
   },
   {
    "duration": 8,
    "start_time": "2022-05-12T20:08:13.284Z"
   },
   {
    "duration": 10,
    "start_time": "2022-05-12T20:08:33.919Z"
   },
   {
    "duration": 3342,
    "start_time": "2022-05-12T20:08:57.853Z"
   },
   {
    "duration": 11,
    "start_time": "2022-05-12T20:09:13.035Z"
   },
   {
    "duration": 9,
    "start_time": "2022-05-12T20:09:17.303Z"
   },
   {
    "duration": 10,
    "start_time": "2022-05-12T20:09:27.409Z"
   },
   {
    "duration": 13,
    "start_time": "2022-05-12T20:11:03.033Z"
   },
   {
    "duration": 13,
    "start_time": "2022-05-12T20:11:07.790Z"
   },
   {
    "duration": 12,
    "start_time": "2022-05-12T20:11:15.995Z"
   },
   {
    "duration": 13,
    "start_time": "2022-05-12T20:11:29.284Z"
   },
   {
    "duration": 23,
    "start_time": "2022-05-12T20:11:45.659Z"
   },
   {
    "duration": 21,
    "start_time": "2022-05-12T20:12:36.684Z"
   },
   {
    "duration": 22,
    "start_time": "2022-05-12T20:13:58.033Z"
   },
   {
    "duration": 13,
    "start_time": "2022-05-12T20:14:45.886Z"
   },
   {
    "duration": 24,
    "start_time": "2022-05-12T20:16:30.182Z"
   },
   {
    "duration": 22,
    "start_time": "2022-05-12T20:16:37.301Z"
   },
   {
    "duration": 33,
    "start_time": "2022-05-12T20:16:50.284Z"
   },
   {
    "duration": 25,
    "start_time": "2022-05-12T20:20:18.066Z"
   },
   {
    "duration": 12,
    "start_time": "2022-05-12T20:20:38.532Z"
   },
   {
    "duration": 13,
    "start_time": "2022-05-12T20:21:15.459Z"
   },
   {
    "duration": 13,
    "start_time": "2022-05-12T20:22:24.403Z"
   },
   {
    "duration": 21,
    "start_time": "2022-05-12T20:22:41.175Z"
   },
   {
    "duration": 12,
    "start_time": "2022-05-12T20:23:09.591Z"
   },
   {
    "duration": 11,
    "start_time": "2022-05-12T20:23:17.722Z"
   },
   {
    "duration": 11,
    "start_time": "2022-05-12T20:23:31.295Z"
   },
   {
    "duration": 15,
    "start_time": "2022-05-12T20:23:41.192Z"
   },
   {
    "duration": 6,
    "start_time": "2022-05-12T20:24:13.262Z"
   },
   {
    "duration": 26,
    "start_time": "2022-05-12T20:24:30.068Z"
   },
   {
    "duration": 11,
    "start_time": "2022-05-12T20:24:41.088Z"
   },
   {
    "duration": 9,
    "start_time": "2022-05-12T20:26:05.321Z"
   },
   {
    "duration": 5,
    "start_time": "2022-05-12T20:28:59.520Z"
   },
   {
    "duration": 7,
    "start_time": "2022-05-12T20:29:22.329Z"
   },
   {
    "duration": 1467,
    "start_time": "2022-05-12T20:31:56.859Z"
   },
   {
    "duration": 15,
    "start_time": "2022-05-12T20:32:11.312Z"
   },
   {
    "duration": 9,
    "start_time": "2022-05-12T20:32:13.344Z"
   },
   {
    "duration": 10,
    "start_time": "2022-05-12T20:34:13.247Z"
   },
   {
    "duration": 11,
    "start_time": "2022-05-12T20:35:42.941Z"
   },
   {
    "duration": 99,
    "start_time": "2022-05-12T20:36:11.537Z"
   },
   {
    "duration": 28,
    "start_time": "2022-05-12T20:36:17.228Z"
   },
   {
    "duration": 7,
    "start_time": "2022-05-12T20:36:39.996Z"
   },
   {
    "duration": 3,
    "start_time": "2022-05-12T20:36:44.099Z"
   },
   {
    "duration": 3,
    "start_time": "2022-05-12T20:37:15.743Z"
   },
   {
    "duration": 3,
    "start_time": "2022-05-12T20:38:10.922Z"
   },
   {
    "duration": 4,
    "start_time": "2022-05-12T20:38:22.299Z"
   },
   {
    "duration": 4,
    "start_time": "2022-05-12T20:38:50.859Z"
   },
   {
    "duration": 4,
    "start_time": "2022-05-12T20:40:06.555Z"
   },
   {
    "duration": 4,
    "start_time": "2022-05-12T20:40:31.905Z"
   },
   {
    "duration": 3,
    "start_time": "2022-05-12T20:41:29.227Z"
   },
   {
    "duration": 3,
    "start_time": "2022-05-12T20:42:32.441Z"
   },
   {
    "duration": 447,
    "start_time": "2022-05-12T20:45:42.491Z"
   },
   {
    "duration": 18,
    "start_time": "2022-05-12T20:45:42.940Z"
   },
   {
    "duration": 17,
    "start_time": "2022-05-12T20:45:42.959Z"
   },
   {
    "duration": 35,
    "start_time": "2022-05-12T20:45:42.980Z"
   },
   {
    "duration": 9,
    "start_time": "2022-05-12T20:45:43.017Z"
   },
   {
    "duration": 5,
    "start_time": "2022-05-12T20:45:43.028Z"
   },
   {
    "duration": 8,
    "start_time": "2022-05-12T20:45:43.034Z"
   },
   {
    "duration": 9,
    "start_time": "2022-05-12T20:45:43.043Z"
   },
   {
    "duration": 9,
    "start_time": "2022-05-12T20:45:43.054Z"
   },
   {
    "duration": 16,
    "start_time": "2022-05-12T20:45:43.071Z"
   },
   {
    "duration": 18,
    "start_time": "2022-05-12T20:45:43.088Z"
   },
   {
    "duration": 8,
    "start_time": "2022-05-12T20:45:43.108Z"
   },
   {
    "duration": 6,
    "start_time": "2022-05-12T20:45:43.118Z"
   },
   {
    "duration": 8,
    "start_time": "2022-05-12T20:45:43.125Z"
   },
   {
    "duration": 15,
    "start_time": "2022-05-12T20:45:43.135Z"
   },
   {
    "duration": 24,
    "start_time": "2022-05-12T20:45:43.151Z"
   },
   {
    "duration": 117,
    "start_time": "2022-05-12T20:45:43.177Z"
   },
   {
    "duration": 0,
    "start_time": "2022-05-12T20:45:43.296Z"
   },
   {
    "duration": 0,
    "start_time": "2022-05-12T20:45:43.298Z"
   },
   {
    "duration": 0,
    "start_time": "2022-05-12T20:45:43.300Z"
   },
   {
    "duration": 0,
    "start_time": "2022-05-12T20:45:43.301Z"
   },
   {
    "duration": 459,
    "start_time": "2022-05-12T20:46:19.197Z"
   },
   {
    "duration": 20,
    "start_time": "2022-05-12T20:46:19.658Z"
   },
   {
    "duration": 36,
    "start_time": "2022-05-12T20:46:19.680Z"
   },
   {
    "duration": 12,
    "start_time": "2022-05-12T20:46:19.718Z"
   },
   {
    "duration": 17,
    "start_time": "2022-05-12T20:46:19.732Z"
   },
   {
    "duration": 10,
    "start_time": "2022-05-12T20:46:19.750Z"
   },
   {
    "duration": 7,
    "start_time": "2022-05-12T20:46:19.762Z"
   },
   {
    "duration": 29,
    "start_time": "2022-05-12T20:46:19.774Z"
   },
   {
    "duration": 10,
    "start_time": "2022-05-12T20:46:19.804Z"
   },
   {
    "duration": 6,
    "start_time": "2022-05-12T20:46:19.816Z"
   },
   {
    "duration": 4,
    "start_time": "2022-05-12T20:46:19.823Z"
   },
   {
    "duration": 8,
    "start_time": "2022-05-12T20:46:19.828Z"
   },
   {
    "duration": 5,
    "start_time": "2022-05-12T20:46:19.837Z"
   },
   {
    "duration": 9,
    "start_time": "2022-05-12T20:46:19.845Z"
   },
   {
    "duration": 19,
    "start_time": "2022-05-12T20:46:19.871Z"
   },
   {
    "duration": 12,
    "start_time": "2022-05-12T20:46:19.893Z"
   },
   {
    "duration": 18,
    "start_time": "2022-05-12T20:46:19.907Z"
   },
   {
    "duration": 12,
    "start_time": "2022-05-12T20:46:19.927Z"
   },
   {
    "duration": 34,
    "start_time": "2022-05-12T20:46:19.941Z"
   },
   {
    "duration": 10,
    "start_time": "2022-05-12T20:46:19.977Z"
   },
   {
    "duration": 18,
    "start_time": "2022-05-12T20:46:19.989Z"
   },
   {
    "duration": 21,
    "start_time": "2022-05-12T21:00:34.915Z"
   },
   {
    "duration": 18,
    "start_time": "2022-05-12T21:00:55.089Z"
   },
   {
    "duration": 17,
    "start_time": "2022-05-12T21:01:03.194Z"
   },
   {
    "duration": 105,
    "start_time": "2022-05-12T21:04:08.835Z"
   },
   {
    "duration": 85,
    "start_time": "2022-05-12T21:04:27.736Z"
   },
   {
    "duration": 7,
    "start_time": "2022-05-12T21:04:59.796Z"
   },
   {
    "duration": 18,
    "start_time": "2022-05-12T21:06:47.085Z"
   },
   {
    "duration": 62,
    "start_time": "2022-05-12T21:09:48.684Z"
   },
   {
    "duration": 17,
    "start_time": "2022-05-12T21:11:07.893Z"
   },
   {
    "duration": 21,
    "start_time": "2022-05-12T21:11:15.080Z"
   },
   {
    "duration": 1478,
    "start_time": "2022-05-12T21:12:02.862Z"
   },
   {
    "duration": 7,
    "start_time": "2022-05-12T21:12:10.703Z"
   },
   {
    "duration": 7,
    "start_time": "2022-05-12T21:12:43.122Z"
   },
   {
    "duration": 7,
    "start_time": "2022-05-12T21:14:02.823Z"
   },
   {
    "duration": 7,
    "start_time": "2022-05-12T21:14:10.387Z"
   },
   {
    "duration": 7,
    "start_time": "2022-05-12T21:14:15.489Z"
   },
   {
    "duration": 7,
    "start_time": "2022-05-12T21:15:10.044Z"
   },
   {
    "duration": 7,
    "start_time": "2022-05-12T21:15:16.620Z"
   },
   {
    "duration": 21,
    "start_time": "2022-05-12T21:15:28.600Z"
   },
   {
    "duration": 6,
    "start_time": "2022-05-12T21:15:49.487Z"
   },
   {
    "duration": 21,
    "start_time": "2022-05-12T21:15:53.251Z"
   },
   {
    "duration": 5,
    "start_time": "2022-05-12T21:16:52.098Z"
   },
   {
    "duration": 20,
    "start_time": "2022-05-12T21:16:54.924Z"
   },
   {
    "duration": 416,
    "start_time": "2022-05-12T21:17:01.325Z"
   },
   {
    "duration": 18,
    "start_time": "2022-05-12T21:17:01.743Z"
   },
   {
    "duration": 17,
    "start_time": "2022-05-12T21:17:01.762Z"
   },
   {
    "duration": 16,
    "start_time": "2022-05-12T21:17:01.781Z"
   },
   {
    "duration": 9,
    "start_time": "2022-05-12T21:17:01.799Z"
   },
   {
    "duration": 5,
    "start_time": "2022-05-12T21:17:01.810Z"
   },
   {
    "duration": 6,
    "start_time": "2022-05-12T21:17:01.816Z"
   },
   {
    "duration": 8,
    "start_time": "2022-05-12T21:17:01.823Z"
   },
   {
    "duration": 46,
    "start_time": "2022-05-12T21:17:01.833Z"
   },
   {
    "duration": 9,
    "start_time": "2022-05-12T21:17:01.882Z"
   },
   {
    "duration": 5,
    "start_time": "2022-05-12T21:17:01.893Z"
   },
   {
    "duration": 8,
    "start_time": "2022-05-12T21:17:01.900Z"
   },
   {
    "duration": 5,
    "start_time": "2022-05-12T21:17:01.910Z"
   },
   {
    "duration": 10,
    "start_time": "2022-05-12T21:17:01.916Z"
   },
   {
    "duration": 14,
    "start_time": "2022-05-12T21:17:01.927Z"
   },
   {
    "duration": 4,
    "start_time": "2022-05-12T21:17:01.943Z"
   },
   {
    "duration": 42,
    "start_time": "2022-05-12T21:17:01.949Z"
   },
   {
    "duration": 13,
    "start_time": "2022-05-12T21:17:01.993Z"
   },
   {
    "duration": 17,
    "start_time": "2022-05-12T21:17:02.007Z"
   },
   {
    "duration": 9,
    "start_time": "2022-05-12T21:17:02.026Z"
   },
   {
    "duration": 5,
    "start_time": "2022-05-12T21:17:02.037Z"
   },
   {
    "duration": 35,
    "start_time": "2022-05-12T21:17:02.044Z"
   },
   {
    "duration": 21,
    "start_time": "2022-05-12T21:17:02.082Z"
   },
   {
    "duration": 20,
    "start_time": "2022-05-12T21:19:21.003Z"
   },
   {
    "duration": 1561,
    "start_time": "2022-05-12T21:22:29.033Z"
   },
   {
    "duration": 6,
    "start_time": "2022-05-12T21:22:35.084Z"
   },
   {
    "duration": 21,
    "start_time": "2022-05-12T21:22:52.274Z"
   },
   {
    "duration": 7,
    "start_time": "2022-05-12T21:23:33.805Z"
   },
   {
    "duration": 7,
    "start_time": "2022-05-12T21:23:51.386Z"
   },
   {
    "duration": 3,
    "start_time": "2022-05-12T21:31:00.741Z"
   },
   {
    "duration": 25,
    "start_time": "2022-05-12T21:31:03.192Z"
   },
   {
    "duration": 10,
    "start_time": "2022-05-12T21:32:12.962Z"
   },
   {
    "duration": 19,
    "start_time": "2022-05-12T21:32:25.988Z"
   },
   {
    "duration": 348,
    "start_time": "2022-05-12T21:32:56.618Z"
   },
   {
    "duration": 11,
    "start_time": "2022-05-12T21:33:05.684Z"
   },
   {
    "duration": 9,
    "start_time": "2022-05-12T21:33:32.136Z"
   },
   {
    "duration": 19,
    "start_time": "2022-05-12T21:33:35.048Z"
   },
   {
    "duration": 6,
    "start_time": "2022-05-12T21:35:36.188Z"
   },
   {
    "duration": 5,
    "start_time": "2022-05-12T21:35:43.784Z"
   },
   {
    "duration": 4,
    "start_time": "2022-05-12T21:35:52.410Z"
   },
   {
    "duration": 410,
    "start_time": "2022-05-12T21:35:58.628Z"
   },
   {
    "duration": 16,
    "start_time": "2022-05-12T21:35:59.040Z"
   },
   {
    "duration": 19,
    "start_time": "2022-05-12T21:35:59.058Z"
   },
   {
    "duration": 13,
    "start_time": "2022-05-12T21:35:59.079Z"
   },
   {
    "duration": 9,
    "start_time": "2022-05-12T21:35:59.093Z"
   },
   {
    "duration": 5,
    "start_time": "2022-05-12T21:35:59.103Z"
   },
   {
    "duration": 6,
    "start_time": "2022-05-12T21:35:59.110Z"
   },
   {
    "duration": 11,
    "start_time": "2022-05-12T21:35:59.117Z"
   },
   {
    "duration": 51,
    "start_time": "2022-05-12T21:35:59.129Z"
   },
   {
    "duration": 8,
    "start_time": "2022-05-12T21:35:59.182Z"
   },
   {
    "duration": 3,
    "start_time": "2022-05-12T21:35:59.192Z"
   },
   {
    "duration": 5,
    "start_time": "2022-05-12T21:35:59.197Z"
   },
   {
    "duration": 6,
    "start_time": "2022-05-12T21:35:59.204Z"
   },
   {
    "duration": 11,
    "start_time": "2022-05-12T21:35:59.211Z"
   },
   {
    "duration": 15,
    "start_time": "2022-05-12T21:35:59.223Z"
   },
   {
    "duration": 4,
    "start_time": "2022-05-12T21:35:59.239Z"
   },
   {
    "duration": 27,
    "start_time": "2022-05-12T21:35:59.270Z"
   },
   {
    "duration": 9,
    "start_time": "2022-05-12T21:35:59.298Z"
   },
   {
    "duration": 17,
    "start_time": "2022-05-12T21:35:59.309Z"
   },
   {
    "duration": 27,
    "start_time": "2022-05-12T21:35:59.327Z"
   },
   {
    "duration": 8,
    "start_time": "2022-05-12T21:35:59.356Z"
   },
   {
    "duration": 14,
    "start_time": "2022-05-12T21:35:59.365Z"
   },
   {
    "duration": 11,
    "start_time": "2022-05-12T21:35:59.381Z"
   },
   {
    "duration": 12,
    "start_time": "2022-05-12T21:35:59.394Z"
   },
   {
    "duration": 5,
    "start_time": "2022-05-12T21:35:59.407Z"
   },
   {
    "duration": 4,
    "start_time": "2022-05-12T21:36:38.600Z"
   },
   {
    "duration": 60,
    "start_time": "2022-05-12T21:36:54.963Z"
   },
   {
    "duration": 11,
    "start_time": "2022-05-12T21:36:55.025Z"
   },
   {
    "duration": 41,
    "start_time": "2022-05-12T21:36:55.037Z"
   },
   {
    "duration": 13,
    "start_time": "2022-05-12T21:36:55.080Z"
   },
   {
    "duration": 10,
    "start_time": "2022-05-12T21:36:55.094Z"
   },
   {
    "duration": 5,
    "start_time": "2022-05-12T21:36:55.105Z"
   },
   {
    "duration": 9,
    "start_time": "2022-05-12T21:36:55.112Z"
   },
   {
    "duration": 8,
    "start_time": "2022-05-12T21:36:55.122Z"
   },
   {
    "duration": 9,
    "start_time": "2022-05-12T21:36:55.132Z"
   },
   {
    "duration": 7,
    "start_time": "2022-05-12T21:36:55.178Z"
   },
   {
    "duration": 7,
    "start_time": "2022-05-12T21:36:55.186Z"
   },
   {
    "duration": 8,
    "start_time": "2022-05-12T21:36:55.194Z"
   },
   {
    "duration": 7,
    "start_time": "2022-05-12T21:36:55.204Z"
   },
   {
    "duration": 7,
    "start_time": "2022-05-12T21:36:55.212Z"
   },
   {
    "duration": 19,
    "start_time": "2022-05-12T21:36:55.220Z"
   },
   {
    "duration": 6,
    "start_time": "2022-05-12T21:36:55.240Z"
   },
   {
    "duration": 24,
    "start_time": "2022-05-12T21:36:55.271Z"
   },
   {
    "duration": 11,
    "start_time": "2022-05-12T21:36:55.297Z"
   },
   {
    "duration": 14,
    "start_time": "2022-05-12T21:36:55.309Z"
   },
   {
    "duration": 9,
    "start_time": "2022-05-12T21:36:55.324Z"
   },
   {
    "duration": 5,
    "start_time": "2022-05-12T21:36:55.334Z"
   },
   {
    "duration": 4,
    "start_time": "2022-05-12T21:36:55.341Z"
   },
   {
    "duration": 35,
    "start_time": "2022-05-12T21:36:55.346Z"
   },
   {
    "duration": 10,
    "start_time": "2022-05-12T21:36:55.384Z"
   },
   {
    "duration": 6,
    "start_time": "2022-05-12T21:36:55.395Z"
   },
   {
    "duration": 89,
    "start_time": "2022-05-12T21:37:19.315Z"
   },
   {
    "duration": 4,
    "start_time": "2022-05-12T21:37:22.465Z"
   },
   {
    "duration": 4,
    "start_time": "2022-05-12T21:37:37.459Z"
   },
   {
    "duration": 6,
    "start_time": "2022-05-12T21:38:04.536Z"
   },
   {
    "duration": 6,
    "start_time": "2022-05-12T21:38:43.585Z"
   },
   {
    "duration": 5,
    "start_time": "2022-05-12T21:38:47.910Z"
   },
   {
    "duration": 4,
    "start_time": "2022-05-12T21:46:17.827Z"
   },
   {
    "duration": 6,
    "start_time": "2022-05-12T21:46:46.394Z"
   },
   {
    "duration": 8,
    "start_time": "2022-05-12T21:49:00.584Z"
   },
   {
    "duration": 19,
    "start_time": "2022-05-12T21:49:53.383Z"
   },
   {
    "duration": 20,
    "start_time": "2022-05-12T21:50:10.613Z"
   },
   {
    "duration": 3,
    "start_time": "2022-05-12T21:58:48.525Z"
   },
   {
    "duration": 2,
    "start_time": "2022-05-12T21:59:40.346Z"
   },
   {
    "duration": 82,
    "start_time": "2022-05-12T21:59:55.368Z"
   },
   {
    "duration": 19,
    "start_time": "2022-05-12T22:00:36.800Z"
   },
   {
    "duration": 4,
    "start_time": "2022-05-12T22:01:52.609Z"
   },
   {
    "duration": 20,
    "start_time": "2022-05-12T22:01:55.930Z"
   },
   {
    "duration": 2,
    "start_time": "2022-05-12T22:01:59.397Z"
   },
   {
    "duration": 135,
    "start_time": "2022-05-12T22:02:01.637Z"
   },
   {
    "duration": 9,
    "start_time": "2022-05-12T22:02:08.660Z"
   },
   {
    "duration": 6,
    "start_time": "2022-05-12T22:03:00.146Z"
   },
   {
    "duration": 21,
    "start_time": "2022-05-12T22:03:14.659Z"
   },
   {
    "duration": 80,
    "start_time": "2022-05-12T22:03:18.864Z"
   },
   {
    "duration": 10,
    "start_time": "2022-05-12T22:03:22.384Z"
   },
   {
    "duration": 5,
    "start_time": "2022-05-12T22:03:30.053Z"
   },
   {
    "duration": 4,
    "start_time": "2022-05-12T22:03:40.686Z"
   },
   {
    "duration": 6,
    "start_time": "2022-05-12T22:03:51.769Z"
   },
   {
    "duration": 11,
    "start_time": "2022-05-12T22:04:05.919Z"
   },
   {
    "duration": 11,
    "start_time": "2022-05-12T22:04:40.946Z"
   },
   {
    "duration": 11,
    "start_time": "2022-05-12T22:05:01.884Z"
   },
   {
    "duration": 13,
    "start_time": "2022-05-12T22:05:34.113Z"
   },
   {
    "duration": 12,
    "start_time": "2022-05-12T22:05:46.013Z"
   },
   {
    "duration": 13,
    "start_time": "2022-05-12T22:05:52.190Z"
   },
   {
    "duration": 141,
    "start_time": "2022-05-12T22:06:30.745Z"
   },
   {
    "duration": 2,
    "start_time": "2022-05-12T22:06:58.641Z"
   },
   {
    "duration": 425,
    "start_time": "2022-05-12T22:07:05.014Z"
   },
   {
    "duration": 18,
    "start_time": "2022-05-12T22:07:05.440Z"
   },
   {
    "duration": 19,
    "start_time": "2022-05-12T22:07:05.460Z"
   },
   {
    "duration": 14,
    "start_time": "2022-05-12T22:07:05.482Z"
   },
   {
    "duration": 9,
    "start_time": "2022-05-12T22:07:05.498Z"
   },
   {
    "duration": 6,
    "start_time": "2022-05-12T22:07:05.508Z"
   },
   {
    "duration": 7,
    "start_time": "2022-05-12T22:07:05.515Z"
   },
   {
    "duration": 8,
    "start_time": "2022-05-12T22:07:05.524Z"
   },
   {
    "duration": 45,
    "start_time": "2022-05-12T22:07:05.533Z"
   },
   {
    "duration": 14,
    "start_time": "2022-05-12T22:07:05.581Z"
   },
   {
    "duration": 3,
    "start_time": "2022-05-12T22:07:05.597Z"
   },
   {
    "duration": 6,
    "start_time": "2022-05-12T22:07:05.601Z"
   },
   {
    "duration": 5,
    "start_time": "2022-05-12T22:07:05.609Z"
   },
   {
    "duration": 9,
    "start_time": "2022-05-12T22:07:05.615Z"
   },
   {
    "duration": 13,
    "start_time": "2022-05-12T22:07:05.625Z"
   },
   {
    "duration": 4,
    "start_time": "2022-05-12T22:07:05.639Z"
   },
   {
    "duration": 42,
    "start_time": "2022-05-12T22:07:05.645Z"
   },
   {
    "duration": 9,
    "start_time": "2022-05-12T22:07:05.689Z"
   },
   {
    "duration": 13,
    "start_time": "2022-05-12T22:07:05.700Z"
   },
   {
    "duration": 9,
    "start_time": "2022-05-12T22:07:05.715Z"
   },
   {
    "duration": 5,
    "start_time": "2022-05-12T22:07:05.725Z"
   },
   {
    "duration": 6,
    "start_time": "2022-05-12T22:07:05.731Z"
   },
   {
    "duration": 46,
    "start_time": "2022-05-12T22:07:05.739Z"
   },
   {
    "duration": 6,
    "start_time": "2022-05-12T22:07:05.787Z"
   },
   {
    "duration": 18,
    "start_time": "2022-05-12T22:07:05.795Z"
   },
   {
    "duration": 2,
    "start_time": "2022-05-12T22:07:05.815Z"
   },
   {
    "duration": 5,
    "start_time": "2022-05-12T22:07:05.818Z"
   },
   {
    "duration": 53,
    "start_time": "2022-05-12T22:07:05.826Z"
   },
   {
    "duration": 11,
    "start_time": "2022-05-12T22:07:05.881Z"
   },
   {
    "duration": 18,
    "start_time": "2022-05-12T22:07:53.817Z"
   },
   {
    "duration": 528,
    "start_time": "2022-05-17T05:31:13.730Z"
   },
   {
    "duration": 18,
    "start_time": "2022-05-17T05:31:14.260Z"
   },
   {
    "duration": 5,
    "start_time": "2022-05-17T05:31:15.649Z"
   },
   {
    "duration": 17,
    "start_time": "2022-05-17T05:31:19.153Z"
   },
   {
    "duration": 579,
    "start_time": "2022-05-17T14:09:13.551Z"
   },
   {
    "duration": 32,
    "start_time": "2022-05-17T14:09:14.133Z"
   },
   {
    "duration": 6,
    "start_time": "2022-05-17T14:09:14.166Z"
   },
   {
    "duration": 23,
    "start_time": "2022-05-17T14:09:14.174Z"
   },
   {
    "duration": 18,
    "start_time": "2022-05-17T14:09:14.200Z"
   },
   {
    "duration": 46,
    "start_time": "2022-05-17T14:09:14.220Z"
   },
   {
    "duration": 8,
    "start_time": "2022-05-17T14:09:14.268Z"
   },
   {
    "duration": 7,
    "start_time": "2022-05-17T14:09:14.278Z"
   },
   {
    "duration": 15,
    "start_time": "2022-05-17T14:09:14.287Z"
   },
   {
    "duration": 12,
    "start_time": "2022-05-17T14:09:14.305Z"
   },
   {
    "duration": 10,
    "start_time": "2022-05-17T14:09:14.356Z"
   },
   {
    "duration": 5,
    "start_time": "2022-05-17T14:09:14.368Z"
   },
   {
    "duration": 9,
    "start_time": "2022-05-17T14:09:14.375Z"
   },
   {
    "duration": 7,
    "start_time": "2022-05-17T14:09:14.389Z"
   },
   {
    "duration": 11,
    "start_time": "2022-05-17T14:09:14.398Z"
   },
   {
    "duration": 63,
    "start_time": "2022-05-17T14:09:14.411Z"
   },
   {
    "duration": 7,
    "start_time": "2022-05-17T14:09:14.476Z"
   },
   {
    "duration": 25,
    "start_time": "2022-05-17T14:09:14.485Z"
   },
   {
    "duration": 48,
    "start_time": "2022-05-17T14:09:14.512Z"
   },
   {
    "duration": 22,
    "start_time": "2022-05-17T14:09:14.563Z"
   },
   {
    "duration": 15,
    "start_time": "2022-05-17T14:09:14.587Z"
   },
   {
    "duration": 6,
    "start_time": "2022-05-17T14:09:14.604Z"
   },
   {
    "duration": 47,
    "start_time": "2022-05-17T14:09:14.612Z"
   },
   {
    "duration": 7,
    "start_time": "2022-05-17T14:09:14.661Z"
   },
   {
    "duration": 6,
    "start_time": "2022-05-17T14:09:14.670Z"
   },
   {
    "duration": 13,
    "start_time": "2022-05-17T14:09:14.678Z"
   },
   {
    "duration": 70,
    "start_time": "2022-05-17T14:09:14.693Z"
   },
   {
    "duration": 5,
    "start_time": "2022-05-17T14:09:14.766Z"
   },
   {
    "duration": 336,
    "start_time": "2022-05-17T14:09:14.773Z"
   },
   {
    "duration": 26,
    "start_time": "2022-05-17T14:09:15.111Z"
   },
   {
    "duration": 21,
    "start_time": "2022-05-17T14:09:15.139Z"
   },
   {
    "duration": 7,
    "start_time": "2022-05-17T14:09:15.162Z"
   },
   {
    "duration": 8,
    "start_time": "2022-05-17T14:09:15.171Z"
   },
   {
    "duration": 10,
    "start_time": "2022-05-17T14:09:15.181Z"
   },
   {
    "duration": 16,
    "start_time": "2022-05-17T14:09:15.193Z"
   },
   {
    "duration": 59,
    "start_time": "2022-05-17T14:09:15.212Z"
   },
   {
    "duration": 23,
    "start_time": "2022-05-17T14:09:15.274Z"
   },
   {
    "duration": 71,
    "start_time": "2022-05-17T14:09:15.299Z"
   },
   {
    "duration": 9,
    "start_time": "2022-05-17T14:09:15.372Z"
   },
   {
    "duration": 15,
    "start_time": "2022-05-17T14:09:15.384Z"
   },
   {
    "duration": 10,
    "start_time": "2022-05-17T14:09:15.406Z"
   },
   {
    "duration": 40,
    "start_time": "2022-05-17T14:09:15.418Z"
   },
   {
    "duration": 10,
    "start_time": "2022-05-17T14:09:15.460Z"
   },
   {
    "duration": 24,
    "start_time": "2022-05-17T14:09:15.472Z"
   },
   {
    "duration": 11,
    "start_time": "2022-05-17T14:09:15.498Z"
   },
   {
    "duration": 12,
    "start_time": "2022-05-17T14:09:15.511Z"
   },
   {
    "duration": 38,
    "start_time": "2022-05-17T14:09:15.525Z"
   },
   {
    "duration": 13,
    "start_time": "2022-05-17T14:09:15.565Z"
   },
   {
    "duration": 12,
    "start_time": "2022-05-17T14:09:15.580Z"
   },
   {
    "duration": 21,
    "start_time": "2022-05-17T14:09:15.594Z"
   },
   {
    "duration": 45,
    "start_time": "2022-05-17T14:09:15.618Z"
   },
   {
    "duration": 13,
    "start_time": "2022-05-17T14:09:15.665Z"
   },
   {
    "duration": 9,
    "start_time": "2022-05-17T14:09:15.680Z"
   },
   {
    "duration": 18,
    "start_time": "2022-05-17T14:09:15.691Z"
   },
   {
    "duration": 51,
    "start_time": "2022-05-17T14:09:15.711Z"
   },
   {
    "duration": 8,
    "start_time": "2022-05-17T14:09:15.765Z"
   },
   {
    "duration": 25,
    "start_time": "2022-05-17T14:09:15.774Z"
   },
   {
    "duration": 12,
    "start_time": "2022-05-17T14:09:15.801Z"
   },
   {
    "duration": 9,
    "start_time": "2022-05-17T14:09:15.815Z"
   },
   {
    "duration": 36,
    "start_time": "2022-05-17T14:09:15.826Z"
   },
   {
    "duration": 20,
    "start_time": "2022-05-17T14:09:15.864Z"
   },
   {
    "duration": 10,
    "start_time": "2022-05-17T14:09:15.886Z"
   },
   {
    "duration": 12,
    "start_time": "2022-05-17T14:09:15.898Z"
   },
   {
    "duration": 68,
    "start_time": "2022-05-17T14:09:15.913Z"
   },
   {
    "duration": 17,
    "start_time": "2022-05-17T14:09:15.984Z"
   },
   {
    "duration": 24,
    "start_time": "2022-05-17T14:09:16.005Z"
   },
   {
    "duration": 56,
    "start_time": "2022-05-17T14:09:16.031Z"
   },
   {
    "duration": 40,
    "start_time": "2022-05-17T14:09:16.089Z"
   },
   {
    "duration": 34,
    "start_time": "2022-05-17T14:09:16.132Z"
   },
   {
    "duration": 34,
    "start_time": "2022-05-17T14:09:16.168Z"
   },
   {
    "duration": 68,
    "start_time": "2022-05-17T14:09:16.204Z"
   },
   {
    "duration": 44,
    "start_time": "2022-05-17T14:09:16.274Z"
   },
   {
    "duration": 55,
    "start_time": "2022-05-17T14:09:16.321Z"
   },
   {
    "duration": 11,
    "start_time": "2022-05-17T14:09:16.377Z"
   },
   {
    "duration": 34,
    "start_time": "2022-05-17T14:09:16.390Z"
   },
   {
    "duration": 7,
    "start_time": "2022-05-17T14:10:19.282Z"
   },
   {
    "duration": 74,
    "start_time": "2022-05-17T14:10:53.288Z"
   },
   {
    "duration": 8,
    "start_time": "2022-05-17T14:11:18.618Z"
   },
   {
    "duration": 10,
    "start_time": "2022-05-17T14:11:36.104Z"
   },
   {
    "duration": 7,
    "start_time": "2022-05-17T14:11:48.869Z"
   },
   {
    "duration": 280,
    "start_time": "2022-05-17T14:12:55.191Z"
   },
   {
    "duration": 261,
    "start_time": "2022-05-17T14:13:03.406Z"
   },
   {
    "duration": 100,
    "start_time": "2022-05-17T14:13:11.411Z"
   },
   {
    "duration": 18,
    "start_time": "2022-05-17T14:13:18.363Z"
   },
   {
    "duration": 2566,
    "start_time": "2022-05-17T14:13:33.655Z"
   },
   {
    "duration": 8,
    "start_time": "2022-05-17T14:13:40.978Z"
   },
   {
    "duration": 8,
    "start_time": "2022-05-17T14:13:52.926Z"
   },
   {
    "duration": 12,
    "start_time": "2022-05-17T14:17:57.142Z"
   },
   {
    "duration": 15,
    "start_time": "2022-05-17T14:18:14.680Z"
   },
   {
    "duration": 8,
    "start_time": "2022-05-17T14:18:40.177Z"
   },
   {
    "duration": 94,
    "start_time": "2022-05-17T14:32:24.835Z"
   },
   {
    "duration": 26,
    "start_time": "2022-05-17T14:32:24.962Z"
   },
   {
    "duration": 6,
    "start_time": "2022-05-17T14:32:24.991Z"
   },
   {
    "duration": 62,
    "start_time": "2022-05-17T14:32:24.999Z"
   },
   {
    "duration": 24,
    "start_time": "2022-05-17T14:32:25.064Z"
   },
   {
    "duration": 20,
    "start_time": "2022-05-17T14:32:25.090Z"
   },
   {
    "duration": 10,
    "start_time": "2022-05-17T14:32:25.113Z"
   },
   {
    "duration": 46,
    "start_time": "2022-05-17T14:32:25.126Z"
   },
   {
    "duration": 28,
    "start_time": "2022-05-17T14:32:25.176Z"
   },
   {
    "duration": 22,
    "start_time": "2022-05-17T14:32:25.208Z"
   },
   {
    "duration": 9,
    "start_time": "2022-05-17T14:32:25.232Z"
   },
   {
    "duration": 18,
    "start_time": "2022-05-17T14:32:25.244Z"
   },
   {
    "duration": 22,
    "start_time": "2022-05-17T14:32:25.267Z"
   },
   {
    "duration": 11,
    "start_time": "2022-05-17T14:32:25.292Z"
   },
   {
    "duration": 15,
    "start_time": "2022-05-17T14:32:25.305Z"
   },
   {
    "duration": 24,
    "start_time": "2022-05-17T14:32:25.322Z"
   },
   {
    "duration": 13,
    "start_time": "2022-05-17T14:32:25.359Z"
   },
   {
    "duration": 44,
    "start_time": "2022-05-17T14:32:25.380Z"
   },
   {
    "duration": 13,
    "start_time": "2022-05-17T14:32:25.427Z"
   },
   {
    "duration": 44,
    "start_time": "2022-05-17T14:32:25.443Z"
   },
   {
    "duration": 23,
    "start_time": "2022-05-17T14:32:25.490Z"
   },
   {
    "duration": 11,
    "start_time": "2022-05-17T14:32:25.516Z"
   },
   {
    "duration": 8,
    "start_time": "2022-05-17T14:32:25.529Z"
   },
   {
    "duration": 35,
    "start_time": "2022-05-17T14:32:25.539Z"
   },
   {
    "duration": 23,
    "start_time": "2022-05-17T14:32:25.576Z"
   },
   {
    "duration": 22,
    "start_time": "2022-05-17T14:32:25.601Z"
   },
   {
    "duration": 66,
    "start_time": "2022-05-17T14:32:25.626Z"
   },
   {
    "duration": 5,
    "start_time": "2022-05-17T14:32:25.704Z"
   },
   {
    "duration": 393,
    "start_time": "2022-05-17T14:32:25.712Z"
   },
   {
    "duration": 28,
    "start_time": "2022-05-17T14:32:26.108Z"
   },
   {
    "duration": 55,
    "start_time": "2022-05-17T14:32:26.138Z"
   },
   {
    "duration": 14,
    "start_time": "2022-05-17T14:32:26.195Z"
   },
   {
    "duration": 9,
    "start_time": "2022-05-17T14:32:26.211Z"
   },
   {
    "duration": 12,
    "start_time": "2022-05-17T14:32:26.222Z"
   },
   {
    "duration": 12,
    "start_time": "2022-05-17T14:32:26.236Z"
   },
   {
    "duration": 26,
    "start_time": "2022-05-17T14:32:26.250Z"
   },
   {
    "duration": 39,
    "start_time": "2022-05-17T14:32:26.281Z"
   },
   {
    "duration": 28,
    "start_time": "2022-05-17T14:32:26.322Z"
   },
   {
    "duration": 57,
    "start_time": "2022-05-17T14:32:26.352Z"
   },
   {
    "duration": 9,
    "start_time": "2022-05-17T14:32:26.411Z"
   },
   {
    "duration": 52,
    "start_time": "2022-05-17T14:32:26.422Z"
   },
   {
    "duration": 15,
    "start_time": "2022-05-17T14:32:26.476Z"
   },
   {
    "duration": 12,
    "start_time": "2022-05-17T14:32:26.493Z"
   },
   {
    "duration": 14,
    "start_time": "2022-05-17T14:32:26.507Z"
   },
   {
    "duration": 42,
    "start_time": "2022-05-17T14:32:26.524Z"
   },
   {
    "duration": 17,
    "start_time": "2022-05-17T14:32:26.568Z"
   },
   {
    "duration": 11,
    "start_time": "2022-05-17T14:32:26.587Z"
   },
   {
    "duration": 10,
    "start_time": "2022-05-17T14:32:26.600Z"
   },
   {
    "duration": 16,
    "start_time": "2022-05-17T14:32:26.612Z"
   },
   {
    "duration": 45,
    "start_time": "2022-05-17T14:32:26.630Z"
   },
   {
    "duration": 29,
    "start_time": "2022-05-17T14:32:26.677Z"
   },
   {
    "duration": 20,
    "start_time": "2022-05-17T14:32:26.708Z"
   },
   {
    "duration": 17,
    "start_time": "2022-05-17T14:32:26.730Z"
   },
   {
    "duration": 53,
    "start_time": "2022-05-17T14:32:26.749Z"
   },
   {
    "duration": 18,
    "start_time": "2022-05-17T14:32:26.804Z"
   },
   {
    "duration": 19,
    "start_time": "2022-05-17T14:32:26.824Z"
   },
   {
    "duration": 6,
    "start_time": "2022-05-17T14:32:26.845Z"
   },
   {
    "duration": 49,
    "start_time": "2022-05-17T14:32:26.853Z"
   },
   {
    "duration": 9,
    "start_time": "2022-05-17T14:32:26.904Z"
   },
   {
    "duration": 5,
    "start_time": "2022-05-17T14:32:26.915Z"
   },
   {
    "duration": 21,
    "start_time": "2022-05-17T14:32:26.922Z"
   },
   {
    "duration": 33,
    "start_time": "2022-05-17T14:32:26.945Z"
   },
   {
    "duration": 12,
    "start_time": "2022-05-17T14:32:26.981Z"
   },
   {
    "duration": 9,
    "start_time": "2022-05-17T14:32:26.996Z"
   },
   {
    "duration": 55,
    "start_time": "2022-05-17T14:32:27.007Z"
   },
   {
    "duration": 15,
    "start_time": "2022-05-17T14:32:27.067Z"
   },
   {
    "duration": 27,
    "start_time": "2022-05-17T14:32:27.084Z"
   },
   {
    "duration": 56,
    "start_time": "2022-05-17T14:32:27.114Z"
   },
   {
    "duration": 40,
    "start_time": "2022-05-17T14:32:27.173Z"
   },
   {
    "duration": 12,
    "start_time": "2022-05-17T14:32:27.215Z"
   },
   {
    "duration": 45,
    "start_time": "2022-05-17T14:32:27.229Z"
   },
   {
    "duration": 83,
    "start_time": "2022-05-17T14:32:27.277Z"
   },
   {
    "duration": 51,
    "start_time": "2022-05-17T14:32:27.362Z"
   },
   {
    "duration": 59,
    "start_time": "2022-05-17T14:32:27.415Z"
   },
   {
    "duration": 16,
    "start_time": "2022-05-17T14:32:27.477Z"
   },
   {
    "duration": 18,
    "start_time": "2022-05-17T14:32:27.495Z"
   },
   {
    "duration": 78,
    "start_time": "2022-05-17T14:35:01.770Z"
   },
   {
    "duration": 21,
    "start_time": "2022-05-17T14:35:01.861Z"
   },
   {
    "duration": 32,
    "start_time": "2022-05-17T14:35:01.884Z"
   },
   {
    "duration": 29,
    "start_time": "2022-05-17T14:35:01.918Z"
   },
   {
    "duration": 46,
    "start_time": "2022-05-17T14:35:01.950Z"
   },
   {
    "duration": 13,
    "start_time": "2022-05-17T14:35:01.998Z"
   },
   {
    "duration": 25,
    "start_time": "2022-05-17T14:35:02.013Z"
   },
   {
    "duration": 60,
    "start_time": "2022-05-17T14:35:02.041Z"
   },
   {
    "duration": 27,
    "start_time": "2022-05-17T14:35:02.104Z"
   },
   {
    "duration": 36,
    "start_time": "2022-05-17T14:35:02.133Z"
   },
   {
    "duration": 42,
    "start_time": "2022-05-17T14:35:02.171Z"
   },
   {
    "duration": 26,
    "start_time": "2022-05-17T14:35:02.215Z"
   },
   {
    "duration": 42,
    "start_time": "2022-05-17T14:35:02.243Z"
   },
   {
    "duration": 11,
    "start_time": "2022-05-17T14:35:02.289Z"
   },
   {
    "duration": 11,
    "start_time": "2022-05-17T14:35:02.302Z"
   },
   {
    "duration": 26,
    "start_time": "2022-05-17T14:35:02.315Z"
   },
   {
    "duration": 6,
    "start_time": "2022-05-17T14:35:02.343Z"
   },
   {
    "duration": 50,
    "start_time": "2022-05-17T14:35:02.351Z"
   },
   {
    "duration": 26,
    "start_time": "2022-05-17T14:35:02.403Z"
   },
   {
    "duration": 36,
    "start_time": "2022-05-17T14:35:02.431Z"
   },
   {
    "duration": 23,
    "start_time": "2022-05-17T14:35:02.470Z"
   },
   {
    "duration": 10,
    "start_time": "2022-05-17T14:35:02.495Z"
   },
   {
    "duration": 7,
    "start_time": "2022-05-17T14:35:02.507Z"
   },
   {
    "duration": 8,
    "start_time": "2022-05-17T14:35:02.516Z"
   },
   {
    "duration": 30,
    "start_time": "2022-05-17T14:35:02.526Z"
   },
   {
    "duration": 20,
    "start_time": "2022-05-17T14:35:02.558Z"
   },
   {
    "duration": 33,
    "start_time": "2022-05-17T14:35:02.580Z"
   },
   {
    "duration": 6,
    "start_time": "2022-05-17T14:35:02.615Z"
   },
   {
    "duration": 358,
    "start_time": "2022-05-17T14:35:02.623Z"
   },
   {
    "duration": 26,
    "start_time": "2022-05-17T14:35:02.983Z"
   },
   {
    "duration": 7,
    "start_time": "2022-05-17T14:35:03.011Z"
   },
   {
    "duration": 48,
    "start_time": "2022-05-17T14:35:03.020Z"
   },
   {
    "duration": 15,
    "start_time": "2022-05-17T14:35:03.070Z"
   },
   {
    "duration": 9,
    "start_time": "2022-05-17T14:35:03.087Z"
   },
   {
    "duration": 6,
    "start_time": "2022-05-17T14:35:03.098Z"
   },
   {
    "duration": 16,
    "start_time": "2022-05-17T14:35:03.105Z"
   },
   {
    "duration": 44,
    "start_time": "2022-05-17T14:35:03.123Z"
   },
   {
    "duration": 25,
    "start_time": "2022-05-17T14:35:03.169Z"
   },
   {
    "duration": 67,
    "start_time": "2022-05-17T14:35:03.196Z"
   },
   {
    "duration": 10,
    "start_time": "2022-05-17T14:35:03.265Z"
   },
   {
    "duration": 21,
    "start_time": "2022-05-17T14:35:03.281Z"
   },
   {
    "duration": 18,
    "start_time": "2022-05-17T14:35:03.304Z"
   },
   {
    "duration": 15,
    "start_time": "2022-05-17T14:35:03.324Z"
   },
   {
    "duration": 24,
    "start_time": "2022-05-17T14:35:03.341Z"
   },
   {
    "duration": 49,
    "start_time": "2022-05-17T14:35:03.368Z"
   },
   {
    "duration": 46,
    "start_time": "2022-05-17T14:35:03.419Z"
   },
   {
    "duration": 14,
    "start_time": "2022-05-17T14:35:03.467Z"
   },
   {
    "duration": 9,
    "start_time": "2022-05-17T14:35:03.484Z"
   },
   {
    "duration": 17,
    "start_time": "2022-05-17T14:35:03.494Z"
   },
   {
    "duration": 11,
    "start_time": "2022-05-17T14:35:03.513Z"
   },
   {
    "duration": 52,
    "start_time": "2022-05-17T14:35:03.526Z"
   },
   {
    "duration": 7,
    "start_time": "2022-05-17T14:35:03.580Z"
   },
   {
    "duration": 13,
    "start_time": "2022-05-17T14:35:03.589Z"
   },
   {
    "duration": 7,
    "start_time": "2022-05-17T14:35:03.604Z"
   },
   {
    "duration": 43,
    "start_time": "2022-05-17T14:35:03.613Z"
   },
   {
    "duration": 20,
    "start_time": "2022-05-17T14:35:03.665Z"
   },
   {
    "duration": 8,
    "start_time": "2022-05-17T14:35:03.687Z"
   },
   {
    "duration": 16,
    "start_time": "2022-05-17T14:35:03.697Z"
   },
   {
    "duration": 9,
    "start_time": "2022-05-17T14:35:03.715Z"
   },
   {
    "duration": 34,
    "start_time": "2022-05-17T14:35:03.726Z"
   },
   {
    "duration": 25,
    "start_time": "2022-05-17T14:35:03.762Z"
   },
   {
    "duration": 18,
    "start_time": "2022-05-17T14:35:03.789Z"
   },
   {
    "duration": 9,
    "start_time": "2022-05-17T14:35:03.809Z"
   },
   {
    "duration": 35,
    "start_time": "2022-05-17T14:35:03.820Z"
   },
   {
    "duration": 36,
    "start_time": "2022-05-17T14:35:03.861Z"
   },
   {
    "duration": 8,
    "start_time": "2022-05-17T14:35:03.899Z"
   },
   {
    "duration": 22,
    "start_time": "2022-05-17T14:35:03.909Z"
   },
   {
    "duration": 59,
    "start_time": "2022-05-17T14:35:03.933Z"
   },
   {
    "duration": 35,
    "start_time": "2022-05-17T14:35:03.994Z"
   },
   {
    "duration": 37,
    "start_time": "2022-05-17T14:35:04.032Z"
   },
   {
    "duration": 21,
    "start_time": "2022-05-17T14:35:04.072Z"
   },
   {
    "duration": 41,
    "start_time": "2022-05-17T14:35:04.095Z"
   },
   {
    "duration": 72,
    "start_time": "2022-05-17T14:35:04.138Z"
   },
   {
    "duration": 61,
    "start_time": "2022-05-17T14:35:04.212Z"
   },
   {
    "duration": 11,
    "start_time": "2022-05-17T14:35:04.275Z"
   },
   {
    "duration": 19,
    "start_time": "2022-05-17T14:35:04.288Z"
   },
   {
    "duration": 606,
    "start_time": "2022-05-17T14:48:00.041Z"
   },
   {
    "duration": 33,
    "start_time": "2022-05-17T14:48:00.649Z"
   },
   {
    "duration": 6,
    "start_time": "2022-05-17T14:48:00.685Z"
   },
   {
    "duration": 45,
    "start_time": "2022-05-17T14:48:00.694Z"
   },
   {
    "duration": 28,
    "start_time": "2022-05-17T14:48:00.742Z"
   },
   {
    "duration": 19,
    "start_time": "2022-05-17T14:48:00.773Z"
   },
   {
    "duration": 26,
    "start_time": "2022-05-17T14:48:00.795Z"
   },
   {
    "duration": 32,
    "start_time": "2022-05-17T14:48:00.824Z"
   },
   {
    "duration": 34,
    "start_time": "2022-05-17T14:48:00.858Z"
   },
   {
    "duration": 13,
    "start_time": "2022-05-17T14:48:00.896Z"
   },
   {
    "duration": 9,
    "start_time": "2022-05-17T14:48:00.913Z"
   },
   {
    "duration": 12,
    "start_time": "2022-05-17T14:48:00.924Z"
   },
   {
    "duration": 8,
    "start_time": "2022-05-17T14:48:00.938Z"
   },
   {
    "duration": 15,
    "start_time": "2022-05-17T14:48:00.957Z"
   },
   {
    "duration": 18,
    "start_time": "2022-05-17T14:48:00.974Z"
   },
   {
    "duration": 29,
    "start_time": "2022-05-17T14:48:00.994Z"
   },
   {
    "duration": 7,
    "start_time": "2022-05-17T14:48:01.026Z"
   },
   {
    "duration": 43,
    "start_time": "2022-05-17T14:48:01.035Z"
   },
   {
    "duration": 17,
    "start_time": "2022-05-17T14:48:01.080Z"
   },
   {
    "duration": 22,
    "start_time": "2022-05-17T14:48:01.099Z"
   },
   {
    "duration": 15,
    "start_time": "2022-05-17T14:48:01.157Z"
   },
   {
    "duration": 8,
    "start_time": "2022-05-17T14:48:01.175Z"
   },
   {
    "duration": 9,
    "start_time": "2022-05-17T14:48:01.185Z"
   },
   {
    "duration": 15,
    "start_time": "2022-05-17T14:48:01.196Z"
   },
   {
    "duration": 11,
    "start_time": "2022-05-17T14:48:01.214Z"
   },
   {
    "duration": 13,
    "start_time": "2022-05-17T14:48:01.257Z"
   },
   {
    "duration": 43,
    "start_time": "2022-05-17T14:48:01.272Z"
   },
   {
    "duration": 6,
    "start_time": "2022-05-17T14:48:01.321Z"
   },
   {
    "duration": 334,
    "start_time": "2022-05-17T14:48:01.329Z"
   },
   {
    "duration": 26,
    "start_time": "2022-05-17T14:48:01.665Z"
   },
   {
    "duration": 7,
    "start_time": "2022-05-17T14:48:01.693Z"
   },
   {
    "duration": 17,
    "start_time": "2022-05-17T14:48:01.702Z"
   },
   {
    "duration": 38,
    "start_time": "2022-05-17T14:48:01.721Z"
   },
   {
    "duration": 11,
    "start_time": "2022-05-17T14:48:01.761Z"
   },
   {
    "duration": 24,
    "start_time": "2022-05-17T14:48:01.774Z"
   },
   {
    "duration": 24,
    "start_time": "2022-05-17T14:48:01.800Z"
   },
   {
    "duration": 34,
    "start_time": "2022-05-17T14:48:01.826Z"
   },
   {
    "duration": 11,
    "start_time": "2022-05-17T14:48:01.863Z"
   },
   {
    "duration": 29,
    "start_time": "2022-05-17T14:48:01.876Z"
   },
   {
    "duration": 22,
    "start_time": "2022-05-17T14:48:01.908Z"
   },
   {
    "duration": 23,
    "start_time": "2022-05-17T14:48:01.932Z"
   },
   {
    "duration": 19,
    "start_time": "2022-05-17T14:48:01.957Z"
   },
   {
    "duration": 35,
    "start_time": "2022-05-17T14:48:01.978Z"
   },
   {
    "duration": 28,
    "start_time": "2022-05-17T14:48:02.015Z"
   },
   {
    "duration": 53,
    "start_time": "2022-05-17T14:48:02.045Z"
   },
   {
    "duration": 93,
    "start_time": "2022-05-17T14:48:02.100Z"
   },
   {
    "duration": 29,
    "start_time": "2022-05-17T14:48:02.194Z"
   },
   {
    "duration": 31,
    "start_time": "2022-05-17T14:48:02.225Z"
   },
   {
    "duration": 37,
    "start_time": "2022-05-17T14:48:02.258Z"
   },
   {
    "duration": 27,
    "start_time": "2022-05-17T14:48:02.297Z"
   },
   {
    "duration": 19,
    "start_time": "2022-05-17T14:48:02.326Z"
   },
   {
    "duration": 14,
    "start_time": "2022-05-17T14:48:02.347Z"
   },
   {
    "duration": 37,
    "start_time": "2022-05-17T14:48:02.363Z"
   },
   {
    "duration": 54,
    "start_time": "2022-05-17T14:48:02.402Z"
   },
   {
    "duration": 16,
    "start_time": "2022-05-17T14:48:02.458Z"
   },
   {
    "duration": 24,
    "start_time": "2022-05-17T14:48:02.476Z"
   },
   {
    "duration": 8,
    "start_time": "2022-05-17T14:48:02.502Z"
   },
   {
    "duration": 23,
    "start_time": "2022-05-17T14:48:02.512Z"
   },
   {
    "duration": 24,
    "start_time": "2022-05-17T14:48:02.537Z"
   },
   {
    "duration": 6,
    "start_time": "2022-05-17T14:48:02.563Z"
   },
   {
    "duration": 17,
    "start_time": "2022-05-17T14:48:02.571Z"
   },
   {
    "duration": 30,
    "start_time": "2022-05-17T14:48:02.590Z"
   },
   {
    "duration": 12,
    "start_time": "2022-05-17T14:48:02.622Z"
   },
   {
    "duration": 43,
    "start_time": "2022-05-17T14:48:02.636Z"
   },
   {
    "duration": 43,
    "start_time": "2022-05-17T14:48:02.681Z"
   },
   {
    "duration": 8,
    "start_time": "2022-05-17T14:48:02.726Z"
   },
   {
    "duration": 24,
    "start_time": "2022-05-17T14:48:02.736Z"
   },
   {
    "duration": 36,
    "start_time": "2022-05-17T14:48:02.762Z"
   },
   {
    "duration": 61,
    "start_time": "2022-05-17T14:48:02.800Z"
   },
   {
    "duration": 14,
    "start_time": "2022-05-17T14:48:02.863Z"
   },
   {
    "duration": 33,
    "start_time": "2022-05-17T14:48:02.879Z"
   },
   {
    "duration": 63,
    "start_time": "2022-05-17T14:48:02.915Z"
   },
   {
    "duration": 47,
    "start_time": "2022-05-17T14:48:02.980Z"
   },
   {
    "duration": 54,
    "start_time": "2022-05-17T14:48:03.029Z"
   },
   {
    "duration": 11,
    "start_time": "2022-05-17T14:48:03.085Z"
   },
   {
    "duration": 19,
    "start_time": "2022-05-17T14:48:03.099Z"
   }
  ],
  "kernelspec": {
   "display_name": "Python 3 (ipykernel)",
   "language": "python",
   "name": "python3"
  },
  "language_info": {
   "codemirror_mode": {
    "name": "ipython",
    "version": 3
   },
   "file_extension": ".py",
   "mimetype": "text/x-python",
   "name": "python",
   "nbconvert_exporter": "python",
   "pygments_lexer": "ipython3",
   "version": "3.9.7"
  },
  "toc": {
   "base_numbering": 1,
   "nav_menu": {},
   "number_sections": false,
   "sideBar": true,
   "skip_h1_title": true,
   "title_cell": "Table of Contents",
   "title_sidebar": "Contents",
   "toc_cell": false,
   "toc_position": {},
   "toc_section_display": true,
   "toc_window_display": false
  }
 },
 "nbformat": 4,
 "nbformat_minor": 5
}
