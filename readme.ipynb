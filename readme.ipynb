{
 "cells": [
  {
   "cell_type": "markdown",
   "id": "5b844f08",
   "metadata": {},
   "source": [
    "# Портфолио\n",
    " \n",
    "Проекты выполненные в рамках курса **Data Science** на **Яндекс.Практикум**\n",
    "\n",
    "## Модуль 1: Анализ и предобработка данных\n",
    "\n",
    "Название проекта|Задачи проекта|Цели проекта\n",
    "-|-|-\n",
    "Музыка больших городов [**ipynb**](https://github.com/mustdayker/data_portfolio/blob/main/ipynb/s_01_project_music_big_city.ipynb)/[**pdf**](https://github.com/mustdayker/data_portfolio/blob/main/pdf/s_01_project_music_big_city.pdf)|Проверить гипотезы о музыкальных предпочтениях в разных городах. | Первое знакомство с инструментарием Python для анализа данных. **`pandas`**\n",
    "Исследование надежности заемщиков [**ipynb**](https://github.com/mustdayker/data_portfolio/blob/main/ipynb/s_02_project_investigation_of_the_reliability.ipynb)/[**pdf**](https://github.com/mustdayker/data_portfolio/blob/main/pdf/s_02_project_investigation_of_the_reliability.pdf)|Выяснить, влияет ли семейное положение и количество детей клиента на факт погашения кредита в срок.|Изучение методов предобработки данных. **`pandas`**\n",
    "Исследование объявлений о продаже квартир [**ipynb**](https://github.com/mustdayker/data_portfolio/blob/main/ipynb/s_03_project_research_sale_house.ipynb)/[**pdf**](https://github.com/mustdayker/data_portfolio/blob/main/pdf/s_03_project_research_sale_house.pdf)|Определить факторы влияющие на стоимость квартиры.|Исследовательский анализ данных. Освоение диаграмм и графиков. **`matplotlib`**, **`pandas`**\n",
    "Определение перспективного тарифа для телеком компании [**ipynb**](https://github.com/mustdayker/data_portfolio/blob/main/ipynb/s_04_project_tariff_telecom.ipynb)/[**pdf**](https://github.com/mustdayker/data_portfolio/blob/main/pdf/s_04_project_tariff_telecom.pdf)|Проанализировать поведение клиентов и сделать вывод — какой тариф лучше|Исследовательский анализ. Проверка статистических гипотез. **`scipy`**, **`matplotlib`**, **`numpy`**, **`pandas`**\n",
    "Выявление закономерностей успешности игр [**ipynb**](https://github.com/mustdayker/data_portfolio/blob/main/ipynb/s_05_combined-project_games.ipynb)/[**pdf**](https://github.com/mustdayker/data_portfolio/blob/main/pdf/s_05_combined-project_games.pdf)|Выявить факторы влияющие на успешность игр для планирования рекламной компании. |**Сборный проект**. Закрепление пройденных тем. **`scipy`**, **`matplotlib`**, **`numpy`**, **`pandas`**\n",
    "\n",
    "\n",
    "## Модуль 2: Машинное обучение\n",
    "Название проекта|Задачи проекта|Цели проекта\n",
    "-|-|-\n",
    "Рекомендация тарифов [**ipynb**](https://github.com/mustdayker/data_portfolio/blob/main/ipynb/s_06_project_recommend_tariffs.ipynb)/[**pdf**](https://github.com/mustdayker/data_portfolio/blob/main/pdf/s_06_project_recommend_tariffs.pdf)|Построить модель классификации, которая выберет подходящий тариф, на основе поведения клиентов.|Первое знакомство с машинным обучением. **`sklearn`**, **`matplotlib`**, **`pandas`**\n",
    "Отток клиентов [**ipynb**](https://github.com/mustdayker/data_portfolio/blob/main/ipynb/s_07_project_customer_outflow.ipynb)/[**pdf**](https://github.com/mustdayker/data_portfolio/blob/main/pdf/s_07_project_customer_outflow.pdf)|Построить модель классификации, которая спрогнозирует уйдет ли клиент в ближайшее время или нет.|Изучение метрик классификации. Подготовка признаков (техника прямого кодирования / масштабирование). Борьба с дизбалансом классов. **`sklearn`**, **`matplotlib`**, **`pandas`**\n",
    "Выбор локации для скважины [**ipynb**](https://github.com/mustdayker/data_portfolio/blob/main/ipynb/s_08_project_location_for_the_well.ipynb)/[**pdf**](https://github.com/mustdayker/data_portfolio/blob/main/pdf/s_08_project_location_for_the_well.pdf)|Построить модель машинного обучения, которая поможет определить регион, где добыча принесёт наибольшую прибыль|Работа с моделями регрессии. Техника Bootstrap. Поиск доверительного интервала. **`sklearn`**, **`numpy`**, **`pandas`**\n",
    "Восстановление золота из руды [**ipynb**](https://github.com/mustdayker/data_portfolio/blob/main/ipynb/s_09_combined_project_gold.ipynb)/[**pdf**](https://github.com/mustdayker/data_portfolio/blob/main/pdf/s_09_combined_project_gold.pdf)|Построить модель, которая предскажет коэффициент восстановления золота из золотосодержащей руды|**Сборный проект**. Закрепление пройденных тем. Создание собственных метрик для регрессии. **`sklearn`**, **`matplotlib`**, **`numpy`**, **`pandas`**\n",
    "\n",
    "## Модуль 3: Линейная алгебра, Численные методы, Временные ряды, Работа с текстом\n",
    "Название проекта|Задачи проекта|Цели проекта\n",
    "-|-|-\n",
    "Защита персональных данных клиентов [**ipynb**](https://github.com/mustdayker/data_portfolio/blob/main/ipynb/s_10_project_protection_of_personal_data.ipynb)/[**pdf**](https://github.com/mustdayker/data_portfolio/blob/main/pdf/s_10_project_protection_of_personal_data.pdf)|Разработать метод преобразования данных, чтобы по ним было сложно восстановить персональную информацию.|Разобраться, как ведет себя линейная регрессия изнутри. **`numpy`**, **`sklearn`**, **`pandas`**\n",
    "Определение стоимости автомобилей [**ipynb**](https://github.com/mustdayker/data_portfolio/blob/main/ipynb/s_11_project_cost_of_the_car.ipynb)/[**pdf**](https://github.com/mustdayker/data_portfolio/blob/main/pdf/s_11_project_cost_of_the_car.pdf)|Построить модель для определения рыночной стоиости автомобиля| Освоить модели градиентного бустинга **`lightgbm`**, **`xgboost`**, **`catboost`**\n",
    "Прогнозирование заказов такси [**ipynb**](https://github.com/mustdayker/data_portfolio/blob/main/ipynb/s_12_project_taxi_orders.ipynb)/[**pdf**](https://github.com/mustdayker/data_portfolio/blob/main/pdf/s_12_project_taxi_orders.pdf)|Построить модель для прогнозирования количества заказов такси на следующий час|Изучение методов работы с временными рядами **`TimeSeriesSplit`**, **`seasonal_decompose`**\n",
    "Токсичные комментарии [**ipynb**](https://github.com/mustdayker/data_portfolio/blob/main/ipynb/s_13_project_toxic_comments.ipynb)/[**pdf**](https://github.com/mustdayker/data_portfolio/blob/main/pdf/s_13_project_toxic_comments.pdf)|Обучить модель классифицировать комментарии на позитивные и негативные|Освоить методы работы с текстом в машинном обучении **`nltk`**, **`re`**, **`TfidfVectorizer`**\n",
    "\n",
    "## Модуль 4: SQL, Компьютерное зрение, Финальный проект\n",
    "Название проекта|Задачи проекта|Цели проекта\n",
    "-|-|-\n",
    "Венчурные фонды [**pdf**](https://github.com/mustdayker/data_portfolio/blob/main/pdf/s_14_project_sql.pdf)|Получить необходимые срезы информации из базы данных|Закрепить навыки написания запросов **`SQL`**\n",
    "Определение возраста покупателей [**ipynb**](https://github.com/mustdayker/data_portfolio/blob/main/ipynb/s_15_project_age_of_buyers.ipynb)/[**pdf**](https://github.com/mustdayker/data_portfolio/blob/main/pdf/s_15_project_age_of_buyers.pdf)|Построить модель, которая по фотографии определит приблизительный возраст человека| Освоить методы работы с изображениями в машинном обучении **`tensorflow`**, **`keras`**\n",
    "Диплом [**ipynb**](https://github.com/mustdayker/data_portfolio/blob/main/ipynb/s_17_final_project.ipynb)/[**pdf**](https://github.com/mustdayker/data_portfolio/blob/main/pdf/s_17_final_project.pdf)|Построить модель для прогнозирования оттока клиентов в телеком компании|**Дипломная работа**. Закрепление пройденных тем, составление плана работ, подробный анализ и отчет о проделанной работе, общение с заказчиком. **`SoftSkills`**"
   ]
  },
  {
   "cell_type": "code",
   "execution_count": null,
   "id": "1fe85833",
   "metadata": {},
   "outputs": [],
   "source": []
  }
 ],
 "metadata": {
  "kernelspec": {
   "display_name": "Python 3 (ipykernel)",
   "language": "python",
   "name": "python3"
  },
  "language_info": {
   "codemirror_mode": {
    "name": "ipython",
    "version": 3
   },
   "file_extension": ".py",
   "mimetype": "text/x-python",
   "name": "python",
   "nbconvert_exporter": "python",
   "pygments_lexer": "ipython3",
   "version": "3.9.12"
  }
 },
 "nbformat": 4,
 "nbformat_minor": 5
}
