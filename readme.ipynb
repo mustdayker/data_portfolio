{
 "cells": [
  {
   "cell_type": "markdown",
   "id": "5b844f08",
   "metadata": {},
   "source": [
    "# Портфолио\n",
    " \n",
    "Ссылки на проекты выполненые в рамках учебных курсов **Яндекс.Практикум**\n",
    "\n",
    "## [Data Engineer](https://github.com/mustdayker/data_portfolio/blob/main/de/de_portfolio.md)\n",
    "\n",
    "Стек технологий:\n",
    "- `Python`\n",
    "- `SQL`\n",
    "- `Airflow`\n",
    "- `PostgreSQL`\n",
    "- `NoSQL`\n",
    "- `MongoDB`\n",
    "- `Redis`\n",
    "- `Docker`\n",
    "- `HDFS`\n",
    "- `Apache Spark`\n",
    "- `PySpark`\n",
    "- `Spark Streaming`\n",
    "- `Kafka`\n",
    "- `Vertica`\n",
    "- `Git`\n",
    "- `Datalens`\n",
    "- `Metabase`\n",
    "- `Yandex.Cloud`\n",
    "\n",
    "\n",
    "## [Data Science](https://github.com/mustdayker/data_portfolio/blob/main/ds/ds_portfolio.md)\n",
    "\n",
    "Стек технологий:\n",
    "- `Python`\n",
    "- `Pandas`\n",
    "- `matplotlib`\n",
    "- `scipy`\n",
    "- `numpy`\n",
    "- `Scikit-learn`\n",
    "- `Catboost`\n",
    "- `lightgbm`\n",
    "- `xgboost`\n",
    "- `Jupyter Notebook`\n",
    "- `SQL`\n",
    "- `Предобработка данных`\n",
    "- `Исследовательский анализ данных`\n",
    "- `Статистический анализ данных`\n",
    "- `Машинное обучение`"
   ]
  },
  {
   "cell_type": "code",
   "execution_count": null,
   "id": "1fe85833",
   "metadata": {},
   "outputs": [],
   "source": []
  }
 ],
 "metadata": {
  "kernelspec": {
   "display_name": "Python 3 (ipykernel)",
   "language": "python",
   "name": "python3"
  },
  "language_info": {
   "codemirror_mode": {
    "name": "ipython",
    "version": 3
   },
   "file_extension": ".py",
   "mimetype": "text/x-python",
   "name": "python",
   "nbconvert_exporter": "python",
   "pygments_lexer": "ipython3",
   "version": "3.9.12"
  }
 },
 "nbformat": 4,
 "nbformat_minor": 5
}
