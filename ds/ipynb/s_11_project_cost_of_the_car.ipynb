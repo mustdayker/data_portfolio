{
 "cells": [
  {
   "cell_type": "markdown",
   "metadata": {},
   "source": [
    "<a id='head'></a>\n",
    "\n",
    "# Определение стоимости автомобилей"
   ]
  },
  {
   "cell_type": "markdown",
   "metadata": {},
   "source": [
    "## Оглавление\n",
    " \n",
    "- [**Введение**](#intro)\n",
    "    - [Входные данные](#input_data)\n",
    "    - [Ход исследования](#progress)\n",
    "    \n",
    "- [**1. Обзор данных**](#part_1)\n",
    "    - [1.1 Импорт библиотек](#part_1_1)\n",
    "    - [1.2 Обзор данных](#part_1_2)\n",
    "    - [Выводы](#part_1_conclusions)\n",
    "\n",
    "- [**2. Предобработка данных**](#part_2)\n",
    "    - [2.1 Удаление лишних для модели столбцов](#part_2_1)\n",
    "    - [2.2 Чистка данных](#part_2_2)\n",
    "    - [2.3 Обзор очищенного массива](#part_2_3)\n",
    "    - [Выводы](#part_2_conclusions)\n",
    "\n",
    "- [**3. Подготовка данных**](#part_3)\n",
    "    - [3.1 Кодирование категориальных признаков](#part_3_1)\n",
    "    - [3.2 Разбивка датасета на выборки](#part_3_2)\n",
    "\n",
    "- [**4. Обучение моделей**](#part_4)\n",
    "    - [4.1 Подготовка к обучению](#part_4_1)\n",
    "    - [4.2 Decision Tree Regressor](#part_4_2)\n",
    "    - [4.3 XGBoost](#part_4_3)\n",
    "    - [4.4 Light GBM](#part_4_4)\n",
    "    - [4.5 CatBoost](#part_4_5)\n",
    "    - [4.6 Проверка моделей на адекватность](#part_4_6)\n",
    "    \n",
    "- [**5. Анализ моделей**](#part_5)\n",
    "    - [5.1 Анализ на этапах предобработки](#part_5_1)\n",
    "    - [5.2 Анализ финальных моделей](#part_5_2)\n",
    "    - [5.3 Тестирование лучшей модели](#part_5_3)\n",
    "    - [Выводы](#part_5_conclusions)\n",
    "\n",
    "- [Чек лист](#check_list)"
   ]
  },
  {
   "cell_type": "markdown",
   "metadata": {},
   "source": [
    "<a id='intro'></a>\n",
    "# Введение [▴](#head)"
   ]
  },
  {
   "cell_type": "markdown",
   "metadata": {},
   "source": [
    "Сервис по продаже автомобилей с пробегом **«Не бит, не крашен»** разрабатывает приложение, чтобы привлечь новых клиентов. В нём можно будет узнать рыночную стоимость своего автомобиля.\n",
    "\n",
    "Требуется построить модель, которая умеет её определять. В нашем распоряжении данные о технических характеристиках, комплектации и ценах других автомобилей.\n",
    "\n",
    "### Критерии, которые важны заказчику:\n",
    "- качество предсказания;\n",
    "- время обучения модели;\n",
    "- время предсказания модели."
   ]
  },
  {
   "cell_type": "markdown",
   "metadata": {},
   "source": [
    "<a id='input_data'></a>\n",
    "## Входные данные [▴](#head)"
   ]
  },
  {
   "cell_type": "markdown",
   "metadata": {},
   "source": [
    "Данные находятся в файле `/datasets/autos.csv`\n",
    "\n",
    "### Признаки:\n",
    "- `DateCrawled` — дата скачивания анкеты из базы\n",
    "- `VehicleType` — тип автомобильного кузова\n",
    "- `RegistrationYear` — год регистрации автомобиля\n",
    "- `Gearbox` — тип коробки передач\n",
    "- `Power` — мощность (л. с.)\n",
    "- `Model` — модель автомобиля\n",
    "- `Kilometer` — пробег (км)\n",
    "- `RegistrationMonth` — месяц регистрации автомобиля\n",
    "- `FuelType` — тип топлива\n",
    "- `Brand` — марка автомобиля\n",
    "- `NotRepaired` — была машина в ремонте или нет\n",
    "- `DateCreated` — дата создания анкеты\n",
    "- `NumberOfPictures` — количество фотографий автомобиля\n",
    "- `PostalCode` — почтовый индекс владельца анкеты (пользователя)\n",
    "- `LastSeen` — дата последней активности пользователя\n",
    "\n",
    "### Целевой признак:\n",
    "- `Price` — цена (евро)"
   ]
  },
  {
   "cell_type": "markdown",
   "metadata": {},
   "source": [
    "<a id='progress'></a>\n",
    "## Ход исследования [▴](#head)"
   ]
  },
  {
   "cell_type": "markdown",
   "metadata": {},
   "source": [
    "1. Загрузка данных, путь к файлу: `/datasets/autos.csv`\n",
    "2. Изучение и обработка данных:\n",
    "    - Обработка пропущенных значений;\n",
    "    - Обработка аномалий;\n",
    "    - Определение неинформативных столбцов для модели.\n",
    "3. Подготовка выборок для обучения моделей.\n",
    "4. Тестирование разных моделей обучения, с учетом подбора гиперпараметров:\n",
    "    - `XGBoost`\n",
    "    - `LightGBM`\n",
    "    - `CatBoost`\n",
    "    - `DecisionTree`\n",
    "5. Анализ следующих метрик качества моделей:\n",
    "    - время обучения;\n",
    "    - время предсказания;\n",
    "    - качество моделей;\n",
    "6. Выбор лучшей модели, основываясь на критериях заказчика, проверка модели на тестовой выборке."
   ]
  },
  {
   "cell_type": "markdown",
   "metadata": {},
   "source": [
    "<a id='part_1'></a>\n",
    "# 1. Обзор данных [▴](#head)"
   ]
  },
  {
   "cell_type": "markdown",
   "metadata": {},
   "source": [
    "<a id='part_1_1'></a>\n",
    "## 1.1 Импорт библиотек и данных [▴](#head)"
   ]
  },
  {
   "cell_type": "code",
   "execution_count": 1,
   "metadata": {},
   "outputs": [],
   "source": [
    "import numpy as np\n",
    "import pandas as pd\n",
    "import xgboost as xgb\n",
    "import seaborn as sns\n",
    "import lightgbm as lgb\n",
    "import matplotlib.pyplot as plt\n",
    "\n",
    "from catboost import CatBoostRegressor\n",
    "from sklearn.tree import DecisionTreeRegressor\n",
    "from sklearn.dummy import DummyRegressor\n",
    "from sklearn.metrics import mean_squared_error\n",
    "from sklearn.preprocessing import OrdinalEncoder\n",
    "from sklearn.model_selection import GridSearchCV\n",
    "from sklearn.model_selection import train_test_split"
   ]
  },
  {
   "cell_type": "markdown",
   "metadata": {},
   "source": [
    "### Импорт данных"
   ]
  },
  {
   "cell_type": "code",
   "execution_count": 2,
   "metadata": {},
   "outputs": [],
   "source": [
    "# для того чтобы код работал локально и на Практикуме применим конструкцию try-except\n",
    "\n",
    "try: # локально\n",
    "    df_raw = pd.read_csv('datasets/autos.csv')\n",
    "except: # для Практикума\n",
    "    df_raw = pd.read_csv('/datasets/autos.csv')"
   ]
  },
  {
   "cell_type": "markdown",
   "metadata": {},
   "source": [
    "### Установка параметров"
   ]
  },
  {
   "cell_type": "code",
   "execution_count": 3,
   "metadata": {},
   "outputs": [],
   "source": [
    "plt.rcParams.update({'font.size':15}) # зададим размер шрифта по умолчанию для графиков"
   ]
  },
  {
   "cell_type": "markdown",
   "metadata": {},
   "source": [
    "<a id='part_1_2'></a>\n",
    "## 1.2 Обзор данных [▴](#head)"
   ]
  },
  {
   "cell_type": "markdown",
   "metadata": {},
   "source": [
    "Для предварительного обзора данных используем заранее заготовленную функцию"
   ]
  },
  {
   "cell_type": "code",
   "execution_count": 4,
   "metadata": {},
   "outputs": [],
   "source": [
    "def overview(o_df):\n",
    "    print('\\nОбщий вид')\n",
    "    display(o_df.head())\n",
    "    \n",
    "    print('\\n.info()\\n')\n",
    "    o_df.info()\n",
    "\n",
    "    df_i = o_df.isna().sum().index\n",
    "    \n",
    "    print('\\nКоличество полных дубликатов:', o_df.duplicated().sum())\n",
    "        \n",
    "    df_na_sum = o_df.isna().sum().values\n",
    "    df_na_part = round(o_df.isna().sum() / o_df.shape[0] * 100, 1).values\n",
    "    display(pd.DataFrame({'Количество пропусков': df_na_sum, 'Процент пропусков %': df_na_part}, index=df_i)) \n",
    "    \n",
    "    print('\\n.describe(числовых значений датафрейма)')\n",
    "    display(o_df.describe())\n",
    "    \n",
    "    print('\\n.describe(категориальных значений и дат)')\n",
    "    display(o_df.select_dtypes(include=['object', 'datetime']).describe())\n",
    "    \n",
    "    plt.figure(figsize=(12,10))\n",
    "    corr_matrix = sns.heatmap(o_df.corr(), \n",
    "                              annot=True, \n",
    "                              vmin=-1, vmax=1, center=0, \n",
    "                              cmap='coolwarm',\n",
    "                              mask=(np.tri(len(o_df.corr())).T),\n",
    "                              linewidths=1,\n",
    "                              linecolor='grey')\n",
    "    \n",
    "    corr_matrix.set_title(\"Корреляционная матрица\", fontsize=16)\n",
    "    plt.show()"
   ]
  },
  {
   "cell_type": "code",
   "execution_count": 5,
   "metadata": {
    "scrolled": false
   },
   "outputs": [
    {
     "name": "stdout",
     "output_type": "stream",
     "text": [
      "\n",
      "Общий вид\n"
     ]
    },
    {
     "data": {
      "text/html": [
       "<div>\n",
       "<style scoped>\n",
       "    .dataframe tbody tr th:only-of-type {\n",
       "        vertical-align: middle;\n",
       "    }\n",
       "\n",
       "    .dataframe tbody tr th {\n",
       "        vertical-align: top;\n",
       "    }\n",
       "\n",
       "    .dataframe thead th {\n",
       "        text-align: right;\n",
       "    }\n",
       "</style>\n",
       "<table border=\"1\" class=\"dataframe\">\n",
       "  <thead>\n",
       "    <tr style=\"text-align: right;\">\n",
       "      <th></th>\n",
       "      <th>DateCrawled</th>\n",
       "      <th>Price</th>\n",
       "      <th>VehicleType</th>\n",
       "      <th>RegistrationYear</th>\n",
       "      <th>Gearbox</th>\n",
       "      <th>Power</th>\n",
       "      <th>Model</th>\n",
       "      <th>Kilometer</th>\n",
       "      <th>RegistrationMonth</th>\n",
       "      <th>FuelType</th>\n",
       "      <th>Brand</th>\n",
       "      <th>NotRepaired</th>\n",
       "      <th>DateCreated</th>\n",
       "      <th>NumberOfPictures</th>\n",
       "      <th>PostalCode</th>\n",
       "      <th>LastSeen</th>\n",
       "    </tr>\n",
       "  </thead>\n",
       "  <tbody>\n",
       "    <tr>\n",
       "      <th>0</th>\n",
       "      <td>2016-03-24 11:52:17</td>\n",
       "      <td>480</td>\n",
       "      <td>NaN</td>\n",
       "      <td>1993</td>\n",
       "      <td>manual</td>\n",
       "      <td>0</td>\n",
       "      <td>golf</td>\n",
       "      <td>150000</td>\n",
       "      <td>0</td>\n",
       "      <td>petrol</td>\n",
       "      <td>volkswagen</td>\n",
       "      <td>NaN</td>\n",
       "      <td>2016-03-24 00:00:00</td>\n",
       "      <td>0</td>\n",
       "      <td>70435</td>\n",
       "      <td>2016-04-07 03:16:57</td>\n",
       "    </tr>\n",
       "    <tr>\n",
       "      <th>1</th>\n",
       "      <td>2016-03-24 10:58:45</td>\n",
       "      <td>18300</td>\n",
       "      <td>coupe</td>\n",
       "      <td>2011</td>\n",
       "      <td>manual</td>\n",
       "      <td>190</td>\n",
       "      <td>NaN</td>\n",
       "      <td>125000</td>\n",
       "      <td>5</td>\n",
       "      <td>gasoline</td>\n",
       "      <td>audi</td>\n",
       "      <td>yes</td>\n",
       "      <td>2016-03-24 00:00:00</td>\n",
       "      <td>0</td>\n",
       "      <td>66954</td>\n",
       "      <td>2016-04-07 01:46:50</td>\n",
       "    </tr>\n",
       "    <tr>\n",
       "      <th>2</th>\n",
       "      <td>2016-03-14 12:52:21</td>\n",
       "      <td>9800</td>\n",
       "      <td>suv</td>\n",
       "      <td>2004</td>\n",
       "      <td>auto</td>\n",
       "      <td>163</td>\n",
       "      <td>grand</td>\n",
       "      <td>125000</td>\n",
       "      <td>8</td>\n",
       "      <td>gasoline</td>\n",
       "      <td>jeep</td>\n",
       "      <td>NaN</td>\n",
       "      <td>2016-03-14 00:00:00</td>\n",
       "      <td>0</td>\n",
       "      <td>90480</td>\n",
       "      <td>2016-04-05 12:47:46</td>\n",
       "    </tr>\n",
       "    <tr>\n",
       "      <th>3</th>\n",
       "      <td>2016-03-17 16:54:04</td>\n",
       "      <td>1500</td>\n",
       "      <td>small</td>\n",
       "      <td>2001</td>\n",
       "      <td>manual</td>\n",
       "      <td>75</td>\n",
       "      <td>golf</td>\n",
       "      <td>150000</td>\n",
       "      <td>6</td>\n",
       "      <td>petrol</td>\n",
       "      <td>volkswagen</td>\n",
       "      <td>no</td>\n",
       "      <td>2016-03-17 00:00:00</td>\n",
       "      <td>0</td>\n",
       "      <td>91074</td>\n",
       "      <td>2016-03-17 17:40:17</td>\n",
       "    </tr>\n",
       "    <tr>\n",
       "      <th>4</th>\n",
       "      <td>2016-03-31 17:25:20</td>\n",
       "      <td>3600</td>\n",
       "      <td>small</td>\n",
       "      <td>2008</td>\n",
       "      <td>manual</td>\n",
       "      <td>69</td>\n",
       "      <td>fabia</td>\n",
       "      <td>90000</td>\n",
       "      <td>7</td>\n",
       "      <td>gasoline</td>\n",
       "      <td>skoda</td>\n",
       "      <td>no</td>\n",
       "      <td>2016-03-31 00:00:00</td>\n",
       "      <td>0</td>\n",
       "      <td>60437</td>\n",
       "      <td>2016-04-06 10:17:21</td>\n",
       "    </tr>\n",
       "  </tbody>\n",
       "</table>\n",
       "</div>"
      ],
      "text/plain": [
       "           DateCrawled  Price VehicleType  RegistrationYear Gearbox  Power  \\\n",
       "0  2016-03-24 11:52:17    480         NaN              1993  manual      0   \n",
       "1  2016-03-24 10:58:45  18300       coupe              2011  manual    190   \n",
       "2  2016-03-14 12:52:21   9800         suv              2004    auto    163   \n",
       "3  2016-03-17 16:54:04   1500       small              2001  manual     75   \n",
       "4  2016-03-31 17:25:20   3600       small              2008  manual     69   \n",
       "\n",
       "   Model  Kilometer  RegistrationMonth  FuelType       Brand NotRepaired  \\\n",
       "0   golf     150000                  0    petrol  volkswagen         NaN   \n",
       "1    NaN     125000                  5  gasoline        audi         yes   \n",
       "2  grand     125000                  8  gasoline        jeep         NaN   \n",
       "3   golf     150000                  6    petrol  volkswagen          no   \n",
       "4  fabia      90000                  7  gasoline       skoda          no   \n",
       "\n",
       "           DateCreated  NumberOfPictures  PostalCode             LastSeen  \n",
       "0  2016-03-24 00:00:00                 0       70435  2016-04-07 03:16:57  \n",
       "1  2016-03-24 00:00:00                 0       66954  2016-04-07 01:46:50  \n",
       "2  2016-03-14 00:00:00                 0       90480  2016-04-05 12:47:46  \n",
       "3  2016-03-17 00:00:00                 0       91074  2016-03-17 17:40:17  \n",
       "4  2016-03-31 00:00:00                 0       60437  2016-04-06 10:17:21  "
      ]
     },
     "metadata": {},
     "output_type": "display_data"
    },
    {
     "name": "stdout",
     "output_type": "stream",
     "text": [
      "\n",
      ".info()\n",
      "\n",
      "<class 'pandas.core.frame.DataFrame'>\n",
      "RangeIndex: 354369 entries, 0 to 354368\n",
      "Data columns (total 16 columns):\n",
      " #   Column             Non-Null Count   Dtype \n",
      "---  ------             --------------   ----- \n",
      " 0   DateCrawled        354369 non-null  object\n",
      " 1   Price              354369 non-null  int64 \n",
      " 2   VehicleType        316879 non-null  object\n",
      " 3   RegistrationYear   354369 non-null  int64 \n",
      " 4   Gearbox            334536 non-null  object\n",
      " 5   Power              354369 non-null  int64 \n",
      " 6   Model              334664 non-null  object\n",
      " 7   Kilometer          354369 non-null  int64 \n",
      " 8   RegistrationMonth  354369 non-null  int64 \n",
      " 9   FuelType           321474 non-null  object\n",
      " 10  Brand              354369 non-null  object\n",
      " 11  NotRepaired        283215 non-null  object\n",
      " 12  DateCreated        354369 non-null  object\n",
      " 13  NumberOfPictures   354369 non-null  int64 \n",
      " 14  PostalCode         354369 non-null  int64 \n",
      " 15  LastSeen           354369 non-null  object\n",
      "dtypes: int64(7), object(9)\n",
      "memory usage: 43.3+ MB\n",
      "\n",
      "Количество полных дубликатов: 4\n"
     ]
    },
    {
     "data": {
      "text/html": [
       "<div>\n",
       "<style scoped>\n",
       "    .dataframe tbody tr th:only-of-type {\n",
       "        vertical-align: middle;\n",
       "    }\n",
       "\n",
       "    .dataframe tbody tr th {\n",
       "        vertical-align: top;\n",
       "    }\n",
       "\n",
       "    .dataframe thead th {\n",
       "        text-align: right;\n",
       "    }\n",
       "</style>\n",
       "<table border=\"1\" class=\"dataframe\">\n",
       "  <thead>\n",
       "    <tr style=\"text-align: right;\">\n",
       "      <th></th>\n",
       "      <th>Количество пропусков</th>\n",
       "      <th>Процент пропусков %</th>\n",
       "    </tr>\n",
       "  </thead>\n",
       "  <tbody>\n",
       "    <tr>\n",
       "      <th>DateCrawled</th>\n",
       "      <td>0</td>\n",
       "      <td>0.0</td>\n",
       "    </tr>\n",
       "    <tr>\n",
       "      <th>Price</th>\n",
       "      <td>0</td>\n",
       "      <td>0.0</td>\n",
       "    </tr>\n",
       "    <tr>\n",
       "      <th>VehicleType</th>\n",
       "      <td>37490</td>\n",
       "      <td>10.6</td>\n",
       "    </tr>\n",
       "    <tr>\n",
       "      <th>RegistrationYear</th>\n",
       "      <td>0</td>\n",
       "      <td>0.0</td>\n",
       "    </tr>\n",
       "    <tr>\n",
       "      <th>Gearbox</th>\n",
       "      <td>19833</td>\n",
       "      <td>5.6</td>\n",
       "    </tr>\n",
       "    <tr>\n",
       "      <th>Power</th>\n",
       "      <td>0</td>\n",
       "      <td>0.0</td>\n",
       "    </tr>\n",
       "    <tr>\n",
       "      <th>Model</th>\n",
       "      <td>19705</td>\n",
       "      <td>5.6</td>\n",
       "    </tr>\n",
       "    <tr>\n",
       "      <th>Kilometer</th>\n",
       "      <td>0</td>\n",
       "      <td>0.0</td>\n",
       "    </tr>\n",
       "    <tr>\n",
       "      <th>RegistrationMonth</th>\n",
       "      <td>0</td>\n",
       "      <td>0.0</td>\n",
       "    </tr>\n",
       "    <tr>\n",
       "      <th>FuelType</th>\n",
       "      <td>32895</td>\n",
       "      <td>9.3</td>\n",
       "    </tr>\n",
       "    <tr>\n",
       "      <th>Brand</th>\n",
       "      <td>0</td>\n",
       "      <td>0.0</td>\n",
       "    </tr>\n",
       "    <tr>\n",
       "      <th>NotRepaired</th>\n",
       "      <td>71154</td>\n",
       "      <td>20.1</td>\n",
       "    </tr>\n",
       "    <tr>\n",
       "      <th>DateCreated</th>\n",
       "      <td>0</td>\n",
       "      <td>0.0</td>\n",
       "    </tr>\n",
       "    <tr>\n",
       "      <th>NumberOfPictures</th>\n",
       "      <td>0</td>\n",
       "      <td>0.0</td>\n",
       "    </tr>\n",
       "    <tr>\n",
       "      <th>PostalCode</th>\n",
       "      <td>0</td>\n",
       "      <td>0.0</td>\n",
       "    </tr>\n",
       "    <tr>\n",
       "      <th>LastSeen</th>\n",
       "      <td>0</td>\n",
       "      <td>0.0</td>\n",
       "    </tr>\n",
       "  </tbody>\n",
       "</table>\n",
       "</div>"
      ],
      "text/plain": [
       "                   Количество пропусков  Процент пропусков %\n",
       "DateCrawled                           0                  0.0\n",
       "Price                                 0                  0.0\n",
       "VehicleType                       37490                 10.6\n",
       "RegistrationYear                      0                  0.0\n",
       "Gearbox                           19833                  5.6\n",
       "Power                                 0                  0.0\n",
       "Model                             19705                  5.6\n",
       "Kilometer                             0                  0.0\n",
       "RegistrationMonth                     0                  0.0\n",
       "FuelType                          32895                  9.3\n",
       "Brand                                 0                  0.0\n",
       "NotRepaired                       71154                 20.1\n",
       "DateCreated                           0                  0.0\n",
       "NumberOfPictures                      0                  0.0\n",
       "PostalCode                            0                  0.0\n",
       "LastSeen                              0                  0.0"
      ]
     },
     "metadata": {},
     "output_type": "display_data"
    },
    {
     "name": "stdout",
     "output_type": "stream",
     "text": [
      "\n",
      ".describe(числовых значений датафрейма)\n"
     ]
    },
    {
     "data": {
      "text/html": [
       "<div>\n",
       "<style scoped>\n",
       "    .dataframe tbody tr th:only-of-type {\n",
       "        vertical-align: middle;\n",
       "    }\n",
       "\n",
       "    .dataframe tbody tr th {\n",
       "        vertical-align: top;\n",
       "    }\n",
       "\n",
       "    .dataframe thead th {\n",
       "        text-align: right;\n",
       "    }\n",
       "</style>\n",
       "<table border=\"1\" class=\"dataframe\">\n",
       "  <thead>\n",
       "    <tr style=\"text-align: right;\">\n",
       "      <th></th>\n",
       "      <th>Price</th>\n",
       "      <th>RegistrationYear</th>\n",
       "      <th>Power</th>\n",
       "      <th>Kilometer</th>\n",
       "      <th>RegistrationMonth</th>\n",
       "      <th>NumberOfPictures</th>\n",
       "      <th>PostalCode</th>\n",
       "    </tr>\n",
       "  </thead>\n",
       "  <tbody>\n",
       "    <tr>\n",
       "      <th>count</th>\n",
       "      <td>354369.000000</td>\n",
       "      <td>354369.000000</td>\n",
       "      <td>354369.000000</td>\n",
       "      <td>354369.000000</td>\n",
       "      <td>354369.000000</td>\n",
       "      <td>354369.0</td>\n",
       "      <td>354369.000000</td>\n",
       "    </tr>\n",
       "    <tr>\n",
       "      <th>mean</th>\n",
       "      <td>4416.656776</td>\n",
       "      <td>2004.234448</td>\n",
       "      <td>110.094337</td>\n",
       "      <td>128211.172535</td>\n",
       "      <td>5.714645</td>\n",
       "      <td>0.0</td>\n",
       "      <td>50508.689087</td>\n",
       "    </tr>\n",
       "    <tr>\n",
       "      <th>std</th>\n",
       "      <td>4514.158514</td>\n",
       "      <td>90.227958</td>\n",
       "      <td>189.850405</td>\n",
       "      <td>37905.341530</td>\n",
       "      <td>3.726421</td>\n",
       "      <td>0.0</td>\n",
       "      <td>25783.096248</td>\n",
       "    </tr>\n",
       "    <tr>\n",
       "      <th>min</th>\n",
       "      <td>0.000000</td>\n",
       "      <td>1000.000000</td>\n",
       "      <td>0.000000</td>\n",
       "      <td>5000.000000</td>\n",
       "      <td>0.000000</td>\n",
       "      <td>0.0</td>\n",
       "      <td>1067.000000</td>\n",
       "    </tr>\n",
       "    <tr>\n",
       "      <th>25%</th>\n",
       "      <td>1050.000000</td>\n",
       "      <td>1999.000000</td>\n",
       "      <td>69.000000</td>\n",
       "      <td>125000.000000</td>\n",
       "      <td>3.000000</td>\n",
       "      <td>0.0</td>\n",
       "      <td>30165.000000</td>\n",
       "    </tr>\n",
       "    <tr>\n",
       "      <th>50%</th>\n",
       "      <td>2700.000000</td>\n",
       "      <td>2003.000000</td>\n",
       "      <td>105.000000</td>\n",
       "      <td>150000.000000</td>\n",
       "      <td>6.000000</td>\n",
       "      <td>0.0</td>\n",
       "      <td>49413.000000</td>\n",
       "    </tr>\n",
       "    <tr>\n",
       "      <th>75%</th>\n",
       "      <td>6400.000000</td>\n",
       "      <td>2008.000000</td>\n",
       "      <td>143.000000</td>\n",
       "      <td>150000.000000</td>\n",
       "      <td>9.000000</td>\n",
       "      <td>0.0</td>\n",
       "      <td>71083.000000</td>\n",
       "    </tr>\n",
       "    <tr>\n",
       "      <th>max</th>\n",
       "      <td>20000.000000</td>\n",
       "      <td>9999.000000</td>\n",
       "      <td>20000.000000</td>\n",
       "      <td>150000.000000</td>\n",
       "      <td>12.000000</td>\n",
       "      <td>0.0</td>\n",
       "      <td>99998.000000</td>\n",
       "    </tr>\n",
       "  </tbody>\n",
       "</table>\n",
       "</div>"
      ],
      "text/plain": [
       "               Price  RegistrationYear          Power      Kilometer  \\\n",
       "count  354369.000000     354369.000000  354369.000000  354369.000000   \n",
       "mean     4416.656776       2004.234448     110.094337  128211.172535   \n",
       "std      4514.158514         90.227958     189.850405   37905.341530   \n",
       "min         0.000000       1000.000000       0.000000    5000.000000   \n",
       "25%      1050.000000       1999.000000      69.000000  125000.000000   \n",
       "50%      2700.000000       2003.000000     105.000000  150000.000000   \n",
       "75%      6400.000000       2008.000000     143.000000  150000.000000   \n",
       "max     20000.000000       9999.000000   20000.000000  150000.000000   \n",
       "\n",
       "       RegistrationMonth  NumberOfPictures     PostalCode  \n",
       "count      354369.000000          354369.0  354369.000000  \n",
       "mean            5.714645               0.0   50508.689087  \n",
       "std             3.726421               0.0   25783.096248  \n",
       "min             0.000000               0.0    1067.000000  \n",
       "25%             3.000000               0.0   30165.000000  \n",
       "50%             6.000000               0.0   49413.000000  \n",
       "75%             9.000000               0.0   71083.000000  \n",
       "max            12.000000               0.0   99998.000000  "
      ]
     },
     "metadata": {},
     "output_type": "display_data"
    },
    {
     "name": "stdout",
     "output_type": "stream",
     "text": [
      "\n",
      ".describe(категориальных значений и дат)\n"
     ]
    },
    {
     "data": {
      "text/html": [
       "<div>\n",
       "<style scoped>\n",
       "    .dataframe tbody tr th:only-of-type {\n",
       "        vertical-align: middle;\n",
       "    }\n",
       "\n",
       "    .dataframe tbody tr th {\n",
       "        vertical-align: top;\n",
       "    }\n",
       "\n",
       "    .dataframe thead th {\n",
       "        text-align: right;\n",
       "    }\n",
       "</style>\n",
       "<table border=\"1\" class=\"dataframe\">\n",
       "  <thead>\n",
       "    <tr style=\"text-align: right;\">\n",
       "      <th></th>\n",
       "      <th>DateCrawled</th>\n",
       "      <th>VehicleType</th>\n",
       "      <th>Gearbox</th>\n",
       "      <th>Model</th>\n",
       "      <th>FuelType</th>\n",
       "      <th>Brand</th>\n",
       "      <th>NotRepaired</th>\n",
       "      <th>DateCreated</th>\n",
       "      <th>LastSeen</th>\n",
       "    </tr>\n",
       "  </thead>\n",
       "  <tbody>\n",
       "    <tr>\n",
       "      <th>count</th>\n",
       "      <td>354369</td>\n",
       "      <td>316879</td>\n",
       "      <td>334536</td>\n",
       "      <td>334664</td>\n",
       "      <td>321474</td>\n",
       "      <td>354369</td>\n",
       "      <td>283215</td>\n",
       "      <td>354369</td>\n",
       "      <td>354369</td>\n",
       "    </tr>\n",
       "    <tr>\n",
       "      <th>unique</th>\n",
       "      <td>271174</td>\n",
       "      <td>8</td>\n",
       "      <td>2</td>\n",
       "      <td>250</td>\n",
       "      <td>7</td>\n",
       "      <td>40</td>\n",
       "      <td>2</td>\n",
       "      <td>109</td>\n",
       "      <td>179150</td>\n",
       "    </tr>\n",
       "    <tr>\n",
       "      <th>top</th>\n",
       "      <td>2016-03-24 14:49:47</td>\n",
       "      <td>sedan</td>\n",
       "      <td>manual</td>\n",
       "      <td>golf</td>\n",
       "      <td>petrol</td>\n",
       "      <td>volkswagen</td>\n",
       "      <td>no</td>\n",
       "      <td>2016-04-03 00:00:00</td>\n",
       "      <td>2016-04-06 13:45:54</td>\n",
       "    </tr>\n",
       "    <tr>\n",
       "      <th>freq</th>\n",
       "      <td>7</td>\n",
       "      <td>91457</td>\n",
       "      <td>268251</td>\n",
       "      <td>29232</td>\n",
       "      <td>216352</td>\n",
       "      <td>77013</td>\n",
       "      <td>247161</td>\n",
       "      <td>13719</td>\n",
       "      <td>17</td>\n",
       "    </tr>\n",
       "  </tbody>\n",
       "</table>\n",
       "</div>"
      ],
      "text/plain": [
       "                DateCrawled VehicleType Gearbox   Model FuelType       Brand  \\\n",
       "count                354369      316879  334536  334664   321474      354369   \n",
       "unique               271174           8       2     250        7          40   \n",
       "top     2016-03-24 14:49:47       sedan  manual    golf   petrol  volkswagen   \n",
       "freq                      7       91457  268251   29232   216352       77013   \n",
       "\n",
       "       NotRepaired          DateCreated             LastSeen  \n",
       "count       283215               354369               354369  \n",
       "unique           2                  109               179150  \n",
       "top             no  2016-04-03 00:00:00  2016-04-06 13:45:54  \n",
       "freq        247161                13719                   17  "
      ]
     },
     "metadata": {},
     "output_type": "display_data"
    },
    {
     "data": {
      "image/png": "[encoded data removed]",
      "text/plain": [
       "<Figure size 864x720 with 2 Axes>"
      ]
     },
     "metadata": {
      "needs_background": "light"
     },
     "output_type": "display_data"
    }
   ],
   "source": [
    "overview(df_raw)"
   ]
  },
  {
   "cell_type": "markdown",
   "metadata": {},
   "source": [
    "<a id='part_1_conclusions'></a>\n",
    "## Выводы [▴](#head)"
   ]
  },
  {
   "cell_type": "markdown",
   "metadata": {},
   "source": [
    "Видно, что входные данные крайне грязные. Вот что удалось подметить:\n",
    "\n",
    "- `Price` - Минимальное значение 0, что никак не вписывается для продажи автомобилей\n",
    "- `VehicleType` - Количество пропусков 37 тыс., 10% от датафрейма\n",
    "- `RegistrationYear` - Аномальные значения от 1000 до 9999\n",
    "- `Gearbox` - 19 тыс пропусков, 5% от датафрейма\n",
    "- `Power` - Аномальные значения от 0 до 20 тыс.\n",
    "- `Model` - 19 тыс пропусков, 5% от датафрейма\n",
    "- `FuelType` - 30 тыс. пропусков, 9% от датафрейма\n",
    "- `NotRepaired` - 70 тыс. пропусков, 20% от датафрейма\n",
    "\n",
    "По итогу матрица корреляции получилась абсолютно неинформативная. Хотя даже на таких грязных данных видим существенную отрицательную корреляцию цены в зависимости от пробега автомобиля.\n",
    "\n",
    "Количество полных дубликатов - `4`. Еще раз выполним такую проверку после предобработки.\n",
    "\n",
    "Учитывая загрязненность данных, считаю лучшим решением разобрать кадый столбец по отдельности."
   ]
  },
  {
   "cell_type": "markdown",
   "metadata": {},
   "source": [
    "<a id='part_2'></a>\n",
    "# 2. Предобработка данных [▴](#head)"
   ]
  },
  {
   "cell_type": "markdown",
   "metadata": {},
   "source": [
    "<a id='part_2_1'></a>\n",
    "## 2.1 Удаление лишних для модели признаков [▴](#head)"
   ]
  },
  {
   "cell_type": "markdown",
   "metadata": {},
   "source": [
    "Для начала определим, какие данные будут для модели обучения \"мусорными\":\n",
    "\n",
    "Столбец|Описание|Комментарий\n",
    "-|-|-\n",
    "**`DateCrawled`**|Дата скачивания анкеты из базы | Дата скачивания анкеты ничего не скажет нашей модели\n",
    "**`RegistrationMonth`**|Месяц регистрации автомобиля| Месяц регистрации автомобиля не сильно повлияет на стоисмость, намного важнее год, его мы и оставим, а вот месяц сотрем\n",
    "**`DateCreated`**|Дата создания анкеты | Дата создания анкеты тоже является неинформативной\n",
    "**`NumberOfPictures`**|Количество фотографий автомобиля | Количество фотографий никак не влияет на стоимость\n",
    "**`PostalCode`**|Почтовый индекс владельца анкеты (пользователя) | В текущем виде ничего не говорит для нашей модели.\n",
    "**`LastSeen`**|Дата последней активности пользователя | Никак не влияет на стоимость авто\n",
    "\n"
   ]
  },
  {
   "cell_type": "markdown",
   "metadata": {},
   "source": [
    "Теперь очистим наш датафрейм.\n",
    "\n",
    "Для начала создадим список столбцов для удаления."
   ]
  },
  {
   "cell_type": "code",
   "execution_count": 6,
   "metadata": {},
   "outputs": [],
   "source": [
    "columns_to_drop = [\n",
    "    'DateCrawled',\n",
    "    'RegistrationMonth',\n",
    "    'DateCreated',\n",
    "    'NumberOfPictures',\n",
    "    'PostalCode',\n",
    "    'LastSeen'\n",
    "]"
   ]
  },
  {
   "cell_type": "markdown",
   "metadata": {},
   "source": [
    "Создаем рабочий датафрейм **`df`** без лишних столбцов."
   ]
  },
  {
   "cell_type": "code",
   "execution_count": 7,
   "metadata": {},
   "outputs": [
    {
     "name": "stdout",
     "output_type": "stream",
     "text": [
      "<class 'pandas.core.frame.DataFrame'>\n",
      "RangeIndex: 354369 entries, 0 to 354368\n",
      "Data columns (total 10 columns):\n",
      " #   Column            Non-Null Count   Dtype \n",
      "---  ------            --------------   ----- \n",
      " 0   Price             354369 non-null  int64 \n",
      " 1   VehicleType       316879 non-null  object\n",
      " 2   RegistrationYear  354369 non-null  int64 \n",
      " 3   Gearbox           334536 non-null  object\n",
      " 4   Power             354369 non-null  int64 \n",
      " 5   Model             334664 non-null  object\n",
      " 6   Kilometer         354369 non-null  int64 \n",
      " 7   FuelType          321474 non-null  object\n",
      " 8   Brand             354369 non-null  object\n",
      " 9   NotRepaired       283215 non-null  object\n",
      "dtypes: int64(4), object(6)\n",
      "memory usage: 27.0+ MB\n"
     ]
    }
   ],
   "source": [
    "df = df_raw.drop(columns=columns_to_drop).copy()\n",
    "df.info()"
   ]
  },
  {
   "cell_type": "markdown",
   "metadata": {},
   "source": [
    "Теперь признаки выглядят более вменяемо для нашей модели. Приступим к очистке."
   ]
  },
  {
   "cell_type": "markdown",
   "metadata": {},
   "source": [
    "<a id='part_2_2'></a>\n",
    "## 2.2 Чистка данных [▴](#head)"
   ]
  },
  {
   "cell_type": "markdown",
   "metadata": {},
   "source": [
    "Для начала напишем функцию для анализа значений в столбце\n",
    "\n",
    "**Функция принимает:**\n",
    "- `датафрейм`\n",
    "- `имя столбца`\n",
    "- `размер шрифта для графиков (опционально)`\n",
    "\n",
    "**Возвращает:**\n",
    "- Если введено `неверное` имя столбца: актуальный список столбцов датафрейма\n",
    "- Если данные в с толбце имеют тип `object`: набор информации для анализа текстовых значений\n",
    "- Иначе: набор информации для анализа `числовых` данных"
   ]
  },
  {
   "cell_type": "code",
   "execution_count": 8,
   "metadata": {},
   "outputs": [],
   "source": [
    "def analysis(df_name, df_colname, label_sizer=18):\n",
    "    \n",
    "    if df_colname not in df_name.columns:\n",
    "        print(df.columns)\n",
    "    \n",
    "    elif df[df_colname].dtype == 'object':\n",
    "        plt.figure(figsize=(20,0.1))\n",
    "        plt.title(f'Анализ столбца - {df_colname}', {'fontsize': 30})\n",
    "        plt.axis('off')\n",
    "        plt.show()\n",
    "    \n",
    "        print(f'Тип данных в столбце: {df_name[df_colname].dtypes}\\n\\n')\n",
    "        print(f'Количество пропусков: {df_name[df_colname].isna().sum()}')\n",
    "        print(f'Доля пропусков: {df_name[df_colname].isna().sum() / df_name.shape[0]:.1%}\\n\\n')\n",
    "        print(f'.describe()\\n{df_name[df_colname].describe()}\\n\\n')\n",
    "        print(f'Количество упоминаний:\\n{df_name[df_colname].value_counts(dropna=False)}')    \n",
    "        \n",
    "        plt.figure(figsize=(15,7))\n",
    "        sns.barplot(y=df_name[df_colname].fillna('NaN').value_counts(dropna=False).index, \n",
    "                    x=df_name[df_colname].value_counts(dropna=False).values, \n",
    "                    orient='h')\n",
    "        plt.title(f'Количество упоминаний - {df_colname}')\n",
    "        plt.grid()\n",
    "        plt.tick_params(axis='y', which='major', labelsize=label_sizer)\n",
    "        plt.show()\n",
    "    \n",
    "    else:\n",
    "        plt.figure(figsize=(20,0.1))\n",
    "        plt.title(f'Анализ столбца - {df_colname}', {'fontsize': 30})\n",
    "        plt.axis('off')\n",
    "        plt.show()\n",
    "        \n",
    "        print(f'Тип данных в столбце: {df_name[df_colname].dtypes}\\n')\n",
    "        print(f'Количество пропусков: {df_name[df_colname].isna().sum()}')\n",
    "        print(f'Доля пропусков: {df_name[df_colname].isna().sum() / df_name.shape[0]:.1%}\\n\\n')\n",
    "        print(f'.describe()\\n{df_name[df_colname].describe()}\\n\\n')\n",
    "        print(f'Количество уникальных значений:\\n{df_name[df_colname].value_counts(dropna=False)}')\n",
    "             \n",
    "        plt.figure(figsize=(15,7))\n",
    "        sns.histplot(df_name[df_colname], bins=30)\n",
    "        plt.title(f'Гистограмма - {df_colname}')\n",
    "        plt.grid()\n",
    "        plt.show()\n",
    "        \n",
    "        plt.figure(figsize=(15,2))\n",
    "        plt.boxplot(df_name[df_colname], vert=False, labels=[''])\n",
    "        plt.grid()\n",
    "        plt.title(f'Диаграмма размаха - {df_colname}')\n",
    "        plt.xlabel(df_colname)\n",
    "        plt.show()"
   ]
  },
  {
   "cell_type": "markdown",
   "metadata": {},
   "source": [
    "Функция подсчета доли среза данных в изначальном датафрейме"
   ]
  },
  {
   "cell_type": "code",
   "execution_count": 9,
   "metadata": {},
   "outputs": [],
   "source": [
    "def part_calc(df_slice):\n",
    "    print(f'Количество: {df_slice.shape[0]}')\n",
    "    print(f'Доля от изначального датасета: {df_slice.shape[0] / df_raw.shape[0]:.2%}\\n')"
   ]
  },
  {
   "cell_type": "markdown",
   "metadata": {},
   "source": [
    "----"
   ]
  },
  {
   "cell_type": "code",
   "execution_count": 10,
   "metadata": {
    "scrolled": false
   },
   "outputs": [
    {
     "data": {
      "image/png": "[encoded data removed]",
      "text/plain": [
       "<Figure size 1440x7.2 with 1 Axes>"
      ]
     },
     "metadata": {
      "needs_background": "light"
     },
     "output_type": "display_data"
    },
    {
     "name": "stdout",
     "output_type": "stream",
     "text": [
      "Тип данных в столбце: int64\n",
      "\n",
      "Количество пропусков: 0\n",
      "Доля пропусков: 0.0%\n",
      "\n",
      "\n",
      ".describe()\n",
      "count    354369.000000\n",
      "mean       4416.656776\n",
      "std        4514.158514\n",
      "min           0.000000\n",
      "25%        1050.000000\n",
      "50%        2700.000000\n",
      "75%        6400.000000\n",
      "max       20000.000000\n",
      "Name: Price, dtype: float64\n",
      "\n",
      "\n",
      "Количество уникальных значений:\n",
      "0        10772\n",
      "500       5670\n",
      "1500      5394\n",
      "1000      4649\n",
      "1200      4594\n",
      "         ...  \n",
      "1368         1\n",
      "233          1\n",
      "11080        1\n",
      "16340        1\n",
      "10985        1\n",
      "Name: Price, Length: 3731, dtype: int64\n"
     ]
    },
    {
     "data": {
      "image/png": "[encoded data removed]",
      "text/plain": [
       "<Figure size 1080x504 with 1 Axes>"
      ]
     },
     "metadata": {
      "needs_background": "light"
     },
     "output_type": "display_data"
    },
    {
     "data": {
      "image/png": "[encoded data removed]",
      "text/plain": [
       "<Figure size 1080x144 with 1 Axes>"
      ]
     },
     "metadata": {
      "needs_background": "light"
     },
     "output_type": "display_data"
    }
   ],
   "source": [
    "analysis(df, 'Price')"
   ]
  },
  {
   "cell_type": "markdown",
   "metadata": {},
   "source": [
    "Видно, что есть нулевые значения, причем в огромном количестве, что невозможно для текущей задачи. \n",
    "\n",
    "Диаграмма размаха показывает, что значения выше `15000` похожи на выбросы. Но `20000` вполне приемлемая цена за автомобиль. По этому верхнее значение трогать не будем.\n",
    "\n",
    "Взглянем подробнее на значения ниже `500`"
   ]
  },
  {
   "cell_type": "code",
   "execution_count": 11,
   "metadata": {},
   "outputs": [
    {
     "data": {
      "image/png": "[encoded data removed]",
      "text/plain": [
       "<Figure size 1080x504 with 1 Axes>"
      ]
     },
     "metadata": {
      "needs_background": "light"
     },
     "output_type": "display_data"
    }
   ],
   "source": [
    "plt.figure(figsize=(15,7))\n",
    "sns.histplot(df[df['Price'] < 500]['Price'], bins=30)\n",
    "plt.title('Распределение значений столбца Price ниже 500')\n",
    "plt.grid()\n",
    "plt.show()"
   ]
  },
  {
   "cell_type": "markdown",
   "metadata": {},
   "source": [
    "Видно, что после всплеска на отметке в `100` евро, значения идут в разнобой плюс в крайне малом количестве. После чего упираются в `0`, что является аномалией. Считаю, что заполнять аномалию каким либо значением в данной ситуации было бы неверным. Просто удалим эти данные, а минимальную цену за авто оставим на значении в `100` евро.\n",
    "\n",
    "Но cначала вычислим долю значений"
   ]
  },
  {
   "cell_type": "code",
   "execution_count": 12,
   "metadata": {},
   "outputs": [
    {
     "name": "stdout",
     "output_type": "stream",
     "text": [
      "Количество: 13314\n",
      "Доля от изначального датасета: 3.76%\n",
      "\n"
     ]
    }
   ],
   "source": [
    "part_calc(df[df['Price'] < 100])"
   ]
  },
  {
   "cell_type": "markdown",
   "metadata": {},
   "source": [
    "`3.7%` вполне приемлемое значение.\n",
    "\n",
    "Удалим значения `Price` ниже `100` евро"
   ]
  },
  {
   "cell_type": "code",
   "execution_count": 13,
   "metadata": {},
   "outputs": [],
   "source": [
    "df = df.drop(df[df['Price'] < 100].index)"
   ]
  },
  {
   "cell_type": "markdown",
   "metadata": {},
   "source": [
    "-----"
   ]
  },
  {
   "cell_type": "code",
   "execution_count": 14,
   "metadata": {},
   "outputs": [
    {
     "data": {
      "image/png": "[encoded data removed]",
      "text/plain": [
       "<Figure size 1440x7.2 with 1 Axes>"
      ]
     },
     "metadata": {
      "needs_background": "light"
     },
     "output_type": "display_data"
    },
    {
     "name": "stdout",
     "output_type": "stream",
     "text": [
      "Тип данных в столбце: object\n",
      "\n",
      "\n",
      "Количество пропусков: 0\n",
      "Доля пропусков: 0.0%\n",
      "\n",
      "\n",
      ".describe()\n",
      "count         341055\n",
      "unique            40\n",
      "top       volkswagen\n",
      "freq           73933\n",
      "Name: Brand, dtype: object\n",
      "\n",
      "\n",
      "Количество упоминаний:\n",
      "volkswagen        73933\n",
      "opel              38178\n",
      "bmw               35556\n",
      "mercedes_benz     31197\n",
      "audi              28415\n",
      "ford              24207\n",
      "renault           17238\n",
      "peugeot           10706\n",
      "fiat               9262\n",
      "seat               6682\n",
      "mazda              5439\n",
      "skoda              5422\n",
      "smart              5149\n",
      "citroen            4984\n",
      "nissan             4776\n",
      "toyota             4525\n",
      "hyundai            3517\n",
      "mini               3159\n",
      "volvo              3106\n",
      "mitsubishi         2907\n",
      "honda              2702\n",
      "sonstige_autos     2700\n",
      "kia                2397\n",
      "suzuki             2257\n",
      "alfa_romeo         2211\n",
      "chevrolet          1697\n",
      "chrysler           1354\n",
      "dacia               888\n",
      "daihatsu            761\n",
      "subaru              722\n",
      "porsche             705\n",
      "jeep                652\n",
      "land_rover          533\n",
      "daewoo              528\n",
      "saab                512\n",
      "jaguar              486\n",
      "trabant             475\n",
      "rover               456\n",
      "lancia              449\n",
      "lada                212\n",
      "Name: Brand, dtype: int64\n"
     ]
    },
    {
     "data": {
      "image/png": "[encoded data removed]",
      "text/plain": [
       "<Figure size 1080x504 with 1 Axes>"
      ]
     },
     "metadata": {
      "needs_background": "light"
     },
     "output_type": "display_data"
    }
   ],
   "source": [
    "analysis(df, 'Brand', 10)"
   ]
  },
  {
   "cell_type": "markdown",
   "metadata": {},
   "source": [
    "В столбце **`Brand`** отсутствуют аномалии и пропущенные значения. Этот столбец не нуждается в обработке.\n",
    "\n",
    "Так же мы видим, что подавляющее количество автомобилей от брендов немецких автопроизводителей. Учитывая цену в евро, можно предположить, что датасет с немецкого автомобильного рынка."
   ]
  },
  {
   "cell_type": "markdown",
   "metadata": {},
   "source": [
    "-----"
   ]
  },
  {
   "cell_type": "code",
   "execution_count": 15,
   "metadata": {
    "scrolled": false
   },
   "outputs": [
    {
     "data": {
      "image/png": "[encoded data removed]",
      "text/plain": [
       "<Figure size 1440x7.2 with 1 Axes>"
      ]
     },
     "metadata": {
      "needs_background": "light"
     },
     "output_type": "display_data"
    },
    {
     "name": "stdout",
     "output_type": "stream",
     "text": [
      "Тип данных в столбце: object\n",
      "\n",
      "\n",
      "Количество пропусков: 17033\n",
      "Доля пропусков: 5.0%\n",
      "\n",
      "\n",
      ".describe()\n",
      "count     324022\n",
      "unique       250\n",
      "top         golf\n",
      "freq       28086\n",
      "Name: Model, dtype: object\n",
      "\n",
      "\n",
      "Количество упоминаний:\n",
      "golf                  28086\n",
      "other                 23500\n",
      "3er                   19074\n",
      "NaN                   17033\n",
      "polo                  12511\n",
      "                      ...  \n",
      "serie_2                   8\n",
      "rangerover                4\n",
      "serie_3                   3\n",
      "range_rover_evoque        2\n",
      "serie_1                   1\n",
      "Name: Model, Length: 251, dtype: int64\n"
     ]
    },
    {
     "data": {
      "image/png": "[encoded data removed]",
      "text/plain": [
       "<Figure size 1080x504 with 1 Axes>"
      ]
     },
     "metadata": {
      "needs_background": "light"
     },
     "output_type": "display_data"
    }
   ],
   "source": [
    "analysis(df, 'Model', 2)"
   ]
  },
  {
   "cell_type": "markdown",
   "metadata": {},
   "source": [
    "Столбец **`Model`** содержит `17 тысяч` пропусков. \n",
    "\n",
    "Так как стобец **`Brand`** не содержал пропусков, попробуем заполнить пропуски **`Model`** используя привязку к существующим значениям столбца **`Brand`**\n",
    "\n",
    "**Алгоритм следующий:**\n",
    "- С помощью сводной таблицы считаем количество моделей по каждому бренду, изначально убираем модель `other`, чтобы она не размывала нам статистику.\n",
    "- С помощью сортировки размещаем самую ходовую модель наверху списка группируя их по брендам.\n",
    "- Генерируем таблицу самых популярных моделей **`popular_models`** внутри бренда, с помощью функции `first` в сводной таблице."
   ]
  },
  {
   "cell_type": "code",
   "execution_count": 16,
   "metadata": {},
   "outputs": [],
   "source": [
    "count_models_by_brand = df[df['Model'] != 'other'].pivot_table(index=['Brand', 'Model'],\n",
    "                                                               values='Price',\n",
    "                                                               aggfunc='count').reset_index()\n",
    "\n",
    "sorted_model = count_models_by_brand.sort_values(by=['Brand', 'Price'], ascending=[True, False])\n",
    "popular_models = sorted_model.pivot_table(index='Brand', values=['Model'], aggfunc='first')"
   ]
  },
  {
   "cell_type": "code",
   "execution_count": 17,
   "metadata": {},
   "outputs": [
    {
     "data": {
      "text/html": [
       "<div>\n",
       "<style scoped>\n",
       "    .dataframe tbody tr th:only-of-type {\n",
       "        vertical-align: middle;\n",
       "    }\n",
       "\n",
       "    .dataframe tbody tr th {\n",
       "        vertical-align: top;\n",
       "    }\n",
       "\n",
       "    .dataframe thead th {\n",
       "        text-align: right;\n",
       "    }\n",
       "</style>\n",
       "<table border=\"1\" class=\"dataframe\">\n",
       "  <thead>\n",
       "    <tr style=\"text-align: right;\">\n",
       "      <th></th>\n",
       "      <th>Model</th>\n",
       "    </tr>\n",
       "    <tr>\n",
       "      <th>Brand</th>\n",
       "      <th></th>\n",
       "    </tr>\n",
       "  </thead>\n",
       "  <tbody>\n",
       "    <tr>\n",
       "      <th>alfa_romeo</th>\n",
       "      <td>156</td>\n",
       "    </tr>\n",
       "    <tr>\n",
       "      <th>audi</th>\n",
       "      <td>a4</td>\n",
       "    </tr>\n",
       "    <tr>\n",
       "      <th>bmw</th>\n",
       "      <td>3er</td>\n",
       "    </tr>\n",
       "    <tr>\n",
       "      <th>chevrolet</th>\n",
       "      <td>matiz</td>\n",
       "    </tr>\n",
       "    <tr>\n",
       "      <th>chrysler</th>\n",
       "      <td>voyager</td>\n",
       "    </tr>\n",
       "  </tbody>\n",
       "</table>\n",
       "</div>"
      ],
      "text/plain": [
       "              Model\n",
       "Brand              \n",
       "alfa_romeo      156\n",
       "audi             a4\n",
       "bmw             3er\n",
       "chevrolet     matiz\n",
       "chrysler    voyager"
      ]
     },
     "execution_count": 17,
     "metadata": {},
     "output_type": "execute_result"
    }
   ],
   "source": [
    "popular_models.head()"
   ]
  },
  {
   "cell_type": "markdown",
   "metadata": {},
   "source": [
    "**Алгоритм заполнения пропусков:**\n",
    "- Мерджим в новый столбец **`Model_y`** данные из нашего справочника **`popular_models`** по брендам.\n",
    "- Через `.loc` оставляем только столбец **`Model`** со строками, сожержащие пропуски.\n",
    "- Заполняем эти пропуски из нашего нового столбца **`Model_y`**.\n",
    "- Оставшиеся **`NaN`** значения в столбце **`Model`** заполняем значением **`other`**\n",
    "- Удаляем вспомогательный столбец **`Model_y`**"
   ]
  },
  {
   "cell_type": "code",
   "execution_count": 18,
   "metadata": {},
   "outputs": [],
   "source": [
    "df = df.merge(popular_models, on='Brand', how='left', suffixes=('', '_y'))\n",
    "df.loc[df['Model'].isna(), 'Model'] = df.loc[df['Model'].isna(), 'Model_y']\n",
    "df['Model'] = df['Model'].fillna('other')\n",
    "df = df.drop(columns='Model_y')"
   ]
  },
  {
   "cell_type": "markdown",
   "metadata": {},
   "source": [
    "Проверим, что все ОК"
   ]
  },
  {
   "cell_type": "code",
   "execution_count": 19,
   "metadata": {},
   "outputs": [
    {
     "name": "stdout",
     "output_type": "stream",
     "text": [
      "Количество NaN: 0\n",
      "golf                  31143\n",
      "other                 26200\n",
      "3er                   20741\n",
      "corsa                 13692\n",
      "polo                  12511\n",
      "                      ...  \n",
      "i3                        8\n",
      "serie_2                   8\n",
      "serie_3                   3\n",
      "range_rover_evoque        2\n",
      "serie_1                   1\n",
      "Name: Model, Length: 250, dtype: int64\n"
     ]
    }
   ],
   "source": [
    "print('Количество NaN:', df['Model'].isna().sum())\n",
    "print(df['Model'].value_counts(dropna=False))"
   ]
  },
  {
   "cell_type": "markdown",
   "metadata": {},
   "source": [
    "----"
   ]
  },
  {
   "cell_type": "code",
   "execution_count": 20,
   "metadata": {
    "scrolled": false
   },
   "outputs": [
    {
     "data": {
      "image/png": "[encoded data removed]",
      "text/plain": [
       "<Figure size 1440x7.2 with 1 Axes>"
      ]
     },
     "metadata": {
      "needs_background": "light"
     },
     "output_type": "display_data"
    },
    {
     "name": "stdout",
     "output_type": "stream",
     "text": [
      "Тип данных в столбце: object\n",
      "\n",
      "\n",
      "Количество пропусков: 32612\n",
      "Доля пропусков: 9.6%\n",
      "\n",
      "\n",
      ".describe()\n",
      "count     308443\n",
      "unique         8\n",
      "top        sedan\n",
      "freq       89087\n",
      "Name: VehicleType, dtype: object\n",
      "\n",
      "\n",
      "Количество упоминаний:\n",
      "sedan          89087\n",
      "small          77444\n",
      "wagon          63465\n",
      "NaN            32612\n",
      "bus            28265\n",
      "convertible    19817\n",
      "coupe          15555\n",
      "suv            11762\n",
      "other           3048\n",
      "Name: VehicleType, dtype: int64\n"
     ]
    },
    {
     "data": {
      "image/png": "[encoded data removed]",
      "text/plain": [
       "<Figure size 1080x504 with 1 Axes>"
      ]
     },
     "metadata": {
      "needs_background": "light"
     },
     "output_type": "display_data"
    }
   ],
   "source": [
    "analysis(df, 'VehicleType')"
   ]
  },
  {
   "cell_type": "markdown",
   "metadata": {},
   "source": [
    "В втолбце **`VehicleType`** больше `30 тысяч` пропусков, это `9.6%` от датасета.\n",
    "\n",
    "Так как мы заполнили значениями столбец **`Model`**, используем его чтобы заполнить пропуски **`VehicleType`**. \n",
    "\n",
    "Алгоритм, будет схожий с **`Brand`** → **`Model`**:\n",
    "- С помощью сводной таблицы считаем количество типов кузовов по каждой модели.\n",
    "- С помощью сортировки размещаем самый ходовой кузов наверху списка группируя их по моделям.\n",
    "- Генерируем таблицу самых популярных кузовов **`popular_types`** внутри модели, с помощью функции `first` в сводной таблице."
   ]
  },
  {
   "cell_type": "code",
   "execution_count": 21,
   "metadata": {},
   "outputs": [],
   "source": [
    "count_types_by_model = df.pivot_table(\n",
    "    index=['Model', 'VehicleType'],\n",
    "    values='Price',\n",
    "    aggfunc='count').reset_index()\n",
    "\n",
    "sorted_types = count_types_by_model.sort_values(by=['Model', 'Price'], ascending=[True, False])\n",
    "popular_types = sorted_types.pivot_table(index='Model', values=['VehicleType'], aggfunc='first')"
   ]
  },
  {
   "cell_type": "code",
   "execution_count": 22,
   "metadata": {},
   "outputs": [
    {
     "data": {
      "text/html": [
       "<div>\n",
       "<style scoped>\n",
       "    .dataframe tbody tr th:only-of-type {\n",
       "        vertical-align: middle;\n",
       "    }\n",
       "\n",
       "    .dataframe tbody tr th {\n",
       "        vertical-align: top;\n",
       "    }\n",
       "\n",
       "    .dataframe thead th {\n",
       "        text-align: right;\n",
       "    }\n",
       "</style>\n",
       "<table border=\"1\" class=\"dataframe\">\n",
       "  <thead>\n",
       "    <tr style=\"text-align: right;\">\n",
       "      <th></th>\n",
       "      <th>VehicleType</th>\n",
       "    </tr>\n",
       "    <tr>\n",
       "      <th>Model</th>\n",
       "      <th></th>\n",
       "    </tr>\n",
       "  </thead>\n",
       "  <tbody>\n",
       "    <tr>\n",
       "      <th>100</th>\n",
       "      <td>sedan</td>\n",
       "    </tr>\n",
       "    <tr>\n",
       "      <th>145</th>\n",
       "      <td>small</td>\n",
       "    </tr>\n",
       "    <tr>\n",
       "      <th>147</th>\n",
       "      <td>sedan</td>\n",
       "    </tr>\n",
       "    <tr>\n",
       "      <th>156</th>\n",
       "      <td>sedan</td>\n",
       "    </tr>\n",
       "    <tr>\n",
       "      <th>159</th>\n",
       "      <td>wagon</td>\n",
       "    </tr>\n",
       "  </tbody>\n",
       "</table>\n",
       "</div>"
      ],
      "text/plain": [
       "      VehicleType\n",
       "Model            \n",
       "100         sedan\n",
       "145         small\n",
       "147         sedan\n",
       "156         sedan\n",
       "159         wagon"
      ]
     },
     "execution_count": 22,
     "metadata": {},
     "output_type": "execute_result"
    }
   ],
   "source": [
    "popular_types.head()"
   ]
  },
  {
   "cell_type": "markdown",
   "metadata": {},
   "source": [
    "**Алгоритм заполнения пропусков:**\n",
    "- Мерджим в новый столбец **`VehicleType_y`** данные из нашего справочника **`popular_types`** по моделям.\n",
    "- Через `.loc` оставляем только столбец **`VehicleType`** со строками, сожержащие пропуски.\n",
    "- Заполняем эти пропуски из нашего нового столбца **`VehicleType_y`**.\n",
    "- Оставшиеся **`NaN`** значения в столбце **`VehicleType`** заполняем значением **`other`**\n",
    "- Удаляем вспомогательный столбец **`VehicleType_y`**"
   ]
  },
  {
   "cell_type": "code",
   "execution_count": 23,
   "metadata": {},
   "outputs": [],
   "source": [
    "df = df.merge(popular_types, on='Model', how='left', suffixes=('', '_y'))\n",
    "df.loc[df['VehicleType'].isna(), 'VehicleType'] = df.loc[df['VehicleType'].isna(), 'VehicleType_y']\n",
    "df['VehicleType'] = df['VehicleType'].fillna('other')\n",
    "df = df.drop(columns='VehicleType_y')"
   ]
  },
  {
   "cell_type": "markdown",
   "metadata": {},
   "source": [
    "Проверим что все ОК"
   ]
  },
  {
   "cell_type": "code",
   "execution_count": 24,
   "metadata": {},
   "outputs": [
    {
     "name": "stdout",
     "output_type": "stream",
     "text": [
      "Количество NaN: 0\n"
     ]
    },
    {
     "data": {
      "text/plain": [
       "sedan          104641\n",
       "small           86977\n",
       "wagon           67080\n",
       "bus             31219\n",
       "convertible     20028\n",
       "coupe           15868\n",
       "suv             12192\n",
       "other            3050\n",
       "Name: VehicleType, dtype: int64"
      ]
     },
     "execution_count": 24,
     "metadata": {},
     "output_type": "execute_result"
    }
   ],
   "source": [
    "print('Количество NaN:', df['VehicleType'].isna().sum())\n",
    "df['VehicleType'].value_counts(dropna=False)"
   ]
  },
  {
   "cell_type": "markdown",
   "metadata": {},
   "source": [
    "-----"
   ]
  },
  {
   "cell_type": "code",
   "execution_count": 25,
   "metadata": {
    "scrolled": false
   },
   "outputs": [
    {
     "data": {
      "image/png": "[encoded data removed]",
      "text/plain": [
       "<Figure size 1440x7.2 with 1 Axes>"
      ]
     },
     "metadata": {
      "needs_background": "light"
     },
     "output_type": "display_data"
    },
    {
     "name": "stdout",
     "output_type": "stream",
     "text": [
      "Тип данных в столбце: int64\n",
      "\n",
      "Количество пропусков: 0\n",
      "Доля пропусков: 0.0%\n",
      "\n",
      "\n",
      ".describe()\n",
      "count    341055.000000\n",
      "mean       2003.955303\n",
      "std          69.811742\n",
      "min        1000.000000\n",
      "25%        1999.000000\n",
      "50%        2003.000000\n",
      "75%        2008.000000\n",
      "max        9999.000000\n",
      "Name: RegistrationYear, dtype: float64\n",
      "\n",
      "\n",
      "Количество уникальных значений:\n",
      "2000    22661\n",
      "1999    21846\n",
      "2005    21363\n",
      "2006    19641\n",
      "2001    19574\n",
      "        ...  \n",
      "2200        1\n",
      "8888        1\n",
      "2290        1\n",
      "9450        1\n",
      "1946        1\n",
      "Name: RegistrationYear, Length: 138, dtype: int64\n"
     ]
    },
    {
     "data": {
      "image/png": "[encoded data removed]",
      "text/plain": [
       "<Figure size 1080x504 with 1 Axes>"
      ]
     },
     "metadata": {
      "needs_background": "light"
     },
     "output_type": "display_data"
    },
    {
     "data": {
      "image/png": "[encoded data removed]",
      "text/plain": [
       "<Figure size 1080x144 with 1 Axes>"
      ]
     },
     "metadata": {
      "needs_background": "light"
     },
     "output_type": "display_data"
    }
   ],
   "source": [
    "analysis(df, 'RegistrationYear')"
   ]
  },
  {
   "cell_type": "markdown",
   "metadata": {},
   "source": [
    "Пропусков в столбце нет. Зато есть значения от `1000` до `9999`, что явно аномальные выбросы. \n",
    "\n",
    "Скорректируем нашу гистограмму, выведем ее по более реальному срезу. Значения возьмем от `1950` до `2022`"
   ]
  },
  {
   "cell_type": "code",
   "execution_count": 26,
   "metadata": {},
   "outputs": [
    {
     "data": {
      "image/png": "[encoded data removed]",
      "text/plain": [
       "<Figure size 1080x504 with 1 Axes>"
      ]
     },
     "metadata": {
      "needs_background": "light"
     },
     "output_type": "display_data"
    }
   ],
   "source": [
    "temp_slice = df[(df['RegistrationYear'] > 1950) & (df['RegistrationYear'] < 2022)]\n",
    "\n",
    "plt.figure(figsize=(15,7))\n",
    "sns.histplot(temp_slice['RegistrationYear'], bins=30)\n",
    "plt.title('Распределение значений года регистрации автомобиля 1950 до 2022')\n",
    "plt.grid()\n",
    "plt.show()"
   ]
  },
  {
   "cell_type": "markdown",
   "metadata": {},
   "source": [
    "Вот и адекватное распределение значений. С левого края оставим только автомобили, которые начали эксплуатировать с `1985` года. \n",
    "\n",
    "Чтобы понять где обрезать правый край, укрупним нашу гистограмму."
   ]
  },
  {
   "cell_type": "code",
   "execution_count": 27,
   "metadata": {},
   "outputs": [
    {
     "data": {
      "image/png": "[encoded data removed]",
      "text/plain": [
       "<Figure size 1080x504 with 1 Axes>"
      ]
     },
     "metadata": {
      "needs_background": "light"
     },
     "output_type": "display_data"
    }
   ],
   "source": [
    "temp_slice = df[(df['RegistrationYear'] > 2010) & (df['RegistrationYear'] <= 2022)]\n",
    "\n",
    "plt.figure(figsize=(15,7))\n",
    "sns.histplot(temp_slice['RegistrationYear'], bins=30)\n",
    "plt.title('Распределение значений года регистрации автомобиля 2010 до 2022')\n",
    "plt.grid()\n",
    "plt.show()"
   ]
  },
  {
   "cell_type": "markdown",
   "metadata": {},
   "source": [
    "После `2018` года видим статистическую погрешность по количеству объявлений. Оставляем автомобили до `2018` года включительно.\n",
    "\n",
    "Посмотрим на доли этих значений"
   ]
  },
  {
   "cell_type": "code",
   "execution_count": 28,
   "metadata": {},
   "outputs": [
    {
     "name": "stdout",
     "output_type": "stream",
     "text": [
      "Количество: 4855\n",
      "Доля от изначального датасета: 1.37%\n",
      "\n",
      "Количество: 87\n",
      "Доля от изначального датасета: 0.02%\n",
      "\n"
     ]
    }
   ],
   "source": [
    "part_calc(df[df['RegistrationYear'] < 1985])\n",
    "part_calc(df[df['RegistrationYear'] > 2018])"
   ]
  },
  {
   "cell_type": "markdown",
   "metadata": {},
   "source": [
    "Можно удалять"
   ]
  },
  {
   "cell_type": "code",
   "execution_count": 29,
   "metadata": {},
   "outputs": [],
   "source": [
    "df = df.drop(df[df['RegistrationYear'] < 1985].index)\n",
    "df = df.drop(df[df['RegistrationYear'] > 2018].index)"
   ]
  },
  {
   "cell_type": "code",
   "execution_count": 30,
   "metadata": {},
   "outputs": [
    {
     "data": {
      "image/png": "[encoded data removed]",
      "text/plain": [
       "<Figure size 1080x504 with 1 Axes>"
      ]
     },
     "metadata": {
      "needs_background": "light"
     },
     "output_type": "display_data"
    }
   ],
   "source": [
    "plt.figure(figsize=(15,7))\n",
    "sns.histplot(df['RegistrationYear'], bins=30)\n",
    "plt.title('Финальная гистограмма по году регистрации автомобиля')\n",
    "plt.grid()\n",
    "plt.show()"
   ]
  },
  {
   "cell_type": "markdown",
   "metadata": {},
   "source": [
    "----"
   ]
  },
  {
   "cell_type": "code",
   "execution_count": 31,
   "metadata": {},
   "outputs": [
    {
     "data": {
      "image/png": "[encoded data removed]",
      "text/plain": [
       "<Figure size 1440x7.2 with 1 Axes>"
      ]
     },
     "metadata": {
      "needs_background": "light"
     },
     "output_type": "display_data"
    },
    {
     "name": "stdout",
     "output_type": "stream",
     "text": [
      "Тип данных в столбце: object\n",
      "\n",
      "\n",
      "Количество пропусков: 15497\n",
      "Доля пропусков: 4.6%\n",
      "\n",
      "\n",
      ".describe()\n",
      "count     320616\n",
      "unique         2\n",
      "top       manual\n",
      "freq      256986\n",
      "Name: Gearbox, dtype: object\n",
      "\n",
      "\n",
      "Количество упоминаний:\n",
      "manual    256986\n",
      "auto       63630\n",
      "NaN        15497\n",
      "Name: Gearbox, dtype: int64\n"
     ]
    },
    {
     "data": {
      "image/png": "[encoded data removed]",
      "text/plain": [
       "<Figure size 1080x504 with 1 Axes>"
      ]
     },
     "metadata": {
      "needs_background": "light"
     },
     "output_type": "display_data"
    }
   ],
   "source": [
    "analysis(df, 'Gearbox')"
   ]
  },
  {
   "cell_type": "markdown",
   "metadata": {},
   "source": [
    "Количество пропусков в типе трансмиссии `15 тысяч`, `4.6%` от датасета.\n",
    "\n",
    "Процент пропусков не сильно большой, заполним пустые значения по следующей логике:\n",
    "- Все авто до 2010 года - **`manual`**\n",
    "- Все авто после 2010 года включительно - **`auto`**"
   ]
  },
  {
   "cell_type": "code",
   "execution_count": 32,
   "metadata": {},
   "outputs": [],
   "source": [
    "df.loc[df['RegistrationYear'] < 2010, 'Gearbox'] = df.loc[df['RegistrationYear'] < 2010, 'Gearbox'].fillna('manual')\n",
    "df.loc[df['RegistrationYear'] >= 2010, 'Gearbox'] = df.loc[df['RegistrationYear'] >= 2010, 'Gearbox'].fillna('auto')"
   ]
  },
  {
   "cell_type": "markdown",
   "metadata": {},
   "source": [
    "Проверим результат"
   ]
  },
  {
   "cell_type": "code",
   "execution_count": 33,
   "metadata": {},
   "outputs": [
    {
     "data": {
      "text/plain": [
       "manual    268932\n",
       "auto       67181\n",
       "Name: Gearbox, dtype: int64"
      ]
     },
     "execution_count": 33,
     "metadata": {},
     "output_type": "execute_result"
    }
   ],
   "source": [
    "df['Gearbox'].value_counts(dropna=False)"
   ]
  },
  {
   "cell_type": "markdown",
   "metadata": {},
   "source": [
    "----"
   ]
  },
  {
   "cell_type": "code",
   "execution_count": 34,
   "metadata": {},
   "outputs": [
    {
     "data": {
      "image/png": "[encoded data removed]",
      "text/plain": [
       "<Figure size 1440x7.2 with 1 Axes>"
      ]
     },
     "metadata": {
      "needs_background": "light"
     },
     "output_type": "display_data"
    },
    {
     "name": "stdout",
     "output_type": "stream",
     "text": [
      "Тип данных в столбце: int64\n",
      "\n",
      "Количество пропусков: 0\n",
      "Доля пропусков: 0.0%\n",
      "\n",
      "\n",
      ".describe()\n",
      "count    336113.000000\n",
      "mean        111.840438\n",
      "std         187.367180\n",
      "min           0.000000\n",
      "25%          71.000000\n",
      "50%         105.000000\n",
      "75%         143.000000\n",
      "max       20000.000000\n",
      "Name: Power, dtype: float64\n",
      "\n",
      "\n",
      "Количество уникальных значений:\n",
      "0        33773\n",
      "75       23033\n",
      "60       15191\n",
      "150      14053\n",
      "101      12889\n",
      "         ...  \n",
      "17410        1\n",
      "584          1\n",
      "1054         1\n",
      "851          1\n",
      "1241         1\n",
      "Name: Power, Length: 691, dtype: int64\n"
     ]
    },
    {
     "data": {
      "image/png": "[encoded data removed]",
      "text/plain": [
       "<Figure size 1080x504 with 1 Axes>"
      ]
     },
     "metadata": {
      "needs_background": "light"
     },
     "output_type": "display_data"
    },
    {
     "data": {
      "image/png": "[encoded data removed]",
      "text/plain": [
       "<Figure size 1080x144 with 1 Axes>"
      ]
     },
     "metadata": {
      "needs_background": "light"
     },
     "output_type": "display_data"
    }
   ],
   "source": [
    "analysis(df, 'Power')"
   ]
  },
  {
   "cell_type": "markdown",
   "metadata": {},
   "source": [
    "Сразу видно, что в мощности движка большое количество аномальных значений, данные плавают в диапазоне от `0` до `20000`\n",
    "\n",
    "Срежем заведомо неадекватные значения и посмотрим на гистограмму поближе."
   ]
  },
  {
   "cell_type": "code",
   "execution_count": 35,
   "metadata": {},
   "outputs": [
    {
     "data": {
      "image/png": "[encoded data removed]",
      "text/plain": [
       "<Figure size 1080x504 with 1 Axes>"
      ]
     },
     "metadata": {
      "needs_background": "light"
     },
     "output_type": "display_data"
    }
   ],
   "source": [
    "plt.figure(figsize=(15,7))\n",
    "sns.histplot(df[df['Power'] < 500]['Power'], bins=30)\n",
    "plt.title('Гистограмма мощности двигателя, значения от 0 до 500')\n",
    "plt.grid()\n",
    "plt.show()"
   ]
  },
  {
   "cell_type": "markdown",
   "metadata": {},
   "source": [
    "Верхнюю границу мощности оставим на значении `400`\n",
    "\n",
    "Теперь надо определиться, что делать с нижней границей, посмотрим на значения меньше `100` поближе"
   ]
  },
  {
   "cell_type": "code",
   "execution_count": 36,
   "metadata": {},
   "outputs": [
    {
     "data": {
      "image/png": "[encoded data removed]",
      "text/plain": [
       "<Figure size 1080x504 with 1 Axes>"
      ]
     },
     "metadata": {
      "needs_background": "light"
     },
     "output_type": "display_data"
    }
   ],
   "source": [
    "plt.figure(figsize=(15,7))\n",
    "sns.histplot(df[df['Power'] < 100]['Power'], bins=30)\n",
    "plt.title('Гистограмма мощности двигателя, значения от 0 до 100')\n",
    "plt.grid()\n",
    "plt.show()"
   ]
  },
  {
   "cell_type": "markdown",
   "metadata": {},
   "source": [
    "Нижнюю границу мощности оставим на значении `50`. \n",
    "\n",
    "Теперь проверим доли значений."
   ]
  },
  {
   "cell_type": "code",
   "execution_count": 37,
   "metadata": {},
   "outputs": [
    {
     "name": "stdout",
     "output_type": "stream",
     "text": [
      "Количество: 38708\n",
      "Доля от изначального датасета: 10.92%\n",
      "\n",
      "Количество: 672\n",
      "Доля от изначального датасета: 0.19%\n",
      "\n"
     ]
    }
   ],
   "source": [
    "part_calc(df[df['Power'] < 50])\n",
    "part_calc(df[df['Power'] > 400])"
   ]
  },
  {
   "cell_type": "markdown",
   "metadata": {},
   "source": [
    "Значения выше `400` можем спокойно удалять, их менее `1%`, а вот со значениями ниже `50` мы не можем поступить так-же, там `10%` от датасета. \n",
    "\n",
    "Чтобы не потерять такое количество данных, заполним эти значения `средним` по столбцу **`Power`**, предварительно удалив оттуда значения выше `400`, чтобы у нас не поплыло среднее значение."
   ]
  },
  {
   "cell_type": "code",
   "execution_count": 38,
   "metadata": {},
   "outputs": [],
   "source": [
    "df = df.drop(df[df['Power'] > 400].index)"
   ]
  },
  {
   "cell_type": "code",
   "execution_count": 39,
   "metadata": {},
   "outputs": [
    {
     "data": {
      "text/plain": [
       "108.011042180294"
      ]
     },
     "execution_count": 39,
     "metadata": {},
     "output_type": "execute_result"
    }
   ],
   "source": [
    "df['Power'].mean()"
   ]
  },
  {
   "cell_type": "code",
   "execution_count": 40,
   "metadata": {},
   "outputs": [],
   "source": [
    "df.loc[df['Power'] < 50, 'Power'] = int(df['Power'].mean())"
   ]
  },
  {
   "cell_type": "code",
   "execution_count": 41,
   "metadata": {},
   "outputs": [
    {
     "data": {
      "image/png": "[encoded data removed]",
      "text/plain": [
       "<Figure size 1080x504 with 1 Axes>"
      ]
     },
     "metadata": {
      "needs_background": "light"
     },
     "output_type": "display_data"
    }
   ],
   "source": [
    "plt.figure(figsize=(15,7))\n",
    "sns.histplot(df['Power'], bins=30)\n",
    "plt.title('Финальная гистограмма по мощности двигателя')\n",
    "plt.grid()\n",
    "plt.show()"
   ]
  },
  {
   "cell_type": "markdown",
   "metadata": {},
   "source": [
    "----"
   ]
  },
  {
   "cell_type": "code",
   "execution_count": 42,
   "metadata": {},
   "outputs": [
    {
     "data": {
      "image/png": "[encoded data removed]",
      "text/plain": [
       "<Figure size 1440x7.2 with 1 Axes>"
      ]
     },
     "metadata": {
      "needs_background": "light"
     },
     "output_type": "display_data"
    },
    {
     "name": "stdout",
     "output_type": "stream",
     "text": [
      "Тип данных в столбце: int64\n",
      "\n",
      "Количество пропусков: 0\n",
      "Доля пропусков: 0.0%\n",
      "\n",
      "\n",
      ".describe()\n",
      "count    335441.000000\n",
      "mean     129018.754416\n",
      "std       36702.121737\n",
      "min        5000.000000\n",
      "25%      125000.000000\n",
      "50%      150000.000000\n",
      "75%      150000.000000\n",
      "max      150000.000000\n",
      "Name: Kilometer, dtype: float64\n",
      "\n",
      "\n",
      "Количество уникальных значений:\n",
      "150000    226830\n",
      "125000     35123\n",
      "100000     13811\n",
      "90000      11101\n",
      "80000       9587\n",
      "70000       8213\n",
      "60000       7143\n",
      "50000       5927\n",
      "40000       4699\n",
      "5000        4241\n",
      "30000       4157\n",
      "20000       3635\n",
      "10000        974\n",
      "Name: Kilometer, dtype: int64\n"
     ]
    },
    {
     "data": {
      "image/png": "[encoded data removed]",
      "text/plain": [
       "<Figure size 1080x504 with 1 Axes>"
      ]
     },
     "metadata": {
      "needs_background": "light"
     },
     "output_type": "display_data"
    },
    {
     "data": {
      "image/png": "[encoded data removed]",
      "text/plain": [
       "<Figure size 1080x144 with 1 Axes>"
      ]
     },
     "metadata": {
      "needs_background": "light"
     },
     "output_type": "display_data"
    }
   ],
   "source": [
    "analysis(df, 'Kilometer')"
   ]
  },
  {
   "cell_type": "markdown",
   "metadata": {},
   "source": [
    "С пробегом полный порядок. \n",
    "\n",
    "Так же можно отметить, что числовые данные имеют дискретные значения и скорей всего выбирались в какой то форме, а не заполнялись произвольным значением. Скорей всего это объясняет то, что в столбце нет ни аномальных значений, ни пропусков. Всегда бы так!"
   ]
  },
  {
   "cell_type": "markdown",
   "metadata": {},
   "source": [
    "----"
   ]
  },
  {
   "cell_type": "code",
   "execution_count": 43,
   "metadata": {},
   "outputs": [
    {
     "data": {
      "image/png": "[encoded data removed]",
      "text/plain": [
       "<Figure size 1440x7.2 with 1 Axes>"
      ]
     },
     "metadata": {
      "needs_background": "light"
     },
     "output_type": "display_data"
    },
    {
     "name": "stdout",
     "output_type": "stream",
     "text": [
      "Тип данных в столбце: object\n",
      "\n",
      "\n",
      "Количество пропусков: 27388\n",
      "Доля пропусков: 8.2%\n",
      "\n",
      "\n",
      ".describe()\n",
      "count     308053\n",
      "unique         7\n",
      "top       petrol\n",
      "freq      205449\n",
      "Name: FuelType, dtype: object\n",
      "\n",
      "\n",
      "Количество упоминаний:\n",
      "petrol      205449\n",
      "gasoline     96525\n",
      "NaN          27388\n",
      "lpg           5106\n",
      "cng            542\n",
      "hybrid         226\n",
      "other          120\n",
      "electric        85\n",
      "Name: FuelType, dtype: int64\n"
     ]
    },
    {
     "data": {
      "image/png": "[encoded data removed]",
      "text/plain": [
       "<Figure size 1080x504 with 1 Axes>"
      ]
     },
     "metadata": {
      "needs_background": "light"
     },
     "output_type": "display_data"
    }
   ],
   "source": [
    "analysis(df,'FuelType')"
   ]
  },
  {
   "cell_type": "markdown",
   "metadata": {},
   "source": [
    "В типе топлива у нас `27 тысяч` пропусков, `8.2%` от датасета.\n",
    "\n",
    "Учитывая, что подавляющая часть автомобилей использует бензиновые двигатели, `8%` можно распределить на эти же значения."
   ]
  },
  {
   "cell_type": "code",
   "execution_count": 44,
   "metadata": {},
   "outputs": [],
   "source": [
    "df['FuelType'] = df['FuelType'].fillna('petrol')"
   ]
  },
  {
   "cell_type": "markdown",
   "metadata": {},
   "source": [
    "Проверим что все ОК"
   ]
  },
  {
   "cell_type": "code",
   "execution_count": 45,
   "metadata": {},
   "outputs": [
    {
     "name": "stdout",
     "output_type": "stream",
     "text": [
      "Количество NaN: 0\n"
     ]
    },
    {
     "data": {
      "text/plain": [
       "petrol      232837\n",
       "gasoline     96525\n",
       "lpg           5106\n",
       "cng            542\n",
       "hybrid         226\n",
       "other          120\n",
       "electric        85\n",
       "Name: FuelType, dtype: int64"
      ]
     },
     "execution_count": 45,
     "metadata": {},
     "output_type": "execute_result"
    }
   ],
   "source": [
    "print('Количество NaN:', df['FuelType'].isna().sum())\n",
    "df['FuelType'].value_counts(dropna=False)"
   ]
  },
  {
   "cell_type": "markdown",
   "metadata": {},
   "source": [
    "----"
   ]
  },
  {
   "cell_type": "code",
   "execution_count": 46,
   "metadata": {},
   "outputs": [
    {
     "data": {
      "image/png": "[encoded data removed]",
      "text/plain": [
       "<Figure size 1440x7.2 with 1 Axes>"
      ]
     },
     "metadata": {
      "needs_background": "light"
     },
     "output_type": "display_data"
    },
    {
     "name": "stdout",
     "output_type": "stream",
     "text": [
      "Тип данных в столбце: object\n",
      "\n",
      "\n",
      "Количество пропусков: 62729\n",
      "Доля пропусков: 18.7%\n",
      "\n",
      "\n",
      ".describe()\n",
      "count     272712\n",
      "unique         2\n",
      "top           no\n",
      "freq      239771\n",
      "Name: NotRepaired, dtype: object\n",
      "\n",
      "\n",
      "Количество упоминаний:\n",
      "no     239771\n",
      "NaN     62729\n",
      "yes     32941\n",
      "Name: NotRepaired, dtype: int64\n"
     ]
    },
    {
     "data": {
      "image/png": "[encoded data removed]",
      "text/plain": [
       "<Figure size 1080x504 with 1 Axes>"
      ]
     },
     "metadata": {
      "needs_background": "light"
     },
     "output_type": "display_data"
    }
   ],
   "source": [
    "analysis(df,'NotRepaired')"
   ]
  },
  {
   "cell_type": "markdown",
   "metadata": {},
   "source": [
    "Количество пропущенных значений `62 тысячи`, что `18.7%` от датасета. Такое количество удалить мы точно не можем, надо подумать по какому принципу можно заполнить эти пропуски.\n",
    "\n",
    "Посмотрим на статистику ремонта в разрезе пробега"
   ]
  },
  {
   "cell_type": "code",
   "execution_count": 47,
   "metadata": {},
   "outputs": [
    {
     "data": {
      "text/html": [
       "<div>\n",
       "<style scoped>\n",
       "    .dataframe tbody tr th:only-of-type {\n",
       "        vertical-align: middle;\n",
       "    }\n",
       "\n",
       "    .dataframe tbody tr th {\n",
       "        vertical-align: top;\n",
       "    }\n",
       "\n",
       "    .dataframe thead th {\n",
       "        text-align: right;\n",
       "    }\n",
       "</style>\n",
       "<table border=\"1\" class=\"dataframe\">\n",
       "  <thead>\n",
       "    <tr style=\"text-align: right;\">\n",
       "      <th>NotRepaired</th>\n",
       "      <th>no</th>\n",
       "      <th>yes</th>\n",
       "    </tr>\n",
       "    <tr>\n",
       "      <th>Kilometer</th>\n",
       "      <th></th>\n",
       "      <th></th>\n",
       "    </tr>\n",
       "  </thead>\n",
       "  <tbody>\n",
       "    <tr>\n",
       "      <th>5000</th>\n",
       "      <td>1857</td>\n",
       "      <td>479</td>\n",
       "    </tr>\n",
       "    <tr>\n",
       "      <th>10000</th>\n",
       "      <td>809</td>\n",
       "      <td>46</td>\n",
       "    </tr>\n",
       "    <tr>\n",
       "      <th>20000</th>\n",
       "      <td>2858</td>\n",
       "      <td>241</td>\n",
       "    </tr>\n",
       "    <tr>\n",
       "      <th>30000</th>\n",
       "      <td>3527</td>\n",
       "      <td>207</td>\n",
       "    </tr>\n",
       "    <tr>\n",
       "      <th>40000</th>\n",
       "      <td>4118</td>\n",
       "      <td>168</td>\n",
       "    </tr>\n",
       "    <tr>\n",
       "      <th>50000</th>\n",
       "      <td>5124</td>\n",
       "      <td>258</td>\n",
       "    </tr>\n",
       "    <tr>\n",
       "      <th>60000</th>\n",
       "      <td>6165</td>\n",
       "      <td>314</td>\n",
       "    </tr>\n",
       "    <tr>\n",
       "      <th>70000</th>\n",
       "      <td>6934</td>\n",
       "      <td>395</td>\n",
       "    </tr>\n",
       "    <tr>\n",
       "      <th>80000</th>\n",
       "      <td>8011</td>\n",
       "      <td>530</td>\n",
       "    </tr>\n",
       "    <tr>\n",
       "      <th>90000</th>\n",
       "      <td>9022</td>\n",
       "      <td>711</td>\n",
       "    </tr>\n",
       "    <tr>\n",
       "      <th>100000</th>\n",
       "      <td>10969</td>\n",
       "      <td>963</td>\n",
       "    </tr>\n",
       "    <tr>\n",
       "      <th>125000</th>\n",
       "      <td>27259</td>\n",
       "      <td>2691</td>\n",
       "    </tr>\n",
       "    <tr>\n",
       "      <th>150000</th>\n",
       "      <td>153118</td>\n",
       "      <td>25938</td>\n",
       "    </tr>\n",
       "  </tbody>\n",
       "</table>\n",
       "</div>"
      ],
      "text/plain": [
       "NotRepaired      no    yes\n",
       "Kilometer                 \n",
       "5000           1857    479\n",
       "10000           809     46\n",
       "20000          2858    241\n",
       "30000          3527    207\n",
       "40000          4118    168\n",
       "50000          5124    258\n",
       "60000          6165    314\n",
       "70000          6934    395\n",
       "80000          8011    530\n",
       "90000          9022    711\n",
       "100000        10969    963\n",
       "125000        27259   2691\n",
       "150000       153118  25938"
      ]
     },
     "execution_count": 47,
     "metadata": {},
     "output_type": "execute_result"
    }
   ],
   "source": [
    "df.pivot_table(index='Kilometer', columns='NotRepaired', values='Price', aggfunc='count')"
   ]
  },
  {
   "cell_type": "markdown",
   "metadata": {},
   "source": [
    "Первое, что бросается в глаза, у нас как минимум `23398`, как бы это по мягче сказать, не очень добросовестных продавца. То, что автомобиль при пробеге `150000` ни разу не был в ремонте верится с трудом. Но оставим это на их совести. \n",
    "\n",
    "Заполним пропуски по следудующей логике:\n",
    "- Пробег больше `100000` - автомобиль был в ремонте, то есть значение **`no`**\n",
    "- Пробег меньше `100000` - автомобиль не был в ремонте, то есть значение **`yes`**"
   ]
  },
  {
   "cell_type": "code",
   "execution_count": 48,
   "metadata": {},
   "outputs": [],
   "source": [
    "df.loc[df['Kilometer'] >= 100000, 'NotRepaired'] = df.loc[df['Kilometer'] >= 100000, 'NotRepaired'].fillna('no')\n",
    "df.loc[df['Kilometer'] < 100000, 'NotRepaired'] = df.loc[df['Kilometer'] < 100000, 'NotRepaired'].fillna('yes')"
   ]
  },
  {
   "cell_type": "markdown",
   "metadata": {},
   "source": [
    "Проверим, что все ОК"
   ]
  },
  {
   "cell_type": "code",
   "execution_count": 49,
   "metadata": {},
   "outputs": [
    {
     "data": {
      "text/plain": [
       "no     294597\n",
       "yes     40844\n",
       "Name: NotRepaired, dtype: int64"
      ]
     },
     "execution_count": 49,
     "metadata": {},
     "output_type": "execute_result"
    }
   ],
   "source": [
    "df['NotRepaired'].value_counts(dropna=False)"
   ]
  },
  {
   "cell_type": "markdown",
   "metadata": {},
   "source": [
    "----"
   ]
  },
  {
   "cell_type": "markdown",
   "metadata": {},
   "source": [
    "<a id='part_2_3'></a>\n",
    "## 2.3 Обзор очищенного массива [▴](#head)"
   ]
  },
  {
   "cell_type": "code",
   "execution_count": 50,
   "metadata": {
    "scrolled": false
   },
   "outputs": [
    {
     "name": "stdout",
     "output_type": "stream",
     "text": [
      "\n",
      "Общий вид\n"
     ]
    },
    {
     "data": {
      "text/html": [
       "<div>\n",
       "<style scoped>\n",
       "    .dataframe tbody tr th:only-of-type {\n",
       "        vertical-align: middle;\n",
       "    }\n",
       "\n",
       "    .dataframe tbody tr th {\n",
       "        vertical-align: top;\n",
       "    }\n",
       "\n",
       "    .dataframe thead th {\n",
       "        text-align: right;\n",
       "    }\n",
       "</style>\n",
       "<table border=\"1\" class=\"dataframe\">\n",
       "  <thead>\n",
       "    <tr style=\"text-align: right;\">\n",
       "      <th></th>\n",
       "      <th>Price</th>\n",
       "      <th>VehicleType</th>\n",
       "      <th>RegistrationYear</th>\n",
       "      <th>Gearbox</th>\n",
       "      <th>Power</th>\n",
       "      <th>Model</th>\n",
       "      <th>Kilometer</th>\n",
       "      <th>FuelType</th>\n",
       "      <th>Brand</th>\n",
       "      <th>NotRepaired</th>\n",
       "    </tr>\n",
       "  </thead>\n",
       "  <tbody>\n",
       "    <tr>\n",
       "      <th>0</th>\n",
       "      <td>480</td>\n",
       "      <td>sedan</td>\n",
       "      <td>1993</td>\n",
       "      <td>manual</td>\n",
       "      <td>108</td>\n",
       "      <td>golf</td>\n",
       "      <td>150000</td>\n",
       "      <td>petrol</td>\n",
       "      <td>volkswagen</td>\n",
       "      <td>no</td>\n",
       "    </tr>\n",
       "    <tr>\n",
       "      <th>1</th>\n",
       "      <td>18300</td>\n",
       "      <td>coupe</td>\n",
       "      <td>2011</td>\n",
       "      <td>manual</td>\n",
       "      <td>190</td>\n",
       "      <td>a4</td>\n",
       "      <td>125000</td>\n",
       "      <td>gasoline</td>\n",
       "      <td>audi</td>\n",
       "      <td>yes</td>\n",
       "    </tr>\n",
       "    <tr>\n",
       "      <th>2</th>\n",
       "      <td>9800</td>\n",
       "      <td>suv</td>\n",
       "      <td>2004</td>\n",
       "      <td>auto</td>\n",
       "      <td>163</td>\n",
       "      <td>grand</td>\n",
       "      <td>125000</td>\n",
       "      <td>gasoline</td>\n",
       "      <td>jeep</td>\n",
       "      <td>no</td>\n",
       "    </tr>\n",
       "    <tr>\n",
       "      <th>3</th>\n",
       "      <td>1500</td>\n",
       "      <td>small</td>\n",
       "      <td>2001</td>\n",
       "      <td>manual</td>\n",
       "      <td>75</td>\n",
       "      <td>golf</td>\n",
       "      <td>150000</td>\n",
       "      <td>petrol</td>\n",
       "      <td>volkswagen</td>\n",
       "      <td>no</td>\n",
       "    </tr>\n",
       "    <tr>\n",
       "      <th>4</th>\n",
       "      <td>3600</td>\n",
       "      <td>small</td>\n",
       "      <td>2008</td>\n",
       "      <td>manual</td>\n",
       "      <td>69</td>\n",
       "      <td>fabia</td>\n",
       "      <td>90000</td>\n",
       "      <td>gasoline</td>\n",
       "      <td>skoda</td>\n",
       "      <td>no</td>\n",
       "    </tr>\n",
       "  </tbody>\n",
       "</table>\n",
       "</div>"
      ],
      "text/plain": [
       "   Price VehicleType  RegistrationYear Gearbox  Power  Model  Kilometer  \\\n",
       "0    480       sedan              1993  manual    108   golf     150000   \n",
       "1  18300       coupe              2011  manual    190     a4     125000   \n",
       "2   9800         suv              2004    auto    163  grand     125000   \n",
       "3   1500       small              2001  manual     75   golf     150000   \n",
       "4   3600       small              2008  manual     69  fabia      90000   \n",
       "\n",
       "   FuelType       Brand NotRepaired  \n",
       "0    petrol  volkswagen          no  \n",
       "1  gasoline        audi         yes  \n",
       "2  gasoline        jeep          no  \n",
       "3    petrol  volkswagen          no  \n",
       "4  gasoline       skoda          no  "
      ]
     },
     "metadata": {},
     "output_type": "display_data"
    },
    {
     "name": "stdout",
     "output_type": "stream",
     "text": [
      "\n",
      ".info()\n",
      "\n",
      "<class 'pandas.core.frame.DataFrame'>\n",
      "Int64Index: 335441 entries, 0 to 341054\n",
      "Data columns (total 10 columns):\n",
      " #   Column            Non-Null Count   Dtype \n",
      "---  ------            --------------   ----- \n",
      " 0   Price             335441 non-null  int64 \n",
      " 1   VehicleType       335441 non-null  object\n",
      " 2   RegistrationYear  335441 non-null  int64 \n",
      " 3   Gearbox           335441 non-null  object\n",
      " 4   Power             335441 non-null  int64 \n",
      " 5   Model             335441 non-null  object\n",
      " 6   Kilometer         335441 non-null  int64 \n",
      " 7   FuelType          335441 non-null  object\n",
      " 8   Brand             335441 non-null  object\n",
      " 9   NotRepaired       335441 non-null  object\n",
      "dtypes: int64(4), object(6)\n",
      "memory usage: 28.2+ MB\n",
      "\n",
      "Количество полных дубликатов: 55401\n"
     ]
    },
    {
     "data": {
      "text/html": [
       "<div>\n",
       "<style scoped>\n",
       "    .dataframe tbody tr th:only-of-type {\n",
       "        vertical-align: middle;\n",
       "    }\n",
       "\n",
       "    .dataframe tbody tr th {\n",
       "        vertical-align: top;\n",
       "    }\n",
       "\n",
       "    .dataframe thead th {\n",
       "        text-align: right;\n",
       "    }\n",
       "</style>\n",
       "<table border=\"1\" class=\"dataframe\">\n",
       "  <thead>\n",
       "    <tr style=\"text-align: right;\">\n",
       "      <th></th>\n",
       "      <th>Количество пропусков</th>\n",
       "      <th>Процент пропусков %</th>\n",
       "    </tr>\n",
       "  </thead>\n",
       "  <tbody>\n",
       "    <tr>\n",
       "      <th>Price</th>\n",
       "      <td>0</td>\n",
       "      <td>0.0</td>\n",
       "    </tr>\n",
       "    <tr>\n",
       "      <th>VehicleType</th>\n",
       "      <td>0</td>\n",
       "      <td>0.0</td>\n",
       "    </tr>\n",
       "    <tr>\n",
       "      <th>RegistrationYear</th>\n",
       "      <td>0</td>\n",
       "      <td>0.0</td>\n",
       "    </tr>\n",
       "    <tr>\n",
       "      <th>Gearbox</th>\n",
       "      <td>0</td>\n",
       "      <td>0.0</td>\n",
       "    </tr>\n",
       "    <tr>\n",
       "      <th>Power</th>\n",
       "      <td>0</td>\n",
       "      <td>0.0</td>\n",
       "    </tr>\n",
       "    <tr>\n",
       "      <th>Model</th>\n",
       "      <td>0</td>\n",
       "      <td>0.0</td>\n",
       "    </tr>\n",
       "    <tr>\n",
       "      <th>Kilometer</th>\n",
       "      <td>0</td>\n",
       "      <td>0.0</td>\n",
       "    </tr>\n",
       "    <tr>\n",
       "      <th>FuelType</th>\n",
       "      <td>0</td>\n",
       "      <td>0.0</td>\n",
       "    </tr>\n",
       "    <tr>\n",
       "      <th>Brand</th>\n",
       "      <td>0</td>\n",
       "      <td>0.0</td>\n",
       "    </tr>\n",
       "    <tr>\n",
       "      <th>NotRepaired</th>\n",
       "      <td>0</td>\n",
       "      <td>0.0</td>\n",
       "    </tr>\n",
       "  </tbody>\n",
       "</table>\n",
       "</div>"
      ],
      "text/plain": [
       "                  Количество пропусков  Процент пропусков %\n",
       "Price                                0                  0.0\n",
       "VehicleType                          0                  0.0\n",
       "RegistrationYear                     0                  0.0\n",
       "Gearbox                              0                  0.0\n",
       "Power                                0                  0.0\n",
       "Model                                0                  0.0\n",
       "Kilometer                            0                  0.0\n",
       "FuelType                             0                  0.0\n",
       "Brand                                0                  0.0\n",
       "NotRepaired                          0                  0.0"
      ]
     },
     "metadata": {},
     "output_type": "display_data"
    },
    {
     "name": "stdout",
     "output_type": "stream",
     "text": [
      "\n",
      ".describe(числовых значений датафрейма)\n"
     ]
    },
    {
     "data": {
      "text/html": [
       "<div>\n",
       "<style scoped>\n",
       "    .dataframe tbody tr th:only-of-type {\n",
       "        vertical-align: middle;\n",
       "    }\n",
       "\n",
       "    .dataframe tbody tr th {\n",
       "        vertical-align: top;\n",
       "    }\n",
       "\n",
       "    .dataframe thead th {\n",
       "        text-align: right;\n",
       "    }\n",
       "</style>\n",
       "<table border=\"1\" class=\"dataframe\">\n",
       "  <thead>\n",
       "    <tr style=\"text-align: right;\">\n",
       "      <th></th>\n",
       "      <th>Price</th>\n",
       "      <th>RegistrationYear</th>\n",
       "      <th>Power</th>\n",
       "      <th>Kilometer</th>\n",
       "    </tr>\n",
       "  </thead>\n",
       "  <tbody>\n",
       "    <tr>\n",
       "      <th>count</th>\n",
       "      <td>335441.000000</td>\n",
       "      <td>335441.000000</td>\n",
       "      <td>335441.000000</td>\n",
       "      <td>335441.000000</td>\n",
       "    </tr>\n",
       "    <tr>\n",
       "      <th>mean</th>\n",
       "      <td>4550.798969</td>\n",
       "      <td>2003.624831</td>\n",
       "      <td>119.877824</td>\n",
       "      <td>129018.754416</td>\n",
       "    </tr>\n",
       "    <tr>\n",
       "      <th>std</th>\n",
       "      <td>4487.601721</td>\n",
       "      <td>6.358213</td>\n",
       "      <td>48.811941</td>\n",
       "      <td>36702.121737</td>\n",
       "    </tr>\n",
       "    <tr>\n",
       "      <th>min</th>\n",
       "      <td>100.000000</td>\n",
       "      <td>1985.000000</td>\n",
       "      <td>50.000000</td>\n",
       "      <td>5000.000000</td>\n",
       "    </tr>\n",
       "    <tr>\n",
       "      <th>25%</th>\n",
       "      <td>1200.000000</td>\n",
       "      <td>1999.000000</td>\n",
       "      <td>88.000000</td>\n",
       "      <td>125000.000000</td>\n",
       "    </tr>\n",
       "    <tr>\n",
       "      <th>50%</th>\n",
       "      <td>2899.000000</td>\n",
       "      <td>2003.000000</td>\n",
       "      <td>108.000000</td>\n",
       "      <td>150000.000000</td>\n",
       "    </tr>\n",
       "    <tr>\n",
       "      <th>75%</th>\n",
       "      <td>6500.000000</td>\n",
       "      <td>2008.000000</td>\n",
       "      <td>143.000000</td>\n",
       "      <td>150000.000000</td>\n",
       "    </tr>\n",
       "    <tr>\n",
       "      <th>max</th>\n",
       "      <td>20000.000000</td>\n",
       "      <td>2018.000000</td>\n",
       "      <td>400.000000</td>\n",
       "      <td>150000.000000</td>\n",
       "    </tr>\n",
       "  </tbody>\n",
       "</table>\n",
       "</div>"
      ],
      "text/plain": [
       "               Price  RegistrationYear          Power      Kilometer\n",
       "count  335441.000000     335441.000000  335441.000000  335441.000000\n",
       "mean     4550.798969       2003.624831     119.877824  129018.754416\n",
       "std      4487.601721          6.358213      48.811941   36702.121737\n",
       "min       100.000000       1985.000000      50.000000    5000.000000\n",
       "25%      1200.000000       1999.000000      88.000000  125000.000000\n",
       "50%      2899.000000       2003.000000     108.000000  150000.000000\n",
       "75%      6500.000000       2008.000000     143.000000  150000.000000\n",
       "max     20000.000000       2018.000000     400.000000  150000.000000"
      ]
     },
     "metadata": {},
     "output_type": "display_data"
    },
    {
     "name": "stdout",
     "output_type": "stream",
     "text": [
      "\n",
      ".describe(категориальных значений и дат)\n"
     ]
    },
    {
     "data": {
      "text/html": [
       "<div>\n",
       "<style scoped>\n",
       "    .dataframe tbody tr th:only-of-type {\n",
       "        vertical-align: middle;\n",
       "    }\n",
       "\n",
       "    .dataframe tbody tr th {\n",
       "        vertical-align: top;\n",
       "    }\n",
       "\n",
       "    .dataframe thead th {\n",
       "        text-align: right;\n",
       "    }\n",
       "</style>\n",
       "<table border=\"1\" class=\"dataframe\">\n",
       "  <thead>\n",
       "    <tr style=\"text-align: right;\">\n",
       "      <th></th>\n",
       "      <th>VehicleType</th>\n",
       "      <th>Gearbox</th>\n",
       "      <th>Model</th>\n",
       "      <th>FuelType</th>\n",
       "      <th>Brand</th>\n",
       "      <th>NotRepaired</th>\n",
       "    </tr>\n",
       "  </thead>\n",
       "  <tbody>\n",
       "    <tr>\n",
       "      <th>count</th>\n",
       "      <td>335441</td>\n",
       "      <td>335441</td>\n",
       "      <td>335441</td>\n",
       "      <td>335441</td>\n",
       "      <td>335441</td>\n",
       "      <td>335441</td>\n",
       "    </tr>\n",
       "    <tr>\n",
       "      <th>unique</th>\n",
       "      <td>8</td>\n",
       "      <td>2</td>\n",
       "      <td>248</td>\n",
       "      <td>7</td>\n",
       "      <td>40</td>\n",
       "      <td>2</td>\n",
       "    </tr>\n",
       "    <tr>\n",
       "      <th>top</th>\n",
       "      <td>sedan</td>\n",
       "      <td>manual</td>\n",
       "      <td>golf</td>\n",
       "      <td>petrol</td>\n",
       "      <td>volkswagen</td>\n",
       "      <td>no</td>\n",
       "    </tr>\n",
       "    <tr>\n",
       "      <th>freq</th>\n",
       "      <td>102322</td>\n",
       "      <td>268601</td>\n",
       "      <td>30837</td>\n",
       "      <td>232837</td>\n",
       "      <td>72853</td>\n",
       "      <td>294597</td>\n",
       "    </tr>\n",
       "  </tbody>\n",
       "</table>\n",
       "</div>"
      ],
      "text/plain": [
       "       VehicleType Gearbox   Model FuelType       Brand NotRepaired\n",
       "count       335441  335441  335441   335441      335441      335441\n",
       "unique           8       2     248        7          40           2\n",
       "top          sedan  manual    golf   petrol  volkswagen          no\n",
       "freq        102322  268601   30837   232837       72853      294597"
      ]
     },
     "metadata": {},
     "output_type": "display_data"
    },
    {
     "data": {
      "image/png": "[encoded data removed]",
      "text/plain": [
       "<Figure size 864x720 with 2 Axes>"
      ]
     },
     "metadata": {
      "needs_background": "light"
     },
     "output_type": "display_data"
    }
   ],
   "source": [
    "overview(df)"
   ]
  },
  {
   "cell_type": "markdown",
   "metadata": {},
   "source": [
    "В обновленным датасете обнаружилось большое количество полных дубликатов. \n",
    "\n",
    "Удалим их."
   ]
  },
  {
   "cell_type": "code",
   "execution_count": 51,
   "metadata": {},
   "outputs": [
    {
     "name": "stdout",
     "output_type": "stream",
     "text": [
      "Количество полных дубликатов: 55401\n",
      "Количество полных дубликатов: 0\n"
     ]
    }
   ],
   "source": [
    "print('Количество полных дубликатов:', df.duplicated().sum())\n",
    "df = df.drop_duplicates()\n",
    "print('Количество полных дубликатов:', df.duplicated().sum())"
   ]
  },
  {
   "cell_type": "markdown",
   "metadata": {},
   "source": [
    "Финальный взгляд на итоговый датасет для обучения"
   ]
  },
  {
   "cell_type": "code",
   "execution_count": 52,
   "metadata": {},
   "outputs": [
    {
     "data": {
      "text/html": [
       "<div>\n",
       "<style scoped>\n",
       "    .dataframe tbody tr th:only-of-type {\n",
       "        vertical-align: middle;\n",
       "    }\n",
       "\n",
       "    .dataframe tbody tr th {\n",
       "        vertical-align: top;\n",
       "    }\n",
       "\n",
       "    .dataframe thead th {\n",
       "        text-align: right;\n",
       "    }\n",
       "</style>\n",
       "<table border=\"1\" class=\"dataframe\">\n",
       "  <thead>\n",
       "    <tr style=\"text-align: right;\">\n",
       "      <th></th>\n",
       "      <th>Price</th>\n",
       "      <th>VehicleType</th>\n",
       "      <th>RegistrationYear</th>\n",
       "      <th>Gearbox</th>\n",
       "      <th>Power</th>\n",
       "      <th>Model</th>\n",
       "      <th>Kilometer</th>\n",
       "      <th>FuelType</th>\n",
       "      <th>Brand</th>\n",
       "      <th>NotRepaired</th>\n",
       "    </tr>\n",
       "  </thead>\n",
       "  <tbody>\n",
       "    <tr>\n",
       "      <th>0</th>\n",
       "      <td>480</td>\n",
       "      <td>sedan</td>\n",
       "      <td>1993</td>\n",
       "      <td>manual</td>\n",
       "      <td>108</td>\n",
       "      <td>golf</td>\n",
       "      <td>150000</td>\n",
       "      <td>petrol</td>\n",
       "      <td>volkswagen</td>\n",
       "      <td>no</td>\n",
       "    </tr>\n",
       "    <tr>\n",
       "      <th>1</th>\n",
       "      <td>18300</td>\n",
       "      <td>coupe</td>\n",
       "      <td>2011</td>\n",
       "      <td>manual</td>\n",
       "      <td>190</td>\n",
       "      <td>a4</td>\n",
       "      <td>125000</td>\n",
       "      <td>gasoline</td>\n",
       "      <td>audi</td>\n",
       "      <td>yes</td>\n",
       "    </tr>\n",
       "    <tr>\n",
       "      <th>2</th>\n",
       "      <td>9800</td>\n",
       "      <td>suv</td>\n",
       "      <td>2004</td>\n",
       "      <td>auto</td>\n",
       "      <td>163</td>\n",
       "      <td>grand</td>\n",
       "      <td>125000</td>\n",
       "      <td>gasoline</td>\n",
       "      <td>jeep</td>\n",
       "      <td>no</td>\n",
       "    </tr>\n",
       "    <tr>\n",
       "      <th>3</th>\n",
       "      <td>1500</td>\n",
       "      <td>small</td>\n",
       "      <td>2001</td>\n",
       "      <td>manual</td>\n",
       "      <td>75</td>\n",
       "      <td>golf</td>\n",
       "      <td>150000</td>\n",
       "      <td>petrol</td>\n",
       "      <td>volkswagen</td>\n",
       "      <td>no</td>\n",
       "    </tr>\n",
       "    <tr>\n",
       "      <th>4</th>\n",
       "      <td>3600</td>\n",
       "      <td>small</td>\n",
       "      <td>2008</td>\n",
       "      <td>manual</td>\n",
       "      <td>69</td>\n",
       "      <td>fabia</td>\n",
       "      <td>90000</td>\n",
       "      <td>gasoline</td>\n",
       "      <td>skoda</td>\n",
       "      <td>no</td>\n",
       "    </tr>\n",
       "    <tr>\n",
       "      <th>...</th>\n",
       "      <td>...</td>\n",
       "      <td>...</td>\n",
       "      <td>...</td>\n",
       "      <td>...</td>\n",
       "      <td>...</td>\n",
       "      <td>...</td>\n",
       "      <td>...</td>\n",
       "      <td>...</td>\n",
       "      <td>...</td>\n",
       "      <td>...</td>\n",
       "    </tr>\n",
       "    <tr>\n",
       "      <th>341049</th>\n",
       "      <td>3200</td>\n",
       "      <td>sedan</td>\n",
       "      <td>2004</td>\n",
       "      <td>manual</td>\n",
       "      <td>225</td>\n",
       "      <td>leon</td>\n",
       "      <td>150000</td>\n",
       "      <td>petrol</td>\n",
       "      <td>seat</td>\n",
       "      <td>yes</td>\n",
       "    </tr>\n",
       "    <tr>\n",
       "      <th>341051</th>\n",
       "      <td>2200</td>\n",
       "      <td>sedan</td>\n",
       "      <td>2005</td>\n",
       "      <td>manual</td>\n",
       "      <td>108</td>\n",
       "      <td>other</td>\n",
       "      <td>20000</td>\n",
       "      <td>petrol</td>\n",
       "      <td>sonstige_autos</td>\n",
       "      <td>yes</td>\n",
       "    </tr>\n",
       "    <tr>\n",
       "      <th>341052</th>\n",
       "      <td>1199</td>\n",
       "      <td>convertible</td>\n",
       "      <td>2000</td>\n",
       "      <td>auto</td>\n",
       "      <td>101</td>\n",
       "      <td>fortwo</td>\n",
       "      <td>125000</td>\n",
       "      <td>petrol</td>\n",
       "      <td>smart</td>\n",
       "      <td>no</td>\n",
       "    </tr>\n",
       "    <tr>\n",
       "      <th>341053</th>\n",
       "      <td>9200</td>\n",
       "      <td>bus</td>\n",
       "      <td>1996</td>\n",
       "      <td>manual</td>\n",
       "      <td>102</td>\n",
       "      <td>transporter</td>\n",
       "      <td>150000</td>\n",
       "      <td>gasoline</td>\n",
       "      <td>volkswagen</td>\n",
       "      <td>no</td>\n",
       "    </tr>\n",
       "    <tr>\n",
       "      <th>341054</th>\n",
       "      <td>3400</td>\n",
       "      <td>wagon</td>\n",
       "      <td>2002</td>\n",
       "      <td>manual</td>\n",
       "      <td>100</td>\n",
       "      <td>golf</td>\n",
       "      <td>150000</td>\n",
       "      <td>gasoline</td>\n",
       "      <td>volkswagen</td>\n",
       "      <td>no</td>\n",
       "    </tr>\n",
       "  </tbody>\n",
       "</table>\n",
       "<p>280040 rows × 10 columns</p>\n",
       "</div>"
      ],
      "text/plain": [
       "        Price  VehicleType  RegistrationYear Gearbox  Power        Model  \\\n",
       "0         480        sedan              1993  manual    108         golf   \n",
       "1       18300        coupe              2011  manual    190           a4   \n",
       "2        9800          suv              2004    auto    163        grand   \n",
       "3        1500        small              2001  manual     75         golf   \n",
       "4        3600        small              2008  manual     69        fabia   \n",
       "...       ...          ...               ...     ...    ...          ...   \n",
       "341049   3200        sedan              2004  manual    225         leon   \n",
       "341051   2200        sedan              2005  manual    108        other   \n",
       "341052   1199  convertible              2000    auto    101       fortwo   \n",
       "341053   9200          bus              1996  manual    102  transporter   \n",
       "341054   3400        wagon              2002  manual    100         golf   \n",
       "\n",
       "        Kilometer  FuelType           Brand NotRepaired  \n",
       "0          150000    petrol      volkswagen          no  \n",
       "1          125000  gasoline            audi         yes  \n",
       "2          125000  gasoline            jeep          no  \n",
       "3          150000    petrol      volkswagen          no  \n",
       "4           90000  gasoline           skoda          no  \n",
       "...           ...       ...             ...         ...  \n",
       "341049     150000    petrol            seat         yes  \n",
       "341051      20000    petrol  sonstige_autos         yes  \n",
       "341052     125000    petrol           smart          no  \n",
       "341053     150000  gasoline      volkswagen          no  \n",
       "341054     150000  gasoline      volkswagen          no  \n",
       "\n",
       "[280040 rows x 10 columns]"
      ]
     },
     "metadata": {},
     "output_type": "display_data"
    }
   ],
   "source": [
    "display(df)"
   ]
  },
  {
   "cell_type": "markdown",
   "metadata": {},
   "source": [
    "<a id='part_2_conclusions'></a>\n",
    "## Выводы [▴](#head)"
   ]
  },
  {
   "cell_type": "markdown",
   "metadata": {},
   "source": [
    "Мы привели в порядок все столбцы датасета. Посмотрим насколько сильно изменился его размер."
   ]
  },
  {
   "cell_type": "code",
   "execution_count": 53,
   "metadata": {},
   "outputs": [
    {
     "name": "stdout",
     "output_type": "stream",
     "text": [
      "Исходный размер датасета: (354369, 16)\n",
      "Очищенный размер датасета: (280040, 10)\n",
      "Потеря от исходного датасета по строкам: 20.98%\n"
     ]
    }
   ],
   "source": [
    "print(f'Исходный размер датасета: {df_raw.shape}')\n",
    "print(f'Очищенный размер датасета: {df.shape}')\n",
    "print(f'Потеря от исходного датасета по строкам: {1 - df.shape[0] / df_raw.shape[0]:.2%}')"
   ]
  },
  {
   "cell_type": "markdown",
   "metadata": {},
   "source": [
    "Потеряли `20%` данных, с учетом размера изначального датасета это не так критично.\n",
    "\n",
    "Так же с учетом удаления аномалий, нормальный вид преобрела корреляционная матрица, вот о каких зависимостях она нам говорит:\n",
    "\n",
    "**Корреляции относительно стоимости авто**\n",
    "\n",
    "Корреляция|`Price`|Эффект\n",
    "-|-|-\n",
    "**`Kilometer`**|Слабая отрицательная|Выше пробег → Ниже цена\n",
    "**`Power`**|Средняя положительная|Выше мощность → Выше цена\n",
    "**`RegistrationYear`**|Средняя положительная|Моложе автомобиль → Выше цена\n",
    "\n",
    "**Корреляции относительно возраста авто**\n",
    "\n",
    "Корреляция|`RegistrationYear`|Эффект\n",
    "-|-|-\n",
    "**`Kilometer`**|Слабая отрицательная|Старее автомобиль → Выше пробег"
   ]
  },
  {
   "cell_type": "markdown",
   "metadata": {},
   "source": [
    "<a id='part_3'></a>\n",
    "# 3. Подготовка данных [▴](#head)"
   ]
  },
  {
   "cell_type": "markdown",
   "metadata": {},
   "source": [
    "<a id='part_3_1'></a>\n",
    "## 3.1 Кодирование категориальных признаков [▴](#head)"
   ]
  },
  {
   "cell_type": "markdown",
   "metadata": {},
   "source": [
    "Так как количество категорий у нас около `300` штук, техника кодирования `OHE` нам не подойдет, потому что она создаст 300 столбцов с признаками и это окажет пагубное влияние на быстродействие некоторых моделей. \n",
    "\n",
    "По этому в нашем случае будем использовать технику `Ordinal Encoding`, с помощью которой текстовые признаки мы закодируем в определенное число."
   ]
  },
  {
   "cell_type": "code",
   "execution_count": 54,
   "metadata": {},
   "outputs": [
    {
     "data": {
      "text/html": [
       "<div>\n",
       "<style scoped>\n",
       "    .dataframe tbody tr th:only-of-type {\n",
       "        vertical-align: middle;\n",
       "    }\n",
       "\n",
       "    .dataframe tbody tr th {\n",
       "        vertical-align: top;\n",
       "    }\n",
       "\n",
       "    .dataframe thead th {\n",
       "        text-align: right;\n",
       "    }\n",
       "</style>\n",
       "<table border=\"1\" class=\"dataframe\">\n",
       "  <thead>\n",
       "    <tr style=\"text-align: right;\">\n",
       "      <th></th>\n",
       "      <th>Price</th>\n",
       "      <th>RegistrationYear</th>\n",
       "      <th>Power</th>\n",
       "      <th>Kilometer</th>\n",
       "      <th>VehicleType</th>\n",
       "      <th>Gearbox</th>\n",
       "      <th>Model</th>\n",
       "      <th>FuelType</th>\n",
       "      <th>Brand</th>\n",
       "      <th>NotRepaired</th>\n",
       "    </tr>\n",
       "  </thead>\n",
       "  <tbody>\n",
       "    <tr>\n",
       "      <th>0</th>\n",
       "      <td>480</td>\n",
       "      <td>1993</td>\n",
       "      <td>108</td>\n",
       "      <td>150000</td>\n",
       "      <td>4.0</td>\n",
       "      <td>1.0</td>\n",
       "      <td>116.0</td>\n",
       "      <td>6.0</td>\n",
       "      <td>38.0</td>\n",
       "      <td>0.0</td>\n",
       "    </tr>\n",
       "    <tr>\n",
       "      <th>1</th>\n",
       "      <td>18300</td>\n",
       "      <td>2011</td>\n",
       "      <td>190</td>\n",
       "      <td>125000</td>\n",
       "      <td>2.0</td>\n",
       "      <td>1.0</td>\n",
       "      <td>29.0</td>\n",
       "      <td>2.0</td>\n",
       "      <td>1.0</td>\n",
       "      <td>1.0</td>\n",
       "    </tr>\n",
       "    <tr>\n",
       "      <th>2</th>\n",
       "      <td>9800</td>\n",
       "      <td>2004</td>\n",
       "      <td>163</td>\n",
       "      <td>125000</td>\n",
       "      <td>6.0</td>\n",
       "      <td>0.0</td>\n",
       "      <td>117.0</td>\n",
       "      <td>2.0</td>\n",
       "      <td>14.0</td>\n",
       "      <td>0.0</td>\n",
       "    </tr>\n",
       "    <tr>\n",
       "      <th>3</th>\n",
       "      <td>1500</td>\n",
       "      <td>2001</td>\n",
       "      <td>75</td>\n",
       "      <td>150000</td>\n",
       "      <td>5.0</td>\n",
       "      <td>1.0</td>\n",
       "      <td>116.0</td>\n",
       "      <td>6.0</td>\n",
       "      <td>38.0</td>\n",
       "      <td>0.0</td>\n",
       "    </tr>\n",
       "    <tr>\n",
       "      <th>4</th>\n",
       "      <td>3600</td>\n",
       "      <td>2008</td>\n",
       "      <td>69</td>\n",
       "      <td>90000</td>\n",
       "      <td>5.0</td>\n",
       "      <td>1.0</td>\n",
       "      <td>101.0</td>\n",
       "      <td>2.0</td>\n",
       "      <td>31.0</td>\n",
       "      <td>0.0</td>\n",
       "    </tr>\n",
       "    <tr>\n",
       "      <th>...</th>\n",
       "      <td>...</td>\n",
       "      <td>...</td>\n",
       "      <td>...</td>\n",
       "      <td>...</td>\n",
       "      <td>...</td>\n",
       "      <td>...</td>\n",
       "      <td>...</td>\n",
       "      <td>...</td>\n",
       "      <td>...</td>\n",
       "      <td>...</td>\n",
       "    </tr>\n",
       "    <tr>\n",
       "      <th>341049</th>\n",
       "      <td>3200</td>\n",
       "      <td>2004</td>\n",
       "      <td>225</td>\n",
       "      <td>150000</td>\n",
       "      <td>4.0</td>\n",
       "      <td>1.0</td>\n",
       "      <td>140.0</td>\n",
       "      <td>6.0</td>\n",
       "      <td>30.0</td>\n",
       "      <td>1.0</td>\n",
       "    </tr>\n",
       "    <tr>\n",
       "      <th>341051</th>\n",
       "      <td>2200</td>\n",
       "      <td>2005</td>\n",
       "      <td>108</td>\n",
       "      <td>20000</td>\n",
       "      <td>4.0</td>\n",
       "      <td>1.0</td>\n",
       "      <td>166.0</td>\n",
       "      <td>6.0</td>\n",
       "      <td>33.0</td>\n",
       "      <td>1.0</td>\n",
       "    </tr>\n",
       "    <tr>\n",
       "      <th>341052</th>\n",
       "      <td>1199</td>\n",
       "      <td>2000</td>\n",
       "      <td>101</td>\n",
       "      <td>125000</td>\n",
       "      <td>1.0</td>\n",
       "      <td>0.0</td>\n",
       "      <td>106.0</td>\n",
       "      <td>6.0</td>\n",
       "      <td>32.0</td>\n",
       "      <td>0.0</td>\n",
       "    </tr>\n",
       "    <tr>\n",
       "      <th>341053</th>\n",
       "      <td>9200</td>\n",
       "      <td>1996</td>\n",
       "      <td>102</td>\n",
       "      <td>150000</td>\n",
       "      <td>0.0</td>\n",
       "      <td>1.0</td>\n",
       "      <td>222.0</td>\n",
       "      <td>2.0</td>\n",
       "      <td>38.0</td>\n",
       "      <td>0.0</td>\n",
       "    </tr>\n",
       "    <tr>\n",
       "      <th>341054</th>\n",
       "      <td>3400</td>\n",
       "      <td>2002</td>\n",
       "      <td>100</td>\n",
       "      <td>150000</td>\n",
       "      <td>7.0</td>\n",
       "      <td>1.0</td>\n",
       "      <td>116.0</td>\n",
       "      <td>2.0</td>\n",
       "      <td>38.0</td>\n",
       "      <td>0.0</td>\n",
       "    </tr>\n",
       "  </tbody>\n",
       "</table>\n",
       "<p>280040 rows × 10 columns</p>\n",
       "</div>"
      ],
      "text/plain": [
       "        Price  RegistrationYear  Power  Kilometer  VehicleType  Gearbox  \\\n",
       "0         480              1993    108     150000          4.0      1.0   \n",
       "1       18300              2011    190     125000          2.0      1.0   \n",
       "2        9800              2004    163     125000          6.0      0.0   \n",
       "3        1500              2001     75     150000          5.0      1.0   \n",
       "4        3600              2008     69      90000          5.0      1.0   \n",
       "...       ...               ...    ...        ...          ...      ...   \n",
       "341049   3200              2004    225     150000          4.0      1.0   \n",
       "341051   2200              2005    108      20000          4.0      1.0   \n",
       "341052   1199              2000    101     125000          1.0      0.0   \n",
       "341053   9200              1996    102     150000          0.0      1.0   \n",
       "341054   3400              2002    100     150000          7.0      1.0   \n",
       "\n",
       "        Model  FuelType  Brand  NotRepaired  \n",
       "0       116.0       6.0   38.0          0.0  \n",
       "1        29.0       2.0    1.0          1.0  \n",
       "2       117.0       2.0   14.0          0.0  \n",
       "3       116.0       6.0   38.0          0.0  \n",
       "4       101.0       2.0   31.0          0.0  \n",
       "...       ...       ...    ...          ...  \n",
       "341049  140.0       6.0   30.0          1.0  \n",
       "341051  166.0       6.0   33.0          1.0  \n",
       "341052  106.0       6.0   32.0          0.0  \n",
       "341053  222.0       2.0   38.0          0.0  \n",
       "341054  116.0       2.0   38.0          0.0  \n",
       "\n",
       "[280040 rows x 10 columns]"
      ]
     },
     "execution_count": 54,
     "metadata": {},
     "output_type": "execute_result"
    }
   ],
   "source": [
    "encoder = OrdinalEncoder()\n",
    "\n",
    "txt_columns = df.select_dtypes(include='object').columns # получаем список текстовых признаков\n",
    "\n",
    "df_encoded = df.drop(columns=txt_columns) # создаем новый датасет. Для начала оставляем там только числовые признаки\n",
    "df_encoded[txt_columns] = encoder.fit_transform(df[txt_columns]) # с помощью техники Ordinal Encoding, добавляем в \n",
    "                                                            # датафрейм df_encoded массив с закодированными признаками\n",
    "\n",
    "df_encoded"
   ]
  },
  {
   "cell_type": "markdown",
   "metadata": {},
   "source": [
    "<a id='part_3_2'></a>\n",
    "## 3.2 Разбивка датасета на выборки [▴](#head)"
   ]
  },
  {
   "cell_type": "markdown",
   "metadata": {},
   "source": [
    "Создаем `features` и `target` выборки"
   ]
  },
  {
   "cell_type": "code",
   "execution_count": 55,
   "metadata": {},
   "outputs": [],
   "source": [
    "X = df_encoded.drop('Price', axis=1)\n",
    "y = df_encoded['Price']"
   ]
  },
  {
   "cell_type": "markdown",
   "metadata": {},
   "source": [
    "Делим выборки на `Тренировочную`, `Валидационную` и `Тестовую`"
   ]
  },
  {
   "cell_type": "code",
   "execution_count": 56,
   "metadata": {},
   "outputs": [],
   "source": [
    "X_train, X_valid, y_train, y_valid = train_test_split(\n",
    "    X, y, \n",
    "    random_state=12345,\n",
    "    test_size=0.4)\n",
    "\n",
    "X_valid, X_test, y_valid, y_test = train_test_split(\n",
    "    X_valid, y_valid, \n",
    "    random_state=12345,\n",
    "    test_size=0.5)"
   ]
  },
  {
   "cell_type": "markdown",
   "metadata": {},
   "source": [
    "Проверяем"
   ]
  },
  {
   "cell_type": "code",
   "execution_count": 57,
   "metadata": {},
   "outputs": [],
   "source": [
    "def part_of_df(X, y, title):\n",
    "    print(f'\\nДоля: {len(X) / len(df):.2f} | X: {X.shape} - {title}')\n",
    "    print(f'Доля: {len(y) / len(df):.2f} | y: {y.shape} - {title}')"
   ]
  },
  {
   "cell_type": "code",
   "execution_count": 58,
   "metadata": {
    "scrolled": true
   },
   "outputs": [
    {
     "name": "stdout",
     "output_type": "stream",
     "text": [
      "Размеры выборок:\n",
      "\n",
      "(280040, 10) - df\n",
      "(280040, 9) - X\n",
      "(280040,) - y\n",
      "\n",
      "\n",
      "Доля: 0.60 | X: (168024, 9) - Тренировочные\n",
      "Доля: 0.60 | y: (168024,) - Тренировочные\n",
      "\n",
      "Доля: 0.20 | X: (56008, 9) - Валидационные\n",
      "Доля: 0.20 | y: (56008,) - Валидационные\n",
      "\n",
      "Доля: 0.20 | X: (56008, 9) - Тестовые\n",
      "Доля: 0.20 | y: (56008,) - Тестовые\n"
     ]
    }
   ],
   "source": [
    "print('Размеры выборок:\\n')\n",
    "\n",
    "print(f'{df.shape} - df')\n",
    "\n",
    "print(f'{X.shape} - X')\n",
    "print(f'{y.shape} - y\\n')\n",
    "\n",
    "part_of_df(X_train, y_train, 'Тренировочные')\n",
    "part_of_df(X_valid, y_valid, 'Валидационные')\n",
    "part_of_df(X_test, y_test, 'Тестовые')"
   ]
  },
  {
   "cell_type": "markdown",
   "metadata": {},
   "source": [
    "<a id='part_4'></a>\n",
    "# 4. Обучение моделей [▴](#head)"
   ]
  },
  {
   "cell_type": "markdown",
   "metadata": {},
   "source": [
    "<a id='part_4_1'></a>\n",
    "## 4.1 Подготовка к обучению [▴](#head)"
   ]
  },
  {
   "cell_type": "markdown",
   "metadata": {},
   "source": [
    "Для автоматизации поиска лучших гиперпараметров напишем функцию **`auto_grid`**\n",
    "\n",
    "**Принимает на вход:**\n",
    "- модель\n",
    "- параметры для модели\n",
    "\n",
    "**Выдает:**\n",
    "- Лучший score модели\n",
    "- Набор гиперпараметров, на которых этот результат был получен"
   ]
  },
  {
   "cell_type": "code",
   "execution_count": 59,
   "metadata": {},
   "outputs": [],
   "source": [
    "def auto_grid(search_model, params):\n",
    "    grid_search = GridSearchCV(estimator=search_model,\n",
    "                               param_grid=params,\n",
    "                               cv=5,\n",
    "                               scoring='neg_root_mean_squared_error',\n",
    "                               n_jobs=-1)\n",
    "    \n",
    "    grid_search.fit(X_train, y_train)\n",
    "    \n",
    "    print(f'Лучший score модели: {grid_search.best_score_:.3f}')\n",
    "    print(f'Параметры лучшей модели: {grid_search.best_params_}')"
   ]
  },
  {
   "cell_type": "markdown",
   "metadata": {},
   "source": [
    "<a id='part_4_2'></a>\n",
    "## 4.2 Decision Tree Regressor [▴](#head)"
   ]
  },
  {
   "cell_type": "markdown",
   "metadata": {},
   "source": [
    "Прогоняем модель через `GridSearch`"
   ]
  },
  {
   "cell_type": "code",
   "execution_count": 60,
   "metadata": {},
   "outputs": [],
   "source": [
    "model = DecisionTreeRegressor(random_state=12345)\n",
    "params = {\n",
    "    'max_depth': [15, 20, 30, 40],\n",
    "    'min_samples_leaf': [9, 12, 15],\n",
    "    'min_samples_split': [2, 3, 5]\n",
    "}"
   ]
  },
  {
   "cell_type": "code",
   "execution_count": 61,
   "metadata": {},
   "outputs": [],
   "source": [
    "# %%time\n",
    "# auto_grid(model, params)\n",
    "# print()"
   ]
  },
  {
   "cell_type": "markdown",
   "metadata": {},
   "source": [
    "    Лучший score модели: -1898.201\n",
    "    Параметры лучшей модели: {'max_depth': 40, 'min_samples_leaf': 12, 'min_samples_split': 2}\n",
    "    \n",
    "    Wall time: 13 s"
   ]
  },
  {
   "cell_type": "markdown",
   "metadata": {},
   "source": [
    "Замеряем `время обучения` на валидационной выборке используя лучшие гиперпараметры из `GridSearch`"
   ]
  },
  {
   "cell_type": "code",
   "execution_count": 62,
   "metadata": {
    "scrolled": true
   },
   "outputs": [
    {
     "name": "stdout",
     "output_type": "stream",
     "text": [
      "\n",
      "CPU times: total: 344 ms\n",
      "Wall time: 343 ms\n"
     ]
    }
   ],
   "source": [
    "%%time\n",
    "model_DT = DecisionTreeRegressor(max_depth=40,\n",
    "                                 min_samples_leaf=12,\n",
    "                                 min_samples_split=2,\n",
    "                                 random_state=12345)\n",
    "\n",
    "model_DT.fit(X_train, y_train)\n",
    "print()"
   ]
  },
  {
   "cell_type": "markdown",
   "metadata": {},
   "source": [
    "Замеряем `время предсказания` и проверяем `RMSE`"
   ]
  },
  {
   "cell_type": "code",
   "execution_count": 63,
   "metadata": {},
   "outputs": [
    {
     "name": "stdout",
     "output_type": "stream",
     "text": [
      "RMSE = 1879.017\n",
      "\n",
      "CPU times: total: 15.6 ms\n",
      "Wall time: 16 ms\n"
     ]
    }
   ],
   "source": [
    "%%time\n",
    "predicted = model_DT.predict(X_valid)\n",
    "\n",
    "print(f'RMSE = {mean_squared_error(y_valid, predicted, squared=False):.3f}')\n",
    "print()"
   ]
  },
  {
   "cell_type": "markdown",
   "metadata": {},
   "source": [
    "<a id='part_4_3'></a>\n",
    "## 4.3 XGBoost [▴](#head)"
   ]
  },
  {
   "cell_type": "markdown",
   "metadata": {},
   "source": [
    "Прогоняем модель через `GridSearch`"
   ]
  },
  {
   "cell_type": "code",
   "execution_count": 64,
   "metadata": {},
   "outputs": [],
   "source": [
    "model = xgb.XGBRegressor(random_state=12345)\n",
    "params = {'max_depth': [3, 6, 9],\n",
    "          'n_estimators': [300, 400],\n",
    "          'learning_rate': [0.1]}"
   ]
  },
  {
   "cell_type": "code",
   "execution_count": 65,
   "metadata": {},
   "outputs": [],
   "source": [
    "# %%time\n",
    "# auto_grid(model, params)\n",
    "# print()"
   ]
  },
  {
   "cell_type": "markdown",
   "metadata": {},
   "source": [
    "    Лучший score модели: -1632.172\n",
    "    Параметры лучшей модели: {'learning_rate': 0.1, 'max_depth': 9, 'n_estimators': 300}\n",
    "    \n",
    "    Wall time: 2min 39s"
   ]
  },
  {
   "cell_type": "markdown",
   "metadata": {},
   "source": [
    "Замеряем `время обучения` на валидационной выборке используя лучшие гиперпараметры из `GridSearch`"
   ]
  },
  {
   "cell_type": "code",
   "execution_count": 66,
   "metadata": {},
   "outputs": [
    {
     "name": "stdout",
     "output_type": "stream",
     "text": [
      "\n",
      "CPU times: total: 2min 8s\n",
      "Wall time: 10.8 s\n"
     ]
    }
   ],
   "source": [
    "%%time\n",
    "model_XGB = xgb.XGBRegressor(random_state=12345,\n",
    "                             max_depth=9,\n",
    "                             n_estimators=300,\n",
    "                             learning_rate=0.1)\n",
    "\n",
    "model_XGB.fit(X_train, y_train)\n",
    "print()"
   ]
  },
  {
   "cell_type": "markdown",
   "metadata": {},
   "source": [
    "Замеряем `время предсказания` и проверяем `RMSE`"
   ]
  },
  {
   "cell_type": "code",
   "execution_count": 67,
   "metadata": {},
   "outputs": [
    {
     "name": "stdout",
     "output_type": "stream",
     "text": [
      "RMSE = 1611.405\n",
      "\n",
      "CPU times: total: 906 ms\n",
      "Wall time: 85.8 ms\n"
     ]
    }
   ],
   "source": [
    "%%time\n",
    "predicted = model_XGB.predict(X_valid)\n",
    "print(f'RMSE = {mean_squared_error(y_valid, predicted, squared=False):.3f}')\n",
    "print()"
   ]
  },
  {
   "cell_type": "markdown",
   "metadata": {},
   "source": [
    "<a id='part_4_4'></a>\n",
    "## 4.4 Light GBM [▴](#head)"
   ]
  },
  {
   "cell_type": "markdown",
   "metadata": {},
   "source": [
    "Прогоняем модель через `GridSearch`"
   ]
  },
  {
   "cell_type": "code",
   "execution_count": 68,
   "metadata": {},
   "outputs": [],
   "source": [
    "model = lgb.LGBMRegressor(random_state=12345)\n",
    "params = {'max_depth': [6, 12, 20],\n",
    "          'n_estimators': [500, 1000, 2000],\n",
    "          'learning_rate': [0.1, 0.05, 0.01]}"
   ]
  },
  {
   "cell_type": "code",
   "execution_count": 69,
   "metadata": {},
   "outputs": [],
   "source": [
    "# %%time\n",
    "# auto_grid(model, params)\n",
    "# print()"
   ]
  },
  {
   "cell_type": "markdown",
   "metadata": {},
   "source": [
    "    Лучший score модели: -1623.977\n",
    "    Параметры лучшей модели: {'learning_rate': 0.1, 'max_depth': 20, 'n_estimators': 2000}\n",
    "    \n",
    "    Wall time: 4min 53s"
   ]
  },
  {
   "cell_type": "markdown",
   "metadata": {},
   "source": [
    "Замеряем `время обучения` на валидационной выборке используя лучшие гиперпараметры из `GridSearch`"
   ]
  },
  {
   "cell_type": "code",
   "execution_count": 70,
   "metadata": {},
   "outputs": [
    {
     "name": "stdout",
     "output_type": "stream",
     "text": [
      "\n",
      "CPU times: total: 48.4 s\n",
      "Wall time: 4.13 s\n",
      "Parser   : 141 ms\n"
     ]
    }
   ],
   "source": [
    "%%time\n",
    "model_LGBM = lgb.LGBMRegressor(random_state=12345,\n",
    "                               learning_rate=0.1,\n",
    "                               max_depth=20,\n",
    "                               n_estimators=2000)\n",
    "\n",
    "model_LGBM.fit(X_train, y_train)\n",
    "print()"
   ]
  },
  {
   "cell_type": "markdown",
   "metadata": {},
   "source": [
    "Замеряем `время предсказания` и проверяем `RMSE`"
   ]
  },
  {
   "cell_type": "code",
   "execution_count": 71,
   "metadata": {},
   "outputs": [
    {
     "name": "stdout",
     "output_type": "stream",
     "text": [
      "RMSE = 1598.903\n",
      "\n",
      "CPU times: total: 8.41 s\n",
      "Wall time: 708 ms\n"
     ]
    }
   ],
   "source": [
    "%%time\n",
    "predicted = model_LGBM.predict(X_valid)\n",
    "print(f'RMSE = {mean_squared_error(y_valid, predicted, squared=False):.3f}')\n",
    "print()"
   ]
  },
  {
   "cell_type": "markdown",
   "metadata": {},
   "source": [
    "<a id='part_4_5'></a>\n",
    "## 4.5 CatBoost [▴](#head)"
   ]
  },
  {
   "cell_type": "markdown",
   "metadata": {},
   "source": [
    "Прогоняем модель через `GridSearch`"
   ]
  },
  {
   "cell_type": "code",
   "execution_count": 72,
   "metadata": {},
   "outputs": [],
   "source": [
    "model = CatBoostRegressor(loss_function=\"RMSE\", random_state=12345, verbose=False)\n",
    "params = {'iterations': [250, 500, 1000],\n",
    "          'depth': [5, 10, 15]}"
   ]
  },
  {
   "cell_type": "code",
   "execution_count": 73,
   "metadata": {
    "scrolled": true
   },
   "outputs": [],
   "source": [
    "# %%time\n",
    "# auto_grid(model, params)\n",
    "# print()"
   ]
  },
  {
   "cell_type": "markdown",
   "metadata": {},
   "source": [
    "    Лучший score модели: -1632.218\n",
    "    Параметры лучшей модели: {'depth': 10, 'iterations': 1000}\n",
    "    \n",
    "    Wall time: 21min 57s"
   ]
  },
  {
   "cell_type": "markdown",
   "metadata": {},
   "source": [
    "Замеряем `время обучения` на валидационной выборке используя лучшие гиперпараметры из `GridSearch`"
   ]
  },
  {
   "cell_type": "code",
   "execution_count": 74,
   "metadata": {
    "scrolled": false
   },
   "outputs": [
    {
     "name": "stdout",
     "output_type": "stream",
     "text": [
      "\n",
      "CPU times: total: 2min 11s\n",
      "Wall time: 20.3 s\n"
     ]
    }
   ],
   "source": [
    "%%time\n",
    "\n",
    "model_CB = CatBoostRegressor(loss_function=\"RMSE\", \n",
    "                             iterations=1000,\n",
    "                             depth=10,\n",
    "                             random_state=12345,\n",
    "                             verbose=False)\n",
    "\n",
    "model_CB.fit(X_train, y_train)\n",
    "print()"
   ]
  },
  {
   "cell_type": "markdown",
   "metadata": {},
   "source": [
    "Замеряем `время предсказания` и проверяем `RMSE`"
   ]
  },
  {
   "cell_type": "code",
   "execution_count": 75,
   "metadata": {},
   "outputs": [
    {
     "name": "stdout",
     "output_type": "stream",
     "text": [
      "RMSE = 1612.538\n",
      "\n",
      "CPU times: total: 1.11 s\n",
      "Wall time: 98.7 ms\n"
     ]
    }
   ],
   "source": [
    "%%time\n",
    "predicted = model_CB.predict(X_valid)\n",
    "print(f'RMSE = {mean_squared_error(y_valid, predicted, squared=False):.3f}')\n",
    "print()"
   ]
  },
  {
   "cell_type": "markdown",
   "metadata": {},
   "source": [
    "<a id='part_4_6'></a>\n",
    "## 4.6 Проверка моделей на адекватность [▴](#head)"
   ]
  },
  {
   "cell_type": "markdown",
   "metadata": {},
   "source": [
    "Проверим предсказания наших моделей на адекватность используя **`DummyRegressor`**"
   ]
  },
  {
   "cell_type": "code",
   "execution_count": 76,
   "metadata": {
    "scrolled": true
   },
   "outputs": [
    {
     "name": "stdout",
     "output_type": "stream",
     "text": [
      "RMSE = 4581.620\n"
     ]
    }
   ],
   "source": [
    "model_D = DummyRegressor()\n",
    "model_D.fit(X_train, y_train)\n",
    "predicted = model_D.predict(X_valid)\n",
    "\n",
    "print(f'RMSE = {mean_squared_error(y_valid, predicted, squared=False):.3f}')"
   ]
  },
  {
   "cell_type": "markdown",
   "metadata": {},
   "source": [
    "Результат `DummyRegressor` намного ниже чем у наших моделей. \n",
    "\n",
    "Можем считать, что наши модели обучились адекватно."
   ]
  },
  {
   "cell_type": "markdown",
   "metadata": {},
   "source": [
    "<a id='part_5'></a>\n",
    "# 5. Анализ моделей [▴](#head)"
   ]
  },
  {
   "cell_type": "markdown",
   "metadata": {},
   "source": [
    "<a id='part_5_1'></a>\n",
    "## 5.1 Анализ на этапах предобработки [▴](#head)"
   ]
  },
  {
   "cell_type": "markdown",
   "metadata": {},
   "source": [
    "В целях эксперимента, на каждом этапе предобработки прогоняли все наши модели через валидационную выборку на дефолтных настройках гиперпараметров."
   ]
  },
  {
   "cell_type": "code",
   "execution_count": 77,
   "metadata": {},
   "outputs": [],
   "source": [
    "steps = ['Датасет неочищен, удалены NaN',\n",
    "         'Удал. аномалии - Price',\n",
    "         'Удал. аномалии - RegistrationYear',\n",
    "         'Удал. аномалии - Power',\n",
    "         'Заполн. NaN - NotRepaired',\n",
    "         'Заполн. NaN - FuelType',\n",
    "         'Заполн. NaN - Model, VehicleType, Gearbox',\n",
    "         'Удал. 55 тысяч дублей',\n",
    "         'Модели откалиброваны']\n",
    "\n",
    "model_scores = {'Decision Tree': [2437,2409,2350,2304,2265,2264,2390,2478,1879],\n",
    "                'XGBoost': [1707,1633,1574,1550,1536,1543,1630,1711,1611],\n",
    "                'Light GBM': [1738,1674,1619,1592,1592,1593,1677,1739,1598],\n",
    "                'CatBoost': [1660,1592,1527,1510,1499,1501,1585,1667,1612]}\n",
    "\n",
    "model_plot = pd.DataFrame(data=model_scores, index=steps)\n"
   ]
  },
  {
   "cell_type": "code",
   "execution_count": 78,
   "metadata": {},
   "outputs": [
    {
     "data": {
      "image/png": "[encoded data removed]",
      "text/plain": [
       "<Figure size 1440x504 with 1 Axes>"
      ]
     },
     "metadata": {
      "needs_background": "light"
     },
     "output_type": "display_data"
    }
   ],
   "source": [
    "plt.figure(figsize=(20,7))\n",
    "sns.lineplot(data=model_plot, linewidth=4.0)\n",
    "plt.grid()\n",
    "plt.xticks(rotation=70)\n",
    "plt.ylabel('RMSE')\n",
    "plt.title('Изменение RMSE у моделей на этапах очистки')\n",
    "plt.show()"
   ]
  },
  {
   "cell_type": "markdown",
   "metadata": {},
   "source": [
    "- По началу, с каждым этапом предобработки, качество наших моделей равномерно росло, но обусловлено это было тем, что вместе с очисткой датасета у нас росло количество дубликатов строк. Следовательно угадывать правильные ответы для модели было чисто статистически легче.\n",
    "- После предобработки, когда мы удалили 55 тысяч дубликатов, качество моделей упало до начального уровня.\n",
    "- После настройки гиперпараметров, качества `ДереваРешений` очень сильно выросло, однако до моделей бустинга не смогло добраться.\n",
    "- Модели, которые используют градиентный бустинг, после настройки гиперпараметров, практически сравнялись по показателям качества. Однако в плане производительности показали сильно отличающиеся результаты. Подробнее в следующем пункте.\n",
    "\n"
   ]
  },
  {
   "cell_type": "markdown",
   "metadata": {},
   "source": [
    "<a id='part_5_2'></a>\n",
    "## 5.2 Анализ финальных моделей [▴](#head)"
   ]
  },
  {
   "cell_type": "markdown",
   "metadata": {},
   "source": [
    "- После настройки гиперпараметров модели бустинга практически сравнялись по показателю качества, однако в плане времени обучения абсолютным лидером оказалась `LightGBM`, в 2 раза быстрее чем `XGBoost` и в 4 раза быстрее чем `CatBoost`\n",
    "- Так же `LightGBM` обошла всех по показателю качества, хоть и немного.\n",
    "- Время предсказания оказалось у всех моделей сильно меньше секунды, по этому считаю, что в критерии отбора лучшей модели этот показатель в нашем случае можно не учитывать."
   ]
  },
  {
   "cell_type": "markdown",
   "metadata": {},
   "source": [
    "Модель|RMSE|Время обучения (сек)|Время предсказания (сек)\n",
    "-|-|-|-\n",
    "DecisionTree|1879|0.373|0.017\n",
    "LightGBM|1598|4.78|0.64\n",
    "XGBoost|1611|11.5|0.112\n",
    "CatBoost|1612|20.9|0.106"
   ]
  },
  {
   "cell_type": "code",
   "execution_count": 79,
   "metadata": {},
   "outputs": [],
   "source": [
    "y_sp = [1879, 1598, 1611, 1612]\n",
    "x_sp =[0.373, 4.78, 11.5, 20.9]\n",
    "labels_sp = ['DecisionTree','LightGBM','XGBoost','CatBoost']\n",
    "colors_sp = ['blue', 'orange', 'green', 'violet']"
   ]
  },
  {
   "cell_type": "code",
   "execution_count": 80,
   "metadata": {},
   "outputs": [
    {
     "data": {
      "image/png": "[encoded data removed]",
      "text/plain": [
       "<Figure size 1080x504 with 1 Axes>"
      ]
     },
     "metadata": {
      "needs_background": "light"
     },
     "output_type": "display_data"
    }
   ],
   "source": [
    "plt.figure(figsize=(15,7))\n",
    "\n",
    "for i in range(4):\n",
    "    plt.scatter(x_sp[i], \n",
    "                y_sp[i], \n",
    "                c=colors_sp[i], \n",
    "                s=350, \n",
    "                label=labels_sp[i])\n",
    "plt.grid()\n",
    "plt.legend()\n",
    "plt.title('Соотношение качества модели к времени обучения')\n",
    "plt.xlabel('Время обучения (сек)')\n",
    "plt.ylabel('RMSE')\n",
    "plt.show()"
   ]
  },
  {
   "cell_type": "markdown",
   "metadata": {},
   "source": [
    "<a id='part_5_3'></a>\n",
    "## 5.3 Тестирование лучшей модели [▴](#head)"
   ]
  },
  {
   "cell_type": "markdown",
   "metadata": {},
   "source": [
    "Для финального тестирования выбираем модель `LightGBM`, самое время прогнать ее на тестовой выборке."
   ]
  },
  {
   "cell_type": "code",
   "execution_count": 81,
   "metadata": {
    "scrolled": true
   },
   "outputs": [
    {
     "name": "stdout",
     "output_type": "stream",
     "text": [
      "RMSE = 1579.801\n",
      "\n"
     ]
    }
   ],
   "source": [
    "predicted = model_LGBM.predict(X_test)\n",
    "print(f'RMSE = {mean_squared_error(y_test, predicted, squared=False):.3f}')\n",
    "print()"
   ]
  },
  {
   "cell_type": "markdown",
   "metadata": {},
   "source": [
    "Результат оказался даже лучше чем на тестовой и валидационой выборке, что не может не радовать. Из этого можно сделать вывод, что наша модель не переобучилась и адекватно ведет себя на неизвестных данных."
   ]
  },
  {
   "cell_type": "markdown",
   "metadata": {},
   "source": [
    "<a id='part_5_conclusions'></a>\n",
    "## Выводы [▴](#head)"
   ]
  },
  {
   "cell_type": "markdown",
   "metadata": {},
   "source": [
    "- Основную сложность для нашего исследования оказали крайне грязные входные данные. \n",
    "- Датасет содержал большое количество: \n",
    "    - пропущенных значений\n",
    "    - аномальных значений\n",
    "    - дубликатов строк\n",
    "- По итогу предобработки мы потеряли 20% от исходного датасета, что уменьшило его с `350 тыс.` строк до `280 тыс.`\n",
    "- Для работы с категориальными данными мы выбрали способ преобразования `Ordinal Encoding` вместо `One Hot Encoding`, чтобы не плодить количество признаков до 300 штук, что оказало бы пагубное влияние на производительность обучения наших моделей.\n",
    "- По итогу тестирования однозначным лидером по производительности и качеству оказалась модель `LightGBM` именно ее мы выберем для нашего заказчика."
   ]
  },
  {
   "cell_type": "markdown",
   "metadata": {},
   "source": [
    "<a id='check_list'></a>\n",
    "\n",
    "## Чек-лист готовности проекта [▴](#head)"
   ]
  },
  {
   "cell_type": "markdown",
   "metadata": {},
   "source": [
    "- [x]  Jupyter Notebook открыт\n",
    "- [x]  Весь код выполняется без ошибок\n",
    "- [x]  Ячейки с кодом расположены в порядке исполнения\n",
    "- [x]  Выполнена загрузка и подготовка данных\n",
    "- [x]  Выполнено обучение моделей\n",
    "- [x]  Есть анализ скорости работы и качества моделей"
   ]
  }
 ],
 "metadata": {
  "ExecuteTimeLog": [
   {
    "duration": 761,
    "start_time": "2022-05-30T21:40:25.321Z"
   },
   {
    "duration": 5,
    "start_time": "2022-05-30T21:40:26.084Z"
   },
   {
    "duration": 3,
    "start_time": "2022-05-30T21:40:26.091Z"
   },
   {
    "duration": 37,
    "start_time": "2022-05-30T21:40:26.096Z"
   },
   {
    "duration": 21,
    "start_time": "2022-05-30T21:40:26.151Z"
   },
   {
    "duration": 98,
    "start_time": "2022-05-30T21:40:26.174Z"
   },
   {
    "duration": 12,
    "start_time": "2022-05-30T21:40:26.275Z"
   },
   {
    "duration": 8,
    "start_time": "2022-05-30T21:40:26.289Z"
   },
   {
    "duration": 11,
    "start_time": "2022-05-30T21:40:26.298Z"
   },
   {
    "duration": 8,
    "start_time": "2022-05-30T21:40:26.312Z"
   },
   {
    "duration": 6,
    "start_time": "2022-05-30T21:40:26.321Z"
   },
   {
    "duration": 28,
    "start_time": "2022-05-30T21:40:26.329Z"
   },
   {
    "duration": 14,
    "start_time": "2022-05-30T21:40:26.358Z"
   },
   {
    "duration": 8,
    "start_time": "2022-05-30T21:40:26.374Z"
   },
   {
    "duration": 12,
    "start_time": "2022-05-30T21:40:26.383Z"
   },
   {
    "duration": 6,
    "start_time": "2022-05-30T21:40:26.397Z"
   },
   {
    "duration": 4,
    "start_time": "2022-05-30T21:40:26.405Z"
   },
   {
    "duration": 7,
    "start_time": "2022-05-30T21:40:26.410Z"
   },
   {
    "duration": 36,
    "start_time": "2022-05-30T21:40:26.418Z"
   },
   {
    "duration": 14,
    "start_time": "2022-05-30T21:40:26.456Z"
   },
   {
    "duration": 14,
    "start_time": "2022-05-30T21:40:26.472Z"
   },
   {
    "duration": 8,
    "start_time": "2022-05-30T21:40:26.488Z"
   },
   {
    "duration": 9,
    "start_time": "2022-05-30T21:40:26.497Z"
   },
   {
    "duration": 12,
    "start_time": "2022-05-30T21:40:26.508Z"
   },
   {
    "duration": 43,
    "start_time": "2022-05-30T21:40:26.521Z"
   },
   {
    "duration": 6,
    "start_time": "2022-05-30T21:40:26.565Z"
   },
   {
    "duration": 12,
    "start_time": "2022-05-30T21:40:26.572Z"
   },
   {
    "duration": 328,
    "start_time": "2022-05-30T21:40:26.587Z"
   },
   {
    "duration": 494,
    "start_time": "2022-05-30T21:40:26.916Z"
   },
   {
    "duration": 10,
    "start_time": "2022-05-30T21:40:27.413Z"
   },
   {
    "duration": 546,
    "start_time": "2022-05-30T21:40:27.424Z"
   },
   {
    "duration": 331,
    "start_time": "2022-05-30T21:40:27.972Z"
   },
   {
    "duration": 122,
    "start_time": "2022-05-30T21:40:28.305Z"
   },
   {
    "duration": 13,
    "start_time": "2022-05-30T21:40:28.428Z"
   },
   {
    "duration": 212,
    "start_time": "2022-05-30T21:40:28.451Z"
   },
   {
    "duration": 3,
    "start_time": "2022-05-30T21:40:28.665Z"
   },
   {
    "duration": 735,
    "start_time": "2022-05-30T21:40:28.669Z"
   },
   {
    "duration": 175,
    "start_time": "2022-05-30T21:40:29.406Z"
   },
   {
    "duration": 50,
    "start_time": "2022-05-30T21:40:29.583Z"
   },
   {
    "duration": 74,
    "start_time": "2022-05-30T21:40:29.635Z"
   },
   {
    "duration": 21,
    "start_time": "2022-05-30T21:40:29.711Z"
   },
   {
    "duration": 10,
    "start_time": "2022-05-30T21:40:29.752Z"
   },
   {
    "duration": 32,
    "start_time": "2022-05-30T21:40:29.763Z"
   },
   {
    "duration": 2225,
    "start_time": "2022-05-30T21:40:29.797Z"
   },
   {
    "duration": 422,
    "start_time": "2022-05-30T21:40:32.023Z"
   },
   {
    "duration": 423,
    "start_time": "2022-05-30T21:40:32.452Z"
   },
   {
    "duration": 6,
    "start_time": "2022-05-30T21:40:32.876Z"
   },
   {
    "duration": 404,
    "start_time": "2022-05-30T21:40:32.884Z"
   },
   {
    "duration": 165,
    "start_time": "2022-05-30T21:40:33.289Z"
   },
   {
    "duration": 156,
    "start_time": "2022-05-30T21:40:33.456Z"
   },
   {
    "duration": 162,
    "start_time": "2022-05-30T21:40:33.614Z"
   },
   {
    "duration": 159,
    "start_time": "2022-05-30T21:40:33.778Z"
   },
   {
    "duration": 3,
    "start_time": "2022-05-30T21:40:33.939Z"
   },
   {
    "duration": 55,
    "start_time": "2022-05-30T21:40:33.951Z"
   },
   {
    "duration": 24,
    "start_time": "2022-05-30T21:40:34.007Z"
   },
   {
    "duration": 207,
    "start_time": "2022-05-30T21:40:34.032Z"
   },
   {
    "duration": 19,
    "start_time": "2022-05-30T21:40:34.240Z"
   },
   {
    "duration": 12,
    "start_time": "2022-05-30T21:40:34.261Z"
   },
   {
    "duration": 8,
    "start_time": "2022-05-30T21:40:34.274Z"
   },
   {
    "duration": 14,
    "start_time": "2022-05-30T21:40:34.284Z"
   },
   {
    "duration": 201,
    "start_time": "2022-05-30T21:40:34.299Z"
   },
   {
    "duration": 7,
    "start_time": "2022-05-30T21:40:34.501Z"
   },
   {
    "duration": 412,
    "start_time": "2022-05-30T21:40:34.510Z"
   },
   {
    "duration": 165,
    "start_time": "2022-05-30T21:40:34.924Z"
   },
   {
    "duration": 205,
    "start_time": "2022-05-30T21:40:35.090Z"
   },
   {
    "duration": 16,
    "start_time": "2022-05-30T21:40:35.298Z"
   },
   {
    "duration": 40,
    "start_time": "2022-05-30T21:40:35.315Z"
   },
   {
    "duration": 40,
    "start_time": "2022-05-31T16:59:43.091Z"
   },
   {
    "duration": 3,
    "start_time": "2022-05-31T18:33:19.102Z"
   },
   {
    "duration": 4,
    "start_time": "2022-05-31T18:33:23.245Z"
   },
   {
    "duration": 3,
    "start_time": "2022-05-31T18:33:45.515Z"
   },
   {
    "duration": 6,
    "start_time": "2022-05-31T19:06:00.876Z"
   },
   {
    "duration": 3,
    "start_time": "2022-05-31T19:06:05.011Z"
   },
   {
    "duration": 65,
    "start_time": "2022-05-31T19:07:05.945Z"
   },
   {
    "duration": 1757,
    "start_time": "2022-05-31T19:10:51.079Z"
   },
   {
    "duration": 5,
    "start_time": "2022-05-31T19:10:52.838Z"
   },
   {
    "duration": 5,
    "start_time": "2022-05-31T19:10:52.844Z"
   },
   {
    "duration": 68,
    "start_time": "2022-05-31T19:10:52.850Z"
   },
   {
    "duration": 19,
    "start_time": "2022-05-31T19:10:52.920Z"
   },
   {
    "duration": 89,
    "start_time": "2022-05-31T19:10:52.940Z"
   },
   {
    "duration": 14,
    "start_time": "2022-05-31T19:10:53.031Z"
   },
   {
    "duration": 15,
    "start_time": "2022-05-31T19:10:53.046Z"
   },
   {
    "duration": 47,
    "start_time": "2022-05-31T19:10:53.064Z"
   },
   {
    "duration": 10,
    "start_time": "2022-05-31T19:10:53.113Z"
   },
   {
    "duration": 5,
    "start_time": "2022-05-31T19:10:53.125Z"
   },
   {
    "duration": 20,
    "start_time": "2022-05-31T19:10:53.131Z"
   },
   {
    "duration": 33,
    "start_time": "2022-05-31T19:10:53.153Z"
   },
   {
    "duration": 6,
    "start_time": "2022-05-31T19:10:53.196Z"
   },
   {
    "duration": 8,
    "start_time": "2022-05-31T19:10:53.204Z"
   },
   {
    "duration": 10,
    "start_time": "2022-05-31T19:10:53.214Z"
   },
   {
    "duration": 5,
    "start_time": "2022-05-31T19:10:53.225Z"
   },
   {
    "duration": 5,
    "start_time": "2022-05-31T19:10:53.231Z"
   },
   {
    "duration": 6,
    "start_time": "2022-05-31T19:10:53.238Z"
   },
   {
    "duration": 27,
    "start_time": "2022-05-31T19:10:53.254Z"
   },
   {
    "duration": 25,
    "start_time": "2022-05-31T19:10:53.282Z"
   },
   {
    "duration": 12,
    "start_time": "2022-05-31T19:10:53.309Z"
   },
   {
    "duration": 14,
    "start_time": "2022-05-31T19:10:53.322Z"
   },
   {
    "duration": 36,
    "start_time": "2022-05-31T19:10:53.337Z"
   },
   {
    "duration": 26,
    "start_time": "2022-05-31T19:10:53.378Z"
   },
   {
    "duration": 6,
    "start_time": "2022-05-31T19:10:53.407Z"
   },
   {
    "duration": 14,
    "start_time": "2022-05-31T19:10:53.414Z"
   },
   {
    "duration": 367,
    "start_time": "2022-05-31T19:10:53.429Z"
   },
   {
    "duration": 513,
    "start_time": "2022-05-31T19:10:53.798Z"
   },
   {
    "duration": 8,
    "start_time": "2022-05-31T19:10:54.313Z"
   },
   {
    "duration": 657,
    "start_time": "2022-05-31T19:10:54.323Z"
   },
   {
    "duration": 267,
    "start_time": "2022-05-31T19:10:54.985Z"
   },
   {
    "duration": 128,
    "start_time": "2022-05-31T19:10:55.261Z"
   },
   {
    "duration": 12,
    "start_time": "2022-05-31T19:10:55.391Z"
   },
   {
    "duration": 285,
    "start_time": "2022-05-31T19:10:55.404Z"
   },
   {
    "duration": 3,
    "start_time": "2022-05-31T19:10:55.690Z"
   },
   {
    "duration": 7,
    "start_time": "2022-05-31T19:10:55.694Z"
   },
   {
    "duration": 8,
    "start_time": "2022-05-31T19:10:55.703Z"
   },
   {
    "duration": 10,
    "start_time": "2022-05-31T19:10:55.713Z"
   },
   {
    "duration": 10,
    "start_time": "2022-05-31T19:10:55.724Z"
   },
   {
    "duration": 8,
    "start_time": "2022-05-31T19:10:55.738Z"
   },
   {
    "duration": 40,
    "start_time": "2022-05-31T19:10:55.747Z"
   },
   {
    "duration": 7,
    "start_time": "2022-05-31T19:10:55.788Z"
   },
   {
    "duration": 9,
    "start_time": "2022-05-31T19:10:55.796Z"
   },
   {
    "duration": 7,
    "start_time": "2022-05-31T19:10:55.806Z"
   },
   {
    "duration": 880,
    "start_time": "2022-05-31T19:10:55.814Z"
   },
   {
    "duration": 187,
    "start_time": "2022-05-31T19:10:56.695Z"
   },
   {
    "duration": 48,
    "start_time": "2022-05-31T19:10:56.886Z"
   },
   {
    "duration": 84,
    "start_time": "2022-05-31T19:10:56.937Z"
   },
   {
    "duration": 19,
    "start_time": "2022-05-31T19:10:57.023Z"
   },
   {
    "duration": 20,
    "start_time": "2022-05-31T19:10:57.044Z"
   },
   {
    "duration": 53,
    "start_time": "2022-05-31T19:10:57.066Z"
   },
   {
    "duration": 2378,
    "start_time": "2022-05-31T19:10:57.120Z"
   },
   {
    "duration": 497,
    "start_time": "2022-05-31T19:10:59.499Z"
   },
   {
    "duration": 445,
    "start_time": "2022-05-31T19:10:59.998Z"
   },
   {
    "duration": 5,
    "start_time": "2022-05-31T19:11:00.445Z"
   },
   {
    "duration": 461,
    "start_time": "2022-05-31T19:11:00.457Z"
   },
   {
    "duration": 197,
    "start_time": "2022-05-31T19:11:00.920Z"
   },
   {
    "duration": 171,
    "start_time": "2022-05-31T19:11:01.119Z"
   },
   {
    "duration": 225,
    "start_time": "2022-05-31T19:11:01.292Z"
   },
   {
    "duration": 225,
    "start_time": "2022-05-31T19:11:01.519Z"
   },
   {
    "duration": 3,
    "start_time": "2022-05-31T19:11:01.746Z"
   },
   {
    "duration": 123,
    "start_time": "2022-05-31T19:11:01.751Z"
   },
   {
    "duration": 29,
    "start_time": "2022-05-31T19:11:01.878Z"
   },
   {
    "duration": 224,
    "start_time": "2022-05-31T19:11:01.909Z"
   },
   {
    "duration": 21,
    "start_time": "2022-05-31T19:11:02.135Z"
   },
   {
    "duration": 40,
    "start_time": "2022-05-31T19:11:02.159Z"
   },
   {
    "duration": 15,
    "start_time": "2022-05-31T19:11:02.203Z"
   },
   {
    "duration": 25,
    "start_time": "2022-05-31T19:11:02.220Z"
   },
   {
    "duration": 272,
    "start_time": "2022-05-31T19:11:02.247Z"
   },
   {
    "duration": 9,
    "start_time": "2022-05-31T19:11:02.521Z"
   },
   {
    "duration": 593,
    "start_time": "2022-05-31T19:11:02.532Z"
   },
   {
    "duration": 211,
    "start_time": "2022-05-31T19:11:03.127Z"
   },
   {
    "duration": 212,
    "start_time": "2022-05-31T19:11:03.340Z"
   },
   {
    "duration": 37,
    "start_time": "2022-05-31T19:11:03.554Z"
   },
   {
    "duration": 38,
    "start_time": "2022-05-31T19:11:03.592Z"
   },
   {
    "duration": 28,
    "start_time": "2022-05-31T19:18:36.451Z"
   },
   {
    "duration": 36,
    "start_time": "2022-05-31T19:18:51.026Z"
   },
   {
    "duration": 6,
    "start_time": "2022-05-31T19:26:21.317Z"
   },
   {
    "duration": 24,
    "start_time": "2022-05-31T19:27:39.775Z"
   },
   {
    "duration": 39,
    "start_time": "2022-05-31T19:28:34.886Z"
   },
   {
    "duration": 49,
    "start_time": "2022-05-31T19:31:48.320Z"
   },
   {
    "duration": 77,
    "start_time": "2022-05-31T19:33:46.041Z"
   },
   {
    "duration": 96,
    "start_time": "2022-05-31T19:35:01.318Z"
   },
   {
    "duration": 81,
    "start_time": "2022-05-31T19:35:23.540Z"
   },
   {
    "duration": 49,
    "start_time": "2022-05-31T19:35:27.961Z"
   },
   {
    "duration": 46,
    "start_time": "2022-05-31T19:36:32.442Z"
   },
   {
    "duration": 791,
    "start_time": "2022-05-31T19:36:55.730Z"
   },
   {
    "duration": 7,
    "start_time": "2022-05-31T19:36:56.522Z"
   },
   {
    "duration": 3,
    "start_time": "2022-05-31T19:36:56.530Z"
   },
   {
    "duration": 52,
    "start_time": "2022-05-31T19:36:56.535Z"
   },
   {
    "duration": 13,
    "start_time": "2022-05-31T19:36:56.589Z"
   },
   {
    "duration": 95,
    "start_time": "2022-05-31T19:36:56.603Z"
   },
   {
    "duration": 11,
    "start_time": "2022-05-31T19:36:56.700Z"
   },
   {
    "duration": 4,
    "start_time": "2022-05-31T19:36:56.713Z"
   },
   {
    "duration": 6,
    "start_time": "2022-05-31T19:36:56.718Z"
   },
   {
    "duration": 5,
    "start_time": "2022-05-31T19:36:56.726Z"
   },
   {
    "duration": 15,
    "start_time": "2022-05-31T19:36:56.754Z"
   },
   {
    "duration": 13,
    "start_time": "2022-05-31T19:36:56.771Z"
   },
   {
    "duration": 8,
    "start_time": "2022-05-31T19:36:56.786Z"
   },
   {
    "duration": 10,
    "start_time": "2022-05-31T19:36:56.796Z"
   },
   {
    "duration": 8,
    "start_time": "2022-05-31T19:36:56.807Z"
   },
   {
    "duration": 5,
    "start_time": "2022-05-31T19:36:56.816Z"
   },
   {
    "duration": 4,
    "start_time": "2022-05-31T19:36:56.823Z"
   },
   {
    "duration": 17,
    "start_time": "2022-05-31T19:36:56.854Z"
   },
   {
    "duration": 5,
    "start_time": "2022-05-31T19:36:56.872Z"
   },
   {
    "duration": 13,
    "start_time": "2022-05-31T19:36:56.879Z"
   },
   {
    "duration": 12,
    "start_time": "2022-05-31T19:36:56.893Z"
   },
   {
    "duration": 8,
    "start_time": "2022-05-31T19:36:56.906Z"
   },
   {
    "duration": 9,
    "start_time": "2022-05-31T19:36:56.915Z"
   },
   {
    "duration": 35,
    "start_time": "2022-05-31T19:36:56.925Z"
   },
   {
    "duration": 21,
    "start_time": "2022-05-31T19:36:56.964Z"
   },
   {
    "duration": 5,
    "start_time": "2022-05-31T19:36:56.986Z"
   },
   {
    "duration": 14,
    "start_time": "2022-05-31T19:36:56.992Z"
   },
   {
    "duration": 332,
    "start_time": "2022-05-31T19:36:57.010Z"
   },
   {
    "duration": 475,
    "start_time": "2022-05-31T19:36:57.344Z"
   },
   {
    "duration": 10,
    "start_time": "2022-05-31T19:36:57.820Z"
   },
   {
    "duration": 598,
    "start_time": "2022-05-31T19:36:57.831Z"
   },
   {
    "duration": 260,
    "start_time": "2022-05-31T19:36:58.431Z"
   },
   {
    "duration": 117,
    "start_time": "2022-05-31T19:36:58.693Z"
   },
   {
    "duration": 12,
    "start_time": "2022-05-31T19:36:58.812Z"
   },
   {
    "duration": 230,
    "start_time": "2022-05-31T19:36:58.825Z"
   },
   {
    "duration": 5,
    "start_time": "2022-05-31T19:36:59.065Z"
   },
   {
    "duration": 7,
    "start_time": "2022-05-31T19:36:59.072Z"
   },
   {
    "duration": 6,
    "start_time": "2022-05-31T19:36:59.081Z"
   },
   {
    "duration": 9,
    "start_time": "2022-05-31T19:36:59.089Z"
   },
   {
    "duration": 8,
    "start_time": "2022-05-31T19:36:59.100Z"
   },
   {
    "duration": 5,
    "start_time": "2022-05-31T19:36:59.110Z"
   },
   {
    "duration": 12,
    "start_time": "2022-05-31T19:36:59.116Z"
   },
   {
    "duration": 8,
    "start_time": "2022-05-31T19:36:59.130Z"
   },
   {
    "duration": 12,
    "start_time": "2022-05-31T19:36:59.139Z"
   },
   {
    "duration": 26,
    "start_time": "2022-05-31T19:36:59.153Z"
   },
   {
    "duration": 808,
    "start_time": "2022-05-31T19:36:59.182Z"
   },
   {
    "duration": 92,
    "start_time": "2022-05-31T19:36:59.992Z"
   },
   {
    "duration": 0,
    "start_time": "2022-05-31T19:37:00.086Z"
   },
   {
    "duration": 0,
    "start_time": "2022-05-31T19:37:00.087Z"
   },
   {
    "duration": 0,
    "start_time": "2022-05-31T19:37:00.089Z"
   },
   {
    "duration": 0,
    "start_time": "2022-05-31T19:37:00.090Z"
   },
   {
    "duration": 0,
    "start_time": "2022-05-31T19:37:00.092Z"
   },
   {
    "duration": 0,
    "start_time": "2022-05-31T19:37:00.093Z"
   },
   {
    "duration": 0,
    "start_time": "2022-05-31T19:37:00.094Z"
   },
   {
    "duration": 0,
    "start_time": "2022-05-31T19:37:00.096Z"
   },
   {
    "duration": 0,
    "start_time": "2022-05-31T19:37:00.097Z"
   },
   {
    "duration": 0,
    "start_time": "2022-05-31T19:37:00.099Z"
   },
   {
    "duration": 0,
    "start_time": "2022-05-31T19:37:00.100Z"
   },
   {
    "duration": 1,
    "start_time": "2022-05-31T19:37:00.101Z"
   },
   {
    "duration": 0,
    "start_time": "2022-05-31T19:37:00.103Z"
   },
   {
    "duration": 0,
    "start_time": "2022-05-31T19:37:00.104Z"
   },
   {
    "duration": 0,
    "start_time": "2022-05-31T19:37:00.105Z"
   },
   {
    "duration": 0,
    "start_time": "2022-05-31T19:37:00.107Z"
   },
   {
    "duration": 0,
    "start_time": "2022-05-31T19:37:00.108Z"
   },
   {
    "duration": 0,
    "start_time": "2022-05-31T19:37:00.109Z"
   },
   {
    "duration": 0,
    "start_time": "2022-05-31T19:37:00.110Z"
   },
   {
    "duration": 0,
    "start_time": "2022-05-31T19:37:00.111Z"
   },
   {
    "duration": 0,
    "start_time": "2022-05-31T19:37:00.156Z"
   },
   {
    "duration": 0,
    "start_time": "2022-05-31T19:37:00.159Z"
   },
   {
    "duration": 0,
    "start_time": "2022-05-31T19:37:00.159Z"
   },
   {
    "duration": 0,
    "start_time": "2022-05-31T19:37:00.160Z"
   },
   {
    "duration": 0,
    "start_time": "2022-05-31T19:37:00.161Z"
   },
   {
    "duration": 0,
    "start_time": "2022-05-31T19:37:00.163Z"
   },
   {
    "duration": 0,
    "start_time": "2022-05-31T19:37:00.166Z"
   },
   {
    "duration": 0,
    "start_time": "2022-05-31T19:37:00.166Z"
   },
   {
    "duration": 0,
    "start_time": "2022-05-31T19:37:00.167Z"
   },
   {
    "duration": 0,
    "start_time": "2022-05-31T19:37:00.168Z"
   },
   {
    "duration": 0,
    "start_time": "2022-05-31T19:37:00.168Z"
   },
   {
    "duration": 788,
    "start_time": "2022-05-31T19:38:26.346Z"
   },
   {
    "duration": 4,
    "start_time": "2022-05-31T19:38:27.136Z"
   },
   {
    "duration": 6,
    "start_time": "2022-05-31T19:38:27.142Z"
   },
   {
    "duration": 45,
    "start_time": "2022-05-31T19:38:27.149Z"
   },
   {
    "duration": 15,
    "start_time": "2022-05-31T19:38:27.196Z"
   },
   {
    "duration": 88,
    "start_time": "2022-05-31T19:38:27.213Z"
   },
   {
    "duration": 12,
    "start_time": "2022-05-31T19:38:27.303Z"
   },
   {
    "duration": 4,
    "start_time": "2022-05-31T19:38:27.316Z"
   },
   {
    "duration": 6,
    "start_time": "2022-05-31T19:38:27.321Z"
   },
   {
    "duration": 27,
    "start_time": "2022-05-31T19:38:27.328Z"
   },
   {
    "duration": 6,
    "start_time": "2022-05-31T19:38:27.367Z"
   },
   {
    "duration": 14,
    "start_time": "2022-05-31T19:38:27.375Z"
   },
   {
    "duration": 8,
    "start_time": "2022-05-31T19:38:27.390Z"
   },
   {
    "duration": 6,
    "start_time": "2022-05-31T19:38:27.401Z"
   },
   {
    "duration": 9,
    "start_time": "2022-05-31T19:38:27.408Z"
   },
   {
    "duration": 6,
    "start_time": "2022-05-31T19:38:27.418Z"
   },
   {
    "duration": 36,
    "start_time": "2022-05-31T19:38:27.425Z"
   },
   {
    "duration": 4,
    "start_time": "2022-05-31T19:38:27.467Z"
   },
   {
    "duration": 7,
    "start_time": "2022-05-31T19:38:27.473Z"
   },
   {
    "duration": 14,
    "start_time": "2022-05-31T19:38:27.482Z"
   },
   {
    "duration": 12,
    "start_time": "2022-05-31T19:38:27.497Z"
   },
   {
    "duration": 8,
    "start_time": "2022-05-31T19:38:27.511Z"
   },
   {
    "duration": 9,
    "start_time": "2022-05-31T19:38:27.520Z"
   },
   {
    "duration": 42,
    "start_time": "2022-05-31T19:38:27.530Z"
   },
   {
    "duration": 19,
    "start_time": "2022-05-31T19:38:27.574Z"
   },
   {
    "duration": 6,
    "start_time": "2022-05-31T19:38:27.594Z"
   },
   {
    "duration": 13,
    "start_time": "2022-05-31T19:38:27.602Z"
   },
   {
    "duration": 322,
    "start_time": "2022-05-31T19:38:27.617Z"
   },
   {
    "duration": 469,
    "start_time": "2022-05-31T19:38:27.941Z"
   },
   {
    "duration": 7,
    "start_time": "2022-05-31T19:38:28.412Z"
   },
   {
    "duration": 549,
    "start_time": "2022-05-31T19:38:28.421Z"
   },
   {
    "duration": 351,
    "start_time": "2022-05-31T19:38:28.972Z"
   },
   {
    "duration": 115,
    "start_time": "2022-05-31T19:38:29.324Z"
   },
   {
    "duration": 27,
    "start_time": "2022-05-31T19:38:29.440Z"
   },
   {
    "duration": 214,
    "start_time": "2022-05-31T19:38:29.469Z"
   },
   {
    "duration": 2,
    "start_time": "2022-05-31T19:38:29.685Z"
   },
   {
    "duration": 4,
    "start_time": "2022-05-31T19:38:29.689Z"
   },
   {
    "duration": 5,
    "start_time": "2022-05-31T19:38:29.694Z"
   },
   {
    "duration": 7,
    "start_time": "2022-05-31T19:38:29.700Z"
   },
   {
    "duration": 6,
    "start_time": "2022-05-31T19:38:29.708Z"
   },
   {
    "duration": 7,
    "start_time": "2022-05-31T19:38:29.718Z"
   },
   {
    "duration": 15,
    "start_time": "2022-05-31T19:38:29.727Z"
   },
   {
    "duration": 25,
    "start_time": "2022-05-31T19:38:29.743Z"
   },
   {
    "duration": 7,
    "start_time": "2022-05-31T19:38:29.770Z"
   },
   {
    "duration": 5,
    "start_time": "2022-05-31T19:38:29.779Z"
   },
   {
    "duration": 763,
    "start_time": "2022-05-31T19:38:29.786Z"
   },
   {
    "duration": 38,
    "start_time": "2022-05-31T19:38:30.551Z"
   },
   {
    "duration": 44,
    "start_time": "2022-05-31T19:38:30.590Z"
   },
   {
    "duration": 195,
    "start_time": "2022-05-31T19:38:30.636Z"
   },
   {
    "duration": 58,
    "start_time": "2022-05-31T19:38:30.833Z"
   },
   {
    "duration": 78,
    "start_time": "2022-05-31T19:38:30.893Z"
   },
   {
    "duration": 20,
    "start_time": "2022-05-31T19:38:30.972Z"
   },
   {
    "duration": 9,
    "start_time": "2022-05-31T19:38:30.994Z"
   },
   {
    "duration": 64,
    "start_time": "2022-05-31T19:38:31.005Z"
   },
   {
    "duration": 2231,
    "start_time": "2022-05-31T19:38:31.071Z"
   },
   {
    "duration": 446,
    "start_time": "2022-05-31T19:38:33.303Z"
   },
   {
    "duration": 443,
    "start_time": "2022-05-31T19:38:33.751Z"
   },
   {
    "duration": 6,
    "start_time": "2022-05-31T19:38:34.196Z"
   },
   {
    "duration": 421,
    "start_time": "2022-05-31T19:38:34.204Z"
   },
   {
    "duration": 168,
    "start_time": "2022-05-31T19:38:34.627Z"
   },
   {
    "duration": 147,
    "start_time": "2022-05-31T19:38:34.796Z"
   },
   {
    "duration": 156,
    "start_time": "2022-05-31T19:38:34.944Z"
   },
   {
    "duration": 157,
    "start_time": "2022-05-31T19:38:35.101Z"
   },
   {
    "duration": 3,
    "start_time": "2022-05-31T19:38:35.259Z"
   },
   {
    "duration": 63,
    "start_time": "2022-05-31T19:38:35.263Z"
   },
   {
    "duration": 28,
    "start_time": "2022-05-31T19:38:35.328Z"
   },
   {
    "duration": 177,
    "start_time": "2022-05-31T19:38:35.358Z"
   },
   {
    "duration": 31,
    "start_time": "2022-05-31T19:38:35.536Z"
   },
   {
    "duration": 14,
    "start_time": "2022-05-31T19:38:35.568Z"
   },
   {
    "duration": 9,
    "start_time": "2022-05-31T19:38:35.583Z"
   },
   {
    "duration": 17,
    "start_time": "2022-05-31T19:38:35.594Z"
   },
   {
    "duration": 193,
    "start_time": "2022-05-31T19:38:35.612Z"
   },
   {
    "duration": 7,
    "start_time": "2022-05-31T19:38:35.806Z"
   },
   {
    "duration": 421,
    "start_time": "2022-05-31T19:38:35.815Z"
   },
   {
    "duration": 164,
    "start_time": "2022-05-31T19:38:36.238Z"
   },
   {
    "duration": 165,
    "start_time": "2022-05-31T19:38:36.403Z"
   },
   {
    "duration": 14,
    "start_time": "2022-05-31T19:38:36.570Z"
   },
   {
    "duration": 21,
    "start_time": "2022-05-31T19:38:36.585Z"
   },
   {
    "duration": 48,
    "start_time": "2022-05-31T19:40:36.293Z"
   },
   {
    "duration": 90,
    "start_time": "2022-05-31T19:43:02.731Z"
   },
   {
    "duration": 63,
    "start_time": "2022-05-31T19:44:10.061Z"
   },
   {
    "duration": 2,
    "start_time": "2022-05-31T20:01:47.513Z"
   },
   {
    "duration": 9,
    "start_time": "2022-05-31T20:23:21.990Z"
   },
   {
    "duration": 8,
    "start_time": "2022-05-31T20:23:32.932Z"
   },
   {
    "duration": 4,
    "start_time": "2022-05-31T20:23:39.772Z"
   },
   {
    "duration": 5,
    "start_time": "2022-05-31T20:26:06.466Z"
   },
   {
    "duration": 139,
    "start_time": "2022-05-31T20:28:20.023Z"
   },
   {
    "duration": 23,
    "start_time": "2022-05-31T20:36:24.784Z"
   },
   {
    "duration": 12,
    "start_time": "2022-05-31T20:36:56.377Z"
   },
   {
    "duration": 2,
    "start_time": "2022-05-31T20:37:11.803Z"
   },
   {
    "duration": 147,
    "start_time": "2022-05-31T20:37:14.103Z"
   },
   {
    "duration": 3,
    "start_time": "2022-05-31T20:38:13.410Z"
   },
   {
    "duration": 146,
    "start_time": "2022-05-31T20:38:26.181Z"
   },
   {
    "duration": 13,
    "start_time": "2022-05-31T20:38:29.967Z"
   },
   {
    "duration": 63,
    "start_time": "2022-05-31T20:38:51.777Z"
   },
   {
    "duration": 3,
    "start_time": "2022-05-31T20:39:22.069Z"
   },
   {
    "duration": 148,
    "start_time": "2022-05-31T20:39:24.328Z"
   },
   {
    "duration": 3,
    "start_time": "2022-05-31T20:39:48.087Z"
   },
   {
    "duration": 143,
    "start_time": "2022-05-31T20:39:50.322Z"
   },
   {
    "duration": 3,
    "start_time": "2022-05-31T20:41:57.680Z"
   },
   {
    "duration": 150,
    "start_time": "2022-05-31T20:42:00.555Z"
   },
   {
    "duration": 13,
    "start_time": "2022-05-31T20:44:17.384Z"
   },
   {
    "duration": 809,
    "start_time": "2022-05-31T20:45:37.779Z"
   },
   {
    "duration": 5,
    "start_time": "2022-05-31T20:45:38.590Z"
   },
   {
    "duration": 5,
    "start_time": "2022-05-31T20:45:38.597Z"
   },
   {
    "duration": 35,
    "start_time": "2022-05-31T20:45:38.604Z"
   },
   {
    "duration": 39,
    "start_time": "2022-05-31T20:45:38.641Z"
   },
   {
    "duration": 91,
    "start_time": "2022-05-31T20:45:38.684Z"
   },
   {
    "duration": 14,
    "start_time": "2022-05-31T20:45:38.782Z"
   },
   {
    "duration": 5,
    "start_time": "2022-05-31T20:45:38.798Z"
   },
   {
    "duration": 8,
    "start_time": "2022-05-31T20:45:38.805Z"
   },
   {
    "duration": 10,
    "start_time": "2022-05-31T20:45:38.814Z"
   },
   {
    "duration": 5,
    "start_time": "2022-05-31T20:45:38.826Z"
   },
   {
    "duration": 24,
    "start_time": "2022-05-31T20:45:38.832Z"
   },
   {
    "duration": 14,
    "start_time": "2022-05-31T20:45:38.859Z"
   },
   {
    "duration": 19,
    "start_time": "2022-05-31T20:45:38.877Z"
   },
   {
    "duration": 14,
    "start_time": "2022-05-31T20:45:38.898Z"
   },
   {
    "duration": 6,
    "start_time": "2022-05-31T20:45:38.913Z"
   },
   {
    "duration": 5,
    "start_time": "2022-05-31T20:45:38.921Z"
   },
   {
    "duration": 6,
    "start_time": "2022-05-31T20:45:38.927Z"
   },
   {
    "duration": 8,
    "start_time": "2022-05-31T20:45:38.935Z"
   },
   {
    "duration": 21,
    "start_time": "2022-05-31T20:45:38.944Z"
   },
   {
    "duration": 28,
    "start_time": "2022-05-31T20:45:38.966Z"
   },
   {
    "duration": 8,
    "start_time": "2022-05-31T20:45:38.995Z"
   },
   {
    "duration": 10,
    "start_time": "2022-05-31T20:45:39.005Z"
   },
   {
    "duration": 12,
    "start_time": "2022-05-31T20:45:39.016Z"
   },
   {
    "duration": 47,
    "start_time": "2022-05-31T20:45:39.029Z"
   },
   {
    "duration": 7,
    "start_time": "2022-05-31T20:45:39.080Z"
   },
   {
    "duration": 19,
    "start_time": "2022-05-31T20:45:39.089Z"
   },
   {
    "duration": 385,
    "start_time": "2022-05-31T20:45:39.109Z"
   },
   {
    "duration": 518,
    "start_time": "2022-05-31T20:45:39.495Z"
   },
   {
    "duration": 9,
    "start_time": "2022-05-31T20:45:40.015Z"
   },
   {
    "duration": 601,
    "start_time": "2022-05-31T20:45:40.026Z"
   },
   {
    "duration": 357,
    "start_time": "2022-05-31T20:45:40.628Z"
   },
   {
    "duration": 126,
    "start_time": "2022-05-31T20:45:40.987Z"
   },
   {
    "duration": 13,
    "start_time": "2022-05-31T20:45:41.115Z"
   },
   {
    "duration": 265,
    "start_time": "2022-05-31T20:45:41.129Z"
   },
   {
    "duration": 2,
    "start_time": "2022-05-31T20:45:41.398Z"
   },
   {
    "duration": 8,
    "start_time": "2022-05-31T20:45:41.402Z"
   },
   {
    "duration": 12,
    "start_time": "2022-05-31T20:45:41.411Z"
   },
   {
    "duration": 10,
    "start_time": "2022-05-31T20:45:41.425Z"
   },
   {
    "duration": 9,
    "start_time": "2022-05-31T20:45:41.437Z"
   },
   {
    "duration": 22,
    "start_time": "2022-05-31T20:45:41.451Z"
   },
   {
    "duration": 15,
    "start_time": "2022-05-31T20:45:41.478Z"
   },
   {
    "duration": 9,
    "start_time": "2022-05-31T20:45:41.495Z"
   },
   {
    "duration": 18,
    "start_time": "2022-05-31T20:45:41.506Z"
   },
   {
    "duration": 8,
    "start_time": "2022-05-31T20:45:41.526Z"
   },
   {
    "duration": 838,
    "start_time": "2022-05-31T20:45:41.536Z"
   },
   {
    "duration": 32,
    "start_time": "2022-05-31T20:45:42.381Z"
   },
   {
    "duration": 46,
    "start_time": "2022-05-31T20:45:42.414Z"
   },
   {
    "duration": 14,
    "start_time": "2022-05-31T20:45:42.465Z"
   },
   {
    "duration": 162,
    "start_time": "2022-05-31T20:45:42.482Z"
   },
   {
    "duration": 22,
    "start_time": "2022-05-31T20:45:42.646Z"
   },
   {
    "duration": 76,
    "start_time": "2022-05-31T20:45:42.677Z"
   },
   {
    "duration": 23,
    "start_time": "2022-05-31T20:45:42.754Z"
   },
   {
    "duration": 21,
    "start_time": "2022-05-31T20:45:42.778Z"
   },
   {
    "duration": 52,
    "start_time": "2022-05-31T20:45:42.801Z"
   },
   {
    "duration": 2248,
    "start_time": "2022-05-31T20:45:42.856Z"
   },
   {
    "duration": 433,
    "start_time": "2022-05-31T20:45:45.106Z"
   },
   {
    "duration": 423,
    "start_time": "2022-05-31T20:45:45.540Z"
   },
   {
    "duration": 10,
    "start_time": "2022-05-31T20:45:45.965Z"
   },
   {
    "duration": 428,
    "start_time": "2022-05-31T20:45:45.980Z"
   },
   {
    "duration": 159,
    "start_time": "2022-05-31T20:45:46.409Z"
   },
   {
    "duration": 161,
    "start_time": "2022-05-31T20:45:46.570Z"
   },
   {
    "duration": 185,
    "start_time": "2022-05-31T20:45:46.732Z"
   },
   {
    "duration": 164,
    "start_time": "2022-05-31T20:45:46.919Z"
   },
   {
    "duration": 2,
    "start_time": "2022-05-31T20:45:47.085Z"
   },
   {
    "duration": 68,
    "start_time": "2022-05-31T20:45:47.089Z"
   },
   {
    "duration": 31,
    "start_time": "2022-05-31T20:45:47.159Z"
   },
   {
    "duration": 195,
    "start_time": "2022-05-31T20:45:47.191Z"
   },
   {
    "duration": 17,
    "start_time": "2022-05-31T20:45:47.388Z"
   },
   {
    "duration": 13,
    "start_time": "2022-05-31T20:45:47.407Z"
   },
   {
    "duration": 9,
    "start_time": "2022-05-31T20:45:47.422Z"
   },
   {
    "duration": 50,
    "start_time": "2022-05-31T20:45:47.433Z"
   },
   {
    "duration": 220,
    "start_time": "2022-05-31T20:45:47.486Z"
   },
   {
    "duration": 8,
    "start_time": "2022-05-31T20:45:47.708Z"
   },
   {
    "duration": 462,
    "start_time": "2022-05-31T20:45:47.718Z"
   },
   {
    "duration": 195,
    "start_time": "2022-05-31T20:45:48.186Z"
   },
   {
    "duration": 175,
    "start_time": "2022-05-31T20:45:48.386Z"
   },
   {
    "duration": 21,
    "start_time": "2022-05-31T20:45:48.562Z"
   },
   {
    "duration": 25,
    "start_time": "2022-05-31T20:45:48.584Z"
   },
   {
    "duration": 3,
    "start_time": "2022-05-31T20:49:29.453Z"
   },
   {
    "duration": 171,
    "start_time": "2022-05-31T20:49:31.413Z"
   },
   {
    "duration": 823,
    "start_time": "2022-05-31T20:50:02.823Z"
   },
   {
    "duration": 6,
    "start_time": "2022-05-31T20:50:03.648Z"
   },
   {
    "duration": 6,
    "start_time": "2022-05-31T20:50:03.655Z"
   },
   {
    "duration": 34,
    "start_time": "2022-05-31T20:50:03.663Z"
   },
   {
    "duration": 14,
    "start_time": "2022-05-31T20:50:03.699Z"
   },
   {
    "duration": 94,
    "start_time": "2022-05-31T20:50:03.715Z"
   },
   {
    "duration": 13,
    "start_time": "2022-05-31T20:50:03.811Z"
   },
   {
    "duration": 28,
    "start_time": "2022-05-31T20:50:03.826Z"
   },
   {
    "duration": 4,
    "start_time": "2022-05-31T20:50:03.856Z"
   },
   {
    "duration": 10,
    "start_time": "2022-05-31T20:50:03.861Z"
   },
   {
    "duration": 8,
    "start_time": "2022-05-31T20:50:03.872Z"
   },
   {
    "duration": 21,
    "start_time": "2022-05-31T20:50:03.881Z"
   },
   {
    "duration": 8,
    "start_time": "2022-05-31T20:50:03.903Z"
   },
   {
    "duration": 6,
    "start_time": "2022-05-31T20:50:03.914Z"
   },
   {
    "duration": 9,
    "start_time": "2022-05-31T20:50:03.921Z"
   },
   {
    "duration": 25,
    "start_time": "2022-05-31T20:50:03.932Z"
   },
   {
    "duration": 4,
    "start_time": "2022-05-31T20:50:03.958Z"
   },
   {
    "duration": 6,
    "start_time": "2022-05-31T20:50:03.963Z"
   },
   {
    "duration": 7,
    "start_time": "2022-05-31T20:50:03.971Z"
   },
   {
    "duration": 14,
    "start_time": "2022-05-31T20:50:03.979Z"
   },
   {
    "duration": 13,
    "start_time": "2022-05-31T20:50:03.994Z"
   },
   {
    "duration": 9,
    "start_time": "2022-05-31T20:50:04.008Z"
   },
   {
    "duration": 44,
    "start_time": "2022-05-31T20:50:04.018Z"
   },
   {
    "duration": 14,
    "start_time": "2022-05-31T20:50:04.064Z"
   },
   {
    "duration": 20,
    "start_time": "2022-05-31T20:50:04.079Z"
   },
   {
    "duration": 6,
    "start_time": "2022-05-31T20:50:04.100Z"
   },
   {
    "duration": 14,
    "start_time": "2022-05-31T20:50:04.107Z"
   },
   {
    "duration": 337,
    "start_time": "2022-05-31T20:50:04.122Z"
   },
   {
    "duration": 498,
    "start_time": "2022-05-31T20:50:04.461Z"
   },
   {
    "duration": 8,
    "start_time": "2022-05-31T20:50:04.961Z"
   },
   {
    "duration": 524,
    "start_time": "2022-05-31T20:50:04.971Z"
   },
   {
    "duration": 331,
    "start_time": "2022-05-31T20:50:05.496Z"
   },
   {
    "duration": 123,
    "start_time": "2022-05-31T20:50:05.828Z"
   },
   {
    "duration": 14,
    "start_time": "2022-05-31T20:50:05.953Z"
   },
   {
    "duration": 228,
    "start_time": "2022-05-31T20:50:05.968Z"
   },
   {
    "duration": 2,
    "start_time": "2022-05-31T20:50:06.198Z"
   },
   {
    "duration": 4,
    "start_time": "2022-05-31T20:50:06.202Z"
   },
   {
    "duration": 5,
    "start_time": "2022-05-31T20:50:06.208Z"
   },
   {
    "duration": 11,
    "start_time": "2022-05-31T20:50:06.214Z"
   },
   {
    "duration": 6,
    "start_time": "2022-05-31T20:50:06.227Z"
   },
   {
    "duration": 2,
    "start_time": "2022-05-31T20:50:06.237Z"
   },
   {
    "duration": 13,
    "start_time": "2022-05-31T20:50:06.241Z"
   },
   {
    "duration": 6,
    "start_time": "2022-05-31T20:50:06.256Z"
   },
   {
    "duration": 10,
    "start_time": "2022-05-31T20:50:06.264Z"
   },
   {
    "duration": 5,
    "start_time": "2022-05-31T20:50:06.275Z"
   },
   {
    "duration": 725,
    "start_time": "2022-05-31T20:50:06.281Z"
   },
   {
    "duration": 32,
    "start_time": "2022-05-31T20:50:07.008Z"
   },
   {
    "duration": 53,
    "start_time": "2022-05-31T20:50:07.041Z"
   },
   {
    "duration": 3,
    "start_time": "2022-05-31T20:50:07.095Z"
   },
   {
    "duration": 155,
    "start_time": "2022-05-31T20:50:07.100Z"
   },
   {
    "duration": 12,
    "start_time": "2022-05-31T20:50:07.257Z"
   },
   {
    "duration": 62,
    "start_time": "2022-05-31T20:50:07.271Z"
   },
   {
    "duration": 2145,
    "start_time": "2022-05-31T20:50:07.355Z"
   },
   {
    "duration": 427,
    "start_time": "2022-05-31T20:50:09.502Z"
   },
   {
    "duration": 370,
    "start_time": "2022-05-31T20:50:09.931Z"
   },
   {
    "duration": 7,
    "start_time": "2022-05-31T20:50:10.303Z"
   },
   {
    "duration": 388,
    "start_time": "2022-05-31T20:50:10.311Z"
   },
   {
    "duration": 143,
    "start_time": "2022-05-31T20:50:10.701Z"
   },
   {
    "duration": 168,
    "start_time": "2022-05-31T20:50:10.846Z"
   },
   {
    "duration": 158,
    "start_time": "2022-05-31T20:50:11.016Z"
   },
   {
    "duration": 146,
    "start_time": "2022-05-31T20:50:11.176Z"
   },
   {
    "duration": 4,
    "start_time": "2022-05-31T20:50:11.324Z"
   },
   {
    "duration": 82,
    "start_time": "2022-05-31T20:50:11.331Z"
   },
   {
    "duration": 26,
    "start_time": "2022-05-31T20:50:11.415Z"
   },
   {
    "duration": 209,
    "start_time": "2022-05-31T20:50:11.454Z"
   },
   {
    "duration": 14,
    "start_time": "2022-05-31T20:50:11.665Z"
   },
   {
    "duration": 14,
    "start_time": "2022-05-31T20:50:11.680Z"
   },
   {
    "duration": 9,
    "start_time": "2022-05-31T20:50:11.695Z"
   },
   {
    "duration": 17,
    "start_time": "2022-05-31T20:50:11.705Z"
   },
   {
    "duration": 201,
    "start_time": "2022-05-31T20:50:11.724Z"
   },
   {
    "duration": 7,
    "start_time": "2022-05-31T20:50:11.927Z"
   },
   {
    "duration": 398,
    "start_time": "2022-05-31T20:50:11.935Z"
   },
   {
    "duration": 142,
    "start_time": "2022-05-31T20:50:12.335Z"
   },
   {
    "duration": 157,
    "start_time": "2022-05-31T20:50:12.478Z"
   },
   {
    "duration": 28,
    "start_time": "2022-05-31T20:50:12.636Z"
   },
   {
    "duration": 23,
    "start_time": "2022-05-31T20:50:12.665Z"
   },
   {
    "duration": 764,
    "start_time": "2022-05-31T20:53:47.604Z"
   },
   {
    "duration": 6,
    "start_time": "2022-05-31T20:53:48.370Z"
   },
   {
    "duration": 6,
    "start_time": "2022-05-31T20:53:48.377Z"
   },
   {
    "duration": 40,
    "start_time": "2022-05-31T20:53:48.385Z"
   },
   {
    "duration": 35,
    "start_time": "2022-05-31T20:53:48.427Z"
   },
   {
    "duration": 80,
    "start_time": "2022-05-31T20:53:48.464Z"
   },
   {
    "duration": 19,
    "start_time": "2022-05-31T20:53:48.555Z"
   },
   {
    "duration": 6,
    "start_time": "2022-05-31T20:53:48.575Z"
   },
   {
    "duration": 8,
    "start_time": "2022-05-31T20:53:48.582Z"
   },
   {
    "duration": 5,
    "start_time": "2022-05-31T20:53:48.592Z"
   },
   {
    "duration": 6,
    "start_time": "2022-05-31T20:53:48.599Z"
   },
   {
    "duration": 15,
    "start_time": "2022-05-31T20:53:48.607Z"
   },
   {
    "duration": 11,
    "start_time": "2022-05-31T20:53:48.654Z"
   },
   {
    "duration": 6,
    "start_time": "2022-05-31T20:53:48.669Z"
   },
   {
    "duration": 11,
    "start_time": "2022-05-31T20:53:48.676Z"
   },
   {
    "duration": 5,
    "start_time": "2022-05-31T20:53:48.688Z"
   },
   {
    "duration": 4,
    "start_time": "2022-05-31T20:53:48.694Z"
   },
   {
    "duration": 6,
    "start_time": "2022-05-31T20:53:48.700Z"
   },
   {
    "duration": 8,
    "start_time": "2022-05-31T20:53:48.707Z"
   },
   {
    "duration": 41,
    "start_time": "2022-05-31T20:53:48.716Z"
   },
   {
    "duration": 12,
    "start_time": "2022-05-31T20:53:48.759Z"
   },
   {
    "duration": 10,
    "start_time": "2022-05-31T20:53:48.772Z"
   },
   {
    "duration": 10,
    "start_time": "2022-05-31T20:53:48.783Z"
   },
   {
    "duration": 17,
    "start_time": "2022-05-31T20:53:48.794Z"
   },
   {
    "duration": 17,
    "start_time": "2022-05-31T20:53:48.812Z"
   },
   {
    "duration": 26,
    "start_time": "2022-05-31T20:53:48.830Z"
   },
   {
    "duration": 12,
    "start_time": "2022-05-31T20:53:48.858Z"
   },
   {
    "duration": 323,
    "start_time": "2022-05-31T20:53:48.871Z"
   },
   {
    "duration": 452,
    "start_time": "2022-05-31T20:53:49.196Z"
   },
   {
    "duration": 7,
    "start_time": "2022-05-31T20:53:49.654Z"
   },
   {
    "duration": 504,
    "start_time": "2022-05-31T20:53:49.663Z"
   },
   {
    "duration": 307,
    "start_time": "2022-05-31T20:53:50.169Z"
   },
   {
    "duration": 117,
    "start_time": "2022-05-31T20:53:50.477Z"
   },
   {
    "duration": 12,
    "start_time": "2022-05-31T20:53:50.596Z"
   },
   {
    "duration": 211,
    "start_time": "2022-05-31T20:53:50.609Z"
   },
   {
    "duration": 2,
    "start_time": "2022-05-31T20:53:50.822Z"
   },
   {
    "duration": 12,
    "start_time": "2022-05-31T20:53:50.825Z"
   },
   {
    "duration": 6,
    "start_time": "2022-05-31T20:53:50.838Z"
   },
   {
    "duration": 9,
    "start_time": "2022-05-31T20:53:50.846Z"
   },
   {
    "duration": 10,
    "start_time": "2022-05-31T20:53:50.857Z"
   },
   {
    "duration": 4,
    "start_time": "2022-05-31T20:53:50.871Z"
   },
   {
    "duration": 9,
    "start_time": "2022-05-31T20:53:50.877Z"
   },
   {
    "duration": 10,
    "start_time": "2022-05-31T20:53:50.888Z"
   },
   {
    "duration": 12,
    "start_time": "2022-05-31T20:53:50.899Z"
   },
   {
    "duration": 6,
    "start_time": "2022-05-31T20:53:50.912Z"
   },
   {
    "duration": 796,
    "start_time": "2022-05-31T20:53:50.919Z"
   },
   {
    "duration": 40,
    "start_time": "2022-05-31T20:53:51.716Z"
   },
   {
    "duration": 41,
    "start_time": "2022-05-31T20:53:51.757Z"
   },
   {
    "duration": 3,
    "start_time": "2022-05-31T20:53:51.799Z"
   },
   {
    "duration": 145,
    "start_time": "2022-05-31T20:53:51.803Z"
   },
   {
    "duration": 12,
    "start_time": "2022-05-31T20:53:51.954Z"
   },
   {
    "duration": 63,
    "start_time": "2022-05-31T20:53:51.968Z"
   },
   {
    "duration": 2082,
    "start_time": "2022-05-31T20:53:52.032Z"
   },
   {
    "duration": 418,
    "start_time": "2022-05-31T20:53:54.116Z"
   },
   {
    "duration": 407,
    "start_time": "2022-05-31T20:53:54.535Z"
   },
   {
    "duration": 11,
    "start_time": "2022-05-31T20:53:54.944Z"
   },
   {
    "duration": 366,
    "start_time": "2022-05-31T20:53:54.957Z"
   },
   {
    "duration": 161,
    "start_time": "2022-05-31T20:53:55.325Z"
   },
   {
    "duration": 160,
    "start_time": "2022-05-31T20:53:55.488Z"
   },
   {
    "duration": 156,
    "start_time": "2022-05-31T20:53:55.649Z"
   },
   {
    "duration": 150,
    "start_time": "2022-05-31T20:53:55.806Z"
   },
   {
    "duration": 2,
    "start_time": "2022-05-31T20:53:55.958Z"
   },
   {
    "duration": 56,
    "start_time": "2022-05-31T20:53:55.962Z"
   },
   {
    "duration": 35,
    "start_time": "2022-05-31T20:53:56.019Z"
   },
   {
    "duration": 184,
    "start_time": "2022-05-31T20:53:56.056Z"
   },
   {
    "duration": 19,
    "start_time": "2022-05-31T20:53:56.241Z"
   },
   {
    "duration": 13,
    "start_time": "2022-05-31T20:53:56.262Z"
   },
   {
    "duration": 9,
    "start_time": "2022-05-31T20:53:56.276Z"
   },
   {
    "duration": 15,
    "start_time": "2022-05-31T20:53:56.286Z"
   },
   {
    "duration": 187,
    "start_time": "2022-05-31T20:53:56.302Z"
   },
   {
    "duration": 8,
    "start_time": "2022-05-31T20:53:56.490Z"
   },
   {
    "duration": 411,
    "start_time": "2022-05-31T20:53:56.499Z"
   },
   {
    "duration": 164,
    "start_time": "2022-05-31T20:53:56.911Z"
   },
   {
    "duration": 163,
    "start_time": "2022-05-31T20:53:57.076Z"
   },
   {
    "duration": 20,
    "start_time": "2022-05-31T20:53:57.241Z"
   },
   {
    "duration": 22,
    "start_time": "2022-05-31T20:53:57.262Z"
   },
   {
    "duration": 106,
    "start_time": "2022-05-31T20:58:11.363Z"
   },
   {
    "duration": 6,
    "start_time": "2022-05-31T20:58:11.473Z"
   },
   {
    "duration": 10,
    "start_time": "2022-05-31T20:58:11.481Z"
   },
   {
    "duration": 42,
    "start_time": "2022-05-31T20:58:11.493Z"
   },
   {
    "duration": 25,
    "start_time": "2022-05-31T20:58:11.537Z"
   },
   {
    "duration": 103,
    "start_time": "2022-05-31T20:58:11.565Z"
   },
   {
    "duration": 13,
    "start_time": "2022-05-31T20:58:11.670Z"
   },
   {
    "duration": 5,
    "start_time": "2022-05-31T20:58:11.684Z"
   },
   {
    "duration": 6,
    "start_time": "2022-05-31T20:58:11.690Z"
   },
   {
    "duration": 4,
    "start_time": "2022-05-31T20:58:11.699Z"
   },
   {
    "duration": 5,
    "start_time": "2022-05-31T20:58:11.705Z"
   },
   {
    "duration": 59,
    "start_time": "2022-05-31T20:58:11.711Z"
   },
   {
    "duration": 7,
    "start_time": "2022-05-31T20:58:11.772Z"
   },
   {
    "duration": 12,
    "start_time": "2022-05-31T20:58:11.781Z"
   },
   {
    "duration": 10,
    "start_time": "2022-05-31T20:58:11.795Z"
   },
   {
    "duration": 8,
    "start_time": "2022-05-31T20:58:11.806Z"
   },
   {
    "duration": 3,
    "start_time": "2022-05-31T20:58:11.815Z"
   },
   {
    "duration": 6,
    "start_time": "2022-05-31T20:58:11.820Z"
   },
   {
    "duration": 6,
    "start_time": "2022-05-31T20:58:11.827Z"
   },
   {
    "duration": 36,
    "start_time": "2022-05-31T20:58:11.834Z"
   },
   {
    "duration": 11,
    "start_time": "2022-05-31T20:58:11.872Z"
   },
   {
    "duration": 9,
    "start_time": "2022-05-31T20:58:11.884Z"
   },
   {
    "duration": 9,
    "start_time": "2022-05-31T20:58:11.894Z"
   },
   {
    "duration": 17,
    "start_time": "2022-05-31T20:58:11.904Z"
   },
   {
    "duration": 17,
    "start_time": "2022-05-31T20:58:11.922Z"
   },
   {
    "duration": 6,
    "start_time": "2022-05-31T20:58:11.966Z"
   },
   {
    "duration": 14,
    "start_time": "2022-05-31T20:58:11.973Z"
   },
   {
    "duration": 302,
    "start_time": "2022-05-31T20:58:11.990Z"
   },
   {
    "duration": 471,
    "start_time": "2022-05-31T20:58:12.294Z"
   },
   {
    "duration": 10,
    "start_time": "2022-05-31T20:58:12.767Z"
   },
   {
    "duration": 605,
    "start_time": "2022-05-31T20:58:12.778Z"
   },
   {
    "duration": 288,
    "start_time": "2022-05-31T20:58:13.385Z"
   },
   {
    "duration": 115,
    "start_time": "2022-05-31T20:58:13.674Z"
   },
   {
    "duration": 12,
    "start_time": "2022-05-31T20:58:13.790Z"
   },
   {
    "duration": 223,
    "start_time": "2022-05-31T20:58:13.804Z"
   },
   {
    "duration": 3,
    "start_time": "2022-05-31T20:58:14.028Z"
   },
   {
    "duration": 4,
    "start_time": "2022-05-31T20:58:14.032Z"
   },
   {
    "duration": 28,
    "start_time": "2022-05-31T20:58:14.038Z"
   },
   {
    "duration": 7,
    "start_time": "2022-05-31T20:58:14.068Z"
   },
   {
    "duration": 8,
    "start_time": "2022-05-31T20:58:14.077Z"
   },
   {
    "duration": 4,
    "start_time": "2022-05-31T20:58:14.086Z"
   },
   {
    "duration": 8,
    "start_time": "2022-05-31T20:58:14.092Z"
   },
   {
    "duration": 8,
    "start_time": "2022-05-31T20:58:14.101Z"
   },
   {
    "duration": 7,
    "start_time": "2022-05-31T20:58:14.110Z"
   },
   {
    "duration": 5,
    "start_time": "2022-05-31T20:58:14.118Z"
   },
   {
    "duration": 774,
    "start_time": "2022-05-31T20:58:14.124Z"
   },
   {
    "duration": 33,
    "start_time": "2022-05-31T20:58:14.899Z"
   },
   {
    "duration": 61,
    "start_time": "2022-05-31T20:58:14.933Z"
   },
   {
    "duration": 3,
    "start_time": "2022-05-31T20:58:14.996Z"
   },
   {
    "duration": 172,
    "start_time": "2022-05-31T20:58:15.000Z"
   },
   {
    "duration": 14,
    "start_time": "2022-05-31T20:58:15.174Z"
   },
   {
    "duration": 82,
    "start_time": "2022-05-31T20:58:15.190Z"
   },
   {
    "duration": 2221,
    "start_time": "2022-05-31T20:58:15.274Z"
   },
   {
    "duration": 404,
    "start_time": "2022-05-31T20:58:17.497Z"
   },
   {
    "duration": 438,
    "start_time": "2022-05-31T20:58:17.902Z"
   },
   {
    "duration": 14,
    "start_time": "2022-05-31T20:58:18.341Z"
   },
   {
    "duration": 378,
    "start_time": "2022-05-31T20:58:18.358Z"
   },
   {
    "duration": 162,
    "start_time": "2022-05-31T20:58:18.738Z"
   },
   {
    "duration": 160,
    "start_time": "2022-05-31T20:58:18.902Z"
   },
   {
    "duration": 199,
    "start_time": "2022-05-31T20:58:19.067Z"
   },
   {
    "duration": 165,
    "start_time": "2022-05-31T20:58:19.268Z"
   },
   {
    "duration": 3,
    "start_time": "2022-05-31T20:58:19.435Z"
   },
   {
    "duration": 38,
    "start_time": "2022-05-31T20:58:19.439Z"
   },
   {
    "duration": 21,
    "start_time": "2022-05-31T20:58:19.479Z"
   },
   {
    "duration": 191,
    "start_time": "2022-05-31T20:58:19.501Z"
   },
   {
    "duration": 15,
    "start_time": "2022-05-31T20:58:19.693Z"
   },
   {
    "duration": 13,
    "start_time": "2022-05-31T20:58:19.709Z"
   },
   {
    "duration": 9,
    "start_time": "2022-05-31T20:58:19.724Z"
   },
   {
    "duration": 44,
    "start_time": "2022-05-31T20:58:19.734Z"
   },
   {
    "duration": 165,
    "start_time": "2022-05-31T20:58:19.779Z"
   },
   {
    "duration": 20,
    "start_time": "2022-05-31T20:58:19.946Z"
   },
   {
    "duration": 406,
    "start_time": "2022-05-31T20:58:19.968Z"
   },
   {
    "duration": 157,
    "start_time": "2022-05-31T20:58:20.376Z"
   },
   {
    "duration": 173,
    "start_time": "2022-05-31T20:58:20.535Z"
   },
   {
    "duration": 15,
    "start_time": "2022-05-31T20:58:20.710Z"
   },
   {
    "duration": 44,
    "start_time": "2022-05-31T20:58:20.726Z"
   },
   {
    "duration": 2,
    "start_time": "2022-05-31T20:58:53.202Z"
   },
   {
    "duration": 140,
    "start_time": "2022-05-31T20:58:55.767Z"
   },
   {
    "duration": 3,
    "start_time": "2022-05-31T20:59:17.920Z"
   },
   {
    "duration": 3,
    "start_time": "2022-05-31T21:00:00.891Z"
   },
   {
    "duration": 162,
    "start_time": "2022-05-31T21:00:02.711Z"
   },
   {
    "duration": 14,
    "start_time": "2022-05-31T21:00:05.396Z"
   },
   {
    "duration": 94,
    "start_time": "2022-05-31T21:00:33.527Z"
   },
   {
    "duration": 5,
    "start_time": "2022-05-31T21:00:33.624Z"
   },
   {
    "duration": 20,
    "start_time": "2022-05-31T21:00:33.630Z"
   },
   {
    "duration": 32,
    "start_time": "2022-05-31T21:00:33.655Z"
   },
   {
    "duration": 32,
    "start_time": "2022-05-31T21:00:33.689Z"
   },
   {
    "duration": 89,
    "start_time": "2022-05-31T21:00:33.723Z"
   },
   {
    "duration": 12,
    "start_time": "2022-05-31T21:00:33.814Z"
   },
   {
    "duration": 4,
    "start_time": "2022-05-31T21:00:33.828Z"
   },
   {
    "duration": 8,
    "start_time": "2022-05-31T21:00:33.855Z"
   },
   {
    "duration": 6,
    "start_time": "2022-05-31T21:00:33.866Z"
   },
   {
    "duration": 9,
    "start_time": "2022-05-31T21:00:33.874Z"
   },
   {
    "duration": 11,
    "start_time": "2022-05-31T21:00:33.885Z"
   },
   {
    "duration": 8,
    "start_time": "2022-05-31T21:00:33.898Z"
   },
   {
    "duration": 13,
    "start_time": "2022-05-31T21:00:33.908Z"
   },
   {
    "duration": 33,
    "start_time": "2022-05-31T21:00:33.922Z"
   },
   {
    "duration": 6,
    "start_time": "2022-05-31T21:00:33.957Z"
   },
   {
    "duration": 6,
    "start_time": "2022-05-31T21:00:33.964Z"
   },
   {
    "duration": 9,
    "start_time": "2022-05-31T21:00:33.971Z"
   },
   {
    "duration": 7,
    "start_time": "2022-05-31T21:00:33.981Z"
   },
   {
    "duration": 15,
    "start_time": "2022-05-31T21:00:33.989Z"
   },
   {
    "duration": 49,
    "start_time": "2022-05-31T21:00:34.006Z"
   },
   {
    "duration": 10,
    "start_time": "2022-05-31T21:00:34.057Z"
   },
   {
    "duration": 11,
    "start_time": "2022-05-31T21:00:34.069Z"
   },
   {
    "duration": 13,
    "start_time": "2022-05-31T21:00:34.081Z"
   },
   {
    "duration": 19,
    "start_time": "2022-05-31T21:00:34.096Z"
   },
   {
    "duration": 40,
    "start_time": "2022-05-31T21:00:34.117Z"
   },
   {
    "duration": 15,
    "start_time": "2022-05-31T21:00:34.158Z"
   },
   {
    "duration": 306,
    "start_time": "2022-05-31T21:00:34.177Z"
   },
   {
    "duration": 466,
    "start_time": "2022-05-31T21:00:34.485Z"
   },
   {
    "duration": 9,
    "start_time": "2022-05-31T21:00:34.954Z"
   },
   {
    "duration": 677,
    "start_time": "2022-05-31T21:00:34.964Z"
   },
   {
    "duration": 269,
    "start_time": "2022-05-31T21:00:35.642Z"
   },
   {
    "duration": 123,
    "start_time": "2022-05-31T21:00:35.912Z"
   },
   {
    "duration": 22,
    "start_time": "2022-05-31T21:00:36.037Z"
   },
   {
    "duration": 229,
    "start_time": "2022-05-31T21:00:36.061Z"
   },
   {
    "duration": 3,
    "start_time": "2022-05-31T21:00:36.292Z"
   },
   {
    "duration": 10,
    "start_time": "2022-05-31T21:00:36.297Z"
   },
   {
    "duration": 11,
    "start_time": "2022-05-31T21:00:36.309Z"
   },
   {
    "duration": 7,
    "start_time": "2022-05-31T21:00:36.322Z"
   },
   {
    "duration": 14,
    "start_time": "2022-05-31T21:00:36.331Z"
   },
   {
    "duration": 16,
    "start_time": "2022-05-31T21:00:36.347Z"
   },
   {
    "duration": 12,
    "start_time": "2022-05-31T21:00:36.365Z"
   },
   {
    "duration": 7,
    "start_time": "2022-05-31T21:00:36.378Z"
   },
   {
    "duration": 8,
    "start_time": "2022-05-31T21:00:36.386Z"
   },
   {
    "duration": 11,
    "start_time": "2022-05-31T21:00:36.395Z"
   },
   {
    "duration": 778,
    "start_time": "2022-05-31T21:00:36.408Z"
   },
   {
    "duration": 34,
    "start_time": "2022-05-31T21:00:37.187Z"
   },
   {
    "duration": 56,
    "start_time": "2022-05-31T21:00:37.222Z"
   },
   {
    "duration": 4,
    "start_time": "2022-05-31T21:00:37.280Z"
   },
   {
    "duration": 296,
    "start_time": "2022-05-31T21:00:37.285Z"
   },
   {
    "duration": 15,
    "start_time": "2022-05-31T21:00:37.583Z"
   },
   {
    "duration": 103,
    "start_time": "2022-05-31T21:00:37.601Z"
   },
   {
    "duration": 2318,
    "start_time": "2022-05-31T21:00:37.706Z"
   },
   {
    "duration": 563,
    "start_time": "2022-05-31T21:00:40.026Z"
   },
   {
    "duration": 318,
    "start_time": "2022-05-31T21:00:40.591Z"
   },
   {
    "duration": 6,
    "start_time": "2022-05-31T21:00:40.911Z"
   },
   {
    "duration": 433,
    "start_time": "2022-05-31T21:00:40.918Z"
   },
   {
    "duration": 216,
    "start_time": "2022-05-31T21:00:41.354Z"
   },
   {
    "duration": 192,
    "start_time": "2022-05-31T21:00:41.572Z"
   },
   {
    "duration": 177,
    "start_time": "2022-05-31T21:00:41.765Z"
   },
   {
    "duration": 164,
    "start_time": "2022-05-31T21:00:41.944Z"
   },
   {
    "duration": 3,
    "start_time": "2022-05-31T21:00:42.110Z"
   },
   {
    "duration": 31,
    "start_time": "2022-05-31T21:00:42.115Z"
   },
   {
    "duration": 25,
    "start_time": "2022-05-31T21:00:42.154Z"
   },
   {
    "duration": 196,
    "start_time": "2022-05-31T21:00:42.181Z"
   },
   {
    "duration": 15,
    "start_time": "2022-05-31T21:00:42.378Z"
   },
   {
    "duration": 15,
    "start_time": "2022-05-31T21:00:42.395Z"
   },
   {
    "duration": 12,
    "start_time": "2022-05-31T21:00:42.411Z"
   },
   {
    "duration": 135,
    "start_time": "2022-05-31T21:00:42.425Z"
   },
   {
    "duration": 203,
    "start_time": "2022-05-31T21:00:42.561Z"
   },
   {
    "duration": 8,
    "start_time": "2022-05-31T21:00:42.766Z"
   },
   {
    "duration": 364,
    "start_time": "2022-05-31T21:00:42.776Z"
   },
   {
    "duration": 193,
    "start_time": "2022-05-31T21:00:43.141Z"
   },
   {
    "duration": 184,
    "start_time": "2022-05-31T21:00:43.335Z"
   },
   {
    "duration": 16,
    "start_time": "2022-05-31T21:00:43.521Z"
   },
   {
    "duration": 25,
    "start_time": "2022-05-31T21:00:43.555Z"
   },
   {
    "duration": 4,
    "start_time": "2022-05-31T21:15:18.000Z"
   },
   {
    "duration": 32,
    "start_time": "2022-05-31T21:35:36.999Z"
   },
   {
    "duration": 74,
    "start_time": "2022-05-31T21:37:12.509Z"
   },
   {
    "duration": 6,
    "start_time": "2022-05-31T21:37:15.976Z"
   },
   {
    "duration": 8,
    "start_time": "2022-05-31T21:37:28.292Z"
   },
   {
    "duration": 8,
    "start_time": "2022-05-31T21:37:44.580Z"
   },
   {
    "duration": 7,
    "start_time": "2022-05-31T21:37:49.102Z"
   },
   {
    "duration": 7,
    "start_time": "2022-05-31T21:37:53.370Z"
   },
   {
    "duration": 13,
    "start_time": "2022-05-31T21:38:14.088Z"
   },
   {
    "duration": 16,
    "start_time": "2022-05-31T21:38:34.869Z"
   },
   {
    "duration": 19,
    "start_time": "2022-05-31T21:39:15.359Z"
   },
   {
    "duration": 20,
    "start_time": "2022-05-31T21:39:20.654Z"
   },
   {
    "duration": 26,
    "start_time": "2022-05-31T21:40:56.505Z"
   },
   {
    "duration": 33,
    "start_time": "2022-05-31T21:41:02.207Z"
   },
   {
    "duration": 31,
    "start_time": "2022-05-31T21:41:45.400Z"
   },
   {
    "duration": 35,
    "start_time": "2022-05-31T21:41:50.305Z"
   },
   {
    "duration": 6,
    "start_time": "2022-05-31T21:43:12.759Z"
   },
   {
    "duration": 12,
    "start_time": "2022-05-31T21:43:19.630Z"
   },
   {
    "duration": 7,
    "start_time": "2022-05-31T21:43:25.148Z"
   },
   {
    "duration": 6,
    "start_time": "2022-05-31T21:43:30.335Z"
   },
   {
    "duration": 5,
    "start_time": "2022-05-31T21:43:39.630Z"
   },
   {
    "duration": 42,
    "start_time": "2022-05-31T21:44:01.314Z"
   },
   {
    "duration": 31,
    "start_time": "2022-05-31T21:44:06.338Z"
   },
   {
    "duration": 757,
    "start_time": "2022-05-31T21:47:51.851Z"
   },
   {
    "duration": 5,
    "start_time": "2022-05-31T21:47:52.610Z"
   },
   {
    "duration": 5,
    "start_time": "2022-05-31T21:47:52.616Z"
   },
   {
    "duration": 36,
    "start_time": "2022-05-31T21:47:52.622Z"
   },
   {
    "duration": 12,
    "start_time": "2022-05-31T21:47:52.660Z"
   },
   {
    "duration": 89,
    "start_time": "2022-05-31T21:47:52.673Z"
   },
   {
    "duration": 12,
    "start_time": "2022-05-31T21:47:52.763Z"
   },
   {
    "duration": 4,
    "start_time": "2022-05-31T21:47:52.777Z"
   },
   {
    "duration": 7,
    "start_time": "2022-05-31T21:47:52.783Z"
   },
   {
    "duration": 5,
    "start_time": "2022-05-31T21:47:52.792Z"
   },
   {
    "duration": 8,
    "start_time": "2022-05-31T21:47:52.798Z"
   },
   {
    "duration": 26,
    "start_time": "2022-05-31T21:47:52.808Z"
   },
   {
    "duration": 25,
    "start_time": "2022-05-31T21:47:52.835Z"
   },
   {
    "duration": 6,
    "start_time": "2022-05-31T21:47:52.863Z"
   },
   {
    "duration": 8,
    "start_time": "2022-05-31T21:47:52.870Z"
   },
   {
    "duration": 5,
    "start_time": "2022-05-31T21:47:52.880Z"
   },
   {
    "duration": 3,
    "start_time": "2022-05-31T21:47:52.887Z"
   },
   {
    "duration": 8,
    "start_time": "2022-05-31T21:47:52.892Z"
   },
   {
    "duration": 8,
    "start_time": "2022-05-31T21:47:52.902Z"
   },
   {
    "duration": 48,
    "start_time": "2022-05-31T21:47:52.911Z"
   },
   {
    "duration": 11,
    "start_time": "2022-05-31T21:47:52.960Z"
   },
   {
    "duration": 8,
    "start_time": "2022-05-31T21:47:52.973Z"
   },
   {
    "duration": 21,
    "start_time": "2022-05-31T21:47:52.982Z"
   },
   {
    "duration": 15,
    "start_time": "2022-05-31T21:47:53.004Z"
   },
   {
    "duration": 20,
    "start_time": "2022-05-31T21:47:53.021Z"
   },
   {
    "duration": 4,
    "start_time": "2022-05-31T21:47:53.055Z"
   },
   {
    "duration": 39,
    "start_time": "2022-05-31T21:47:53.060Z"
   },
   {
    "duration": 6,
    "start_time": "2022-05-31T21:47:53.101Z"
   },
   {
    "duration": 23,
    "start_time": "2022-05-31T21:47:53.108Z"
   },
   {
    "duration": 303,
    "start_time": "2022-05-31T21:47:53.133Z"
   },
   {
    "duration": 459,
    "start_time": "2022-05-31T21:47:53.437Z"
   },
   {
    "duration": 9,
    "start_time": "2022-05-31T21:47:53.897Z"
   },
   {
    "duration": 505,
    "start_time": "2022-05-31T21:47:53.908Z"
   },
   {
    "duration": 308,
    "start_time": "2022-05-31T21:47:54.414Z"
   },
   {
    "duration": 117,
    "start_time": "2022-05-31T21:47:54.723Z"
   },
   {
    "duration": 21,
    "start_time": "2022-05-31T21:47:54.841Z"
   },
   {
    "duration": 204,
    "start_time": "2022-05-31T21:47:54.863Z"
   },
   {
    "duration": 3,
    "start_time": "2022-05-31T21:47:55.069Z"
   },
   {
    "duration": 6,
    "start_time": "2022-05-31T21:47:55.074Z"
   },
   {
    "duration": 5,
    "start_time": "2022-05-31T21:47:55.082Z"
   },
   {
    "duration": 5,
    "start_time": "2022-05-31T21:47:55.091Z"
   },
   {
    "duration": 9,
    "start_time": "2022-05-31T21:47:55.098Z"
   },
   {
    "duration": 12,
    "start_time": "2022-05-31T21:47:55.109Z"
   },
   {
    "duration": 14,
    "start_time": "2022-05-31T21:47:55.122Z"
   },
   {
    "duration": 12,
    "start_time": "2022-05-31T21:47:55.138Z"
   },
   {
    "duration": 6,
    "start_time": "2022-05-31T21:47:55.152Z"
   },
   {
    "duration": 8,
    "start_time": "2022-05-31T21:47:55.159Z"
   },
   {
    "duration": 714,
    "start_time": "2022-05-31T21:47:55.169Z"
   },
   {
    "duration": 31,
    "start_time": "2022-05-31T21:47:55.885Z"
   },
   {
    "duration": 54,
    "start_time": "2022-05-31T21:47:55.918Z"
   },
   {
    "duration": 2,
    "start_time": "2022-05-31T21:47:55.974Z"
   },
   {
    "duration": 143,
    "start_time": "2022-05-31T21:47:55.978Z"
   },
   {
    "duration": 13,
    "start_time": "2022-05-31T21:47:56.123Z"
   },
   {
    "duration": 76,
    "start_time": "2022-05-31T21:47:56.137Z"
   },
   {
    "duration": 2067,
    "start_time": "2022-05-31T21:47:56.214Z"
   },
   {
    "duration": 393,
    "start_time": "2022-05-31T21:47:58.282Z"
   },
   {
    "duration": 392,
    "start_time": "2022-05-31T21:47:58.676Z"
   },
   {
    "duration": 5,
    "start_time": "2022-05-31T21:47:59.070Z"
   },
   {
    "duration": 421,
    "start_time": "2022-05-31T21:47:59.076Z"
   },
   {
    "duration": 158,
    "start_time": "2022-05-31T21:47:59.499Z"
   },
   {
    "duration": 163,
    "start_time": "2022-05-31T21:47:59.659Z"
   },
   {
    "duration": 161,
    "start_time": "2022-05-31T21:47:59.823Z"
   },
   {
    "duration": 151,
    "start_time": "2022-05-31T21:47:59.985Z"
   },
   {
    "duration": 4,
    "start_time": "2022-05-31T21:48:00.137Z"
   },
   {
    "duration": 70,
    "start_time": "2022-05-31T21:48:00.142Z"
   },
   {
    "duration": 24,
    "start_time": "2022-05-31T21:48:00.213Z"
   },
   {
    "duration": 213,
    "start_time": "2022-05-31T21:48:00.238Z"
   },
   {
    "duration": 15,
    "start_time": "2022-05-31T21:48:00.455Z"
   },
   {
    "duration": 17,
    "start_time": "2022-05-31T21:48:00.472Z"
   },
   {
    "duration": 13,
    "start_time": "2022-05-31T21:48:00.491Z"
   },
   {
    "duration": 27,
    "start_time": "2022-05-31T21:48:00.506Z"
   },
   {
    "duration": 192,
    "start_time": "2022-05-31T21:48:00.535Z"
   },
   {
    "duration": 8,
    "start_time": "2022-05-31T21:48:00.729Z"
   },
   {
    "duration": 427,
    "start_time": "2022-05-31T21:48:00.738Z"
   },
   {
    "duration": 180,
    "start_time": "2022-05-31T21:48:01.167Z"
   },
   {
    "duration": 227,
    "start_time": "2022-05-31T21:48:01.349Z"
   },
   {
    "duration": 21,
    "start_time": "2022-05-31T21:48:01.578Z"
   },
   {
    "duration": 56,
    "start_time": "2022-05-31T21:48:01.600Z"
   },
   {
    "duration": 72,
    "start_time": "2022-06-01T16:36:23.160Z"
   },
   {
    "duration": 875,
    "start_time": "2022-06-01T16:36:31.542Z"
   },
   {
    "duration": 5,
    "start_time": "2022-06-01T16:36:32.419Z"
   },
   {
    "duration": 11,
    "start_time": "2022-06-01T16:36:32.426Z"
   },
   {
    "duration": 38,
    "start_time": "2022-06-01T16:36:32.440Z"
   },
   {
    "duration": 15,
    "start_time": "2022-06-01T16:36:32.479Z"
   },
   {
    "duration": 102,
    "start_time": "2022-06-01T16:36:32.495Z"
   },
   {
    "duration": 12,
    "start_time": "2022-06-01T16:36:32.598Z"
   },
   {
    "duration": 14,
    "start_time": "2022-06-01T16:36:32.612Z"
   },
   {
    "duration": 15,
    "start_time": "2022-06-01T16:36:32.628Z"
   },
   {
    "duration": 6,
    "start_time": "2022-06-01T16:36:32.646Z"
   },
   {
    "duration": 9,
    "start_time": "2022-06-01T16:36:32.654Z"
   },
   {
    "duration": 15,
    "start_time": "2022-06-01T16:36:32.665Z"
   },
   {
    "duration": 9,
    "start_time": "2022-06-01T16:36:32.682Z"
   },
   {
    "duration": 30,
    "start_time": "2022-06-01T16:36:32.693Z"
   },
   {
    "duration": 7,
    "start_time": "2022-06-01T16:36:32.725Z"
   },
   {
    "duration": 7,
    "start_time": "2022-06-01T16:36:32.733Z"
   },
   {
    "duration": 4,
    "start_time": "2022-06-01T16:36:32.742Z"
   },
   {
    "duration": 13,
    "start_time": "2022-06-01T16:36:32.748Z"
   },
   {
    "duration": 10,
    "start_time": "2022-06-01T16:36:32.763Z"
   },
   {
    "duration": 13,
    "start_time": "2022-06-01T16:36:32.774Z"
   },
   {
    "duration": 50,
    "start_time": "2022-06-01T16:36:32.789Z"
   },
   {
    "duration": 14,
    "start_time": "2022-06-01T16:36:32.842Z"
   },
   {
    "duration": 21,
    "start_time": "2022-06-01T16:36:32.858Z"
   },
   {
    "duration": 20,
    "start_time": "2022-06-01T16:36:32.881Z"
   },
   {
    "duration": 50,
    "start_time": "2022-06-01T16:36:32.903Z"
   },
   {
    "duration": 7,
    "start_time": "2022-06-01T16:36:32.955Z"
   },
   {
    "duration": 60,
    "start_time": "2022-06-01T16:36:32.966Z"
   },
   {
    "duration": 8,
    "start_time": "2022-06-01T16:36:33.034Z"
   },
   {
    "duration": 32,
    "start_time": "2022-06-01T16:36:33.044Z"
   },
   {
    "duration": 325,
    "start_time": "2022-06-01T16:36:33.079Z"
   },
   {
    "duration": 534,
    "start_time": "2022-06-01T16:36:33.405Z"
   },
   {
    "duration": 14,
    "start_time": "2022-06-01T16:36:33.955Z"
   },
   {
    "duration": 685,
    "start_time": "2022-06-01T16:36:33.971Z"
   },
   {
    "duration": 9,
    "start_time": "2022-06-01T16:36:34.658Z"
   },
   {
    "duration": 311,
    "start_time": "2022-06-01T16:36:34.669Z"
   },
   {
    "duration": 128,
    "start_time": "2022-06-01T16:36:34.982Z"
   },
   {
    "duration": 21,
    "start_time": "2022-06-01T16:36:35.111Z"
   },
   {
    "duration": 258,
    "start_time": "2022-06-01T16:36:35.134Z"
   },
   {
    "duration": 3,
    "start_time": "2022-06-01T16:36:35.394Z"
   },
   {
    "duration": 11,
    "start_time": "2022-06-01T16:36:35.398Z"
   },
   {
    "duration": 20,
    "start_time": "2022-06-01T16:36:35.410Z"
   },
   {
    "duration": 28,
    "start_time": "2022-06-01T16:36:35.432Z"
   },
   {
    "duration": 18,
    "start_time": "2022-06-01T16:36:35.462Z"
   },
   {
    "duration": 18,
    "start_time": "2022-06-01T16:36:35.481Z"
   },
   {
    "duration": 20,
    "start_time": "2022-06-01T16:36:35.500Z"
   },
   {
    "duration": 30,
    "start_time": "2022-06-01T16:36:35.521Z"
   },
   {
    "duration": 11,
    "start_time": "2022-06-01T16:36:35.553Z"
   },
   {
    "duration": 6,
    "start_time": "2022-06-01T16:36:35.566Z"
   },
   {
    "duration": 1386,
    "start_time": "2022-06-01T16:36:35.574Z"
   },
   {
    "duration": 90,
    "start_time": "2022-06-01T16:36:36.962Z"
   },
   {
    "duration": 96,
    "start_time": "2022-06-01T16:36:37.053Z"
   },
   {
    "duration": 3,
    "start_time": "2022-06-01T16:36:37.151Z"
   },
   {
    "duration": 192,
    "start_time": "2022-06-01T16:36:37.155Z"
   },
   {
    "duration": 14,
    "start_time": "2022-06-01T16:36:37.349Z"
   },
   {
    "duration": 95,
    "start_time": "2022-06-01T16:36:37.365Z"
   },
   {
    "duration": 2399,
    "start_time": "2022-06-01T16:36:37.463Z"
   },
   {
    "duration": 452,
    "start_time": "2022-06-01T16:36:39.864Z"
   },
   {
    "duration": 464,
    "start_time": "2022-06-01T16:36:40.322Z"
   },
   {
    "duration": 5,
    "start_time": "2022-06-01T16:36:40.787Z"
   },
   {
    "duration": 403,
    "start_time": "2022-06-01T16:36:40.794Z"
   },
   {
    "duration": 181,
    "start_time": "2022-06-01T16:36:41.198Z"
   },
   {
    "duration": 210,
    "start_time": "2022-06-01T16:36:41.380Z"
   },
   {
    "duration": 203,
    "start_time": "2022-06-01T16:36:41.592Z"
   },
   {
    "duration": 172,
    "start_time": "2022-06-01T16:36:41.797Z"
   },
   {
    "duration": 4,
    "start_time": "2022-06-01T16:36:41.971Z"
   },
   {
    "duration": 78,
    "start_time": "2022-06-01T16:36:41.976Z"
   },
   {
    "duration": 25,
    "start_time": "2022-06-01T16:36:42.056Z"
   },
   {
    "duration": 216,
    "start_time": "2022-06-01T16:36:42.083Z"
   },
   {
    "duration": 23,
    "start_time": "2022-06-01T16:36:42.301Z"
   },
   {
    "duration": 18,
    "start_time": "2022-06-01T16:36:42.326Z"
   },
   {
    "duration": 11,
    "start_time": "2022-06-01T16:36:42.346Z"
   },
   {
    "duration": 18,
    "start_time": "2022-06-01T16:36:42.359Z"
   },
   {
    "duration": 210,
    "start_time": "2022-06-01T16:36:42.379Z"
   },
   {
    "duration": 11,
    "start_time": "2022-06-01T16:36:42.591Z"
   },
   {
    "duration": 547,
    "start_time": "2022-06-01T16:36:42.603Z"
   },
   {
    "duration": 170,
    "start_time": "2022-06-01T16:36:43.152Z"
   },
   {
    "duration": 193,
    "start_time": "2022-06-01T16:36:43.324Z"
   },
   {
    "duration": 23,
    "start_time": "2022-06-01T16:36:43.522Z"
   },
   {
    "duration": 28,
    "start_time": "2022-06-01T16:36:43.547Z"
   }
  ],
  "kernelspec": {
   "display_name": "Python 3 (ipykernel)",
   "language": "python",
   "name": "python3"
  },
  "language_info": {
   "codemirror_mode": {
    "name": "ipython",
    "version": 3
   },
   "file_extension": ".py",
   "mimetype": "text/x-python",
   "name": "python",
   "nbconvert_exporter": "python",
   "pygments_lexer": "ipython3",
   "version": "3.9.12"
  },
  "toc": {
   "base_numbering": 1,
   "nav_menu": {},
   "number_sections": false,
   "sideBar": true,
   "skip_h1_title": true,
   "title_cell": "Содержание",
   "title_sidebar": "Contents",
   "toc_cell": false,
   "toc_position": {},
   "toc_section_display": true,
   "toc_window_display": false
  }
 },
 "nbformat": 4,
 "nbformat_minor": 4
}
