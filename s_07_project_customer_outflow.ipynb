{
 "cells": [
  {
   "cell_type": "markdown",
   "metadata": {},
   "source": [
    "<a id='head'></a>\n",
    "\n",
    "# Отток клиентов"
   ]
  },
  {
   "cell_type": "markdown",
   "metadata": {},
   "source": [
    "## Оглавление\n",
    " \n",
    "- [**Введение**](#intro)\n",
    "    - [Входные данные](#input_data)\n",
    "    - [Ход исследования](#purpose)\n",
    "    \n",
    "- [**1. Обзор данных**](#review)\n",
    "    - [1.1 Импорт библиотек и датасета](#review_01)\n",
    "    - [1.2 Обзор данных](#review_02)\n",
    "    - [Выводы](#review_conclusions)\n",
    "\n",
    "- [**2. Подготовка данных**](#preprocessing)\n",
    "    - [2.1 Предобработка данных](#preprocessing_01)\n",
    "    - [2.2 Подготовка данных](#preprocessing_02)\n",
    "\n",
    "- [**3. Исследование задачи**](#research)\n",
    "    - [3.1 Исследование баланса классов](#research_01)\n",
    "    - [3.2 Изучение модели без учёта дисбаланса](#research_02)\n",
    "    - [Выводы](#research_conclusions)\n",
    "    \n",
    "- [**4. Борьба с дисбалансом**](#imbalance)\n",
    "    - [4.1 Вес классов (class_weight)](#imbalance_01)\n",
    "    - [4.2 Увеличение выборки (upsampled)](#imbalance_02)\n",
    "    - [4.3 Уменьшение выборки (downsampled)](#imbalance_03)\n",
    "    - [Выводы](#imbalance_conclusions)\n",
    "\n",
    "- [**5. Тестирование модели**](#test)\n",
    "    - [Выводы](#test_conclusions)\n",
    "\n",
    "- [**6. Общие выводы**](#final_conclusion)\n",
    "\n",
    "- [Чек лист](#check_list)"
   ]
  },
  {
   "cell_type": "markdown",
   "metadata": {},
   "source": [
    "<a id='intro'></a>\n",
    "## Введение [▴](#head)"
   ]
  },
  {
   "cell_type": "markdown",
   "metadata": {},
   "source": [
    "Из «Бета-Банка» стали уходить клиенты. Каждый месяц. Немного, но заметно. Банковские маркетологи посчитали: сохранять текущих клиентов дешевле, чем привлекать новых.\n",
    "\n",
    "Нужно спрогнозировать, уйдёт клиент из банка в ближайшее время или нет. Вам предоставлены исторические данные о поведении клиентов и расторжении договоров с банком.\n",
    "\n",
    "Постройте модель с предельно большим значением **`F1-меры`**. Чтобы сдать проект успешно, нужно довести метрику до **`0.59`**. Проверьте **`F1-меру`** на тестовой выборке самостоятельно.\n",
    "\n",
    "Дополнительно измеряйте **`AUC-ROC`**, сравнивайте её значение с **`F1-мерой`**."
   ]
  },
  {
   "cell_type": "markdown",
   "metadata": {},
   "source": [
    "<a id='input_data'></a>\n",
    "### Входные данные [▴](#head)"
   ]
  },
  {
   "cell_type": "markdown",
   "metadata": {},
   "source": [
    "Данные находятся в файле `/datasets/Churn.csv` (англ. **«отток клиентов»**).\n",
    "\n",
    "**Признаки**\n",
    "- **`RowNumber`** — индекс строки в данных\n",
    "- **`CustomerId`** — уникальный идентификатор клиента\n",
    "- **`Surname`** — фамилия\n",
    "- **`CreditScore`** — кредитный рейтинг\n",
    "- **`Geography`** — страна проживания\n",
    "- **`Gender`** — пол\n",
    "- **`Age`** — возраст\n",
    "- **`Tenure`** — сколько лет человек является клиентом банка\n",
    "- **`Balance`** — баланс на счёте\n",
    "- **`NumOfProducts`** — количество продуктов банка, используемых клиентом\n",
    "- **`HasCrCard`** — наличие кредитной карты\n",
    "- **`IsActiveMember`** — активность клиента\n",
    "- **`EstimatedSalary`** — предполагаемая зарплата\n",
    "\n",
    "**Целевой признак**\n",
    "- **`Exited`** — факт ухода клиента"
   ]
  },
  {
   "cell_type": "markdown",
   "metadata": {},
   "source": [
    "<a id='purpose'></a>\n",
    "### Ход исследования [▴](#head)"
   ]
  },
  {
   "cell_type": "markdown",
   "metadata": {},
   "source": [
    "1. Загрузите и подготовьте данные. Поясните порядок действий.\n",
    "2. Исследуйте баланс классов, обучите модель без учёта дисбаланса. Кратко опишите выводы.\n",
    "3. Улучшите качество модели, учитывая дисбаланс классов. Обучите разные модели и найдите лучшую. Кратко опишите выводы.\n",
    "4. Проведите финальное тестирование."
   ]
  },
  {
   "cell_type": "markdown",
   "metadata": {},
   "source": [
    "<a id='review'></a>\n",
    "## 1. Обзор данных"
   ]
  },
  {
   "cell_type": "markdown",
   "metadata": {},
   "source": [
    "<a id='review_01'></a>\n",
    "### 1.1 Импорт библиотек и датасета [▴](#head)"
   ]
  },
  {
   "cell_type": "code",
   "execution_count": 1,
   "metadata": {},
   "outputs": [],
   "source": [
    "import pandas as pd\n",
    "import matplotlib.pyplot as plt\n",
    "\n",
    "from sklearn.tree import DecisionTreeClassifier\n",
    "from sklearn.utils import shuffle\n",
    "from sklearn.metrics import f1_score\n",
    "from sklearn.metrics import roc_curve\n",
    "from sklearn.metrics import roc_auc_score\n",
    "from sklearn.ensemble import RandomForestClassifier\n",
    "from sklearn.linear_model import LogisticRegression\n",
    "from sklearn.preprocessing import StandardScaler\n",
    "from sklearn.model_selection import train_test_split\n",
    "\n",
    "pd.options.mode.chained_assignment = None # Чтобы не вываливалась ошибка при масштабировании признаков"
   ]
  },
  {
   "cell_type": "code",
   "execution_count": 2,
   "metadata": {},
   "outputs": [],
   "source": [
    "# для того чтобы код работал локально и на Практикуме применим конструкцию try-except\n",
    "\n",
    "try:\n",
    "    df = pd.read_csv('/datasets/Churn.csv') # для Практикума\n",
    "except:\n",
    "    df = pd.read_csv('datasets/Churn.csv') # локально"
   ]
  },
  {
   "cell_type": "markdown",
   "metadata": {},
   "source": [
    "<a id='review_02'></a>\n",
    "### 1.2 Обзор данных [▴](#head)"
   ]
  },
  {
   "cell_type": "markdown",
   "metadata": {},
   "source": [
    "Для предварительного обзора данных используем заранее заготовленную функцию:"
   ]
  },
  {
   "cell_type": "code",
   "execution_count": 3,
   "metadata": {},
   "outputs": [],
   "source": [
    "def overview(o_df):\n",
    "    print('\\nОбщий вид')\n",
    "    display(o_df)\n",
    "    \n",
    "    print('\\n.info()\\n')\n",
    "    print(o_df.info())\n",
    "    \n",
    "    print('\\nЗаголовки')\n",
    "    display(list(o_df.columns))\n",
    "    \n",
    "    print('\\n.describe(числовых значений датафрейма)')\n",
    "    display(o_df.describe())\n",
    "    \n",
    "    print('\\n.describe(категориальных значений и дат)')\n",
    "    display(o_df.select_dtypes(include=['object', 'datetime']).describe())"
   ]
  },
  {
   "cell_type": "code",
   "execution_count": 4,
   "metadata": {},
   "outputs": [
    {
     "name": "stdout",
     "output_type": "stream",
     "text": [
      "\n",
      "Общий вид\n"
     ]
    },
    {
     "data": {
      "text/html": [
       "<div>\n",
       "<style scoped>\n",
       "    .dataframe tbody tr th:only-of-type {\n",
       "        vertical-align: middle;\n",
       "    }\n",
       "\n",
       "    .dataframe tbody tr th {\n",
       "        vertical-align: top;\n",
       "    }\n",
       "\n",
       "    .dataframe thead th {\n",
       "        text-align: right;\n",
       "    }\n",
       "</style>\n",
       "<table border=\"1\" class=\"dataframe\">\n",
       "  <thead>\n",
       "    <tr style=\"text-align: right;\">\n",
       "      <th></th>\n",
       "      <th>RowNumber</th>\n",
       "      <th>CustomerId</th>\n",
       "      <th>Surname</th>\n",
       "      <th>CreditScore</th>\n",
       "      <th>Geography</th>\n",
       "      <th>Gender</th>\n",
       "      <th>Age</th>\n",
       "      <th>Tenure</th>\n",
       "      <th>Balance</th>\n",
       "      <th>NumOfProducts</th>\n",
       "      <th>HasCrCard</th>\n",
       "      <th>IsActiveMember</th>\n",
       "      <th>EstimatedSalary</th>\n",
       "      <th>Exited</th>\n",
       "    </tr>\n",
       "  </thead>\n",
       "  <tbody>\n",
       "    <tr>\n",
       "      <th>0</th>\n",
       "      <td>1</td>\n",
       "      <td>15634602</td>\n",
       "      <td>Hargrave</td>\n",
       "      <td>619</td>\n",
       "      <td>France</td>\n",
       "      <td>Female</td>\n",
       "      <td>42</td>\n",
       "      <td>2.0</td>\n",
       "      <td>0.00</td>\n",
       "      <td>1</td>\n",
       "      <td>1</td>\n",
       "      <td>1</td>\n",
       "      <td>101348.88</td>\n",
       "      <td>1</td>\n",
       "    </tr>\n",
       "    <tr>\n",
       "      <th>1</th>\n",
       "      <td>2</td>\n",
       "      <td>15647311</td>\n",
       "      <td>Hill</td>\n",
       "      <td>608</td>\n",
       "      <td>Spain</td>\n",
       "      <td>Female</td>\n",
       "      <td>41</td>\n",
       "      <td>1.0</td>\n",
       "      <td>83807.86</td>\n",
       "      <td>1</td>\n",
       "      <td>0</td>\n",
       "      <td>1</td>\n",
       "      <td>112542.58</td>\n",
       "      <td>0</td>\n",
       "    </tr>\n",
       "    <tr>\n",
       "      <th>2</th>\n",
       "      <td>3</td>\n",
       "      <td>15619304</td>\n",
       "      <td>Onio</td>\n",
       "      <td>502</td>\n",
       "      <td>France</td>\n",
       "      <td>Female</td>\n",
       "      <td>42</td>\n",
       "      <td>8.0</td>\n",
       "      <td>159660.80</td>\n",
       "      <td>3</td>\n",
       "      <td>1</td>\n",
       "      <td>0</td>\n",
       "      <td>113931.57</td>\n",
       "      <td>1</td>\n",
       "    </tr>\n",
       "    <tr>\n",
       "      <th>3</th>\n",
       "      <td>4</td>\n",
       "      <td>15701354</td>\n",
       "      <td>Boni</td>\n",
       "      <td>699</td>\n",
       "      <td>France</td>\n",
       "      <td>Female</td>\n",
       "      <td>39</td>\n",
       "      <td>1.0</td>\n",
       "      <td>0.00</td>\n",
       "      <td>2</td>\n",
       "      <td>0</td>\n",
       "      <td>0</td>\n",
       "      <td>93826.63</td>\n",
       "      <td>0</td>\n",
       "    </tr>\n",
       "    <tr>\n",
       "      <th>4</th>\n",
       "      <td>5</td>\n",
       "      <td>15737888</td>\n",
       "      <td>Mitchell</td>\n",
       "      <td>850</td>\n",
       "      <td>Spain</td>\n",
       "      <td>Female</td>\n",
       "      <td>43</td>\n",
       "      <td>2.0</td>\n",
       "      <td>125510.82</td>\n",
       "      <td>1</td>\n",
       "      <td>1</td>\n",
       "      <td>1</td>\n",
       "      <td>79084.10</td>\n",
       "      <td>0</td>\n",
       "    </tr>\n",
       "    <tr>\n",
       "      <th>...</th>\n",
       "      <td>...</td>\n",
       "      <td>...</td>\n",
       "      <td>...</td>\n",
       "      <td>...</td>\n",
       "      <td>...</td>\n",
       "      <td>...</td>\n",
       "      <td>...</td>\n",
       "      <td>...</td>\n",
       "      <td>...</td>\n",
       "      <td>...</td>\n",
       "      <td>...</td>\n",
       "      <td>...</td>\n",
       "      <td>...</td>\n",
       "      <td>...</td>\n",
       "    </tr>\n",
       "    <tr>\n",
       "      <th>9995</th>\n",
       "      <td>9996</td>\n",
       "      <td>15606229</td>\n",
       "      <td>Obijiaku</td>\n",
       "      <td>771</td>\n",
       "      <td>France</td>\n",
       "      <td>Male</td>\n",
       "      <td>39</td>\n",
       "      <td>5.0</td>\n",
       "      <td>0.00</td>\n",
       "      <td>2</td>\n",
       "      <td>1</td>\n",
       "      <td>0</td>\n",
       "      <td>96270.64</td>\n",
       "      <td>0</td>\n",
       "    </tr>\n",
       "    <tr>\n",
       "      <th>9996</th>\n",
       "      <td>9997</td>\n",
       "      <td>15569892</td>\n",
       "      <td>Johnstone</td>\n",
       "      <td>516</td>\n",
       "      <td>France</td>\n",
       "      <td>Male</td>\n",
       "      <td>35</td>\n",
       "      <td>10.0</td>\n",
       "      <td>57369.61</td>\n",
       "      <td>1</td>\n",
       "      <td>1</td>\n",
       "      <td>1</td>\n",
       "      <td>101699.77</td>\n",
       "      <td>0</td>\n",
       "    </tr>\n",
       "    <tr>\n",
       "      <th>9997</th>\n",
       "      <td>9998</td>\n",
       "      <td>15584532</td>\n",
       "      <td>Liu</td>\n",
       "      <td>709</td>\n",
       "      <td>France</td>\n",
       "      <td>Female</td>\n",
       "      <td>36</td>\n",
       "      <td>7.0</td>\n",
       "      <td>0.00</td>\n",
       "      <td>1</td>\n",
       "      <td>0</td>\n",
       "      <td>1</td>\n",
       "      <td>42085.58</td>\n",
       "      <td>1</td>\n",
       "    </tr>\n",
       "    <tr>\n",
       "      <th>9998</th>\n",
       "      <td>9999</td>\n",
       "      <td>15682355</td>\n",
       "      <td>Sabbatini</td>\n",
       "      <td>772</td>\n",
       "      <td>Germany</td>\n",
       "      <td>Male</td>\n",
       "      <td>42</td>\n",
       "      <td>3.0</td>\n",
       "      <td>75075.31</td>\n",
       "      <td>2</td>\n",
       "      <td>1</td>\n",
       "      <td>0</td>\n",
       "      <td>92888.52</td>\n",
       "      <td>1</td>\n",
       "    </tr>\n",
       "    <tr>\n",
       "      <th>9999</th>\n",
       "      <td>10000</td>\n",
       "      <td>15628319</td>\n",
       "      <td>Walker</td>\n",
       "      <td>792</td>\n",
       "      <td>France</td>\n",
       "      <td>Female</td>\n",
       "      <td>28</td>\n",
       "      <td>NaN</td>\n",
       "      <td>130142.79</td>\n",
       "      <td>1</td>\n",
       "      <td>1</td>\n",
       "      <td>0</td>\n",
       "      <td>38190.78</td>\n",
       "      <td>0</td>\n",
       "    </tr>\n",
       "  </tbody>\n",
       "</table>\n",
       "<p>10000 rows × 14 columns</p>\n",
       "</div>"
      ],
      "text/plain": [
       "      RowNumber  CustomerId    Surname  CreditScore Geography  Gender  Age  \\\n",
       "0             1    15634602   Hargrave          619    France  Female   42   \n",
       "1             2    15647311       Hill          608     Spain  Female   41   \n",
       "2             3    15619304       Onio          502    France  Female   42   \n",
       "3             4    15701354       Boni          699    France  Female   39   \n",
       "4             5    15737888   Mitchell          850     Spain  Female   43   \n",
       "...         ...         ...        ...          ...       ...     ...  ...   \n",
       "9995       9996    15606229   Obijiaku          771    France    Male   39   \n",
       "9996       9997    15569892  Johnstone          516    France    Male   35   \n",
       "9997       9998    15584532        Liu          709    France  Female   36   \n",
       "9998       9999    15682355  Sabbatini          772   Germany    Male   42   \n",
       "9999      10000    15628319     Walker          792    France  Female   28   \n",
       "\n",
       "      Tenure    Balance  NumOfProducts  HasCrCard  IsActiveMember  \\\n",
       "0        2.0       0.00              1          1               1   \n",
       "1        1.0   83807.86              1          0               1   \n",
       "2        8.0  159660.80              3          1               0   \n",
       "3        1.0       0.00              2          0               0   \n",
       "4        2.0  125510.82              1          1               1   \n",
       "...      ...        ...            ...        ...             ...   \n",
       "9995     5.0       0.00              2          1               0   \n",
       "9996    10.0   57369.61              1          1               1   \n",
       "9997     7.0       0.00              1          0               1   \n",
       "9998     3.0   75075.31              2          1               0   \n",
       "9999     NaN  130142.79              1          1               0   \n",
       "\n",
       "      EstimatedSalary  Exited  \n",
       "0           101348.88       1  \n",
       "1           112542.58       0  \n",
       "2           113931.57       1  \n",
       "3            93826.63       0  \n",
       "4            79084.10       0  \n",
       "...               ...     ...  \n",
       "9995         96270.64       0  \n",
       "9996        101699.77       0  \n",
       "9997         42085.58       1  \n",
       "9998         92888.52       1  \n",
       "9999         38190.78       0  \n",
       "\n",
       "[10000 rows x 14 columns]"
      ]
     },
     "metadata": {},
     "output_type": "display_data"
    },
    {
     "name": "stdout",
     "output_type": "stream",
     "text": [
      "\n",
      ".info()\n",
      "\n",
      "<class 'pandas.core.frame.DataFrame'>\n",
      "RangeIndex: 10000 entries, 0 to 9999\n",
      "Data columns (total 14 columns):\n",
      " #   Column           Non-Null Count  Dtype  \n",
      "---  ------           --------------  -----  \n",
      " 0   RowNumber        10000 non-null  int64  \n",
      " 1   CustomerId       10000 non-null  int64  \n",
      " 2   Surname          10000 non-null  object \n",
      " 3   CreditScore      10000 non-null  int64  \n",
      " 4   Geography        10000 non-null  object \n",
      " 5   Gender           10000 non-null  object \n",
      " 6   Age              10000 non-null  int64  \n",
      " 7   Tenure           9091 non-null   float64\n",
      " 8   Balance          10000 non-null  float64\n",
      " 9   NumOfProducts    10000 non-null  int64  \n",
      " 10  HasCrCard        10000 non-null  int64  \n",
      " 11  IsActiveMember   10000 non-null  int64  \n",
      " 12  EstimatedSalary  10000 non-null  float64\n",
      " 13  Exited           10000 non-null  int64  \n",
      "dtypes: float64(3), int64(8), object(3)\n",
      "memory usage: 1.1+ MB\n",
      "None\n",
      "\n",
      "Заголовки\n"
     ]
    },
    {
     "data": {
      "text/plain": [
       "['RowNumber',\n",
       " 'CustomerId',\n",
       " 'Surname',\n",
       " 'CreditScore',\n",
       " 'Geography',\n",
       " 'Gender',\n",
       " 'Age',\n",
       " 'Tenure',\n",
       " 'Balance',\n",
       " 'NumOfProducts',\n",
       " 'HasCrCard',\n",
       " 'IsActiveMember',\n",
       " 'EstimatedSalary',\n",
       " 'Exited']"
      ]
     },
     "metadata": {},
     "output_type": "display_data"
    },
    {
     "name": "stdout",
     "output_type": "stream",
     "text": [
      "\n",
      ".describe(числовых значений датафрейма)\n"
     ]
    },
    {
     "data": {
      "text/html": [
       "<div>\n",
       "<style scoped>\n",
       "    .dataframe tbody tr th:only-of-type {\n",
       "        vertical-align: middle;\n",
       "    }\n",
       "\n",
       "    .dataframe tbody tr th {\n",
       "        vertical-align: top;\n",
       "    }\n",
       "\n",
       "    .dataframe thead th {\n",
       "        text-align: right;\n",
       "    }\n",
       "</style>\n",
       "<table border=\"1\" class=\"dataframe\">\n",
       "  <thead>\n",
       "    <tr style=\"text-align: right;\">\n",
       "      <th></th>\n",
       "      <th>RowNumber</th>\n",
       "      <th>CustomerId</th>\n",
       "      <th>CreditScore</th>\n",
       "      <th>Age</th>\n",
       "      <th>Tenure</th>\n",
       "      <th>Balance</th>\n",
       "      <th>NumOfProducts</th>\n",
       "      <th>HasCrCard</th>\n",
       "      <th>IsActiveMember</th>\n",
       "      <th>EstimatedSalary</th>\n",
       "      <th>Exited</th>\n",
       "    </tr>\n",
       "  </thead>\n",
       "  <tbody>\n",
       "    <tr>\n",
       "      <th>count</th>\n",
       "      <td>10000.00000</td>\n",
       "      <td>1.000000e+04</td>\n",
       "      <td>10000.000000</td>\n",
       "      <td>10000.000000</td>\n",
       "      <td>9091.000000</td>\n",
       "      <td>10000.000000</td>\n",
       "      <td>10000.000000</td>\n",
       "      <td>10000.00000</td>\n",
       "      <td>10000.000000</td>\n",
       "      <td>10000.000000</td>\n",
       "      <td>10000.000000</td>\n",
       "    </tr>\n",
       "    <tr>\n",
       "      <th>mean</th>\n",
       "      <td>5000.50000</td>\n",
       "      <td>1.569094e+07</td>\n",
       "      <td>650.528800</td>\n",
       "      <td>38.921800</td>\n",
       "      <td>4.997690</td>\n",
       "      <td>76485.889288</td>\n",
       "      <td>1.530200</td>\n",
       "      <td>0.70550</td>\n",
       "      <td>0.515100</td>\n",
       "      <td>100090.239881</td>\n",
       "      <td>0.203700</td>\n",
       "    </tr>\n",
       "    <tr>\n",
       "      <th>std</th>\n",
       "      <td>2886.89568</td>\n",
       "      <td>7.193619e+04</td>\n",
       "      <td>96.653299</td>\n",
       "      <td>10.487806</td>\n",
       "      <td>2.894723</td>\n",
       "      <td>62397.405202</td>\n",
       "      <td>0.581654</td>\n",
       "      <td>0.45584</td>\n",
       "      <td>0.499797</td>\n",
       "      <td>57510.492818</td>\n",
       "      <td>0.402769</td>\n",
       "    </tr>\n",
       "    <tr>\n",
       "      <th>min</th>\n",
       "      <td>1.00000</td>\n",
       "      <td>1.556570e+07</td>\n",
       "      <td>350.000000</td>\n",
       "      <td>18.000000</td>\n",
       "      <td>0.000000</td>\n",
       "      <td>0.000000</td>\n",
       "      <td>1.000000</td>\n",
       "      <td>0.00000</td>\n",
       "      <td>0.000000</td>\n",
       "      <td>11.580000</td>\n",
       "      <td>0.000000</td>\n",
       "    </tr>\n",
       "    <tr>\n",
       "      <th>25%</th>\n",
       "      <td>2500.75000</td>\n",
       "      <td>1.562853e+07</td>\n",
       "      <td>584.000000</td>\n",
       "      <td>32.000000</td>\n",
       "      <td>2.000000</td>\n",
       "      <td>0.000000</td>\n",
       "      <td>1.000000</td>\n",
       "      <td>0.00000</td>\n",
       "      <td>0.000000</td>\n",
       "      <td>51002.110000</td>\n",
       "      <td>0.000000</td>\n",
       "    </tr>\n",
       "    <tr>\n",
       "      <th>50%</th>\n",
       "      <td>5000.50000</td>\n",
       "      <td>1.569074e+07</td>\n",
       "      <td>652.000000</td>\n",
       "      <td>37.000000</td>\n",
       "      <td>5.000000</td>\n",
       "      <td>97198.540000</td>\n",
       "      <td>1.000000</td>\n",
       "      <td>1.00000</td>\n",
       "      <td>1.000000</td>\n",
       "      <td>100193.915000</td>\n",
       "      <td>0.000000</td>\n",
       "    </tr>\n",
       "    <tr>\n",
       "      <th>75%</th>\n",
       "      <td>7500.25000</td>\n",
       "      <td>1.575323e+07</td>\n",
       "      <td>718.000000</td>\n",
       "      <td>44.000000</td>\n",
       "      <td>7.000000</td>\n",
       "      <td>127644.240000</td>\n",
       "      <td>2.000000</td>\n",
       "      <td>1.00000</td>\n",
       "      <td>1.000000</td>\n",
       "      <td>149388.247500</td>\n",
       "      <td>0.000000</td>\n",
       "    </tr>\n",
       "    <tr>\n",
       "      <th>max</th>\n",
       "      <td>10000.00000</td>\n",
       "      <td>1.581569e+07</td>\n",
       "      <td>850.000000</td>\n",
       "      <td>92.000000</td>\n",
       "      <td>10.000000</td>\n",
       "      <td>250898.090000</td>\n",
       "      <td>4.000000</td>\n",
       "      <td>1.00000</td>\n",
       "      <td>1.000000</td>\n",
       "      <td>199992.480000</td>\n",
       "      <td>1.000000</td>\n",
       "    </tr>\n",
       "  </tbody>\n",
       "</table>\n",
       "</div>"
      ],
      "text/plain": [
       "         RowNumber    CustomerId   CreditScore           Age       Tenure  \\\n",
       "count  10000.00000  1.000000e+04  10000.000000  10000.000000  9091.000000   \n",
       "mean    5000.50000  1.569094e+07    650.528800     38.921800     4.997690   \n",
       "std     2886.89568  7.193619e+04     96.653299     10.487806     2.894723   \n",
       "min        1.00000  1.556570e+07    350.000000     18.000000     0.000000   \n",
       "25%     2500.75000  1.562853e+07    584.000000     32.000000     2.000000   \n",
       "50%     5000.50000  1.569074e+07    652.000000     37.000000     5.000000   \n",
       "75%     7500.25000  1.575323e+07    718.000000     44.000000     7.000000   \n",
       "max    10000.00000  1.581569e+07    850.000000     92.000000    10.000000   \n",
       "\n",
       "             Balance  NumOfProducts    HasCrCard  IsActiveMember  \\\n",
       "count   10000.000000   10000.000000  10000.00000    10000.000000   \n",
       "mean    76485.889288       1.530200      0.70550        0.515100   \n",
       "std     62397.405202       0.581654      0.45584        0.499797   \n",
       "min         0.000000       1.000000      0.00000        0.000000   \n",
       "25%         0.000000       1.000000      0.00000        0.000000   \n",
       "50%     97198.540000       1.000000      1.00000        1.000000   \n",
       "75%    127644.240000       2.000000      1.00000        1.000000   \n",
       "max    250898.090000       4.000000      1.00000        1.000000   \n",
       "\n",
       "       EstimatedSalary        Exited  \n",
       "count     10000.000000  10000.000000  \n",
       "mean     100090.239881      0.203700  \n",
       "std       57510.492818      0.402769  \n",
       "min          11.580000      0.000000  \n",
       "25%       51002.110000      0.000000  \n",
       "50%      100193.915000      0.000000  \n",
       "75%      149388.247500      0.000000  \n",
       "max      199992.480000      1.000000  "
      ]
     },
     "metadata": {},
     "output_type": "display_data"
    },
    {
     "name": "stdout",
     "output_type": "stream",
     "text": [
      "\n",
      ".describe(категориальных значений и дат)\n"
     ]
    },
    {
     "data": {
      "text/html": [
       "<div>\n",
       "<style scoped>\n",
       "    .dataframe tbody tr th:only-of-type {\n",
       "        vertical-align: middle;\n",
       "    }\n",
       "\n",
       "    .dataframe tbody tr th {\n",
       "        vertical-align: top;\n",
       "    }\n",
       "\n",
       "    .dataframe thead th {\n",
       "        text-align: right;\n",
       "    }\n",
       "</style>\n",
       "<table border=\"1\" class=\"dataframe\">\n",
       "  <thead>\n",
       "    <tr style=\"text-align: right;\">\n",
       "      <th></th>\n",
       "      <th>Surname</th>\n",
       "      <th>Geography</th>\n",
       "      <th>Gender</th>\n",
       "    </tr>\n",
       "  </thead>\n",
       "  <tbody>\n",
       "    <tr>\n",
       "      <th>count</th>\n",
       "      <td>10000</td>\n",
       "      <td>10000</td>\n",
       "      <td>10000</td>\n",
       "    </tr>\n",
       "    <tr>\n",
       "      <th>unique</th>\n",
       "      <td>2932</td>\n",
       "      <td>3</td>\n",
       "      <td>2</td>\n",
       "    </tr>\n",
       "    <tr>\n",
       "      <th>top</th>\n",
       "      <td>Smith</td>\n",
       "      <td>France</td>\n",
       "      <td>Male</td>\n",
       "    </tr>\n",
       "    <tr>\n",
       "      <th>freq</th>\n",
       "      <td>32</td>\n",
       "      <td>5014</td>\n",
       "      <td>5457</td>\n",
       "    </tr>\n",
       "  </tbody>\n",
       "</table>\n",
       "</div>"
      ],
      "text/plain": [
       "       Surname Geography Gender\n",
       "count    10000     10000  10000\n",
       "unique    2932         3      2\n",
       "top      Smith    France   Male\n",
       "freq        32      5014   5457"
      ]
     },
     "metadata": {},
     "output_type": "display_data"
    }
   ],
   "source": [
    "overview(df)"
   ]
  },
  {
   "cell_type": "markdown",
   "metadata": {},
   "source": [
    "<a id='review_conclusions'></a>\n",
    "### Выводы [▴](#head)"
   ]
  },
  {
   "cell_type": "markdown",
   "metadata": {},
   "source": [
    "При предварительном осмотре данных выяснили следующие моменты:\n",
    "- В столбце **`Tenure`** пропущенны значения, разберемся с ними на этапе предобработки.\n",
    "- Столбцы: **`RowNumber`**, **`CustomerId`**, **`Surname`** - не несут для нашей модели никакой полезной информации и являются мусорными. Удалим их на этапе подготовки данных.\n",
    "- Столбцы: **`Geography`**, **`Gender`** - имеют текстовый тип данных, требуется преобразовать их в числовой, техникой прямого кодирования **`OHE`**"
   ]
  },
  {
   "cell_type": "markdown",
   "metadata": {},
   "source": [
    "<a id='preprocessing'></a>\n",
    "## 2. Подготовка данных"
   ]
  },
  {
   "cell_type": "markdown",
   "metadata": {},
   "source": [
    "<a id='preprocessing_01'></a>\n",
    "### 2.1 Предобработка данных [▴](#head)"
   ]
  },
  {
   "cell_type": "markdown",
   "metadata": {},
   "source": [
    "Разберемся с пропущенными значениями в столбце **`Tenure`**"
   ]
  },
  {
   "cell_type": "code",
   "execution_count": 5,
   "metadata": {},
   "outputs": [
    {
     "name": "stdout",
     "output_type": "stream",
     "text": [
      "Количество пропусков в столбце Tenure: 909\n",
      "Что составляет: 9.09% от всех значений столбца\n"
     ]
    }
   ],
   "source": [
    "print('Количество пропусков в столбце Tenure:', df.Tenure.isna().sum())\n",
    "print('Что составляет: ', df.Tenure.isna().sum()/df.shape[0] * 100, '% от всех значений столбца', sep='')"
   ]
  },
  {
   "cell_type": "markdown",
   "metadata": {},
   "source": [
    "Пропущенные значения составляют **`9%`** от датафрейма. В теории даже если мы просто удалим эти значения, нам хватит данных для обучения. Но сначала посмотрим, сможем ли мы чем-то заполнить их.\n",
    "\n",
    "Посмотрим какие значения и в каком количестве присутствуют в столбце **`Tenure`** (сколько лет челвоек является клиентом банка)"
   ]
  },
  {
   "cell_type": "code",
   "execution_count": 6,
   "metadata": {},
   "outputs": [
    {
     "data": {
      "image/png": "[encoded data removed]",
      "text/plain": [
       "<Figure size 1080x360 with 1 Axes>"
      ]
     },
     "metadata": {
      "needs_background": "light"
     },
     "output_type": "display_data"
    }
   ],
   "source": [
    "(\n",
    "    df.Tenure\n",
    "    .value_counts()\n",
    "    .sort_index()\n",
    "    .plot.bar(figsize=(15,5), grid=True)\n",
    ")\n",
    "\n",
    "plt.title('Распределение клиентов, относительно продолжительности обслуживания в банке')\n",
    "plt.xlabel('Количество лет')\n",
    "plt.ylabel('Количество клиентов')\n",
    "plt.show()"
   ]
  },
  {
   "cell_type": "markdown",
   "metadata": {},
   "source": [
    "Из диаграммы видно, что по количеству значений сильно отстают клиенты, которые обслуживаются в банке меньше одного года. По логике, таких клиентов наоборот должно быть большинство, так как банк постоянно набирает новых клиентов и с течением времени часть из них отваливается. Вполне возможно, что при заполнении таблицы вместо нуля в поле ничего не вписывали. По этому имеем **`NaN`**. Считаю разумным заполнить данные пропуски нулями."
   ]
  },
  {
   "cell_type": "code",
   "execution_count": 7,
   "metadata": {
    "scrolled": false
   },
   "outputs": [],
   "source": [
    "df.Tenure.fillna(value=0, inplace=True)"
   ]
  },
  {
   "cell_type": "code",
   "execution_count": 8,
   "metadata": {},
   "outputs": [
    {
     "data": {
      "image/png": "[encoded data removed]",
      "text/plain": [
       "<Figure size 1080x360 with 1 Axes>"
      ]
     },
     "metadata": {
      "needs_background": "light"
     },
     "output_type": "display_data"
    }
   ],
   "source": [
    "(\n",
    "    df.Tenure\n",
    "    .value_counts()\n",
    "    .sort_index()\n",
    "    .plot.bar(figsize=(15,5), grid=True)\n",
    ")\n",
    "\n",
    "plt.title('Распределение клиентов, относительно продолжительности обслуживания в банке')\n",
    "plt.xlabel('Количество лет')\n",
    "plt.ylabel('Количество клиентов')\n",
    "plt.show()"
   ]
  },
  {
   "cell_type": "markdown",
   "metadata": {},
   "source": [
    "Теперь картина выглядит более правдоподобно.\n",
    "\n",
    "Еще раз проверим что все в порядке:"
   ]
  },
  {
   "cell_type": "code",
   "execution_count": 9,
   "metadata": {},
   "outputs": [
    {
     "name": "stdout",
     "output_type": "stream",
     "text": [
      "<class 'pandas.core.frame.DataFrame'>\n",
      "RangeIndex: 10000 entries, 0 to 9999\n",
      "Data columns (total 14 columns):\n",
      " #   Column           Non-Null Count  Dtype  \n",
      "---  ------           --------------  -----  \n",
      " 0   RowNumber        10000 non-null  int64  \n",
      " 1   CustomerId       10000 non-null  int64  \n",
      " 2   Surname          10000 non-null  object \n",
      " 3   CreditScore      10000 non-null  int64  \n",
      " 4   Geography        10000 non-null  object \n",
      " 5   Gender           10000 non-null  object \n",
      " 6   Age              10000 non-null  int64  \n",
      " 7   Tenure           10000 non-null  float64\n",
      " 8   Balance          10000 non-null  float64\n",
      " 9   NumOfProducts    10000 non-null  int64  \n",
      " 10  HasCrCard        10000 non-null  int64  \n",
      " 11  IsActiveMember   10000 non-null  int64  \n",
      " 12  EstimatedSalary  10000 non-null  float64\n",
      " 13  Exited           10000 non-null  int64  \n",
      "dtypes: float64(3), int64(8), object(3)\n",
      "memory usage: 1.1+ MB\n"
     ]
    }
   ],
   "source": [
    "df.info()"
   ]
  },
  {
   "cell_type": "markdown",
   "metadata": {},
   "source": [
    "Теперь разберемся с лишними столбцами.\n",
    "\n",
    "Столбцы: **`RowNumber`**, **`CustomerId`**, **`Surname`** - содержат имена и ID клиентов, а так-же номера строк. Для нашей модели это просто белый шум, так как данная информация не несет никакой полезной нагрузки. Удалим эти столбцы из нашего датафрейма."
   ]
  },
  {
   "cell_type": "code",
   "execution_count": 10,
   "metadata": {},
   "outputs": [],
   "source": [
    "df.drop(['RowNumber', 'CustomerId' , 'Surname'], axis=1, inplace=True)"
   ]
  },
  {
   "cell_type": "code",
   "execution_count": 11,
   "metadata": {},
   "outputs": [
    {
     "data": {
      "text/html": [
       "<div>\n",
       "<style scoped>\n",
       "    .dataframe tbody tr th:only-of-type {\n",
       "        vertical-align: middle;\n",
       "    }\n",
       "\n",
       "    .dataframe tbody tr th {\n",
       "        vertical-align: top;\n",
       "    }\n",
       "\n",
       "    .dataframe thead th {\n",
       "        text-align: right;\n",
       "    }\n",
       "</style>\n",
       "<table border=\"1\" class=\"dataframe\">\n",
       "  <thead>\n",
       "    <tr style=\"text-align: right;\">\n",
       "      <th></th>\n",
       "      <th>CreditScore</th>\n",
       "      <th>Geography</th>\n",
       "      <th>Gender</th>\n",
       "      <th>Age</th>\n",
       "      <th>Tenure</th>\n",
       "      <th>Balance</th>\n",
       "      <th>NumOfProducts</th>\n",
       "      <th>HasCrCard</th>\n",
       "      <th>IsActiveMember</th>\n",
       "      <th>EstimatedSalary</th>\n",
       "      <th>Exited</th>\n",
       "    </tr>\n",
       "  </thead>\n",
       "  <tbody>\n",
       "    <tr>\n",
       "      <th>0</th>\n",
       "      <td>619</td>\n",
       "      <td>France</td>\n",
       "      <td>Female</td>\n",
       "      <td>42</td>\n",
       "      <td>2.0</td>\n",
       "      <td>0.00</td>\n",
       "      <td>1</td>\n",
       "      <td>1</td>\n",
       "      <td>1</td>\n",
       "      <td>101348.88</td>\n",
       "      <td>1</td>\n",
       "    </tr>\n",
       "    <tr>\n",
       "      <th>1</th>\n",
       "      <td>608</td>\n",
       "      <td>Spain</td>\n",
       "      <td>Female</td>\n",
       "      <td>41</td>\n",
       "      <td>1.0</td>\n",
       "      <td>83807.86</td>\n",
       "      <td>1</td>\n",
       "      <td>0</td>\n",
       "      <td>1</td>\n",
       "      <td>112542.58</td>\n",
       "      <td>0</td>\n",
       "    </tr>\n",
       "  </tbody>\n",
       "</table>\n",
       "</div>"
      ],
      "text/plain": [
       "   CreditScore Geography  Gender  Age  Tenure   Balance  NumOfProducts  \\\n",
       "0          619    France  Female   42     2.0      0.00              1   \n",
       "1          608     Spain  Female   41     1.0  83807.86              1   \n",
       "\n",
       "   HasCrCard  IsActiveMember  EstimatedSalary  Exited  \n",
       "0          1               1        101348.88       1  \n",
       "1          0               1        112542.58       0  "
      ]
     },
     "execution_count": 11,
     "metadata": {},
     "output_type": "execute_result"
    }
   ],
   "source": [
    "df.head(2)"
   ]
  },
  {
   "cell_type": "markdown",
   "metadata": {},
   "source": [
    "<a id='preprocessing_02'></a>\n",
    "### 2.2 Подготовка данных [▴](#head)"
   ]
  },
  {
   "cell_type": "markdown",
   "metadata": {},
   "source": [
    "Переведем наши категориальные признаки в цифровые с помощью техники прямого кодирования **`OHE`**"
   ]
  },
  {
   "cell_type": "code",
   "execution_count": 12,
   "metadata": {},
   "outputs": [],
   "source": [
    "df_ohe = pd.get_dummies(df, drop_first=True)"
   ]
  },
  {
   "cell_type": "code",
   "execution_count": 13,
   "metadata": {},
   "outputs": [
    {
     "data": {
      "text/html": [
       "<div>\n",
       "<style scoped>\n",
       "    .dataframe tbody tr th:only-of-type {\n",
       "        vertical-align: middle;\n",
       "    }\n",
       "\n",
       "    .dataframe tbody tr th {\n",
       "        vertical-align: top;\n",
       "    }\n",
       "\n",
       "    .dataframe thead th {\n",
       "        text-align: right;\n",
       "    }\n",
       "</style>\n",
       "<table border=\"1\" class=\"dataframe\">\n",
       "  <thead>\n",
       "    <tr style=\"text-align: right;\">\n",
       "      <th></th>\n",
       "      <th>CreditScore</th>\n",
       "      <th>Age</th>\n",
       "      <th>Tenure</th>\n",
       "      <th>Balance</th>\n",
       "      <th>NumOfProducts</th>\n",
       "      <th>HasCrCard</th>\n",
       "      <th>IsActiveMember</th>\n",
       "      <th>EstimatedSalary</th>\n",
       "      <th>Exited</th>\n",
       "      <th>Geography_Germany</th>\n",
       "      <th>Geography_Spain</th>\n",
       "      <th>Gender_Male</th>\n",
       "    </tr>\n",
       "  </thead>\n",
       "  <tbody>\n",
       "    <tr>\n",
       "      <th>0</th>\n",
       "      <td>619</td>\n",
       "      <td>42</td>\n",
       "      <td>2.0</td>\n",
       "      <td>0.00</td>\n",
       "      <td>1</td>\n",
       "      <td>1</td>\n",
       "      <td>1</td>\n",
       "      <td>101348.88</td>\n",
       "      <td>1</td>\n",
       "      <td>0</td>\n",
       "      <td>0</td>\n",
       "      <td>0</td>\n",
       "    </tr>\n",
       "    <tr>\n",
       "      <th>1</th>\n",
       "      <td>608</td>\n",
       "      <td>41</td>\n",
       "      <td>1.0</td>\n",
       "      <td>83807.86</td>\n",
       "      <td>1</td>\n",
       "      <td>0</td>\n",
       "      <td>1</td>\n",
       "      <td>112542.58</td>\n",
       "      <td>0</td>\n",
       "      <td>0</td>\n",
       "      <td>1</td>\n",
       "      <td>0</td>\n",
       "    </tr>\n",
       "    <tr>\n",
       "      <th>2</th>\n",
       "      <td>502</td>\n",
       "      <td>42</td>\n",
       "      <td>8.0</td>\n",
       "      <td>159660.80</td>\n",
       "      <td>3</td>\n",
       "      <td>1</td>\n",
       "      <td>0</td>\n",
       "      <td>113931.57</td>\n",
       "      <td>1</td>\n",
       "      <td>0</td>\n",
       "      <td>0</td>\n",
       "      <td>0</td>\n",
       "    </tr>\n",
       "    <tr>\n",
       "      <th>3</th>\n",
       "      <td>699</td>\n",
       "      <td>39</td>\n",
       "      <td>1.0</td>\n",
       "      <td>0.00</td>\n",
       "      <td>2</td>\n",
       "      <td>0</td>\n",
       "      <td>0</td>\n",
       "      <td>93826.63</td>\n",
       "      <td>0</td>\n",
       "      <td>0</td>\n",
       "      <td>0</td>\n",
       "      <td>0</td>\n",
       "    </tr>\n",
       "    <tr>\n",
       "      <th>4</th>\n",
       "      <td>850</td>\n",
       "      <td>43</td>\n",
       "      <td>2.0</td>\n",
       "      <td>125510.82</td>\n",
       "      <td>1</td>\n",
       "      <td>1</td>\n",
       "      <td>1</td>\n",
       "      <td>79084.10</td>\n",
       "      <td>0</td>\n",
       "      <td>0</td>\n",
       "      <td>1</td>\n",
       "      <td>0</td>\n",
       "    </tr>\n",
       "  </tbody>\n",
       "</table>\n",
       "</div>"
      ],
      "text/plain": [
       "   CreditScore  Age  Tenure    Balance  NumOfProducts  HasCrCard  \\\n",
       "0          619   42     2.0       0.00              1          1   \n",
       "1          608   41     1.0   83807.86              1          0   \n",
       "2          502   42     8.0  159660.80              3          1   \n",
       "3          699   39     1.0       0.00              2          0   \n",
       "4          850   43     2.0  125510.82              1          1   \n",
       "\n",
       "   IsActiveMember  EstimatedSalary  Exited  Geography_Germany  \\\n",
       "0               1        101348.88       1                  0   \n",
       "1               1        112542.58       0                  0   \n",
       "2               0        113931.57       1                  0   \n",
       "3               0         93826.63       0                  0   \n",
       "4               1         79084.10       0                  0   \n",
       "\n",
       "   Geography_Spain  Gender_Male  \n",
       "0                0            0  \n",
       "1                1            0  \n",
       "2                0            0  \n",
       "3                0            0  \n",
       "4                1            0  "
      ]
     },
     "execution_count": 13,
     "metadata": {},
     "output_type": "execute_result"
    }
   ],
   "source": [
    "df_ohe.head()"
   ]
  },
  {
   "cell_type": "markdown",
   "metadata": {},
   "source": [
    "Теперь займемся подготовкой выборок.\n",
    "\n",
    "Разделим выборку на **`3`** части в следующих пропорциях:\n",
    "- Тренировочную - **`60%`**\n",
    "- Валидационную - **`20%`**\n",
    "- Тестовую - **`20%`**"
   ]
  },
  {
   "cell_type": "code",
   "execution_count": 14,
   "metadata": {},
   "outputs": [
    {
     "name": "stdout",
     "output_type": "stream",
     "text": [
      "Исходный размер датафрейма: (10000, 12)\n"
     ]
    }
   ],
   "source": [
    "print('Исходный размер датафрейма:', df_ohe.shape)"
   ]
  },
  {
   "cell_type": "markdown",
   "metadata": {},
   "source": [
    "Делим исходный датафрейм:\n",
    "- на обычные **`features`**\n",
    "- и целевые **`target`** параметры"
   ]
  },
  {
   "cell_type": "code",
   "execution_count": 15,
   "metadata": {},
   "outputs": [
    {
     "name": "stdout",
     "output_type": "stream",
     "text": [
      "features: (10000, 11)\n",
      "target: (10000,)\n"
     ]
    }
   ],
   "source": [
    "features = df_ohe.drop(['Exited'], axis=1)\n",
    "target = df_ohe['Exited']\n",
    "\n",
    "print('features:', features.shape)\n",
    "print('target:', target.shape)"
   ]
  },
  {
   "cell_type": "markdown",
   "metadata": {},
   "source": [
    "Теперь разделим датафрейм на тренировочную **`train`** и валидационную **`valid`** выборку в пропорции **`60 / 40`**. Не забудем стратифицировать целевые признаки."
   ]
  },
  {
   "cell_type": "code",
   "execution_count": 16,
   "metadata": {},
   "outputs": [],
   "source": [
    "features_train, features_valid, target_train, target_valid = train_test_split(\n",
    "    features, target, \n",
    "    random_state=12345,\n",
    "    test_size=0.4,\n",
    "    stratify=target)"
   ]
  },
  {
   "cell_type": "code",
   "execution_count": 17,
   "metadata": {},
   "outputs": [
    {
     "name": "stdout",
     "output_type": "stream",
     "text": [
      "Тренирвочные:\n",
      "Доля: 0.6 | features: (6000, 11)\n",
      "Доля: 0.6 | target: (6000,) \n",
      "\n",
      "Валидационные:\n",
      "Доля: 0.4 | features: (4000, 11)\n",
      "Доля: 0.4 | target: (4000,) \n",
      "\n"
     ]
    }
   ],
   "source": [
    "print('Тренирвочные:')\n",
    "print('Доля:', len(features_train) / len(df), '| features:', features_train.shape)\n",
    "print('Доля:', len(target_train) / len(df), '| target:', target_train.shape, '\\n')\n",
    "\n",
    "print('Валидационные:')\n",
    "print('Доля:', len(features_valid) / len(df), '| features:', features_valid.shape)\n",
    "print('Доля:', len(target_valid) / len(df), '| target:', target_valid.shape, '\\n')"
   ]
  },
  {
   "cell_type": "markdown",
   "metadata": {},
   "source": [
    "Для того чтобы получить тестовую **`test`** выборку, разделим нашу валидационную **`valid`** выборку в соотношении **`50/50`** "
   ]
  },
  {
   "cell_type": "code",
   "execution_count": 18,
   "metadata": {},
   "outputs": [],
   "source": [
    "features_valid, features_test, target_valid, target_test = train_test_split(\n",
    "    features_valid, target_valid, \n",
    "    random_state=12345,\n",
    "    test_size=0.5,\n",
    "    stratify=target_valid)"
   ]
  },
  {
   "cell_type": "markdown",
   "metadata": {},
   "source": [
    "Проверяем полученные выборки:"
   ]
  },
  {
   "cell_type": "code",
   "execution_count": 19,
   "metadata": {},
   "outputs": [
    {
     "name": "stdout",
     "output_type": "stream",
     "text": [
      "Тренирвочные:\n",
      "Доля: 0.6 | features: (6000, 11)\n",
      "Доля: 0.6 | target: (6000,) \n",
      "\n",
      "Валидационные:\n",
      "Доля: 0.2 | features: (2000, 11)\n",
      "Доля: 0.2 | target: (2000,) \n",
      "\n",
      "Тестовые:\n",
      "Доля: 0.2 | features: (2000, 11)\n",
      "Доля: 0.2 | target: (2000,)\n"
     ]
    }
   ],
   "source": [
    "print('Тренирвочные:')\n",
    "print('Доля:', len(features_train) / len(df), '| features:', features_train.shape)\n",
    "print('Доля:', len(target_train) / len(df), '| target:', target_train.shape, '\\n')\n",
    "\n",
    "print('Валидационные:')\n",
    "print('Доля:', len(features_valid) / len(df), '| features:', features_valid.shape)\n",
    "print('Доля:', len(target_valid) / len(df), '| target:', target_valid.shape, '\\n')\n",
    "    \n",
    "print('Тестовые:')\n",
    "print('Доля:', len(features_test) / len(df), '| features:', features_test.shape)\n",
    "print('Доля:', len(target_test) / len(df), '| target:', target_test.shape)"
   ]
  },
  {
   "cell_type": "markdown",
   "metadata": {},
   "source": [
    "Так как значения в зависимости от столбца могут отличаться на несколько порядков необъодимо выполнить **`масштабирование признаков`**.\n",
    "<a id='scaler'></a>"
   ]
  },
  {
   "cell_type": "code",
   "execution_count": 20,
   "metadata": {},
   "outputs": [
    {
     "data": {
      "text/html": [
       "<div>\n",
       "<style scoped>\n",
       "    .dataframe tbody tr th:only-of-type {\n",
       "        vertical-align: middle;\n",
       "    }\n",
       "\n",
       "    .dataframe tbody tr th {\n",
       "        vertical-align: top;\n",
       "    }\n",
       "\n",
       "    .dataframe thead th {\n",
       "        text-align: right;\n",
       "    }\n",
       "</style>\n",
       "<table border=\"1\" class=\"dataframe\">\n",
       "  <thead>\n",
       "    <tr style=\"text-align: right;\">\n",
       "      <th></th>\n",
       "      <th>CreditScore</th>\n",
       "      <th>Age</th>\n",
       "      <th>Tenure</th>\n",
       "      <th>Balance</th>\n",
       "      <th>NumOfProducts</th>\n",
       "      <th>HasCrCard</th>\n",
       "      <th>IsActiveMember</th>\n",
       "      <th>EstimatedSalary</th>\n",
       "      <th>Geography_Germany</th>\n",
       "      <th>Geography_Spain</th>\n",
       "      <th>Gender_Male</th>\n",
       "    </tr>\n",
       "  </thead>\n",
       "  <tbody>\n",
       "    <tr>\n",
       "      <th>2837</th>\n",
       "      <td>-1.040434</td>\n",
       "      <td>0.953312</td>\n",
       "      <td>0.467449</td>\n",
       "      <td>0.774657</td>\n",
       "      <td>-0.914708</td>\n",
       "      <td>-1.525709</td>\n",
       "      <td>0.969466</td>\n",
       "      <td>-0.119110</td>\n",
       "      <td>1.739007</td>\n",
       "      <td>-0.575811</td>\n",
       "      <td>-1.102198</td>\n",
       "    </tr>\n",
       "    <tr>\n",
       "      <th>9925</th>\n",
       "      <td>0.454006</td>\n",
       "      <td>-0.095244</td>\n",
       "      <td>-1.461501</td>\n",
       "      <td>1.910540</td>\n",
       "      <td>-0.914708</td>\n",
       "      <td>0.655433</td>\n",
       "      <td>0.969466</td>\n",
       "      <td>-0.258658</td>\n",
       "      <td>-0.575041</td>\n",
       "      <td>-0.575811</td>\n",
       "      <td>-1.102198</td>\n",
       "    </tr>\n",
       "    <tr>\n",
       "      <th>8746</th>\n",
       "      <td>0.103585</td>\n",
       "      <td>-0.476537</td>\n",
       "      <td>1.110432</td>\n",
       "      <td>0.481608</td>\n",
       "      <td>0.820981</td>\n",
       "      <td>-1.525709</td>\n",
       "      <td>0.969466</td>\n",
       "      <td>1.422836</td>\n",
       "      <td>-0.575041</td>\n",
       "      <td>-0.575811</td>\n",
       "      <td>0.907278</td>\n",
       "    </tr>\n",
       "    <tr>\n",
       "      <th>660</th>\n",
       "      <td>-0.184996</td>\n",
       "      <td>0.190726</td>\n",
       "      <td>-1.461501</td>\n",
       "      <td>0.088439</td>\n",
       "      <td>-0.914708</td>\n",
       "      <td>0.655433</td>\n",
       "      <td>0.969466</td>\n",
       "      <td>-1.160427</td>\n",
       "      <td>1.739007</td>\n",
       "      <td>-0.575811</td>\n",
       "      <td>-1.102198</td>\n",
       "    </tr>\n",
       "    <tr>\n",
       "      <th>3610</th>\n",
       "      <td>-0.720933</td>\n",
       "      <td>1.620574</td>\n",
       "      <td>-1.140009</td>\n",
       "      <td>0.879129</td>\n",
       "      <td>-0.914708</td>\n",
       "      <td>0.655433</td>\n",
       "      <td>-1.031496</td>\n",
       "      <td>0.113236</td>\n",
       "      <td>-0.575041</td>\n",
       "      <td>-0.575811</td>\n",
       "      <td>-1.102198</td>\n",
       "    </tr>\n",
       "  </tbody>\n",
       "</table>\n",
       "</div>"
      ],
      "text/plain": [
       "      CreditScore       Age    Tenure   Balance  NumOfProducts  HasCrCard  \\\n",
       "2837    -1.040434  0.953312  0.467449  0.774657      -0.914708  -1.525709   \n",
       "9925     0.454006 -0.095244 -1.461501  1.910540      -0.914708   0.655433   \n",
       "8746     0.103585 -0.476537  1.110432  0.481608       0.820981  -1.525709   \n",
       "660     -0.184996  0.190726 -1.461501  0.088439      -0.914708   0.655433   \n",
       "3610    -0.720933  1.620574 -1.140009  0.879129      -0.914708   0.655433   \n",
       "\n",
       "      IsActiveMember  EstimatedSalary  Geography_Germany  Geography_Spain  \\\n",
       "2837        0.969466        -0.119110           1.739007        -0.575811   \n",
       "9925        0.969466        -0.258658          -0.575041        -0.575811   \n",
       "8746        0.969466         1.422836          -0.575041        -0.575811   \n",
       "660         0.969466        -1.160427           1.739007        -0.575811   \n",
       "3610       -1.031496         0.113236          -0.575041        -0.575811   \n",
       "\n",
       "      Gender_Male  \n",
       "2837    -1.102198  \n",
       "9925    -1.102198  \n",
       "8746     0.907278  \n",
       "660     -1.102198  \n",
       "3610    -1.102198  "
      ]
     },
     "metadata": {},
     "output_type": "display_data"
    }
   ],
   "source": [
    "numeric = list(features_train.columns)\n",
    "scaler = StandardScaler()\n",
    "scaler.fit(features_train[numeric])\n",
    "features_train[numeric] = scaler.transform(features_train[numeric])\n",
    "features_valid[numeric] = scaler.transform(features_valid[numeric])\n",
    "features_test[numeric] = scaler.transform(features_test[numeric])\n",
    "\n",
    "display(features_train.head())"
   ]
  },
  {
   "cell_type": "markdown",
   "metadata": {},
   "source": [
    "Данные подготовлены, можно приступать к исследованию."
   ]
  },
  {
   "cell_type": "markdown",
   "metadata": {},
   "source": [
    "<a id='research'></a>\n",
    "## 3. Исследование задачи"
   ]
  },
  {
   "cell_type": "markdown",
   "metadata": {},
   "source": [
    "<a id='research_01'></a>\n",
    "### 3.1 Исследование баланса классов [▴](#head)"
   ]
  },
  {
   "cell_type": "markdown",
   "metadata": {},
   "source": [
    "Проанализируем какие классы преобладают в целевых признаках."
   ]
  },
  {
   "cell_type": "code",
   "execution_count": 21,
   "metadata": {},
   "outputs": [
    {
     "data": {
      "image/png": "[encoded data removed]",
      "text/plain": [
       "<Figure size 504x360 with 1 Axes>"
      ]
     },
     "metadata": {
      "needs_background": "light"
     },
     "output_type": "display_data"
    }
   ],
   "source": [
    "(\n",
    "    df['Exited']\n",
    "    .value_counts(normalize=df['Exited'].sum()/df.shape[0])\n",
    "    .plot.bar(figsize=(7, 5), grid=True)\n",
    ")\n",
    "\n",
    "plt.title('Распределение классов')\n",
    "plt.xlabel('Класс')\n",
    "plt.ylabel('Частота')\n",
    "plt.show()"
   ]
  },
  {
   "cell_type": "markdown",
   "metadata": {},
   "source": [
    "Отрицательных классов в 4 раза больше чем положительных. Такое положение дел никуда не годится. Чуть ниже применим техники борьбы с дисбалансом. А пока посмотрим какие показатели выдют наши модели на несбалансированных данных."
   ]
  },
  {
   "cell_type": "markdown",
   "metadata": {},
   "source": [
    "<a id='research_02'></a>\n",
    "### 3.2 Изучение модели без учёта дисбаланса [▴](#head)"
   ]
  },
  {
   "cell_type": "markdown",
   "metadata": {},
   "source": [
    "Для того чтобы не плодить код, напишем функцию **`roc_f1`** для построения **`ROC кривой`**, а так же получения показателей **`AUC ROC`** и **`F1`**. Ниже по коду будем постоянно к ней обращаться."
   ]
  },
  {
   "cell_type": "code",
   "execution_count": 22,
   "metadata": {},
   "outputs": [],
   "source": [
    "def roc_f1(target, predicted, probabilities_one, x_fig_size=5, y_fig_size=4):\n",
    "    \n",
    "    fpr, tpr, thresholds = roc_curve(target, probabilities_one)\n",
    "\n",
    "    plt.figure(figsize=(x_fig_size,y_fig_size))\n",
    "    plt.plot([0, 1], [0, 1], linestyle='--')\n",
    "    plt.plot(fpr, tpr)\n",
    "    plt.xlim([0.0, 1.0])\n",
    "    plt.ylim([0.0, 1.0])\n",
    "    plt.xlabel('False Positive Rate')\n",
    "    plt.ylabel('True Positive Rate')\n",
    "    plt.title('ROC-кривая')\n",
    "    plt.show()\n",
    "    \n",
    "    f_one_score = f1_score(target, predicted)\n",
    "    auc_roc = roc_auc_score(target, probabilities_one)\n",
    "    \n",
    "    print('F1 score:', f_one_score)\n",
    "    print('AUC ROC:', auc_roc)"
   ]
  },
  {
   "cell_type": "markdown",
   "metadata": {},
   "source": [
    "### Логистическая регрессия (disbalanced)"
   ]
  },
  {
   "cell_type": "code",
   "execution_count": 23,
   "metadata": {},
   "outputs": [
    {
     "data": {
      "image/png": "[encoded data removed]",
      "text/plain": [
       "<Figure size 360x288 with 1 Axes>"
      ]
     },
     "metadata": {
      "needs_background": "light"
     },
     "output_type": "display_data"
    },
    {
     "name": "stdout",
     "output_type": "stream",
     "text": [
      "F1 score: 0.3076923076923077\n",
      "AUC ROC: 0.7875729751699675\n"
     ]
    }
   ],
   "source": [
    "model = LogisticRegression(solver='liblinear', random_state=12345)\n",
    "model.fit(features_train, target_train)\n",
    "\n",
    "predicted_valid = model.predict(features_valid)\n",
    "\n",
    "probabilities_valid = model.predict_proba(features_valid)\n",
    "probabilities_one_valid = probabilities_valid[:, 1]\n",
    "\n",
    "roc_f1(target_valid, predicted_valid, probabilities_one_valid) # вызываем нашу функцию"
   ]
  },
  {
   "cell_type": "markdown",
   "metadata": {},
   "source": [
    "### Дерево решений (disbalanced)"
   ]
  },
  {
   "cell_type": "code",
   "execution_count": 24,
   "metadata": {},
   "outputs": [
    {
     "data": {
      "image/png": "[encoded data removed]",
      "text/plain": [
       "<Figure size 360x288 with 1 Axes>"
      ]
     },
     "metadata": {
      "needs_background": "light"
     },
     "output_type": "display_data"
    },
    {
     "name": "stdout",
     "output_type": "stream",
     "text": [
      "F1 score: 0.5924855491329479\n",
      "AUC ROC: 0.8247056360232534\n",
      "Лучшая модель: max_depth  = 7\n"
     ]
    }
   ],
   "source": [
    "best_model = None\n",
    "best_depth = 0\n",
    "best_result = 0\n",
    "\n",
    "for depth in range(1, 15):\n",
    "    model = DecisionTreeClassifier(random_state=12345, max_depth=depth)\n",
    "    model.fit(features_train, target_train)        \n",
    "    predicted_valid = model.predict(features_valid)\n",
    "    f_one_score = f1_score(target_valid, predicted_valid)\n",
    "    \n",
    "    if f_one_score > best_result:\n",
    "        best_depth = depth\n",
    "        best_model = model\n",
    "        best_result = f_one_score\n",
    "\n",
    "best_model.fit(features_train, target_train)       \n",
    "predicted_valid = best_model.predict(features_valid)\n",
    "\n",
    "probabilities_valid = best_model.predict_proba(features_valid)\n",
    "probabilities_one_valid = probabilities_valid[:, 1]\n",
    "\n",
    "roc_f1(target_valid, predicted_valid, probabilities_one_valid)\n",
    "print('Лучшая модель: max_depth  =', best_depth)"
   ]
  },
  {
   "cell_type": "markdown",
   "metadata": {},
   "source": [
    "### Случайный лес (disbalanced)"
   ]
  },
  {
   "cell_type": "code",
   "execution_count": 25,
   "metadata": {},
   "outputs": [
    {
     "data": {
      "image/png": "[encoded data removed]",
      "text/plain": [
       "<Figure size 360x288 with 1 Axes>"
      ]
     },
     "metadata": {
      "needs_background": "light"
     },
     "output_type": "display_data"
    },
    {
     "name": "stdout",
     "output_type": "stream",
     "text": [
      "F1 score: 0.6024464831804281\n",
      "AUC ROC: 0.8697023721548921\n",
      "Лучшая модель: max_depth  = 9 | n_estimators = 20\n"
     ]
    }
   ],
   "source": [
    "best_model = None\n",
    "best_depth = 0\n",
    "best_result = 0\n",
    "best_est = 0\n",
    "\n",
    "for est in range(10, 51, 10):\n",
    "    \n",
    "    for depth in range(1, 10):\n",
    "        model = RandomForestClassifier(random_state=12345, n_estimators=est, max_depth=depth)\n",
    "        model.fit(features_train, target_train)\n",
    "        predicted_valid = model.predict(features_valid)\n",
    "        \n",
    "        f_one_score = f1_score(target_valid, predicted_valid)\n",
    "\n",
    "        if f_one_score > best_result:\n",
    "            best_est = est\n",
    "            best_depth = depth\n",
    "            best_model = model\n",
    "            best_result = f_one_score\n",
    "\n",
    "best_model.fit(features_train, target_train)       \n",
    "predicted_valid = best_model.predict(features_valid)\n",
    "\n",
    "probabilities_valid = best_model.predict_proba(features_valid)\n",
    "probabilities_one_valid = probabilities_valid[:, 1]\n",
    "\n",
    "roc_f1(target_valid, predicted_valid, probabilities_one_valid)\n",
    "print('Лучшая модель: max_depth  =', best_depth, '| n_estimators =', best_est)"
   ]
  },
  {
   "cell_type": "markdown",
   "metadata": {},
   "source": [
    "<a id='research_conclusions'></a>\n",
    "### Выводы [▴](#head)"
   ]
  },
  {
   "cell_type": "markdown",
   "metadata": {},
   "source": [
    "Самой слабой моделью на несбалансированных классах оказалась **`Логистическая регрессия`** на ней **`F1 score = 0.3`** При этом показатель **`AUC ROC = 0.78`**, что говорит нам о том, что сама по себе модель ведет себя адекватно, так как этот показатель ощутимо выше **`0.5`**\n",
    "\n",
    "**`Дерево решений`** и **`Случайный лес`** оказались намного устойчивее к дисбалансу. Даже на несбалансированных данных мы смогли получить метрику **`F1 score`** на уровне **`0.59`**\n",
    "\n",
    "Самый высокий показатель **`AUC ROC = 0.86`** мы получили на **`Случайном лесе`** возможно это лучшая модель для нашей задачи.\n",
    "\n",
    "Посмотрим, сможем ли мы улучшить эти показатели, если разберемся с дисбалансом."
   ]
  },
  {
   "cell_type": "markdown",
   "metadata": {},
   "source": [
    "<a id='imbalance'></a>\n",
    "## 4. Борьба с дисбалансом\n"
   ]
  },
  {
   "cell_type": "markdown",
   "metadata": {},
   "source": [
    "<a id='imbalance_01'></a>\n",
    "### 4.1 Вес классов (class_weight) [▴](#head)"
   ]
  },
  {
   "cell_type": "markdown",
   "metadata": {},
   "source": [
    "Для того, чтобы выровнить вес классов применим параметр **`class_weight='balanced'`** к нашим моделям."
   ]
  },
  {
   "cell_type": "markdown",
   "metadata": {},
   "source": [
    "### Логистическая регрессия (balanced)"
   ]
  },
  {
   "cell_type": "code",
   "execution_count": 26,
   "metadata": {},
   "outputs": [
    {
     "data": {
      "image/png": "[encoded data removed]",
      "text/plain": [
       "<Figure size 360x288 with 1 Axes>"
      ]
     },
     "metadata": {
      "needs_background": "light"
     },
     "output_type": "display_data"
    },
    {
     "name": "stdout",
     "output_type": "stream",
     "text": [
      "F1 score: 0.5285338015803336\n",
      "AUC ROC: 0.7937219799980294\n"
     ]
    }
   ],
   "source": [
    "model = LogisticRegression(solver='liblinear', class_weight='balanced', random_state=12345)\n",
    "model.fit(features_train, target_train)\n",
    "predicted_valid = model.predict(features_valid)\n",
    "\n",
    "probabilities_valid = model.predict_proba(features_valid)\n",
    "probabilities_one_valid = probabilities_valid[:, 1]\n",
    "\n",
    "roc_f1(target_valid, predicted_valid, probabilities_one_valid)"
   ]
  },
  {
   "cell_type": "markdown",
   "metadata": {},
   "source": [
    "### Дерево решений (balanced)"
   ]
  },
  {
   "cell_type": "code",
   "execution_count": 27,
   "metadata": {},
   "outputs": [
    {
     "data": {
      "image/png": "[encoded data removed]",
      "text/plain": [
       "<Figure size 360x288 with 1 Axes>"
      ]
     },
     "metadata": {
      "needs_background": "light"
     },
     "output_type": "display_data"
    },
    {
     "name": "stdout",
     "output_type": "stream",
     "text": [
      "F1 score: 0.575925925925926\n",
      "AUC ROC: 0.8234124051630702\n",
      "Лучшая модель: max_depth  = 6\n"
     ]
    }
   ],
   "source": [
    "best_model = None\n",
    "best_depth = 0\n",
    "best_result = 0\n",
    "\n",
    "for depth in range(1, 15):\n",
    "    model = DecisionTreeClassifier(random_state=12345, max_depth=depth, class_weight='balanced')\n",
    "    model.fit(features_train, target_train)       \n",
    "    predicted_valid = model.predict(features_valid)\n",
    "    f_one_score = f1_score(target_valid, predicted_valid)\n",
    "           \n",
    "    if f_one_score > best_result:\n",
    "        best_depth = depth\n",
    "        best_model = model\n",
    "        best_result = f_one_score\n",
    "\n",
    "\n",
    "best_model.fit(features_train, target_train)       \n",
    "predicted_valid = best_model.predict(features_valid)\n",
    "\n",
    "probabilities_valid = best_model.predict_proba(features_valid)\n",
    "probabilities_one_valid = probabilities_valid[:, 1]\n",
    "\n",
    "roc_f1(target_valid, predicted_valid, probabilities_one_valid)\n",
    "print('Лучшая модель: max_depth  =', best_depth)"
   ]
  },
  {
   "cell_type": "markdown",
   "metadata": {},
   "source": [
    "### Случаный лес (balanced)"
   ]
  },
  {
   "cell_type": "code",
   "execution_count": 28,
   "metadata": {},
   "outputs": [
    {
     "data": {
      "image/png": "[encoded data removed]",
      "text/plain": [
       "<Figure size 360x288 with 1 Axes>"
      ]
     },
     "metadata": {
      "needs_background": "light"
     },
     "output_type": "display_data"
    },
    {
     "name": "stdout",
     "output_type": "stream",
     "text": [
      "F1 score: 0.6434782608695652\n",
      "AUC ROC: 0.8691758424475318\n",
      "Лучшая модель: max_depth  = 8 | n_estimators = 40\n"
     ]
    }
   ],
   "source": [
    "best_model = None\n",
    "best_depth = 0\n",
    "best_result = 0\n",
    "best_est = 0\n",
    "\n",
    "for est in range(10, 51, 10):\n",
    "    \n",
    "    for depth in range(1, 10):\n",
    "        model = RandomForestClassifier(random_state=12345, n_estimators=est, max_depth=depth, class_weight='balanced')\n",
    "        model.fit(features_train, target_train)\n",
    "        predicted_valid = model.predict(features_valid)\n",
    "        \n",
    "        f_one_score = f1_score(target_valid, predicted_valid)\n",
    "        \n",
    "        if f_one_score > best_result:\n",
    "            best_est = est\n",
    "            best_depth = depth\n",
    "            best_model = model\n",
    "            best_result = f_one_score\n",
    "\n",
    "            \n",
    "best_model.fit(features_train, target_train)       \n",
    "predicted_valid = best_model.predict(features_valid)\n",
    "\n",
    "probabilities_valid = best_model.predict_proba(features_valid)\n",
    "probabilities_one_valid = probabilities_valid[:, 1]\n",
    "\n",
    "roc_f1(target_valid, predicted_valid, probabilities_one_valid)\n",
    "print('Лучшая модель: max_depth  =', best_depth, '| n_estimators =', best_est)"
   ]
  },
  {
   "cell_type": "markdown",
   "metadata": {},
   "source": [
    "<a id='imbalance_02'></a>\n",
    "### 4.2 Увеличение выборки (upsampled) [▴](#head)"
   ]
  },
  {
   "cell_type": "markdown",
   "metadata": {},
   "source": [
    "Увеличим положительный класс в 4 раза."
   ]
  },
  {
   "cell_type": "code",
   "execution_count": 29,
   "metadata": {},
   "outputs": [],
   "source": [
    "def upsample(features, target, repeat):\n",
    "    features_zeros = features[target == 0]\n",
    "    features_ones = features[target == 1]\n",
    "    target_zeros = target[target == 0]\n",
    "    target_ones = target[target == 1]\n",
    "\n",
    "    features_upsampled = pd.concat([features_zeros] + [features_ones] * repeat)\n",
    "    target_upsampled = pd.concat([target_zeros] + [target_ones] * repeat)\n",
    "    \n",
    "    features_upsampled, target_upsampled = shuffle(features_upsampled, target_upsampled, random_state=12345)\n",
    "    \n",
    "    return features_upsampled, target_upsampled\n",
    "\n",
    "features_upsampled, target_upsampled = upsample(features_train, target_train, 4)"
   ]
  },
  {
   "cell_type": "markdown",
   "metadata": {},
   "source": [
    "Сравним распределение классов."
   ]
  },
  {
   "cell_type": "code",
   "execution_count": 30,
   "metadata": {},
   "outputs": [
    {
     "name": "stdout",
     "output_type": "stream",
     "text": [
      "Размер исходной обучающей выборки: (6000, 11) (6000,)\n",
      "Размер увеличенной обучающей выборки: (9666, 11) (9666,)\n"
     ]
    },
    {
     "data": {
      "image/png": "[encoded data removed]",
      "text/plain": [
       "<Figure size 504x360 with 1 Axes>"
      ]
     },
     "metadata": {
      "needs_background": "light"
     },
     "output_type": "display_data"
    }
   ],
   "source": [
    "print('Размер исходной обучающей выборки:', features_train.shape, target_train.shape)\n",
    "print('Размер увеличенной обучающей выборки:', features_upsampled.shape, target_upsampled.shape)\n",
    "\n",
    "(\n",
    "    target_upsampled\n",
    "    .value_counts(normalize=df['Exited'].sum()/df.shape[0])\n",
    "    .plot.bar(figsize=(7, 5), grid=True)\n",
    ")\n",
    "\n",
    "plt.title('Распределение классов')\n",
    "plt.xlabel('Класс')\n",
    "plt.ylabel('Частота')\n",
    "plt.show()"
   ]
  },
  {
   "cell_type": "markdown",
   "metadata": {},
   "source": [
    "Все отлично, можем приступать к исследованию."
   ]
  },
  {
   "cell_type": "markdown",
   "metadata": {},
   "source": [
    "### Логистическая регрессия (upsampled)"
   ]
  },
  {
   "cell_type": "code",
   "execution_count": 31,
   "metadata": {},
   "outputs": [
    {
     "data": {
      "image/png": "[encoded data removed]",
      "text/plain": [
       "<Figure size 360x288 with 1 Axes>"
      ]
     },
     "metadata": {
      "needs_background": "light"
     },
     "output_type": "display_data"
    },
    {
     "name": "stdout",
     "output_type": "stream",
     "text": [
      "F1 score: 0.5246753246753246\n",
      "AUC ROC: 0.7938051162676125\n"
     ]
    }
   ],
   "source": [
    "model = LogisticRegression(solver='liblinear', random_state=12345)\n",
    "model.fit(features_upsampled, target_upsampled)\n",
    "\n",
    "predicted_valid = model.predict(features_valid)\n",
    "\n",
    "probabilities_valid = model.predict_proba(features_valid)\n",
    "probabilities_one_valid = probabilities_valid[:, 1]\n",
    "\n",
    "roc_f1(target_valid, predicted_valid, probabilities_one_valid)"
   ]
  },
  {
   "cell_type": "markdown",
   "metadata": {},
   "source": [
    "### Дерево решений (upsampled)"
   ]
  },
  {
   "cell_type": "code",
   "execution_count": 32,
   "metadata": {},
   "outputs": [
    {
     "data": {
      "image/png": "[encoded data removed]",
      "text/plain": [
       "<Figure size 360x288 with 1 Axes>"
      ]
     },
     "metadata": {
      "needs_background": "light"
     },
     "output_type": "display_data"
    },
    {
     "name": "stdout",
     "output_type": "stream",
     "text": [
      "F1 score: 0.575925925925926\n",
      "AUC ROC: 0.8234278007685487\n",
      "Лучшая модель: max_depth  = 6\n"
     ]
    }
   ],
   "source": [
    "best_model = None\n",
    "best_depth = 0\n",
    "best_result = 0\n",
    "\n",
    "for depth in range(1, 15):\n",
    "    model = DecisionTreeClassifier(random_state=12345, max_depth=depth)\n",
    "    model.fit(features_upsampled, target_upsampled)          \n",
    "    predicted_valid = model.predict(features_valid)\n",
    "    f_one_score = f1_score(target_valid, predicted_valid)\n",
    "  \n",
    "    if f_one_score > best_result:\n",
    "        best_depth = depth\n",
    "        best_model = model\n",
    "        best_result = f_one_score\n",
    "        \n",
    "best_model.fit(features_upsampled, target_upsampled)     \n",
    "predicted_valid = best_model.predict(features_valid)\n",
    "\n",
    "probabilities_valid = best_model.predict_proba(features_valid)\n",
    "probabilities_one_valid = probabilities_valid[:, 1]\n",
    "\n",
    "roc_f1(target_valid, predicted_valid, probabilities_one_valid)\n",
    "print('Лучшая модель: max_depth  =', best_depth)"
   ]
  },
  {
   "cell_type": "markdown",
   "metadata": {},
   "source": [
    "### Случаный лес (upsampled)"
   ]
  },
  {
   "cell_type": "code",
   "execution_count": 33,
   "metadata": {},
   "outputs": [
    {
     "data": {
      "image/png": "[encoded data removed]",
      "text/plain": [
       "<Figure size 360x288 with 1 Axes>"
      ]
     },
     "metadata": {
      "needs_background": "light"
     },
     "output_type": "display_data"
    },
    {
     "name": "stdout",
     "output_type": "stream",
     "text": [
      "F1 score: 0.6408602150537634\n",
      "AUC ROC: 0.8742271406049857\n",
      "Лучшая модель: max_depth  = 9 | n_estimators = 50\n"
     ]
    }
   ],
   "source": [
    "best_model = None\n",
    "best_depth = 0\n",
    "best_result = 0\n",
    "best_est = 0\n",
    "\n",
    "for est in range(10, 51, 10):\n",
    "    \n",
    "    for depth in range(1, 10):\n",
    "        model = RandomForestClassifier(random_state=12345, n_estimators=est, max_depth=depth)\n",
    "        model.fit(features_upsampled, target_upsampled)\n",
    "        predicted_valid = model.predict(features_valid)\n",
    "        \n",
    "        f_one_score = f1_score(target_valid, predicted_valid)\n",
    "\n",
    "        if f_one_score > best_result:\n",
    "            best_est = est\n",
    "            best_depth = depth\n",
    "            best_model = model\n",
    "            best_result = f_one_score\n",
    "\n",
    "best_model.fit(features_upsampled, target_upsampled)     \n",
    "predicted_valid = best_model.predict(features_valid)\n",
    "\n",
    "probabilities_valid = best_model.predict_proba(features_valid)\n",
    "probabilities_one_valid = probabilities_valid[:, 1]\n",
    "\n",
    "roc_f1(target_valid, predicted_valid, probabilities_one_valid)\n",
    "\n",
    "print('Лучшая модель: max_depth  =', best_depth, '| n_estimators =', best_est)"
   ]
  },
  {
   "cell_type": "markdown",
   "metadata": {},
   "source": [
    "<a id='imbalance_03'></a>\n",
    "### 4.3 Уменьшение выборки (downsampled) [▴](#head)"
   ]
  },
  {
   "cell_type": "markdown",
   "metadata": {},
   "source": [
    "Уменьшим отрицательный класс в 4 раза."
   ]
  },
  {
   "cell_type": "code",
   "execution_count": 34,
   "metadata": {},
   "outputs": [],
   "source": [
    "def downsample(features, target, fraction):\n",
    "    features_zeros = features[target == 0]\n",
    "    features_ones = features[target == 1]\n",
    "    target_zeros = target[target == 0]\n",
    "    target_ones = target[target == 1]\n",
    "\n",
    "    features_downsampled = pd.concat([features_zeros.sample(frac=fraction, random_state=12345)] + [features_ones])\n",
    "    target_downsampled = pd.concat([target_zeros.sample(frac=fraction, random_state=12345)] + [target_ones])\n",
    "    \n",
    "    features_downsampled, target_downsampled = shuffle(features_downsampled, target_downsampled, random_state=12345)\n",
    "    \n",
    "    return features_downsampled, target_downsampled\n",
    "\n",
    "features_downsampled, target_downsampled = downsample(features_train, target_train, 0.25)"
   ]
  },
  {
   "cell_type": "markdown",
   "metadata": {},
   "source": [
    "Сравним распределение классов."
   ]
  },
  {
   "cell_type": "code",
   "execution_count": 35,
   "metadata": {},
   "outputs": [
    {
     "name": "stdout",
     "output_type": "stream",
     "text": [
      "Размер исходной обучающей выборки: (6000, 11) (6000,)\n",
      "Размер уменьшенной обучающей выборки: (2416, 11) (2416,)\n"
     ]
    },
    {
     "data": {
      "image/png": "[encoded data removed]",
      "text/plain": [
       "<Figure size 504x360 with 1 Axes>"
      ]
     },
     "metadata": {
      "needs_background": "light"
     },
     "output_type": "display_data"
    }
   ],
   "source": [
    "print('Размер исходной обучающей выборки:', features_train.shape, target_train.shape)\n",
    "print('Размер уменьшенной обучающей выборки:', features_downsampled.shape, target_downsampled.shape)\n",
    "\n",
    "(\n",
    "    target_downsampled\n",
    "    .value_counts(normalize=df['Exited'].sum()/df.shape[0])\n",
    "    .plot.bar(figsize=(7, 5), grid=True)\n",
    ")\n",
    "\n",
    "plt.title('Распределение классов')\n",
    "plt.xlabel('Класс')\n",
    "plt.ylabel('Частота')\n",
    "plt.show()"
   ]
  },
  {
   "cell_type": "markdown",
   "metadata": {},
   "source": [
    "Все отлично, можем приступать к исследованию."
   ]
  },
  {
   "cell_type": "markdown",
   "metadata": {},
   "source": [
    "### Логистическая регрессия (downsampled)"
   ]
  },
  {
   "cell_type": "code",
   "execution_count": 36,
   "metadata": {},
   "outputs": [
    {
     "data": {
      "image/png": "[encoded data removed]",
      "text/plain": [
       "<Figure size 360x288 with 1 Axes>"
      ]
     },
     "metadata": {
      "needs_background": "light"
     },
     "output_type": "display_data"
    },
    {
     "name": "stdout",
     "output_type": "stream",
     "text": [
      "F1 score: 0.5271317829457364\n",
      "AUC ROC: 0.792599640358656\n"
     ]
    }
   ],
   "source": [
    "model = LogisticRegression(solver='liblinear', random_state=12345)\n",
    "model.fit(features_downsampled, target_downsampled)\n",
    "\n",
    "predicted_valid = model.predict(features_valid)\n",
    "\n",
    "probabilities_valid = model.predict_proba(features_valid)\n",
    "probabilities_one_valid = probabilities_valid[:, 1]\n",
    "\n",
    "roc_f1(target_valid, predicted_valid, probabilities_one_valid)"
   ]
  },
  {
   "cell_type": "markdown",
   "metadata": {},
   "source": [
    "### Дерево решений (downsampled)"
   ]
  },
  {
   "cell_type": "code",
   "execution_count": 37,
   "metadata": {},
   "outputs": [
    {
     "data": {
      "image/png": "[encoded data removed]",
      "text/plain": [
       "<Figure size 360x288 with 1 Axes>"
      ]
     },
     "metadata": {
      "needs_background": "light"
     },
     "output_type": "display_data"
    },
    {
     "name": "stdout",
     "output_type": "stream",
     "text": [
      "F1 score: 0.5939278937381405\n",
      "AUC ROC: 0.8472324859592077\n",
      "Лучшая модель: max_depth  = 6\n"
     ]
    }
   ],
   "source": [
    "best_model = None\n",
    "best_depth = 0\n",
    "best_result = 0\n",
    "\n",
    "for depth in range(1, 15):\n",
    "    model = DecisionTreeClassifier(random_state=12345, max_depth=depth)\n",
    "    model.fit(features_downsampled, target_downsampled)        \n",
    "    predicted_valid = model.predict(features_valid)\n",
    "    f_one_score = f1_score(target_valid, predicted_valid)\n",
    "    \n",
    "    if f_one_score > best_result:\n",
    "        best_depth = depth\n",
    "        best_model = model\n",
    "        best_result = f_one_score\n",
    "        \n",
    "best_model.fit(features_downsampled, target_downsampled)    \n",
    "predicted_valid = best_model.predict(features_valid)\n",
    "\n",
    "probabilities_valid = best_model.predict_proba(features_valid)\n",
    "probabilities_one_valid = probabilities_valid[:, 1]\n",
    "\n",
    "roc_f1(target_valid, predicted_valid, probabilities_one_valid)\n",
    "print('Лучшая модель: max_depth  =', best_depth)"
   ]
  },
  {
   "cell_type": "markdown",
   "metadata": {},
   "source": [
    "### Случаный лес (downsampled)"
   ]
  },
  {
   "cell_type": "code",
   "execution_count": 38,
   "metadata": {},
   "outputs": [
    {
     "data": {
      "image/png": "[encoded data removed]",
      "text/plain": [
       "<Figure size 360x288 with 1 Axes>"
      ]
     },
     "metadata": {
      "needs_background": "light"
     },
     "output_type": "display_data"
    },
    {
     "name": "stdout",
     "output_type": "stream",
     "text": [
      "F1 score: 0.6310772163965682\n",
      "AUC ROC: 0.8660913328899399\n",
      "Лучшая модель: max_depth  = 6 | n_estimators = 30\n"
     ]
    }
   ],
   "source": [
    "best_model = None\n",
    "best_depth = 0\n",
    "best_result = 0\n",
    "best_est = 0\n",
    "\n",
    "for est in range(10, 51, 10):\n",
    "    \n",
    "    for depth in range(1, 10):\n",
    "        model = RandomForestClassifier(random_state=12345, n_estimators=est, max_depth=depth)\n",
    "        model.fit(features_downsampled, target_downsampled)\n",
    "        predicted_valid = model.predict(features_valid)\n",
    "        \n",
    "        f_one_score = f1_score(target_valid, predicted_valid)\n",
    "\n",
    "        if f_one_score > best_result:\n",
    "            best_est = est\n",
    "            best_depth = depth\n",
    "            best_model = model\n",
    "            best_result = f_one_score\n",
    "\n",
    "best_model.fit(features_downsampled, target_downsampled)   \n",
    "predicted_valid = best_model.predict(features_valid)\n",
    "\n",
    "probabilities_valid = best_model.predict_proba(features_valid)\n",
    "probabilities_one_valid = probabilities_valid[:, 1]\n",
    "\n",
    "roc_f1(target_valid, predicted_valid, probabilities_one_valid)\n",
    "print('Лучшая модель: max_depth  =', best_depth, '| n_estimators =', best_est)"
   ]
  },
  {
   "cell_type": "markdown",
   "metadata": {},
   "source": [
    "Для удобства сравнения, все результаты запишем в таблицы.\n",
    "\n",
    "Чтобы не растягивать проект еще на 10 листов, исследования моделей на **`немасштабированных данных`** я провел отдельно и вписал результаты в таблицу.\n",
    "\n",
    "При необходимости проверить результаты, можно закомментировать [**вот этот блок**](#scaler) и перезапустить выполнение тетрадки."
   ]
  },
  {
   "cell_type": "markdown",
   "metadata": {},
   "source": [
    "### Результаты исследований без масштабирования признаков (F1 score)"
   ]
  },
  {
   "cell_type": "markdown",
   "metadata": {},
   "source": [
    "Метод балансировки класса|Логистическая регрессия|Дерево Решений|Случайный Лес\n",
    "-|-|-|-\n",
    "С дисбалансом классов|0.062|0.592|0.602\n",
    "Вес классов|0.502|0.575|0.644\n",
    "Увеличение выборки|0.475|0.575|0.640\n",
    "Уменьшение выборки|0.475|0.593|0.630"
   ]
  },
  {
   "cell_type": "markdown",
   "metadata": {},
   "source": [
    "### Результаты исследований с масштабированием признаков (F1 score)"
   ]
  },
  {
   "cell_type": "markdown",
   "metadata": {},
   "source": [
    "Метод балансировки класса|Логистическая регрессия|Дерево Решений|Случайный Лес\n",
    "-|-|-|-\n",
    "С дисбалансом классов|0.307|0.592|0.602\n",
    "Вес классов|0.528|0.575|0.643\n",
    "Увеличение выборки|0.524|0.575|0.640\n",
    "Уменьшение выборки|0.527|0.593|0.631"
   ]
  },
  {
   "cell_type": "markdown",
   "metadata": {},
   "source": [
    "<a id='imbalance_conclusions'></a>\n",
    "### Выводы [▴](#head)"
   ]
  },
  {
   "cell_type": "markdown",
   "metadata": {},
   "source": [
    "**`AUC ROC`** во всех экспериментах оказалась выше **`0.8`** или очень близко к этому значению. Это означает, что модели ведут себя адекватно.\n",
    "\n",
    "Хуже всего с дисбалансом классов справляется **`Логистическая регрессия`**, а на немасштабированных данных вообще показывает ужасный результат **`F1 = 0.06`**\n",
    "\n",
    "**`Дерево решений`** весьма странно повело себя при балансировке классов и умудрилось даже немного ухудшить результат.\n",
    "\n",
    "А вот **`Случайный лес`** наоборот ощутимо улучшил свои показатели на сбалансированных входных данных и показал лучший результат со следующими гиперпараметрами:\n",
    "- `n_estimators=40`\n",
    "- `max_depth=8`\n",
    "- `class_weight='balanced'`\n",
    "\n",
    "Используем эти параметры, чтобы провести финальное тестирование."
   ]
  },
  {
   "cell_type": "markdown",
   "metadata": {},
   "source": [
    "<a id='test'></a>\n",
    "## 5. Тестирование модели\n"
   ]
  },
  {
   "cell_type": "markdown",
   "metadata": {},
   "source": [
    "Лучший результат на валидационной выборке показала следующая комбинация:\n",
    "- Модель: **`Случайный лес`**\n",
    "- Балансировка классов методом: **`class_weight='balanced'`**\n",
    "- Гиперпараметры: **`n_estimators=40`**, **`max_depth=8`**\n",
    "\n",
    "Результаты на валидационной выборке:\n",
    "- **`F1 score: 0.643`**\n",
    "- **`AUC ROC: 0.869`**\n",
    "\n",
    "Сравним эти результаты на тестовой выборке:"
   ]
  },
  {
   "cell_type": "markdown",
   "metadata": {},
   "source": [
    "Для того, чтобы получить более объективные результаты объединим выборки **`train`** и **`valid`**"
   ]
  },
  {
   "cell_type": "code",
   "execution_count": 39,
   "metadata": {},
   "outputs": [],
   "source": [
    "features_train_valid = pd.concat([features_train] + [features_valid]) # features\n",
    "target_train_valid = pd.concat([target_train] + [target_valid]) # target\n",
    "\n",
    "features_train_valid, target_train_valid = shuffle(features_train_valid, target_train_valid, random_state=12345)"
   ]
  },
  {
   "cell_type": "code",
   "execution_count": 40,
   "metadata": {},
   "outputs": [
    {
     "name": "stdout",
     "output_type": "stream",
     "text": [
      "(8000, 11)\n",
      "(8000,)\n"
     ]
    }
   ],
   "source": [
    "print(features_train_valid.shape)\n",
    "print(target_train_valid.shape)"
   ]
  },
  {
   "cell_type": "markdown",
   "metadata": {},
   "source": [
    "Теперь прогоним обновленные данные на тестовой выборке:"
   ]
  },
  {
   "cell_type": "code",
   "execution_count": 41,
   "metadata": {},
   "outputs": [
    {
     "data": {
      "image/png": "[encoded data removed]",
      "text/plain": [
       "<Figure size 576x504 with 1 Axes>"
      ]
     },
     "metadata": {
      "needs_background": "light"
     },
     "output_type": "display_data"
    },
    {
     "name": "stdout",
     "output_type": "stream",
     "text": [
      "F1 score: 0.6256742179072277\n",
      "AUC ROC: 0.8579288070813494\n"
     ]
    }
   ],
   "source": [
    "model = RandomForestClassifier(random_state=12345, n_estimators=40, max_depth=8, class_weight='balanced')\n",
    "model.fit(features_train_valid, target_train_valid)\n",
    "predicted_test = model.predict(features_test)\n",
    "\n",
    "probabilities_test = model.predict_proba(features_test)\n",
    "probabilities_one_test = probabilities_test[:, 1]\n",
    "\n",
    "roc_f1(target_test, predicted_test, probabilities_one_test, x_fig_size=8, y_fig_size=7)"
   ]
  },
  {
   "cell_type": "markdown",
   "metadata": {},
   "source": [
    "<a id='test_conclusions'></a>\n",
    "### Выводы [▴](#head)"
   ]
  },
  {
   "cell_type": "markdown",
   "metadata": {},
   "source": [
    "На тестовой выборке результаты оказались чуть хуже, возможно модель немного переобучилась. Однако потеря качества в **`2`** процентных пункта вполне приемлема, так как мы преодолели в целевой порог в **`0.59`**\n",
    "\n",
    "Метрика|Валидационная выборка|Тестовая выборка\n",
    "-|-|-\n",
    "F1 score|0.643|0.625\n",
    "AUC ROC|0.869|0.857\n",
    "\n"
   ]
  },
  {
   "cell_type": "markdown",
   "metadata": {},
   "source": [
    "<a id='final_conclusion'></a>\n",
    "## 6. Общие выводы"
   ]
  },
  {
   "cell_type": "markdown",
   "metadata": {},
   "source": [
    "Мы рассмотрели как ведут себя модели относительно `масшитабирования признаков`, а так же `баланса классов`.\n",
    "\n",
    "**`Логистическая регрессия`** оказалась самой слабой моделью. Она крайне подвержена `дисбалансу классов`, а на `немасштабированных признаках` показывает совсем плачевный результат. Как следствие работа с неподготовленными данными на этой модели в принципе невозможна.\n",
    "\n",
    "**`Дерево решений`** оказалось достаточно устойчиво к работе на `немасштабированных признаках`, а также устойчиво к `дисбалансу классов` в пропорции `1/4`, возможно если дисбаланс будет более выразительным, модель ухудшит свои показатели.\n",
    "\n",
    "**`Случайный лес`** показал лучший результат. Помимо устойчивости к работе на `немасштабированных признаках` и `дисбалансе классов` в пропорциях `1/4` результат получилось еще немного улучшить благодаря `балансировке классов`.\n",
    "\n"
   ]
  }
 ],
 "metadata": {
  "ExecuteTimeLog": [
   {
    "duration": 761,
    "start_time": "2022-05-30T21:40:25.321Z"
   },
   {
    "duration": 5,
    "start_time": "2022-05-30T21:40:26.084Z"
   },
   {
    "duration": 3,
    "start_time": "2022-05-30T21:40:26.091Z"
   },
   {
    "duration": 37,
    "start_time": "2022-05-30T21:40:26.096Z"
   },
   {
    "duration": 21,
    "start_time": "2022-05-30T21:40:26.151Z"
   },
   {
    "duration": 98,
    "start_time": "2022-05-30T21:40:26.174Z"
   },
   {
    "duration": 12,
    "start_time": "2022-05-30T21:40:26.275Z"
   },
   {
    "duration": 8,
    "start_time": "2022-05-30T21:40:26.289Z"
   },
   {
    "duration": 11,
    "start_time": "2022-05-30T21:40:26.298Z"
   },
   {
    "duration": 8,
    "start_time": "2022-05-30T21:40:26.312Z"
   },
   {
    "duration": 6,
    "start_time": "2022-05-30T21:40:26.321Z"
   },
   {
    "duration": 28,
    "start_time": "2022-05-30T21:40:26.329Z"
   },
   {
    "duration": 14,
    "start_time": "2022-05-30T21:40:26.358Z"
   },
   {
    "duration": 8,
    "start_time": "2022-05-30T21:40:26.374Z"
   },
   {
    "duration": 12,
    "start_time": "2022-05-30T21:40:26.383Z"
   },
   {
    "duration": 6,
    "start_time": "2022-05-30T21:40:26.397Z"
   },
   {
    "duration": 4,
    "start_time": "2022-05-30T21:40:26.405Z"
   },
   {
    "duration": 7,
    "start_time": "2022-05-30T21:40:26.410Z"
   },
   {
    "duration": 36,
    "start_time": "2022-05-30T21:40:26.418Z"
   },
   {
    "duration": 14,
    "start_time": "2022-05-30T21:40:26.456Z"
   },
   {
    "duration": 14,
    "start_time": "2022-05-30T21:40:26.472Z"
   },
   {
    "duration": 8,
    "start_time": "2022-05-30T21:40:26.488Z"
   },
   {
    "duration": 9,
    "start_time": "2022-05-30T21:40:26.497Z"
   },
   {
    "duration": 12,
    "start_time": "2022-05-30T21:40:26.508Z"
   },
   {
    "duration": 43,
    "start_time": "2022-05-30T21:40:26.521Z"
   },
   {
    "duration": 6,
    "start_time": "2022-05-30T21:40:26.565Z"
   },
   {
    "duration": 12,
    "start_time": "2022-05-30T21:40:26.572Z"
   },
   {
    "duration": 328,
    "start_time": "2022-05-30T21:40:26.587Z"
   },
   {
    "duration": 494,
    "start_time": "2022-05-30T21:40:26.916Z"
   },
   {
    "duration": 10,
    "start_time": "2022-05-30T21:40:27.413Z"
   },
   {
    "duration": 546,
    "start_time": "2022-05-30T21:40:27.424Z"
   },
   {
    "duration": 331,
    "start_time": "2022-05-30T21:40:27.972Z"
   },
   {
    "duration": 122,
    "start_time": "2022-05-30T21:40:28.305Z"
   },
   {
    "duration": 13,
    "start_time": "2022-05-30T21:40:28.428Z"
   },
   {
    "duration": 212,
    "start_time": "2022-05-30T21:40:28.451Z"
   },
   {
    "duration": 3,
    "start_time": "2022-05-30T21:40:28.665Z"
   },
   {
    "duration": 735,
    "start_time": "2022-05-30T21:40:28.669Z"
   },
   {
    "duration": 175,
    "start_time": "2022-05-30T21:40:29.406Z"
   },
   {
    "duration": 50,
    "start_time": "2022-05-30T21:40:29.583Z"
   },
   {
    "duration": 74,
    "start_time": "2022-05-30T21:40:29.635Z"
   },
   {
    "duration": 21,
    "start_time": "2022-05-30T21:40:29.711Z"
   },
   {
    "duration": 10,
    "start_time": "2022-05-30T21:40:29.752Z"
   },
   {
    "duration": 32,
    "start_time": "2022-05-30T21:40:29.763Z"
   },
   {
    "duration": 2225,
    "start_time": "2022-05-30T21:40:29.797Z"
   },
   {
    "duration": 422,
    "start_time": "2022-05-30T21:40:32.023Z"
   },
   {
    "duration": 423,
    "start_time": "2022-05-30T21:40:32.452Z"
   },
   {
    "duration": 6,
    "start_time": "2022-05-30T21:40:32.876Z"
   },
   {
    "duration": 404,
    "start_time": "2022-05-30T21:40:32.884Z"
   },
   {
    "duration": 165,
    "start_time": "2022-05-30T21:40:33.289Z"
   },
   {
    "duration": 156,
    "start_time": "2022-05-30T21:40:33.456Z"
   },
   {
    "duration": 162,
    "start_time": "2022-05-30T21:40:33.614Z"
   },
   {
    "duration": 159,
    "start_time": "2022-05-30T21:40:33.778Z"
   },
   {
    "duration": 3,
    "start_time": "2022-05-30T21:40:33.939Z"
   },
   {
    "duration": 55,
    "start_time": "2022-05-30T21:40:33.951Z"
   },
   {
    "duration": 24,
    "start_time": "2022-05-30T21:40:34.007Z"
   },
   {
    "duration": 207,
    "start_time": "2022-05-30T21:40:34.032Z"
   },
   {
    "duration": 19,
    "start_time": "2022-05-30T21:40:34.240Z"
   },
   {
    "duration": 12,
    "start_time": "2022-05-30T21:40:34.261Z"
   },
   {
    "duration": 8,
    "start_time": "2022-05-30T21:40:34.274Z"
   },
   {
    "duration": 14,
    "start_time": "2022-05-30T21:40:34.284Z"
   },
   {
    "duration": 201,
    "start_time": "2022-05-30T21:40:34.299Z"
   },
   {
    "duration": 7,
    "start_time": "2022-05-30T21:40:34.501Z"
   },
   {
    "duration": 412,
    "start_time": "2022-05-30T21:40:34.510Z"
   },
   {
    "duration": 165,
    "start_time": "2022-05-30T21:40:34.924Z"
   },
   {
    "duration": 205,
    "start_time": "2022-05-30T21:40:35.090Z"
   },
   {
    "duration": 16,
    "start_time": "2022-05-30T21:40:35.298Z"
   },
   {
    "duration": 40,
    "start_time": "2022-05-30T21:40:35.315Z"
   },
   {
    "duration": 40,
    "start_time": "2022-05-31T16:59:43.091Z"
   },
   {
    "duration": 3,
    "start_time": "2022-05-31T18:33:19.102Z"
   },
   {
    "duration": 4,
    "start_time": "2022-05-31T18:33:23.245Z"
   },
   {
    "duration": 3,
    "start_time": "2022-05-31T18:33:45.515Z"
   },
   {
    "duration": 6,
    "start_time": "2022-05-31T19:06:00.876Z"
   },
   {
    "duration": 3,
    "start_time": "2022-05-31T19:06:05.011Z"
   },
   {
    "duration": 65,
    "start_time": "2022-05-31T19:07:05.945Z"
   },
   {
    "duration": 1757,
    "start_time": "2022-05-31T19:10:51.079Z"
   },
   {
    "duration": 5,
    "start_time": "2022-05-31T19:10:52.838Z"
   },
   {
    "duration": 5,
    "start_time": "2022-05-31T19:10:52.844Z"
   },
   {
    "duration": 68,
    "start_time": "2022-05-31T19:10:52.850Z"
   },
   {
    "duration": 19,
    "start_time": "2022-05-31T19:10:52.920Z"
   },
   {
    "duration": 89,
    "start_time": "2022-05-31T19:10:52.940Z"
   },
   {
    "duration": 14,
    "start_time": "2022-05-31T19:10:53.031Z"
   },
   {
    "duration": 15,
    "start_time": "2022-05-31T19:10:53.046Z"
   },
   {
    "duration": 47,
    "start_time": "2022-05-31T19:10:53.064Z"
   },
   {
    "duration": 10,
    "start_time": "2022-05-31T19:10:53.113Z"
   },
   {
    "duration": 5,
    "start_time": "2022-05-31T19:10:53.125Z"
   },
   {
    "duration": 20,
    "start_time": "2022-05-31T19:10:53.131Z"
   },
   {
    "duration": 33,
    "start_time": "2022-05-31T19:10:53.153Z"
   },
   {
    "duration": 6,
    "start_time": "2022-05-31T19:10:53.196Z"
   },
   {
    "duration": 8,
    "start_time": "2022-05-31T19:10:53.204Z"
   },
   {
    "duration": 10,
    "start_time": "2022-05-31T19:10:53.214Z"
   },
   {
    "duration": 5,
    "start_time": "2022-05-31T19:10:53.225Z"
   },
   {
    "duration": 5,
    "start_time": "2022-05-31T19:10:53.231Z"
   },
   {
    "duration": 6,
    "start_time": "2022-05-31T19:10:53.238Z"
   },
   {
    "duration": 27,
    "start_time": "2022-05-31T19:10:53.254Z"
   },
   {
    "duration": 25,
    "start_time": "2022-05-31T19:10:53.282Z"
   },
   {
    "duration": 12,
    "start_time": "2022-05-31T19:10:53.309Z"
   },
   {
    "duration": 14,
    "start_time": "2022-05-31T19:10:53.322Z"
   },
   {
    "duration": 36,
    "start_time": "2022-05-31T19:10:53.337Z"
   },
   {
    "duration": 26,
    "start_time": "2022-05-31T19:10:53.378Z"
   },
   {
    "duration": 6,
    "start_time": "2022-05-31T19:10:53.407Z"
   },
   {
    "duration": 14,
    "start_time": "2022-05-31T19:10:53.414Z"
   },
   {
    "duration": 367,
    "start_time": "2022-05-31T19:10:53.429Z"
   },
   {
    "duration": 513,
    "start_time": "2022-05-31T19:10:53.798Z"
   },
   {
    "duration": 8,
    "start_time": "2022-05-31T19:10:54.313Z"
   },
   {
    "duration": 657,
    "start_time": "2022-05-31T19:10:54.323Z"
   },
   {
    "duration": 267,
    "start_time": "2022-05-31T19:10:54.985Z"
   },
   {
    "duration": 128,
    "start_time": "2022-05-31T19:10:55.261Z"
   },
   {
    "duration": 12,
    "start_time": "2022-05-31T19:10:55.391Z"
   },
   {
    "duration": 285,
    "start_time": "2022-05-31T19:10:55.404Z"
   },
   {
    "duration": 3,
    "start_time": "2022-05-31T19:10:55.690Z"
   },
   {
    "duration": 7,
    "start_time": "2022-05-31T19:10:55.694Z"
   },
   {
    "duration": 8,
    "start_time": "2022-05-31T19:10:55.703Z"
   },
   {
    "duration": 10,
    "start_time": "2022-05-31T19:10:55.713Z"
   },
   {
    "duration": 10,
    "start_time": "2022-05-31T19:10:55.724Z"
   },
   {
    "duration": 8,
    "start_time": "2022-05-31T19:10:55.738Z"
   },
   {
    "duration": 40,
    "start_time": "2022-05-31T19:10:55.747Z"
   },
   {
    "duration": 7,
    "start_time": "2022-05-31T19:10:55.788Z"
   },
   {
    "duration": 9,
    "start_time": "2022-05-31T19:10:55.796Z"
   },
   {
    "duration": 7,
    "start_time": "2022-05-31T19:10:55.806Z"
   },
   {
    "duration": 880,
    "start_time": "2022-05-31T19:10:55.814Z"
   },
   {
    "duration": 187,
    "start_time": "2022-05-31T19:10:56.695Z"
   },
   {
    "duration": 48,
    "start_time": "2022-05-31T19:10:56.886Z"
   },
   {
    "duration": 84,
    "start_time": "2022-05-31T19:10:56.937Z"
   },
   {
    "duration": 19,
    "start_time": "2022-05-31T19:10:57.023Z"
   },
   {
    "duration": 20,
    "start_time": "2022-05-31T19:10:57.044Z"
   },
   {
    "duration": 53,
    "start_time": "2022-05-31T19:10:57.066Z"
   },
   {
    "duration": 2378,
    "start_time": "2022-05-31T19:10:57.120Z"
   },
   {
    "duration": 497,
    "start_time": "2022-05-31T19:10:59.499Z"
   },
   {
    "duration": 445,
    "start_time": "2022-05-31T19:10:59.998Z"
   },
   {
    "duration": 5,
    "start_time": "2022-05-31T19:11:00.445Z"
   },
   {
    "duration": 461,
    "start_time": "2022-05-31T19:11:00.457Z"
   },
   {
    "duration": 197,
    "start_time": "2022-05-31T19:11:00.920Z"
   },
   {
    "duration": 171,
    "start_time": "2022-05-31T19:11:01.119Z"
   },
   {
    "duration": 225,
    "start_time": "2022-05-31T19:11:01.292Z"
   },
   {
    "duration": 225,
    "start_time": "2022-05-31T19:11:01.519Z"
   },
   {
    "duration": 3,
    "start_time": "2022-05-31T19:11:01.746Z"
   },
   {
    "duration": 123,
    "start_time": "2022-05-31T19:11:01.751Z"
   },
   {
    "duration": 29,
    "start_time": "2022-05-31T19:11:01.878Z"
   },
   {
    "duration": 224,
    "start_time": "2022-05-31T19:11:01.909Z"
   },
   {
    "duration": 21,
    "start_time": "2022-05-31T19:11:02.135Z"
   },
   {
    "duration": 40,
    "start_time": "2022-05-31T19:11:02.159Z"
   },
   {
    "duration": 15,
    "start_time": "2022-05-31T19:11:02.203Z"
   },
   {
    "duration": 25,
    "start_time": "2022-05-31T19:11:02.220Z"
   },
   {
    "duration": 272,
    "start_time": "2022-05-31T19:11:02.247Z"
   },
   {
    "duration": 9,
    "start_time": "2022-05-31T19:11:02.521Z"
   },
   {
    "duration": 593,
    "start_time": "2022-05-31T19:11:02.532Z"
   },
   {
    "duration": 211,
    "start_time": "2022-05-31T19:11:03.127Z"
   },
   {
    "duration": 212,
    "start_time": "2022-05-31T19:11:03.340Z"
   },
   {
    "duration": 37,
    "start_time": "2022-05-31T19:11:03.554Z"
   },
   {
    "duration": 38,
    "start_time": "2022-05-31T19:11:03.592Z"
   },
   {
    "duration": 28,
    "start_time": "2022-05-31T19:18:36.451Z"
   },
   {
    "duration": 36,
    "start_time": "2022-05-31T19:18:51.026Z"
   },
   {
    "duration": 6,
    "start_time": "2022-05-31T19:26:21.317Z"
   },
   {
    "duration": 24,
    "start_time": "2022-05-31T19:27:39.775Z"
   },
   {
    "duration": 39,
    "start_time": "2022-05-31T19:28:34.886Z"
   },
   {
    "duration": 49,
    "start_time": "2022-05-31T19:31:48.320Z"
   },
   {
    "duration": 77,
    "start_time": "2022-05-31T19:33:46.041Z"
   },
   {
    "duration": 96,
    "start_time": "2022-05-31T19:35:01.318Z"
   },
   {
    "duration": 81,
    "start_time": "2022-05-31T19:35:23.540Z"
   },
   {
    "duration": 49,
    "start_time": "2022-05-31T19:35:27.961Z"
   },
   {
    "duration": 46,
    "start_time": "2022-05-31T19:36:32.442Z"
   },
   {
    "duration": 791,
    "start_time": "2022-05-31T19:36:55.730Z"
   },
   {
    "duration": 7,
    "start_time": "2022-05-31T19:36:56.522Z"
   },
   {
    "duration": 3,
    "start_time": "2022-05-31T19:36:56.530Z"
   },
   {
    "duration": 52,
    "start_time": "2022-05-31T19:36:56.535Z"
   },
   {
    "duration": 13,
    "start_time": "2022-05-31T19:36:56.589Z"
   },
   {
    "duration": 95,
    "start_time": "2022-05-31T19:36:56.603Z"
   },
   {
    "duration": 11,
    "start_time": "2022-05-31T19:36:56.700Z"
   },
   {
    "duration": 4,
    "start_time": "2022-05-31T19:36:56.713Z"
   },
   {
    "duration": 6,
    "start_time": "2022-05-31T19:36:56.718Z"
   },
   {
    "duration": 5,
    "start_time": "2022-05-31T19:36:56.726Z"
   },
   {
    "duration": 15,
    "start_time": "2022-05-31T19:36:56.754Z"
   },
   {
    "duration": 13,
    "start_time": "2022-05-31T19:36:56.771Z"
   },
   {
    "duration": 8,
    "start_time": "2022-05-31T19:36:56.786Z"
   },
   {
    "duration": 10,
    "start_time": "2022-05-31T19:36:56.796Z"
   },
   {
    "duration": 8,
    "start_time": "2022-05-31T19:36:56.807Z"
   },
   {
    "duration": 5,
    "start_time": "2022-05-31T19:36:56.816Z"
   },
   {
    "duration": 4,
    "start_time": "2022-05-31T19:36:56.823Z"
   },
   {
    "duration": 17,
    "start_time": "2022-05-31T19:36:56.854Z"
   },
   {
    "duration": 5,
    "start_time": "2022-05-31T19:36:56.872Z"
   },
   {
    "duration": 13,
    "start_time": "2022-05-31T19:36:56.879Z"
   },
   {
    "duration": 12,
    "start_time": "2022-05-31T19:36:56.893Z"
   },
   {
    "duration": 8,
    "start_time": "2022-05-31T19:36:56.906Z"
   },
   {
    "duration": 9,
    "start_time": "2022-05-31T19:36:56.915Z"
   },
   {
    "duration": 35,
    "start_time": "2022-05-31T19:36:56.925Z"
   },
   {
    "duration": 21,
    "start_time": "2022-05-31T19:36:56.964Z"
   },
   {
    "duration": 5,
    "start_time": "2022-05-31T19:36:56.986Z"
   },
   {
    "duration": 14,
    "start_time": "2022-05-31T19:36:56.992Z"
   },
   {
    "duration": 332,
    "start_time": "2022-05-31T19:36:57.010Z"
   },
   {
    "duration": 475,
    "start_time": "2022-05-31T19:36:57.344Z"
   },
   {
    "duration": 10,
    "start_time": "2022-05-31T19:36:57.820Z"
   },
   {
    "duration": 598,
    "start_time": "2022-05-31T19:36:57.831Z"
   },
   {
    "duration": 260,
    "start_time": "2022-05-31T19:36:58.431Z"
   },
   {
    "duration": 117,
    "start_time": "2022-05-31T19:36:58.693Z"
   },
   {
    "duration": 12,
    "start_time": "2022-05-31T19:36:58.812Z"
   },
   {
    "duration": 230,
    "start_time": "2022-05-31T19:36:58.825Z"
   },
   {
    "duration": 5,
    "start_time": "2022-05-31T19:36:59.065Z"
   },
   {
    "duration": 7,
    "start_time": "2022-05-31T19:36:59.072Z"
   },
   {
    "duration": 6,
    "start_time": "2022-05-31T19:36:59.081Z"
   },
   {
    "duration": 9,
    "start_time": "2022-05-31T19:36:59.089Z"
   },
   {
    "duration": 8,
    "start_time": "2022-05-31T19:36:59.100Z"
   },
   {
    "duration": 5,
    "start_time": "2022-05-31T19:36:59.110Z"
   },
   {
    "duration": 12,
    "start_time": "2022-05-31T19:36:59.116Z"
   },
   {
    "duration": 8,
    "start_time": "2022-05-31T19:36:59.130Z"
   },
   {
    "duration": 12,
    "start_time": "2022-05-31T19:36:59.139Z"
   },
   {
    "duration": 26,
    "start_time": "2022-05-31T19:36:59.153Z"
   },
   {
    "duration": 808,
    "start_time": "2022-05-31T19:36:59.182Z"
   },
   {
    "duration": 92,
    "start_time": "2022-05-31T19:36:59.992Z"
   },
   {
    "duration": 0,
    "start_time": "2022-05-31T19:37:00.086Z"
   },
   {
    "duration": 0,
    "start_time": "2022-05-31T19:37:00.087Z"
   },
   {
    "duration": 0,
    "start_time": "2022-05-31T19:37:00.089Z"
   },
   {
    "duration": 0,
    "start_time": "2022-05-31T19:37:00.090Z"
   },
   {
    "duration": 0,
    "start_time": "2022-05-31T19:37:00.092Z"
   },
   {
    "duration": 0,
    "start_time": "2022-05-31T19:37:00.093Z"
   },
   {
    "duration": 0,
    "start_time": "2022-05-31T19:37:00.094Z"
   },
   {
    "duration": 0,
    "start_time": "2022-05-31T19:37:00.096Z"
   },
   {
    "duration": 0,
    "start_time": "2022-05-31T19:37:00.097Z"
   },
   {
    "duration": 0,
    "start_time": "2022-05-31T19:37:00.099Z"
   },
   {
    "duration": 0,
    "start_time": "2022-05-31T19:37:00.100Z"
   },
   {
    "duration": 1,
    "start_time": "2022-05-31T19:37:00.101Z"
   },
   {
    "duration": 0,
    "start_time": "2022-05-31T19:37:00.103Z"
   },
   {
    "duration": 0,
    "start_time": "2022-05-31T19:37:00.104Z"
   },
   {
    "duration": 0,
    "start_time": "2022-05-31T19:37:00.105Z"
   },
   {
    "duration": 0,
    "start_time": "2022-05-31T19:37:00.107Z"
   },
   {
    "duration": 0,
    "start_time": "2022-05-31T19:37:00.108Z"
   },
   {
    "duration": 0,
    "start_time": "2022-05-31T19:37:00.109Z"
   },
   {
    "duration": 0,
    "start_time": "2022-05-31T19:37:00.110Z"
   },
   {
    "duration": 0,
    "start_time": "2022-05-31T19:37:00.111Z"
   },
   {
    "duration": 0,
    "start_time": "2022-05-31T19:37:00.156Z"
   },
   {
    "duration": 0,
    "start_time": "2022-05-31T19:37:00.159Z"
   },
   {
    "duration": 0,
    "start_time": "2022-05-31T19:37:00.159Z"
   },
   {
    "duration": 0,
    "start_time": "2022-05-31T19:37:00.160Z"
   },
   {
    "duration": 0,
    "start_time": "2022-05-31T19:37:00.161Z"
   },
   {
    "duration": 0,
    "start_time": "2022-05-31T19:37:00.163Z"
   },
   {
    "duration": 0,
    "start_time": "2022-05-31T19:37:00.166Z"
   },
   {
    "duration": 0,
    "start_time": "2022-05-31T19:37:00.166Z"
   },
   {
    "duration": 0,
    "start_time": "2022-05-31T19:37:00.167Z"
   },
   {
    "duration": 0,
    "start_time": "2022-05-31T19:37:00.168Z"
   },
   {
    "duration": 0,
    "start_time": "2022-05-31T19:37:00.168Z"
   },
   {
    "duration": 788,
    "start_time": "2022-05-31T19:38:26.346Z"
   },
   {
    "duration": 4,
    "start_time": "2022-05-31T19:38:27.136Z"
   },
   {
    "duration": 6,
    "start_time": "2022-05-31T19:38:27.142Z"
   },
   {
    "duration": 45,
    "start_time": "2022-05-31T19:38:27.149Z"
   },
   {
    "duration": 15,
    "start_time": "2022-05-31T19:38:27.196Z"
   },
   {
    "duration": 88,
    "start_time": "2022-05-31T19:38:27.213Z"
   },
   {
    "duration": 12,
    "start_time": "2022-05-31T19:38:27.303Z"
   },
   {
    "duration": 4,
    "start_time": "2022-05-31T19:38:27.316Z"
   },
   {
    "duration": 6,
    "start_time": "2022-05-31T19:38:27.321Z"
   },
   {
    "duration": 27,
    "start_time": "2022-05-31T19:38:27.328Z"
   },
   {
    "duration": 6,
    "start_time": "2022-05-31T19:38:27.367Z"
   },
   {
    "duration": 14,
    "start_time": "2022-05-31T19:38:27.375Z"
   },
   {
    "duration": 8,
    "start_time": "2022-05-31T19:38:27.390Z"
   },
   {
    "duration": 6,
    "start_time": "2022-05-31T19:38:27.401Z"
   },
   {
    "duration": 9,
    "start_time": "2022-05-31T19:38:27.408Z"
   },
   {
    "duration": 6,
    "start_time": "2022-05-31T19:38:27.418Z"
   },
   {
    "duration": 36,
    "start_time": "2022-05-31T19:38:27.425Z"
   },
   {
    "duration": 4,
    "start_time": "2022-05-31T19:38:27.467Z"
   },
   {
    "duration": 7,
    "start_time": "2022-05-31T19:38:27.473Z"
   },
   {
    "duration": 14,
    "start_time": "2022-05-31T19:38:27.482Z"
   },
   {
    "duration": 12,
    "start_time": "2022-05-31T19:38:27.497Z"
   },
   {
    "duration": 8,
    "start_time": "2022-05-31T19:38:27.511Z"
   },
   {
    "duration": 9,
    "start_time": "2022-05-31T19:38:27.520Z"
   },
   {
    "duration": 42,
    "start_time": "2022-05-31T19:38:27.530Z"
   },
   {
    "duration": 19,
    "start_time": "2022-05-31T19:38:27.574Z"
   },
   {
    "duration": 6,
    "start_time": "2022-05-31T19:38:27.594Z"
   },
   {
    "duration": 13,
    "start_time": "2022-05-31T19:38:27.602Z"
   },
   {
    "duration": 322,
    "start_time": "2022-05-31T19:38:27.617Z"
   },
   {
    "duration": 469,
    "start_time": "2022-05-31T19:38:27.941Z"
   },
   {
    "duration": 7,
    "start_time": "2022-05-31T19:38:28.412Z"
   },
   {
    "duration": 549,
    "start_time": "2022-05-31T19:38:28.421Z"
   },
   {
    "duration": 351,
    "start_time": "2022-05-31T19:38:28.972Z"
   },
   {
    "duration": 115,
    "start_time": "2022-05-31T19:38:29.324Z"
   },
   {
    "duration": 27,
    "start_time": "2022-05-31T19:38:29.440Z"
   },
   {
    "duration": 214,
    "start_time": "2022-05-31T19:38:29.469Z"
   },
   {
    "duration": 2,
    "start_time": "2022-05-31T19:38:29.685Z"
   },
   {
    "duration": 4,
    "start_time": "2022-05-31T19:38:29.689Z"
   },
   {
    "duration": 5,
    "start_time": "2022-05-31T19:38:29.694Z"
   },
   {
    "duration": 7,
    "start_time": "2022-05-31T19:38:29.700Z"
   },
   {
    "duration": 6,
    "start_time": "2022-05-31T19:38:29.708Z"
   },
   {
    "duration": 7,
    "start_time": "2022-05-31T19:38:29.718Z"
   },
   {
    "duration": 15,
    "start_time": "2022-05-31T19:38:29.727Z"
   },
   {
    "duration": 25,
    "start_time": "2022-05-31T19:38:29.743Z"
   },
   {
    "duration": 7,
    "start_time": "2022-05-31T19:38:29.770Z"
   },
   {
    "duration": 5,
    "start_time": "2022-05-31T19:38:29.779Z"
   },
   {
    "duration": 763,
    "start_time": "2022-05-31T19:38:29.786Z"
   },
   {
    "duration": 38,
    "start_time": "2022-05-31T19:38:30.551Z"
   },
   {
    "duration": 44,
    "start_time": "2022-05-31T19:38:30.590Z"
   },
   {
    "duration": 195,
    "start_time": "2022-05-31T19:38:30.636Z"
   },
   {
    "duration": 58,
    "start_time": "2022-05-31T19:38:30.833Z"
   },
   {
    "duration": 78,
    "start_time": "2022-05-31T19:38:30.893Z"
   },
   {
    "duration": 20,
    "start_time": "2022-05-31T19:38:30.972Z"
   },
   {
    "duration": 9,
    "start_time": "2022-05-31T19:38:30.994Z"
   },
   {
    "duration": 64,
    "start_time": "2022-05-31T19:38:31.005Z"
   },
   {
    "duration": 2231,
    "start_time": "2022-05-31T19:38:31.071Z"
   },
   {
    "duration": 446,
    "start_time": "2022-05-31T19:38:33.303Z"
   },
   {
    "duration": 443,
    "start_time": "2022-05-31T19:38:33.751Z"
   },
   {
    "duration": 6,
    "start_time": "2022-05-31T19:38:34.196Z"
   },
   {
    "duration": 421,
    "start_time": "2022-05-31T19:38:34.204Z"
   },
   {
    "duration": 168,
    "start_time": "2022-05-31T19:38:34.627Z"
   },
   {
    "duration": 147,
    "start_time": "2022-05-31T19:38:34.796Z"
   },
   {
    "duration": 156,
    "start_time": "2022-05-31T19:38:34.944Z"
   },
   {
    "duration": 157,
    "start_time": "2022-05-31T19:38:35.101Z"
   },
   {
    "duration": 3,
    "start_time": "2022-05-31T19:38:35.259Z"
   },
   {
    "duration": 63,
    "start_time": "2022-05-31T19:38:35.263Z"
   },
   {
    "duration": 28,
    "start_time": "2022-05-31T19:38:35.328Z"
   },
   {
    "duration": 177,
    "start_time": "2022-05-31T19:38:35.358Z"
   },
   {
    "duration": 31,
    "start_time": "2022-05-31T19:38:35.536Z"
   },
   {
    "duration": 14,
    "start_time": "2022-05-31T19:38:35.568Z"
   },
   {
    "duration": 9,
    "start_time": "2022-05-31T19:38:35.583Z"
   },
   {
    "duration": 17,
    "start_time": "2022-05-31T19:38:35.594Z"
   },
   {
    "duration": 193,
    "start_time": "2022-05-31T19:38:35.612Z"
   },
   {
    "duration": 7,
    "start_time": "2022-05-31T19:38:35.806Z"
   },
   {
    "duration": 421,
    "start_time": "2022-05-31T19:38:35.815Z"
   },
   {
    "duration": 164,
    "start_time": "2022-05-31T19:38:36.238Z"
   },
   {
    "duration": 165,
    "start_time": "2022-05-31T19:38:36.403Z"
   },
   {
    "duration": 14,
    "start_time": "2022-05-31T19:38:36.570Z"
   },
   {
    "duration": 21,
    "start_time": "2022-05-31T19:38:36.585Z"
   },
   {
    "duration": 48,
    "start_time": "2022-05-31T19:40:36.293Z"
   },
   {
    "duration": 90,
    "start_time": "2022-05-31T19:43:02.731Z"
   },
   {
    "duration": 63,
    "start_time": "2022-05-31T19:44:10.061Z"
   },
   {
    "duration": 2,
    "start_time": "2022-05-31T20:01:47.513Z"
   },
   {
    "duration": 9,
    "start_time": "2022-05-31T20:23:21.990Z"
   },
   {
    "duration": 8,
    "start_time": "2022-05-31T20:23:32.932Z"
   },
   {
    "duration": 4,
    "start_time": "2022-05-31T20:23:39.772Z"
   },
   {
    "duration": 5,
    "start_time": "2022-05-31T20:26:06.466Z"
   },
   {
    "duration": 139,
    "start_time": "2022-05-31T20:28:20.023Z"
   },
   {
    "duration": 23,
    "start_time": "2022-05-31T20:36:24.784Z"
   },
   {
    "duration": 12,
    "start_time": "2022-05-31T20:36:56.377Z"
   },
   {
    "duration": 2,
    "start_time": "2022-05-31T20:37:11.803Z"
   },
   {
    "duration": 147,
    "start_time": "2022-05-31T20:37:14.103Z"
   },
   {
    "duration": 3,
    "start_time": "2022-05-31T20:38:13.410Z"
   },
   {
    "duration": 146,
    "start_time": "2022-05-31T20:38:26.181Z"
   },
   {
    "duration": 13,
    "start_time": "2022-05-31T20:38:29.967Z"
   },
   {
    "duration": 63,
    "start_time": "2022-05-31T20:38:51.777Z"
   },
   {
    "duration": 3,
    "start_time": "2022-05-31T20:39:22.069Z"
   },
   {
    "duration": 148,
    "start_time": "2022-05-31T20:39:24.328Z"
   },
   {
    "duration": 3,
    "start_time": "2022-05-31T20:39:48.087Z"
   },
   {
    "duration": 143,
    "start_time": "2022-05-31T20:39:50.322Z"
   },
   {
    "duration": 3,
    "start_time": "2022-05-31T20:41:57.680Z"
   },
   {
    "duration": 150,
    "start_time": "2022-05-31T20:42:00.555Z"
   },
   {
    "duration": 13,
    "start_time": "2022-05-31T20:44:17.384Z"
   },
   {
    "duration": 809,
    "start_time": "2022-05-31T20:45:37.779Z"
   },
   {
    "duration": 5,
    "start_time": "2022-05-31T20:45:38.590Z"
   },
   {
    "duration": 5,
    "start_time": "2022-05-31T20:45:38.597Z"
   },
   {
    "duration": 35,
    "start_time": "2022-05-31T20:45:38.604Z"
   },
   {
    "duration": 39,
    "start_time": "2022-05-31T20:45:38.641Z"
   },
   {
    "duration": 91,
    "start_time": "2022-05-31T20:45:38.684Z"
   },
   {
    "duration": 14,
    "start_time": "2022-05-31T20:45:38.782Z"
   },
   {
    "duration": 5,
    "start_time": "2022-05-31T20:45:38.798Z"
   },
   {
    "duration": 8,
    "start_time": "2022-05-31T20:45:38.805Z"
   },
   {
    "duration": 10,
    "start_time": "2022-05-31T20:45:38.814Z"
   },
   {
    "duration": 5,
    "start_time": "2022-05-31T20:45:38.826Z"
   },
   {
    "duration": 24,
    "start_time": "2022-05-31T20:45:38.832Z"
   },
   {
    "duration": 14,
    "start_time": "2022-05-31T20:45:38.859Z"
   },
   {
    "duration": 19,
    "start_time": "2022-05-31T20:45:38.877Z"
   },
   {
    "duration": 14,
    "start_time": "2022-05-31T20:45:38.898Z"
   },
   {
    "duration": 6,
    "start_time": "2022-05-31T20:45:38.913Z"
   },
   {
    "duration": 5,
    "start_time": "2022-05-31T20:45:38.921Z"
   },
   {
    "duration": 6,
    "start_time": "2022-05-31T20:45:38.927Z"
   },
   {
    "duration": 8,
    "start_time": "2022-05-31T20:45:38.935Z"
   },
   {
    "duration": 21,
    "start_time": "2022-05-31T20:45:38.944Z"
   },
   {
    "duration": 28,
    "start_time": "2022-05-31T20:45:38.966Z"
   },
   {
    "duration": 8,
    "start_time": "2022-05-31T20:45:38.995Z"
   },
   {
    "duration": 10,
    "start_time": "2022-05-31T20:45:39.005Z"
   },
   {
    "duration": 12,
    "start_time": "2022-05-31T20:45:39.016Z"
   },
   {
    "duration": 47,
    "start_time": "2022-05-31T20:45:39.029Z"
   },
   {
    "duration": 7,
    "start_time": "2022-05-31T20:45:39.080Z"
   },
   {
    "duration": 19,
    "start_time": "2022-05-31T20:45:39.089Z"
   },
   {
    "duration": 385,
    "start_time": "2022-05-31T20:45:39.109Z"
   },
   {
    "duration": 518,
    "start_time": "2022-05-31T20:45:39.495Z"
   },
   {
    "duration": 9,
    "start_time": "2022-05-31T20:45:40.015Z"
   },
   {
    "duration": 601,
    "start_time": "2022-05-31T20:45:40.026Z"
   },
   {
    "duration": 357,
    "start_time": "2022-05-31T20:45:40.628Z"
   },
   {
    "duration": 126,
    "start_time": "2022-05-31T20:45:40.987Z"
   },
   {
    "duration": 13,
    "start_time": "2022-05-31T20:45:41.115Z"
   },
   {
    "duration": 265,
    "start_time": "2022-05-31T20:45:41.129Z"
   },
   {
    "duration": 2,
    "start_time": "2022-05-31T20:45:41.398Z"
   },
   {
    "duration": 8,
    "start_time": "2022-05-31T20:45:41.402Z"
   },
   {
    "duration": 12,
    "start_time": "2022-05-31T20:45:41.411Z"
   },
   {
    "duration": 10,
    "start_time": "2022-05-31T20:45:41.425Z"
   },
   {
    "duration": 9,
    "start_time": "2022-05-31T20:45:41.437Z"
   },
   {
    "duration": 22,
    "start_time": "2022-05-31T20:45:41.451Z"
   },
   {
    "duration": 15,
    "start_time": "2022-05-31T20:45:41.478Z"
   },
   {
    "duration": 9,
    "start_time": "2022-05-31T20:45:41.495Z"
   },
   {
    "duration": 18,
    "start_time": "2022-05-31T20:45:41.506Z"
   },
   {
    "duration": 8,
    "start_time": "2022-05-31T20:45:41.526Z"
   },
   {
    "duration": 838,
    "start_time": "2022-05-31T20:45:41.536Z"
   },
   {
    "duration": 32,
    "start_time": "2022-05-31T20:45:42.381Z"
   },
   {
    "duration": 46,
    "start_time": "2022-05-31T20:45:42.414Z"
   },
   {
    "duration": 14,
    "start_time": "2022-05-31T20:45:42.465Z"
   },
   {
    "duration": 162,
    "start_time": "2022-05-31T20:45:42.482Z"
   },
   {
    "duration": 22,
    "start_time": "2022-05-31T20:45:42.646Z"
   },
   {
    "duration": 76,
    "start_time": "2022-05-31T20:45:42.677Z"
   },
   {
    "duration": 23,
    "start_time": "2022-05-31T20:45:42.754Z"
   },
   {
    "duration": 21,
    "start_time": "2022-05-31T20:45:42.778Z"
   },
   {
    "duration": 52,
    "start_time": "2022-05-31T20:45:42.801Z"
   },
   {
    "duration": 2248,
    "start_time": "2022-05-31T20:45:42.856Z"
   },
   {
    "duration": 433,
    "start_time": "2022-05-31T20:45:45.106Z"
   },
   {
    "duration": 423,
    "start_time": "2022-05-31T20:45:45.540Z"
   },
   {
    "duration": 10,
    "start_time": "2022-05-31T20:45:45.965Z"
   },
   {
    "duration": 428,
    "start_time": "2022-05-31T20:45:45.980Z"
   },
   {
    "duration": 159,
    "start_time": "2022-05-31T20:45:46.409Z"
   },
   {
    "duration": 161,
    "start_time": "2022-05-31T20:45:46.570Z"
   },
   {
    "duration": 185,
    "start_time": "2022-05-31T20:45:46.732Z"
   },
   {
    "duration": 164,
    "start_time": "2022-05-31T20:45:46.919Z"
   },
   {
    "duration": 2,
    "start_time": "2022-05-31T20:45:47.085Z"
   },
   {
    "duration": 68,
    "start_time": "2022-05-31T20:45:47.089Z"
   },
   {
    "duration": 31,
    "start_time": "2022-05-31T20:45:47.159Z"
   },
   {
    "duration": 195,
    "start_time": "2022-05-31T20:45:47.191Z"
   },
   {
    "duration": 17,
    "start_time": "2022-05-31T20:45:47.388Z"
   },
   {
    "duration": 13,
    "start_time": "2022-05-31T20:45:47.407Z"
   },
   {
    "duration": 9,
    "start_time": "2022-05-31T20:45:47.422Z"
   },
   {
    "duration": 50,
    "start_time": "2022-05-31T20:45:47.433Z"
   },
   {
    "duration": 220,
    "start_time": "2022-05-31T20:45:47.486Z"
   },
   {
    "duration": 8,
    "start_time": "2022-05-31T20:45:47.708Z"
   },
   {
    "duration": 462,
    "start_time": "2022-05-31T20:45:47.718Z"
   },
   {
    "duration": 195,
    "start_time": "2022-05-31T20:45:48.186Z"
   },
   {
    "duration": 175,
    "start_time": "2022-05-31T20:45:48.386Z"
   },
   {
    "duration": 21,
    "start_time": "2022-05-31T20:45:48.562Z"
   },
   {
    "duration": 25,
    "start_time": "2022-05-31T20:45:48.584Z"
   },
   {
    "duration": 3,
    "start_time": "2022-05-31T20:49:29.453Z"
   },
   {
    "duration": 171,
    "start_time": "2022-05-31T20:49:31.413Z"
   },
   {
    "duration": 823,
    "start_time": "2022-05-31T20:50:02.823Z"
   },
   {
    "duration": 6,
    "start_time": "2022-05-31T20:50:03.648Z"
   },
   {
    "duration": 6,
    "start_time": "2022-05-31T20:50:03.655Z"
   },
   {
    "duration": 34,
    "start_time": "2022-05-31T20:50:03.663Z"
   },
   {
    "duration": 14,
    "start_time": "2022-05-31T20:50:03.699Z"
   },
   {
    "duration": 94,
    "start_time": "2022-05-31T20:50:03.715Z"
   },
   {
    "duration": 13,
    "start_time": "2022-05-31T20:50:03.811Z"
   },
   {
    "duration": 28,
    "start_time": "2022-05-31T20:50:03.826Z"
   },
   {
    "duration": 4,
    "start_time": "2022-05-31T20:50:03.856Z"
   },
   {
    "duration": 10,
    "start_time": "2022-05-31T20:50:03.861Z"
   },
   {
    "duration": 8,
    "start_time": "2022-05-31T20:50:03.872Z"
   },
   {
    "duration": 21,
    "start_time": "2022-05-31T20:50:03.881Z"
   },
   {
    "duration": 8,
    "start_time": "2022-05-31T20:50:03.903Z"
   },
   {
    "duration": 6,
    "start_time": "2022-05-31T20:50:03.914Z"
   },
   {
    "duration": 9,
    "start_time": "2022-05-31T20:50:03.921Z"
   },
   {
    "duration": 25,
    "start_time": "2022-05-31T20:50:03.932Z"
   },
   {
    "duration": 4,
    "start_time": "2022-05-31T20:50:03.958Z"
   },
   {
    "duration": 6,
    "start_time": "2022-05-31T20:50:03.963Z"
   },
   {
    "duration": 7,
    "start_time": "2022-05-31T20:50:03.971Z"
   },
   {
    "duration": 14,
    "start_time": "2022-05-31T20:50:03.979Z"
   },
   {
    "duration": 13,
    "start_time": "2022-05-31T20:50:03.994Z"
   },
   {
    "duration": 9,
    "start_time": "2022-05-31T20:50:04.008Z"
   },
   {
    "duration": 44,
    "start_time": "2022-05-31T20:50:04.018Z"
   },
   {
    "duration": 14,
    "start_time": "2022-05-31T20:50:04.064Z"
   },
   {
    "duration": 20,
    "start_time": "2022-05-31T20:50:04.079Z"
   },
   {
    "duration": 6,
    "start_time": "2022-05-31T20:50:04.100Z"
   },
   {
    "duration": 14,
    "start_time": "2022-05-31T20:50:04.107Z"
   },
   {
    "duration": 337,
    "start_time": "2022-05-31T20:50:04.122Z"
   },
   {
    "duration": 498,
    "start_time": "2022-05-31T20:50:04.461Z"
   },
   {
    "duration": 8,
    "start_time": "2022-05-31T20:50:04.961Z"
   },
   {
    "duration": 524,
    "start_time": "2022-05-31T20:50:04.971Z"
   },
   {
    "duration": 331,
    "start_time": "2022-05-31T20:50:05.496Z"
   },
   {
    "duration": 123,
    "start_time": "2022-05-31T20:50:05.828Z"
   },
   {
    "duration": 14,
    "start_time": "2022-05-31T20:50:05.953Z"
   },
   {
    "duration": 228,
    "start_time": "2022-05-31T20:50:05.968Z"
   },
   {
    "duration": 2,
    "start_time": "2022-05-31T20:50:06.198Z"
   },
   {
    "duration": 4,
    "start_time": "2022-05-31T20:50:06.202Z"
   },
   {
    "duration": 5,
    "start_time": "2022-05-31T20:50:06.208Z"
   },
   {
    "duration": 11,
    "start_time": "2022-05-31T20:50:06.214Z"
   },
   {
    "duration": 6,
    "start_time": "2022-05-31T20:50:06.227Z"
   },
   {
    "duration": 2,
    "start_time": "2022-05-31T20:50:06.237Z"
   },
   {
    "duration": 13,
    "start_time": "2022-05-31T20:50:06.241Z"
   },
   {
    "duration": 6,
    "start_time": "2022-05-31T20:50:06.256Z"
   },
   {
    "duration": 10,
    "start_time": "2022-05-31T20:50:06.264Z"
   },
   {
    "duration": 5,
    "start_time": "2022-05-31T20:50:06.275Z"
   },
   {
    "duration": 725,
    "start_time": "2022-05-31T20:50:06.281Z"
   },
   {
    "duration": 32,
    "start_time": "2022-05-31T20:50:07.008Z"
   },
   {
    "duration": 53,
    "start_time": "2022-05-31T20:50:07.041Z"
   },
   {
    "duration": 3,
    "start_time": "2022-05-31T20:50:07.095Z"
   },
   {
    "duration": 155,
    "start_time": "2022-05-31T20:50:07.100Z"
   },
   {
    "duration": 12,
    "start_time": "2022-05-31T20:50:07.257Z"
   },
   {
    "duration": 62,
    "start_time": "2022-05-31T20:50:07.271Z"
   },
   {
    "duration": 2145,
    "start_time": "2022-05-31T20:50:07.355Z"
   },
   {
    "duration": 427,
    "start_time": "2022-05-31T20:50:09.502Z"
   },
   {
    "duration": 370,
    "start_time": "2022-05-31T20:50:09.931Z"
   },
   {
    "duration": 7,
    "start_time": "2022-05-31T20:50:10.303Z"
   },
   {
    "duration": 388,
    "start_time": "2022-05-31T20:50:10.311Z"
   },
   {
    "duration": 143,
    "start_time": "2022-05-31T20:50:10.701Z"
   },
   {
    "duration": 168,
    "start_time": "2022-05-31T20:50:10.846Z"
   },
   {
    "duration": 158,
    "start_time": "2022-05-31T20:50:11.016Z"
   },
   {
    "duration": 146,
    "start_time": "2022-05-31T20:50:11.176Z"
   },
   {
    "duration": 4,
    "start_time": "2022-05-31T20:50:11.324Z"
   },
   {
    "duration": 82,
    "start_time": "2022-05-31T20:50:11.331Z"
   },
   {
    "duration": 26,
    "start_time": "2022-05-31T20:50:11.415Z"
   },
   {
    "duration": 209,
    "start_time": "2022-05-31T20:50:11.454Z"
   },
   {
    "duration": 14,
    "start_time": "2022-05-31T20:50:11.665Z"
   },
   {
    "duration": 14,
    "start_time": "2022-05-31T20:50:11.680Z"
   },
   {
    "duration": 9,
    "start_time": "2022-05-31T20:50:11.695Z"
   },
   {
    "duration": 17,
    "start_time": "2022-05-31T20:50:11.705Z"
   },
   {
    "duration": 201,
    "start_time": "2022-05-31T20:50:11.724Z"
   },
   {
    "duration": 7,
    "start_time": "2022-05-31T20:50:11.927Z"
   },
   {
    "duration": 398,
    "start_time": "2022-05-31T20:50:11.935Z"
   },
   {
    "duration": 142,
    "start_time": "2022-05-31T20:50:12.335Z"
   },
   {
    "duration": 157,
    "start_time": "2022-05-31T20:50:12.478Z"
   },
   {
    "duration": 28,
    "start_time": "2022-05-31T20:50:12.636Z"
   },
   {
    "duration": 23,
    "start_time": "2022-05-31T20:50:12.665Z"
   },
   {
    "duration": 764,
    "start_time": "2022-05-31T20:53:47.604Z"
   },
   {
    "duration": 6,
    "start_time": "2022-05-31T20:53:48.370Z"
   },
   {
    "duration": 6,
    "start_time": "2022-05-31T20:53:48.377Z"
   },
   {
    "duration": 40,
    "start_time": "2022-05-31T20:53:48.385Z"
   },
   {
    "duration": 35,
    "start_time": "2022-05-31T20:53:48.427Z"
   },
   {
    "duration": 80,
    "start_time": "2022-05-31T20:53:48.464Z"
   },
   {
    "duration": 19,
    "start_time": "2022-05-31T20:53:48.555Z"
   },
   {
    "duration": 6,
    "start_time": "2022-05-31T20:53:48.575Z"
   },
   {
    "duration": 8,
    "start_time": "2022-05-31T20:53:48.582Z"
   },
   {
    "duration": 5,
    "start_time": "2022-05-31T20:53:48.592Z"
   },
   {
    "duration": 6,
    "start_time": "2022-05-31T20:53:48.599Z"
   },
   {
    "duration": 15,
    "start_time": "2022-05-31T20:53:48.607Z"
   },
   {
    "duration": 11,
    "start_time": "2022-05-31T20:53:48.654Z"
   },
   {
    "duration": 6,
    "start_time": "2022-05-31T20:53:48.669Z"
   },
   {
    "duration": 11,
    "start_time": "2022-05-31T20:53:48.676Z"
   },
   {
    "duration": 5,
    "start_time": "2022-05-31T20:53:48.688Z"
   },
   {
    "duration": 4,
    "start_time": "2022-05-31T20:53:48.694Z"
   },
   {
    "duration": 6,
    "start_time": "2022-05-31T20:53:48.700Z"
   },
   {
    "duration": 8,
    "start_time": "2022-05-31T20:53:48.707Z"
   },
   {
    "duration": 41,
    "start_time": "2022-05-31T20:53:48.716Z"
   },
   {
    "duration": 12,
    "start_time": "2022-05-31T20:53:48.759Z"
   },
   {
    "duration": 10,
    "start_time": "2022-05-31T20:53:48.772Z"
   },
   {
    "duration": 10,
    "start_time": "2022-05-31T20:53:48.783Z"
   },
   {
    "duration": 17,
    "start_time": "2022-05-31T20:53:48.794Z"
   },
   {
    "duration": 17,
    "start_time": "2022-05-31T20:53:48.812Z"
   },
   {
    "duration": 26,
    "start_time": "2022-05-31T20:53:48.830Z"
   },
   {
    "duration": 12,
    "start_time": "2022-05-31T20:53:48.858Z"
   },
   {
    "duration": 323,
    "start_time": "2022-05-31T20:53:48.871Z"
   },
   {
    "duration": 452,
    "start_time": "2022-05-31T20:53:49.196Z"
   },
   {
    "duration": 7,
    "start_time": "2022-05-31T20:53:49.654Z"
   },
   {
    "duration": 504,
    "start_time": "2022-05-31T20:53:49.663Z"
   },
   {
    "duration": 307,
    "start_time": "2022-05-31T20:53:50.169Z"
   },
   {
    "duration": 117,
    "start_time": "2022-05-31T20:53:50.477Z"
   },
   {
    "duration": 12,
    "start_time": "2022-05-31T20:53:50.596Z"
   },
   {
    "duration": 211,
    "start_time": "2022-05-31T20:53:50.609Z"
   },
   {
    "duration": 2,
    "start_time": "2022-05-31T20:53:50.822Z"
   },
   {
    "duration": 12,
    "start_time": "2022-05-31T20:53:50.825Z"
   },
   {
    "duration": 6,
    "start_time": "2022-05-31T20:53:50.838Z"
   },
   {
    "duration": 9,
    "start_time": "2022-05-31T20:53:50.846Z"
   },
   {
    "duration": 10,
    "start_time": "2022-05-31T20:53:50.857Z"
   },
   {
    "duration": 4,
    "start_time": "2022-05-31T20:53:50.871Z"
   },
   {
    "duration": 9,
    "start_time": "2022-05-31T20:53:50.877Z"
   },
   {
    "duration": 10,
    "start_time": "2022-05-31T20:53:50.888Z"
   },
   {
    "duration": 12,
    "start_time": "2022-05-31T20:53:50.899Z"
   },
   {
    "duration": 6,
    "start_time": "2022-05-31T20:53:50.912Z"
   },
   {
    "duration": 796,
    "start_time": "2022-05-31T20:53:50.919Z"
   },
   {
    "duration": 40,
    "start_time": "2022-05-31T20:53:51.716Z"
   },
   {
    "duration": 41,
    "start_time": "2022-05-31T20:53:51.757Z"
   },
   {
    "duration": 3,
    "start_time": "2022-05-31T20:53:51.799Z"
   },
   {
    "duration": 145,
    "start_time": "2022-05-31T20:53:51.803Z"
   },
   {
    "duration": 12,
    "start_time": "2022-05-31T20:53:51.954Z"
   },
   {
    "duration": 63,
    "start_time": "2022-05-31T20:53:51.968Z"
   },
   {
    "duration": 2082,
    "start_time": "2022-05-31T20:53:52.032Z"
   },
   {
    "duration": 418,
    "start_time": "2022-05-31T20:53:54.116Z"
   },
   {
    "duration": 407,
    "start_time": "2022-05-31T20:53:54.535Z"
   },
   {
    "duration": 11,
    "start_time": "2022-05-31T20:53:54.944Z"
   },
   {
    "duration": 366,
    "start_time": "2022-05-31T20:53:54.957Z"
   },
   {
    "duration": 161,
    "start_time": "2022-05-31T20:53:55.325Z"
   },
   {
    "duration": 160,
    "start_time": "2022-05-31T20:53:55.488Z"
   },
   {
    "duration": 156,
    "start_time": "2022-05-31T20:53:55.649Z"
   },
   {
    "duration": 150,
    "start_time": "2022-05-31T20:53:55.806Z"
   },
   {
    "duration": 2,
    "start_time": "2022-05-31T20:53:55.958Z"
   },
   {
    "duration": 56,
    "start_time": "2022-05-31T20:53:55.962Z"
   },
   {
    "duration": 35,
    "start_time": "2022-05-31T20:53:56.019Z"
   },
   {
    "duration": 184,
    "start_time": "2022-05-31T20:53:56.056Z"
   },
   {
    "duration": 19,
    "start_time": "2022-05-31T20:53:56.241Z"
   },
   {
    "duration": 13,
    "start_time": "2022-05-31T20:53:56.262Z"
   },
   {
    "duration": 9,
    "start_time": "2022-05-31T20:53:56.276Z"
   },
   {
    "duration": 15,
    "start_time": "2022-05-31T20:53:56.286Z"
   },
   {
    "duration": 187,
    "start_time": "2022-05-31T20:53:56.302Z"
   },
   {
    "duration": 8,
    "start_time": "2022-05-31T20:53:56.490Z"
   },
   {
    "duration": 411,
    "start_time": "2022-05-31T20:53:56.499Z"
   },
   {
    "duration": 164,
    "start_time": "2022-05-31T20:53:56.911Z"
   },
   {
    "duration": 163,
    "start_time": "2022-05-31T20:53:57.076Z"
   },
   {
    "duration": 20,
    "start_time": "2022-05-31T20:53:57.241Z"
   },
   {
    "duration": 22,
    "start_time": "2022-05-31T20:53:57.262Z"
   },
   {
    "duration": 106,
    "start_time": "2022-05-31T20:58:11.363Z"
   },
   {
    "duration": 6,
    "start_time": "2022-05-31T20:58:11.473Z"
   },
   {
    "duration": 10,
    "start_time": "2022-05-31T20:58:11.481Z"
   },
   {
    "duration": 42,
    "start_time": "2022-05-31T20:58:11.493Z"
   },
   {
    "duration": 25,
    "start_time": "2022-05-31T20:58:11.537Z"
   },
   {
    "duration": 103,
    "start_time": "2022-05-31T20:58:11.565Z"
   },
   {
    "duration": 13,
    "start_time": "2022-05-31T20:58:11.670Z"
   },
   {
    "duration": 5,
    "start_time": "2022-05-31T20:58:11.684Z"
   },
   {
    "duration": 6,
    "start_time": "2022-05-31T20:58:11.690Z"
   },
   {
    "duration": 4,
    "start_time": "2022-05-31T20:58:11.699Z"
   },
   {
    "duration": 5,
    "start_time": "2022-05-31T20:58:11.705Z"
   },
   {
    "duration": 59,
    "start_time": "2022-05-31T20:58:11.711Z"
   },
   {
    "duration": 7,
    "start_time": "2022-05-31T20:58:11.772Z"
   },
   {
    "duration": 12,
    "start_time": "2022-05-31T20:58:11.781Z"
   },
   {
    "duration": 10,
    "start_time": "2022-05-31T20:58:11.795Z"
   },
   {
    "duration": 8,
    "start_time": "2022-05-31T20:58:11.806Z"
   },
   {
    "duration": 3,
    "start_time": "2022-05-31T20:58:11.815Z"
   },
   {
    "duration": 6,
    "start_time": "2022-05-31T20:58:11.820Z"
   },
   {
    "duration": 6,
    "start_time": "2022-05-31T20:58:11.827Z"
   },
   {
    "duration": 36,
    "start_time": "2022-05-31T20:58:11.834Z"
   },
   {
    "duration": 11,
    "start_time": "2022-05-31T20:58:11.872Z"
   },
   {
    "duration": 9,
    "start_time": "2022-05-31T20:58:11.884Z"
   },
   {
    "duration": 9,
    "start_time": "2022-05-31T20:58:11.894Z"
   },
   {
    "duration": 17,
    "start_time": "2022-05-31T20:58:11.904Z"
   },
   {
    "duration": 17,
    "start_time": "2022-05-31T20:58:11.922Z"
   },
   {
    "duration": 6,
    "start_time": "2022-05-31T20:58:11.966Z"
   },
   {
    "duration": 14,
    "start_time": "2022-05-31T20:58:11.973Z"
   },
   {
    "duration": 302,
    "start_time": "2022-05-31T20:58:11.990Z"
   },
   {
    "duration": 471,
    "start_time": "2022-05-31T20:58:12.294Z"
   },
   {
    "duration": 10,
    "start_time": "2022-05-31T20:58:12.767Z"
   },
   {
    "duration": 605,
    "start_time": "2022-05-31T20:58:12.778Z"
   },
   {
    "duration": 288,
    "start_time": "2022-05-31T20:58:13.385Z"
   },
   {
    "duration": 115,
    "start_time": "2022-05-31T20:58:13.674Z"
   },
   {
    "duration": 12,
    "start_time": "2022-05-31T20:58:13.790Z"
   },
   {
    "duration": 223,
    "start_time": "2022-05-31T20:58:13.804Z"
   },
   {
    "duration": 3,
    "start_time": "2022-05-31T20:58:14.028Z"
   },
   {
    "duration": 4,
    "start_time": "2022-05-31T20:58:14.032Z"
   },
   {
    "duration": 28,
    "start_time": "2022-05-31T20:58:14.038Z"
   },
   {
    "duration": 7,
    "start_time": "2022-05-31T20:58:14.068Z"
   },
   {
    "duration": 8,
    "start_time": "2022-05-31T20:58:14.077Z"
   },
   {
    "duration": 4,
    "start_time": "2022-05-31T20:58:14.086Z"
   },
   {
    "duration": 8,
    "start_time": "2022-05-31T20:58:14.092Z"
   },
   {
    "duration": 8,
    "start_time": "2022-05-31T20:58:14.101Z"
   },
   {
    "duration": 7,
    "start_time": "2022-05-31T20:58:14.110Z"
   },
   {
    "duration": 5,
    "start_time": "2022-05-31T20:58:14.118Z"
   },
   {
    "duration": 774,
    "start_time": "2022-05-31T20:58:14.124Z"
   },
   {
    "duration": 33,
    "start_time": "2022-05-31T20:58:14.899Z"
   },
   {
    "duration": 61,
    "start_time": "2022-05-31T20:58:14.933Z"
   },
   {
    "duration": 3,
    "start_time": "2022-05-31T20:58:14.996Z"
   },
   {
    "duration": 172,
    "start_time": "2022-05-31T20:58:15.000Z"
   },
   {
    "duration": 14,
    "start_time": "2022-05-31T20:58:15.174Z"
   },
   {
    "duration": 82,
    "start_time": "2022-05-31T20:58:15.190Z"
   },
   {
    "duration": 2221,
    "start_time": "2022-05-31T20:58:15.274Z"
   },
   {
    "duration": 404,
    "start_time": "2022-05-31T20:58:17.497Z"
   },
   {
    "duration": 438,
    "start_time": "2022-05-31T20:58:17.902Z"
   },
   {
    "duration": 14,
    "start_time": "2022-05-31T20:58:18.341Z"
   },
   {
    "duration": 378,
    "start_time": "2022-05-31T20:58:18.358Z"
   },
   {
    "duration": 162,
    "start_time": "2022-05-31T20:58:18.738Z"
   },
   {
    "duration": 160,
    "start_time": "2022-05-31T20:58:18.902Z"
   },
   {
    "duration": 199,
    "start_time": "2022-05-31T20:58:19.067Z"
   },
   {
    "duration": 165,
    "start_time": "2022-05-31T20:58:19.268Z"
   },
   {
    "duration": 3,
    "start_time": "2022-05-31T20:58:19.435Z"
   },
   {
    "duration": 38,
    "start_time": "2022-05-31T20:58:19.439Z"
   },
   {
    "duration": 21,
    "start_time": "2022-05-31T20:58:19.479Z"
   },
   {
    "duration": 191,
    "start_time": "2022-05-31T20:58:19.501Z"
   },
   {
    "duration": 15,
    "start_time": "2022-05-31T20:58:19.693Z"
   },
   {
    "duration": 13,
    "start_time": "2022-05-31T20:58:19.709Z"
   },
   {
    "duration": 9,
    "start_time": "2022-05-31T20:58:19.724Z"
   },
   {
    "duration": 44,
    "start_time": "2022-05-31T20:58:19.734Z"
   },
   {
    "duration": 165,
    "start_time": "2022-05-31T20:58:19.779Z"
   },
   {
    "duration": 20,
    "start_time": "2022-05-31T20:58:19.946Z"
   },
   {
    "duration": 406,
    "start_time": "2022-05-31T20:58:19.968Z"
   },
   {
    "duration": 157,
    "start_time": "2022-05-31T20:58:20.376Z"
   },
   {
    "duration": 173,
    "start_time": "2022-05-31T20:58:20.535Z"
   },
   {
    "duration": 15,
    "start_time": "2022-05-31T20:58:20.710Z"
   },
   {
    "duration": 44,
    "start_time": "2022-05-31T20:58:20.726Z"
   },
   {
    "duration": 2,
    "start_time": "2022-05-31T20:58:53.202Z"
   },
   {
    "duration": 140,
    "start_time": "2022-05-31T20:58:55.767Z"
   },
   {
    "duration": 3,
    "start_time": "2022-05-31T20:59:17.920Z"
   },
   {
    "duration": 3,
    "start_time": "2022-05-31T21:00:00.891Z"
   },
   {
    "duration": 162,
    "start_time": "2022-05-31T21:00:02.711Z"
   },
   {
    "duration": 14,
    "start_time": "2022-05-31T21:00:05.396Z"
   },
   {
    "duration": 94,
    "start_time": "2022-05-31T21:00:33.527Z"
   },
   {
    "duration": 5,
    "start_time": "2022-05-31T21:00:33.624Z"
   },
   {
    "duration": 20,
    "start_time": "2022-05-31T21:00:33.630Z"
   },
   {
    "duration": 32,
    "start_time": "2022-05-31T21:00:33.655Z"
   },
   {
    "duration": 32,
    "start_time": "2022-05-31T21:00:33.689Z"
   },
   {
    "duration": 89,
    "start_time": "2022-05-31T21:00:33.723Z"
   },
   {
    "duration": 12,
    "start_time": "2022-05-31T21:00:33.814Z"
   },
   {
    "duration": 4,
    "start_time": "2022-05-31T21:00:33.828Z"
   },
   {
    "duration": 8,
    "start_time": "2022-05-31T21:00:33.855Z"
   },
   {
    "duration": 6,
    "start_time": "2022-05-31T21:00:33.866Z"
   },
   {
    "duration": 9,
    "start_time": "2022-05-31T21:00:33.874Z"
   },
   {
    "duration": 11,
    "start_time": "2022-05-31T21:00:33.885Z"
   },
   {
    "duration": 8,
    "start_time": "2022-05-31T21:00:33.898Z"
   },
   {
    "duration": 13,
    "start_time": "2022-05-31T21:00:33.908Z"
   },
   {
    "duration": 33,
    "start_time": "2022-05-31T21:00:33.922Z"
   },
   {
    "duration": 6,
    "start_time": "2022-05-31T21:00:33.957Z"
   },
   {
    "duration": 6,
    "start_time": "2022-05-31T21:00:33.964Z"
   },
   {
    "duration": 9,
    "start_time": "2022-05-31T21:00:33.971Z"
   },
   {
    "duration": 7,
    "start_time": "2022-05-31T21:00:33.981Z"
   },
   {
    "duration": 15,
    "start_time": "2022-05-31T21:00:33.989Z"
   },
   {
    "duration": 49,
    "start_time": "2022-05-31T21:00:34.006Z"
   },
   {
    "duration": 10,
    "start_time": "2022-05-31T21:00:34.057Z"
   },
   {
    "duration": 11,
    "start_time": "2022-05-31T21:00:34.069Z"
   },
   {
    "duration": 13,
    "start_time": "2022-05-31T21:00:34.081Z"
   },
   {
    "duration": 19,
    "start_time": "2022-05-31T21:00:34.096Z"
   },
   {
    "duration": 40,
    "start_time": "2022-05-31T21:00:34.117Z"
   },
   {
    "duration": 15,
    "start_time": "2022-05-31T21:00:34.158Z"
   },
   {
    "duration": 306,
    "start_time": "2022-05-31T21:00:34.177Z"
   },
   {
    "duration": 466,
    "start_time": "2022-05-31T21:00:34.485Z"
   },
   {
    "duration": 9,
    "start_time": "2022-05-31T21:00:34.954Z"
   },
   {
    "duration": 677,
    "start_time": "2022-05-31T21:00:34.964Z"
   },
   {
    "duration": 269,
    "start_time": "2022-05-31T21:00:35.642Z"
   },
   {
    "duration": 123,
    "start_time": "2022-05-31T21:00:35.912Z"
   },
   {
    "duration": 22,
    "start_time": "2022-05-31T21:00:36.037Z"
   },
   {
    "duration": 229,
    "start_time": "2022-05-31T21:00:36.061Z"
   },
   {
    "duration": 3,
    "start_time": "2022-05-31T21:00:36.292Z"
   },
   {
    "duration": 10,
    "start_time": "2022-05-31T21:00:36.297Z"
   },
   {
    "duration": 11,
    "start_time": "2022-05-31T21:00:36.309Z"
   },
   {
    "duration": 7,
    "start_time": "2022-05-31T21:00:36.322Z"
   },
   {
    "duration": 14,
    "start_time": "2022-05-31T21:00:36.331Z"
   },
   {
    "duration": 16,
    "start_time": "2022-05-31T21:00:36.347Z"
   },
   {
    "duration": 12,
    "start_time": "2022-05-31T21:00:36.365Z"
   },
   {
    "duration": 7,
    "start_time": "2022-05-31T21:00:36.378Z"
   },
   {
    "duration": 8,
    "start_time": "2022-05-31T21:00:36.386Z"
   },
   {
    "duration": 11,
    "start_time": "2022-05-31T21:00:36.395Z"
   },
   {
    "duration": 778,
    "start_time": "2022-05-31T21:00:36.408Z"
   },
   {
    "duration": 34,
    "start_time": "2022-05-31T21:00:37.187Z"
   },
   {
    "duration": 56,
    "start_time": "2022-05-31T21:00:37.222Z"
   },
   {
    "duration": 4,
    "start_time": "2022-05-31T21:00:37.280Z"
   },
   {
    "duration": 296,
    "start_time": "2022-05-31T21:00:37.285Z"
   },
   {
    "duration": 15,
    "start_time": "2022-05-31T21:00:37.583Z"
   },
   {
    "duration": 103,
    "start_time": "2022-05-31T21:00:37.601Z"
   },
   {
    "duration": 2318,
    "start_time": "2022-05-31T21:00:37.706Z"
   },
   {
    "duration": 563,
    "start_time": "2022-05-31T21:00:40.026Z"
   },
   {
    "duration": 318,
    "start_time": "2022-05-31T21:00:40.591Z"
   },
   {
    "duration": 6,
    "start_time": "2022-05-31T21:00:40.911Z"
   },
   {
    "duration": 433,
    "start_time": "2022-05-31T21:00:40.918Z"
   },
   {
    "duration": 216,
    "start_time": "2022-05-31T21:00:41.354Z"
   },
   {
    "duration": 192,
    "start_time": "2022-05-31T21:00:41.572Z"
   },
   {
    "duration": 177,
    "start_time": "2022-05-31T21:00:41.765Z"
   },
   {
    "duration": 164,
    "start_time": "2022-05-31T21:00:41.944Z"
   },
   {
    "duration": 3,
    "start_time": "2022-05-31T21:00:42.110Z"
   },
   {
    "duration": 31,
    "start_time": "2022-05-31T21:00:42.115Z"
   },
   {
    "duration": 25,
    "start_time": "2022-05-31T21:00:42.154Z"
   },
   {
    "duration": 196,
    "start_time": "2022-05-31T21:00:42.181Z"
   },
   {
    "duration": 15,
    "start_time": "2022-05-31T21:00:42.378Z"
   },
   {
    "duration": 15,
    "start_time": "2022-05-31T21:00:42.395Z"
   },
   {
    "duration": 12,
    "start_time": "2022-05-31T21:00:42.411Z"
   },
   {
    "duration": 135,
    "start_time": "2022-05-31T21:00:42.425Z"
   },
   {
    "duration": 203,
    "start_time": "2022-05-31T21:00:42.561Z"
   },
   {
    "duration": 8,
    "start_time": "2022-05-31T21:00:42.766Z"
   },
   {
    "duration": 364,
    "start_time": "2022-05-31T21:00:42.776Z"
   },
   {
    "duration": 193,
    "start_time": "2022-05-31T21:00:43.141Z"
   },
   {
    "duration": 184,
    "start_time": "2022-05-31T21:00:43.335Z"
   },
   {
    "duration": 16,
    "start_time": "2022-05-31T21:00:43.521Z"
   },
   {
    "duration": 25,
    "start_time": "2022-05-31T21:00:43.555Z"
   },
   {
    "duration": 4,
    "start_time": "2022-05-31T21:15:18.000Z"
   },
   {
    "duration": 32,
    "start_time": "2022-05-31T21:35:36.999Z"
   },
   {
    "duration": 74,
    "start_time": "2022-05-31T21:37:12.509Z"
   },
   {
    "duration": 6,
    "start_time": "2022-05-31T21:37:15.976Z"
   },
   {
    "duration": 8,
    "start_time": "2022-05-31T21:37:28.292Z"
   },
   {
    "duration": 8,
    "start_time": "2022-05-31T21:37:44.580Z"
   },
   {
    "duration": 7,
    "start_time": "2022-05-31T21:37:49.102Z"
   },
   {
    "duration": 7,
    "start_time": "2022-05-31T21:37:53.370Z"
   },
   {
    "duration": 13,
    "start_time": "2022-05-31T21:38:14.088Z"
   },
   {
    "duration": 16,
    "start_time": "2022-05-31T21:38:34.869Z"
   },
   {
    "duration": 19,
    "start_time": "2022-05-31T21:39:15.359Z"
   },
   {
    "duration": 20,
    "start_time": "2022-05-31T21:39:20.654Z"
   },
   {
    "duration": 26,
    "start_time": "2022-05-31T21:40:56.505Z"
   },
   {
    "duration": 33,
    "start_time": "2022-05-31T21:41:02.207Z"
   },
   {
    "duration": 31,
    "start_time": "2022-05-31T21:41:45.400Z"
   },
   {
    "duration": 35,
    "start_time": "2022-05-31T21:41:50.305Z"
   },
   {
    "duration": 6,
    "start_time": "2022-05-31T21:43:12.759Z"
   },
   {
    "duration": 12,
    "start_time": "2022-05-31T21:43:19.630Z"
   },
   {
    "duration": 7,
    "start_time": "2022-05-31T21:43:25.148Z"
   },
   {
    "duration": 6,
    "start_time": "2022-05-31T21:43:30.335Z"
   },
   {
    "duration": 5,
    "start_time": "2022-05-31T21:43:39.630Z"
   },
   {
    "duration": 42,
    "start_time": "2022-05-31T21:44:01.314Z"
   },
   {
    "duration": 31,
    "start_time": "2022-05-31T21:44:06.338Z"
   },
   {
    "duration": 757,
    "start_time": "2022-05-31T21:47:51.851Z"
   },
   {
    "duration": 5,
    "start_time": "2022-05-31T21:47:52.610Z"
   },
   {
    "duration": 5,
    "start_time": "2022-05-31T21:47:52.616Z"
   },
   {
    "duration": 36,
    "start_time": "2022-05-31T21:47:52.622Z"
   },
   {
    "duration": 12,
    "start_time": "2022-05-31T21:47:52.660Z"
   },
   {
    "duration": 89,
    "start_time": "2022-05-31T21:47:52.673Z"
   },
   {
    "duration": 12,
    "start_time": "2022-05-31T21:47:52.763Z"
   },
   {
    "duration": 4,
    "start_time": "2022-05-31T21:47:52.777Z"
   },
   {
    "duration": 7,
    "start_time": "2022-05-31T21:47:52.783Z"
   },
   {
    "duration": 5,
    "start_time": "2022-05-31T21:47:52.792Z"
   },
   {
    "duration": 8,
    "start_time": "2022-05-31T21:47:52.798Z"
   },
   {
    "duration": 26,
    "start_time": "2022-05-31T21:47:52.808Z"
   },
   {
    "duration": 25,
    "start_time": "2022-05-31T21:47:52.835Z"
   },
   {
    "duration": 6,
    "start_time": "2022-05-31T21:47:52.863Z"
   },
   {
    "duration": 8,
    "start_time": "2022-05-31T21:47:52.870Z"
   },
   {
    "duration": 5,
    "start_time": "2022-05-31T21:47:52.880Z"
   },
   {
    "duration": 3,
    "start_time": "2022-05-31T21:47:52.887Z"
   },
   {
    "duration": 8,
    "start_time": "2022-05-31T21:47:52.892Z"
   },
   {
    "duration": 8,
    "start_time": "2022-05-31T21:47:52.902Z"
   },
   {
    "duration": 48,
    "start_time": "2022-05-31T21:47:52.911Z"
   },
   {
    "duration": 11,
    "start_time": "2022-05-31T21:47:52.960Z"
   },
   {
    "duration": 8,
    "start_time": "2022-05-31T21:47:52.973Z"
   },
   {
    "duration": 21,
    "start_time": "2022-05-31T21:47:52.982Z"
   },
   {
    "duration": 15,
    "start_time": "2022-05-31T21:47:53.004Z"
   },
   {
    "duration": 20,
    "start_time": "2022-05-31T21:47:53.021Z"
   },
   {
    "duration": 4,
    "start_time": "2022-05-31T21:47:53.055Z"
   },
   {
    "duration": 39,
    "start_time": "2022-05-31T21:47:53.060Z"
   },
   {
    "duration": 6,
    "start_time": "2022-05-31T21:47:53.101Z"
   },
   {
    "duration": 23,
    "start_time": "2022-05-31T21:47:53.108Z"
   },
   {
    "duration": 303,
    "start_time": "2022-05-31T21:47:53.133Z"
   },
   {
    "duration": 459,
    "start_time": "2022-05-31T21:47:53.437Z"
   },
   {
    "duration": 9,
    "start_time": "2022-05-31T21:47:53.897Z"
   },
   {
    "duration": 505,
    "start_time": "2022-05-31T21:47:53.908Z"
   },
   {
    "duration": 308,
    "start_time": "2022-05-31T21:47:54.414Z"
   },
   {
    "duration": 117,
    "start_time": "2022-05-31T21:47:54.723Z"
   },
   {
    "duration": 21,
    "start_time": "2022-05-31T21:47:54.841Z"
   },
   {
    "duration": 204,
    "start_time": "2022-05-31T21:47:54.863Z"
   },
   {
    "duration": 3,
    "start_time": "2022-05-31T21:47:55.069Z"
   },
   {
    "duration": 6,
    "start_time": "2022-05-31T21:47:55.074Z"
   },
   {
    "duration": 5,
    "start_time": "2022-05-31T21:47:55.082Z"
   },
   {
    "duration": 5,
    "start_time": "2022-05-31T21:47:55.091Z"
   },
   {
    "duration": 9,
    "start_time": "2022-05-31T21:47:55.098Z"
   },
   {
    "duration": 12,
    "start_time": "2022-05-31T21:47:55.109Z"
   },
   {
    "duration": 14,
    "start_time": "2022-05-31T21:47:55.122Z"
   },
   {
    "duration": 12,
    "start_time": "2022-05-31T21:47:55.138Z"
   },
   {
    "duration": 6,
    "start_time": "2022-05-31T21:47:55.152Z"
   },
   {
    "duration": 8,
    "start_time": "2022-05-31T21:47:55.159Z"
   },
   {
    "duration": 714,
    "start_time": "2022-05-31T21:47:55.169Z"
   },
   {
    "duration": 31,
    "start_time": "2022-05-31T21:47:55.885Z"
   },
   {
    "duration": 54,
    "start_time": "2022-05-31T21:47:55.918Z"
   },
   {
    "duration": 2,
    "start_time": "2022-05-31T21:47:55.974Z"
   },
   {
    "duration": 143,
    "start_time": "2022-05-31T21:47:55.978Z"
   },
   {
    "duration": 13,
    "start_time": "2022-05-31T21:47:56.123Z"
   },
   {
    "duration": 76,
    "start_time": "2022-05-31T21:47:56.137Z"
   },
   {
    "duration": 2067,
    "start_time": "2022-05-31T21:47:56.214Z"
   },
   {
    "duration": 393,
    "start_time": "2022-05-31T21:47:58.282Z"
   },
   {
    "duration": 392,
    "start_time": "2022-05-31T21:47:58.676Z"
   },
   {
    "duration": 5,
    "start_time": "2022-05-31T21:47:59.070Z"
   },
   {
    "duration": 421,
    "start_time": "2022-05-31T21:47:59.076Z"
   },
   {
    "duration": 158,
    "start_time": "2022-05-31T21:47:59.499Z"
   },
   {
    "duration": 163,
    "start_time": "2022-05-31T21:47:59.659Z"
   },
   {
    "duration": 161,
    "start_time": "2022-05-31T21:47:59.823Z"
   },
   {
    "duration": 151,
    "start_time": "2022-05-31T21:47:59.985Z"
   },
   {
    "duration": 4,
    "start_time": "2022-05-31T21:48:00.137Z"
   },
   {
    "duration": 70,
    "start_time": "2022-05-31T21:48:00.142Z"
   },
   {
    "duration": 24,
    "start_time": "2022-05-31T21:48:00.213Z"
   },
   {
    "duration": 213,
    "start_time": "2022-05-31T21:48:00.238Z"
   },
   {
    "duration": 15,
    "start_time": "2022-05-31T21:48:00.455Z"
   },
   {
    "duration": 17,
    "start_time": "2022-05-31T21:48:00.472Z"
   },
   {
    "duration": 13,
    "start_time": "2022-05-31T21:48:00.491Z"
   },
   {
    "duration": 27,
    "start_time": "2022-05-31T21:48:00.506Z"
   },
   {
    "duration": 192,
    "start_time": "2022-05-31T21:48:00.535Z"
   },
   {
    "duration": 8,
    "start_time": "2022-05-31T21:48:00.729Z"
   },
   {
    "duration": 427,
    "start_time": "2022-05-31T21:48:00.738Z"
   },
   {
    "duration": 180,
    "start_time": "2022-05-31T21:48:01.167Z"
   },
   {
    "duration": 227,
    "start_time": "2022-05-31T21:48:01.349Z"
   },
   {
    "duration": 21,
    "start_time": "2022-05-31T21:48:01.578Z"
   },
   {
    "duration": 56,
    "start_time": "2022-05-31T21:48:01.600Z"
   },
   {
    "duration": 72,
    "start_time": "2022-06-01T16:36:23.160Z"
   },
   {
    "duration": 875,
    "start_time": "2022-06-01T16:36:31.542Z"
   },
   {
    "duration": 5,
    "start_time": "2022-06-01T16:36:32.419Z"
   },
   {
    "duration": 11,
    "start_time": "2022-06-01T16:36:32.426Z"
   },
   {
    "duration": 38,
    "start_time": "2022-06-01T16:36:32.440Z"
   },
   {
    "duration": 15,
    "start_time": "2022-06-01T16:36:32.479Z"
   },
   {
    "duration": 102,
    "start_time": "2022-06-01T16:36:32.495Z"
   },
   {
    "duration": 12,
    "start_time": "2022-06-01T16:36:32.598Z"
   },
   {
    "duration": 14,
    "start_time": "2022-06-01T16:36:32.612Z"
   },
   {
    "duration": 15,
    "start_time": "2022-06-01T16:36:32.628Z"
   },
   {
    "duration": 6,
    "start_time": "2022-06-01T16:36:32.646Z"
   },
   {
    "duration": 9,
    "start_time": "2022-06-01T16:36:32.654Z"
   },
   {
    "duration": 15,
    "start_time": "2022-06-01T16:36:32.665Z"
   },
   {
    "duration": 9,
    "start_time": "2022-06-01T16:36:32.682Z"
   },
   {
    "duration": 30,
    "start_time": "2022-06-01T16:36:32.693Z"
   },
   {
    "duration": 7,
    "start_time": "2022-06-01T16:36:32.725Z"
   },
   {
    "duration": 7,
    "start_time": "2022-06-01T16:36:32.733Z"
   },
   {
    "duration": 4,
    "start_time": "2022-06-01T16:36:32.742Z"
   },
   {
    "duration": 13,
    "start_time": "2022-06-01T16:36:32.748Z"
   },
   {
    "duration": 10,
    "start_time": "2022-06-01T16:36:32.763Z"
   },
   {
    "duration": 13,
    "start_time": "2022-06-01T16:36:32.774Z"
   },
   {
    "duration": 50,
    "start_time": "2022-06-01T16:36:32.789Z"
   },
   {
    "duration": 14,
    "start_time": "2022-06-01T16:36:32.842Z"
   },
   {
    "duration": 21,
    "start_time": "2022-06-01T16:36:32.858Z"
   },
   {
    "duration": 20,
    "start_time": "2022-06-01T16:36:32.881Z"
   },
   {
    "duration": 50,
    "start_time": "2022-06-01T16:36:32.903Z"
   },
   {
    "duration": 7,
    "start_time": "2022-06-01T16:36:32.955Z"
   },
   {
    "duration": 60,
    "start_time": "2022-06-01T16:36:32.966Z"
   },
   {
    "duration": 8,
    "start_time": "2022-06-01T16:36:33.034Z"
   },
   {
    "duration": 32,
    "start_time": "2022-06-01T16:36:33.044Z"
   },
   {
    "duration": 325,
    "start_time": "2022-06-01T16:36:33.079Z"
   },
   {
    "duration": 534,
    "start_time": "2022-06-01T16:36:33.405Z"
   },
   {
    "duration": 14,
    "start_time": "2022-06-01T16:36:33.955Z"
   },
   {
    "duration": 685,
    "start_time": "2022-06-01T16:36:33.971Z"
   },
   {
    "duration": 9,
    "start_time": "2022-06-01T16:36:34.658Z"
   },
   {
    "duration": 311,
    "start_time": "2022-06-01T16:36:34.669Z"
   },
   {
    "duration": 128,
    "start_time": "2022-06-01T16:36:34.982Z"
   },
   {
    "duration": 21,
    "start_time": "2022-06-01T16:36:35.111Z"
   },
   {
    "duration": 258,
    "start_time": "2022-06-01T16:36:35.134Z"
   },
   {
    "duration": 3,
    "start_time": "2022-06-01T16:36:35.394Z"
   },
   {
    "duration": 11,
    "start_time": "2022-06-01T16:36:35.398Z"
   },
   {
    "duration": 20,
    "start_time": "2022-06-01T16:36:35.410Z"
   },
   {
    "duration": 28,
    "start_time": "2022-06-01T16:36:35.432Z"
   },
   {
    "duration": 18,
    "start_time": "2022-06-01T16:36:35.462Z"
   },
   {
    "duration": 18,
    "start_time": "2022-06-01T16:36:35.481Z"
   },
   {
    "duration": 20,
    "start_time": "2022-06-01T16:36:35.500Z"
   },
   {
    "duration": 30,
    "start_time": "2022-06-01T16:36:35.521Z"
   },
   {
    "duration": 11,
    "start_time": "2022-06-01T16:36:35.553Z"
   },
   {
    "duration": 6,
    "start_time": "2022-06-01T16:36:35.566Z"
   },
   {
    "duration": 1386,
    "start_time": "2022-06-01T16:36:35.574Z"
   },
   {
    "duration": 90,
    "start_time": "2022-06-01T16:36:36.962Z"
   },
   {
    "duration": 96,
    "start_time": "2022-06-01T16:36:37.053Z"
   },
   {
    "duration": 3,
    "start_time": "2022-06-01T16:36:37.151Z"
   },
   {
    "duration": 192,
    "start_time": "2022-06-01T16:36:37.155Z"
   },
   {
    "duration": 14,
    "start_time": "2022-06-01T16:36:37.349Z"
   },
   {
    "duration": 95,
    "start_time": "2022-06-01T16:36:37.365Z"
   },
   {
    "duration": 2399,
    "start_time": "2022-06-01T16:36:37.463Z"
   },
   {
    "duration": 452,
    "start_time": "2022-06-01T16:36:39.864Z"
   },
   {
    "duration": 464,
    "start_time": "2022-06-01T16:36:40.322Z"
   },
   {
    "duration": 5,
    "start_time": "2022-06-01T16:36:40.787Z"
   },
   {
    "duration": 403,
    "start_time": "2022-06-01T16:36:40.794Z"
   },
   {
    "duration": 181,
    "start_time": "2022-06-01T16:36:41.198Z"
   },
   {
    "duration": 210,
    "start_time": "2022-06-01T16:36:41.380Z"
   },
   {
    "duration": 203,
    "start_time": "2022-06-01T16:36:41.592Z"
   },
   {
    "duration": 172,
    "start_time": "2022-06-01T16:36:41.797Z"
   },
   {
    "duration": 4,
    "start_time": "2022-06-01T16:36:41.971Z"
   },
   {
    "duration": 78,
    "start_time": "2022-06-01T16:36:41.976Z"
   },
   {
    "duration": 25,
    "start_time": "2022-06-01T16:36:42.056Z"
   },
   {
    "duration": 216,
    "start_time": "2022-06-01T16:36:42.083Z"
   },
   {
    "duration": 23,
    "start_time": "2022-06-01T16:36:42.301Z"
   },
   {
    "duration": 18,
    "start_time": "2022-06-01T16:36:42.326Z"
   },
   {
    "duration": 11,
    "start_time": "2022-06-01T16:36:42.346Z"
   },
   {
    "duration": 18,
    "start_time": "2022-06-01T16:36:42.359Z"
   },
   {
    "duration": 210,
    "start_time": "2022-06-01T16:36:42.379Z"
   },
   {
    "duration": 11,
    "start_time": "2022-06-01T16:36:42.591Z"
   },
   {
    "duration": 547,
    "start_time": "2022-06-01T16:36:42.603Z"
   },
   {
    "duration": 170,
    "start_time": "2022-06-01T16:36:43.152Z"
   },
   {
    "duration": 193,
    "start_time": "2022-06-01T16:36:43.324Z"
   },
   {
    "duration": 23,
    "start_time": "2022-06-01T16:36:43.522Z"
   },
   {
    "duration": 28,
    "start_time": "2022-06-01T16:36:43.547Z"
   },
   {
    "duration": 1574,
    "start_time": "2022-07-24T11:23:11.516Z"
   },
   {
    "duration": 157,
    "start_time": "2022-07-24T11:23:13.092Z"
   },
   {
    "duration": 4,
    "start_time": "2022-07-24T11:23:25.804Z"
   },
   {
    "duration": 101,
    "start_time": "2022-07-24T11:23:27.806Z"
   },
   {
    "duration": 6,
    "start_time": "2022-07-24T11:24:24.709Z"
   },
   {
    "duration": 187,
    "start_time": "2022-07-24T11:24:43.909Z"
   },
   {
    "duration": 4,
    "start_time": "2022-07-24T11:25:09.289Z"
   },
   {
    "duration": 12,
    "start_time": "2022-07-24T11:25:47.510Z"
   },
   {
    "duration": 4,
    "start_time": "2022-07-24T11:25:53.548Z"
   },
   {
    "duration": 10,
    "start_time": "2022-07-24T11:26:03.209Z"
   },
   {
    "duration": 9,
    "start_time": "2022-07-24T11:26:06.193Z"
   },
   {
    "duration": 15,
    "start_time": "2022-07-24T11:26:16.762Z"
   },
   {
    "duration": 4,
    "start_time": "2022-07-24T11:26:20.120Z"
   },
   {
    "duration": 8,
    "start_time": "2022-07-24T11:26:26.296Z"
   },
   {
    "duration": 10,
    "start_time": "2022-07-24T11:26:32.826Z"
   },
   {
    "duration": 7,
    "start_time": "2022-07-24T11:26:37.227Z"
   },
   {
    "duration": 7,
    "start_time": "2022-07-24T11:26:40.734Z"
   },
   {
    "duration": 6,
    "start_time": "2022-07-24T11:27:41.493Z"
   },
   {
    "duration": 49,
    "start_time": "2022-07-24T11:27:53.541Z"
   },
   {
    "duration": 131,
    "start_time": "2022-07-24T11:28:23.489Z"
   },
   {
    "duration": 6,
    "start_time": "2022-07-24T11:30:27.139Z"
   },
   {
    "duration": 134,
    "start_time": "2022-07-24T11:30:31.845Z"
   },
   {
    "duration": 148,
    "start_time": "2022-07-24T11:30:35.523Z"
   },
   {
    "duration": 5,
    "start_time": "2022-07-24T11:32:21.166Z"
   },
   {
    "duration": 263,
    "start_time": "2022-07-24T11:32:34.255Z"
   },
   {
    "duration": 490,
    "start_time": "2022-07-24T11:32:42.384Z"
   },
   {
    "duration": 6091,
    "start_time": "2022-07-24T11:33:45.767Z"
   },
   {
    "duration": 284,
    "start_time": "2022-07-24T11:35:38.163Z"
   },
   {
    "duration": 421,
    "start_time": "2022-07-24T11:35:41.276Z"
   },
   {
    "duration": 6074,
    "start_time": "2022-07-24T11:35:46.169Z"
   },
   {
    "duration": 14,
    "start_time": "2022-07-24T11:37:08.870Z"
   },
   {
    "duration": 131,
    "start_time": "2022-07-24T11:37:29.353Z"
   },
   {
    "duration": 407,
    "start_time": "2022-07-24T11:37:37.304Z"
   },
   {
    "duration": 545,
    "start_time": "2022-07-24T11:37:48.116Z"
   },
   {
    "duration": 8275,
    "start_time": "2022-07-24T11:38:04.109Z"
   },
   {
    "duration": 15,
    "start_time": "2022-07-24T11:38:34.538Z"
   },
   {
    "duration": 128,
    "start_time": "2022-07-24T11:38:39.784Z"
   },
   {
    "duration": 312,
    "start_time": "2022-07-24T11:39:21.304Z"
   },
   {
    "duration": 353,
    "start_time": "2022-07-24T11:39:24.890Z"
   },
   {
    "duration": 3946,
    "start_time": "2022-07-24T11:39:45.841Z"
   },
   {
    "duration": 480,
    "start_time": "2022-07-24T11:41:49.049Z"
   },
   {
    "duration": 52,
    "start_time": "2022-07-24T12:14:48.428Z"
   },
   {
    "duration": 1504,
    "start_time": "2022-07-24T12:14:58.632Z"
   },
   {
    "duration": 116,
    "start_time": "2022-07-24T12:15:00.139Z"
   },
   {
    "duration": 6,
    "start_time": "2022-07-24T12:15:00.257Z"
   },
   {
    "duration": 112,
    "start_time": "2022-07-24T12:15:00.265Z"
   },
   {
    "duration": 5,
    "start_time": "2022-07-24T12:15:00.379Z"
   },
   {
    "duration": 257,
    "start_time": "2022-07-24T12:15:00.386Z"
   },
   {
    "duration": 4,
    "start_time": "2022-07-24T12:15:00.645Z"
   },
   {
    "duration": 222,
    "start_time": "2022-07-24T12:15:00.650Z"
   },
   {
    "duration": 12,
    "start_time": "2022-07-24T12:15:00.874Z"
   },
   {
    "duration": 14,
    "start_time": "2022-07-24T12:15:00.888Z"
   },
   {
    "duration": 18,
    "start_time": "2022-07-24T12:15:00.904Z"
   },
   {
    "duration": 29,
    "start_time": "2022-07-24T12:15:00.925Z"
   },
   {
    "duration": 21,
    "start_time": "2022-07-24T12:15:00.956Z"
   },
   {
    "duration": 7,
    "start_time": "2022-07-24T12:15:00.983Z"
   },
   {
    "duration": 40,
    "start_time": "2022-07-24T12:15:00.991Z"
   },
   {
    "duration": 28,
    "start_time": "2022-07-24T12:15:01.034Z"
   },
   {
    "duration": 20,
    "start_time": "2022-07-24T12:15:01.065Z"
   },
   {
    "duration": 31,
    "start_time": "2022-07-24T12:15:01.087Z"
   },
   {
    "duration": 43,
    "start_time": "2022-07-24T12:15:01.121Z"
   },
   {
    "duration": 57,
    "start_time": "2022-07-24T12:15:01.166Z"
   },
   {
    "duration": 159,
    "start_time": "2022-07-24T12:15:01.226Z"
   },
   {
    "duration": 5,
    "start_time": "2022-07-24T12:15:01.387Z"
   },
   {
    "duration": 366,
    "start_time": "2022-07-24T12:15:01.394Z"
   },
   {
    "duration": 482,
    "start_time": "2022-07-24T12:15:01.762Z"
   },
   {
    "duration": 5714,
    "start_time": "2022-07-24T12:15:02.246Z"
   },
   {
    "duration": 301,
    "start_time": "2022-07-24T12:15:07.962Z"
   },
   {
    "duration": 433,
    "start_time": "2022-07-24T12:15:08.265Z"
   },
   {
    "duration": 5685,
    "start_time": "2022-07-24T12:15:08.700Z"
   },
   {
    "duration": 12,
    "start_time": "2022-07-24T12:15:14.386Z"
   },
   {
    "duration": 132,
    "start_time": "2022-07-24T12:15:14.400Z"
   },
   {
    "duration": 329,
    "start_time": "2022-07-24T12:15:14.534Z"
   },
   {
    "duration": 500,
    "start_time": "2022-07-24T12:15:14.865Z"
   },
   {
    "duration": 7609,
    "start_time": "2022-07-24T12:15:15.367Z"
   },
   {
    "duration": 11,
    "start_time": "2022-07-24T12:15:22.978Z"
   },
   {
    "duration": 121,
    "start_time": "2022-07-24T12:15:22.991Z"
   },
   {
    "duration": 290,
    "start_time": "2022-07-24T12:15:23.114Z"
   },
   {
    "duration": 261,
    "start_time": "2022-07-24T12:15:23.406Z"
   },
   {
    "duration": 3692,
    "start_time": "2022-07-24T12:15:23.669Z"
   },
   {
    "duration": 442,
    "start_time": "2022-07-24T12:15:27.364Z"
   },
   {
    "duration": 16,
    "start_time": "2022-07-24T12:15:27.807Z"
   },
   {
    "duration": 374,
    "start_time": "2022-07-24T12:15:27.828Z"
   },
   {
    "duration": 27,
    "start_time": "2022-07-24T12:16:47.069Z"
   },
   {
    "duration": 42,
    "start_time": "2022-07-24T12:17:01.531Z"
   },
   {
    "duration": 19,
    "start_time": "2022-07-24T12:20:25.668Z"
   },
   {
    "duration": 17,
    "start_time": "2022-07-24T12:21:02.452Z"
   },
   {
    "duration": 6,
    "start_time": "2022-07-24T12:21:04.403Z"
   },
   {
    "duration": 7,
    "start_time": "2022-07-24T12:21:57.337Z"
   },
   {
    "duration": 1327,
    "start_time": "2022-07-24T12:22:49.801Z"
   },
   {
    "duration": 46,
    "start_time": "2022-07-24T12:22:51.130Z"
   },
   {
    "duration": 3,
    "start_time": "2022-07-24T12:22:51.178Z"
   },
   {
    "duration": 99,
    "start_time": "2022-07-24T12:22:51.183Z"
   },
   {
    "duration": 5,
    "start_time": "2022-07-24T12:22:51.284Z"
   },
   {
    "duration": 204,
    "start_time": "2022-07-24T12:22:51.290Z"
   },
   {
    "duration": 3,
    "start_time": "2022-07-24T12:22:51.495Z"
   },
   {
    "duration": 196,
    "start_time": "2022-07-24T12:22:51.500Z"
   },
   {
    "duration": 11,
    "start_time": "2022-07-24T12:22:51.698Z"
   },
   {
    "duration": 4,
    "start_time": "2022-07-24T12:22:51.712Z"
   },
   {
    "duration": 13,
    "start_time": "2022-07-24T12:22:51.717Z"
   },
   {
    "duration": 16,
    "start_time": "2022-07-24T12:22:51.731Z"
   },
   {
    "duration": 27,
    "start_time": "2022-07-24T12:22:51.749Z"
   },
   {
    "duration": 4,
    "start_time": "2022-07-24T12:22:51.780Z"
   },
   {
    "duration": 9,
    "start_time": "2022-07-24T12:22:51.786Z"
   },
   {
    "duration": 10,
    "start_time": "2022-07-24T12:22:51.796Z"
   },
   {
    "duration": 7,
    "start_time": "2022-07-24T12:22:51.808Z"
   },
   {
    "duration": 9,
    "start_time": "2022-07-24T12:22:51.817Z"
   },
   {
    "duration": 43,
    "start_time": "2022-07-24T12:22:51.827Z"
   },
   {
    "duration": 43,
    "start_time": "2022-07-24T12:22:51.873Z"
   },
   {
    "duration": 135,
    "start_time": "2022-07-24T12:22:51.918Z"
   },
   {
    "duration": 5,
    "start_time": "2022-07-24T12:22:52.054Z"
   },
   {
    "duration": 280,
    "start_time": "2022-07-24T12:22:52.060Z"
   },
   {
    "duration": 444,
    "start_time": "2022-07-24T12:22:52.341Z"
   },
   {
    "duration": 5693,
    "start_time": "2022-07-24T12:22:52.787Z"
   },
   {
    "duration": 270,
    "start_time": "2022-07-24T12:22:58.482Z"
   },
   {
    "duration": 416,
    "start_time": "2022-07-24T12:22:58.763Z"
   },
   {
    "duration": 5743,
    "start_time": "2022-07-24T12:22:59.184Z"
   },
   {
    "duration": 10,
    "start_time": "2022-07-24T12:23:04.928Z"
   },
   {
    "duration": 160,
    "start_time": "2022-07-24T12:23:04.939Z"
   },
   {
    "duration": 284,
    "start_time": "2022-07-24T12:23:05.101Z"
   },
   {
    "duration": 495,
    "start_time": "2022-07-24T12:23:05.387Z"
   },
   {
    "duration": 7891,
    "start_time": "2022-07-24T12:23:05.884Z"
   },
   {
    "duration": 9,
    "start_time": "2022-07-24T12:23:13.778Z"
   },
   {
    "duration": 136,
    "start_time": "2022-07-24T12:23:13.788Z"
   },
   {
    "duration": 322,
    "start_time": "2022-07-24T12:23:13.926Z"
   },
   {
    "duration": 285,
    "start_time": "2022-07-24T12:23:14.250Z"
   },
   {
    "duration": 3907,
    "start_time": "2022-07-24T12:23:14.536Z"
   },
   {
    "duration": 372,
    "start_time": "2022-07-24T12:23:18.444Z"
   },
   {
    "duration": 6,
    "start_time": "2022-07-24T12:23:18.818Z"
   },
   {
    "duration": 20,
    "start_time": "2022-07-24T12:23:18.825Z"
   },
   {
    "duration": 524,
    "start_time": "2022-07-24T12:23:18.847Z"
   },
   {
    "duration": 9,
    "start_time": "2022-07-24T12:23:42.159Z"
   },
   {
    "duration": 3,
    "start_time": "2022-07-24T12:23:55.302Z"
   },
   {
    "duration": 2,
    "start_time": "2022-07-24T12:26:06.781Z"
   },
   {
    "duration": 336,
    "start_time": "2022-07-24T12:36:18.896Z"
   },
   {
    "duration": 3,
    "start_time": "2022-07-24T12:36:29.183Z"
   },
   {
    "duration": 5,
    "start_time": "2022-07-24T12:38:47.379Z"
   },
   {
    "duration": 386,
    "start_time": "2022-07-24T12:38:50.977Z"
   },
   {
    "duration": 7,
    "start_time": "2022-07-24T12:39:02.713Z"
   },
   {
    "duration": 403,
    "start_time": "2022-07-24T12:39:04.557Z"
   },
   {
    "duration": 1290,
    "start_time": "2022-07-24T12:39:18.598Z"
   },
   {
    "duration": 39,
    "start_time": "2022-07-24T12:39:19.890Z"
   },
   {
    "duration": 4,
    "start_time": "2022-07-24T12:39:19.930Z"
   },
   {
    "duration": 87,
    "start_time": "2022-07-24T12:39:19.935Z"
   },
   {
    "duration": 4,
    "start_time": "2022-07-24T12:39:20.024Z"
   },
   {
    "duration": 202,
    "start_time": "2022-07-24T12:39:20.029Z"
   },
   {
    "duration": 3,
    "start_time": "2022-07-24T12:39:20.233Z"
   },
   {
    "duration": 193,
    "start_time": "2022-07-24T12:39:20.237Z"
   },
   {
    "duration": 11,
    "start_time": "2022-07-24T12:39:20.431Z"
   },
   {
    "duration": 5,
    "start_time": "2022-07-24T12:39:20.443Z"
   },
   {
    "duration": 13,
    "start_time": "2022-07-24T12:39:20.461Z"
   },
   {
    "duration": 12,
    "start_time": "2022-07-24T12:39:20.476Z"
   },
   {
    "duration": 12,
    "start_time": "2022-07-24T12:39:20.489Z"
   },
   {
    "duration": 7,
    "start_time": "2022-07-24T12:39:20.504Z"
   },
   {
    "duration": 9,
    "start_time": "2022-07-24T12:39:20.512Z"
   },
   {
    "duration": 7,
    "start_time": "2022-07-24T12:39:20.522Z"
   },
   {
    "duration": 36,
    "start_time": "2022-07-24T12:39:20.530Z"
   },
   {
    "duration": 5,
    "start_time": "2022-07-24T12:39:20.573Z"
   },
   {
    "duration": 8,
    "start_time": "2022-07-24T12:39:20.580Z"
   },
   {
    "duration": 54,
    "start_time": "2022-07-24T12:39:20.589Z"
   },
   {
    "duration": 152,
    "start_time": "2022-07-24T12:39:20.645Z"
   },
   {
    "duration": 4,
    "start_time": "2022-07-24T12:39:20.799Z"
   },
   {
    "duration": 285,
    "start_time": "2022-07-24T12:39:20.804Z"
   },
   {
    "duration": 406,
    "start_time": "2022-07-24T12:39:21.091Z"
   },
   {
    "duration": 5536,
    "start_time": "2022-07-24T12:39:21.498Z"
   },
   {
    "duration": 311,
    "start_time": "2022-07-24T12:39:27.035Z"
   },
   {
    "duration": 424,
    "start_time": "2022-07-24T12:39:27.348Z"
   },
   {
    "duration": 5525,
    "start_time": "2022-07-24T12:39:27.774Z"
   },
   {
    "duration": 10,
    "start_time": "2022-07-24T12:39:33.301Z"
   },
   {
    "duration": 126,
    "start_time": "2022-07-24T12:39:33.312Z"
   },
   {
    "duration": 311,
    "start_time": "2022-07-24T12:39:33.439Z"
   },
   {
    "duration": 473,
    "start_time": "2022-07-24T12:39:33.772Z"
   },
   {
    "duration": 7398,
    "start_time": "2022-07-24T12:39:34.246Z"
   },
   {
    "duration": 15,
    "start_time": "2022-07-24T12:39:41.646Z"
   },
   {
    "duration": 117,
    "start_time": "2022-07-24T12:39:41.662Z"
   },
   {
    "duration": 397,
    "start_time": "2022-07-24T12:39:41.781Z"
   },
   {
    "duration": 257,
    "start_time": "2022-07-24T12:39:42.180Z"
   },
   {
    "duration": 3605,
    "start_time": "2022-07-24T12:39:42.439Z"
   },
   {
    "duration": 3,
    "start_time": "2022-07-24T12:39:46.046Z"
   },
   {
    "duration": 25,
    "start_time": "2022-07-24T12:39:46.050Z"
   },
   {
    "duration": 14,
    "start_time": "2022-07-24T12:39:46.080Z"
   },
   {
    "duration": 524,
    "start_time": "2022-07-24T12:39:46.097Z"
   }
  ],
  "kernelspec": {
   "display_name": "Python 3 (ipykernel)",
   "language": "python",
   "name": "python3"
  },
  "language_info": {
   "codemirror_mode": {
    "name": "ipython",
    "version": 3
   },
   "file_extension": ".py",
   "mimetype": "text/x-python",
   "name": "python",
   "nbconvert_exporter": "python",
   "pygments_lexer": "ipython3",
   "version": "3.9.7"
  },
  "toc": {
   "base_numbering": 1,
   "nav_menu": {},
   "number_sections": false,
   "sideBar": true,
   "skip_h1_title": true,
   "title_cell": "Содержание",
   "title_sidebar": "Contents",
   "toc_cell": false,
   "toc_position": {
    "height": "calc(100% - 180px)",
    "left": "10px",
    "top": "150px",
    "width": "306.4px"
   },
   "toc_section_display": true,
   "toc_window_display": false
  }
 },
 "nbformat": 4,
 "nbformat_minor": 4
}
