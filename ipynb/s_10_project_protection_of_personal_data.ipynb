{
 "cells": [
  {
   "cell_type": "markdown",
   "metadata": {},
   "source": [
    "<a id='head'></a>"
   ]
  },
  {
   "cell_type": "markdown",
   "metadata": {},
   "source": [
    "# Защита персональных данных клиентов"
   ]
  },
  {
   "cell_type": "markdown",
   "metadata": {},
   "source": [
    "# Оглавление\n",
    " \n",
    "- [**Введение**](#intro)\n",
    "    - [Входные данные](#input_data)\n",
    "    - [Ход исследования](#progress)\n",
    "    \n",
    "- [**1. Загрузка данных**](#part_1)\n",
    "    - [1.1 Импорт библиотек и датасета](#part_1_1)\n",
    "    - [1.2 Обзор данных](#part_1_2)\n",
    "    - [1.3 Подготовка данных](#part_1_3)\n",
    "    - [1.4 Пробное обучение](#part_1_4)\n",
    "\n",
    "- [**2. Умножение матриц**](#part_2)\n",
    "    - [2.1 Вопрос / Ответ](#part_2_1)\n",
    "    - [2.2 Обоснование](#part_2_2)\n",
    "    - [Выводы](#part_2_conclusions)\n",
    "\n",
    "- [**3. Алгоритм преобразования**](#part_3)\n",
    "    - [3.1 Алгоритм](#part_3_1)\n",
    "    - [3.2 Обоснование](#part_3_2)\n",
    "    - [Выводы](#part_3_conclusions)\n",
    "\n",
    "- [**4. Проверка алгоритма**](#part_4)\n",
    "    - [4.1 Кодируем данные](#part_4_1)\n",
    "    - [4.2 Восстанавливаем данные](#part_4_2)\n",
    "    - [Выводы](#part_4_conclusions)\n",
    "\n",
    "- [Чек лист](#check_list)"
   ]
  },
  {
   "cell_type": "markdown",
   "metadata": {},
   "source": [
    "<a id='intro'></a>\n",
    "# Введение [▴](#head)"
   ]
  },
  {
   "cell_type": "markdown",
   "metadata": {},
   "source": [
    "Нам нужно защитить данные клиентов страховой компании «Хоть потоп». Требуется разработать такой метод преобразования данных, чтобы по ним было сложно восстановить персональную информацию. Так же требуется обосновать корректность его работы.\n",
    "\n",
    "Нужно защитить данные, чтобы при преобразовании качество моделей машинного обучения не ухудшилось. Подбирать наилучшую модель не требуется."
   ]
  },
  {
   "cell_type": "markdown",
   "metadata": {},
   "source": [
    "<a id='input_data'></a>\n",
    "## Входные данные [▴](#head)"
   ]
  },
  {
   "cell_type": "markdown",
   "metadata": {},
   "source": [
    "Набор данных находится в файле `/datasets/insurance.csv`.\n",
    "- **`Признаки:`** пол, возраст и зарплата застрахованного, количество членов его семьи.\n",
    "- **`Целевой признак:`** количество страховых выплат клиенту за последние 5 лет."
   ]
  },
  {
   "cell_type": "markdown",
   "metadata": {},
   "source": [
    "<a id='progress'></a>\n",
    "## Ход исследования [▴](#head)"
   ]
  },
  {
   "cell_type": "markdown",
   "metadata": {},
   "source": [
    "1. Загрузка и исследовательский анализ данных.\n",
    "2. Ответ на вопрос и обоснование решения.\n",
    "    - Признаки умножают на обратимую матрицу. Изменится ли качество линейной регрессии? (Её можно обучить заново.)\n",
    "    - a. Изменится. Привести примеры матриц.\n",
    "    - b. Не изменится. Указать, как связаны параметры линейной регрессии в исходной задаче и в преобразованной.\n",
    "3. Предложить алгоритм преобразования данных для решения задачи. Обосновать, почему качество линейной регрессии не поменяется.\n",
    "4. Запрограммировать этот алгоритм, применив матричные операции. Проверить, что качество линейной регрессии из `sklearn` не отличается до и после преобразования. Применить метрику `R2`."
   ]
  },
  {
   "cell_type": "markdown",
   "metadata": {},
   "source": [
    "<a id='part_1'></a>\n",
    "# 1. Загрузка данных [▴](#head)"
   ]
  },
  {
   "cell_type": "markdown",
   "metadata": {},
   "source": [
    "<a id='part_1_1'></a>\n",
    "## 1.1 Импорт библиотек и датасета [▴](#head)"
   ]
  },
  {
   "cell_type": "code",
   "execution_count": 1,
   "metadata": {},
   "outputs": [],
   "source": [
    "import numpy as np\n",
    "import pandas as pd\n",
    "import seaborn as sns\n",
    "import matplotlib.pyplot as plt\n",
    "\n",
    "from sklearn.metrics import r2_score\n",
    "from sklearn.metrics import mean_squared_error\n",
    "from sklearn.linear_model import LinearRegression\n",
    "from sklearn.model_selection import train_test_split"
   ]
  },
  {
   "cell_type": "markdown",
   "metadata": {},
   "source": [
    "### Импорт данных"
   ]
  },
  {
   "cell_type": "code",
   "execution_count": 2,
   "metadata": {},
   "outputs": [],
   "source": [
    "# для того чтобы код работал локально и на Практикуме применим конструкцию try-except\n",
    "\n",
    "try: # для Практикума\n",
    "    df = pd.read_csv('/datasets/insurance.csv')\n",
    "    \n",
    "except: # локально\n",
    "    df = pd.read_csv('datasets/insurance.csv')"
   ]
  },
  {
   "cell_type": "markdown",
   "metadata": {},
   "source": [
    "<a id='part_1_2'></a>\n",
    "## 1.2 Обзор данных [▴](#head)"
   ]
  },
  {
   "cell_type": "code",
   "execution_count": 3,
   "metadata": {},
   "outputs": [
    {
     "data": {
      "text/html": [
       "<div>\n",
       "<style scoped>\n",
       "    .dataframe tbody tr th:only-of-type {\n",
       "        vertical-align: middle;\n",
       "    }\n",
       "\n",
       "    .dataframe tbody tr th {\n",
       "        vertical-align: top;\n",
       "    }\n",
       "\n",
       "    .dataframe thead th {\n",
       "        text-align: right;\n",
       "    }\n",
       "</style>\n",
       "<table border=\"1\" class=\"dataframe\">\n",
       "  <thead>\n",
       "    <tr style=\"text-align: right;\">\n",
       "      <th></th>\n",
       "      <th>Пол</th>\n",
       "      <th>Возраст</th>\n",
       "      <th>Зарплата</th>\n",
       "      <th>Члены семьи</th>\n",
       "      <th>Страховые выплаты</th>\n",
       "    </tr>\n",
       "  </thead>\n",
       "  <tbody>\n",
       "    <tr>\n",
       "      <th>0</th>\n",
       "      <td>1</td>\n",
       "      <td>41.0</td>\n",
       "      <td>49600.0</td>\n",
       "      <td>1</td>\n",
       "      <td>0</td>\n",
       "    </tr>\n",
       "    <tr>\n",
       "      <th>1</th>\n",
       "      <td>0</td>\n",
       "      <td>46.0</td>\n",
       "      <td>38000.0</td>\n",
       "      <td>1</td>\n",
       "      <td>1</td>\n",
       "    </tr>\n",
       "    <tr>\n",
       "      <th>2</th>\n",
       "      <td>0</td>\n",
       "      <td>29.0</td>\n",
       "      <td>21000.0</td>\n",
       "      <td>0</td>\n",
       "      <td>0</td>\n",
       "    </tr>\n",
       "    <tr>\n",
       "      <th>3</th>\n",
       "      <td>0</td>\n",
       "      <td>21.0</td>\n",
       "      <td>41700.0</td>\n",
       "      <td>2</td>\n",
       "      <td>0</td>\n",
       "    </tr>\n",
       "    <tr>\n",
       "      <th>4</th>\n",
       "      <td>1</td>\n",
       "      <td>28.0</td>\n",
       "      <td>26100.0</td>\n",
       "      <td>0</td>\n",
       "      <td>0</td>\n",
       "    </tr>\n",
       "  </tbody>\n",
       "</table>\n",
       "</div>"
      ],
      "text/plain": [
       "   Пол  Возраст  Зарплата  Члены семьи  Страховые выплаты\n",
       "0    1     41.0   49600.0            1                  0\n",
       "1    0     46.0   38000.0            1                  1\n",
       "2    0     29.0   21000.0            0                  0\n",
       "3    0     21.0   41700.0            2                  0\n",
       "4    1     28.0   26100.0            0                  0"
      ]
     },
     "execution_count": 3,
     "metadata": {},
     "output_type": "execute_result"
    }
   ],
   "source": [
    "df.head()"
   ]
  },
  {
   "cell_type": "code",
   "execution_count": 4,
   "metadata": {
    "scrolled": true
   },
   "outputs": [
    {
     "name": "stdout",
     "output_type": "stream",
     "text": [
      "<class 'pandas.core.frame.DataFrame'>\n",
      "RangeIndex: 5000 entries, 0 to 4999\n",
      "Data columns (total 5 columns):\n",
      " #   Column             Non-Null Count  Dtype  \n",
      "---  ------             --------------  -----  \n",
      " 0   Пол                5000 non-null   int64  \n",
      " 1   Возраст            5000 non-null   float64\n",
      " 2   Зарплата           5000 non-null   float64\n",
      " 3   Члены семьи        5000 non-null   int64  \n",
      " 4   Страховые выплаты  5000 non-null   int64  \n",
      "dtypes: float64(2), int64(3)\n",
      "memory usage: 195.4 KB\n"
     ]
    }
   ],
   "source": [
    "df.info()"
   ]
  },
  {
   "cell_type": "code",
   "execution_count": 5,
   "metadata": {},
   "outputs": [
    {
     "data": {
      "text/html": [
       "<div>\n",
       "<style scoped>\n",
       "    .dataframe tbody tr th:only-of-type {\n",
       "        vertical-align: middle;\n",
       "    }\n",
       "\n",
       "    .dataframe tbody tr th {\n",
       "        vertical-align: top;\n",
       "    }\n",
       "\n",
       "    .dataframe thead th {\n",
       "        text-align: right;\n",
       "    }\n",
       "</style>\n",
       "<table border=\"1\" class=\"dataframe\">\n",
       "  <thead>\n",
       "    <tr style=\"text-align: right;\">\n",
       "      <th></th>\n",
       "      <th>Пол</th>\n",
       "      <th>Возраст</th>\n",
       "      <th>Зарплата</th>\n",
       "      <th>Члены семьи</th>\n",
       "      <th>Страховые выплаты</th>\n",
       "    </tr>\n",
       "  </thead>\n",
       "  <tbody>\n",
       "    <tr>\n",
       "      <th>count</th>\n",
       "      <td>5000.000000</td>\n",
       "      <td>5000.000000</td>\n",
       "      <td>5000.000000</td>\n",
       "      <td>5000.000000</td>\n",
       "      <td>5000.000000</td>\n",
       "    </tr>\n",
       "    <tr>\n",
       "      <th>mean</th>\n",
       "      <td>0.499000</td>\n",
       "      <td>30.952800</td>\n",
       "      <td>39916.360000</td>\n",
       "      <td>1.194200</td>\n",
       "      <td>0.148000</td>\n",
       "    </tr>\n",
       "    <tr>\n",
       "      <th>std</th>\n",
       "      <td>0.500049</td>\n",
       "      <td>8.440807</td>\n",
       "      <td>9900.083569</td>\n",
       "      <td>1.091387</td>\n",
       "      <td>0.463183</td>\n",
       "    </tr>\n",
       "    <tr>\n",
       "      <th>min</th>\n",
       "      <td>0.000000</td>\n",
       "      <td>18.000000</td>\n",
       "      <td>5300.000000</td>\n",
       "      <td>0.000000</td>\n",
       "      <td>0.000000</td>\n",
       "    </tr>\n",
       "    <tr>\n",
       "      <th>25%</th>\n",
       "      <td>0.000000</td>\n",
       "      <td>24.000000</td>\n",
       "      <td>33300.000000</td>\n",
       "      <td>0.000000</td>\n",
       "      <td>0.000000</td>\n",
       "    </tr>\n",
       "    <tr>\n",
       "      <th>50%</th>\n",
       "      <td>0.000000</td>\n",
       "      <td>30.000000</td>\n",
       "      <td>40200.000000</td>\n",
       "      <td>1.000000</td>\n",
       "      <td>0.000000</td>\n",
       "    </tr>\n",
       "    <tr>\n",
       "      <th>75%</th>\n",
       "      <td>1.000000</td>\n",
       "      <td>37.000000</td>\n",
       "      <td>46600.000000</td>\n",
       "      <td>2.000000</td>\n",
       "      <td>0.000000</td>\n",
       "    </tr>\n",
       "    <tr>\n",
       "      <th>max</th>\n",
       "      <td>1.000000</td>\n",
       "      <td>65.000000</td>\n",
       "      <td>79000.000000</td>\n",
       "      <td>6.000000</td>\n",
       "      <td>5.000000</td>\n",
       "    </tr>\n",
       "  </tbody>\n",
       "</table>\n",
       "</div>"
      ],
      "text/plain": [
       "               Пол      Возраст      Зарплата  Члены семьи  Страховые выплаты\n",
       "count  5000.000000  5000.000000   5000.000000  5000.000000        5000.000000\n",
       "mean      0.499000    30.952800  39916.360000     1.194200           0.148000\n",
       "std       0.500049     8.440807   9900.083569     1.091387           0.463183\n",
       "min       0.000000    18.000000   5300.000000     0.000000           0.000000\n",
       "25%       0.000000    24.000000  33300.000000     0.000000           0.000000\n",
       "50%       0.000000    30.000000  40200.000000     1.000000           0.000000\n",
       "75%       1.000000    37.000000  46600.000000     2.000000           0.000000\n",
       "max       1.000000    65.000000  79000.000000     6.000000           5.000000"
      ]
     },
     "execution_count": 5,
     "metadata": {},
     "output_type": "execute_result"
    }
   ],
   "source": [
    "df.describe()"
   ]
  },
  {
   "cell_type": "code",
   "execution_count": 7,
   "metadata": {},
   "outputs": [
    {
     "data": {
      "image/png": "[encoded data removed]",
      "text/plain": [
       "<Figure size 504x360 with 2 Axes>"
      ]
     },
     "metadata": {
      "needs_background": "light"
     },
     "output_type": "display_data"
    }
   ],
   "source": [
    "plt.figure(figsize=(7,5))\n",
    "corr_matrix = sns.heatmap(df.corr(), \n",
    "                          annot=True, \n",
    "                          vmin=-1, vmax=1, center=0, \n",
    "                          cmap='coolwarm',\n",
    "                          mask=(np.tri(len(df.corr())).T),\n",
    "                          linewidths=1,\n",
    "                          linecolor='grey')\n",
    "\n",
    "corr_matrix.set_title(\"Корреляционная матрица\", fontsize=16)\n",
    "plt.show()"
   ]
  },
  {
   "cell_type": "code",
   "execution_count": 7,
   "metadata": {},
   "outputs": [
    {
     "data": {
      "image/png": "[encoded data removed]",
      "text/plain": [
       "<Figure size 1080x720 with 5 Axes>"
      ]
     },
     "metadata": {
      "needs_background": "light"
     },
     "output_type": "display_data"
    }
   ],
   "source": [
    "plt.figure(figsize=(15, 10))\n",
    "counter = 1\n",
    "\n",
    "for i in df.columns:\n",
    "    plt.subplot(2, 3, counter)\n",
    "    sns.histplot(df[i], bins=10)\n",
    "    counter += 1\n",
    "\n",
    "plt.show()"
   ]
  },
  {
   "cell_type": "markdown",
   "metadata": {},
   "source": [
    "Проверим датасет на полные дубликаты"
   ]
  },
  {
   "cell_type": "code",
   "execution_count": 8,
   "metadata": {},
   "outputs": [
    {
     "data": {
      "text/plain": [
       "153"
      ]
     },
     "execution_count": 8,
     "metadata": {},
     "output_type": "execute_result"
    }
   ],
   "source": [
    "df.duplicated().sum()"
   ]
  },
  {
   "cell_type": "markdown",
   "metadata": {},
   "source": [
    "Удалим эти данные, чтобы они не мешали модели обучения."
   ]
  },
  {
   "cell_type": "code",
   "execution_count": 9,
   "metadata": {},
   "outputs": [],
   "source": [
    "df = df.drop_duplicates().reset_index(drop=True)"
   ]
  },
  {
   "cell_type": "markdown",
   "metadata": {},
   "source": [
    "### Выводы\n",
    "\n",
    "- На первый взгляд данные выглядят подготовленными для анализа, в них нету пропусков, а так же стоит все признаки имеют необходимый тип данных.\n",
    "- Обнаружилось 153 дубликата, которые мы удалили\n",
    "- По предварительному анализу датасета можно сказать следующее:\n",
    "    - Количество мужчин и женщин в выборке практически равное, возможно такое распределение было достигнуто специально, а не случайным образом.\n",
    "    - Средний возраст застрахованных составляет 30 лет\n",
    "    - Средняя зарплата составляет 40 тыс., данные имеют нормальное распределение\n",
    "    - Большинство застрахованных либо одиночки либо имеют в семье 1 человека. Застрахованных с большими семьями подавляющее меньшинство.\n",
    "    - Подавляющее большинство за выплатами не обращается\n",
    "- По кореляционной матрице, видно сильную зависимость количества выплат в зависимости от возраста. Видимо, чем человек старше, тем чаще он обращается за страховыми выплатами.\n"
   ]
  },
  {
   "cell_type": "markdown",
   "metadata": {},
   "source": [
    "<a id='part_1_3'></a>\n",
    "## 1.3 Подготовка данных [▴](#head)"
   ]
  },
  {
   "cell_type": "markdown",
   "metadata": {},
   "source": [
    "Разделим наши признаки"
   ]
  },
  {
   "cell_type": "code",
   "execution_count": 10,
   "metadata": {},
   "outputs": [],
   "source": [
    "features = df.drop('Страховые выплаты', axis=1)\n",
    "target = df['Страховые выплаты']"
   ]
  },
  {
   "cell_type": "markdown",
   "metadata": {},
   "source": [
    "Создадим тренировочные и валидационные выборки"
   ]
  },
  {
   "cell_type": "code",
   "execution_count": 11,
   "metadata": {},
   "outputs": [
    {
     "name": "stdout",
     "output_type": "stream",
     "text": [
      "features: (4847, 4)\n",
      "target: (4847,)\n",
      "\n",
      "Тренирвочные:\n",
      "Доля: 0.75 | features: (3635, 4)\n",
      "Доля: 0.75 | target: (3635,)\n",
      "\n",
      "Валидационные:\n",
      "Доля: 0.25 | features: (1212, 4)\n",
      "Доля: 0.25 | target: (1212,)\n",
      "\n"
     ]
    }
   ],
   "source": [
    "print('features:', features.shape)\n",
    "print('target:', target.shape)\n",
    "\n",
    "features_train, features_valid, target_train, target_valid = train_test_split(\n",
    "    features, target, \n",
    "    random_state=12345,\n",
    "    test_size=0.25)\n",
    "\n",
    "print()\n",
    "print('Тренирвочные:')\n",
    "print(f'Доля: {len(features_train) / len(df):.2f} | features: {features_train.shape}')\n",
    "print(f'Доля: {len(target_train) / len(df):.2f} | target: {target_train.shape}\\n')\n",
    "\n",
    "print('Валидационные:')\n",
    "print(f'Доля: {len(features_valid) / len(df):.2f} | features: {features_valid.shape}')\n",
    "print(f'Доля: {len(target_valid) / len(df):.2f} | target: {target_valid.shape}\\n')"
   ]
  },
  {
   "cell_type": "markdown",
   "metadata": {},
   "source": [
    "<a id='part_1_4'></a>\n",
    "## 1.4 Пробное обучение [▴](#head)"
   ]
  },
  {
   "cell_type": "code",
   "execution_count": 12,
   "metadata": {},
   "outputs": [
    {
     "name": "stdout",
     "output_type": "stream",
     "text": [
      "MSE = 0.120\n",
      "R2 = 0.423\n",
      "Предсказания:[-0.115  0.217  0.223 ... -0.045 -0.059  0.892]\n"
     ]
    }
   ],
   "source": [
    "model = LinearRegression()\n",
    "model.fit(features_train, target_train)\n",
    "predicted = model.predict(features_valid)\n",
    "\n",
    "print(f'MSE = {mean_squared_error(target_valid, predicted):.3f}')\n",
    "print(f'R2 = {r2_score(target_valid, predicted):.3f}')\n",
    "print(f'Предсказания:{np.round(predicted, 3)}')"
   ]
  },
  {
   "cell_type": "markdown",
   "metadata": {},
   "source": [
    "**Показания линейной регрессии на пробном обучении**\n",
    "- **MSE: 0.120**\n",
    "- **R2: 0.423**\n",
    "- **Предсказания: `-0.115`  `0.217`  `0.223` ... `-0.045` `-0.059`  `0.892`**"
   ]
  },
  {
   "cell_type": "markdown",
   "metadata": {},
   "source": [
    "<a id='part_2'></a>\n",
    "# 2. Умножение матриц [▴](#head)"
   ]
  },
  {
   "cell_type": "markdown",
   "metadata": {},
   "source": [
    "**Обозначения:**\n",
    "\n",
    "- $X$ — матрица признаков (нулевой столбец состоит из единиц)\n",
    "- $y$ — вектор целевого признака\n",
    "- $P$ — матрица, на которую умножаются признаки\n",
    "- $w$ — вектор весов линейной регрессии (нулевой элемент равен сдвигу)\n",
    "- Предсказания: $a = Xw$\n",
    "- Задача обучения: $w = \\arg\\min_w MSE(Xw, y)$\n",
    "- Формула обучения: $w = \\left(X^T X\\right)^{-1} X^T y$\n",
    "\n",
    "\n",
    "**Свойства матриц:**\n",
    "\n",
    "- 1: $AA^{-1} = A^{-1}A = E$\n",
    "- 2: $AE = A = EA$\n",
    "- 3: $(AB)^{-1} = B^{-1}A^{-1}$\n",
    "- 4: $(AB)^{T} = B^{T}A^{T}$\n",
    "- 5: $(AB)C = A(BC)$\n",
    "- 6: $(ABCD)E = (AB)C(DE) = A(BCD)E$\n",
    "- 7: ($AA^{T}$ = Квадратная матрица) $\\neq$ ($A^{T}A$ = Квадратная матрица)\n",
    "\n",
    "**Пояснения:**\n",
    "\n",
    "1. Матрица умноженная на обратимую, дает единичную матрицу\n",
    "2. Любая матрица умноженная на единичную матрицу той же ширины равна сама себе.\n",
    "3. Подходит только для обратимых матриц (а значит только для квадратных)\n",
    "4. Работает со всеми матрицами"
   ]
  },
  {
   "cell_type": "markdown",
   "metadata": {},
   "source": [
    "<a id='part_2_1'></a>\n",
    "## 2.1 Вопрос / Ответ [▴](#head)"
   ]
  },
  {
   "cell_type": "markdown",
   "metadata": {},
   "source": [
    "**Вопрос:** Признаки умножают на обратимую матрицу. Изменится ли качество линейной регрессии?"
   ]
  },
  {
   "cell_type": "markdown",
   "metadata": {},
   "source": [
    "**Ответ:** Нет, качество линейной регрессии не поменяется."
   ]
  },
  {
   "cell_type": "markdown",
   "metadata": {},
   "source": [
    "<a id='part_2_2'></a>\n",
    "## 2.2 Обоснование [▴](#head)"
   ]
  },
  {
   "cell_type": "markdown",
   "metadata": {},
   "source": [
    "### Исходные данные:\n",
    "\n",
    "- Векор весов: $w = \\left(X^T \\cdot X\\right)^{-1} \\cdot X^T \\cdot y$\n",
    "- Предсказания: $a = X \\cdot w$\n",
    "- Подставляем $w$ в формулу, получаем исходную формулу предсказаний: $$a = X \\cdot \\left(X^T \\cdot X \\right)^{-1} \\cdot X^T \\cdot y$$\n",
    "\n",
    "----\n",
    "\n",
    "### Добавим матрицу: $P$\n",
    "\n",
    "Умножаем наши признаки $X$ на инвертируемую матрицу $P$ размером равным ширине матрицы $X$, так как инвертируемая матрица квадратная, то при умножении на нее, размерность матрицы $X$ не изменится. \n",
    "\n",
    "Получаем новый вектор предсказаний: $a_P$\n",
    "$$a_P = (X \\cdot P) \\cdot \\left((X \\cdot P)^T \\cdot (X \\cdot P)\\right)^{-1} \\cdot (X \\cdot P)^T \\cdot y$$\n",
    "\n",
    "----\n",
    "\n",
    "Раскрываем скобки $(X \\cdot P)^T$ в $P^T \\cdot X^T$\n",
    "$$a_P = X \\cdot P \\cdot \\left(P^T \\cdot X^T \\cdot X \\cdot P \\right)^{-1} \\cdot P^T \\cdot X^T \\cdot y$$\n",
    "\n",
    "----\n",
    "Так как матрица $P$ квадратная, а так же произведение матриц $\\left( P^T \\cdot X^T \\cdot X \\right)$ даст квадратную матрицу такой же размерности как и $P$, можем раскрыть скобки из $\\left( P^T \\cdot X^T \\cdot X \\cdot P \\right)^{-1}$ в $P^{-1} \\cdot \\left(P^T \\cdot X^T \\cdot X \\right)^{-1}$\n",
    "\n",
    "$$a_P = X \\cdot P \\cdot P^{-1} \\cdot \\left(P^T \\cdot X^T \\cdot X \\right)^{-1} \\cdot P^T \\cdot X^T \\cdot y$$\n",
    "\n",
    "----\n",
    "Матрица $P^T$ квадратная и произведение $X^T \\cdot X$ тоже дает квадратную матрицу. Раскрываем скобки $\\left(P^T \\cdot X^T \\cdot X \\right)^{-1}$  в $\\left(X^T \\cdot X \\right)^{-1} \\cdot \\left(P^{T}\\right)^{-1}$\n",
    "$$a_P = X \\cdot P \\cdot P^{-1} \\cdot \\left(X^T \\cdot X \\right)^{-1} \\cdot \\left(P^{T}\\right)^{-1} \\cdot P^T \\cdot X^T \\cdot y$$\n",
    "\n",
    "----\n",
    "Произведение $P \\cdot P^{-1}$ дает единичную матрицу и $\\left(P^{T}\\right)^{-1} \\cdot P^T$ тоже дает единичную матрицу\n",
    "$$a_P = X \\cdot E \\cdot \\left(X^T \\cdot X \\right)^{-1} \\cdot E \\cdot X^T \\cdot y$$\n",
    "\n",
    "----\n",
    "Так как произведение матрицы на единичную матрицу равно самой себе, то $E$ у нас сокращается.\n",
    "$$a_P = X \\cdot \\left(X^T \\cdot X \\right)^{-1} \\cdot X^T \\cdot y$$"
   ]
  },
  {
   "cell_type": "markdown",
   "metadata": {},
   "source": [
    "<a id='part_2_conclusions'></a>\n",
    "## Выводы [▴](#head)"
   ]
  },
  {
   "cell_type": "markdown",
   "metadata": {},
   "source": [
    "В результате сокращения мы получили формулу равную исходной, а следовательно $a = a_P$\n",
    "\n",
    "Это означает, что мы получим идентичные предсказания, а следовательно качество линейной регрессии при умножении на обратимую матрицу не изменится."
   ]
  },
  {
   "cell_type": "markdown",
   "metadata": {},
   "source": [
    "<a id='part_3'></a>\n",
    "# 3. Алгоритм преобразования [▴](#head)"
   ]
  },
  {
   "cell_type": "markdown",
   "metadata": {},
   "source": [
    "<a id='part_3_1'></a>\n",
    "## 3.1 Алгоритм [▴](#head)"
   ]
  },
  {
   "cell_type": "markdown",
   "metadata": {},
   "source": [
    "Напишем функции, которые позволят как кодировать так и декодировать наши данные.\n",
    "\n",
    "### Функция кодирования\n",
    "- **`Принимает на вход:`** признаки `features_to_coding`, которые необходимо закодировать\n",
    "- Считывает ширину матрицы признаков `features_to_coding` в переменную `matrix_width`\n",
    "- Генерирует обратимую матрицу `coding_matrix` размером `matrix_width`x `matrix_width`\n",
    "- Кодирует признаки с помощью скалярного умножения `coded_features` = `features_to_coding` @ `coding_matrix`\n",
    "- Генерирует матрицу для раскодирования `matrix_decoder` которая является обратной к матрице `coding_matrix`\n",
    "- **`Возвращает:`** закодированные признаки `coded_features` и матрицу раскодирования `matrix_decoder`\n",
    "\n",
    "### Функция декодирования\n",
    "- **`Принимает на вход:`** признаки для декодирования `features_to_decoding` и декодирующую матрицу `matrix_decoder`\n",
    "- Создает датафрейм восстановленных признаков `restored_features`, с помощью скалярного умножения матриц `features_to_decoding` @ `matrix_decoder`\n",
    "- **`Возвращает:`** Восстановленный датафрейм признаков `restored_features`"
   ]
  },
  {
   "cell_type": "code",
   "execution_count": 13,
   "metadata": {},
   "outputs": [],
   "source": [
    "def coding(features_to_coding):\n",
    "    np.random.seed(12345)\n",
    "    \n",
    "    matrix_width = features_to_coding.shape[1]\n",
    "    coding_matrix = np.random.randint(1, 10, (matrix_width, matrix_width))\n",
    "    \n",
    "    print(f'Матрица для кодирования:\\n{coding_matrix}\\n')\n",
    "    \n",
    "    coded_features = np.dot(features_to_coding, coding_matrix)\n",
    "    matrix_decoder = np.linalg.inv(coding_matrix)\n",
    "    \n",
    "    print(f'Закодированные признаки:\\n{coded_features}\\n')\n",
    "    \n",
    "    print(f'Матрица для декодирования:\\n{matrix_decoder}')\n",
    "    \n",
    "    return coded_features, matrix_decoder"
   ]
  },
  {
   "cell_type": "code",
   "execution_count": 14,
   "metadata": {},
   "outputs": [],
   "source": [
    "def decoding(features_to_decoding, matrix_decoder):\n",
    "    restored_features = pd.DataFrame(np.dot(features_to_decoding, matrix_decoder))\n",
    "    return restored_features"
   ]
  },
  {
   "cell_type": "markdown",
   "metadata": {},
   "source": [
    "<a id='part_3_2'></a>\n",
    "## 3.2 Обоснование [▴](#head)"
   ]
  },
  {
   "cell_type": "markdown",
   "metadata": {},
   "source": [
    "Мы показали обоснование с помощью формул, теперь проверим результат на практике.\n",
    "\n",
    "### Создадим данные для проверки:"
   ]
  },
  {
   "cell_type": "code",
   "execution_count": 15,
   "metadata": {},
   "outputs": [],
   "source": [
    "# создадим матрицу признаков\n",
    "features_x = np.array([\n",
    "    [2,9],\n",
    "    [1,3],\n",
    "    [5,7],\n",
    "    [2,6]])\n",
    "\n",
    "# создадим вектор целевых значений\n",
    "y = np.array([1,2,1,1])"
   ]
  },
  {
   "cell_type": "markdown",
   "metadata": {},
   "source": [
    "### Создадим необходимые переменные и закодируем данные:"
   ]
  },
  {
   "cell_type": "code",
   "execution_count": 16,
   "metadata": {},
   "outputs": [
    {
     "name": "stdout",
     "output_type": "stream",
     "text": [
      "Матрица для кодирования:\n",
      "[[3 6 2]\n",
      " [5 6 3]\n",
      " [2 7 2]]\n",
      "\n",
      "Закодированные признаки:\n",
      "[[31. 81. 26.]\n",
      " [14. 33. 11.]\n",
      " [42. 85. 31.]\n",
      " [25. 60. 20.]]\n",
      "\n",
      "Матрица для декодирования:\n",
      "[[ 1.8 -0.4 -1.2]\n",
      " [ 0.8 -0.4 -0.2]\n",
      " [-4.6  1.8  2.4]]\n"
     ]
    }
   ],
   "source": [
    "# Исходная задача\n",
    "X = np.concatenate((np.ones((features_x.shape[0], 1)), features_x), axis=1)\n",
    "w = (np.linalg.inv(X.T.dot(X)).dot(X.T)).dot(y)\n",
    "\n",
    "# Закодируем наши признаки с помощью функции\n",
    "XP, decoding_matrix = coding(X)\n",
    "\n",
    "# Модифицированная задача\n",
    "w_P = (np.linalg.inv(XP.T.dot(XP)).dot(XP.T)).dot(y)"
   ]
  },
  {
   "cell_type": "markdown",
   "metadata": {},
   "source": [
    "### Проверяем результат:"
   ]
  },
  {
   "cell_type": "code",
   "execution_count": 17,
   "metadata": {},
   "outputs": [
    {
     "name": "stdout",
     "output_type": "stream",
     "text": [
      "Исходная задача:\n",
      "Предсказания: [0.8700361  1.85379061 0.95126354 1.32490975]\n",
      "MSE = 0.037\n",
      "R2 = 0.805\n",
      "\n",
      "Модифицированная задача, умножаем 𝑋 на 𝑃:\n",
      "Предсказания: [0.8700361  1.85379061 0.95126354 1.32490975]\n",
      "MSE = 0.037\n",
      "R2 = 0.805\n"
     ]
    }
   ],
   "source": [
    "print('Исходная задача:')\n",
    "print(f'Предсказания: {X @ w}')\n",
    "print(f'MSE = {mean_squared_error(y, X @ w):.3f}')\n",
    "print(f'R2 = {r2_score(y, X @ w):.3f}')\n",
    "\n",
    "print()\n",
    "\n",
    "print('Модифицированная задача, умножаем 𝑋 на 𝑃:')\n",
    "print(f'Предсказания: {XP @ w_P}')\n",
    "print(f'MSE = {mean_squared_error(y, XP @ w_P):.3f}')\n",
    "print(f'R2 = {r2_score(y, XP @ w_P):.3f}')"
   ]
  },
  {
   "cell_type": "markdown",
   "metadata": {},
   "source": [
    "### Пробуем раскодировать признаки:"
   ]
  },
  {
   "cell_type": "code",
   "execution_count": 18,
   "metadata": {},
   "outputs": [
    {
     "name": "stdout",
     "output_type": "stream",
     "text": [
      "Закодированные признаки:\n",
      "[[31. 81. 26.]\n",
      " [14. 33. 11.]\n",
      " [42. 85. 31.]\n",
      " [25. 60. 20.]]]\n",
      "\n",
      "Восстановленные признаки:\n",
      "     0    1    2\n",
      "0  1.0  2.0  9.0\n",
      "1  1.0  1.0  3.0\n",
      "2  1.0  5.0  7.0\n",
      "3  1.0  2.0  6.0\n"
     ]
    }
   ],
   "source": [
    "print(f'Закодированные признаки:\\n{XP}]\\n')\n",
    "print(f'Восстановленные признаки:\\n{decoding(XP, decoding_matrix)}')"
   ]
  },
  {
   "cell_type": "markdown",
   "metadata": {},
   "source": [
    "<a id='part_3_conclusions'></a>\n",
    "## Выводы [▴](#head)"
   ]
  },
  {
   "cell_type": "markdown",
   "metadata": {},
   "source": [
    "Проверили на практике, что предсказания, и качество модели не поменялось. А так же, восстановили закодированные данные. \n",
    "\n",
    "Настало время проверить алгоритм на линейной регрессии библиотеки `sklearn` "
   ]
  },
  {
   "cell_type": "markdown",
   "metadata": {},
   "source": [
    "<a id='part_4'></a>\n",
    "# 4. Проверка алгоритма [▴](#head)"
   ]
  },
  {
   "cell_type": "markdown",
   "metadata": {},
   "source": [
    "<a id='part_4_1'></a>\n",
    "## 4.1 Кодируем данные [▴](#head)"
   ]
  },
  {
   "cell_type": "markdown",
   "metadata": {},
   "source": [
    "Закодируем признаки и получим матрицу для раскодировки."
   ]
  },
  {
   "cell_type": "code",
   "execution_count": 19,
   "metadata": {},
   "outputs": [
    {
     "name": "stdout",
     "output_type": "stream",
     "text": [
      "Матрица для кодирования:\n",
      "[[3 6 2 5]\n",
      " [6 3 2 7]\n",
      " [2 8 7 1]\n",
      " [3 2 3 7]]\n",
      "\n",
      "Закодированные признаки:\n",
      "[[ 99452. 396931. 347287.  49899.]\n",
      " [ 76279. 304140. 266095.  38329.]\n",
      " [ 42174. 168087. 147058.  21203.]\n",
      " ...\n",
      " [ 67926. 271264. 237346.  34054.]\n",
      " [ 65544. 261678. 228955.  32880.]\n",
      " [ 81374. 324892. 284261.  40808.]]\n",
      "\n",
      "Матрица для декодирования:\n",
      "[[-0.16207455  0.35332253  0.05024311 -0.24473258]\n",
      " [ 0.24149109 -0.06645057 -0.00486224 -0.10534846]\n",
      " [-0.24473258 -0.00648298  0.1458671   0.16045381]\n",
      " [ 0.10534846 -0.12965964 -0.08265802  0.20907618]]\n"
     ]
    }
   ],
   "source": [
    "coded_features, decoding_matrix = coding(features)"
   ]
  },
  {
   "cell_type": "markdown",
   "metadata": {},
   "source": [
    "Разобьем наш массив на тренировочный и валидационный:"
   ]
  },
  {
   "cell_type": "code",
   "execution_count": 20,
   "metadata": {},
   "outputs": [],
   "source": [
    "features_train, features_valid, target_train, target_valid = train_test_split(\n",
    "    coded_features, target, \n",
    "    random_state=12345,\n",
    "    test_size=0.25)"
   ]
  },
  {
   "cell_type": "markdown",
   "metadata": {},
   "source": [
    "Теперь обучим модель на закодированных признаках и проверим результат:"
   ]
  },
  {
   "cell_type": "code",
   "execution_count": 21,
   "metadata": {},
   "outputs": [
    {
     "name": "stdout",
     "output_type": "stream",
     "text": [
      "MSE = 0.120\n",
      "R2 = 0.423\n",
      "Предсказания:[-0.115  0.217  0.223 ... -0.045 -0.059  0.892]\n"
     ]
    }
   ],
   "source": [
    "model = LinearRegression()\n",
    "model.fit(features_train, target_train)\n",
    "predicted = model.predict(features_valid)\n",
    "\n",
    "print(f'MSE = {mean_squared_error(target_valid, predicted):.3f}')\n",
    "print(f'R2 = {r2_score(target_valid, predicted):.3f}')\n",
    "print(f'Предсказания:{np.round(predicted, 3)}')"
   ]
  },
  {
   "cell_type": "markdown",
   "metadata": {},
   "source": [
    "**Сравнение результатов**\n",
    "\n",
    "Вспомним показания линейной регрессии на **`пробном обучении:`**\n",
    "- **MSE: 0.120**\n",
    "- **R2: 0.423**\n",
    "- **Предсказания: `-0.115`  `0.217`  `0.223` ... `-0.045` `-0.059`  `0.892`**"
   ]
  },
  {
   "cell_type": "markdown",
   "metadata": {},
   "source": [
    "Качество модели и предсказания абсолютно идентичные, что подтверждает нашу гипотезу о том, что умножение признаков на обратимую матрицу никак не влияет на качество линейной регрессии."
   ]
  },
  {
   "cell_type": "markdown",
   "metadata": {},
   "source": [
    "<a id='part_4_2'></a>\n",
    "## 4.2 Восстанавливаем данные [▴](#head)"
   ]
  },
  {
   "cell_type": "markdown",
   "metadata": {},
   "source": [
    "Теперь попробуем восстановить данные"
   ]
  },
  {
   "cell_type": "code",
   "execution_count": 22,
   "metadata": {},
   "outputs": [
    {
     "data": {
      "text/html": [
       "<div>\n",
       "<style scoped>\n",
       "    .dataframe tbody tr th:only-of-type {\n",
       "        vertical-align: middle;\n",
       "    }\n",
       "\n",
       "    .dataframe tbody tr th {\n",
       "        vertical-align: top;\n",
       "    }\n",
       "\n",
       "    .dataframe thead th {\n",
       "        text-align: right;\n",
       "    }\n",
       "</style>\n",
       "<table border=\"1\" class=\"dataframe\">\n",
       "  <thead>\n",
       "    <tr style=\"text-align: right;\">\n",
       "      <th></th>\n",
       "      <th>0</th>\n",
       "      <th>1</th>\n",
       "      <th>2</th>\n",
       "      <th>3</th>\n",
       "    </tr>\n",
       "  </thead>\n",
       "  <tbody>\n",
       "    <tr>\n",
       "      <th>0</th>\n",
       "      <td>1.000000e+00</td>\n",
       "      <td>41.0</td>\n",
       "      <td>49600.0</td>\n",
       "      <td>1.0</td>\n",
       "    </tr>\n",
       "    <tr>\n",
       "      <th>1</th>\n",
       "      <td>-1.455192e-11</td>\n",
       "      <td>46.0</td>\n",
       "      <td>38000.0</td>\n",
       "      <td>1.0</td>\n",
       "    </tr>\n",
       "    <tr>\n",
       "      <th>2</th>\n",
       "      <td>0.000000e+00</td>\n",
       "      <td>29.0</td>\n",
       "      <td>21000.0</td>\n",
       "      <td>0.0</td>\n",
       "    </tr>\n",
       "    <tr>\n",
       "      <th>3</th>\n",
       "      <td>0.000000e+00</td>\n",
       "      <td>21.0</td>\n",
       "      <td>41700.0</td>\n",
       "      <td>2.0</td>\n",
       "    </tr>\n",
       "    <tr>\n",
       "      <th>4</th>\n",
       "      <td>1.000000e+00</td>\n",
       "      <td>28.0</td>\n",
       "      <td>26100.0</td>\n",
       "      <td>0.0</td>\n",
       "    </tr>\n",
       "    <tr>\n",
       "      <th>...</th>\n",
       "      <td>...</td>\n",
       "      <td>...</td>\n",
       "      <td>...</td>\n",
       "      <td>...</td>\n",
       "    </tr>\n",
       "    <tr>\n",
       "      <th>4842</th>\n",
       "      <td>0.000000e+00</td>\n",
       "      <td>28.0</td>\n",
       "      <td>35700.0</td>\n",
       "      <td>2.0</td>\n",
       "    </tr>\n",
       "    <tr>\n",
       "      <th>4843</th>\n",
       "      <td>-1.455192e-11</td>\n",
       "      <td>34.0</td>\n",
       "      <td>52400.0</td>\n",
       "      <td>1.0</td>\n",
       "    </tr>\n",
       "    <tr>\n",
       "      <th>4844</th>\n",
       "      <td>0.000000e+00</td>\n",
       "      <td>20.0</td>\n",
       "      <td>33900.0</td>\n",
       "      <td>2.0</td>\n",
       "    </tr>\n",
       "    <tr>\n",
       "      <th>4845</th>\n",
       "      <td>1.000000e+00</td>\n",
       "      <td>22.0</td>\n",
       "      <td>32700.0</td>\n",
       "      <td>3.0</td>\n",
       "    </tr>\n",
       "    <tr>\n",
       "      <th>4846</th>\n",
       "      <td>1.000000e+00</td>\n",
       "      <td>28.0</td>\n",
       "      <td>40600.0</td>\n",
       "      <td>1.0</td>\n",
       "    </tr>\n",
       "  </tbody>\n",
       "</table>\n",
       "<p>4847 rows × 4 columns</p>\n",
       "</div>"
      ],
      "text/plain": [
       "                 0     1        2    3\n",
       "0     1.000000e+00  41.0  49600.0  1.0\n",
       "1    -1.455192e-11  46.0  38000.0  1.0\n",
       "2     0.000000e+00  29.0  21000.0  0.0\n",
       "3     0.000000e+00  21.0  41700.0  2.0\n",
       "4     1.000000e+00  28.0  26100.0  0.0\n",
       "...            ...   ...      ...  ...\n",
       "4842  0.000000e+00  28.0  35700.0  2.0\n",
       "4843 -1.455192e-11  34.0  52400.0  1.0\n",
       "4844  0.000000e+00  20.0  33900.0  2.0\n",
       "4845  1.000000e+00  22.0  32700.0  3.0\n",
       "4846  1.000000e+00  28.0  40600.0  1.0\n",
       "\n",
       "[4847 rows x 4 columns]"
      ]
     },
     "metadata": {},
     "output_type": "display_data"
    }
   ],
   "source": [
    "decoded_features = decoding(coded_features, decoding_matrix)\n",
    "display(decoded_features)"
   ]
  },
  {
   "cell_type": "markdown",
   "metadata": {},
   "source": [
    "Вернем заголовки"
   ]
  },
  {
   "cell_type": "code",
   "execution_count": 23,
   "metadata": {
    "scrolled": false
   },
   "outputs": [
    {
     "data": {
      "text/html": [
       "<div>\n",
       "<style scoped>\n",
       "    .dataframe tbody tr th:only-of-type {\n",
       "        vertical-align: middle;\n",
       "    }\n",
       "\n",
       "    .dataframe tbody tr th {\n",
       "        vertical-align: top;\n",
       "    }\n",
       "\n",
       "    .dataframe thead th {\n",
       "        text-align: right;\n",
       "    }\n",
       "</style>\n",
       "<table border=\"1\" class=\"dataframe\">\n",
       "  <thead>\n",
       "    <tr style=\"text-align: right;\">\n",
       "      <th></th>\n",
       "      <th>Пол</th>\n",
       "      <th>Возраст</th>\n",
       "      <th>Зарплата</th>\n",
       "      <th>Члены семьи</th>\n",
       "    </tr>\n",
       "  </thead>\n",
       "  <tbody>\n",
       "    <tr>\n",
       "      <th>0</th>\n",
       "      <td>1.000000e+00</td>\n",
       "      <td>41.0</td>\n",
       "      <td>49600.0</td>\n",
       "      <td>1.0</td>\n",
       "    </tr>\n",
       "    <tr>\n",
       "      <th>1</th>\n",
       "      <td>-1.455192e-11</td>\n",
       "      <td>46.0</td>\n",
       "      <td>38000.0</td>\n",
       "      <td>1.0</td>\n",
       "    </tr>\n",
       "    <tr>\n",
       "      <th>2</th>\n",
       "      <td>0.000000e+00</td>\n",
       "      <td>29.0</td>\n",
       "      <td>21000.0</td>\n",
       "      <td>0.0</td>\n",
       "    </tr>\n",
       "    <tr>\n",
       "      <th>3</th>\n",
       "      <td>0.000000e+00</td>\n",
       "      <td>21.0</td>\n",
       "      <td>41700.0</td>\n",
       "      <td>2.0</td>\n",
       "    </tr>\n",
       "    <tr>\n",
       "      <th>4</th>\n",
       "      <td>1.000000e+00</td>\n",
       "      <td>28.0</td>\n",
       "      <td>26100.0</td>\n",
       "      <td>0.0</td>\n",
       "    </tr>\n",
       "    <tr>\n",
       "      <th>...</th>\n",
       "      <td>...</td>\n",
       "      <td>...</td>\n",
       "      <td>...</td>\n",
       "      <td>...</td>\n",
       "    </tr>\n",
       "    <tr>\n",
       "      <th>4842</th>\n",
       "      <td>0.000000e+00</td>\n",
       "      <td>28.0</td>\n",
       "      <td>35700.0</td>\n",
       "      <td>2.0</td>\n",
       "    </tr>\n",
       "    <tr>\n",
       "      <th>4843</th>\n",
       "      <td>-1.455192e-11</td>\n",
       "      <td>34.0</td>\n",
       "      <td>52400.0</td>\n",
       "      <td>1.0</td>\n",
       "    </tr>\n",
       "    <tr>\n",
       "      <th>4844</th>\n",
       "      <td>0.000000e+00</td>\n",
       "      <td>20.0</td>\n",
       "      <td>33900.0</td>\n",
       "      <td>2.0</td>\n",
       "    </tr>\n",
       "    <tr>\n",
       "      <th>4845</th>\n",
       "      <td>1.000000e+00</td>\n",
       "      <td>22.0</td>\n",
       "      <td>32700.0</td>\n",
       "      <td>3.0</td>\n",
       "    </tr>\n",
       "    <tr>\n",
       "      <th>4846</th>\n",
       "      <td>1.000000e+00</td>\n",
       "      <td>28.0</td>\n",
       "      <td>40600.0</td>\n",
       "      <td>1.0</td>\n",
       "    </tr>\n",
       "  </tbody>\n",
       "</table>\n",
       "<p>4847 rows × 4 columns</p>\n",
       "</div>"
      ],
      "text/plain": [
       "               Пол  Возраст  Зарплата  Члены семьи\n",
       "0     1.000000e+00     41.0   49600.0          1.0\n",
       "1    -1.455192e-11     46.0   38000.0          1.0\n",
       "2     0.000000e+00     29.0   21000.0          0.0\n",
       "3     0.000000e+00     21.0   41700.0          2.0\n",
       "4     1.000000e+00     28.0   26100.0          0.0\n",
       "...            ...      ...       ...          ...\n",
       "4842  0.000000e+00     28.0   35700.0          2.0\n",
       "4843 -1.455192e-11     34.0   52400.0          1.0\n",
       "4844  0.000000e+00     20.0   33900.0          2.0\n",
       "4845  1.000000e+00     22.0   32700.0          3.0\n",
       "4846  1.000000e+00     28.0   40600.0          1.0\n",
       "\n",
       "[4847 rows x 4 columns]"
      ]
     },
     "metadata": {},
     "output_type": "display_data"
    }
   ],
   "source": [
    "decoded_features.columns = features.columns\n",
    "display(decoded_features)"
   ]
  },
  {
   "cell_type": "markdown",
   "metadata": {},
   "source": [
    "Избавимся от неточностей в расчетах"
   ]
  },
  {
   "cell_type": "code",
   "execution_count": 24,
   "metadata": {},
   "outputs": [
    {
     "data": {
      "text/html": [
       "<div>\n",
       "<style scoped>\n",
       "    .dataframe tbody tr th:only-of-type {\n",
       "        vertical-align: middle;\n",
       "    }\n",
       "\n",
       "    .dataframe tbody tr th {\n",
       "        vertical-align: top;\n",
       "    }\n",
       "\n",
       "    .dataframe thead th {\n",
       "        text-align: right;\n",
       "    }\n",
       "</style>\n",
       "<table border=\"1\" class=\"dataframe\">\n",
       "  <thead>\n",
       "    <tr style=\"text-align: right;\">\n",
       "      <th></th>\n",
       "      <th>Пол</th>\n",
       "      <th>Возраст</th>\n",
       "      <th>Зарплата</th>\n",
       "      <th>Члены семьи</th>\n",
       "    </tr>\n",
       "  </thead>\n",
       "  <tbody>\n",
       "    <tr>\n",
       "      <th>0</th>\n",
       "      <td>1.0</td>\n",
       "      <td>41.0</td>\n",
       "      <td>49600.0</td>\n",
       "      <td>1.0</td>\n",
       "    </tr>\n",
       "    <tr>\n",
       "      <th>1</th>\n",
       "      <td>0.0</td>\n",
       "      <td>46.0</td>\n",
       "      <td>38000.0</td>\n",
       "      <td>1.0</td>\n",
       "    </tr>\n",
       "    <tr>\n",
       "      <th>2</th>\n",
       "      <td>0.0</td>\n",
       "      <td>29.0</td>\n",
       "      <td>21000.0</td>\n",
       "      <td>0.0</td>\n",
       "    </tr>\n",
       "    <tr>\n",
       "      <th>3</th>\n",
       "      <td>0.0</td>\n",
       "      <td>21.0</td>\n",
       "      <td>41700.0</td>\n",
       "      <td>2.0</td>\n",
       "    </tr>\n",
       "    <tr>\n",
       "      <th>4</th>\n",
       "      <td>1.0</td>\n",
       "      <td>28.0</td>\n",
       "      <td>26100.0</td>\n",
       "      <td>0.0</td>\n",
       "    </tr>\n",
       "    <tr>\n",
       "      <th>...</th>\n",
       "      <td>...</td>\n",
       "      <td>...</td>\n",
       "      <td>...</td>\n",
       "      <td>...</td>\n",
       "    </tr>\n",
       "    <tr>\n",
       "      <th>4842</th>\n",
       "      <td>0.0</td>\n",
       "      <td>28.0</td>\n",
       "      <td>35700.0</td>\n",
       "      <td>2.0</td>\n",
       "    </tr>\n",
       "    <tr>\n",
       "      <th>4843</th>\n",
       "      <td>0.0</td>\n",
       "      <td>34.0</td>\n",
       "      <td>52400.0</td>\n",
       "      <td>1.0</td>\n",
       "    </tr>\n",
       "    <tr>\n",
       "      <th>4844</th>\n",
       "      <td>0.0</td>\n",
       "      <td>20.0</td>\n",
       "      <td>33900.0</td>\n",
       "      <td>2.0</td>\n",
       "    </tr>\n",
       "    <tr>\n",
       "      <th>4845</th>\n",
       "      <td>1.0</td>\n",
       "      <td>22.0</td>\n",
       "      <td>32700.0</td>\n",
       "      <td>3.0</td>\n",
       "    </tr>\n",
       "    <tr>\n",
       "      <th>4846</th>\n",
       "      <td>1.0</td>\n",
       "      <td>28.0</td>\n",
       "      <td>40600.0</td>\n",
       "      <td>1.0</td>\n",
       "    </tr>\n",
       "  </tbody>\n",
       "</table>\n",
       "<p>4847 rows × 4 columns</p>\n",
       "</div>"
      ],
      "text/plain": [
       "      Пол  Возраст  Зарплата  Члены семьи\n",
       "0     1.0     41.0   49600.0          1.0\n",
       "1     0.0     46.0   38000.0          1.0\n",
       "2     0.0     29.0   21000.0          0.0\n",
       "3     0.0     21.0   41700.0          2.0\n",
       "4     1.0     28.0   26100.0          0.0\n",
       "...   ...      ...       ...          ...\n",
       "4842  0.0     28.0   35700.0          2.0\n",
       "4843  0.0     34.0   52400.0          1.0\n",
       "4844  0.0     20.0   33900.0          2.0\n",
       "4845  1.0     22.0   32700.0          3.0\n",
       "4846  1.0     28.0   40600.0          1.0\n",
       "\n",
       "[4847 rows x 4 columns]"
      ]
     },
     "metadata": {},
     "output_type": "display_data"
    }
   ],
   "source": [
    "decoded_features['Пол'] = decoded_features['Пол'].round().abs()\n",
    "display(decoded_features)"
   ]
  },
  {
   "cell_type": "markdown",
   "metadata": {},
   "source": [
    "Исходные данные полностью восстановлены."
   ]
  },
  {
   "cell_type": "markdown",
   "metadata": {},
   "source": [
    "<a id='part_4_conclusions'></a>\n",
    "## Выводы [▴](#head)"
   ]
  },
  {
   "cell_type": "markdown",
   "metadata": {},
   "source": [
    "Мы проанализировали данные о страховых выплатах, клиентов компании \"Хоть потоп\". Данные оказались достаточно чистыми и предобработки не потребовалось.\n",
    "\n",
    "В ходе анализа выяснилось:\n",
    "- Количество выплат сильно зависит от возраста застразованного, чем возраст выше, тем чаще обращаются за выплатами.\n",
    "- Другие параметры не имеют прямой зависимости с количеством и частотой выплат.\n",
    "- В основном за страховкой обращаются люди с небольшими семьями либо одиночки.\n",
    "- Средний доход застрахованных составляет 40 тыс. руб.\n",
    "\n",
    "В нашей задаче требовалось закодировать персональные данные клиентов, и не потерять в последующем качества обучения Линейной Регрессии. Мы провели исследование и выяснили следующее:\n",
    "- Признаки можно закодировать умножив их на обратимую матрицу\n",
    "- Качество Линейной Регрессии при этом не уменьшается\n",
    "- Так же после таких операций сохраняется возможноть раскодировать закодированные признаки, с возможной потерей точности данных на уровне $10^{-11}$\n",
    "\n"
   ]
  },
  {
   "cell_type": "markdown",
   "metadata": {},
   "source": [
    "<a id='check_list'></a>\n",
    "## Чек-лист готовности проекта [▴](#head)"
   ]
  },
  {
   "cell_type": "markdown",
   "metadata": {},
   "source": [
    "- [x]  Jupyter Notebook открыт\n",
    "- [x]  Весь код выполняется без ошибок\n",
    "- [x]  Ячейки с кодом расположены в порядке исполнения\n",
    "- [x]  Выполнен шаг 1: данные загружены\n",
    "- [x]  Выполнен шаг 2: получен ответ на вопрос об умножении матриц\n",
    "    - [x]  Указан правильный вариант ответа\n",
    "    - [x]  Вариант обоснован\n",
    "- [x]  Выполнен шаг 3: предложен алгоритм преобразования\n",
    "    - [x]  Алгоритм описан\n",
    "    - [x]  Алгоритм обоснован\n",
    "- [x]  Выполнен шаг 4: алгоритм проверен\n",
    "    - [x]  Алгоритм реализован\n",
    "    - [x]  Проведено сравнение качества моделей до и после преобразования"
   ]
  },
  {
   "cell_type": "code",
   "execution_count": null,
   "metadata": {},
   "outputs": [],
   "source": []
  }
 ],
 "metadata": {
  "ExecuteTimeLog": [
   {
    "duration": 761,
    "start_time": "2022-05-30T21:40:25.321Z"
   },
   {
    "duration": 5,
    "start_time": "2022-05-30T21:40:26.084Z"
   },
   {
    "duration": 3,
    "start_time": "2022-05-30T21:40:26.091Z"
   },
   {
    "duration": 37,
    "start_time": "2022-05-30T21:40:26.096Z"
   },
   {
    "duration": 21,
    "start_time": "2022-05-30T21:40:26.151Z"
   },
   {
    "duration": 98,
    "start_time": "2022-05-30T21:40:26.174Z"
   },
   {
    "duration": 12,
    "start_time": "2022-05-30T21:40:26.275Z"
   },
   {
    "duration": 8,
    "start_time": "2022-05-30T21:40:26.289Z"
   },
   {
    "duration": 11,
    "start_time": "2022-05-30T21:40:26.298Z"
   },
   {
    "duration": 8,
    "start_time": "2022-05-30T21:40:26.312Z"
   },
   {
    "duration": 6,
    "start_time": "2022-05-30T21:40:26.321Z"
   },
   {
    "duration": 28,
    "start_time": "2022-05-30T21:40:26.329Z"
   },
   {
    "duration": 14,
    "start_time": "2022-05-30T21:40:26.358Z"
   },
   {
    "duration": 8,
    "start_time": "2022-05-30T21:40:26.374Z"
   },
   {
    "duration": 12,
    "start_time": "2022-05-30T21:40:26.383Z"
   },
   {
    "duration": 6,
    "start_time": "2022-05-30T21:40:26.397Z"
   },
   {
    "duration": 4,
    "start_time": "2022-05-30T21:40:26.405Z"
   },
   {
    "duration": 7,
    "start_time": "2022-05-30T21:40:26.410Z"
   },
   {
    "duration": 36,
    "start_time": "2022-05-30T21:40:26.418Z"
   },
   {
    "duration": 14,
    "start_time": "2022-05-30T21:40:26.456Z"
   },
   {
    "duration": 14,
    "start_time": "2022-05-30T21:40:26.472Z"
   },
   {
    "duration": 8,
    "start_time": "2022-05-30T21:40:26.488Z"
   },
   {
    "duration": 9,
    "start_time": "2022-05-30T21:40:26.497Z"
   },
   {
    "duration": 12,
    "start_time": "2022-05-30T21:40:26.508Z"
   },
   {
    "duration": 43,
    "start_time": "2022-05-30T21:40:26.521Z"
   },
   {
    "duration": 6,
    "start_time": "2022-05-30T21:40:26.565Z"
   },
   {
    "duration": 12,
    "start_time": "2022-05-30T21:40:26.572Z"
   },
   {
    "duration": 328,
    "start_time": "2022-05-30T21:40:26.587Z"
   },
   {
    "duration": 494,
    "start_time": "2022-05-30T21:40:26.916Z"
   },
   {
    "duration": 10,
    "start_time": "2022-05-30T21:40:27.413Z"
   },
   {
    "duration": 546,
    "start_time": "2022-05-30T21:40:27.424Z"
   },
   {
    "duration": 331,
    "start_time": "2022-05-30T21:40:27.972Z"
   },
   {
    "duration": 122,
    "start_time": "2022-05-30T21:40:28.305Z"
   },
   {
    "duration": 13,
    "start_time": "2022-05-30T21:40:28.428Z"
   },
   {
    "duration": 212,
    "start_time": "2022-05-30T21:40:28.451Z"
   },
   {
    "duration": 3,
    "start_time": "2022-05-30T21:40:28.665Z"
   },
   {
    "duration": 735,
    "start_time": "2022-05-30T21:40:28.669Z"
   },
   {
    "duration": 175,
    "start_time": "2022-05-30T21:40:29.406Z"
   },
   {
    "duration": 50,
    "start_time": "2022-05-30T21:40:29.583Z"
   },
   {
    "duration": 74,
    "start_time": "2022-05-30T21:40:29.635Z"
   },
   {
    "duration": 21,
    "start_time": "2022-05-30T21:40:29.711Z"
   },
   {
    "duration": 10,
    "start_time": "2022-05-30T21:40:29.752Z"
   },
   {
    "duration": 32,
    "start_time": "2022-05-30T21:40:29.763Z"
   },
   {
    "duration": 2225,
    "start_time": "2022-05-30T21:40:29.797Z"
   },
   {
    "duration": 422,
    "start_time": "2022-05-30T21:40:32.023Z"
   },
   {
    "duration": 423,
    "start_time": "2022-05-30T21:40:32.452Z"
   },
   {
    "duration": 6,
    "start_time": "2022-05-30T21:40:32.876Z"
   },
   {
    "duration": 404,
    "start_time": "2022-05-30T21:40:32.884Z"
   },
   {
    "duration": 165,
    "start_time": "2022-05-30T21:40:33.289Z"
   },
   {
    "duration": 156,
    "start_time": "2022-05-30T21:40:33.456Z"
   },
   {
    "duration": 162,
    "start_time": "2022-05-30T21:40:33.614Z"
   },
   {
    "duration": 159,
    "start_time": "2022-05-30T21:40:33.778Z"
   },
   {
    "duration": 3,
    "start_time": "2022-05-30T21:40:33.939Z"
   },
   {
    "duration": 55,
    "start_time": "2022-05-30T21:40:33.951Z"
   },
   {
    "duration": 24,
    "start_time": "2022-05-30T21:40:34.007Z"
   },
   {
    "duration": 207,
    "start_time": "2022-05-30T21:40:34.032Z"
   },
   {
    "duration": 19,
    "start_time": "2022-05-30T21:40:34.240Z"
   },
   {
    "duration": 12,
    "start_time": "2022-05-30T21:40:34.261Z"
   },
   {
    "duration": 8,
    "start_time": "2022-05-30T21:40:34.274Z"
   },
   {
    "duration": 14,
    "start_time": "2022-05-30T21:40:34.284Z"
   },
   {
    "duration": 201,
    "start_time": "2022-05-30T21:40:34.299Z"
   },
   {
    "duration": 7,
    "start_time": "2022-05-30T21:40:34.501Z"
   },
   {
    "duration": 412,
    "start_time": "2022-05-30T21:40:34.510Z"
   },
   {
    "duration": 165,
    "start_time": "2022-05-30T21:40:34.924Z"
   },
   {
    "duration": 205,
    "start_time": "2022-05-30T21:40:35.090Z"
   },
   {
    "duration": 16,
    "start_time": "2022-05-30T21:40:35.298Z"
   },
   {
    "duration": 40,
    "start_time": "2022-05-30T21:40:35.315Z"
   },
   {
    "duration": 40,
    "start_time": "2022-05-31T16:59:43.091Z"
   },
   {
    "duration": 3,
    "start_time": "2022-05-31T18:33:19.102Z"
   },
   {
    "duration": 4,
    "start_time": "2022-05-31T18:33:23.245Z"
   },
   {
    "duration": 3,
    "start_time": "2022-05-31T18:33:45.515Z"
   },
   {
    "duration": 6,
    "start_time": "2022-05-31T19:06:00.876Z"
   },
   {
    "duration": 3,
    "start_time": "2022-05-31T19:06:05.011Z"
   },
   {
    "duration": 65,
    "start_time": "2022-05-31T19:07:05.945Z"
   },
   {
    "duration": 1757,
    "start_time": "2022-05-31T19:10:51.079Z"
   },
   {
    "duration": 5,
    "start_time": "2022-05-31T19:10:52.838Z"
   },
   {
    "duration": 5,
    "start_time": "2022-05-31T19:10:52.844Z"
   },
   {
    "duration": 68,
    "start_time": "2022-05-31T19:10:52.850Z"
   },
   {
    "duration": 19,
    "start_time": "2022-05-31T19:10:52.920Z"
   },
   {
    "duration": 89,
    "start_time": "2022-05-31T19:10:52.940Z"
   },
   {
    "duration": 14,
    "start_time": "2022-05-31T19:10:53.031Z"
   },
   {
    "duration": 15,
    "start_time": "2022-05-31T19:10:53.046Z"
   },
   {
    "duration": 47,
    "start_time": "2022-05-31T19:10:53.064Z"
   },
   {
    "duration": 10,
    "start_time": "2022-05-31T19:10:53.113Z"
   },
   {
    "duration": 5,
    "start_time": "2022-05-31T19:10:53.125Z"
   },
   {
    "duration": 20,
    "start_time": "2022-05-31T19:10:53.131Z"
   },
   {
    "duration": 33,
    "start_time": "2022-05-31T19:10:53.153Z"
   },
   {
    "duration": 6,
    "start_time": "2022-05-31T19:10:53.196Z"
   },
   {
    "duration": 8,
    "start_time": "2022-05-31T19:10:53.204Z"
   },
   {
    "duration": 10,
    "start_time": "2022-05-31T19:10:53.214Z"
   },
   {
    "duration": 5,
    "start_time": "2022-05-31T19:10:53.225Z"
   },
   {
    "duration": 5,
    "start_time": "2022-05-31T19:10:53.231Z"
   },
   {
    "duration": 6,
    "start_time": "2022-05-31T19:10:53.238Z"
   },
   {
    "duration": 27,
    "start_time": "2022-05-31T19:10:53.254Z"
   },
   {
    "duration": 25,
    "start_time": "2022-05-31T19:10:53.282Z"
   },
   {
    "duration": 12,
    "start_time": "2022-05-31T19:10:53.309Z"
   },
   {
    "duration": 14,
    "start_time": "2022-05-31T19:10:53.322Z"
   },
   {
    "duration": 36,
    "start_time": "2022-05-31T19:10:53.337Z"
   },
   {
    "duration": 26,
    "start_time": "2022-05-31T19:10:53.378Z"
   },
   {
    "duration": 6,
    "start_time": "2022-05-31T19:10:53.407Z"
   },
   {
    "duration": 14,
    "start_time": "2022-05-31T19:10:53.414Z"
   },
   {
    "duration": 367,
    "start_time": "2022-05-31T19:10:53.429Z"
   },
   {
    "duration": 513,
    "start_time": "2022-05-31T19:10:53.798Z"
   },
   {
    "duration": 8,
    "start_time": "2022-05-31T19:10:54.313Z"
   },
   {
    "duration": 657,
    "start_time": "2022-05-31T19:10:54.323Z"
   },
   {
    "duration": 267,
    "start_time": "2022-05-31T19:10:54.985Z"
   },
   {
    "duration": 128,
    "start_time": "2022-05-31T19:10:55.261Z"
   },
   {
    "duration": 12,
    "start_time": "2022-05-31T19:10:55.391Z"
   },
   {
    "duration": 285,
    "start_time": "2022-05-31T19:10:55.404Z"
   },
   {
    "duration": 3,
    "start_time": "2022-05-31T19:10:55.690Z"
   },
   {
    "duration": 7,
    "start_time": "2022-05-31T19:10:55.694Z"
   },
   {
    "duration": 8,
    "start_time": "2022-05-31T19:10:55.703Z"
   },
   {
    "duration": 10,
    "start_time": "2022-05-31T19:10:55.713Z"
   },
   {
    "duration": 10,
    "start_time": "2022-05-31T19:10:55.724Z"
   },
   {
    "duration": 8,
    "start_time": "2022-05-31T19:10:55.738Z"
   },
   {
    "duration": 40,
    "start_time": "2022-05-31T19:10:55.747Z"
   },
   {
    "duration": 7,
    "start_time": "2022-05-31T19:10:55.788Z"
   },
   {
    "duration": 9,
    "start_time": "2022-05-31T19:10:55.796Z"
   },
   {
    "duration": 7,
    "start_time": "2022-05-31T19:10:55.806Z"
   },
   {
    "duration": 880,
    "start_time": "2022-05-31T19:10:55.814Z"
   },
   {
    "duration": 187,
    "start_time": "2022-05-31T19:10:56.695Z"
   },
   {
    "duration": 48,
    "start_time": "2022-05-31T19:10:56.886Z"
   },
   {
    "duration": 84,
    "start_time": "2022-05-31T19:10:56.937Z"
   },
   {
    "duration": 19,
    "start_time": "2022-05-31T19:10:57.023Z"
   },
   {
    "duration": 20,
    "start_time": "2022-05-31T19:10:57.044Z"
   },
   {
    "duration": 53,
    "start_time": "2022-05-31T19:10:57.066Z"
   },
   {
    "duration": 2378,
    "start_time": "2022-05-31T19:10:57.120Z"
   },
   {
    "duration": 497,
    "start_time": "2022-05-31T19:10:59.499Z"
   },
   {
    "duration": 445,
    "start_time": "2022-05-31T19:10:59.998Z"
   },
   {
    "duration": 5,
    "start_time": "2022-05-31T19:11:00.445Z"
   },
   {
    "duration": 461,
    "start_time": "2022-05-31T19:11:00.457Z"
   },
   {
    "duration": 197,
    "start_time": "2022-05-31T19:11:00.920Z"
   },
   {
    "duration": 171,
    "start_time": "2022-05-31T19:11:01.119Z"
   },
   {
    "duration": 225,
    "start_time": "2022-05-31T19:11:01.292Z"
   },
   {
    "duration": 225,
    "start_time": "2022-05-31T19:11:01.519Z"
   },
   {
    "duration": 3,
    "start_time": "2022-05-31T19:11:01.746Z"
   },
   {
    "duration": 123,
    "start_time": "2022-05-31T19:11:01.751Z"
   },
   {
    "duration": 29,
    "start_time": "2022-05-31T19:11:01.878Z"
   },
   {
    "duration": 224,
    "start_time": "2022-05-31T19:11:01.909Z"
   },
   {
    "duration": 21,
    "start_time": "2022-05-31T19:11:02.135Z"
   },
   {
    "duration": 40,
    "start_time": "2022-05-31T19:11:02.159Z"
   },
   {
    "duration": 15,
    "start_time": "2022-05-31T19:11:02.203Z"
   },
   {
    "duration": 25,
    "start_time": "2022-05-31T19:11:02.220Z"
   },
   {
    "duration": 272,
    "start_time": "2022-05-31T19:11:02.247Z"
   },
   {
    "duration": 9,
    "start_time": "2022-05-31T19:11:02.521Z"
   },
   {
    "duration": 593,
    "start_time": "2022-05-31T19:11:02.532Z"
   },
   {
    "duration": 211,
    "start_time": "2022-05-31T19:11:03.127Z"
   },
   {
    "duration": 212,
    "start_time": "2022-05-31T19:11:03.340Z"
   },
   {
    "duration": 37,
    "start_time": "2022-05-31T19:11:03.554Z"
   },
   {
    "duration": 38,
    "start_time": "2022-05-31T19:11:03.592Z"
   },
   {
    "duration": 28,
    "start_time": "2022-05-31T19:18:36.451Z"
   },
   {
    "duration": 36,
    "start_time": "2022-05-31T19:18:51.026Z"
   },
   {
    "duration": 6,
    "start_time": "2022-05-31T19:26:21.317Z"
   },
   {
    "duration": 24,
    "start_time": "2022-05-31T19:27:39.775Z"
   },
   {
    "duration": 39,
    "start_time": "2022-05-31T19:28:34.886Z"
   },
   {
    "duration": 49,
    "start_time": "2022-05-31T19:31:48.320Z"
   },
   {
    "duration": 77,
    "start_time": "2022-05-31T19:33:46.041Z"
   },
   {
    "duration": 96,
    "start_time": "2022-05-31T19:35:01.318Z"
   },
   {
    "duration": 81,
    "start_time": "2022-05-31T19:35:23.540Z"
   },
   {
    "duration": 49,
    "start_time": "2022-05-31T19:35:27.961Z"
   },
   {
    "duration": 46,
    "start_time": "2022-05-31T19:36:32.442Z"
   },
   {
    "duration": 791,
    "start_time": "2022-05-31T19:36:55.730Z"
   },
   {
    "duration": 7,
    "start_time": "2022-05-31T19:36:56.522Z"
   },
   {
    "duration": 3,
    "start_time": "2022-05-31T19:36:56.530Z"
   },
   {
    "duration": 52,
    "start_time": "2022-05-31T19:36:56.535Z"
   },
   {
    "duration": 13,
    "start_time": "2022-05-31T19:36:56.589Z"
   },
   {
    "duration": 95,
    "start_time": "2022-05-31T19:36:56.603Z"
   },
   {
    "duration": 11,
    "start_time": "2022-05-31T19:36:56.700Z"
   },
   {
    "duration": 4,
    "start_time": "2022-05-31T19:36:56.713Z"
   },
   {
    "duration": 6,
    "start_time": "2022-05-31T19:36:56.718Z"
   },
   {
    "duration": 5,
    "start_time": "2022-05-31T19:36:56.726Z"
   },
   {
    "duration": 15,
    "start_time": "2022-05-31T19:36:56.754Z"
   },
   {
    "duration": 13,
    "start_time": "2022-05-31T19:36:56.771Z"
   },
   {
    "duration": 8,
    "start_time": "2022-05-31T19:36:56.786Z"
   },
   {
    "duration": 10,
    "start_time": "2022-05-31T19:36:56.796Z"
   },
   {
    "duration": 8,
    "start_time": "2022-05-31T19:36:56.807Z"
   },
   {
    "duration": 5,
    "start_time": "2022-05-31T19:36:56.816Z"
   },
   {
    "duration": 4,
    "start_time": "2022-05-31T19:36:56.823Z"
   },
   {
    "duration": 17,
    "start_time": "2022-05-31T19:36:56.854Z"
   },
   {
    "duration": 5,
    "start_time": "2022-05-31T19:36:56.872Z"
   },
   {
    "duration": 13,
    "start_time": "2022-05-31T19:36:56.879Z"
   },
   {
    "duration": 12,
    "start_time": "2022-05-31T19:36:56.893Z"
   },
   {
    "duration": 8,
    "start_time": "2022-05-31T19:36:56.906Z"
   },
   {
    "duration": 9,
    "start_time": "2022-05-31T19:36:56.915Z"
   },
   {
    "duration": 35,
    "start_time": "2022-05-31T19:36:56.925Z"
   },
   {
    "duration": 21,
    "start_time": "2022-05-31T19:36:56.964Z"
   },
   {
    "duration": 5,
    "start_time": "2022-05-31T19:36:56.986Z"
   },
   {
    "duration": 14,
    "start_time": "2022-05-31T19:36:56.992Z"
   },
   {
    "duration": 332,
    "start_time": "2022-05-31T19:36:57.010Z"
   },
   {
    "duration": 475,
    "start_time": "2022-05-31T19:36:57.344Z"
   },
   {
    "duration": 10,
    "start_time": "2022-05-31T19:36:57.820Z"
   },
   {
    "duration": 598,
    "start_time": "2022-05-31T19:36:57.831Z"
   },
   {
    "duration": 260,
    "start_time": "2022-05-31T19:36:58.431Z"
   },
   {
    "duration": 117,
    "start_time": "2022-05-31T19:36:58.693Z"
   },
   {
    "duration": 12,
    "start_time": "2022-05-31T19:36:58.812Z"
   },
   {
    "duration": 230,
    "start_time": "2022-05-31T19:36:58.825Z"
   },
   {
    "duration": 5,
    "start_time": "2022-05-31T19:36:59.065Z"
   },
   {
    "duration": 7,
    "start_time": "2022-05-31T19:36:59.072Z"
   },
   {
    "duration": 6,
    "start_time": "2022-05-31T19:36:59.081Z"
   },
   {
    "duration": 9,
    "start_time": "2022-05-31T19:36:59.089Z"
   },
   {
    "duration": 8,
    "start_time": "2022-05-31T19:36:59.100Z"
   },
   {
    "duration": 5,
    "start_time": "2022-05-31T19:36:59.110Z"
   },
   {
    "duration": 12,
    "start_time": "2022-05-31T19:36:59.116Z"
   },
   {
    "duration": 8,
    "start_time": "2022-05-31T19:36:59.130Z"
   },
   {
    "duration": 12,
    "start_time": "2022-05-31T19:36:59.139Z"
   },
   {
    "duration": 26,
    "start_time": "2022-05-31T19:36:59.153Z"
   },
   {
    "duration": 808,
    "start_time": "2022-05-31T19:36:59.182Z"
   },
   {
    "duration": 92,
    "start_time": "2022-05-31T19:36:59.992Z"
   },
   {
    "duration": 0,
    "start_time": "2022-05-31T19:37:00.086Z"
   },
   {
    "duration": 0,
    "start_time": "2022-05-31T19:37:00.087Z"
   },
   {
    "duration": 0,
    "start_time": "2022-05-31T19:37:00.089Z"
   },
   {
    "duration": 0,
    "start_time": "2022-05-31T19:37:00.090Z"
   },
   {
    "duration": 0,
    "start_time": "2022-05-31T19:37:00.092Z"
   },
   {
    "duration": 0,
    "start_time": "2022-05-31T19:37:00.093Z"
   },
   {
    "duration": 0,
    "start_time": "2022-05-31T19:37:00.094Z"
   },
   {
    "duration": 0,
    "start_time": "2022-05-31T19:37:00.096Z"
   },
   {
    "duration": 0,
    "start_time": "2022-05-31T19:37:00.097Z"
   },
   {
    "duration": 0,
    "start_time": "2022-05-31T19:37:00.099Z"
   },
   {
    "duration": 0,
    "start_time": "2022-05-31T19:37:00.100Z"
   },
   {
    "duration": 1,
    "start_time": "2022-05-31T19:37:00.101Z"
   },
   {
    "duration": 0,
    "start_time": "2022-05-31T19:37:00.103Z"
   },
   {
    "duration": 0,
    "start_time": "2022-05-31T19:37:00.104Z"
   },
   {
    "duration": 0,
    "start_time": "2022-05-31T19:37:00.105Z"
   },
   {
    "duration": 0,
    "start_time": "2022-05-31T19:37:00.107Z"
   },
   {
    "duration": 0,
    "start_time": "2022-05-31T19:37:00.108Z"
   },
   {
    "duration": 0,
    "start_time": "2022-05-31T19:37:00.109Z"
   },
   {
    "duration": 0,
    "start_time": "2022-05-31T19:37:00.110Z"
   },
   {
    "duration": 0,
    "start_time": "2022-05-31T19:37:00.111Z"
   },
   {
    "duration": 0,
    "start_time": "2022-05-31T19:37:00.156Z"
   },
   {
    "duration": 0,
    "start_time": "2022-05-31T19:37:00.159Z"
   },
   {
    "duration": 0,
    "start_time": "2022-05-31T19:37:00.159Z"
   },
   {
    "duration": 0,
    "start_time": "2022-05-31T19:37:00.160Z"
   },
   {
    "duration": 0,
    "start_time": "2022-05-31T19:37:00.161Z"
   },
   {
    "duration": 0,
    "start_time": "2022-05-31T19:37:00.163Z"
   },
   {
    "duration": 0,
    "start_time": "2022-05-31T19:37:00.166Z"
   },
   {
    "duration": 0,
    "start_time": "2022-05-31T19:37:00.166Z"
   },
   {
    "duration": 0,
    "start_time": "2022-05-31T19:37:00.167Z"
   },
   {
    "duration": 0,
    "start_time": "2022-05-31T19:37:00.168Z"
   },
   {
    "duration": 0,
    "start_time": "2022-05-31T19:37:00.168Z"
   },
   {
    "duration": 788,
    "start_time": "2022-05-31T19:38:26.346Z"
   },
   {
    "duration": 4,
    "start_time": "2022-05-31T19:38:27.136Z"
   },
   {
    "duration": 6,
    "start_time": "2022-05-31T19:38:27.142Z"
   },
   {
    "duration": 45,
    "start_time": "2022-05-31T19:38:27.149Z"
   },
   {
    "duration": 15,
    "start_time": "2022-05-31T19:38:27.196Z"
   },
   {
    "duration": 88,
    "start_time": "2022-05-31T19:38:27.213Z"
   },
   {
    "duration": 12,
    "start_time": "2022-05-31T19:38:27.303Z"
   },
   {
    "duration": 4,
    "start_time": "2022-05-31T19:38:27.316Z"
   },
   {
    "duration": 6,
    "start_time": "2022-05-31T19:38:27.321Z"
   },
   {
    "duration": 27,
    "start_time": "2022-05-31T19:38:27.328Z"
   },
   {
    "duration": 6,
    "start_time": "2022-05-31T19:38:27.367Z"
   },
   {
    "duration": 14,
    "start_time": "2022-05-31T19:38:27.375Z"
   },
   {
    "duration": 8,
    "start_time": "2022-05-31T19:38:27.390Z"
   },
   {
    "duration": 6,
    "start_time": "2022-05-31T19:38:27.401Z"
   },
   {
    "duration": 9,
    "start_time": "2022-05-31T19:38:27.408Z"
   },
   {
    "duration": 6,
    "start_time": "2022-05-31T19:38:27.418Z"
   },
   {
    "duration": 36,
    "start_time": "2022-05-31T19:38:27.425Z"
   },
   {
    "duration": 4,
    "start_time": "2022-05-31T19:38:27.467Z"
   },
   {
    "duration": 7,
    "start_time": "2022-05-31T19:38:27.473Z"
   },
   {
    "duration": 14,
    "start_time": "2022-05-31T19:38:27.482Z"
   },
   {
    "duration": 12,
    "start_time": "2022-05-31T19:38:27.497Z"
   },
   {
    "duration": 8,
    "start_time": "2022-05-31T19:38:27.511Z"
   },
   {
    "duration": 9,
    "start_time": "2022-05-31T19:38:27.520Z"
   },
   {
    "duration": 42,
    "start_time": "2022-05-31T19:38:27.530Z"
   },
   {
    "duration": 19,
    "start_time": "2022-05-31T19:38:27.574Z"
   },
   {
    "duration": 6,
    "start_time": "2022-05-31T19:38:27.594Z"
   },
   {
    "duration": 13,
    "start_time": "2022-05-31T19:38:27.602Z"
   },
   {
    "duration": 322,
    "start_time": "2022-05-31T19:38:27.617Z"
   },
   {
    "duration": 469,
    "start_time": "2022-05-31T19:38:27.941Z"
   },
   {
    "duration": 7,
    "start_time": "2022-05-31T19:38:28.412Z"
   },
   {
    "duration": 549,
    "start_time": "2022-05-31T19:38:28.421Z"
   },
   {
    "duration": 351,
    "start_time": "2022-05-31T19:38:28.972Z"
   },
   {
    "duration": 115,
    "start_time": "2022-05-31T19:38:29.324Z"
   },
   {
    "duration": 27,
    "start_time": "2022-05-31T19:38:29.440Z"
   },
   {
    "duration": 214,
    "start_time": "2022-05-31T19:38:29.469Z"
   },
   {
    "duration": 2,
    "start_time": "2022-05-31T19:38:29.685Z"
   },
   {
    "duration": 4,
    "start_time": "2022-05-31T19:38:29.689Z"
   },
   {
    "duration": 5,
    "start_time": "2022-05-31T19:38:29.694Z"
   },
   {
    "duration": 7,
    "start_time": "2022-05-31T19:38:29.700Z"
   },
   {
    "duration": 6,
    "start_time": "2022-05-31T19:38:29.708Z"
   },
   {
    "duration": 7,
    "start_time": "2022-05-31T19:38:29.718Z"
   },
   {
    "duration": 15,
    "start_time": "2022-05-31T19:38:29.727Z"
   },
   {
    "duration": 25,
    "start_time": "2022-05-31T19:38:29.743Z"
   },
   {
    "duration": 7,
    "start_time": "2022-05-31T19:38:29.770Z"
   },
   {
    "duration": 5,
    "start_time": "2022-05-31T19:38:29.779Z"
   },
   {
    "duration": 763,
    "start_time": "2022-05-31T19:38:29.786Z"
   },
   {
    "duration": 38,
    "start_time": "2022-05-31T19:38:30.551Z"
   },
   {
    "duration": 44,
    "start_time": "2022-05-31T19:38:30.590Z"
   },
   {
    "duration": 195,
    "start_time": "2022-05-31T19:38:30.636Z"
   },
   {
    "duration": 58,
    "start_time": "2022-05-31T19:38:30.833Z"
   },
   {
    "duration": 78,
    "start_time": "2022-05-31T19:38:30.893Z"
   },
   {
    "duration": 20,
    "start_time": "2022-05-31T19:38:30.972Z"
   },
   {
    "duration": 9,
    "start_time": "2022-05-31T19:38:30.994Z"
   },
   {
    "duration": 64,
    "start_time": "2022-05-31T19:38:31.005Z"
   },
   {
    "duration": 2231,
    "start_time": "2022-05-31T19:38:31.071Z"
   },
   {
    "duration": 446,
    "start_time": "2022-05-31T19:38:33.303Z"
   },
   {
    "duration": 443,
    "start_time": "2022-05-31T19:38:33.751Z"
   },
   {
    "duration": 6,
    "start_time": "2022-05-31T19:38:34.196Z"
   },
   {
    "duration": 421,
    "start_time": "2022-05-31T19:38:34.204Z"
   },
   {
    "duration": 168,
    "start_time": "2022-05-31T19:38:34.627Z"
   },
   {
    "duration": 147,
    "start_time": "2022-05-31T19:38:34.796Z"
   },
   {
    "duration": 156,
    "start_time": "2022-05-31T19:38:34.944Z"
   },
   {
    "duration": 157,
    "start_time": "2022-05-31T19:38:35.101Z"
   },
   {
    "duration": 3,
    "start_time": "2022-05-31T19:38:35.259Z"
   },
   {
    "duration": 63,
    "start_time": "2022-05-31T19:38:35.263Z"
   },
   {
    "duration": 28,
    "start_time": "2022-05-31T19:38:35.328Z"
   },
   {
    "duration": 177,
    "start_time": "2022-05-31T19:38:35.358Z"
   },
   {
    "duration": 31,
    "start_time": "2022-05-31T19:38:35.536Z"
   },
   {
    "duration": 14,
    "start_time": "2022-05-31T19:38:35.568Z"
   },
   {
    "duration": 9,
    "start_time": "2022-05-31T19:38:35.583Z"
   },
   {
    "duration": 17,
    "start_time": "2022-05-31T19:38:35.594Z"
   },
   {
    "duration": 193,
    "start_time": "2022-05-31T19:38:35.612Z"
   },
   {
    "duration": 7,
    "start_time": "2022-05-31T19:38:35.806Z"
   },
   {
    "duration": 421,
    "start_time": "2022-05-31T19:38:35.815Z"
   },
   {
    "duration": 164,
    "start_time": "2022-05-31T19:38:36.238Z"
   },
   {
    "duration": 165,
    "start_time": "2022-05-31T19:38:36.403Z"
   },
   {
    "duration": 14,
    "start_time": "2022-05-31T19:38:36.570Z"
   },
   {
    "duration": 21,
    "start_time": "2022-05-31T19:38:36.585Z"
   },
   {
    "duration": 48,
    "start_time": "2022-05-31T19:40:36.293Z"
   },
   {
    "duration": 90,
    "start_time": "2022-05-31T19:43:02.731Z"
   },
   {
    "duration": 63,
    "start_time": "2022-05-31T19:44:10.061Z"
   },
   {
    "duration": 2,
    "start_time": "2022-05-31T20:01:47.513Z"
   },
   {
    "duration": 9,
    "start_time": "2022-05-31T20:23:21.990Z"
   },
   {
    "duration": 8,
    "start_time": "2022-05-31T20:23:32.932Z"
   },
   {
    "duration": 4,
    "start_time": "2022-05-31T20:23:39.772Z"
   },
   {
    "duration": 5,
    "start_time": "2022-05-31T20:26:06.466Z"
   },
   {
    "duration": 139,
    "start_time": "2022-05-31T20:28:20.023Z"
   },
   {
    "duration": 23,
    "start_time": "2022-05-31T20:36:24.784Z"
   },
   {
    "duration": 12,
    "start_time": "2022-05-31T20:36:56.377Z"
   },
   {
    "duration": 2,
    "start_time": "2022-05-31T20:37:11.803Z"
   },
   {
    "duration": 147,
    "start_time": "2022-05-31T20:37:14.103Z"
   },
   {
    "duration": 3,
    "start_time": "2022-05-31T20:38:13.410Z"
   },
   {
    "duration": 146,
    "start_time": "2022-05-31T20:38:26.181Z"
   },
   {
    "duration": 13,
    "start_time": "2022-05-31T20:38:29.967Z"
   },
   {
    "duration": 63,
    "start_time": "2022-05-31T20:38:51.777Z"
   },
   {
    "duration": 3,
    "start_time": "2022-05-31T20:39:22.069Z"
   },
   {
    "duration": 148,
    "start_time": "2022-05-31T20:39:24.328Z"
   },
   {
    "duration": 3,
    "start_time": "2022-05-31T20:39:48.087Z"
   },
   {
    "duration": 143,
    "start_time": "2022-05-31T20:39:50.322Z"
   },
   {
    "duration": 3,
    "start_time": "2022-05-31T20:41:57.680Z"
   },
   {
    "duration": 150,
    "start_time": "2022-05-31T20:42:00.555Z"
   },
   {
    "duration": 13,
    "start_time": "2022-05-31T20:44:17.384Z"
   },
   {
    "duration": 809,
    "start_time": "2022-05-31T20:45:37.779Z"
   },
   {
    "duration": 5,
    "start_time": "2022-05-31T20:45:38.590Z"
   },
   {
    "duration": 5,
    "start_time": "2022-05-31T20:45:38.597Z"
   },
   {
    "duration": 35,
    "start_time": "2022-05-31T20:45:38.604Z"
   },
   {
    "duration": 39,
    "start_time": "2022-05-31T20:45:38.641Z"
   },
   {
    "duration": 91,
    "start_time": "2022-05-31T20:45:38.684Z"
   },
   {
    "duration": 14,
    "start_time": "2022-05-31T20:45:38.782Z"
   },
   {
    "duration": 5,
    "start_time": "2022-05-31T20:45:38.798Z"
   },
   {
    "duration": 8,
    "start_time": "2022-05-31T20:45:38.805Z"
   },
   {
    "duration": 10,
    "start_time": "2022-05-31T20:45:38.814Z"
   },
   {
    "duration": 5,
    "start_time": "2022-05-31T20:45:38.826Z"
   },
   {
    "duration": 24,
    "start_time": "2022-05-31T20:45:38.832Z"
   },
   {
    "duration": 14,
    "start_time": "2022-05-31T20:45:38.859Z"
   },
   {
    "duration": 19,
    "start_time": "2022-05-31T20:45:38.877Z"
   },
   {
    "duration": 14,
    "start_time": "2022-05-31T20:45:38.898Z"
   },
   {
    "duration": 6,
    "start_time": "2022-05-31T20:45:38.913Z"
   },
   {
    "duration": 5,
    "start_time": "2022-05-31T20:45:38.921Z"
   },
   {
    "duration": 6,
    "start_time": "2022-05-31T20:45:38.927Z"
   },
   {
    "duration": 8,
    "start_time": "2022-05-31T20:45:38.935Z"
   },
   {
    "duration": 21,
    "start_time": "2022-05-31T20:45:38.944Z"
   },
   {
    "duration": 28,
    "start_time": "2022-05-31T20:45:38.966Z"
   },
   {
    "duration": 8,
    "start_time": "2022-05-31T20:45:38.995Z"
   },
   {
    "duration": 10,
    "start_time": "2022-05-31T20:45:39.005Z"
   },
   {
    "duration": 12,
    "start_time": "2022-05-31T20:45:39.016Z"
   },
   {
    "duration": 47,
    "start_time": "2022-05-31T20:45:39.029Z"
   },
   {
    "duration": 7,
    "start_time": "2022-05-31T20:45:39.080Z"
   },
   {
    "duration": 19,
    "start_time": "2022-05-31T20:45:39.089Z"
   },
   {
    "duration": 385,
    "start_time": "2022-05-31T20:45:39.109Z"
   },
   {
    "duration": 518,
    "start_time": "2022-05-31T20:45:39.495Z"
   },
   {
    "duration": 9,
    "start_time": "2022-05-31T20:45:40.015Z"
   },
   {
    "duration": 601,
    "start_time": "2022-05-31T20:45:40.026Z"
   },
   {
    "duration": 357,
    "start_time": "2022-05-31T20:45:40.628Z"
   },
   {
    "duration": 126,
    "start_time": "2022-05-31T20:45:40.987Z"
   },
   {
    "duration": 13,
    "start_time": "2022-05-31T20:45:41.115Z"
   },
   {
    "duration": 265,
    "start_time": "2022-05-31T20:45:41.129Z"
   },
   {
    "duration": 2,
    "start_time": "2022-05-31T20:45:41.398Z"
   },
   {
    "duration": 8,
    "start_time": "2022-05-31T20:45:41.402Z"
   },
   {
    "duration": 12,
    "start_time": "2022-05-31T20:45:41.411Z"
   },
   {
    "duration": 10,
    "start_time": "2022-05-31T20:45:41.425Z"
   },
   {
    "duration": 9,
    "start_time": "2022-05-31T20:45:41.437Z"
   },
   {
    "duration": 22,
    "start_time": "2022-05-31T20:45:41.451Z"
   },
   {
    "duration": 15,
    "start_time": "2022-05-31T20:45:41.478Z"
   },
   {
    "duration": 9,
    "start_time": "2022-05-31T20:45:41.495Z"
   },
   {
    "duration": 18,
    "start_time": "2022-05-31T20:45:41.506Z"
   },
   {
    "duration": 8,
    "start_time": "2022-05-31T20:45:41.526Z"
   },
   {
    "duration": 838,
    "start_time": "2022-05-31T20:45:41.536Z"
   },
   {
    "duration": 32,
    "start_time": "2022-05-31T20:45:42.381Z"
   },
   {
    "duration": 46,
    "start_time": "2022-05-31T20:45:42.414Z"
   },
   {
    "duration": 14,
    "start_time": "2022-05-31T20:45:42.465Z"
   },
   {
    "duration": 162,
    "start_time": "2022-05-31T20:45:42.482Z"
   },
   {
    "duration": 22,
    "start_time": "2022-05-31T20:45:42.646Z"
   },
   {
    "duration": 76,
    "start_time": "2022-05-31T20:45:42.677Z"
   },
   {
    "duration": 23,
    "start_time": "2022-05-31T20:45:42.754Z"
   },
   {
    "duration": 21,
    "start_time": "2022-05-31T20:45:42.778Z"
   },
   {
    "duration": 52,
    "start_time": "2022-05-31T20:45:42.801Z"
   },
   {
    "duration": 2248,
    "start_time": "2022-05-31T20:45:42.856Z"
   },
   {
    "duration": 433,
    "start_time": "2022-05-31T20:45:45.106Z"
   },
   {
    "duration": 423,
    "start_time": "2022-05-31T20:45:45.540Z"
   },
   {
    "duration": 10,
    "start_time": "2022-05-31T20:45:45.965Z"
   },
   {
    "duration": 428,
    "start_time": "2022-05-31T20:45:45.980Z"
   },
   {
    "duration": 159,
    "start_time": "2022-05-31T20:45:46.409Z"
   },
   {
    "duration": 161,
    "start_time": "2022-05-31T20:45:46.570Z"
   },
   {
    "duration": 185,
    "start_time": "2022-05-31T20:45:46.732Z"
   },
   {
    "duration": 164,
    "start_time": "2022-05-31T20:45:46.919Z"
   },
   {
    "duration": 2,
    "start_time": "2022-05-31T20:45:47.085Z"
   },
   {
    "duration": 68,
    "start_time": "2022-05-31T20:45:47.089Z"
   },
   {
    "duration": 31,
    "start_time": "2022-05-31T20:45:47.159Z"
   },
   {
    "duration": 195,
    "start_time": "2022-05-31T20:45:47.191Z"
   },
   {
    "duration": 17,
    "start_time": "2022-05-31T20:45:47.388Z"
   },
   {
    "duration": 13,
    "start_time": "2022-05-31T20:45:47.407Z"
   },
   {
    "duration": 9,
    "start_time": "2022-05-31T20:45:47.422Z"
   },
   {
    "duration": 50,
    "start_time": "2022-05-31T20:45:47.433Z"
   },
   {
    "duration": 220,
    "start_time": "2022-05-31T20:45:47.486Z"
   },
   {
    "duration": 8,
    "start_time": "2022-05-31T20:45:47.708Z"
   },
   {
    "duration": 462,
    "start_time": "2022-05-31T20:45:47.718Z"
   },
   {
    "duration": 195,
    "start_time": "2022-05-31T20:45:48.186Z"
   },
   {
    "duration": 175,
    "start_time": "2022-05-31T20:45:48.386Z"
   },
   {
    "duration": 21,
    "start_time": "2022-05-31T20:45:48.562Z"
   },
   {
    "duration": 25,
    "start_time": "2022-05-31T20:45:48.584Z"
   },
   {
    "duration": 3,
    "start_time": "2022-05-31T20:49:29.453Z"
   },
   {
    "duration": 171,
    "start_time": "2022-05-31T20:49:31.413Z"
   },
   {
    "duration": 823,
    "start_time": "2022-05-31T20:50:02.823Z"
   },
   {
    "duration": 6,
    "start_time": "2022-05-31T20:50:03.648Z"
   },
   {
    "duration": 6,
    "start_time": "2022-05-31T20:50:03.655Z"
   },
   {
    "duration": 34,
    "start_time": "2022-05-31T20:50:03.663Z"
   },
   {
    "duration": 14,
    "start_time": "2022-05-31T20:50:03.699Z"
   },
   {
    "duration": 94,
    "start_time": "2022-05-31T20:50:03.715Z"
   },
   {
    "duration": 13,
    "start_time": "2022-05-31T20:50:03.811Z"
   },
   {
    "duration": 28,
    "start_time": "2022-05-31T20:50:03.826Z"
   },
   {
    "duration": 4,
    "start_time": "2022-05-31T20:50:03.856Z"
   },
   {
    "duration": 10,
    "start_time": "2022-05-31T20:50:03.861Z"
   },
   {
    "duration": 8,
    "start_time": "2022-05-31T20:50:03.872Z"
   },
   {
    "duration": 21,
    "start_time": "2022-05-31T20:50:03.881Z"
   },
   {
    "duration": 8,
    "start_time": "2022-05-31T20:50:03.903Z"
   },
   {
    "duration": 6,
    "start_time": "2022-05-31T20:50:03.914Z"
   },
   {
    "duration": 9,
    "start_time": "2022-05-31T20:50:03.921Z"
   },
   {
    "duration": 25,
    "start_time": "2022-05-31T20:50:03.932Z"
   },
   {
    "duration": 4,
    "start_time": "2022-05-31T20:50:03.958Z"
   },
   {
    "duration": 6,
    "start_time": "2022-05-31T20:50:03.963Z"
   },
   {
    "duration": 7,
    "start_time": "2022-05-31T20:50:03.971Z"
   },
   {
    "duration": 14,
    "start_time": "2022-05-31T20:50:03.979Z"
   },
   {
    "duration": 13,
    "start_time": "2022-05-31T20:50:03.994Z"
   },
   {
    "duration": 9,
    "start_time": "2022-05-31T20:50:04.008Z"
   },
   {
    "duration": 44,
    "start_time": "2022-05-31T20:50:04.018Z"
   },
   {
    "duration": 14,
    "start_time": "2022-05-31T20:50:04.064Z"
   },
   {
    "duration": 20,
    "start_time": "2022-05-31T20:50:04.079Z"
   },
   {
    "duration": 6,
    "start_time": "2022-05-31T20:50:04.100Z"
   },
   {
    "duration": 14,
    "start_time": "2022-05-31T20:50:04.107Z"
   },
   {
    "duration": 337,
    "start_time": "2022-05-31T20:50:04.122Z"
   },
   {
    "duration": 498,
    "start_time": "2022-05-31T20:50:04.461Z"
   },
   {
    "duration": 8,
    "start_time": "2022-05-31T20:50:04.961Z"
   },
   {
    "duration": 524,
    "start_time": "2022-05-31T20:50:04.971Z"
   },
   {
    "duration": 331,
    "start_time": "2022-05-31T20:50:05.496Z"
   },
   {
    "duration": 123,
    "start_time": "2022-05-31T20:50:05.828Z"
   },
   {
    "duration": 14,
    "start_time": "2022-05-31T20:50:05.953Z"
   },
   {
    "duration": 228,
    "start_time": "2022-05-31T20:50:05.968Z"
   },
   {
    "duration": 2,
    "start_time": "2022-05-31T20:50:06.198Z"
   },
   {
    "duration": 4,
    "start_time": "2022-05-31T20:50:06.202Z"
   },
   {
    "duration": 5,
    "start_time": "2022-05-31T20:50:06.208Z"
   },
   {
    "duration": 11,
    "start_time": "2022-05-31T20:50:06.214Z"
   },
   {
    "duration": 6,
    "start_time": "2022-05-31T20:50:06.227Z"
   },
   {
    "duration": 2,
    "start_time": "2022-05-31T20:50:06.237Z"
   },
   {
    "duration": 13,
    "start_time": "2022-05-31T20:50:06.241Z"
   },
   {
    "duration": 6,
    "start_time": "2022-05-31T20:50:06.256Z"
   },
   {
    "duration": 10,
    "start_time": "2022-05-31T20:50:06.264Z"
   },
   {
    "duration": 5,
    "start_time": "2022-05-31T20:50:06.275Z"
   },
   {
    "duration": 725,
    "start_time": "2022-05-31T20:50:06.281Z"
   },
   {
    "duration": 32,
    "start_time": "2022-05-31T20:50:07.008Z"
   },
   {
    "duration": 53,
    "start_time": "2022-05-31T20:50:07.041Z"
   },
   {
    "duration": 3,
    "start_time": "2022-05-31T20:50:07.095Z"
   },
   {
    "duration": 155,
    "start_time": "2022-05-31T20:50:07.100Z"
   },
   {
    "duration": 12,
    "start_time": "2022-05-31T20:50:07.257Z"
   },
   {
    "duration": 62,
    "start_time": "2022-05-31T20:50:07.271Z"
   },
   {
    "duration": 2145,
    "start_time": "2022-05-31T20:50:07.355Z"
   },
   {
    "duration": 427,
    "start_time": "2022-05-31T20:50:09.502Z"
   },
   {
    "duration": 370,
    "start_time": "2022-05-31T20:50:09.931Z"
   },
   {
    "duration": 7,
    "start_time": "2022-05-31T20:50:10.303Z"
   },
   {
    "duration": 388,
    "start_time": "2022-05-31T20:50:10.311Z"
   },
   {
    "duration": 143,
    "start_time": "2022-05-31T20:50:10.701Z"
   },
   {
    "duration": 168,
    "start_time": "2022-05-31T20:50:10.846Z"
   },
   {
    "duration": 158,
    "start_time": "2022-05-31T20:50:11.016Z"
   },
   {
    "duration": 146,
    "start_time": "2022-05-31T20:50:11.176Z"
   },
   {
    "duration": 4,
    "start_time": "2022-05-31T20:50:11.324Z"
   },
   {
    "duration": 82,
    "start_time": "2022-05-31T20:50:11.331Z"
   },
   {
    "duration": 26,
    "start_time": "2022-05-31T20:50:11.415Z"
   },
   {
    "duration": 209,
    "start_time": "2022-05-31T20:50:11.454Z"
   },
   {
    "duration": 14,
    "start_time": "2022-05-31T20:50:11.665Z"
   },
   {
    "duration": 14,
    "start_time": "2022-05-31T20:50:11.680Z"
   },
   {
    "duration": 9,
    "start_time": "2022-05-31T20:50:11.695Z"
   },
   {
    "duration": 17,
    "start_time": "2022-05-31T20:50:11.705Z"
   },
   {
    "duration": 201,
    "start_time": "2022-05-31T20:50:11.724Z"
   },
   {
    "duration": 7,
    "start_time": "2022-05-31T20:50:11.927Z"
   },
   {
    "duration": 398,
    "start_time": "2022-05-31T20:50:11.935Z"
   },
   {
    "duration": 142,
    "start_time": "2022-05-31T20:50:12.335Z"
   },
   {
    "duration": 157,
    "start_time": "2022-05-31T20:50:12.478Z"
   },
   {
    "duration": 28,
    "start_time": "2022-05-31T20:50:12.636Z"
   },
   {
    "duration": 23,
    "start_time": "2022-05-31T20:50:12.665Z"
   },
   {
    "duration": 764,
    "start_time": "2022-05-31T20:53:47.604Z"
   },
   {
    "duration": 6,
    "start_time": "2022-05-31T20:53:48.370Z"
   },
   {
    "duration": 6,
    "start_time": "2022-05-31T20:53:48.377Z"
   },
   {
    "duration": 40,
    "start_time": "2022-05-31T20:53:48.385Z"
   },
   {
    "duration": 35,
    "start_time": "2022-05-31T20:53:48.427Z"
   },
   {
    "duration": 80,
    "start_time": "2022-05-31T20:53:48.464Z"
   },
   {
    "duration": 19,
    "start_time": "2022-05-31T20:53:48.555Z"
   },
   {
    "duration": 6,
    "start_time": "2022-05-31T20:53:48.575Z"
   },
   {
    "duration": 8,
    "start_time": "2022-05-31T20:53:48.582Z"
   },
   {
    "duration": 5,
    "start_time": "2022-05-31T20:53:48.592Z"
   },
   {
    "duration": 6,
    "start_time": "2022-05-31T20:53:48.599Z"
   },
   {
    "duration": 15,
    "start_time": "2022-05-31T20:53:48.607Z"
   },
   {
    "duration": 11,
    "start_time": "2022-05-31T20:53:48.654Z"
   },
   {
    "duration": 6,
    "start_time": "2022-05-31T20:53:48.669Z"
   },
   {
    "duration": 11,
    "start_time": "2022-05-31T20:53:48.676Z"
   },
   {
    "duration": 5,
    "start_time": "2022-05-31T20:53:48.688Z"
   },
   {
    "duration": 4,
    "start_time": "2022-05-31T20:53:48.694Z"
   },
   {
    "duration": 6,
    "start_time": "2022-05-31T20:53:48.700Z"
   },
   {
    "duration": 8,
    "start_time": "2022-05-31T20:53:48.707Z"
   },
   {
    "duration": 41,
    "start_time": "2022-05-31T20:53:48.716Z"
   },
   {
    "duration": 12,
    "start_time": "2022-05-31T20:53:48.759Z"
   },
   {
    "duration": 10,
    "start_time": "2022-05-31T20:53:48.772Z"
   },
   {
    "duration": 10,
    "start_time": "2022-05-31T20:53:48.783Z"
   },
   {
    "duration": 17,
    "start_time": "2022-05-31T20:53:48.794Z"
   },
   {
    "duration": 17,
    "start_time": "2022-05-31T20:53:48.812Z"
   },
   {
    "duration": 26,
    "start_time": "2022-05-31T20:53:48.830Z"
   },
   {
    "duration": 12,
    "start_time": "2022-05-31T20:53:48.858Z"
   },
   {
    "duration": 323,
    "start_time": "2022-05-31T20:53:48.871Z"
   },
   {
    "duration": 452,
    "start_time": "2022-05-31T20:53:49.196Z"
   },
   {
    "duration": 7,
    "start_time": "2022-05-31T20:53:49.654Z"
   },
   {
    "duration": 504,
    "start_time": "2022-05-31T20:53:49.663Z"
   },
   {
    "duration": 307,
    "start_time": "2022-05-31T20:53:50.169Z"
   },
   {
    "duration": 117,
    "start_time": "2022-05-31T20:53:50.477Z"
   },
   {
    "duration": 12,
    "start_time": "2022-05-31T20:53:50.596Z"
   },
   {
    "duration": 211,
    "start_time": "2022-05-31T20:53:50.609Z"
   },
   {
    "duration": 2,
    "start_time": "2022-05-31T20:53:50.822Z"
   },
   {
    "duration": 12,
    "start_time": "2022-05-31T20:53:50.825Z"
   },
   {
    "duration": 6,
    "start_time": "2022-05-31T20:53:50.838Z"
   },
   {
    "duration": 9,
    "start_time": "2022-05-31T20:53:50.846Z"
   },
   {
    "duration": 10,
    "start_time": "2022-05-31T20:53:50.857Z"
   },
   {
    "duration": 4,
    "start_time": "2022-05-31T20:53:50.871Z"
   },
   {
    "duration": 9,
    "start_time": "2022-05-31T20:53:50.877Z"
   },
   {
    "duration": 10,
    "start_time": "2022-05-31T20:53:50.888Z"
   },
   {
    "duration": 12,
    "start_time": "2022-05-31T20:53:50.899Z"
   },
   {
    "duration": 6,
    "start_time": "2022-05-31T20:53:50.912Z"
   },
   {
    "duration": 796,
    "start_time": "2022-05-31T20:53:50.919Z"
   },
   {
    "duration": 40,
    "start_time": "2022-05-31T20:53:51.716Z"
   },
   {
    "duration": 41,
    "start_time": "2022-05-31T20:53:51.757Z"
   },
   {
    "duration": 3,
    "start_time": "2022-05-31T20:53:51.799Z"
   },
   {
    "duration": 145,
    "start_time": "2022-05-31T20:53:51.803Z"
   },
   {
    "duration": 12,
    "start_time": "2022-05-31T20:53:51.954Z"
   },
   {
    "duration": 63,
    "start_time": "2022-05-31T20:53:51.968Z"
   },
   {
    "duration": 2082,
    "start_time": "2022-05-31T20:53:52.032Z"
   },
   {
    "duration": 418,
    "start_time": "2022-05-31T20:53:54.116Z"
   },
   {
    "duration": 407,
    "start_time": "2022-05-31T20:53:54.535Z"
   },
   {
    "duration": 11,
    "start_time": "2022-05-31T20:53:54.944Z"
   },
   {
    "duration": 366,
    "start_time": "2022-05-31T20:53:54.957Z"
   },
   {
    "duration": 161,
    "start_time": "2022-05-31T20:53:55.325Z"
   },
   {
    "duration": 160,
    "start_time": "2022-05-31T20:53:55.488Z"
   },
   {
    "duration": 156,
    "start_time": "2022-05-31T20:53:55.649Z"
   },
   {
    "duration": 150,
    "start_time": "2022-05-31T20:53:55.806Z"
   },
   {
    "duration": 2,
    "start_time": "2022-05-31T20:53:55.958Z"
   },
   {
    "duration": 56,
    "start_time": "2022-05-31T20:53:55.962Z"
   },
   {
    "duration": 35,
    "start_time": "2022-05-31T20:53:56.019Z"
   },
   {
    "duration": 184,
    "start_time": "2022-05-31T20:53:56.056Z"
   },
   {
    "duration": 19,
    "start_time": "2022-05-31T20:53:56.241Z"
   },
   {
    "duration": 13,
    "start_time": "2022-05-31T20:53:56.262Z"
   },
   {
    "duration": 9,
    "start_time": "2022-05-31T20:53:56.276Z"
   },
   {
    "duration": 15,
    "start_time": "2022-05-31T20:53:56.286Z"
   },
   {
    "duration": 187,
    "start_time": "2022-05-31T20:53:56.302Z"
   },
   {
    "duration": 8,
    "start_time": "2022-05-31T20:53:56.490Z"
   },
   {
    "duration": 411,
    "start_time": "2022-05-31T20:53:56.499Z"
   },
   {
    "duration": 164,
    "start_time": "2022-05-31T20:53:56.911Z"
   },
   {
    "duration": 163,
    "start_time": "2022-05-31T20:53:57.076Z"
   },
   {
    "duration": 20,
    "start_time": "2022-05-31T20:53:57.241Z"
   },
   {
    "duration": 22,
    "start_time": "2022-05-31T20:53:57.262Z"
   },
   {
    "duration": 106,
    "start_time": "2022-05-31T20:58:11.363Z"
   },
   {
    "duration": 6,
    "start_time": "2022-05-31T20:58:11.473Z"
   },
   {
    "duration": 10,
    "start_time": "2022-05-31T20:58:11.481Z"
   },
   {
    "duration": 42,
    "start_time": "2022-05-31T20:58:11.493Z"
   },
   {
    "duration": 25,
    "start_time": "2022-05-31T20:58:11.537Z"
   },
   {
    "duration": 103,
    "start_time": "2022-05-31T20:58:11.565Z"
   },
   {
    "duration": 13,
    "start_time": "2022-05-31T20:58:11.670Z"
   },
   {
    "duration": 5,
    "start_time": "2022-05-31T20:58:11.684Z"
   },
   {
    "duration": 6,
    "start_time": "2022-05-31T20:58:11.690Z"
   },
   {
    "duration": 4,
    "start_time": "2022-05-31T20:58:11.699Z"
   },
   {
    "duration": 5,
    "start_time": "2022-05-31T20:58:11.705Z"
   },
   {
    "duration": 59,
    "start_time": "2022-05-31T20:58:11.711Z"
   },
   {
    "duration": 7,
    "start_time": "2022-05-31T20:58:11.772Z"
   },
   {
    "duration": 12,
    "start_time": "2022-05-31T20:58:11.781Z"
   },
   {
    "duration": 10,
    "start_time": "2022-05-31T20:58:11.795Z"
   },
   {
    "duration": 8,
    "start_time": "2022-05-31T20:58:11.806Z"
   },
   {
    "duration": 3,
    "start_time": "2022-05-31T20:58:11.815Z"
   },
   {
    "duration": 6,
    "start_time": "2022-05-31T20:58:11.820Z"
   },
   {
    "duration": 6,
    "start_time": "2022-05-31T20:58:11.827Z"
   },
   {
    "duration": 36,
    "start_time": "2022-05-31T20:58:11.834Z"
   },
   {
    "duration": 11,
    "start_time": "2022-05-31T20:58:11.872Z"
   },
   {
    "duration": 9,
    "start_time": "2022-05-31T20:58:11.884Z"
   },
   {
    "duration": 9,
    "start_time": "2022-05-31T20:58:11.894Z"
   },
   {
    "duration": 17,
    "start_time": "2022-05-31T20:58:11.904Z"
   },
   {
    "duration": 17,
    "start_time": "2022-05-31T20:58:11.922Z"
   },
   {
    "duration": 6,
    "start_time": "2022-05-31T20:58:11.966Z"
   },
   {
    "duration": 14,
    "start_time": "2022-05-31T20:58:11.973Z"
   },
   {
    "duration": 302,
    "start_time": "2022-05-31T20:58:11.990Z"
   },
   {
    "duration": 471,
    "start_time": "2022-05-31T20:58:12.294Z"
   },
   {
    "duration": 10,
    "start_time": "2022-05-31T20:58:12.767Z"
   },
   {
    "duration": 605,
    "start_time": "2022-05-31T20:58:12.778Z"
   },
   {
    "duration": 288,
    "start_time": "2022-05-31T20:58:13.385Z"
   },
   {
    "duration": 115,
    "start_time": "2022-05-31T20:58:13.674Z"
   },
   {
    "duration": 12,
    "start_time": "2022-05-31T20:58:13.790Z"
   },
   {
    "duration": 223,
    "start_time": "2022-05-31T20:58:13.804Z"
   },
   {
    "duration": 3,
    "start_time": "2022-05-31T20:58:14.028Z"
   },
   {
    "duration": 4,
    "start_time": "2022-05-31T20:58:14.032Z"
   },
   {
    "duration": 28,
    "start_time": "2022-05-31T20:58:14.038Z"
   },
   {
    "duration": 7,
    "start_time": "2022-05-31T20:58:14.068Z"
   },
   {
    "duration": 8,
    "start_time": "2022-05-31T20:58:14.077Z"
   },
   {
    "duration": 4,
    "start_time": "2022-05-31T20:58:14.086Z"
   },
   {
    "duration": 8,
    "start_time": "2022-05-31T20:58:14.092Z"
   },
   {
    "duration": 8,
    "start_time": "2022-05-31T20:58:14.101Z"
   },
   {
    "duration": 7,
    "start_time": "2022-05-31T20:58:14.110Z"
   },
   {
    "duration": 5,
    "start_time": "2022-05-31T20:58:14.118Z"
   },
   {
    "duration": 774,
    "start_time": "2022-05-31T20:58:14.124Z"
   },
   {
    "duration": 33,
    "start_time": "2022-05-31T20:58:14.899Z"
   },
   {
    "duration": 61,
    "start_time": "2022-05-31T20:58:14.933Z"
   },
   {
    "duration": 3,
    "start_time": "2022-05-31T20:58:14.996Z"
   },
   {
    "duration": 172,
    "start_time": "2022-05-31T20:58:15.000Z"
   },
   {
    "duration": 14,
    "start_time": "2022-05-31T20:58:15.174Z"
   },
   {
    "duration": 82,
    "start_time": "2022-05-31T20:58:15.190Z"
   },
   {
    "duration": 2221,
    "start_time": "2022-05-31T20:58:15.274Z"
   },
   {
    "duration": 404,
    "start_time": "2022-05-31T20:58:17.497Z"
   },
   {
    "duration": 438,
    "start_time": "2022-05-31T20:58:17.902Z"
   },
   {
    "duration": 14,
    "start_time": "2022-05-31T20:58:18.341Z"
   },
   {
    "duration": 378,
    "start_time": "2022-05-31T20:58:18.358Z"
   },
   {
    "duration": 162,
    "start_time": "2022-05-31T20:58:18.738Z"
   },
   {
    "duration": 160,
    "start_time": "2022-05-31T20:58:18.902Z"
   },
   {
    "duration": 199,
    "start_time": "2022-05-31T20:58:19.067Z"
   },
   {
    "duration": 165,
    "start_time": "2022-05-31T20:58:19.268Z"
   },
   {
    "duration": 3,
    "start_time": "2022-05-31T20:58:19.435Z"
   },
   {
    "duration": 38,
    "start_time": "2022-05-31T20:58:19.439Z"
   },
   {
    "duration": 21,
    "start_time": "2022-05-31T20:58:19.479Z"
   },
   {
    "duration": 191,
    "start_time": "2022-05-31T20:58:19.501Z"
   },
   {
    "duration": 15,
    "start_time": "2022-05-31T20:58:19.693Z"
   },
   {
    "duration": 13,
    "start_time": "2022-05-31T20:58:19.709Z"
   },
   {
    "duration": 9,
    "start_time": "2022-05-31T20:58:19.724Z"
   },
   {
    "duration": 44,
    "start_time": "2022-05-31T20:58:19.734Z"
   },
   {
    "duration": 165,
    "start_time": "2022-05-31T20:58:19.779Z"
   },
   {
    "duration": 20,
    "start_time": "2022-05-31T20:58:19.946Z"
   },
   {
    "duration": 406,
    "start_time": "2022-05-31T20:58:19.968Z"
   },
   {
    "duration": 157,
    "start_time": "2022-05-31T20:58:20.376Z"
   },
   {
    "duration": 173,
    "start_time": "2022-05-31T20:58:20.535Z"
   },
   {
    "duration": 15,
    "start_time": "2022-05-31T20:58:20.710Z"
   },
   {
    "duration": 44,
    "start_time": "2022-05-31T20:58:20.726Z"
   },
   {
    "duration": 2,
    "start_time": "2022-05-31T20:58:53.202Z"
   },
   {
    "duration": 140,
    "start_time": "2022-05-31T20:58:55.767Z"
   },
   {
    "duration": 3,
    "start_time": "2022-05-31T20:59:17.920Z"
   },
   {
    "duration": 3,
    "start_time": "2022-05-31T21:00:00.891Z"
   },
   {
    "duration": 162,
    "start_time": "2022-05-31T21:00:02.711Z"
   },
   {
    "duration": 14,
    "start_time": "2022-05-31T21:00:05.396Z"
   },
   {
    "duration": 94,
    "start_time": "2022-05-31T21:00:33.527Z"
   },
   {
    "duration": 5,
    "start_time": "2022-05-31T21:00:33.624Z"
   },
   {
    "duration": 20,
    "start_time": "2022-05-31T21:00:33.630Z"
   },
   {
    "duration": 32,
    "start_time": "2022-05-31T21:00:33.655Z"
   },
   {
    "duration": 32,
    "start_time": "2022-05-31T21:00:33.689Z"
   },
   {
    "duration": 89,
    "start_time": "2022-05-31T21:00:33.723Z"
   },
   {
    "duration": 12,
    "start_time": "2022-05-31T21:00:33.814Z"
   },
   {
    "duration": 4,
    "start_time": "2022-05-31T21:00:33.828Z"
   },
   {
    "duration": 8,
    "start_time": "2022-05-31T21:00:33.855Z"
   },
   {
    "duration": 6,
    "start_time": "2022-05-31T21:00:33.866Z"
   },
   {
    "duration": 9,
    "start_time": "2022-05-31T21:00:33.874Z"
   },
   {
    "duration": 11,
    "start_time": "2022-05-31T21:00:33.885Z"
   },
   {
    "duration": 8,
    "start_time": "2022-05-31T21:00:33.898Z"
   },
   {
    "duration": 13,
    "start_time": "2022-05-31T21:00:33.908Z"
   },
   {
    "duration": 33,
    "start_time": "2022-05-31T21:00:33.922Z"
   },
   {
    "duration": 6,
    "start_time": "2022-05-31T21:00:33.957Z"
   },
   {
    "duration": 6,
    "start_time": "2022-05-31T21:00:33.964Z"
   },
   {
    "duration": 9,
    "start_time": "2022-05-31T21:00:33.971Z"
   },
   {
    "duration": 7,
    "start_time": "2022-05-31T21:00:33.981Z"
   },
   {
    "duration": 15,
    "start_time": "2022-05-31T21:00:33.989Z"
   },
   {
    "duration": 49,
    "start_time": "2022-05-31T21:00:34.006Z"
   },
   {
    "duration": 10,
    "start_time": "2022-05-31T21:00:34.057Z"
   },
   {
    "duration": 11,
    "start_time": "2022-05-31T21:00:34.069Z"
   },
   {
    "duration": 13,
    "start_time": "2022-05-31T21:00:34.081Z"
   },
   {
    "duration": 19,
    "start_time": "2022-05-31T21:00:34.096Z"
   },
   {
    "duration": 40,
    "start_time": "2022-05-31T21:00:34.117Z"
   },
   {
    "duration": 15,
    "start_time": "2022-05-31T21:00:34.158Z"
   },
   {
    "duration": 306,
    "start_time": "2022-05-31T21:00:34.177Z"
   },
   {
    "duration": 466,
    "start_time": "2022-05-31T21:00:34.485Z"
   },
   {
    "duration": 9,
    "start_time": "2022-05-31T21:00:34.954Z"
   },
   {
    "duration": 677,
    "start_time": "2022-05-31T21:00:34.964Z"
   },
   {
    "duration": 269,
    "start_time": "2022-05-31T21:00:35.642Z"
   },
   {
    "duration": 123,
    "start_time": "2022-05-31T21:00:35.912Z"
   },
   {
    "duration": 22,
    "start_time": "2022-05-31T21:00:36.037Z"
   },
   {
    "duration": 229,
    "start_time": "2022-05-31T21:00:36.061Z"
   },
   {
    "duration": 3,
    "start_time": "2022-05-31T21:00:36.292Z"
   },
   {
    "duration": 10,
    "start_time": "2022-05-31T21:00:36.297Z"
   },
   {
    "duration": 11,
    "start_time": "2022-05-31T21:00:36.309Z"
   },
   {
    "duration": 7,
    "start_time": "2022-05-31T21:00:36.322Z"
   },
   {
    "duration": 14,
    "start_time": "2022-05-31T21:00:36.331Z"
   },
   {
    "duration": 16,
    "start_time": "2022-05-31T21:00:36.347Z"
   },
   {
    "duration": 12,
    "start_time": "2022-05-31T21:00:36.365Z"
   },
   {
    "duration": 7,
    "start_time": "2022-05-31T21:00:36.378Z"
   },
   {
    "duration": 8,
    "start_time": "2022-05-31T21:00:36.386Z"
   },
   {
    "duration": 11,
    "start_time": "2022-05-31T21:00:36.395Z"
   },
   {
    "duration": 778,
    "start_time": "2022-05-31T21:00:36.408Z"
   },
   {
    "duration": 34,
    "start_time": "2022-05-31T21:00:37.187Z"
   },
   {
    "duration": 56,
    "start_time": "2022-05-31T21:00:37.222Z"
   },
   {
    "duration": 4,
    "start_time": "2022-05-31T21:00:37.280Z"
   },
   {
    "duration": 296,
    "start_time": "2022-05-31T21:00:37.285Z"
   },
   {
    "duration": 15,
    "start_time": "2022-05-31T21:00:37.583Z"
   },
   {
    "duration": 103,
    "start_time": "2022-05-31T21:00:37.601Z"
   },
   {
    "duration": 2318,
    "start_time": "2022-05-31T21:00:37.706Z"
   },
   {
    "duration": 563,
    "start_time": "2022-05-31T21:00:40.026Z"
   },
   {
    "duration": 318,
    "start_time": "2022-05-31T21:00:40.591Z"
   },
   {
    "duration": 6,
    "start_time": "2022-05-31T21:00:40.911Z"
   },
   {
    "duration": 433,
    "start_time": "2022-05-31T21:00:40.918Z"
   },
   {
    "duration": 216,
    "start_time": "2022-05-31T21:00:41.354Z"
   },
   {
    "duration": 192,
    "start_time": "2022-05-31T21:00:41.572Z"
   },
   {
    "duration": 177,
    "start_time": "2022-05-31T21:00:41.765Z"
   },
   {
    "duration": 164,
    "start_time": "2022-05-31T21:00:41.944Z"
   },
   {
    "duration": 3,
    "start_time": "2022-05-31T21:00:42.110Z"
   },
   {
    "duration": 31,
    "start_time": "2022-05-31T21:00:42.115Z"
   },
   {
    "duration": 25,
    "start_time": "2022-05-31T21:00:42.154Z"
   },
   {
    "duration": 196,
    "start_time": "2022-05-31T21:00:42.181Z"
   },
   {
    "duration": 15,
    "start_time": "2022-05-31T21:00:42.378Z"
   },
   {
    "duration": 15,
    "start_time": "2022-05-31T21:00:42.395Z"
   },
   {
    "duration": 12,
    "start_time": "2022-05-31T21:00:42.411Z"
   },
   {
    "duration": 135,
    "start_time": "2022-05-31T21:00:42.425Z"
   },
   {
    "duration": 203,
    "start_time": "2022-05-31T21:00:42.561Z"
   },
   {
    "duration": 8,
    "start_time": "2022-05-31T21:00:42.766Z"
   },
   {
    "duration": 364,
    "start_time": "2022-05-31T21:00:42.776Z"
   },
   {
    "duration": 193,
    "start_time": "2022-05-31T21:00:43.141Z"
   },
   {
    "duration": 184,
    "start_time": "2022-05-31T21:00:43.335Z"
   },
   {
    "duration": 16,
    "start_time": "2022-05-31T21:00:43.521Z"
   },
   {
    "duration": 25,
    "start_time": "2022-05-31T21:00:43.555Z"
   },
   {
    "duration": 4,
    "start_time": "2022-05-31T21:15:18.000Z"
   },
   {
    "duration": 32,
    "start_time": "2022-05-31T21:35:36.999Z"
   },
   {
    "duration": 74,
    "start_time": "2022-05-31T21:37:12.509Z"
   },
   {
    "duration": 6,
    "start_time": "2022-05-31T21:37:15.976Z"
   },
   {
    "duration": 8,
    "start_time": "2022-05-31T21:37:28.292Z"
   },
   {
    "duration": 8,
    "start_time": "2022-05-31T21:37:44.580Z"
   },
   {
    "duration": 7,
    "start_time": "2022-05-31T21:37:49.102Z"
   },
   {
    "duration": 7,
    "start_time": "2022-05-31T21:37:53.370Z"
   },
   {
    "duration": 13,
    "start_time": "2022-05-31T21:38:14.088Z"
   },
   {
    "duration": 16,
    "start_time": "2022-05-31T21:38:34.869Z"
   },
   {
    "duration": 19,
    "start_time": "2022-05-31T21:39:15.359Z"
   },
   {
    "duration": 20,
    "start_time": "2022-05-31T21:39:20.654Z"
   },
   {
    "duration": 26,
    "start_time": "2022-05-31T21:40:56.505Z"
   },
   {
    "duration": 33,
    "start_time": "2022-05-31T21:41:02.207Z"
   },
   {
    "duration": 31,
    "start_time": "2022-05-31T21:41:45.400Z"
   },
   {
    "duration": 35,
    "start_time": "2022-05-31T21:41:50.305Z"
   },
   {
    "duration": 6,
    "start_time": "2022-05-31T21:43:12.759Z"
   },
   {
    "duration": 12,
    "start_time": "2022-05-31T21:43:19.630Z"
   },
   {
    "duration": 7,
    "start_time": "2022-05-31T21:43:25.148Z"
   },
   {
    "duration": 6,
    "start_time": "2022-05-31T21:43:30.335Z"
   },
   {
    "duration": 5,
    "start_time": "2022-05-31T21:43:39.630Z"
   },
   {
    "duration": 42,
    "start_time": "2022-05-31T21:44:01.314Z"
   },
   {
    "duration": 31,
    "start_time": "2022-05-31T21:44:06.338Z"
   },
   {
    "duration": 757,
    "start_time": "2022-05-31T21:47:51.851Z"
   },
   {
    "duration": 5,
    "start_time": "2022-05-31T21:47:52.610Z"
   },
   {
    "duration": 5,
    "start_time": "2022-05-31T21:47:52.616Z"
   },
   {
    "duration": 36,
    "start_time": "2022-05-31T21:47:52.622Z"
   },
   {
    "duration": 12,
    "start_time": "2022-05-31T21:47:52.660Z"
   },
   {
    "duration": 89,
    "start_time": "2022-05-31T21:47:52.673Z"
   },
   {
    "duration": 12,
    "start_time": "2022-05-31T21:47:52.763Z"
   },
   {
    "duration": 4,
    "start_time": "2022-05-31T21:47:52.777Z"
   },
   {
    "duration": 7,
    "start_time": "2022-05-31T21:47:52.783Z"
   },
   {
    "duration": 5,
    "start_time": "2022-05-31T21:47:52.792Z"
   },
   {
    "duration": 8,
    "start_time": "2022-05-31T21:47:52.798Z"
   },
   {
    "duration": 26,
    "start_time": "2022-05-31T21:47:52.808Z"
   },
   {
    "duration": 25,
    "start_time": "2022-05-31T21:47:52.835Z"
   },
   {
    "duration": 6,
    "start_time": "2022-05-31T21:47:52.863Z"
   },
   {
    "duration": 8,
    "start_time": "2022-05-31T21:47:52.870Z"
   },
   {
    "duration": 5,
    "start_time": "2022-05-31T21:47:52.880Z"
   },
   {
    "duration": 3,
    "start_time": "2022-05-31T21:47:52.887Z"
   },
   {
    "duration": 8,
    "start_time": "2022-05-31T21:47:52.892Z"
   },
   {
    "duration": 8,
    "start_time": "2022-05-31T21:47:52.902Z"
   },
   {
    "duration": 48,
    "start_time": "2022-05-31T21:47:52.911Z"
   },
   {
    "duration": 11,
    "start_time": "2022-05-31T21:47:52.960Z"
   },
   {
    "duration": 8,
    "start_time": "2022-05-31T21:47:52.973Z"
   },
   {
    "duration": 21,
    "start_time": "2022-05-31T21:47:52.982Z"
   },
   {
    "duration": 15,
    "start_time": "2022-05-31T21:47:53.004Z"
   },
   {
    "duration": 20,
    "start_time": "2022-05-31T21:47:53.021Z"
   },
   {
    "duration": 4,
    "start_time": "2022-05-31T21:47:53.055Z"
   },
   {
    "duration": 39,
    "start_time": "2022-05-31T21:47:53.060Z"
   },
   {
    "duration": 6,
    "start_time": "2022-05-31T21:47:53.101Z"
   },
   {
    "duration": 23,
    "start_time": "2022-05-31T21:47:53.108Z"
   },
   {
    "duration": 303,
    "start_time": "2022-05-31T21:47:53.133Z"
   },
   {
    "duration": 459,
    "start_time": "2022-05-31T21:47:53.437Z"
   },
   {
    "duration": 9,
    "start_time": "2022-05-31T21:47:53.897Z"
   },
   {
    "duration": 505,
    "start_time": "2022-05-31T21:47:53.908Z"
   },
   {
    "duration": 308,
    "start_time": "2022-05-31T21:47:54.414Z"
   },
   {
    "duration": 117,
    "start_time": "2022-05-31T21:47:54.723Z"
   },
   {
    "duration": 21,
    "start_time": "2022-05-31T21:47:54.841Z"
   },
   {
    "duration": 204,
    "start_time": "2022-05-31T21:47:54.863Z"
   },
   {
    "duration": 3,
    "start_time": "2022-05-31T21:47:55.069Z"
   },
   {
    "duration": 6,
    "start_time": "2022-05-31T21:47:55.074Z"
   },
   {
    "duration": 5,
    "start_time": "2022-05-31T21:47:55.082Z"
   },
   {
    "duration": 5,
    "start_time": "2022-05-31T21:47:55.091Z"
   },
   {
    "duration": 9,
    "start_time": "2022-05-31T21:47:55.098Z"
   },
   {
    "duration": 12,
    "start_time": "2022-05-31T21:47:55.109Z"
   },
   {
    "duration": 14,
    "start_time": "2022-05-31T21:47:55.122Z"
   },
   {
    "duration": 12,
    "start_time": "2022-05-31T21:47:55.138Z"
   },
   {
    "duration": 6,
    "start_time": "2022-05-31T21:47:55.152Z"
   },
   {
    "duration": 8,
    "start_time": "2022-05-31T21:47:55.159Z"
   },
   {
    "duration": 714,
    "start_time": "2022-05-31T21:47:55.169Z"
   },
   {
    "duration": 31,
    "start_time": "2022-05-31T21:47:55.885Z"
   },
   {
    "duration": 54,
    "start_time": "2022-05-31T21:47:55.918Z"
   },
   {
    "duration": 2,
    "start_time": "2022-05-31T21:47:55.974Z"
   },
   {
    "duration": 143,
    "start_time": "2022-05-31T21:47:55.978Z"
   },
   {
    "duration": 13,
    "start_time": "2022-05-31T21:47:56.123Z"
   },
   {
    "duration": 76,
    "start_time": "2022-05-31T21:47:56.137Z"
   },
   {
    "duration": 2067,
    "start_time": "2022-05-31T21:47:56.214Z"
   },
   {
    "duration": 393,
    "start_time": "2022-05-31T21:47:58.282Z"
   },
   {
    "duration": 392,
    "start_time": "2022-05-31T21:47:58.676Z"
   },
   {
    "duration": 5,
    "start_time": "2022-05-31T21:47:59.070Z"
   },
   {
    "duration": 421,
    "start_time": "2022-05-31T21:47:59.076Z"
   },
   {
    "duration": 158,
    "start_time": "2022-05-31T21:47:59.499Z"
   },
   {
    "duration": 163,
    "start_time": "2022-05-31T21:47:59.659Z"
   },
   {
    "duration": 161,
    "start_time": "2022-05-31T21:47:59.823Z"
   },
   {
    "duration": 151,
    "start_time": "2022-05-31T21:47:59.985Z"
   },
   {
    "duration": 4,
    "start_time": "2022-05-31T21:48:00.137Z"
   },
   {
    "duration": 70,
    "start_time": "2022-05-31T21:48:00.142Z"
   },
   {
    "duration": 24,
    "start_time": "2022-05-31T21:48:00.213Z"
   },
   {
    "duration": 213,
    "start_time": "2022-05-31T21:48:00.238Z"
   },
   {
    "duration": 15,
    "start_time": "2022-05-31T21:48:00.455Z"
   },
   {
    "duration": 17,
    "start_time": "2022-05-31T21:48:00.472Z"
   },
   {
    "duration": 13,
    "start_time": "2022-05-31T21:48:00.491Z"
   },
   {
    "duration": 27,
    "start_time": "2022-05-31T21:48:00.506Z"
   },
   {
    "duration": 192,
    "start_time": "2022-05-31T21:48:00.535Z"
   },
   {
    "duration": 8,
    "start_time": "2022-05-31T21:48:00.729Z"
   },
   {
    "duration": 427,
    "start_time": "2022-05-31T21:48:00.738Z"
   },
   {
    "duration": 180,
    "start_time": "2022-05-31T21:48:01.167Z"
   },
   {
    "duration": 227,
    "start_time": "2022-05-31T21:48:01.349Z"
   },
   {
    "duration": 21,
    "start_time": "2022-05-31T21:48:01.578Z"
   },
   {
    "duration": 56,
    "start_time": "2022-05-31T21:48:01.600Z"
   },
   {
    "duration": 72,
    "start_time": "2022-06-01T16:36:23.160Z"
   },
   {
    "duration": 875,
    "start_time": "2022-06-01T16:36:31.542Z"
   },
   {
    "duration": 5,
    "start_time": "2022-06-01T16:36:32.419Z"
   },
   {
    "duration": 11,
    "start_time": "2022-06-01T16:36:32.426Z"
   },
   {
    "duration": 38,
    "start_time": "2022-06-01T16:36:32.440Z"
   },
   {
    "duration": 15,
    "start_time": "2022-06-01T16:36:32.479Z"
   },
   {
    "duration": 102,
    "start_time": "2022-06-01T16:36:32.495Z"
   },
   {
    "duration": 12,
    "start_time": "2022-06-01T16:36:32.598Z"
   },
   {
    "duration": 14,
    "start_time": "2022-06-01T16:36:32.612Z"
   },
   {
    "duration": 15,
    "start_time": "2022-06-01T16:36:32.628Z"
   },
   {
    "duration": 6,
    "start_time": "2022-06-01T16:36:32.646Z"
   },
   {
    "duration": 9,
    "start_time": "2022-06-01T16:36:32.654Z"
   },
   {
    "duration": 15,
    "start_time": "2022-06-01T16:36:32.665Z"
   },
   {
    "duration": 9,
    "start_time": "2022-06-01T16:36:32.682Z"
   },
   {
    "duration": 30,
    "start_time": "2022-06-01T16:36:32.693Z"
   },
   {
    "duration": 7,
    "start_time": "2022-06-01T16:36:32.725Z"
   },
   {
    "duration": 7,
    "start_time": "2022-06-01T16:36:32.733Z"
   },
   {
    "duration": 4,
    "start_time": "2022-06-01T16:36:32.742Z"
   },
   {
    "duration": 13,
    "start_time": "2022-06-01T16:36:32.748Z"
   },
   {
    "duration": 10,
    "start_time": "2022-06-01T16:36:32.763Z"
   },
   {
    "duration": 13,
    "start_time": "2022-06-01T16:36:32.774Z"
   },
   {
    "duration": 50,
    "start_time": "2022-06-01T16:36:32.789Z"
   },
   {
    "duration": 14,
    "start_time": "2022-06-01T16:36:32.842Z"
   },
   {
    "duration": 21,
    "start_time": "2022-06-01T16:36:32.858Z"
   },
   {
    "duration": 20,
    "start_time": "2022-06-01T16:36:32.881Z"
   },
   {
    "duration": 50,
    "start_time": "2022-06-01T16:36:32.903Z"
   },
   {
    "duration": 7,
    "start_time": "2022-06-01T16:36:32.955Z"
   },
   {
    "duration": 60,
    "start_time": "2022-06-01T16:36:32.966Z"
   },
   {
    "duration": 8,
    "start_time": "2022-06-01T16:36:33.034Z"
   },
   {
    "duration": 32,
    "start_time": "2022-06-01T16:36:33.044Z"
   },
   {
    "duration": 325,
    "start_time": "2022-06-01T16:36:33.079Z"
   },
   {
    "duration": 534,
    "start_time": "2022-06-01T16:36:33.405Z"
   },
   {
    "duration": 14,
    "start_time": "2022-06-01T16:36:33.955Z"
   },
   {
    "duration": 685,
    "start_time": "2022-06-01T16:36:33.971Z"
   },
   {
    "duration": 9,
    "start_time": "2022-06-01T16:36:34.658Z"
   },
   {
    "duration": 311,
    "start_time": "2022-06-01T16:36:34.669Z"
   },
   {
    "duration": 128,
    "start_time": "2022-06-01T16:36:34.982Z"
   },
   {
    "duration": 21,
    "start_time": "2022-06-01T16:36:35.111Z"
   },
   {
    "duration": 258,
    "start_time": "2022-06-01T16:36:35.134Z"
   },
   {
    "duration": 3,
    "start_time": "2022-06-01T16:36:35.394Z"
   },
   {
    "duration": 11,
    "start_time": "2022-06-01T16:36:35.398Z"
   },
   {
    "duration": 20,
    "start_time": "2022-06-01T16:36:35.410Z"
   },
   {
    "duration": 28,
    "start_time": "2022-06-01T16:36:35.432Z"
   },
   {
    "duration": 18,
    "start_time": "2022-06-01T16:36:35.462Z"
   },
   {
    "duration": 18,
    "start_time": "2022-06-01T16:36:35.481Z"
   },
   {
    "duration": 20,
    "start_time": "2022-06-01T16:36:35.500Z"
   },
   {
    "duration": 30,
    "start_time": "2022-06-01T16:36:35.521Z"
   },
   {
    "duration": 11,
    "start_time": "2022-06-01T16:36:35.553Z"
   },
   {
    "duration": 6,
    "start_time": "2022-06-01T16:36:35.566Z"
   },
   {
    "duration": 1386,
    "start_time": "2022-06-01T16:36:35.574Z"
   },
   {
    "duration": 90,
    "start_time": "2022-06-01T16:36:36.962Z"
   },
   {
    "duration": 96,
    "start_time": "2022-06-01T16:36:37.053Z"
   },
   {
    "duration": 3,
    "start_time": "2022-06-01T16:36:37.151Z"
   },
   {
    "duration": 192,
    "start_time": "2022-06-01T16:36:37.155Z"
   },
   {
    "duration": 14,
    "start_time": "2022-06-01T16:36:37.349Z"
   },
   {
    "duration": 95,
    "start_time": "2022-06-01T16:36:37.365Z"
   },
   {
    "duration": 2399,
    "start_time": "2022-06-01T16:36:37.463Z"
   },
   {
    "duration": 452,
    "start_time": "2022-06-01T16:36:39.864Z"
   },
   {
    "duration": 464,
    "start_time": "2022-06-01T16:36:40.322Z"
   },
   {
    "duration": 5,
    "start_time": "2022-06-01T16:36:40.787Z"
   },
   {
    "duration": 403,
    "start_time": "2022-06-01T16:36:40.794Z"
   },
   {
    "duration": 181,
    "start_time": "2022-06-01T16:36:41.198Z"
   },
   {
    "duration": 210,
    "start_time": "2022-06-01T16:36:41.380Z"
   },
   {
    "duration": 203,
    "start_time": "2022-06-01T16:36:41.592Z"
   },
   {
    "duration": 172,
    "start_time": "2022-06-01T16:36:41.797Z"
   },
   {
    "duration": 4,
    "start_time": "2022-06-01T16:36:41.971Z"
   },
   {
    "duration": 78,
    "start_time": "2022-06-01T16:36:41.976Z"
   },
   {
    "duration": 25,
    "start_time": "2022-06-01T16:36:42.056Z"
   },
   {
    "duration": 216,
    "start_time": "2022-06-01T16:36:42.083Z"
   },
   {
    "duration": 23,
    "start_time": "2022-06-01T16:36:42.301Z"
   },
   {
    "duration": 18,
    "start_time": "2022-06-01T16:36:42.326Z"
   },
   {
    "duration": 11,
    "start_time": "2022-06-01T16:36:42.346Z"
   },
   {
    "duration": 18,
    "start_time": "2022-06-01T16:36:42.359Z"
   },
   {
    "duration": 210,
    "start_time": "2022-06-01T16:36:42.379Z"
   },
   {
    "duration": 11,
    "start_time": "2022-06-01T16:36:42.591Z"
   },
   {
    "duration": 547,
    "start_time": "2022-06-01T16:36:42.603Z"
   },
   {
    "duration": 170,
    "start_time": "2022-06-01T16:36:43.152Z"
   },
   {
    "duration": 193,
    "start_time": "2022-06-01T16:36:43.324Z"
   },
   {
    "duration": 23,
    "start_time": "2022-06-01T16:36:43.522Z"
   },
   {
    "duration": 28,
    "start_time": "2022-06-01T16:36:43.547Z"
   }
  ],
  "kernelspec": {
   "display_name": "Python 3 (ipykernel)",
   "language": "python",
   "name": "python3"
  },
  "language_info": {
   "codemirror_mode": {
    "name": "ipython",
    "version": 3
   },
   "file_extension": ".py",
   "mimetype": "text/x-python",
   "name": "python",
   "nbconvert_exporter": "python",
   "pygments_lexer": "ipython3",
   "version": "3.9.12"
  },
  "toc": {
   "base_numbering": 1,
   "nav_menu": {},
   "number_sections": false,
   "sideBar": true,
   "skip_h1_title": true,
   "title_cell": "Содержание",
   "title_sidebar": "Contents",
   "toc_cell": false,
   "toc_position": {},
   "toc_section_display": true,
   "toc_window_display": false
  }
 },
 "nbformat": 4,
 "nbformat_minor": 4
}
